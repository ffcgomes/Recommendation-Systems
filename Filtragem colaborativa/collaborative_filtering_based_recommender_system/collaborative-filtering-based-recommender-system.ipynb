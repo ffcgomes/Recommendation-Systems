{
  "nbformat": 4,
  "nbformat_minor": 0,
  "metadata": {
    "kernelspec": {
      "display_name": "Python 3",
      "language": "python",
      "name": "python3"
    },
    "language_info": {
      "codemirror_mode": {
        "name": "ipython",
        "version": 3
      },
      "file_extension": ".py",
      "mimetype": "text/x-python",
      "name": "python",
      "nbconvert_exporter": "python",
      "pygments_lexer": "ipython3",
      "version": "3.7.5"
    },
    "toc": {
      "base_numbering": 1,
      "nav_menu": {},
      "number_sections": false,
      "sideBar": true,
      "skip_h1_title": false,
      "title_cell": "Table of Contents",
      "title_sidebar": "Contents",
      "toc_cell": true,
      "toc_position": {
        "height": "calc(100% - 180px)",
        "left": "10px",
        "top": "150px",
        "width": "165px"
      },
      "toc_section_display": true,
      "toc_window_display": true
    },
    "colab": {
      "name": "collaborative-filtering-based-recommender-system.ipynb",
      "provenance": []
    }
  },
  "cells": [
    {
      "cell_type": "markdown",
      "metadata": {
        "toc": true,
        "id": "jgrNDb0xCTK6"
      },
      "source": [
        "<h1>Table of Contents<span class=\"tocSkip\"></span></h1>\n",
        "<div class=\"toc\"><ul class=\"toc-item\"><li><span><a href=\"#Import-the-necessary-libraries\" data-toc-modified-id=\"Import-the-necessary-libraries-1\">Import the necessary libraries</a></span></li><li><span><a href=\"#Read-the-data-as-a-data-frame\" data-toc-modified-id=\"Read-the-data-as-a-data-frame-2\">Read the data as a data frame</a></span></li><li><span><a href=\"#Attributes-and-Information\" data-toc-modified-id=\"Attributes-and-Information-3\">Attributes and Information</a></span></li><li><span><a href=\"#Perform-basic-EDA\" data-toc-modified-id=\"Perform-basic-EDA-4\">Perform basic EDA</a></span><ul class=\"toc-item\"><li><span><a href=\"#a.-Drop-'timestamp'-attribute\" data-toc-modified-id=\"a.-Drop-'timestamp'-attribute-4.1\">a. Drop 'timestamp' attribute</a></span></li><li><span><a href=\"#b.-Create-subset-of-the-original-dataset\" data-toc-modified-id=\"b.-Create-subset-of-the-original-dataset-4.2\">b. Create subset of the original dataset</a></span></li><li><span><a href=\"#c.-Shape-of-the-data\" data-toc-modified-id=\"c.-Shape-of-the-data-4.3\">c. Shape of the data</a></span></li><li><span><a href=\"#d.-Data-type-of-each-attribute\" data-toc-modified-id=\"d.-Data-type-of-each-attribute-4.4\">d. Data type of each attribute</a></span></li><li><span><a href=\"#e.-Checking-the-presence-of-missing-values\" data-toc-modified-id=\"e.-Checking-the-presence-of-missing-values-4.5\">e. Checking the presence of missing values</a></span></li><li><span><a href=\"#f.-5-point-summary-of-numerical-attributes\" data-toc-modified-id=\"f.-5-point-summary-of-numerical-attributes-4.6\">f. 5 point summary of numerical attributes</a></span><ul class=\"toc-item\"><li><span><a href=\"#Observations\" data-toc-modified-id=\"Observations-4.6.1\">Observations</a></span></li></ul></li><li><span><a href=\"#g.-Unique-Users-and-Products-Count\" data-toc-modified-id=\"g.-Unique-Users-and-Products-Count-4.7\">g. Unique Users and Products Count</a></span></li></ul></li><li><span><a href=\"#Data-Analysis-and-Visualization\" data-toc-modified-id=\"Data-Analysis-and-Visualization-5\">Data Analysis and Visualization</a></span><ul class=\"toc-item\"><li><span><a href=\"#a.-Rating-Distribution\" data-toc-modified-id=\"a.-Rating-Distribution-5.1\">a. Rating Distribution</a></span><ul class=\"toc-item\"><li><span><a href=\"#Observations\" data-toc-modified-id=\"Observations-5.1.1\">Observations</a></span></li><li><span><a href=\"#Observations\" data-toc-modified-id=\"Observations-5.1.2\">Observations</a></span></li></ul></li><li><span><a href=\"#b.-Top-Rating-Count-Distribution-grouped-by-Products\" data-toc-modified-id=\"b.-Top-Rating-Count-Distribution-grouped-by-Products-5.2\">b. Top Rating Count Distribution grouped by Products</a></span><ul class=\"toc-item\"><li><span><a href=\"#Observations\" data-toc-modified-id=\"Observations-5.2.1\">Observations</a></span></li></ul></li><li><span><a href=\"#c.-Top-Rating-Count-Distribution-grouped-by-Users\" data-toc-modified-id=\"c.-Top-Rating-Count-Distribution-grouped-by-Users-5.3\">c. Top Rating Count Distribution grouped by Users</a></span><ul class=\"toc-item\"><li><span><a href=\"#Observations\" data-toc-modified-id=\"Observations-5.3.1\">Observations</a></span></li></ul></li><li><span><a href=\"#d.-Mean-Rating-Distribution-grouped-by-Products\" data-toc-modified-id=\"d.-Mean-Rating-Distribution-grouped-by-Products-5.4\">d. Mean Rating Distribution grouped by Products</a></span><ul class=\"toc-item\"><li><span><a href=\"#Observations\" data-toc-modified-id=\"Observations-5.4.1\">Observations</a></span></li></ul></li><li><span><a href=\"#e.-Mean-Rating---Rating-Count-Distribution-grouped-by-Products\" data-toc-modified-id=\"e.-Mean-Rating---Rating-Count-Distribution-grouped-by-Products-5.5\">e. Mean Rating - Rating Count Distribution grouped by Products</a></span><ul class=\"toc-item\"><li><span><a href=\"#Observations\" data-toc-modified-id=\"Observations-5.5.1\">Observations</a></span></li></ul></li><li><span><a href=\"#f.-Mean-Rating-Distribution-grouped-by-Users\" data-toc-modified-id=\"f.-Mean-Rating-Distribution-grouped-by-Users-5.6\">f. Mean Rating Distribution grouped by Users</a></span><ul class=\"toc-item\"><li><span><a href=\"#Observations\" data-toc-modified-id=\"Observations-5.6.1\">Observations</a></span></li></ul></li><li><span><a href=\"#g.-Mean-Rating---Rating-Count-Distribution-grouped-by-Users\" data-toc-modified-id=\"g.-Mean-Rating---Rating-Count-Distribution-grouped-by-Users-5.7\">g. Mean Rating - Rating Count Distribution grouped by Users</a></span><ul class=\"toc-item\"><li><span><a href=\"#Observations\" data-toc-modified-id=\"Observations-5.7.1\">Observations</a></span></li></ul></li></ul></li><li><span><a href=\"#Split-the-data-into-training-and-test-set-in-the-ratio-of-70:30-respectively\" data-toc-modified-id=\"Split-the-data-into-training-and-test-set-in-the-ratio-of-70:30-respectively-6\">Split the data into training and test set in the ratio of 70:30 respectively</a></span></li><li><span><a href=\"#Recommender-Systems\" data-toc-modified-id=\"Recommender-Systems-7\">Recommender Systems</a></span><ul class=\"toc-item\"><li><span><a href=\"#a.-Popularity-Based-Recommender-Model\" data-toc-modified-id=\"a.-Popularity-Based-Recommender-Model-7.1\">a. Popularity Based Recommender Model</a></span><ul class=\"toc-item\"><li><span><a href=\"#Initialize\" data-toc-modified-id=\"Initialize-7.1.1\">Initialize</a></span></li><li><span><a href=\"#Fit\" data-toc-modified-id=\"Fit-7.1.2\">Fit</a></span></li><li><span><a href=\"#Recommend\" data-toc-modified-id=\"Recommend-7.1.3\">Recommend</a></span></li><li><span><a href=\"#Observations\" data-toc-modified-id=\"Observations-7.1.4\">Observations</a></span></li></ul></li><li><span><a href=\"#b.-Collaborative-Filtering-Recommender-Model-using-SURPRISE-Library\" data-toc-modified-id=\"b.-Collaborative-Filtering-Recommender-Model-using-SURPRISE-Library-7.2\">b. Collaborative Filtering Recommender Model using SURPRISE Library</a></span><ul class=\"toc-item\"><li><span><a href=\"#Load-Surprise-Data-from-DataFrame\" data-toc-modified-id=\"Load-Surprise-Data-from-DataFrame-7.2.1\">Load Surprise Data from DataFrame</a></span></li><li><span><a href=\"#Split-the-data-into-training-and-test-set-in-the-ratio-of-70:30-respectively\" data-toc-modified-id=\"Split-the-data-into-training-and-test-set-in-the-ratio-of-70:30-respectively-7.2.2\">Split the data into training and test set in the ratio of 70:30 respectively</a></span></li><li><span><a href=\"#KNN-With-Means---Memory-Based-Collaborative-Filtering\" data-toc-modified-id=\"KNN-With-Means---Memory-Based-Collaborative-Filtering-7.2.3\">KNN With Means - Memory Based Collaborative Filtering</a></span><ul class=\"toc-item\"><li><span><a href=\"#Find-optimal-model-using-RandomizedSearchCV\" data-toc-modified-id=\"Find-optimal-model-using-RandomizedSearchCV-7.2.3.1\">Find optimal model using RandomizedSearchCV</a></span></li><li><span><a href=\"#Initialize\" data-toc-modified-id=\"Initialize-7.2.3.2\">Initialize</a></span></li><li><span><a href=\"#Fit-and-Predict\" data-toc-modified-id=\"Fit-and-Predict-7.2.3.3\">Fit and Predict</a></span></li><li><span><a href=\"#Cross-Validate\" data-toc-modified-id=\"Cross-Validate-7.2.3.4\">Cross Validate</a></span></li><li><span><a href=\"#Recommend\" data-toc-modified-id=\"Recommend-7.2.3.5\">Recommend</a></span></li><li><span><a href=\"#Observations\" data-toc-modified-id=\"Observations-7.2.3.6\">Observations</a></span></li></ul></li><li><span><a href=\"#SVD---Model-Based-Collaborative-Filtering\" data-toc-modified-id=\"SVD---Model-Based-Collaborative-Filtering-7.2.4\">SVD - Model Based Collaborative Filtering</a></span><ul class=\"toc-item\"><li><span><a href=\"#Find-optimal-model-using-RandomizedSearchCV\" data-toc-modified-id=\"Find-optimal-model-using-RandomizedSearchCV-7.2.4.1\">Find optimal model using RandomizedSearchCV</a></span></li><li><span><a href=\"#Initialize\" data-toc-modified-id=\"Initialize-7.2.4.2\">Initialize</a></span></li><li><span><a href=\"#Fit-and-Predict\" data-toc-modified-id=\"Fit-and-Predict-7.2.4.3\">Fit and Predict</a></span></li><li><span><a href=\"#Cross-Validate\" data-toc-modified-id=\"Cross-Validate-7.2.4.4\">Cross Validate</a></span></li><li><span><a href=\"#Recommend\" data-toc-modified-id=\"Recommend-7.2.4.5\">Recommend</a></span></li><li><span><a href=\"#Observations\" data-toc-modified-id=\"Observations-7.2.4.6\">Observations</a></span></li></ul></li><li><span><a href=\"#Other-SURPRISE-algorithms\" data-toc-modified-id=\"Other-SURPRISE-algorithms-7.2.5\">Other SURPRISE algorithms</a></span><ul class=\"toc-item\"><li><span><a href=\"#Observations\" data-toc-modified-id=\"Observations-7.2.5.1\">Observations</a></span></li></ul></li></ul></li></ul></li><li><span><a href=\"#Conclusion\" data-toc-modified-id=\"Conclusion-8\">Conclusion</a></span><ul class=\"toc-item\"><li><span><a href=\"#Popularity-Based-Recommendation-Model\" data-toc-modified-id=\"Popularity-Based-Recommendation-Model-8.1\">Popularity Based Recommendation Model</a></span></li><li><span><a href=\"#Collaborative-Filtering-Recommendation-Model\" data-toc-modified-id=\"Collaborative-Filtering-Recommendation-Model-8.2\">Collaborative Filtering Recommendation Model</a></span><ul class=\"toc-item\"><li><span><a href=\"#KNNWithMeans-Model\" data-toc-modified-id=\"KNNWithMeans-Model-8.2.1\">KNNWithMeans Model</a></span></li><li><span><a href=\"#SVD-Model\" data-toc-modified-id=\"SVD-Model-8.2.2\">SVD Model</a></span></li></ul></li></ul></li><li><span><a href=\"#END\" data-toc-modified-id=\"END-9\">END</a></span></li></ul></div>"
      ]
    },
    {
      "cell_type": "markdown",
      "metadata": {
        "id": "vNNd_MCrCTLE"
      },
      "source": [
        "<a id=\"a1\"></a>\n",
        "# Import the necessary libraries"
      ]
    },
    {
      "cell_type": "code",
      "metadata": {
        "trusted": true,
        "id": "mYqHAUj1CTLG"
      },
      "source": [
        "import warnings\n",
        "warnings.filterwarnings('ignore')\n",
        "import numpy as np\n",
        "import pandas as pd\n",
        "import pandas_profiling \n",
        "import matplotlib.pyplot as plt\n",
        "import seaborn as sns\n",
        "sns.set_color_codes()\n",
        "sns.set(style=\"whitegrid\")\n",
        "%matplotlib inline\n",
        "from scipy.stats import zscore\n",
        "from sklearn import metrics\n",
        "from sklearn.model_selection import train_test_split\n",
        "from sklearn.model_selection import KFold\n",
        "from sklearn.model_selection import cross_val_score\n",
        "from sklearn.decomposition import PCA\n",
        "from sklearn.preprocessing import StandardScaler\n",
        "from sklearn.metrics import mean_squared_error\n",
        "from math import sqrt\n",
        "\n",
        "import requests\n",
        "from io import StringIO\n",
        "\n",
        "#setting up for customized printing\n",
        "from IPython.display import Markdown, display\n",
        "from IPython.display import HTML\n",
        "def printmd(string, color=None):\n",
        "    colorstr = \"<span style='color:{}'>{}</span>\".format(color, string)\n",
        "    display(Markdown(colorstr))\n",
        "    \n",
        "#function to display dataframes side by side    \n",
        "from IPython.display import display_html\n",
        "def display_side_by_side(args):\n",
        "    html_str=''\n",
        "    for df in args:\n",
        "        html_str+=df.to_html()\n",
        "    display_html(html_str.replace('table','table style=\"display:inline;margin-left:50px !important;margin-right: 40px !important\"'),raw=True)"
      ],
      "execution_count": 1,
      "outputs": []
    },
    {
      "cell_type": "code",
      "metadata": {
        "trusted": true,
        "id": "o-JNgWSXCTLH"
      },
      "source": [
        "def distplot(figRows,figCols,xSize, ySize, data, features, colors, kde=True, bins=None):\n",
        "    f, axes = plt.subplots(figRows, figCols, figsize=(xSize, ySize))\n",
        "    \n",
        "    features = np.array(features).reshape(figRows, figCols)\n",
        "    colors = np.array(colors).reshape(figRows, figCols)\n",
        "    \n",
        "    for row in range(figRows):\n",
        "        for col in range(figCols):\n",
        "            if (figRows == 1 and figCols == 1) :\n",
        "                axesplt = axes\n",
        "            elif (figRows == 1 and figCols > 1) :\n",
        "                axesplt = axes[col]\n",
        "            elif (figRows > 1 and figCols == 1) :\n",
        "                axesplt = axes[row]\n",
        "            else:\n",
        "                axesplt = axes[row][col]\n",
        "            plot = sns.distplot(data[features[row][col]], color=colors[row][col], bins=bins, ax=axesplt, kde=kde, hist_kws={\"edgecolor\":\"k\"})\n",
        "            plot.set_xlabel(features[row][col],fontsize=20)"
      ],
      "execution_count": 2,
      "outputs": []
    },
    {
      "cell_type": "code",
      "metadata": {
        "trusted": true,
        "id": "eIjT_ayZCTLI"
      },
      "source": [
        "def scatterplot(rowFeature, colFeature, data):\n",
        "    f, axes = plt.subplots(1, 1, figsize=(10, 8))\n",
        "        \n",
        "    plot=sns.scatterplot(x=rowFeature, y=colFeature, data=data, ax=axes)\n",
        "    plot.set_xlabel(rowFeature,fontsize=20)\n",
        "    plot.set_ylabel(colFeature,fontsize=20)            "
      ],
      "execution_count": 3,
      "outputs": []
    },
    {
      "cell_type": "markdown",
      "metadata": {
        "id": "uuJs6QCpCTLJ"
      },
      "source": [
        "<a id=\"a2\"></a>\n",
        "# Read the data as a data frame"
      ]
    },
    {
      "cell_type": "code",
      "metadata": {
        "trusted": true,
        "id": "4punh5npCTLK"
      },
      "source": [
        "# orig_url='https://drive.google.com/file/d/1ClBptsK3V5KgKXtK2GSRzFNAW7GnTPDW/view?usp=sharing'\n",
        "# file_id = orig_url.split('/')[-2]\n",
        "# file_id"
      ],
      "execution_count": 4,
      "outputs": []
    },
    {
      "cell_type": "code",
      "metadata": {
        "trusted": true,
        "id": "4CN-Wz_vCTLK"
      },
      "source": [
        "# dwn_url='http://drive.google.com/uc?export=download&confirm=pAkV&id=' + file_id\n",
        "# url = requests.get(dwn_url)\n",
        "# url.text"
      ],
      "execution_count": 5,
      "outputs": []
    },
    {
      "cell_type": "code",
      "metadata": {
        "trusted": true,
        "id": "gIUaaiHkCTLL"
      },
      "source": [
        "electronics = pd.read_csv('ratings_Electronics.csv', names=['userId', 'productId', 'Rating','timestamp'], header=None)"
      ],
      "execution_count": 7,
      "outputs": []
    },
    {
      "cell_type": "code",
      "metadata": {
        "trusted": true,
        "colab": {
          "base_uri": "https://localhost:8080/",
          "height": 197
        },
        "id": "1pIYBodyCTLL",
        "outputId": "4d4e5a49-2bc1-4481-f524-457d3d37320f"
      },
      "source": [
        "electronics.head()"
      ],
      "execution_count": 8,
      "outputs": [
        {
          "output_type": "execute_result",
          "data": {
            "text/html": [
              "<div>\n",
              "<style scoped>\n",
              "    .dataframe tbody tr th:only-of-type {\n",
              "        vertical-align: middle;\n",
              "    }\n",
              "\n",
              "    .dataframe tbody tr th {\n",
              "        vertical-align: top;\n",
              "    }\n",
              "\n",
              "    .dataframe thead th {\n",
              "        text-align: right;\n",
              "    }\n",
              "</style>\n",
              "<table border=\"1\" class=\"dataframe\">\n",
              "  <thead>\n",
              "    <tr style=\"text-align: right;\">\n",
              "      <th></th>\n",
              "      <th>userId</th>\n",
              "      <th>productId</th>\n",
              "      <th>Rating</th>\n",
              "      <th>timestamp</th>\n",
              "    </tr>\n",
              "  </thead>\n",
              "  <tbody>\n",
              "    <tr>\n",
              "      <th>0</th>\n",
              "      <td>AKM1MP6P0OYPR</td>\n",
              "      <td>0132793040</td>\n",
              "      <td>5.0</td>\n",
              "      <td>1365811200</td>\n",
              "    </tr>\n",
              "    <tr>\n",
              "      <th>1</th>\n",
              "      <td>A2CX7LUOHB2NDG</td>\n",
              "      <td>0321732944</td>\n",
              "      <td>5.0</td>\n",
              "      <td>1341100800</td>\n",
              "    </tr>\n",
              "    <tr>\n",
              "      <th>2</th>\n",
              "      <td>A2NWSAGRHCP8N5</td>\n",
              "      <td>0439886341</td>\n",
              "      <td>1.0</td>\n",
              "      <td>1367193600</td>\n",
              "    </tr>\n",
              "    <tr>\n",
              "      <th>3</th>\n",
              "      <td>A2WNBOD3WNDNKT</td>\n",
              "      <td>0439886341</td>\n",
              "      <td>3.0</td>\n",
              "      <td>1374451200</td>\n",
              "    </tr>\n",
              "    <tr>\n",
              "      <th>4</th>\n",
              "      <td>A1GI0U4ZRJA8WN</td>\n",
              "      <td>0439886341</td>\n",
              "      <td>1.0</td>\n",
              "      <td>1334707200</td>\n",
              "    </tr>\n",
              "  </tbody>\n",
              "</table>\n",
              "</div>"
            ],
            "text/plain": [
              "           userId   productId  Rating   timestamp\n",
              "0   AKM1MP6P0OYPR  0132793040     5.0  1365811200\n",
              "1  A2CX7LUOHB2NDG  0321732944     5.0  1341100800\n",
              "2  A2NWSAGRHCP8N5  0439886341     1.0  1367193600\n",
              "3  A2WNBOD3WNDNKT  0439886341     3.0  1374451200\n",
              "4  A1GI0U4ZRJA8WN  0439886341     1.0  1334707200"
            ]
          },
          "metadata": {
            "tags": []
          },
          "execution_count": 8
        }
      ]
    },
    {
      "cell_type": "markdown",
      "metadata": {
        "id": "FVvjRQ4gCTLM"
      },
      "source": [
        "<a id=\"a3\"></a>\n",
        "# Attributes and Information"
      ]
    },
    {
      "cell_type": "markdown",
      "metadata": {
        "id": "8NIvrZSqCTLM"
      },
      "source": [
        "1. **userId** : Every user identified with a unique id<br>\n",
        "2. **productId** : Every product identified with a unique id<br>\n",
        "3. **Rating** : Rating of the corresponding product by the corresponding user<br>\n",
        "4. **timestamp** : Time of the rating"
      ]
    },
    {
      "cell_type": "markdown",
      "metadata": {
        "id": "3f70BGDGCTLN"
      },
      "source": [
        "<a id=\"a4\"></a>\n",
        "# Perform basic EDA"
      ]
    },
    {
      "cell_type": "markdown",
      "metadata": {
        "id": "Dknm9zAUCTLN"
      },
      "source": [
        "<a id=\"a4a\"></a>\n",
        "## a. Drop 'timestamp' attribute"
      ]
    },
    {
      "cell_type": "code",
      "metadata": {
        "trusted": false,
        "id": "bzAkVQTFCTLN"
      },
      "source": [
        "electronics.drop('timestamp', axis=1, inplace=True)"
      ],
      "execution_count": 9,
      "outputs": []
    },
    {
      "cell_type": "markdown",
      "metadata": {
        "id": "YhRSHpR6CTLO"
      },
      "source": [
        "<a id=\"a4b\"></a>\n",
        "## b. Create subset of the original dataset"
      ]
    },
    {
      "cell_type": "markdown",
      "metadata": {
        "id": "XiNUQEfjCTLO"
      },
      "source": [
        "**Filtering the users who has given 50 or more number of ratings**"
      ]
    },
    {
      "cell_type": "code",
      "metadata": {
        "trusted": false,
        "id": "Fl4dCHBXCTLO"
      },
      "source": [
        "electronics_groupby_users_Ratings = electronics.groupby('userId')['Rating']\n",
        "electronics_groupby_users_Ratings = pd.DataFrame(electronics_groupby_users_Ratings.count())"
      ],
      "execution_count": 10,
      "outputs": []
    },
    {
      "cell_type": "code",
      "metadata": {
        "trusted": false,
        "id": "obuM6jbaCTLP"
      },
      "source": [
        "user_list_min50_ratings = electronics_groupby_users_Ratings[electronics_groupby_users_Ratings['Rating'] >= 50].index\n",
        "electronics =  electronics[electronics['userId'].isin(user_list_min50_ratings)]"
      ],
      "execution_count": 11,
      "outputs": []
    },
    {
      "cell_type": "markdown",
      "metadata": {
        "id": "8C-YJcOYCTLP"
      },
      "source": [
        "<a id=\"a4c\"></a>\n",
        "## c. Shape of the data"
      ]
    },
    {
      "cell_type": "code",
      "metadata": {
        "trusted": false,
        "colab": {
          "base_uri": "https://localhost:8080/"
        },
        "id": "zqcIeWKmCTLQ",
        "outputId": "e2403ce0-c23a-4df1-958f-34cdaf1795e1"
      },
      "source": [
        "print('The total number of rows :', electronics.shape[0])\n",
        "print('The total number of columns :', electronics.shape[1])"
      ],
      "execution_count": 12,
      "outputs": [
        {
          "output_type": "stream",
          "text": [
            "The total number of rows : 125871\n",
            "The total number of columns : 3\n"
          ],
          "name": "stdout"
        }
      ]
    },
    {
      "cell_type": "markdown",
      "metadata": {
        "id": "EOqEUyk3CTLQ"
      },
      "source": [
        "<a id=\"a4d\"></a>\n",
        "## d. Data type of each attribute"
      ]
    },
    {
      "cell_type": "code",
      "metadata": {
        "trusted": false,
        "colab": {
          "base_uri": "https://localhost:8080/"
        },
        "id": "aiARVH4mCTLQ",
        "outputId": "2c637475-44d2-4068-9a7a-9119b014e14b"
      },
      "source": [
        "electronics.info()"
      ],
      "execution_count": 13,
      "outputs": [
        {
          "output_type": "stream",
          "text": [
            "<class 'pandas.core.frame.DataFrame'>\n",
            "Int64Index: 125871 entries, 94 to 7824444\n",
            "Data columns (total 3 columns):\n",
            " #   Column     Non-Null Count   Dtype  \n",
            "---  ------     --------------   -----  \n",
            " 0   userId     125871 non-null  object \n",
            " 1   productId  125871 non-null  object \n",
            " 2   Rating     125871 non-null  float64\n",
            "dtypes: float64(1), object(2)\n",
            "memory usage: 3.8+ MB\n"
          ],
          "name": "stdout"
        }
      ]
    },
    {
      "cell_type": "markdown",
      "metadata": {
        "id": "1XlCkaoUCTLR"
      },
      "source": [
        "<a id=\"a4e\"></a>\n",
        "## e. Checking the presence of missing values"
      ]
    },
    {
      "cell_type": "code",
      "metadata": {
        "trusted": false,
        "colab": {
          "base_uri": "https://localhost:8080/",
          "height": 134
        },
        "id": "dejN-Fq2CTLR",
        "outputId": "00bed07f-7bd0-4b57-e71c-aeea8cff8c03"
      },
      "source": [
        "display(electronics.isna().sum().sort_values())\n",
        "print('===================')\n",
        "printmd('**CONCLUSION**: As seen from the data above, we conclude there are **\"No Missing\"** values in the data', color=\"blue\")"
      ],
      "execution_count": 14,
      "outputs": [
        {
          "output_type": "display_data",
          "data": {
            "text/plain": [
              "userId       0\n",
              "productId    0\n",
              "Rating       0\n",
              "dtype: int64"
            ]
          },
          "metadata": {
            "tags": []
          }
        },
        {
          "output_type": "stream",
          "text": [
            "===================\n"
          ],
          "name": "stdout"
        },
        {
          "output_type": "display_data",
          "data": {
            "text/markdown": "<span style='color:blue'>**CONCLUSION**: As seen from the data above, we conclude there are **\"No Missing\"** values in the data</span>",
            "text/plain": [
              "<IPython.core.display.Markdown object>"
            ]
          },
          "metadata": {
            "tags": []
          }
        }
      ]
    },
    {
      "cell_type": "markdown",
      "metadata": {
        "id": "0X2px3hjCTLR"
      },
      "source": [
        "<a id=\"a4f\"></a>\n",
        "## f. 5 point summary of numerical attributes"
      ]
    },
    {
      "cell_type": "code",
      "metadata": {
        "trusted": false,
        "colab": {
          "base_uri": "https://localhost:8080/",
          "height": 77
        },
        "id": "qIB0llCGCTLR",
        "outputId": "e215b4d1-b5f5-48af-9e93-9ddb684cc341"
      },
      "source": [
        "display(electronics[['Rating']].describe().transpose())"
      ],
      "execution_count": 15,
      "outputs": [
        {
          "output_type": "display_data",
          "data": {
            "text/html": [
              "<div>\n",
              "<style scoped>\n",
              "    .dataframe tbody tr th:only-of-type {\n",
              "        vertical-align: middle;\n",
              "    }\n",
              "\n",
              "    .dataframe tbody tr th {\n",
              "        vertical-align: top;\n",
              "    }\n",
              "\n",
              "    .dataframe thead th {\n",
              "        text-align: right;\n",
              "    }\n",
              "</style>\n",
              "<table border=\"1\" class=\"dataframe\">\n",
              "  <thead>\n",
              "    <tr style=\"text-align: right;\">\n",
              "      <th></th>\n",
              "      <th>count</th>\n",
              "      <th>mean</th>\n",
              "      <th>std</th>\n",
              "      <th>min</th>\n",
              "      <th>25%</th>\n",
              "      <th>50%</th>\n",
              "      <th>75%</th>\n",
              "      <th>max</th>\n",
              "    </tr>\n",
              "  </thead>\n",
              "  <tbody>\n",
              "    <tr>\n",
              "      <th>Rating</th>\n",
              "      <td>125871.0</td>\n",
              "      <td>4.261339</td>\n",
              "      <td>1.062144</td>\n",
              "      <td>1.0</td>\n",
              "      <td>4.0</td>\n",
              "      <td>5.0</td>\n",
              "      <td>5.0</td>\n",
              "      <td>5.0</td>\n",
              "    </tr>\n",
              "  </tbody>\n",
              "</table>\n",
              "</div>"
            ],
            "text/plain": [
              "           count      mean       std  min  25%  50%  75%  max\n",
              "Rating  125871.0  4.261339  1.062144  1.0  4.0  5.0  5.0  5.0"
            ]
          },
          "metadata": {
            "tags": []
          }
        }
      ]
    },
    {
      "cell_type": "markdown",
      "metadata": {
        "id": "ejFIIjLICTLS"
      },
      "source": [
        "### Observations\n",
        "\n",
        "**Rating** : This is can be considered as categorical attribute with values of (1,2,3,4,5). The mean rating is 4.26 which means most of the users have given very good ratings for the products i.e. many records with ratings above 4. This can be seen from the median (Q2), 75% (Q3) and max values as 5. Even 25% (Q1) value is 4.0. "
      ]
    },
    {
      "cell_type": "markdown",
      "metadata": {
        "id": "lOzTflXECTLS"
      },
      "source": [
        "<a id=\"a4g\"></a>\n",
        "## g. Unique Users and Products Count"
      ]
    },
    {
      "cell_type": "code",
      "metadata": {
        "trusted": false,
        "colab": {
          "base_uri": "https://localhost:8080/"
        },
        "id": "ivzD0BgmCTLT",
        "outputId": "dbcaee16-9f77-40bb-b4d5-feaf7db5c268"
      },
      "source": [
        "print('Total unique users in the dataset', electronics['userId'].nunique())\n",
        "print('Total unique products in the dataset', electronics['productId'].nunique())"
      ],
      "execution_count": 16,
      "outputs": [
        {
          "output_type": "stream",
          "text": [
            "Total unique users in the dataset 1540\n",
            "Total unique products in the dataset 48190\n"
          ],
          "name": "stdout"
        }
      ]
    },
    {
      "cell_type": "markdown",
      "metadata": {
        "id": "SimjvNp4CTLT"
      },
      "source": [
        "<a id=\"a5\"></a>\n",
        "# Data Analysis and Visualization"
      ]
    },
    {
      "cell_type": "markdown",
      "metadata": {
        "id": "WV3Z8OHdCTLT"
      },
      "source": [
        "<a id=\"a5a\"></a>\n",
        "## a. Rating Distribution"
      ]
    },
    {
      "cell_type": "code",
      "metadata": {
        "trusted": false,
        "id": "18zh4Ef8CTLU"
      },
      "source": [
        "pal = sns.color_palette(palette='Set1', n_colors=16)"
      ],
      "execution_count": 17,
      "outputs": []
    },
    {
      "cell_type": "code",
      "metadata": {
        "trusted": false,
        "colab": {
          "base_uri": "https://localhost:8080/",
          "height": 454
        },
        "id": "b_swkEk3CTLU",
        "outputId": "11cf6afb-96be-48b9-a38a-3089643a72ff"
      },
      "source": [
        "distplot(1, 1, 10, 7, data=electronics, features=['Rating'], colors=['blue'])"
      ],
      "execution_count": 18,
      "outputs": [
        {
          "output_type": "display_data",
          "data": {
            "image/png": "[encoded data removed]",
            "text/plain": [
              "<Figure size 720x504 with 1 Axes>"
            ]
          },
          "metadata": {
            "tags": [],
            "needs_background": "light"
          }
        }
      ]
    },
    {
      "cell_type": "markdown",
      "metadata": {
        "id": "b6J1a8MCCTLU"
      },
      "source": [
        "### Observations\n",
        "\n",
        "1. Many users have rated 5 as it is shown with the huge spike\n",
        "2. This is followed by rating 4 which also has high number\n",
        "3. Ratings 1, 2, 3 are comparatively less."
      ]
    },
    {
      "cell_type": "code",
      "metadata": {
        "trusted": false,
        "colab": {
          "base_uri": "https://localhost:8080/",
          "height": 454
        },
        "id": "MSxEaXwTCTLV",
        "outputId": "5af698eb-395c-4f69-d315-95ae36e48620"
      },
      "source": [
        "distplot(1, 1, 10, 7, data=electronics, features=['Rating'], colors=['red'], kde=False)"
      ],
      "execution_count": 19,
      "outputs": [
        {
          "output_type": "display_data",
          "data": {
            "image/png": "[encoded data removed]",
            "text/plain": [
              "<Figure size 720x504 with 1 Axes>"
            ]
          },
          "metadata": {
            "tags": [],
            "needs_background": "light"
          }
        }
      ]
    },
    {
      "cell_type": "markdown",
      "metadata": {
        "id": "b55Tuqr5CTLV"
      },
      "source": [
        "### Observations\n",
        "\n",
        "1. Many users have rated 5 as it is shown with the huge spike with a value of more than 70k records.\n",
        "2. This is followed by rating 4 which also has high number with a value of mroe than 30k records.\n",
        "3. More than 10k users have rated 3.\n",
        "4. Rating 1 and 2 have been rated below 10k records."
      ]
    },
    {
      "cell_type": "markdown",
      "metadata": {
        "id": "1N1J8qiRCTLW"
      },
      "source": [
        "<a id=\"a5b\"></a>\n",
        "## b. Top Rating Count Distribution grouped by Products"
      ]
    },
    {
      "cell_type": "code",
      "metadata": {
        "trusted": false,
        "id": "xjj-18JECTLX"
      },
      "source": [
        "electronics_groupby_products_Ratings = electronics.groupby('productId')['Rating']"
      ],
      "execution_count": 20,
      "outputs": []
    },
    {
      "cell_type": "code",
      "metadata": {
        "trusted": false,
        "colab": {
          "base_uri": "https://localhost:8080/"
        },
        "id": "uWLqI0nRCTLX",
        "outputId": "913d24a5-d697-45c0-bf39-0d7fc3c5a809"
      },
      "source": [
        "electronics_groupby_products_Ratings.count().clip(upper=30).unique()"
      ],
      "execution_count": 21,
      "outputs": [
        {
          "output_type": "execute_result",
          "data": {
            "text/plain": [
              "array([ 1,  2,  4,  6,  5,  8,  3,  7, 12,  9, 17, 16, 10, 13, 21, 19, 11,\n",
              "       18, 14, 30, 15, 28, 23, 29, 24, 22, 25, 20, 26, 27])"
            ]
          },
          "metadata": {
            "tags": []
          },
          "execution_count": 21
        }
      ]
    },
    {
      "cell_type": "code",
      "metadata": {
        "trusted": false,
        "id": "z6i5gv1bCTLX"
      },
      "source": [
        "ratings_products = pd.DataFrame(electronics_groupby_products_Ratings.count().clip(upper=30))\n",
        "ratings_products.rename(columns={\"Rating\": \"Rating_Count\"}, inplace=True)"
      ],
      "execution_count": 22,
      "outputs": []
    },
    {
      "cell_type": "code",
      "metadata": {
        "trusted": false,
        "colab": {
          "base_uri": "https://localhost:8080/",
          "height": 454
        },
        "id": "BR8Ta5C4CTLY",
        "outputId": "4af3c361-9da7-46f6-b9f0-c3c8d9705660"
      },
      "source": [
        "distplot(1, 1, 10, 7, data=ratings_products, features=['Rating_Count'], colors=['green'], kde=False)"
      ],
      "execution_count": 23,
      "outputs": [
        {
          "output_type": "display_data",
          "data": {
            "image/png": "[encoded data removed]",
            "text/plain": [
              "<Figure size 720x504 with 1 Axes>"
            ]
          },
          "metadata": {
            "tags": [],
            "needs_background": "light"
          }
        }
      ]
    },
    {
      "cell_type": "markdown",
      "metadata": {
        "id": "Wq0Y-TfKCTLY"
      },
      "source": [
        "### Observations\n",
        "\n",
        "This is a ratings count distribution grouped by all the Products. For the plot perspective, I have clipped the upper limit to 30 which means any value above 30 will be set to it. \n",
        "\n",
        "As it can been seen from the plot, there are many products which were rated only once i.e. only one user have rated. And then the count decreases."
      ]
    },
    {
      "cell_type": "markdown",
      "metadata": {
        "id": "VNl3z6gTCTLY"
      },
      "source": [
        "<a id=\"a5c\"></a>\n",
        "## c. Top Rating Count Distribution grouped by Users"
      ]
    },
    {
      "cell_type": "code",
      "metadata": {
        "trusted": false,
        "id": "nSJlIvu4CTLZ"
      },
      "source": [
        "electronics_groupby_users_Ratings = electronics.groupby('userId')['Rating']"
      ],
      "execution_count": 24,
      "outputs": []
    },
    {
      "cell_type": "code",
      "metadata": {
        "trusted": false,
        "colab": {
          "base_uri": "https://localhost:8080/"
        },
        "id": "8Bb-iqTBCTLZ",
        "outputId": "446d1f69-ed96-42d0-d969-a39f753b72b8"
      },
      "source": [
        "electronics_groupby_users_Ratings.count().clip(lower=50).unique()"
      ],
      "execution_count": 25,
      "outputs": [
        {
          "output_type": "execute_result",
          "data": {
            "text/plain": [
              "array([116, 132,  68,  71,  65,  57,  96,  80, 107, 123,  77, 130,  52,\n",
              "        89, 112,  67,  86,  66,  75, 205,  58,  50, 216,  92,  54,  64,\n",
              "        51, 252,  72,  81,  74,  53,  62,  70, 104, 102,  60,  63, 157,\n",
              "        99,  56,  55,  61, 261, 151,  94,  78, 119,  83,  73, 144, 177,\n",
              "       149, 106,  82,  69, 108, 196,  76, 221, 197, 200, 155, 208, 207,\n",
              "       181, 160, 213,  59, 103,  85,  98, 145, 218,  84, 101,  91, 100,\n",
              "        88, 114,  79,  93, 131, 142, 380,  90,  95, 126, 110, 105,  97,\n",
              "       167, 227, 128, 127, 247, 129, 220, 121,  87, 202, 109, 156, 111,\n",
              "       162, 240, 125, 137, 150, 292, 270, 115, 226, 296, 311, 176, 170,\n",
              "       122, 117, 159, 277, 238, 120, 253, 138, 171, 136, 314, 282, 236,\n",
              "       257, 204, 146, 124, 174, 279, 118, 199, 209, 498, 266, 143, 169,\n",
              "       134, 173, 147, 182, 163, 180, 153, 225, 520, 406, 431, 193, 139,\n",
              "       501, 239, 244, 192, 141, 198, 212, 308, 168, 189])"
            ]
          },
          "metadata": {
            "tags": []
          },
          "execution_count": 25
        }
      ]
    },
    {
      "cell_type": "code",
      "metadata": {
        "trusted": false,
        "id": "EgosnJ-OCTLZ"
      },
      "source": [
        "rating_users = pd.DataFrame(electronics_groupby_users_Ratings.count().clip(lower=50, upper=300))\n",
        "rating_users.rename(columns={\"Rating\": \"Rating_Count\"}, inplace=True)"
      ],
      "execution_count": 26,
      "outputs": []
    },
    {
      "cell_type": "code",
      "metadata": {
        "trusted": false,
        "colab": {
          "base_uri": "https://localhost:8080/",
          "height": 454
        },
        "id": "YCFSlmcuCTLa",
        "outputId": "0b095b9e-4403-4b6e-dc41-c324ebeb0644"
      },
      "source": [
        "distplot(1, 1, 10, 7, data=rating_users, features=['Rating_Count'], colors=['orange'], kde=False, bins=50)"
      ],
      "execution_count": 27,
      "outputs": [
        {
          "output_type": "display_data",
          "data": {
            "image/png": "[encoded data removed]",
            "text/plain": [
              "<Figure size 720x504 with 1 Axes>"
            ]
          },
          "metadata": {
            "tags": [],
            "needs_background": "light"
          }
        }
      ]
    },
    {
      "cell_type": "markdown",
      "metadata": {
        "id": "YNQw24jqCTLa"
      },
      "source": [
        "### Observations\n",
        "\n",
        "This is a ratings count distribution grouped by all the Users. For the plot perspective, I have clipped the count limit between 50 to 300 which means any value below 50 or above 300 will be set to the respective values. \n",
        "\n",
        "As it can been seen from the plot, there are many users which have rated 50 times or below. Ratings count by users gradually decreases which means few users have rated many products. "
      ]
    },
    {
      "cell_type": "markdown",
      "metadata": {
        "id": "7UoOgx7hCTLb"
      },
      "source": [
        "<a id=\"a5d\"></a>\n",
        "## d. Mean Rating Distribution grouped by Products"
      ]
    },
    {
      "cell_type": "code",
      "metadata": {
        "trusted": false,
        "id": "HZL-xGt0CTLb"
      },
      "source": [
        "ratings = pd.DataFrame(electronics.groupby('productId')['Rating'].mean())\n",
        "ratings.rename(columns={\"Rating\": \"Rating_Mean\"}, inplace=True)"
      ],
      "execution_count": 28,
      "outputs": []
    },
    {
      "cell_type": "code",
      "metadata": {
        "trusted": false,
        "colab": {
          "base_uri": "https://localhost:8080/",
          "height": 454
        },
        "id": "3CEOcAWkCTLb",
        "outputId": "0cb7a4c9-eacc-414a-8ff5-d9010135500a"
      },
      "source": [
        "distplot(1, 1, 10, 7, data=ratings, features=['Rating_Mean'], colors=['brown'], kde=False, bins=50)"
      ],
      "execution_count": 29,
      "outputs": [
        {
          "output_type": "display_data",
          "data": {
            "image/png": "[encoded data removed]",
            "text/plain": [
              "<Figure size 720x504 with 1 Axes>"
            ]
          },
          "metadata": {
            "tags": [],
            "needs_background": "light"
          }
        }
      ]
    },
    {
      "cell_type": "markdown",
      "metadata": {
        "id": "tEKpy7w9CTLb"
      },
      "source": [
        "### Observations\n",
        "\n",
        "This is a mean rating distribution grouped by all the Products.\n",
        "\n",
        "As it can been seen from the plot, there are many products which were given a Rating of 4 or 5. Hence the plot shows lot of bins between 4 and 5. "
      ]
    },
    {
      "cell_type": "markdown",
      "metadata": {
        "id": "Yc-YlHfICTLc"
      },
      "source": [
        "<a id=\"a5e\"></a>\n",
        "## e. Mean Rating - Rating Count Distribution grouped by Products"
      ]
    },
    {
      "cell_type": "code",
      "metadata": {
        "trusted": false,
        "id": "sXSQugQgCTLc"
      },
      "source": [
        "ratings['Rating_Count'] = electronics.groupby('productId')['Rating'].count()"
      ],
      "execution_count": 30,
      "outputs": []
    },
    {
      "cell_type": "code",
      "metadata": {
        "trusted": false,
        "colab": {
          "base_uri": "https://localhost:8080/",
          "height": 508
        },
        "id": "OTjhNaPzCTLc",
        "outputId": "7e01cf76-983d-4d46-ad78-1b5446647dee"
      },
      "source": [
        "scatterplot('Rating_Mean', 'Rating_Count', data=ratings)"
      ],
      "execution_count": 31,
      "outputs": [
        {
          "output_type": "display_data",
          "data": {
            "image/png": "[encoded data removed]",
            "text/plain": [
              "<Figure size 720x576 with 1 Axes>"
            ]
          },
          "metadata": {
            "tags": [],
            "needs_background": "light"
          }
        }
      ]
    },
    {
      "cell_type": "markdown",
      "metadata": {
        "id": "zmbPQWY6CTLd"
      },
      "source": [
        "### Observations\n",
        "\n",
        "This is a joint plot between Mean rating distribution and Rating Count grouped by all the Products. As shown in the plot, data is clustered between mean rating of 3.5 to 5. "
      ]
    },
    {
      "cell_type": "markdown",
      "metadata": {
        "id": "-aIfKlrGCTLd"
      },
      "source": [
        "<a id=\"a5f\"></a>\n",
        "## f. Mean Rating Distribution grouped by Users"
      ]
    },
    {
      "cell_type": "code",
      "metadata": {
        "trusted": false,
        "colab": {
          "base_uri": "https://localhost:8080/",
          "height": 454
        },
        "id": "tg18C8mDCTLe",
        "outputId": "5421c753-d076-481b-86b4-8015cf10f172"
      },
      "source": [
        "ratings = pd.DataFrame(electronics.groupby('userId')['Rating'].mean())\n",
        "ratings.rename(columns={\"Rating\": \"Rating_Mean\"}, inplace=True)\n",
        "distplot(1, 1, 10, 7, data=ratings, features=['Rating_Mean'], colors=['brown'], kde=False, bins=50)"
      ],
      "execution_count": 32,
      "outputs": [
        {
          "output_type": "display_data",
          "data": {
            "image/png": "[encoded data removed]",
            "text/plain": [
              "<Figure size 720x504 with 1 Axes>"
            ]
          },
          "metadata": {
            "tags": [],
            "needs_background": "light"
          }
        }
      ]
    },
    {
      "cell_type": "markdown",
      "metadata": {
        "id": "SWUlyrCMCTLf"
      },
      "source": [
        "### Observations\n",
        "\n",
        "This is a mean rating distribution grouped by all the Users. This looks like slightly left skewed normal distribution.\n",
        "\n",
        "Data is uniformly distribution from rating 3 to 5 with many around 4 to 4.5. Many users have an average rating of around 4.5. "
      ]
    },
    {
      "cell_type": "markdown",
      "metadata": {
        "id": "M7wfWQiJCTLf"
      },
      "source": [
        "<a id=\"a5g\"></a>\n",
        "## g. Mean Rating - Rating Count Distribution grouped by Users"
      ]
    },
    {
      "cell_type": "code",
      "metadata": {
        "trusted": false,
        "colab": {
          "base_uri": "https://localhost:8080/",
          "height": 508
        },
        "id": "ZrZao--BCTLf",
        "outputId": "f20cba89-e94e-498a-bc4d-76df990e8df2"
      },
      "source": [
        "ratings['Rating_Count'] = electronics.groupby('userId')['Rating'].count()\n",
        "scatterplot('Rating_Mean', 'Rating_Count', data=ratings)"
      ],
      "execution_count": 33,
      "outputs": [
        {
          "output_type": "display_data",
          "data": {
            "image/png": "[encoded data removed]",
            "text/plain": [
              "<Figure size 720x576 with 1 Axes>"
            ]
          },
          "metadata": {
            "tags": [],
            "needs_background": "light"
          }
        }
      ]
    },
    {
      "cell_type": "markdown",
      "metadata": {
        "id": "VZ9I5Wu4CTLg"
      },
      "source": [
        "### Observations\n",
        "\n",
        "This is a joint plot between Mean rating distribution and Rating Count grouped by all the Users. As shown in the plot, data is clustered between 3.5 to 5. There are many data points when the Rating count is less than 100 and the mean rating for the users is between 3.5 and 5"
      ]
    },
    {
      "cell_type": "markdown",
      "metadata": {
        "id": "vl8Qb28kCTLg"
      },
      "source": [
        "<a id=\"a6\"></a>\n",
        "# Split the data into training and test set in the ratio of 70:30 respectively"
      ]
    },
    {
      "cell_type": "code",
      "metadata": {
        "trusted": false,
        "colab": {
          "base_uri": "https://localhost:8080/",
          "height": 81
        },
        "id": "LFhs1uUdCTLg",
        "outputId": "f08698ec-1c3e-41c5-e86a-304090de352a"
      },
      "source": [
        "train_data, test_data = train_test_split(electronics, test_size =.30, random_state=10)\n",
        "printmd('**Training and Testing Set Distribution**', color='brown')\n",
        "\n",
        "print(f'Training set has {train_data.shape[0]} rows and {train_data.shape[1]} columns')\n",
        "print(f'Testing set has {test_data.shape[0]} rows and {test_data.shape[1]} columns')\n"
      ],
      "execution_count": 34,
      "outputs": [
        {
          "output_type": "display_data",
          "data": {
            "text/markdown": "<span style='color:brown'>**Training and Testing Set Distribution**</span>",
            "text/plain": [
              "<IPython.core.display.Markdown object>"
            ]
          },
          "metadata": {
            "tags": []
          }
        },
        {
          "output_type": "stream",
          "text": [
            "Training set has 88109 rows and 3 columns\n",
            "Testing set has 37762 rows and 3 columns\n"
          ],
          "name": "stdout"
        }
      ]
    },
    {
      "cell_type": "markdown",
      "metadata": {
        "id": "lBB9BombCTLh"
      },
      "source": [
        "<a id=\"a7\"></a>\n",
        "# Recommender Systems"
      ]
    },
    {
      "cell_type": "markdown",
      "metadata": {
        "id": "3R6RUUBTCTLh"
      },
      "source": [
        "A recommender system is a simple algorithm whose aim is to provide the most relevant information to a user by discovering patterns in a dataset. The algorithm rates the items and shows the user the items that they would rate highly."
      ]
    },
    {
      "cell_type": "markdown",
      "metadata": {
        "id": "DDGxNLKuCTLh"
      },
      "source": [
        "<a id=\"a7a\"></a>\n",
        "## a. Popularity Based Recommender Model"
      ]
    },
    {
      "cell_type": "markdown",
      "metadata": {
        "id": "fIWpsnbPCTLh"
      },
      "source": [
        "Popularity based recommendation system uses the items that are in trend right now. It ranks products based on its popularity i.e. the rating count. If a product is highly rated then it is most likely to be ranked higher and hence will be recommended. As it is based on the products popularity, this can not be personalized and hence same set of products will be recommended for all the users."
      ]
    },
    {
      "cell_type": "code",
      "metadata": {
        "trusted": false,
        "id": "pJFEJH4bCTLi"
      },
      "source": [
        "class popularity_based_recommender_model():\n",
        "    def __init__(self, train_data, test_data, user_id, item_id):\n",
        "        self.train_data = train_data\n",
        "        self.test_data = test_data\n",
        "        self.user_id = user_id\n",
        "        self.item_id = item_id\n",
        "        self.popularity_recommendations = None\n",
        "        \n",
        "    #Create the popularity based recommender system model\n",
        "    def fit(self):\n",
        "        #Get a count of user_ids for each unique product as recommendation score\n",
        "        train_data_grouped = train_data.groupby([self.item_id]).agg({self.user_id: 'count'}).reset_index()\n",
        "        train_data_grouped.rename(columns = {'userId': 'score'},inplace=True)\n",
        "    \n",
        "        #Sort the products based upon recommendation score\n",
        "        train_data_sort = train_data_grouped.sort_values(['score', self.item_id], ascending = [0,1])\n",
        "    \n",
        "        #Generate a recommendation rank based upon score\n",
        "        train_data_sort['Rank'] = train_data_sort['score'].rank(ascending=0, method='first')\n",
        "        \n",
        "        #Get the top 10 recommendations\n",
        "        self.popularity_recommendations = train_data_sort.head(20)\n",
        "\n",
        "    #Use the popularity based recommender system model to make recommendations\n",
        "    def recommend(self, user_id, n=5):    \n",
        "        user_recommendations = self.popularity_recommendations\n",
        "        \n",
        "        #Filter products that are not rated by the user\n",
        "        products_already_rated_by_user = self.train_data[self.train_data[self.user_id] == user_id][self.item_id]        \n",
        "        user_recommendations = user_recommendations[~user_recommendations[self.item_id].isin(products_already_rated_by_user)]\n",
        "        \n",
        "        #Add user_id column for which the recommendations are being generated\n",
        "        user_recommendations['user_id'] = user_id\n",
        "    \n",
        "        #Bring user_id column to the front\n",
        "        cols = user_recommendations.columns.tolist()\n",
        "        cols = cols[-1:] + cols[:-1]\n",
        "        user_recommendations = user_recommendations[cols].head(n)     \n",
        "        self.plot(user_recommendations)\n",
        "        return user_recommendations\n",
        "    \n",
        "    def plot(self, user_recommendations):\n",
        "        f, axes = plt.subplots(1, 2, figsize=(20, 8))\n",
        "        cplot1 = sns.barplot(x='Rank', y='score', data=user_recommendations, hue='Rank', ax=axes[0])\n",
        "        cplot1.set_xlabel('Rank',fontsize=20)\n",
        "        cplot1.set_ylabel('score',fontsize=20)            \n",
        "        cplot2 = sns.pointplot(x='Rank', y='score', data=user_recommendations, hue='Rank', ax=axes[1])\n",
        "        cplot2.set_xlabel('Rank',fontsize=20)\n",
        "        cplot2.set_ylabel('score',fontsize=20)\n",
        "        \n",
        "    def predict_evaluate(self):        \n",
        "        ratings = pd.DataFrame(self.train_data.groupby(self.item_id)['Rating'].mean())\n",
        "        \n",
        "        pred_ratings = [];            \n",
        "        for data in self.test_data.values:\n",
        "            if(data[1] in (ratings.index)):\n",
        "                pred_ratings.append(ratings.loc[data[1]])\n",
        "            else:\n",
        "                pred_ratings.append(0)\n",
        "        \n",
        "        mse = mean_squared_error(self.test_data['Rating'], pred_ratings)\n",
        "        rmse = sqrt(mse)\n",
        "        return rmse\n",
        "        \n",
        "        "
      ],
      "execution_count": 35,
      "outputs": []
    },
    {
      "cell_type": "markdown",
      "metadata": {
        "id": "WNhSsJYLCTLi"
      },
      "source": [
        "<a id=\"a7a1\"></a>\n",
        "### Initialize"
      ]
    },
    {
      "cell_type": "code",
      "metadata": {
        "trusted": false,
        "id": "i1zu-rJhCTLi"
      },
      "source": [
        "pr = popularity_based_recommender_model(train_data=train_data, test_data=test_data, user_id='userId', item_id='productId')"
      ],
      "execution_count": 36,
      "outputs": []
    },
    {
      "cell_type": "markdown",
      "metadata": {
        "id": "4OUaN9C_CTLj"
      },
      "source": [
        "<a id=\"a7a2\"></a>\n",
        "### Fit"
      ]
    },
    {
      "cell_type": "code",
      "metadata": {
        "trusted": false,
        "id": "-pdJpf6RCTLj"
      },
      "source": [
        "pr.fit()"
      ],
      "execution_count": 37,
      "outputs": []
    },
    {
      "cell_type": "markdown",
      "metadata": {
        "id": "cVDRnc23CTLj"
      },
      "source": [
        "<a id=\"a7a3\"></a>\n",
        "### Recommend"
      ]
    },
    {
      "cell_type": "markdown",
      "metadata": {
        "id": "GRFV-EgTCTLj"
      },
      "source": [
        "**Trying with three different Users**"
      ]
    },
    {
      "cell_type": "code",
      "metadata": {
        "trusted": false,
        "colab": {
          "base_uri": "https://localhost:8080/",
          "height": 597
        },
        "id": "JkNm3By7CTLk",
        "outputId": "4099eec7-5d8c-436a-8e80-706dd77b8fe7"
      },
      "source": [
        "result_pop_user1 = pr.recommend('ANTN61S4L7WG9')\n",
        "result_pop_user1"
      ],
      "execution_count": 38,
      "outputs": [
        {
          "output_type": "execute_result",
          "data": {
            "text/html": [
              "<div>\n",
              "<style scoped>\n",
              "    .dataframe tbody tr th:only-of-type {\n",
              "        vertical-align: middle;\n",
              "    }\n",
              "\n",
              "    .dataframe tbody tr th {\n",
              "        vertical-align: top;\n",
              "    }\n",
              "\n",
              "    .dataframe thead th {\n",
              "        text-align: right;\n",
              "    }\n",
              "</style>\n",
              "<table border=\"1\" class=\"dataframe\">\n",
              "  <thead>\n",
              "    <tr style=\"text-align: right;\">\n",
              "      <th></th>\n",
              "      <th>user_id</th>\n",
              "      <th>productId</th>\n",
              "      <th>score</th>\n",
              "      <th>Rank</th>\n",
              "    </tr>\n",
              "  </thead>\n",
              "  <tbody>\n",
              "    <tr>\n",
              "      <th>30874</th>\n",
              "      <td>ANTN61S4L7WG9</td>\n",
              "      <td>B0088CJT4U</td>\n",
              "      <td>142</td>\n",
              "      <td>1.0</td>\n",
              "    </tr>\n",
              "    <tr>\n",
              "      <th>19570</th>\n",
              "      <td>ANTN61S4L7WG9</td>\n",
              "      <td>B003ES5ZUU</td>\n",
              "      <td>134</td>\n",
              "      <td>2.0</td>\n",
              "    </tr>\n",
              "    <tr>\n",
              "      <th>30273</th>\n",
              "      <td>ANTN61S4L7WG9</td>\n",
              "      <td>B007WTAJTO</td>\n",
              "      <td>126</td>\n",
              "      <td>3.0</td>\n",
              "    </tr>\n",
              "    <tr>\n",
              "      <th>30557</th>\n",
              "      <td>ANTN61S4L7WG9</td>\n",
              "      <td>B00829THK0</td>\n",
              "      <td>103</td>\n",
              "      <td>6.0</td>\n",
              "    </tr>\n",
              "    <tr>\n",
              "      <th>17292</th>\n",
              "      <td>ANTN61S4L7WG9</td>\n",
              "      <td>B002R5AM7C</td>\n",
              "      <td>97</td>\n",
              "      <td>8.0</td>\n",
              "    </tr>\n",
              "  </tbody>\n",
              "</table>\n",
              "</div>"
            ],
            "text/plain": [
              "             user_id   productId  score  Rank\n",
              "30874  ANTN61S4L7WG9  B0088CJT4U    142   1.0\n",
              "19570  ANTN61S4L7WG9  B003ES5ZUU    134   2.0\n",
              "30273  ANTN61S4L7WG9  B007WTAJTO    126   3.0\n",
              "30557  ANTN61S4L7WG9  B00829THK0    103   6.0\n",
              "17292  ANTN61S4L7WG9  B002R5AM7C     97   8.0"
            ]
          },
          "metadata": {
            "tags": []
          },
          "execution_count": 38
        },
        {
          "output_type": "display_data",
          "data": {
            "image/png": "[encoded data removed]",
            "text/plain": [
              "<Figure size 1440x576 with 2 Axes>"
            ]
          },
          "metadata": {
            "tags": [],
            "needs_background": "light"
          }
        }
      ]
    },
    {
      "cell_type": "code",
      "metadata": {
        "trusted": false,
        "colab": {
          "base_uri": "https://localhost:8080/",
          "height": 597
        },
        "id": "ea1cvAz0CTLk",
        "outputId": "ea2f228c-cf12-4985-8a39-5643d5af750c"
      },
      "source": [
        "result_pop_user2 = pr.recommend('AYNAH993VDECT')\n",
        "result_pop_user2"
      ],
      "execution_count": 39,
      "outputs": [
        {
          "output_type": "execute_result",
          "data": {
            "text/html": [
              "<div>\n",
              "<style scoped>\n",
              "    .dataframe tbody tr th:only-of-type {\n",
              "        vertical-align: middle;\n",
              "    }\n",
              "\n",
              "    .dataframe tbody tr th {\n",
              "        vertical-align: top;\n",
              "    }\n",
              "\n",
              "    .dataframe thead th {\n",
              "        text-align: right;\n",
              "    }\n",
              "</style>\n",
              "<table border=\"1\" class=\"dataframe\">\n",
              "  <thead>\n",
              "    <tr style=\"text-align: right;\">\n",
              "      <th></th>\n",
              "      <th>user_id</th>\n",
              "      <th>productId</th>\n",
              "      <th>score</th>\n",
              "      <th>Rank</th>\n",
              "    </tr>\n",
              "  </thead>\n",
              "  <tbody>\n",
              "    <tr>\n",
              "      <th>30874</th>\n",
              "      <td>AYNAH993VDECT</td>\n",
              "      <td>B0088CJT4U</td>\n",
              "      <td>142</td>\n",
              "      <td>1.0</td>\n",
              "    </tr>\n",
              "    <tr>\n",
              "      <th>19570</th>\n",
              "      <td>AYNAH993VDECT</td>\n",
              "      <td>B003ES5ZUU</td>\n",
              "      <td>134</td>\n",
              "      <td>2.0</td>\n",
              "    </tr>\n",
              "    <tr>\n",
              "      <th>30273</th>\n",
              "      <td>AYNAH993VDECT</td>\n",
              "      <td>B007WTAJTO</td>\n",
              "      <td>126</td>\n",
              "      <td>3.0</td>\n",
              "    </tr>\n",
              "    <tr>\n",
              "      <th>8700</th>\n",
              "      <td>AYNAH993VDECT</td>\n",
              "      <td>B000N99BBC</td>\n",
              "      <td>117</td>\n",
              "      <td>4.0</td>\n",
              "    </tr>\n",
              "    <tr>\n",
              "      <th>30561</th>\n",
              "      <td>AYNAH993VDECT</td>\n",
              "      <td>B00829TIEK</td>\n",
              "      <td>104</td>\n",
              "      <td>5.0</td>\n",
              "    </tr>\n",
              "  </tbody>\n",
              "</table>\n",
              "</div>"
            ],
            "text/plain": [
              "             user_id   productId  score  Rank\n",
              "30874  AYNAH993VDECT  B0088CJT4U    142   1.0\n",
              "19570  AYNAH993VDECT  B003ES5ZUU    134   2.0\n",
              "30273  AYNAH993VDECT  B007WTAJTO    126   3.0\n",
              "8700   AYNAH993VDECT  B000N99BBC    117   4.0\n",
              "30561  AYNAH993VDECT  B00829TIEK    104   5.0"
            ]
          },
          "metadata": {
            "tags": []
          },
          "execution_count": 39
        },
        {
          "output_type": "display_data",
          "data": {
            "image/png": "[encoded data removed]",
            "text/plain": [
              "<Figure size 1440x576 with 2 Axes>"
            ]
          },
          "metadata": {
            "tags": [],
            "needs_background": "light"
          }
        }
      ]
    },
    {
      "cell_type": "code",
      "metadata": {
        "trusted": false,
        "colab": {
          "base_uri": "https://localhost:8080/",
          "height": 597
        },
        "id": "VcfbgJOBCTLk",
        "outputId": "28b9506f-50be-41d6-eb4b-a40c02a23843"
      },
      "source": [
        "result_pop_user3 = pr.recommend('A18YMFFJW974QS')\n",
        "result_pop_user3"
      ],
      "execution_count": 40,
      "outputs": [
        {
          "output_type": "execute_result",
          "data": {
            "text/html": [
              "<div>\n",
              "<style scoped>\n",
              "    .dataframe tbody tr th:only-of-type {\n",
              "        vertical-align: middle;\n",
              "    }\n",
              "\n",
              "    .dataframe tbody tr th {\n",
              "        vertical-align: top;\n",
              "    }\n",
              "\n",
              "    .dataframe thead th {\n",
              "        text-align: right;\n",
              "    }\n",
              "</style>\n",
              "<table border=\"1\" class=\"dataframe\">\n",
              "  <thead>\n",
              "    <tr style=\"text-align: right;\">\n",
              "      <th></th>\n",
              "      <th>user_id</th>\n",
              "      <th>productId</th>\n",
              "      <th>score</th>\n",
              "      <th>Rank</th>\n",
              "    </tr>\n",
              "  </thead>\n",
              "  <tbody>\n",
              "    <tr>\n",
              "      <th>30874</th>\n",
              "      <td>A18YMFFJW974QS</td>\n",
              "      <td>B0088CJT4U</td>\n",
              "      <td>142</td>\n",
              "      <td>1.0</td>\n",
              "    </tr>\n",
              "    <tr>\n",
              "      <th>19570</th>\n",
              "      <td>A18YMFFJW974QS</td>\n",
              "      <td>B003ES5ZUU</td>\n",
              "      <td>134</td>\n",
              "      <td>2.0</td>\n",
              "    </tr>\n",
              "    <tr>\n",
              "      <th>30273</th>\n",
              "      <td>A18YMFFJW974QS</td>\n",
              "      <td>B007WTAJTO</td>\n",
              "      <td>126</td>\n",
              "      <td>3.0</td>\n",
              "    </tr>\n",
              "    <tr>\n",
              "      <th>8700</th>\n",
              "      <td>A18YMFFJW974QS</td>\n",
              "      <td>B000N99BBC</td>\n",
              "      <td>117</td>\n",
              "      <td>4.0</td>\n",
              "    </tr>\n",
              "    <tr>\n",
              "      <th>30561</th>\n",
              "      <td>A18YMFFJW974QS</td>\n",
              "      <td>B00829TIEK</td>\n",
              "      <td>104</td>\n",
              "      <td>5.0</td>\n",
              "    </tr>\n",
              "  </tbody>\n",
              "</table>\n",
              "</div>"
            ],
            "text/plain": [
              "              user_id   productId  score  Rank\n",
              "30874  A18YMFFJW974QS  B0088CJT4U    142   1.0\n",
              "19570  A18YMFFJW974QS  B003ES5ZUU    134   2.0\n",
              "30273  A18YMFFJW974QS  B007WTAJTO    126   3.0\n",
              "8700   A18YMFFJW974QS  B000N99BBC    117   4.0\n",
              "30561  A18YMFFJW974QS  B00829TIEK    104   5.0"
            ]
          },
          "metadata": {
            "tags": []
          },
          "execution_count": 40
        },
        {
          "output_type": "display_data",
          "data": {
            "image/png": "[encoded data removed]",
            "text/plain": [
              "<Figure size 1440x576 with 2 Axes>"
            ]
          },
          "metadata": {
            "tags": [],
            "needs_background": "light"
          }
        }
      ]
    },
    {
      "cell_type": "code",
      "metadata": {
        "trusted": false,
        "colab": {
          "base_uri": "https://localhost:8080/",
          "height": 378
        },
        "id": "5eY-owg_CTLl",
        "outputId": "b286b8aa-f746-461d-a828-093a31de68a1"
      },
      "source": [
        "display_side_by_side([result_pop_user1, result_pop_user2, result_pop_user3])"
      ],
      "execution_count": 41,
      "outputs": [
        {
          "output_type": "display_data",
          "data": {
            "text/html": [
              "<table style=\"display:inline;margin-left:50px !important;margin-right: 40px !important\" border=\"1\" class=\"dataframe\">\n",
              "  <thead>\n",
              "    <tr style=\"text-align: right;\">\n",
              "      <th></th>\n",
              "      <th>user_id</th>\n",
              "      <th>productId</th>\n",
              "      <th>score</th>\n",
              "      <th>Rank</th>\n",
              "    </tr>\n",
              "  </thead>\n",
              "  <tbody>\n",
              "    <tr>\n",
              "      <th>30874</th>\n",
              "      <td>ANTN61S4L7WG9</td>\n",
              "      <td>B0088CJT4U</td>\n",
              "      <td>142</td>\n",
              "      <td>1.0</td>\n",
              "    </tr>\n",
              "    <tr>\n",
              "      <th>19570</th>\n",
              "      <td>ANTN61S4L7WG9</td>\n",
              "      <td>B003ES5ZUU</td>\n",
              "      <td>134</td>\n",
              "      <td>2.0</td>\n",
              "    </tr>\n",
              "    <tr>\n",
              "      <th>30273</th>\n",
              "      <td>ANTN61S4L7WG9</td>\n",
              "      <td>B007WTAJTO</td>\n",
              "      <td>126</td>\n",
              "      <td>3.0</td>\n",
              "    </tr>\n",
              "    <tr>\n",
              "      <th>30557</th>\n",
              "      <td>ANTN61S4L7WG9</td>\n",
              "      <td>B00829THK0</td>\n",
              "      <td>103</td>\n",
              "      <td>6.0</td>\n",
              "    </tr>\n",
              "    <tr>\n",
              "      <th>17292</th>\n",
              "      <td>ANTN61S4L7WG9</td>\n",
              "      <td>B002R5AM7C</td>\n",
              "      <td>97</td>\n",
              "      <td>8.0</td>\n",
              "    </tr>\n",
              "  </tbody>\n",
              "</table style=\"display:inline;margin-left:50px !important;margin-right: 40px !important\"><table style=\"display:inline;margin-left:50px !important;margin-right: 40px !important\" border=\"1\" class=\"dataframe\">\n",
              "  <thead>\n",
              "    <tr style=\"text-align: right;\">\n",
              "      <th></th>\n",
              "      <th>user_id</th>\n",
              "      <th>productId</th>\n",
              "      <th>score</th>\n",
              "      <th>Rank</th>\n",
              "    </tr>\n",
              "  </thead>\n",
              "  <tbody>\n",
              "    <tr>\n",
              "      <th>30874</th>\n",
              "      <td>AYNAH993VDECT</td>\n",
              "      <td>B0088CJT4U</td>\n",
              "      <td>142</td>\n",
              "      <td>1.0</td>\n",
              "    </tr>\n",
              "    <tr>\n",
              "      <th>19570</th>\n",
              "      <td>AYNAH993VDECT</td>\n",
              "      <td>B003ES5ZUU</td>\n",
              "      <td>134</td>\n",
              "      <td>2.0</td>\n",
              "    </tr>\n",
              "    <tr>\n",
              "      <th>30273</th>\n",
              "      <td>AYNAH993VDECT</td>\n",
              "      <td>B007WTAJTO</td>\n",
              "      <td>126</td>\n",
              "      <td>3.0</td>\n",
              "    </tr>\n",
              "    <tr>\n",
              "      <th>8700</th>\n",
              "      <td>AYNAH993VDECT</td>\n",
              "      <td>B000N99BBC</td>\n",
              "      <td>117</td>\n",
              "      <td>4.0</td>\n",
              "    </tr>\n",
              "    <tr>\n",
              "      <th>30561</th>\n",
              "      <td>AYNAH993VDECT</td>\n",
              "      <td>B00829TIEK</td>\n",
              "      <td>104</td>\n",
              "      <td>5.0</td>\n",
              "    </tr>\n",
              "  </tbody>\n",
              "</table style=\"display:inline;margin-left:50px !important;margin-right: 40px !important\"><table style=\"display:inline;margin-left:50px !important;margin-right: 40px !important\" border=\"1\" class=\"dataframe\">\n",
              "  <thead>\n",
              "    <tr style=\"text-align: right;\">\n",
              "      <th></th>\n",
              "      <th>user_id</th>\n",
              "      <th>productId</th>\n",
              "      <th>score</th>\n",
              "      <th>Rank</th>\n",
              "    </tr>\n",
              "  </thead>\n",
              "  <tbody>\n",
              "    <tr>\n",
              "      <th>30874</th>\n",
              "      <td>A18YMFFJW974QS</td>\n",
              "      <td>B0088CJT4U</td>\n",
              "      <td>142</td>\n",
              "      <td>1.0</td>\n",
              "    </tr>\n",
              "    <tr>\n",
              "      <th>19570</th>\n",
              "      <td>A18YMFFJW974QS</td>\n",
              "      <td>B003ES5ZUU</td>\n",
              "      <td>134</td>\n",
              "      <td>2.0</td>\n",
              "    </tr>\n",
              "    <tr>\n",
              "      <th>30273</th>\n",
              "      <td>A18YMFFJW974QS</td>\n",
              "      <td>B007WTAJTO</td>\n",
              "      <td>126</td>\n",
              "      <td>3.0</td>\n",
              "    </tr>\n",
              "    <tr>\n",
              "      <th>8700</th>\n",
              "      <td>A18YMFFJW974QS</td>\n",
              "      <td>B000N99BBC</td>\n",
              "      <td>117</td>\n",
              "      <td>4.0</td>\n",
              "    </tr>\n",
              "    <tr>\n",
              "      <th>30561</th>\n",
              "      <td>A18YMFFJW974QS</td>\n",
              "      <td>B00829TIEK</td>\n",
              "      <td>104</td>\n",
              "      <td>5.0</td>\n",
              "    </tr>\n",
              "  </tbody>\n",
              "</table style=\"display:inline;margin-left:50px !important;margin-right: 40px !important\">"
            ]
          },
          "metadata": {
            "tags": []
          }
        }
      ]
    },
    {
      "cell_type": "code",
      "metadata": {
        "trusted": false,
        "colab": {
          "base_uri": "https://localhost:8080/"
        },
        "id": "_qAYNV3DCTLl",
        "outputId": "27c3126d-92b0-4959-d430-c06d290afe55"
      },
      "source": [
        "pr.predict_evaluate()"
      ],
      "execution_count": 42,
      "outputs": [
        {
          "output_type": "execute_result",
          "data": {
            "text/plain": [
              "2.5098939142231482"
            ]
          },
          "metadata": {
            "tags": []
          },
          "execution_count": 42
        }
      ]
    },
    {
      "cell_type": "markdown",
      "metadata": {
        "id": "tcvAdjP-CTLl"
      },
      "source": [
        "<a id=\"a7a4\"></a>\n",
        "### Observations\n",
        "\n",
        "Since this is a popularity based recommender model, we are getting same result for all three users i.e. **the model is recommending same products for all the users**."
      ]
    },
    {
      "cell_type": "markdown",
      "metadata": {
        "id": "he4fzT2WCTLl"
      },
      "source": [
        "<a id=\"a7b\"></a>\n",
        "## b. Collaborative Filtering Recommender Model using SURPRISE Library"
      ]
    },
    {
      "cell_type": "markdown",
      "metadata": {
        "id": "ygcdyOXACTLm"
      },
      "source": [
        "Collaborative filtering is a method of making predictions about the interests of user by analysing the taste of users which are similar to the said user. The idea of filtering patterns by collaborating multiple viewpoints is why it is called collaborative filtering."
      ]
    },
    {
      "cell_type": "markdown",
      "metadata": {
        "id": "IpYM3DpgCTLm"
      },
      "source": [
        "<a id=\"a7b1\"></a>\n",
        "### Load Surprise Data from DataFrame"
      ]
    },
    {
      "cell_type": "code",
      "metadata": {
        "trusted": false,
        "colab": {
          "base_uri": "https://localhost:8080/"
        },
        "id": "zwUQvd8vCTLm",
        "outputId": "96f59d5a-f959-45c1-c98e-bac3eb1d1a3f"
      },
      "source": [
        "!pip install surprise\n",
        "from surprise import accuracy\n",
        "from surprise.model_selection.validation import cross_validate\n",
        "from surprise.dataset import Dataset\n",
        "from surprise.reader import Reader\n",
        "from surprise import SVD\n",
        "from surprise import KNNBasic\n",
        "from surprise import KNNWithMeans\n",
        "reader = Reader()\n",
        "surprise_data = Dataset.load_from_df(electronics, reader)"
      ],
      "execution_count": 44,
      "outputs": [
        {
          "output_type": "stream",
          "text": [
            "Collecting surprise\n",
            "  Downloading https://files.pythonhosted.org/packages/61/de/e5cba8682201fcf9c3719a6fdda95693468ed061945493dea2dd37c5618b/surprise-0.1-py2.py3-none-any.whl\n",
            "Collecting scikit-surprise\n",
            "\u001b[?25l  Downloading https://files.pythonhosted.org/packages/97/37/5d334adaf5ddd65da99fc65f6507e0e4599d092ba048f4302fe8775619e8/scikit-surprise-1.1.1.tar.gz (11.8MB)\n",
            "\u001b[K     |████████████████████████████████| 11.8MB 7.8MB/s \n",
            "\u001b[?25hRequirement already satisfied: joblib>=0.11 in /usr/local/lib/python3.7/dist-packages (from scikit-surprise->surprise) (1.0.1)\n",
            "Requirement already satisfied: numpy>=1.11.2 in /usr/local/lib/python3.7/dist-packages (from scikit-surprise->surprise) (1.19.5)\n",
            "Requirement already satisfied: scipy>=1.0.0 in /usr/local/lib/python3.7/dist-packages (from scikit-surprise->surprise) (1.4.1)\n",
            "Requirement already satisfied: six>=1.10.0 in /usr/local/lib/python3.7/dist-packages (from scikit-surprise->surprise) (1.15.0)\n",
            "Building wheels for collected packages: scikit-surprise\n",
            "  Building wheel for scikit-surprise (setup.py) ... \u001b[?25l\u001b[?25hdone\n",
            "  Created wheel for scikit-surprise: filename=scikit_surprise-1.1.1-cp37-cp37m-linux_x86_64.whl size=1617548 sha256=90682b568af8b554ce153536baeb85850208666028fb9d97e6d69d8dae9af4f4\n",
            "  Stored in directory: /root/.cache/pip/wheels/78/9c/3d/41b419c9d2aff5b6e2b4c0fc8d25c538202834058f9ed110d0\n",
            "Successfully built scikit-surprise\n",
            "Installing collected packages: scikit-surprise, surprise\n",
            "Successfully installed scikit-surprise-1.1.1 surprise-0.1\n"
          ],
          "name": "stdout"
        }
      ]
    },
    {
      "cell_type": "markdown",
      "metadata": {
        "id": "5EG4xwlMCTLm"
      },
      "source": [
        "<a id=\"a7b2\"></a>\n",
        "### Split the data into training and test set in the ratio of 70:30 respectively"
      ]
    },
    {
      "cell_type": "code",
      "metadata": {
        "trusted": false,
        "id": "3200_nzNCTLn"
      },
      "source": [
        "from surprise.model_selection import train_test_split\n",
        "trainset, testset = train_test_split(surprise_data, test_size=.3, random_state=10)"
      ],
      "execution_count": 45,
      "outputs": []
    },
    {
      "cell_type": "code",
      "metadata": {
        "trusted": false,
        "id": "JgWCYFZGCTLn"
      },
      "source": [
        "from collections import defaultdict\n",
        "\n",
        "def get_top_n(predictions, n=10):\n",
        "    # First map the predictions to each user.\n",
        "    top_n = defaultdict(list)\n",
        "    for uid, iid, true_r, est, _ in predictions:\n",
        "        top_n[uid].append((iid, est))\n",
        "\n",
        "    # Then sort the predictions for each user and retrieve the k highest ones.\n",
        "    for uid, user_ratings in top_n.items():\n",
        "        user_ratings.sort(key=lambda x: x[1], reverse=True)\n",
        "        top_n[uid] = user_ratings[:n]\n",
        "\n",
        "    return top_n"
      ],
      "execution_count": 46,
      "outputs": []
    },
    {
      "cell_type": "code",
      "metadata": {
        "trusted": false,
        "id": "DBiIt3yLCTLn"
      },
      "source": [
        "class collab_filtering_based_recommender_model():\n",
        "    def __init__(self, model, trainset, testset, data):\n",
        "        self.model = model\n",
        "        self.trainset = trainset\n",
        "        self.testset = testset\n",
        "        self.data = data\n",
        "        self.pred_test = None\n",
        "        self.recommendations = None\n",
        "        self.top_n = None\n",
        "        self.recommenddf = None\n",
        "\n",
        "    def fit_and_predict(self):        \n",
        "        printmd('**Fitting the train data...**', color='brown')\n",
        "        self.model.fit(self.trainset)       \n",
        "\n",
        "        printmd('**Predicting the test data...**', color='brown')\n",
        "        self.pred_test = self.model.test(self.testset)        \n",
        "        rmse = round(accuracy.rmse(self.pred_test), 3)\n",
        "        printmd('**RMSE for the predicted result is ' + str(rmse) + '**', color='brown')   \n",
        "        \n",
        "        self.top_n = get_top_n(self.pred_test)\n",
        "        self.recommenddf = pd.DataFrame(columns=['userId', 'productId', 'Rating'])\n",
        "        for item in self.top_n:\n",
        "            subdf = pd.DataFrame(self.top_n[item], columns=['productId', 'Rating'])\n",
        "            subdf['userId'] = item\n",
        "            cols = subdf.columns.tolist()\n",
        "            cols = cols[-1:] + cols[:-1]\n",
        "            subdf = subdf[cols]        \n",
        "            self.recommenddf = pd.concat([self.recommenddf, subdf], axis = 0)        \n",
        "        return rmse\n",
        "        \n",
        "    def cross_validate(self):\n",
        "        printmd('**Cross Validating the data...**', color='brown')\n",
        "        cv_result = cross_validate(self.model, self.data, n_jobs=-1)\n",
        "        cv_result = round(cv_result['test_rmse'].mean(),3)\n",
        "        printmd('**Mean CV RMSE is ' + str(cv_result)  + '**', color='brown')\n",
        "        return cv_result\n",
        "\n",
        "    def recommend(self, user_id, n=5):\n",
        "        printmd('**Recommending top ' + str(n)+ ' products for userid : ' + user_id + ' ...**', color='brown')\n",
        "        \n",
        "        #df = pd.DataFrame(self.top_n[user_id], columns=['productId', 'Rating'])\n",
        "        #df['UserId'] = user_id\n",
        "        #cols = df.columns.tolist()\n",
        "        #cols = cols[-1:] + cols[:-1]\n",
        "        #df = df[cols].head(n)\n",
        "        df = self.recommenddf[self.recommenddf['userId'] == user_id].head(n)\n",
        "        display(df)\n",
        "        return df\n",
        "        "
      ],
      "execution_count": 47,
      "outputs": []
    },
    {
      "cell_type": "code",
      "metadata": {
        "trusted": false,
        "id": "iGCxMIqnCTLn"
      },
      "source": [
        "from surprise.model_selection import RandomizedSearchCV\n",
        "\n",
        "def find_best_model(model, parameters,data):\n",
        "    clf = RandomizedSearchCV(model, parameters, n_jobs=-1, measures=['rmse'])\n",
        "    clf.fit(data)             \n",
        "    print(clf.best_score)\n",
        "    print(clf.best_params)\n",
        "    print(clf.best_estimator)\n",
        "    return clf"
      ],
      "execution_count": 48,
      "outputs": []
    },
    {
      "cell_type": "markdown",
      "metadata": {
        "id": "f43jYtbZCTLo"
      },
      "source": [
        "<a id=\"a7b3\"></a>\n",
        "### KNN With Means - Memory Based Collaborative Filtering"
      ]
    },
    {
      "cell_type": "markdown",
      "metadata": {
        "id": "x8k4fxVlCTLo"
      },
      "source": [
        "**User-User Collaborative Filtering**\n",
        "\n",
        "To find the rating R that a user U would give to an item I, the approach includes:\n",
        "\n",
        "1. Finding users similar to U who have rated the item I<br>\n",
        "2. Calculating the rating R based the ratings of users found in the previous step\n",
        "\n",
        "Here we are using KNN with means to remove the bias by taking into account the mean ratings of each user."
      ]
    },
    {
      "cell_type": "markdown",
      "metadata": {
        "id": "w70_FzS3CTLo"
      },
      "source": [
        "<a id=\"a7b3a\"></a>\n",
        "#### Find optimal model using RandomizedSearchCV"
      ]
    },
    {
      "cell_type": "code",
      "metadata": {
        "trusted": false,
        "colab": {
          "base_uri": "https://localhost:8080/"
        },
        "id": "j1s6GLdLCTLo",
        "outputId": "ecb1bd24-0e5e-4abb-c8f5-af6003b2e605"
      },
      "source": [
        "sim_options = {\n",
        "    \"name\": [\"msd\", \"cosine\", \"pearson\", \"pearson_baseline\"],\n",
        "    \"min_support\": [3, 4, 5],\n",
        "    \"user_based\": [True],\n",
        "}\n",
        "params = { 'k': range(30,50,1), 'sim_options': sim_options}\n",
        "clf = find_best_model(KNNWithMeans, params, surprise_data)"
      ],
      "execution_count": 49,
      "outputs": [
        {
          "output_type": "stream",
          "text": [
            "{'rmse': 1.0360457336680693}\n",
            "{'rmse': {'k': 42, 'sim_options': {'name': 'pearson', 'min_support': 5, 'user_based': True}}}\n",
            "{'rmse': <surprise.prediction_algorithms.knns.KNNWithMeans object at 0x7fee759dc3d0>}\n"
          ],
          "name": "stdout"
        }
      ]
    },
    {
      "cell_type": "markdown",
      "metadata": {
        "id": "tWnaqKCUCTLo"
      },
      "source": [
        "<a id=\"a7b3b\"></a>\n",
        "#### Initialize"
      ]
    },
    {
      "cell_type": "code",
      "metadata": {
        "trusted": false,
        "id": "xZhbc0QcCTLo"
      },
      "source": [
        "knnwithmeans = clf.best_estimator['rmse']\n",
        "col_fil_knnwithmeans = collab_filtering_based_recommender_model(knnwithmeans, trainset, testset, surprise_data)"
      ],
      "execution_count": 50,
      "outputs": []
    },
    {
      "cell_type": "markdown",
      "metadata": {
        "id": "PtQKTRT4CTLp"
      },
      "source": [
        "<a id=\"a7b3c\"></a>\n",
        "#### Fit and Predict"
      ]
    },
    {
      "cell_type": "code",
      "metadata": {
        "trusted": false,
        "colab": {
          "base_uri": "https://localhost:8080/",
          "height": 156
        },
        "id": "7Lr2MARpCTLp",
        "outputId": "29b268a1-4ff5-46c9-bced-147df7da09f7"
      },
      "source": [
        "knnwithmeans_rmse = col_fil_knnwithmeans.fit_and_predict()"
      ],
      "execution_count": 51,
      "outputs": [
        {
          "output_type": "display_data",
          "data": {
            "text/markdown": "<span style='color:brown'>**Fitting the train data...**</span>",
            "text/plain": [
              "<IPython.core.display.Markdown object>"
            ]
          },
          "metadata": {
            "tags": []
          }
        },
        {
          "output_type": "stream",
          "text": [
            "Computing the pearson similarity matrix...\n",
            "Done computing similarity matrix.\n"
          ],
          "name": "stdout"
        },
        {
          "output_type": "display_data",
          "data": {
            "text/markdown": "<span style='color:brown'>**Predicting the test data...**</span>",
            "text/plain": [
              "<IPython.core.display.Markdown object>"
            ]
          },
          "metadata": {
            "tags": []
          }
        },
        {
          "output_type": "stream",
          "text": [
            "RMSE: 1.0417\n"
          ],
          "name": "stdout"
        },
        {
          "output_type": "display_data",
          "data": {
            "text/markdown": "<span style='color:brown'>**RMSE for the predicted result is 1.042**</span>",
            "text/plain": [
              "<IPython.core.display.Markdown object>"
            ]
          },
          "metadata": {
            "tags": []
          }
        }
      ]
    },
    {
      "cell_type": "markdown",
      "metadata": {
        "id": "FVqLPrNECTLp"
      },
      "source": [
        "<a id=\"a7b3d\"></a>\n",
        "#### Cross Validate"
      ]
    },
    {
      "cell_type": "code",
      "metadata": {
        "trusted": false,
        "colab": {
          "base_uri": "https://localhost:8080/",
          "height": 67
        },
        "id": "C_phNufcCTLp",
        "outputId": "285ccbb4-e1b5-4704-9881-ce3594880688"
      },
      "source": [
        "knnwithmeans_cv_rmse = col_fil_knnwithmeans.cross_validate()"
      ],
      "execution_count": 52,
      "outputs": [
        {
          "output_type": "display_data",
          "data": {
            "text/markdown": "<span style='color:brown'>**Cross Validating the data...**</span>",
            "text/plain": [
              "<IPython.core.display.Markdown object>"
            ]
          },
          "metadata": {
            "tags": []
          }
        },
        {
          "output_type": "display_data",
          "data": {
            "text/markdown": "<span style='color:brown'>**Mean CV RMSE is 1.036**</span>",
            "text/plain": [
              "<IPython.core.display.Markdown object>"
            ]
          },
          "metadata": {
            "tags": []
          }
        }
      ]
    },
    {
      "cell_type": "markdown",
      "metadata": {
        "id": "L7ktx2PDCTLp"
      },
      "source": [
        "<a id=\"a7b3e\"></a>\n",
        "#### Recommend"
      ]
    },
    {
      "cell_type": "code",
      "metadata": {
        "trusted": false,
        "colab": {
          "base_uri": "https://localhost:8080/",
          "height": 646
        },
        "id": "ZJkhqCsOCTLq",
        "outputId": "8cadc143-8914-4bd2-afe7-d76c317e77d9"
      },
      "source": [
        "result_knn_user1 = col_fil_knnwithmeans.recommend(user_id='ANTN61S4L7WG9', n=5)\n",
        "result_knn_user2 = col_fil_knnwithmeans.recommend(user_id='AYNAH993VDECT', n=5)\n",
        "result_knn_user3 = col_fil_knnwithmeans.recommend(user_id='A18YMFFJW974QS', n=5)"
      ],
      "execution_count": 53,
      "outputs": [
        {
          "output_type": "display_data",
          "data": {
            "text/markdown": "<span style='color:brown'>**Recommending top 5 products for userid : ANTN61S4L7WG9 ...**</span>",
            "text/plain": [
              "<IPython.core.display.Markdown object>"
            ]
          },
          "metadata": {
            "tags": []
          }
        },
        {
          "output_type": "display_data",
          "data": {
            "text/html": [
              "<div>\n",
              "<style scoped>\n",
              "    .dataframe tbody tr th:only-of-type {\n",
              "        vertical-align: middle;\n",
              "    }\n",
              "\n",
              "    .dataframe tbody tr th {\n",
              "        vertical-align: top;\n",
              "    }\n",
              "\n",
              "    .dataframe thead th {\n",
              "        text-align: right;\n",
              "    }\n",
              "</style>\n",
              "<table border=\"1\" class=\"dataframe\">\n",
              "  <thead>\n",
              "    <tr style=\"text-align: right;\">\n",
              "      <th></th>\n",
              "      <th>userId</th>\n",
              "      <th>productId</th>\n",
              "      <th>Rating</th>\n",
              "    </tr>\n",
              "  </thead>\n",
              "  <tbody>\n",
              "    <tr>\n",
              "      <th>0</th>\n",
              "      <td>ANTN61S4L7WG9</td>\n",
              "      <td>B009Z7KMUM</td>\n",
              "      <td>5.000000</td>\n",
              "    </tr>\n",
              "    <tr>\n",
              "      <th>1</th>\n",
              "      <td>ANTN61S4L7WG9</td>\n",
              "      <td>B004CLYEDC</td>\n",
              "      <td>5.000000</td>\n",
              "    </tr>\n",
              "    <tr>\n",
              "      <th>2</th>\n",
              "      <td>ANTN61S4L7WG9</td>\n",
              "      <td>B0099SMFVQ</td>\n",
              "      <td>4.750906</td>\n",
              "    </tr>\n",
              "    <tr>\n",
              "      <th>3</th>\n",
              "      <td>ANTN61S4L7WG9</td>\n",
              "      <td>B00FRMAOIO</td>\n",
              "      <td>4.629167</td>\n",
              "    </tr>\n",
              "    <tr>\n",
              "      <th>4</th>\n",
              "      <td>ANTN61S4L7WG9</td>\n",
              "      <td>B0097CXWUW</td>\n",
              "      <td>4.502918</td>\n",
              "    </tr>\n",
              "  </tbody>\n",
              "</table>\n",
              "</div>"
            ],
            "text/plain": [
              "          userId   productId    Rating\n",
              "0  ANTN61S4L7WG9  B009Z7KMUM  5.000000\n",
              "1  ANTN61S4L7WG9  B004CLYEDC  5.000000\n",
              "2  ANTN61S4L7WG9  B0099SMFVQ  4.750906\n",
              "3  ANTN61S4L7WG9  B00FRMAOIO  4.629167\n",
              "4  ANTN61S4L7WG9  B0097CXWUW  4.502918"
            ]
          },
          "metadata": {
            "tags": []
          }
        },
        {
          "output_type": "display_data",
          "data": {
            "text/markdown": "<span style='color:brown'>**Recommending top 5 products for userid : AYNAH993VDECT ...**</span>",
            "text/plain": [
              "<IPython.core.display.Markdown object>"
            ]
          },
          "metadata": {
            "tags": []
          }
        },
        {
          "output_type": "display_data",
          "data": {
            "text/html": [
              "<div>\n",
              "<style scoped>\n",
              "    .dataframe tbody tr th:only-of-type {\n",
              "        vertical-align: middle;\n",
              "    }\n",
              "\n",
              "    .dataframe tbody tr th {\n",
              "        vertical-align: top;\n",
              "    }\n",
              "\n",
              "    .dataframe thead th {\n",
              "        text-align: right;\n",
              "    }\n",
              "</style>\n",
              "<table border=\"1\" class=\"dataframe\">\n",
              "  <thead>\n",
              "    <tr style=\"text-align: right;\">\n",
              "      <th></th>\n",
              "      <th>userId</th>\n",
              "      <th>productId</th>\n",
              "      <th>Rating</th>\n",
              "    </tr>\n",
              "  </thead>\n",
              "  <tbody>\n",
              "    <tr>\n",
              "      <th>0</th>\n",
              "      <td>AYNAH993VDECT</td>\n",
              "      <td>B00CPIF4G0</td>\n",
              "      <td>4.265306</td>\n",
              "    </tr>\n",
              "    <tr>\n",
              "      <th>1</th>\n",
              "      <td>AYNAH993VDECT</td>\n",
              "      <td>B002FU6KF2</td>\n",
              "      <td>4.265306</td>\n",
              "    </tr>\n",
              "    <tr>\n",
              "      <th>2</th>\n",
              "      <td>AYNAH993VDECT</td>\n",
              "      <td>B005NHTG6O</td>\n",
              "      <td>4.265306</td>\n",
              "    </tr>\n",
              "    <tr>\n",
              "      <th>3</th>\n",
              "      <td>AYNAH993VDECT</td>\n",
              "      <td>B005G0CUP2</td>\n",
              "      <td>4.265306</td>\n",
              "    </tr>\n",
              "    <tr>\n",
              "      <th>4</th>\n",
              "      <td>AYNAH993VDECT</td>\n",
              "      <td>B0038KN114</td>\n",
              "      <td>4.265306</td>\n",
              "    </tr>\n",
              "  </tbody>\n",
              "</table>\n",
              "</div>"
            ],
            "text/plain": [
              "          userId   productId    Rating\n",
              "0  AYNAH993VDECT  B00CPIF4G0  4.265306\n",
              "1  AYNAH993VDECT  B002FU6KF2  4.265306\n",
              "2  AYNAH993VDECT  B005NHTG6O  4.265306\n",
              "3  AYNAH993VDECT  B005G0CUP2  4.265306\n",
              "4  AYNAH993VDECT  B0038KN114  4.265306"
            ]
          },
          "metadata": {
            "tags": []
          }
        },
        {
          "output_type": "display_data",
          "data": {
            "text/markdown": "<span style='color:brown'>**Recommending top 5 products for userid : A18YMFFJW974QS ...**</span>",
            "text/plain": [
              "<IPython.core.display.Markdown object>"
            ]
          },
          "metadata": {
            "tags": []
          }
        },
        {
          "output_type": "display_data",
          "data": {
            "text/html": [
              "<div>\n",
              "<style scoped>\n",
              "    .dataframe tbody tr th:only-of-type {\n",
              "        vertical-align: middle;\n",
              "    }\n",
              "\n",
              "    .dataframe tbody tr th {\n",
              "        vertical-align: top;\n",
              "    }\n",
              "\n",
              "    .dataframe thead th {\n",
              "        text-align: right;\n",
              "    }\n",
              "</style>\n",
              "<table border=\"1\" class=\"dataframe\">\n",
              "  <thead>\n",
              "    <tr style=\"text-align: right;\">\n",
              "      <th></th>\n",
              "      <th>userId</th>\n",
              "      <th>productId</th>\n",
              "      <th>Rating</th>\n",
              "    </tr>\n",
              "  </thead>\n",
              "  <tbody>\n",
              "    <tr>\n",
              "      <th>0</th>\n",
              "      <td>A18YMFFJW974QS</td>\n",
              "      <td>B001PA94TW</td>\n",
              "      <td>4.261789</td>\n",
              "    </tr>\n",
              "    <tr>\n",
              "      <th>1</th>\n",
              "      <td>A18YMFFJW974QS</td>\n",
              "      <td>B001NZUFN8</td>\n",
              "      <td>4.261789</td>\n",
              "    </tr>\n",
              "    <tr>\n",
              "      <th>2</th>\n",
              "      <td>A18YMFFJW974QS</td>\n",
              "      <td>B0007WWI2O</td>\n",
              "      <td>4.261789</td>\n",
              "    </tr>\n",
              "    <tr>\n",
              "      <th>3</th>\n",
              "      <td>A18YMFFJW974QS</td>\n",
              "      <td>B003QP41EC</td>\n",
              "      <td>4.261789</td>\n",
              "    </tr>\n",
              "    <tr>\n",
              "      <th>4</th>\n",
              "      <td>A18YMFFJW974QS</td>\n",
              "      <td>B002RM08RE</td>\n",
              "      <td>4.156250</td>\n",
              "    </tr>\n",
              "  </tbody>\n",
              "</table>\n",
              "</div>"
            ],
            "text/plain": [
              "           userId   productId    Rating\n",
              "0  A18YMFFJW974QS  B001PA94TW  4.261789\n",
              "1  A18YMFFJW974QS  B001NZUFN8  4.261789\n",
              "2  A18YMFFJW974QS  B0007WWI2O  4.261789\n",
              "3  A18YMFFJW974QS  B003QP41EC  4.261789\n",
              "4  A18YMFFJW974QS  B002RM08RE  4.156250"
            ]
          },
          "metadata": {
            "tags": []
          }
        }
      ]
    },
    {
      "cell_type": "markdown",
      "metadata": {
        "id": "ILF3RjJlCTLq"
      },
      "source": [
        "<a id=\"a7b3f\"></a>\n",
        "#### Observations\n",
        "\n",
        "**KNN (K-Nearest Neighbours) With Means** model has an test RMSE value of **1.04** and cross validation RMSE value of **1.037**. \n",
        "\n",
        "AS for the recommendations, **each user will have different products recommended to them** as they are infered based on the ratings provided by the similar users. To find the similar users, KNN model uses **cosine similarity or Pearson's correlation** to find the nerghbours. "
      ]
    },
    {
      "cell_type": "markdown",
      "metadata": {
        "id": "qXJ7-rWcCTLq"
      },
      "source": [
        "<a id=\"a7b4\"></a>\n",
        "### SVD - Model Based Collaborative Filtering"
      ]
    },
    {
      "cell_type": "markdown",
      "metadata": {
        "id": "HoSUL9EwCTLq"
      },
      "source": [
        "The **Singular-Value Decomposition, or SVD** for short, is a matrix decomposition method for reducing a matrix to its constituent parts in order to make certain subsequent matrix calculations simpler. It provides another way to factorize a matrix, into singular vectors and singular values.\n",
        "\n",
        "$A = U . Sigma . V^T$"
      ]
    },
    {
      "cell_type": "markdown",
      "metadata": {
        "id": "rauk2_fmCTLr"
      },
      "source": [
        "<a id=\"a7b4a\"></a>\n",
        "#### Find optimal model using RandomizedSearchCV"
      ]
    },
    {
      "cell_type": "code",
      "metadata": {
        "trusted": false,
        "id": "wdeiTlJLCTLr"
      },
      "source": [
        "params= {\n",
        "    \"n_epochs\": [5, 10, 15, 20],\n",
        "    \"lr_all\": [0.002, 0.005],\n",
        "    \"reg_all\": [0.4, 0.6]\n",
        "}\n",
        "clf = find_best_model(SVD, params, surprise_data)"
      ],
      "execution_count": null,
      "outputs": []
    },
    {
      "cell_type": "markdown",
      "metadata": {
        "id": "V86W6UwLCTLr"
      },
      "source": [
        "<a id=\"a7b4b\"></a>\n",
        "#### Initialize"
      ]
    },
    {
      "cell_type": "code",
      "metadata": {
        "trusted": false,
        "id": "qNxWPV1ACTLr"
      },
      "source": [
        "svd = clf.best_estimator['rmse']\n",
        "col_fil_svd = collab_filtering_based_recommender_model(svd, trainset, testset, surprise_data)"
      ],
      "execution_count": null,
      "outputs": []
    },
    {
      "cell_type": "markdown",
      "metadata": {
        "id": "LCQM3OmpCTLs"
      },
      "source": [
        "<a id=\"a7b4c\"></a>\n",
        "#### Fit and Predict"
      ]
    },
    {
      "cell_type": "code",
      "metadata": {
        "trusted": false,
        "id": "xCLV4BAHCTLs"
      },
      "source": [
        "svd_rmse = col_fil_svd.fit_and_predict()"
      ],
      "execution_count": null,
      "outputs": []
    },
    {
      "cell_type": "markdown",
      "metadata": {
        "id": "Bt8QMwBcCTLs"
      },
      "source": [
        "<a id=\"a7b4d\"></a>\n",
        "#### Cross Validate"
      ]
    },
    {
      "cell_type": "code",
      "metadata": {
        "trusted": false,
        "id": "BtTd_8etCTLs"
      },
      "source": [
        "svd_cv_rmse = col_fil_svd.cross_validate()"
      ],
      "execution_count": null,
      "outputs": []
    },
    {
      "cell_type": "markdown",
      "metadata": {
        "id": "z4htzcqPCTLs"
      },
      "source": [
        "<a id=\"a7b4e\"></a>\n",
        "#### Recommend"
      ]
    },
    {
      "cell_type": "code",
      "metadata": {
        "trusted": false,
        "id": "-J0P4LoXCTLt"
      },
      "source": [
        "result_svd_user1 = col_fil_svd.recommend(user_id='ANTN61S4L7WG9', n=5)\n",
        "result_svd_user2 = col_fil_svd.recommend(user_id='AYNAH993VDECT', n=5)\n",
        "result_svd_user3 = col_fil_svd.recommend(user_id='A18YMFFJW974QS', n=5)"
      ],
      "execution_count": null,
      "outputs": []
    },
    {
      "cell_type": "markdown",
      "metadata": {
        "id": "z8V4WPVgCTLt"
      },
      "source": [
        "<a id=\"a7b4f\"></a>\n",
        "#### Observations\n",
        "\n",
        "SVD (Singular Value Decomposition) model has an test RMSE value of **0.99** and cross validation RMSE value of **0.981**. Using this model we have a reduced RMSE value compared to KNNWithMeans.\n",
        "\n",
        "AS for the recommendations, **each user will have different products recommended to them** as they are infered by filling out missing entries in the matrix during matrix factorization using SVD."
      ]
    },
    {
      "cell_type": "markdown",
      "metadata": {
        "id": "QbDX1f0xCTLt"
      },
      "source": [
        "<a id=\"a7b5\"></a>\n",
        "### Other SURPRISE algorithms"
      ]
    },
    {
      "cell_type": "code",
      "metadata": {
        "trusted": false,
        "id": "Z5Npfq4jCTLt"
      },
      "source": [
        "from surprise import NMF\n",
        "from surprise import KNNBaseline\n",
        "from surprise import KNNBasic\n",
        "from surprise import KNNWithZScore\n",
        "from surprise import BaselineOnly\n",
        "from surprise import CoClustering\n",
        "benchmark = []\n",
        "# Iterate over all algorithms\n",
        "for algorithm in [NMF(), KNNBaseline(), KNNBasic(), KNNWithZScore(), BaselineOnly(), CoClustering()]:\n",
        "    # Perform cross validation\n",
        "    results = cross_validate(algorithm, surprise_data, measures=['RMSE'], cv=5, verbose=False)\n",
        "    \n",
        "    # Get results & append algorithm name\n",
        "    tmp = pd.DataFrame.from_dict(results).mean(axis=0)\n",
        "    tmp = tmp.append(pd.Series([str(algorithm).split(' ')[0].split('.')[-1]], index=['Algorithm']))\n",
        "    benchmark.append(tmp)\n",
        "    \n",
        "pd.DataFrame(benchmark).set_index('Algorithm').sort_values('test_rmse') "
      ],
      "execution_count": null,
      "outputs": []
    },
    {
      "cell_type": "markdown",
      "metadata": {
        "id": "26SJWglZCTLt"
      },
      "source": [
        "<a id=\"a7b5a\"></a>\n",
        "#### Observations\n",
        "\n",
        "Looking at the above result, we can say BaselineOnly model works well with the data as it is having the least RMSE score of 0.979."
      ]
    },
    {
      "cell_type": "markdown",
      "metadata": {
        "id": "gD7mAxH5CTLu"
      },
      "source": [
        "<a id=\"a8\"></a>\n",
        "# Conclusion"
      ]
    },
    {
      "cell_type": "markdown",
      "metadata": {
        "id": "mHl_QRtMCTLu"
      },
      "source": [
        "**Recommender systems** are algorithms aimed at suggesting relevant items to users (items being movies to watch, text to read, products to buy or anything else depending on industries). Recommender systems are really critical in some industries as they can generate a huge amount of income when they are efficient or also be a way to stand out significantly from competitors.\n",
        "\n",
        "We have used 2 different types here,\n",
        "\n",
        "1. Popularity Based Recommender System\n",
        "2. Collaborative Filtering Recommender System\n",
        "\n",
        "Below are the recommended results of same 3 users picked at random for all the models,"
      ]
    },
    {
      "cell_type": "markdown",
      "metadata": {
        "id": "4-nbqQD3CTLu"
      },
      "source": [
        "<a id=\"a8a\"></a>\n",
        "## Popularity Based Recommendation Model"
      ]
    },
    {
      "cell_type": "markdown",
      "metadata": {
        "id": "be7qaJTkCTLu"
      },
      "source": [
        "Being popularity based recommender model, we have got the same result for all three users i.e. **the model is recommending same products for all the users** as shown below,"
      ]
    },
    {
      "cell_type": "code",
      "metadata": {
        "trusted": false,
        "id": "MVaGejquCTLv"
      },
      "source": [
        "display_side_by_side([result_pop_user1, result_pop_user2, result_pop_user3])"
      ],
      "execution_count": null,
      "outputs": []
    },
    {
      "cell_type": "markdown",
      "metadata": {
        "id": "glc_2AC5CTLv"
      },
      "source": [
        "<a id=\"a8b\"></a>\n",
        "## Collaborative Filtering Recommendation Model"
      ]
    },
    {
      "cell_type": "markdown",
      "metadata": {
        "id": "ZZRJ4UzcCTLv"
      },
      "source": [
        "<a id=\"a8b1\"></a>\n",
        "### KNNWithMeans Model"
      ]
    },
    {
      "cell_type": "markdown",
      "metadata": {
        "id": "1xOmWN5PCTLw"
      },
      "source": [
        "**KNN (K-Nearest Neighbours) With Means** model has an test RMSE value of **1.04** and cross validation RMSE value of **1.037. Each user will have different products recommended to them** as they are infered based on the ratings provided by the similar users."
      ]
    },
    {
      "cell_type": "code",
      "metadata": {
        "trusted": false,
        "id": "FC8mejlFCTLw"
      },
      "source": [
        "display_side_by_side([result_knn_user1, result_knn_user2, result_knn_user3])"
      ],
      "execution_count": null,
      "outputs": []
    },
    {
      "cell_type": "markdown",
      "metadata": {
        "id": "32xfUBt-CTLx"
      },
      "source": [
        "<a id=\"a8b2\"></a>\n",
        "### SVD Model"
      ]
    },
    {
      "cell_type": "markdown",
      "metadata": {
        "id": "6dxILCZvCTLx"
      },
      "source": [
        "**SVD (Singular Value Decomposition) model** has an test RMSE value of **0.99** and cross validation RMSE value of **0.981**. Each user will have different products recommended to them."
      ]
    },
    {
      "cell_type": "code",
      "metadata": {
        "trusted": false,
        "id": "EwytNYRHCTLx"
      },
      "source": [
        "display_side_by_side([result_svd_user1, result_svd_user2, result_svd_user3])"
      ],
      "execution_count": null,
      "outputs": []
    },
    {
      "cell_type": "markdown",
      "metadata": {
        "id": "EpABzoFsCTLy"
      },
      "source": [
        "**SVD** is better model compared to KNN or Popularity with a better RMSE value of **0.981**. We can also see the products that are recommended in SVD is different to that of KNNWithMeans as SVD uses matrix factorization. This is more useful when the data is sparse with many missing ratings. "
      ]
    },
    {
      "cell_type": "markdown",
      "metadata": {
        "id": "VU7MhhBZCTLy"
      },
      "source": [
        "# END"
      ]
    },
    {
      "cell_type": "code",
      "metadata": {
        "trusted": false,
        "id": "dRsBu396CTLy"
      },
      "source": [
        ""
      ],
      "execution_count": null,
      "outputs": []
    }
  ]
}