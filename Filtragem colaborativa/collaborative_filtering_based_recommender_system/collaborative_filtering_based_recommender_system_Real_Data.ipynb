{
  "nbformat": 4,
  "nbformat_minor": 0,
  "metadata": {
    "kernelspec": {
      "display_name": "Python 3",
      "language": "python",
      "name": "python3"
    },
    "language_info": {
      "codemirror_mode": {
        "name": "ipython",
        "version": 3
      },
      "file_extension": ".py",
      "mimetype": "text/x-python",
      "name": "python",
      "nbconvert_exporter": "python",
      "pygments_lexer": "ipython3",
      "version": "3.7.5"
    },
    "toc": {
      "base_numbering": 1,
      "nav_menu": {},
      "number_sections": false,
      "sideBar": true,
      "skip_h1_title": false,
      "title_cell": "Table of Contents",
      "title_sidebar": "Contents",
      "toc_cell": true,
      "toc_position": {
        "height": "calc(100% - 180px)",
        "left": "10px",
        "top": "150px",
        "width": "165px"
      },
      "toc_section_display": true,
      "toc_window_display": true
    },
    "colab": {
      "name": "collaborative_filtering_based_recommender_system_otica.ipynb",
      "provenance": []
    }
  },
  "cells": [
    {
      "cell_type": "markdown",
      "metadata": {
        "toc": true,
        "id": "jgrNDb0xCTK6"
      },
      "source": [
        "<h1>Table of Contents<span class=\"tocSkip\"></span></h1>\n",
        "<div class=\"toc\"><ul class=\"toc-item\"><li><span><a href=\"#Import-the-necessary-libraries\" data-toc-modified-id=\"Import-the-necessary-libraries-1\">Import the necessary libraries</a></span></li><li><span><a href=\"#Read-the-data-as-a-data-frame\" data-toc-modified-id=\"Read-the-data-as-a-data-frame-2\">Read the data as a data frame</a></span></li><li><span><a href=\"#Attributes-and-Information\" data-toc-modified-id=\"Attributes-and-Information-3\">Attributes and Information</a></span></li><li><span><a href=\"#Perform-basic-EDA\" data-toc-modified-id=\"Perform-basic-EDA-4\">Perform basic EDA</a></span><ul class=\"toc-item\"><li><span><a href=\"#a.-Drop-'timestamp'-attribute\" data-toc-modified-id=\"a.-Drop-'timestamp'-attribute-4.1\">a. Drop 'timestamp' attribute</a></span></li><li><span><a href=\"#b.-Create-subset-of-the-original-dataset\" data-toc-modified-id=\"b.-Create-subset-of-the-original-dataset-4.2\">b. Create subset of the original dataset</a></span></li><li><span><a href=\"#c.-Shape-of-the-data\" data-toc-modified-id=\"c.-Shape-of-the-data-4.3\">c. Shape of the data</a></span></li><li><span><a href=\"#d.-Data-type-of-each-attribute\" data-toc-modified-id=\"d.-Data-type-of-each-attribute-4.4\">d. Data type of each attribute</a></span></li><li><span><a href=\"#e.-Checking-the-presence-of-missing-values\" data-toc-modified-id=\"e.-Checking-the-presence-of-missing-values-4.5\">e. Checking the presence of missing values</a></span></li><li><span><a href=\"#f.-5-point-summary-of-numerical-attributes\" data-toc-modified-id=\"f.-5-point-summary-of-numerical-attributes-4.6\">f. 5 point summary of numerical attributes</a></span><ul class=\"toc-item\"><li><span><a href=\"#Observations\" data-toc-modified-id=\"Observations-4.6.1\">Observations</a></span></li></ul></li><li><span><a href=\"#g.-Unique-Users-and-Products-Count\" data-toc-modified-id=\"g.-Unique-Users-and-Products-Count-4.7\">g. Unique Users and Products Count</a></span></li></ul></li><li><span><a href=\"#Data-Analysis-and-Visualization\" data-toc-modified-id=\"Data-Analysis-and-Visualization-5\">Data Analysis and Visualization</a></span><ul class=\"toc-item\"><li><span><a href=\"#a.-Rating-Distribution\" data-toc-modified-id=\"a.-Rating-Distribution-5.1\">a. Rating Distribution</a></span><ul class=\"toc-item\"><li><span><a href=\"#Observations\" data-toc-modified-id=\"Observations-5.1.1\">Observations</a></span></li><li><span><a href=\"#Observations\" data-toc-modified-id=\"Observations-5.1.2\">Observations</a></span></li></ul></li><li><span><a href=\"#b.-Top-Rating-Count-Distribution-grouped-by-Products\" data-toc-modified-id=\"b.-Top-Rating-Count-Distribution-grouped-by-Products-5.2\">b. Top Rating Count Distribution grouped by Products</a></span><ul class=\"toc-item\"><li><span><a href=\"#Observations\" data-toc-modified-id=\"Observations-5.2.1\">Observations</a></span></li></ul></li><li><span><a href=\"#c.-Top-Rating-Count-Distribution-grouped-by-Users\" data-toc-modified-id=\"c.-Top-Rating-Count-Distribution-grouped-by-Users-5.3\">c. Top Rating Count Distribution grouped by Users</a></span><ul class=\"toc-item\"><li><span><a href=\"#Observations\" data-toc-modified-id=\"Observations-5.3.1\">Observations</a></span></li></ul></li><li><span><a href=\"#d.-Mean-Rating-Distribution-grouped-by-Products\" data-toc-modified-id=\"d.-Mean-Rating-Distribution-grouped-by-Products-5.4\">d. Mean Rating Distribution grouped by Products</a></span><ul class=\"toc-item\"><li><span><a href=\"#Observations\" data-toc-modified-id=\"Observations-5.4.1\">Observations</a></span></li></ul></li><li><span><a href=\"#e.-Mean-Rating---Rating-Count-Distribution-grouped-by-Products\" data-toc-modified-id=\"e.-Mean-Rating---Rating-Count-Distribution-grouped-by-Products-5.5\">e. Mean Rating - Rating Count Distribution grouped by Products</a></span><ul class=\"toc-item\"><li><span><a href=\"#Observations\" data-toc-modified-id=\"Observations-5.5.1\">Observations</a></span></li></ul></li><li><span><a href=\"#f.-Mean-Rating-Distribution-grouped-by-Users\" data-toc-modified-id=\"f.-Mean-Rating-Distribution-grouped-by-Users-5.6\">f. Mean Rating Distribution grouped by Users</a></span><ul class=\"toc-item\"><li><span><a href=\"#Observations\" data-toc-modified-id=\"Observations-5.6.1\">Observations</a></span></li></ul></li><li><span><a href=\"#g.-Mean-Rating---Rating-Count-Distribution-grouped-by-Users\" data-toc-modified-id=\"g.-Mean-Rating---Rating-Count-Distribution-grouped-by-Users-5.7\">g. Mean Rating - Rating Count Distribution grouped by Users</a></span><ul class=\"toc-item\"><li><span><a href=\"#Observations\" data-toc-modified-id=\"Observations-5.7.1\">Observations</a></span></li></ul></li></ul></li><li><span><a href=\"#Split-the-data-into-training-and-test-set-in-the-ratio-of-70:30-respectively\" data-toc-modified-id=\"Split-the-data-into-training-and-test-set-in-the-ratio-of-70:30-respectively-6\">Split the data into training and test set in the ratio of 70:30 respectively</a></span></li><li><span><a href=\"#Recommender-Systems\" data-toc-modified-id=\"Recommender-Systems-7\">Recommender Systems</a></span><ul class=\"toc-item\"><li><span><a href=\"#a.-Popularity-Based-Recommender-Model\" data-toc-modified-id=\"a.-Popularity-Based-Recommender-Model-7.1\">a. Popularity Based Recommender Model</a></span><ul class=\"toc-item\"><li><span><a href=\"#Initialize\" data-toc-modified-id=\"Initialize-7.1.1\">Initialize</a></span></li><li><span><a href=\"#Fit\" data-toc-modified-id=\"Fit-7.1.2\">Fit</a></span></li><li><span><a href=\"#Recommend\" data-toc-modified-id=\"Recommend-7.1.3\">Recommend</a></span></li><li><span><a href=\"#Observations\" data-toc-modified-id=\"Observations-7.1.4\">Observations</a></span></li></ul></li><li><span><a href=\"#b.-Collaborative-Filtering-Recommender-Model-using-SURPRISE-Library\" data-toc-modified-id=\"b.-Collaborative-Filtering-Recommender-Model-using-SURPRISE-Library-7.2\">b. Collaborative Filtering Recommender Model using SURPRISE Library</a></span><ul class=\"toc-item\"><li><span><a href=\"#Load-Surprise-Data-from-DataFrame\" data-toc-modified-id=\"Load-Surprise-Data-from-DataFrame-7.2.1\">Load Surprise Data from DataFrame</a></span></li><li><span><a href=\"#Split-the-data-into-training-and-test-set-in-the-ratio-of-70:30-respectively\" data-toc-modified-id=\"Split-the-data-into-training-and-test-set-in-the-ratio-of-70:30-respectively-7.2.2\">Split the data into training and test set in the ratio of 70:30 respectively</a></span></li><li><span><a href=\"#KNN-With-Means---Memory-Based-Collaborative-Filtering\" data-toc-modified-id=\"KNN-With-Means---Memory-Based-Collaborative-Filtering-7.2.3\">KNN With Means - Memory Based Collaborative Filtering</a></span><ul class=\"toc-item\"><li><span><a href=\"#Find-optimal-model-using-RandomizedSearchCV\" data-toc-modified-id=\"Find-optimal-model-using-RandomizedSearchCV-7.2.3.1\">Find optimal model using RandomizedSearchCV</a></span></li><li><span><a href=\"#Initialize\" data-toc-modified-id=\"Initialize-7.2.3.2\">Initialize</a></span></li><li><span><a href=\"#Fit-and-Predict\" data-toc-modified-id=\"Fit-and-Predict-7.2.3.3\">Fit and Predict</a></span></li><li><span><a href=\"#Cross-Validate\" data-toc-modified-id=\"Cross-Validate-7.2.3.4\">Cross Validate</a></span></li><li><span><a href=\"#Recommend\" data-toc-modified-id=\"Recommend-7.2.3.5\">Recommend</a></span></li><li><span><a href=\"#Observations\" data-toc-modified-id=\"Observations-7.2.3.6\">Observations</a></span></li></ul></li><li><span><a href=\"#SVD---Model-Based-Collaborative-Filtering\" data-toc-modified-id=\"SVD---Model-Based-Collaborative-Filtering-7.2.4\">SVD - Model Based Collaborative Filtering</a></span><ul class=\"toc-item\"><li><span><a href=\"#Find-optimal-model-using-RandomizedSearchCV\" data-toc-modified-id=\"Find-optimal-model-using-RandomizedSearchCV-7.2.4.1\">Find optimal model using RandomizedSearchCV</a></span></li><li><span><a href=\"#Initialize\" data-toc-modified-id=\"Initialize-7.2.4.2\">Initialize</a></span></li><li><span><a href=\"#Fit-and-Predict\" data-toc-modified-id=\"Fit-and-Predict-7.2.4.3\">Fit and Predict</a></span></li><li><span><a href=\"#Cross-Validate\" data-toc-modified-id=\"Cross-Validate-7.2.4.4\">Cross Validate</a></span></li><li><span><a href=\"#Recommend\" data-toc-modified-id=\"Recommend-7.2.4.5\">Recommend</a></span></li><li><span><a href=\"#Observations\" data-toc-modified-id=\"Observations-7.2.4.6\">Observations</a></span></li></ul></li><li><span><a href=\"#Other-SURPRISE-algorithms\" data-toc-modified-id=\"Other-SURPRISE-algorithms-7.2.5\">Other SURPRISE algorithms</a></span><ul class=\"toc-item\"><li><span><a href=\"#Observations\" data-toc-modified-id=\"Observations-7.2.5.1\">Observations</a></span></li></ul></li></ul></li></ul></li><li><span><a href=\"#Conclusion\" data-toc-modified-id=\"Conclusion-8\">Conclusion</a></span><ul class=\"toc-item\"><li><span><a href=\"#Popularity-Based-Recommendation-Model\" data-toc-modified-id=\"Popularity-Based-Recommendation-Model-8.1\">Popularity Based Recommendation Model</a></span></li><li><span><a href=\"#Collaborative-Filtering-Recommendation-Model\" data-toc-modified-id=\"Collaborative-Filtering-Recommendation-Model-8.2\">Collaborative Filtering Recommendation Model</a></span><ul class=\"toc-item\"><li><span><a href=\"#KNNWithMeans-Model\" data-toc-modified-id=\"KNNWithMeans-Model-8.2.1\">KNNWithMeans Model</a></span></li><li><span><a href=\"#SVD-Model\" data-toc-modified-id=\"SVD-Model-8.2.2\">SVD Model</a></span></li></ul></li></ul></li><li><span><a href=\"#END\" data-toc-modified-id=\"END-9\">END</a></span></li></ul></div>"
      ]
    },
    {
      "cell_type": "markdown",
      "metadata": {
        "id": "vNNd_MCrCTLE"
      },
      "source": [
        "<a id=\"a1\"></a>\n",
        "# Import the necessary libraries"
      ]
    },
    {
      "cell_type": "code",
      "metadata": {
        "trusted": true,
        "id": "mYqHAUj1CTLG"
      },
      "source": [
        "import warnings\n",
        "warnings.filterwarnings('ignore')\n",
        "import numpy as np\n",
        "import pandas as pd\n",
        "import pandas_profiling \n",
        "import matplotlib.pyplot as plt\n",
        "import seaborn as sns\n",
        "sns.set_color_codes()\n",
        "sns.set(style=\"whitegrid\")\n",
        "%matplotlib inline\n",
        "from scipy.stats import zscore\n",
        "from sklearn import metrics\n",
        "from sklearn.model_selection import train_test_split\n",
        "from sklearn.model_selection import KFold\n",
        "from sklearn.model_selection import cross_val_score\n",
        "from sklearn.decomposition import PCA\n",
        "from sklearn.preprocessing import StandardScaler\n",
        "from sklearn.metrics import mean_squared_error\n",
        "from math import sqrt\n",
        "\n",
        "import requests\n",
        "from io import StringIO\n",
        "\n",
        "#setting up for customized printing\n",
        "from IPython.display import Markdown, display\n",
        "from IPython.display import HTML\n",
        "def printmd(string, color=None):\n",
        "    colorstr = \"<span style='color:{}'>{}</span>\".format(color, string)\n",
        "    display(Markdown(colorstr))\n",
        "    \n",
        "#function to display dataframes side by side    \n",
        "from IPython.display import display_html\n",
        "def display_side_by_side(args):\n",
        "    html_str=''\n",
        "    for df in args:\n",
        "        html_str+=df.to_html()\n",
        "    display_html(html_str.replace('table','table style=\"display:inline;margin-left:50px !important;margin-right: 40px !important\"'),raw=True)"
      ],
      "execution_count": 1,
      "outputs": []
    },
    {
      "cell_type": "code",
      "metadata": {
        "trusted": true,
        "id": "o-JNgWSXCTLH"
      },
      "source": [
        "def distplot(figRows,figCols,xSize, ySize, data, features, colors, kde=True, bins=None):\n",
        "    f, axes = plt.subplots(figRows, figCols, figsize=(xSize, ySize))\n",
        "    \n",
        "    features = np.array(features).reshape(figRows, figCols)\n",
        "    colors = np.array(colors).reshape(figRows, figCols)\n",
        "    \n",
        "    for row in range(figRows):\n",
        "        for col in range(figCols):\n",
        "            if (figRows == 1 and figCols == 1) :\n",
        "                axesplt = axes\n",
        "            elif (figRows == 1 and figCols > 1) :\n",
        "                axesplt = axes[col]\n",
        "            elif (figRows > 1 and figCols == 1) :\n",
        "                axesplt = axes[row]\n",
        "            else:\n",
        "                axesplt = axes[row][col]\n",
        "            plot = sns.distplot(data[features[row][col]], color=colors[row][col], bins=bins, ax=axesplt, kde=kde, hist_kws={\"edgecolor\":\"k\"})\n",
        "            plot.set_xlabel(features[row][col],fontsize=20)"
      ],
      "execution_count": 2,
      "outputs": []
    },
    {
      "cell_type": "code",
      "metadata": {
        "trusted": true,
        "id": "eIjT_ayZCTLI"
      },
      "source": [
        "def scatterplot(rowFeature, colFeature, data):\n",
        "    f, axes = plt.subplots(1, 1, figsize=(10, 8))\n",
        "        \n",
        "    plot=sns.scatterplot(x=rowFeature, y=colFeature, data=data, ax=axes)\n",
        "    plot.set_xlabel(rowFeature,fontsize=20)\n",
        "    plot.set_ylabel(colFeature,fontsize=20)            "
      ],
      "execution_count": 3,
      "outputs": []
    },
    {
      "cell_type": "markdown",
      "metadata": {
        "id": "uuJs6QCpCTLJ"
      },
      "source": [
        "<a id=\"a2\"></a>\n",
        "# Read the data as a data frame"
      ]
    },
    {
      "cell_type": "code",
      "metadata": {
        "trusted": true,
        "id": "4punh5npCTLK"
      },
      "source": [
        "# orig_url='https://drive.google.com/file/d/1ClBptsK3V5KgKXtK2GSRzFNAW7GnTPDW/view?usp=sharing'\n",
        "# file_id = orig_url.split('/')[-2]\n",
        "# file_id"
      ],
      "execution_count": 4,
      "outputs": []
    },
    {
      "cell_type": "code",
      "metadata": {
        "trusted": true,
        "id": "4CN-Wz_vCTLK"
      },
      "source": [
        "# dwn_url='http://drive.google.com/uc?export=download&confirm=pAkV&id=' + file_id\n",
        "# url = requests.get(dwn_url)\n",
        "# url.text"
      ],
      "execution_count": 5,
      "outputs": []
    },
    {
      "cell_type": "code",
      "metadata": {
        "trusted": true,
        "id": "gIUaaiHkCTLL",
        "colab": {
          "base_uri": "https://localhost:8080/",
          "height": 406
        },
        "outputId": "0aee6ca4-27d1-4984-90a2-44259afeb7e1"
      },
      "source": [
        "#electronics = pd.read_csv('ratings_Electronics.csv', names=['userId', 'productId', 'Rating','timestamp'], header=None)\n",
        "electronics = pd.read_csv('/content/df_not_zero_grouped.csv',sep=';',\n",
        "                          dtype={'userId': str,'productId':str})\n",
        "electronics_zero = pd.read_csv('/content/df_zero.csv',sep=';',\n",
        "                          dtype={'userId': str,'productId':str})\n",
        "electronics.rename({'counts': 'Rating'}, axis=1, inplace=True)\n",
        "electronics.drop(['Unnamed: 0'],axis=1,inplace=True) \n",
        "names=pd.read_csv('/content/ProdutoComVenda_Abr2019_Abr2021_OC.csv',sep=';')\n",
        "names.productId = names.productId.astype(str)\n",
        "names.dtypes\n",
        "\n",
        "#electronics=pd.DataFrame(electronics)\n",
        "electronics=electronics.loc[:20000,:]\n",
        "electronics\n",
        "                          "
      ],
      "execution_count": 6,
      "outputs": [
        {
          "output_type": "execute_result",
          "data": {
            "text/html": [
              "<div>\n",
              "<style scoped>\n",
              "    .dataframe tbody tr th:only-of-type {\n",
              "        vertical-align: middle;\n",
              "    }\n",
              "\n",
              "    .dataframe tbody tr th {\n",
              "        vertical-align: top;\n",
              "    }\n",
              "\n",
              "    .dataframe thead th {\n",
              "        text-align: right;\n",
              "    }\n",
              "</style>\n",
              "<table border=\"1\" class=\"dataframe\">\n",
              "  <thead>\n",
              "    <tr style=\"text-align: right;\">\n",
              "      <th></th>\n",
              "      <th>userId</th>\n",
              "      <th>productId</th>\n",
              "      <th>Rating</th>\n",
              "    </tr>\n",
              "  </thead>\n",
              "  <tbody>\n",
              "    <tr>\n",
              "      <th>0</th>\n",
              "      <td>1</td>\n",
              "      <td>81572</td>\n",
              "      <td>1</td>\n",
              "    </tr>\n",
              "    <tr>\n",
              "      <th>1</th>\n",
              "      <td>2</td>\n",
              "      <td>81572</td>\n",
              "      <td>2</td>\n",
              "    </tr>\n",
              "    <tr>\n",
              "      <th>2</th>\n",
              "      <td>29</td>\n",
              "      <td>81065</td>\n",
              "      <td>1</td>\n",
              "    </tr>\n",
              "    <tr>\n",
              "      <th>3</th>\n",
              "      <td>29</td>\n",
              "      <td>81730</td>\n",
              "      <td>1</td>\n",
              "    </tr>\n",
              "    <tr>\n",
              "      <th>4</th>\n",
              "      <td>29</td>\n",
              "      <td>83484</td>\n",
              "      <td>1</td>\n",
              "    </tr>\n",
              "    <tr>\n",
              "      <th>...</th>\n",
              "      <td>...</td>\n",
              "      <td>...</td>\n",
              "      <td>...</td>\n",
              "    </tr>\n",
              "    <tr>\n",
              "      <th>19996</th>\n",
              "      <td>127238</td>\n",
              "      <td>10437</td>\n",
              "      <td>1</td>\n",
              "    </tr>\n",
              "    <tr>\n",
              "      <th>19997</th>\n",
              "      <td>127238</td>\n",
              "      <td>68857</td>\n",
              "      <td>1</td>\n",
              "    </tr>\n",
              "    <tr>\n",
              "      <th>19998</th>\n",
              "      <td>127238</td>\n",
              "      <td>71346</td>\n",
              "      <td>1</td>\n",
              "    </tr>\n",
              "    <tr>\n",
              "      <th>19999</th>\n",
              "      <td>127238</td>\n",
              "      <td>81572</td>\n",
              "      <td>1</td>\n",
              "    </tr>\n",
              "    <tr>\n",
              "      <th>20000</th>\n",
              "      <td>127238</td>\n",
              "      <td>89963</td>\n",
              "      <td>1</td>\n",
              "    </tr>\n",
              "  </tbody>\n",
              "</table>\n",
              "<p>20001 rows × 3 columns</p>\n",
              "</div>"
            ],
            "text/plain": [
              "       userId productId  Rating\n",
              "0           1     81572       1\n",
              "1           2     81572       2\n",
              "2          29     81065       1\n",
              "3          29     81730       1\n",
              "4          29     83484       1\n",
              "...       ...       ...     ...\n",
              "19996  127238     10437       1\n",
              "19997  127238     68857       1\n",
              "19998  127238     71346       1\n",
              "19999  127238     81572       1\n",
              "20000  127238     89963       1\n",
              "\n",
              "[20001 rows x 3 columns]"
            ]
          },
          "metadata": {
            "tags": []
          },
          "execution_count": 6
        }
      ]
    },
    {
      "cell_type": "markdown",
      "metadata": {
        "id": "FVvjRQ4gCTLM"
      },
      "source": [
        "<a id=\"a3\"></a>\n",
        "# Attributes and Information"
      ]
    },
    {
      "cell_type": "markdown",
      "metadata": {
        "id": "8NIvrZSqCTLM"
      },
      "source": [
        "1. **userId** : Every user identified with a unique id<br>\n",
        "2. **productId** : Every product identified with a unique id<br>\n",
        "3. **Rating** : Rating of the corresponding product by the corresponding user<br>\n",
        "4. **timestamp** : Time of the rating"
      ]
    },
    {
      "cell_type": "markdown",
      "metadata": {
        "id": "3f70BGDGCTLN"
      },
      "source": [
        "<a id=\"a4\"></a>\n",
        "# Perform basic EDA"
      ]
    },
    {
      "cell_type": "markdown",
      "metadata": {
        "id": "Dknm9zAUCTLN"
      },
      "source": [
        "<a id=\"a4a\"></a>\n",
        "## a. Drop 'timestamp' attribute"
      ]
    },
    {
      "cell_type": "code",
      "metadata": {
        "trusted": false,
        "id": "bzAkVQTFCTLN"
      },
      "source": [
        "#electronics.drop('timestamp', axis=1, inplace=True)"
      ],
      "execution_count": 7,
      "outputs": []
    },
    {
      "cell_type": "markdown",
      "metadata": {
        "id": "YhRSHpR6CTLO"
      },
      "source": [
        "<a id=\"a4b\"></a>\n",
        "## b. Create subset of the original dataset"
      ]
    },
    {
      "cell_type": "markdown",
      "metadata": {
        "id": "XiNUQEfjCTLO"
      },
      "source": [
        "**Filtering the users who has given 50 or more number of ratings**"
      ]
    },
    {
      "cell_type": "code",
      "metadata": {
        "trusted": false,
        "id": "Fl4dCHBXCTLO"
      },
      "source": [
        "#electronics_groupby_users_Ratings = electronics.groupby('userId')['Rating']\n",
        "#electronics_groupby_users_Ratings = pd.DataFrame(electronics_groupby_users_Ratings.count())"
      ],
      "execution_count": 8,
      "outputs": []
    },
    {
      "cell_type": "code",
      "metadata": {
        "trusted": false,
        "id": "obuM6jbaCTLP"
      },
      "source": [
        "#user_list_min50_ratings = electronics_groupby_users_Ratings[electronics_groupby_users_Ratings['Rating'] >= 50].index\n",
        "#electronics =  electronics[electronics['userId'].isin(user_list_min50_ratings)]"
      ],
      "execution_count": 9,
      "outputs": []
    },
    {
      "cell_type": "markdown",
      "metadata": {
        "id": "8C-YJcOYCTLP"
      },
      "source": [
        "<a id=\"a4c\"></a>\n",
        "## c. Shape of the data"
      ]
    },
    {
      "cell_type": "code",
      "metadata": {
        "trusted": false,
        "colab": {
          "base_uri": "https://localhost:8080/"
        },
        "id": "zqcIeWKmCTLQ",
        "outputId": "ba367ba1-673b-4fe2-aade-b8bc111da470"
      },
      "source": [
        "print('The total number of rows :', electronics.shape[0])\n",
        "print('The total number of columns :', electronics.shape[1])"
      ],
      "execution_count": 10,
      "outputs": [
        {
          "output_type": "stream",
          "text": [
            "The total number of rows : 20001\n",
            "The total number of columns : 3\n"
          ],
          "name": "stdout"
        }
      ]
    },
    {
      "cell_type": "markdown",
      "metadata": {
        "id": "1XlCkaoUCTLR"
      },
      "source": [
        "<a id=\"a4e\"></a>\n",
        "## e. Checking the presence of missing values"
      ]
    },
    {
      "cell_type": "code",
      "metadata": {
        "trusted": false,
        "colab": {
          "base_uri": "https://localhost:8080/",
          "height": 134
        },
        "id": "dejN-Fq2CTLR",
        "outputId": "e59d16da-c430-43d8-f589-27899f786a8d"
      },
      "source": [
        "display(electronics.isna().sum().sort_values())\n",
        "print('===================')\n",
        "printmd('**CONCLUSION**: As seen from the data above, we conclude there are **\"No Missing\"** values in the data', color=\"blue\")"
      ],
      "execution_count": 11,
      "outputs": [
        {
          "output_type": "display_data",
          "data": {
            "text/plain": [
              "userId       0\n",
              "productId    0\n",
              "Rating       0\n",
              "dtype: int64"
            ]
          },
          "metadata": {
            "tags": []
          }
        },
        {
          "output_type": "stream",
          "text": [
            "===================\n"
          ],
          "name": "stdout"
        },
        {
          "output_type": "display_data",
          "data": {
            "text/markdown": "<span style='color:blue'>**CONCLUSION**: As seen from the data above, we conclude there are **\"No Missing\"** values in the data</span>",
            "text/plain": [
              "<IPython.core.display.Markdown object>"
            ]
          },
          "metadata": {
            "tags": []
          }
        }
      ]
    },
    {
      "cell_type": "markdown",
      "metadata": {
        "id": "0X2px3hjCTLR"
      },
      "source": [
        "<a id=\"a4f\"></a>\n",
        "## f. 5 point summary of numerical attributes"
      ]
    },
    {
      "cell_type": "code",
      "metadata": {
        "trusted": false,
        "colab": {
          "base_uri": "https://localhost:8080/",
          "height": 77
        },
        "id": "qIB0llCGCTLR",
        "outputId": "a73afa5c-678b-4ca3-a0f4-d607be5ef37c"
      },
      "source": [
        "display(electronics[['Rating']].describe().transpose())"
      ],
      "execution_count": 12,
      "outputs": [
        {
          "output_type": "display_data",
          "data": {
            "text/html": [
              "<div>\n",
              "<style scoped>\n",
              "    .dataframe tbody tr th:only-of-type {\n",
              "        vertical-align: middle;\n",
              "    }\n",
              "\n",
              "    .dataframe tbody tr th {\n",
              "        vertical-align: top;\n",
              "    }\n",
              "\n",
              "    .dataframe thead th {\n",
              "        text-align: right;\n",
              "    }\n",
              "</style>\n",
              "<table border=\"1\" class=\"dataframe\">\n",
              "  <thead>\n",
              "    <tr style=\"text-align: right;\">\n",
              "      <th></th>\n",
              "      <th>count</th>\n",
              "      <th>mean</th>\n",
              "      <th>std</th>\n",
              "      <th>min</th>\n",
              "      <th>25%</th>\n",
              "      <th>50%</th>\n",
              "      <th>75%</th>\n",
              "      <th>max</th>\n",
              "    </tr>\n",
              "  </thead>\n",
              "  <tbody>\n",
              "    <tr>\n",
              "      <th>Rating</th>\n",
              "      <td>20001.0</td>\n",
              "      <td>1.0028</td>\n",
              "      <td>0.054701</td>\n",
              "      <td>1.0</td>\n",
              "      <td>1.0</td>\n",
              "      <td>1.0</td>\n",
              "      <td>1.0</td>\n",
              "      <td>3.0</td>\n",
              "    </tr>\n",
              "  </tbody>\n",
              "</table>\n",
              "</div>"
            ],
            "text/plain": [
              "          count    mean       std  min  25%  50%  75%  max\n",
              "Rating  20001.0  1.0028  0.054701  1.0  1.0  1.0  1.0  3.0"
            ]
          },
          "metadata": {
            "tags": []
          }
        }
      ]
    },
    {
      "cell_type": "markdown",
      "metadata": {
        "id": "ejFIIjLICTLS"
      },
      "source": [
        "### Observations\n",
        "\n",
        "**Rating** : This is can be considered as categorical attribute with values of (1,2,3,4,5). The mean rating is 4.26 which means most of the users have given very good ratings for the products i.e. many records with ratings above 4. This can be seen from the median (Q2), 75% (Q3) and max values as 5. Even 25% (Q1) value is 4.0. "
      ]
    },
    {
      "cell_type": "markdown",
      "metadata": {
        "id": "lOzTflXECTLS"
      },
      "source": [
        "<a id=\"a4g\"></a>\n",
        "## g. Unique Users and Products Count"
      ]
    },
    {
      "cell_type": "code",
      "metadata": {
        "trusted": false,
        "colab": {
          "base_uri": "https://localhost:8080/"
        },
        "id": "ivzD0BgmCTLT",
        "outputId": "847df547-fa24-475b-9a84-bce811a470a8"
      },
      "source": [
        "print('Total unique users in the dataset', electronics['userId'].nunique())\n",
        "print('Total unique products in the dataset', electronics['productId'].nunique())"
      ],
      "execution_count": 13,
      "outputs": [
        {
          "output_type": "stream",
          "text": [
            "Total unique users in the dataset 8982\n",
            "Total unique products in the dataset 6910\n"
          ],
          "name": "stdout"
        }
      ]
    },
    {
      "cell_type": "markdown",
      "metadata": {
        "id": "SimjvNp4CTLT"
      },
      "source": [
        "<a id=\"a5\"></a>\n",
        "# Data Analysis and Visualization"
      ]
    },
    {
      "cell_type": "markdown",
      "metadata": {
        "id": "WV3Z8OHdCTLT"
      },
      "source": [
        "<a id=\"a5a\"></a>\n",
        "## a. Rating Distribution"
      ]
    },
    {
      "cell_type": "code",
      "metadata": {
        "trusted": false,
        "id": "18zh4Ef8CTLU"
      },
      "source": [
        "pal = sns.color_palette(palette='Set1', n_colors=16)"
      ],
      "execution_count": 14,
      "outputs": []
    },
    {
      "cell_type": "code",
      "metadata": {
        "trusted": false,
        "colab": {
          "base_uri": "https://localhost:8080/",
          "height": 454
        },
        "id": "b_swkEk3CTLU",
        "outputId": "49ca5d1e-8c18-429f-a1d6-f506ae400e83"
      },
      "source": [
        "distplot(1, 1, 10, 7, data=electronics, features=['Rating'], colors=['blue'],bins=5)"
      ],
      "execution_count": 15,
      "outputs": [
        {
          "output_type": "display_data",
          "data": {
            "image/png": "[encoded data removed]",
            "text/plain": [
              "<Figure size 720x504 with 1 Axes>"
            ]
          },
          "metadata": {
            "tags": [],
            "needs_background": "light"
          }
        }
      ]
    },
    {
      "cell_type": "markdown",
      "metadata": {
        "id": "b6J1a8MCCTLU"
      },
      "source": [
        "### Observations\n",
        "\n",
        "1. Many users have rated 5 as it is shown with the huge spike\n",
        "2. This is followed by rating 4 which also has high number\n",
        "3. Ratings 1, 2, 3 are comparatively less."
      ]
    },
    {
      "cell_type": "code",
      "metadata": {
        "trusted": false,
        "colab": {
          "base_uri": "https://localhost:8080/",
          "height": 454
        },
        "id": "MSxEaXwTCTLV",
        "outputId": "e2ef3fbb-338c-41fa-d0aa-9ee5e45f0af9"
      },
      "source": [
        "distplot(1, 1, 10, 7, data=electronics, features=['Rating'], colors=['red'], kde=False,bins=5)"
      ],
      "execution_count": 16,
      "outputs": [
        {
          "output_type": "display_data",
          "data": {
            "image/png": "[encoded data removed]",
            "text/plain": [
              "<Figure size 720x504 with 1 Axes>"
            ]
          },
          "metadata": {
            "tags": [],
            "needs_background": "light"
          }
        }
      ]
    },
    {
      "cell_type": "markdown",
      "metadata": {
        "id": "b55Tuqr5CTLV"
      },
      "source": [
        "### Observations\n",
        "\n",
        "1. Many users have rated 5 as it is shown with the huge spike with a value of more than 70k records.\n",
        "2. This is followed by rating 4 which also has high number with a value of mroe than 30k records.\n",
        "3. More than 10k users have rated 3.\n",
        "4. Rating 1 and 2 have been rated below 10k records."
      ]
    },
    {
      "cell_type": "markdown",
      "metadata": {
        "id": "1N1J8qiRCTLW"
      },
      "source": [
        "<a id=\"a5b\"></a>\n",
        "## b. Top Rating Count Distribution grouped by Products"
      ]
    },
    {
      "cell_type": "code",
      "metadata": {
        "trusted": false,
        "id": "xjj-18JECTLX"
      },
      "source": [
        "electronics_groupby_products_Ratings = electronics.groupby('productId')['Rating']"
      ],
      "execution_count": 17,
      "outputs": []
    },
    {
      "cell_type": "code",
      "metadata": {
        "trusted": false,
        "colab": {
          "base_uri": "https://localhost:8080/"
        },
        "id": "uWLqI0nRCTLX",
        "outputId": "6993066d-280f-484e-8fc4-ff70c8190b7a"
      },
      "source": [
        "electronics_groupby_products_Ratings.count().clip(upper=20).unique()"
      ],
      "execution_count": 18,
      "outputs": [
        {
          "output_type": "execute_result",
          "data": {
            "text/plain": [
              "array([ 6,  1,  4,  2,  3,  7, 12,  5, 20, 19, 17, 13,  9, 10, 11,  8, 16,\n",
              "       14, 15, 18])"
            ]
          },
          "metadata": {
            "tags": []
          },
          "execution_count": 18
        }
      ]
    },
    {
      "cell_type": "code",
      "metadata": {
        "trusted": false,
        "id": "z6i5gv1bCTLX"
      },
      "source": [
        "ratings_products = pd.DataFrame(electronics_groupby_products_Ratings.count().clip(upper=20))\n",
        "ratings_products.rename(columns={\"Rating\": \"Rating_Count\"}, inplace=True)"
      ],
      "execution_count": 19,
      "outputs": []
    },
    {
      "cell_type": "code",
      "metadata": {
        "trusted": false,
        "colab": {
          "base_uri": "https://localhost:8080/",
          "height": 454
        },
        "id": "BR8Ta5C4CTLY",
        "outputId": "3c616de2-fb40-448a-9776-a2977c6b8d12"
      },
      "source": [
        "distplot(1, 1, 10, 7, data=ratings_products, features=['Rating_Count'], colors=['green'], kde=False)"
      ],
      "execution_count": 20,
      "outputs": [
        {
          "output_type": "display_data",
          "data": {
            "image/png": "[encoded data removed]",
            "text/plain": [
              "<Figure size 720x504 with 1 Axes>"
            ]
          },
          "metadata": {
            "tags": [],
            "needs_background": "light"
          }
        }
      ]
    },
    {
      "cell_type": "markdown",
      "metadata": {
        "id": "Wq0Y-TfKCTLY"
      },
      "source": [
        "### Observations\n",
        "\n",
        "This is a ratings count distribution grouped by all the Products. For the plot perspective, I have clipped the upper limit to 30 which means any value above 30 will be set to it. \n",
        "\n",
        "As it can been seen from the plot, there are many products which were rated only once i.e. only one user have rated. And then the count decreases."
      ]
    },
    {
      "cell_type": "markdown",
      "metadata": {
        "id": "VNl3z6gTCTLY"
      },
      "source": [
        "<a id=\"a5c\"></a>\n",
        "## c. Top Rating Count Distribution grouped by Users"
      ]
    },
    {
      "cell_type": "code",
      "metadata": {
        "trusted": false,
        "id": "nSJlIvu4CTLZ"
      },
      "source": [
        "electronics_groupby_users_Ratings = electronics.groupby('userId')['Rating']"
      ],
      "execution_count": 21,
      "outputs": []
    },
    {
      "cell_type": "code",
      "metadata": {
        "trusted": false,
        "colab": {
          "base_uri": "https://localhost:8080/"
        },
        "id": "8Bb-iqTBCTLZ",
        "outputId": "e24a0732-11da-4d02-e0ee-fb5ad15245d5"
      },
      "source": [
        "electronics_groupby_users_Ratings.count().clip(lower=5).unique()"
      ],
      "execution_count": 22,
      "outputs": [
        {
          "output_type": "execute_result",
          "data": {
            "text/plain": [
              "array([ 5,  9,  8,  6,  7, 10, 11, 12, 13, 14, 15, 20, 18, 16, 19, 26, 25,\n",
              "       17])"
            ]
          },
          "metadata": {
            "tags": []
          },
          "execution_count": 22
        }
      ]
    },
    {
      "cell_type": "code",
      "metadata": {
        "trusted": false,
        "id": "EgosnJ-OCTLZ"
      },
      "source": [
        "rating_users = pd.DataFrame(electronics_groupby_users_Ratings.count().clip(lower=1, upper=5))\n",
        "rating_users.rename(columns={\"Rating\": \"Rating_Count\"}, inplace=True)"
      ],
      "execution_count": 23,
      "outputs": []
    },
    {
      "cell_type": "code",
      "metadata": {
        "trusted": false,
        "colab": {
          "base_uri": "https://localhost:8080/",
          "height": 454
        },
        "id": "YCFSlmcuCTLa",
        "outputId": "2b63d77f-5f38-47a8-90a9-17646f9d6736"
      },
      "source": [
        "distplot(1, 1, 10, 7, data=rating_users, features=['Rating_Count'], colors=['orange'], kde=False, bins=5)"
      ],
      "execution_count": 24,
      "outputs": [
        {
          "output_type": "display_data",
          "data": {
            "image/png": "[encoded data removed]",
            "text/plain": [
              "<Figure size 720x504 with 1 Axes>"
            ]
          },
          "metadata": {
            "tags": [],
            "needs_background": "light"
          }
        }
      ]
    },
    {
      "cell_type": "markdown",
      "metadata": {
        "id": "YNQw24jqCTLa"
      },
      "source": [
        "### Observations\n",
        "\n",
        "This is a ratings count distribution grouped by all the Users. For the plot perspective, I have clipped the count limit between 50 to 300 which means any value below 50 or above 300 will be set to the respective values. \n",
        "\n",
        "As it can been seen from the plot, there are many users which have rated 50 times or below. Ratings count by users gradually decreases which means few users have rated many products. "
      ]
    },
    {
      "cell_type": "markdown",
      "metadata": {
        "id": "7UoOgx7hCTLb"
      },
      "source": [
        "<a id=\"a5d\"></a>\n",
        "## d. Mean Rating Distribution grouped by Products"
      ]
    },
    {
      "cell_type": "code",
      "metadata": {
        "trusted": false,
        "id": "HZL-xGt0CTLb"
      },
      "source": [
        "ratings = pd.DataFrame(electronics.groupby('productId')['Rating'].mean().clip(lower=1,upper=3))\n",
        "ratings.rename(columns={\"Rating\": \"Rating_Mean\"}, inplace=True)"
      ],
      "execution_count": 25,
      "outputs": []
    },
    {
      "cell_type": "code",
      "metadata": {
        "trusted": false,
        "id": "3CEOcAWkCTLb",
        "colab": {
          "base_uri": "https://localhost:8080/",
          "height": 454
        },
        "outputId": "93e983f1-f89c-47c5-d1a2-4c02d78c0d46"
      },
      "source": [
        "distplot(1, 1, 10, 7, data=ratings, features=['Rating_Mean'], colors=['brown'], kde=False, bins=5)"
      ],
      "execution_count": 26,
      "outputs": [
        {
          "output_type": "display_data",
          "data": {
            "image/png": "[encoded data removed]",
            "text/plain": [
              "<Figure size 720x504 with 1 Axes>"
            ]
          },
          "metadata": {
            "tags": [],
            "needs_background": "light"
          }
        }
      ]
    },
    {
      "cell_type": "markdown",
      "metadata": {
        "id": "tEKpy7w9CTLb"
      },
      "source": [
        "### Observations\n",
        "\n",
        "This is a mean rating distribution grouped by all the Products.\n",
        "\n",
        "As it can been seen from the plot, there are many products which were given a Rating of 4 or 5. Hence the plot shows lot of bins between 4 and 5. "
      ]
    },
    {
      "cell_type": "markdown",
      "metadata": {
        "id": "Yc-YlHfICTLc"
      },
      "source": [
        "<a id=\"a5e\"></a>\n",
        "## e. Mean Rating - Rating Count Distribution grouped by Products"
      ]
    },
    {
      "cell_type": "code",
      "metadata": {
        "trusted": false,
        "id": "sXSQugQgCTLc"
      },
      "source": [
        "ratings['Rating_Count'] = electronics.groupby('productId')['Rating'].count()"
      ],
      "execution_count": 27,
      "outputs": []
    },
    {
      "cell_type": "code",
      "metadata": {
        "trusted": false,
        "id": "OTjhNaPzCTLc",
        "colab": {
          "base_uri": "https://localhost:8080/",
          "height": 508
        },
        "outputId": "6b0eec96-07d0-4b96-d3f3-99bf2c529b6e"
      },
      "source": [
        "scatterplot('Rating_Mean', 'Rating_Count', data=ratings)"
      ],
      "execution_count": 28,
      "outputs": [
        {
          "output_type": "display_data",
          "data": {
            "image/png": "[encoded data removed]",
            "text/plain": [
              "<Figure size 720x576 with 1 Axes>"
            ]
          },
          "metadata": {
            "tags": [],
            "needs_background": "light"
          }
        }
      ]
    },
    {
      "cell_type": "markdown",
      "metadata": {
        "id": "zmbPQWY6CTLd"
      },
      "source": [
        "### Observations\n",
        "\n",
        "This is a joint plot between Mean rating distribution and Rating Count grouped by all the Products. As shown in the plot, data is clustered between mean rating of 3.5 to 5. "
      ]
    },
    {
      "cell_type": "markdown",
      "metadata": {
        "id": "-aIfKlrGCTLd"
      },
      "source": [
        "<a id=\"a5f\"></a>\n",
        "## f. Mean Rating Distribution grouped by Users"
      ]
    },
    {
      "cell_type": "code",
      "metadata": {
        "trusted": false,
        "id": "tg18C8mDCTLe",
        "colab": {
          "base_uri": "https://localhost:8080/",
          "height": 454
        },
        "outputId": "3715ae38-ad20-4e5f-8acb-2c87ad9f8742"
      },
      "source": [
        "ratings = pd.DataFrame(electronics.groupby('userId')['Rating'].mean().clip(upper=5))\n",
        "ratings.rename(columns={\"Rating\": \"Rating_Mean\"}, inplace=True)\n",
        "distplot(1, 1, 10, 7, data=ratings, features=['Rating_Mean'], colors=['brown'], kde=False, bins=5)"
      ],
      "execution_count": 29,
      "outputs": [
        {
          "output_type": "display_data",
          "data": {
            "image/png": "[encoded data removed]",
            "text/plain": [
              "<Figure size 720x504 with 1 Axes>"
            ]
          },
          "metadata": {
            "tags": [],
            "needs_background": "light"
          }
        }
      ]
    },
    {
      "cell_type": "markdown",
      "metadata": {
        "id": "SWUlyrCMCTLf"
      },
      "source": [
        "### Observations\n",
        "\n",
        "This is a mean rating distribution grouped by all the Users. This looks like slightly left skewed normal distribution.\n",
        "\n",
        "Data is uniformly distribution from rating 3 to 5 with many around 4 to 4.5. Many users have an average rating of around 4.5. "
      ]
    },
    {
      "cell_type": "markdown",
      "metadata": {
        "id": "M7wfWQiJCTLf"
      },
      "source": [
        "<a id=\"a5g\"></a>\n",
        "## g. Mean Rating - Rating Count Distribution grouped by Users"
      ]
    },
    {
      "cell_type": "code",
      "metadata": {
        "trusted": false,
        "id": "ZrZao--BCTLf",
        "colab": {
          "base_uri": "https://localhost:8080/",
          "height": 508
        },
        "outputId": "ca556d60-a623-48d2-9166-56657dc24694"
      },
      "source": [
        "ratings['Rating_Count'] = electronics.groupby('userId')['Rating'].count().clip(upper=5)\n",
        "scatterplot('Rating_Mean', 'Rating_Count', data=ratings)"
      ],
      "execution_count": 30,
      "outputs": [
        {
          "output_type": "display_data",
          "data": {
            "image/png": "[encoded data removed]",
            "text/plain": [
              "<Figure size 720x576 with 1 Axes>"
            ]
          },
          "metadata": {
            "tags": [],
            "needs_background": "light"
          }
        }
      ]
    },
    {
      "cell_type": "markdown",
      "metadata": {
        "id": "VZ9I5Wu4CTLg"
      },
      "source": [
        "### Observations\n",
        "\n",
        "This is a joint plot between Mean rating distribution and Rating Count grouped by all the Users. As shown in the plot, data is clustered between 3.5 to 5. There are many data points when the Rating count is less than 100 and the mean rating for the users is between 3.5 and 5"
      ]
    },
    {
      "cell_type": "markdown",
      "metadata": {
        "id": "vl8Qb28kCTLg"
      },
      "source": [
        "<a id=\"a6\"></a>\n",
        "# Split the data into training and test set in the ratio of 70:30 respectively"
      ]
    },
    {
      "cell_type": "code",
      "metadata": {
        "trusted": false,
        "id": "LFhs1uUdCTLg",
        "colab": {
          "base_uri": "https://localhost:8080/",
          "height": 81
        },
        "outputId": "a65f82e9-b82d-4187-eecc-e1e5362731bc"
      },
      "source": [
        "train_data, test_data = train_test_split(electronics, test_size =.30, random_state=10)\n",
        "printmd('**Training and Testing Set Distribution**', color='brown')\n",
        "\n",
        "print(f'Training set has {train_data.shape[0]} rows and {train_data.shape[1]} columns')\n",
        "print(f'Testing set has {test_data.shape[0]} rows and {test_data.shape[1]} columns')\n"
      ],
      "execution_count": 31,
      "outputs": [
        {
          "output_type": "display_data",
          "data": {
            "text/markdown": "<span style='color:brown'>**Training and Testing Set Distribution**</span>",
            "text/plain": [
              "<IPython.core.display.Markdown object>"
            ]
          },
          "metadata": {
            "tags": []
          }
        },
        {
          "output_type": "stream",
          "text": [
            "Training set has 14000 rows and 3 columns\n",
            "Testing set has 6001 rows and 3 columns\n"
          ],
          "name": "stdout"
        }
      ]
    },
    {
      "cell_type": "markdown",
      "metadata": {
        "id": "lBB9BombCTLh"
      },
      "source": [
        "<a id=\"a7\"></a>\n",
        "# Recommender Systems"
      ]
    },
    {
      "cell_type": "markdown",
      "metadata": {
        "id": "3R6RUUBTCTLh"
      },
      "source": [
        "A recommender system is a simple algorithm whose aim is to provide the most relevant information to a user by discovering patterns in a dataset. The algorithm rates the items and shows the user the items that they would rate highly."
      ]
    },
    {
      "cell_type": "markdown",
      "metadata": {
        "id": "DDGxNLKuCTLh"
      },
      "source": [
        "<a id=\"a7a\"></a>\n",
        "## a. Popularity Based Recommender Model"
      ]
    },
    {
      "cell_type": "markdown",
      "metadata": {
        "id": "fIWpsnbPCTLh"
      },
      "source": [
        "Popularity based recommendation system uses the items that are in trend right now. It ranks products based on its popularity i.e. the rating count. If a product is highly rated then it is most likely to be ranked higher and hence will be recommended. As it is based on the products popularity, this can not be personalized and hence same set of products will be recommended for all the users."
      ]
    },
    {
      "cell_type": "code",
      "metadata": {
        "trusted": false,
        "id": "pJFEJH4bCTLi"
      },
      "source": [
        "class popularity_based_recommender_model():\n",
        "    def __init__(self, train_data, test_data, user_id, item_id):\n",
        "        self.train_data = train_data\n",
        "        self.test_data = test_data\n",
        "        self.user_id = user_id\n",
        "        self.item_id = item_id\n",
        "        self.popularity_recommendations = None\n",
        "        \n",
        "    #Create the popularity based recommender system model\n",
        "    def fit(self):\n",
        "        #Get a count of user_ids for each unique product as recommendation score\n",
        "        train_data_grouped = train_data.groupby([self.item_id]).agg({self.user_id: 'count'}).reset_index()\n",
        "        train_data_grouped.rename(columns = {'userId': 'score'},inplace=True)\n",
        "    \n",
        "        #Sort the products based upon recommendation score\n",
        "        train_data_sort = train_data_grouped.sort_values(['score', self.item_id], ascending = [0,1])\n",
        "    \n",
        "        #Generate a recommendation rank based upon score\n",
        "        train_data_sort['Rank'] = train_data_sort['score'].rank(ascending=0, method='first')\n",
        "        \n",
        "        #Get the top 10 recommendations\n",
        "        self.popularity_recommendations = train_data_sort.head(20)\n",
        "\n",
        "    #Use the popularity based recommender system model to make recommendations\n",
        "    def recommend(self, user_id, n=5):    \n",
        "        user_recommendations = self.popularity_recommendations\n",
        "        \n",
        "        #Filter products that are not rated by the user\n",
        "        products_already_rated_by_user = self.train_data[self.train_data[self.user_id] == user_id][self.item_id]        \n",
        "        user_recommendations = user_recommendations[~user_recommendations[self.item_id].isin(products_already_rated_by_user)]\n",
        "        \n",
        "        #Add user_id column for which the recommendations are being generated\n",
        "        user_recommendations['user_id'] = user_id\n",
        "    \n",
        "        #Bring user_id column to the front\n",
        "        cols = user_recommendations.columns.tolist()\n",
        "        cols = cols[-1:] + cols[:-1]\n",
        "        user_recommendations = user_recommendations[cols].head(n)     \n",
        "        self.plot(user_recommendations)\n",
        "        return user_recommendations\n",
        "    \n",
        "    def plot(self, user_recommendations):\n",
        "        f, axes = plt.subplots(1, 2, figsize=(20, 8))\n",
        "        cplot1 = sns.barplot(x='Rank', y='score', data=user_recommendations, hue='Rank', ax=axes[0])\n",
        "        cplot1.set_xlabel('Rank',fontsize=20)\n",
        "        cplot1.set_ylabel('score',fontsize=20)            \n",
        "        cplot2 = sns.pointplot(x='Rank', y='score', data=user_recommendations, hue='Rank', ax=axes[1])\n",
        "        cplot2.set_xlabel('Rank',fontsize=20)\n",
        "        cplot2.set_ylabel('score',fontsize=20)\n",
        "        \n",
        "    def predict_evaluate(self):        \n",
        "        ratings = pd.DataFrame(self.train_data.groupby(self.item_id)['Rating'].mean())\n",
        "        \n",
        "        pred_ratings = [];            \n",
        "        for data in self.test_data.values:\n",
        "            if(data[1] in (ratings.index)):\n",
        "                pred_ratings.append(ratings.loc[data[1]])\n",
        "            else:\n",
        "                pred_ratings.append(0)\n",
        "        \n",
        "        mse = mean_squared_error(self.test_data['Rating'], pred_ratings)\n",
        "        rmse = sqrt(mse)\n",
        "        return rmse\n",
        "        \n",
        "        "
      ],
      "execution_count": 32,
      "outputs": []
    },
    {
      "cell_type": "markdown",
      "metadata": {
        "id": "WNhSsJYLCTLi"
      },
      "source": [
        "<a id=\"a7a1\"></a>\n",
        "### Initialize"
      ]
    },
    {
      "cell_type": "code",
      "metadata": {
        "trusted": false,
        "id": "i1zu-rJhCTLi"
      },
      "source": [
        "pr = popularity_based_recommender_model(train_data=train_data, test_data=test_data, user_id='userId', item_id='productId')"
      ],
      "execution_count": 33,
      "outputs": []
    },
    {
      "cell_type": "markdown",
      "metadata": {
        "id": "4OUaN9C_CTLj"
      },
      "source": [
        "<a id=\"a7a2\"></a>\n",
        "### Fit"
      ]
    },
    {
      "cell_type": "code",
      "metadata": {
        "trusted": false,
        "id": "-pdJpf6RCTLj"
      },
      "source": [
        "pr.fit()"
      ],
      "execution_count": 34,
      "outputs": []
    },
    {
      "cell_type": "markdown",
      "metadata": {
        "id": "cVDRnc23CTLj"
      },
      "source": [
        "<a id=\"a7a3\"></a>\n",
        "### Recommend for new customers"
      ]
    },
    {
      "cell_type": "markdown",
      "metadata": {
        "id": "GRFV-EgTCTLj"
      },
      "source": [
        "**Trying with three different Users**"
      ]
    },
    {
      "cell_type": "code",
      "metadata": {
        "colab": {
          "base_uri": "https://localhost:8080/",
          "height": 406
        },
        "id": "JYAHcrGtFqt8",
        "outputId": "67e30cf8-e6e2-406f-b61d-48638c09be04"
      },
      "source": [
        "electronics_zero"
      ],
      "execution_count": 35,
      "outputs": [
        {
          "output_type": "execute_result",
          "data": {
            "text/html": [
              "<div>\n",
              "<style scoped>\n",
              "    .dataframe tbody tr th:only-of-type {\n",
              "        vertical-align: middle;\n",
              "    }\n",
              "\n",
              "    .dataframe tbody tr th {\n",
              "        vertical-align: top;\n",
              "    }\n",
              "\n",
              "    .dataframe thead th {\n",
              "        text-align: right;\n",
              "    }\n",
              "</style>\n",
              "<table border=\"1\" class=\"dataframe\">\n",
              "  <thead>\n",
              "    <tr style=\"text-align: right;\">\n",
              "      <th></th>\n",
              "      <th>Unnamed: 0</th>\n",
              "      <th>userId</th>\n",
              "      <th>productId</th>\n",
              "      <th>quant</th>\n",
              "    </tr>\n",
              "  </thead>\n",
              "  <tbody>\n",
              "    <tr>\n",
              "      <th>0</th>\n",
              "      <td>0</td>\n",
              "      <td>254</td>\n",
              "      <td>NaN</td>\n",
              "      <td>0.0</td>\n",
              "    </tr>\n",
              "    <tr>\n",
              "      <th>1</th>\n",
              "      <td>1</td>\n",
              "      <td>3372</td>\n",
              "      <td>NaN</td>\n",
              "      <td>0.0</td>\n",
              "    </tr>\n",
              "    <tr>\n",
              "      <th>2</th>\n",
              "      <td>2</td>\n",
              "      <td>203854</td>\n",
              "      <td>NaN</td>\n",
              "      <td>0.0</td>\n",
              "    </tr>\n",
              "    <tr>\n",
              "      <th>3</th>\n",
              "      <td>3</td>\n",
              "      <td>203998</td>\n",
              "      <td>NaN</td>\n",
              "      <td>0.0</td>\n",
              "    </tr>\n",
              "    <tr>\n",
              "      <th>4</th>\n",
              "      <td>4</td>\n",
              "      <td>203999</td>\n",
              "      <td>NaN</td>\n",
              "      <td>0.0</td>\n",
              "    </tr>\n",
              "    <tr>\n",
              "      <th>...</th>\n",
              "      <td>...</td>\n",
              "      <td>...</td>\n",
              "      <td>...</td>\n",
              "      <td>...</td>\n",
              "    </tr>\n",
              "    <tr>\n",
              "      <th>192722</th>\n",
              "      <td>192722</td>\n",
              "      <td>105331</td>\n",
              "      <td>NaN</td>\n",
              "      <td>0.0</td>\n",
              "    </tr>\n",
              "    <tr>\n",
              "      <th>192723</th>\n",
              "      <td>192723</td>\n",
              "      <td>174220</td>\n",
              "      <td>NaN</td>\n",
              "      <td>0.0</td>\n",
              "    </tr>\n",
              "    <tr>\n",
              "      <th>192724</th>\n",
              "      <td>192724</td>\n",
              "      <td>164968</td>\n",
              "      <td>NaN</td>\n",
              "      <td>0.0</td>\n",
              "    </tr>\n",
              "    <tr>\n",
              "      <th>192725</th>\n",
              "      <td>192725</td>\n",
              "      <td>162245</td>\n",
              "      <td>NaN</td>\n",
              "      <td>0.0</td>\n",
              "    </tr>\n",
              "    <tr>\n",
              "      <th>192726</th>\n",
              "      <td>192726</td>\n",
              "      <td>1298</td>\n",
              "      <td>NaN</td>\n",
              "      <td>0.0</td>\n",
              "    </tr>\n",
              "  </tbody>\n",
              "</table>\n",
              "<p>192727 rows × 4 columns</p>\n",
              "</div>"
            ],
            "text/plain": [
              "        Unnamed: 0  userId productId  quant\n",
              "0                0     254       NaN    0.0\n",
              "1                1    3372       NaN    0.0\n",
              "2                2  203854       NaN    0.0\n",
              "3                3  203998       NaN    0.0\n",
              "4                4  203999       NaN    0.0\n",
              "...            ...     ...       ...    ...\n",
              "192722      192722  105331       NaN    0.0\n",
              "192723      192723  174220       NaN    0.0\n",
              "192724      192724  164968       NaN    0.0\n",
              "192725      192725  162245       NaN    0.0\n",
              "192726      192726    1298       NaN    0.0\n",
              "\n",
              "[192727 rows x 4 columns]"
            ]
          },
          "metadata": {
            "tags": []
          },
          "execution_count": 35
        }
      ]
    },
    {
      "cell_type": "code",
      "metadata": {
        "trusted": false,
        "id": "JkNm3By7CTLk",
        "colab": {
          "base_uri": "https://localhost:8080/",
          "height": 638
        },
        "outputId": "8183b522-4653-4878-8d37-057fbf232d42"
      },
      "source": [
        "result_pop_user1 = pr.recommend('254')\n",
        "result_pop_user1\n"
      ],
      "execution_count": 36,
      "outputs": [
        {
          "output_type": "execute_result",
          "data": {
            "text/html": [
              "<div>\n",
              "<style scoped>\n",
              "    .dataframe tbody tr th:only-of-type {\n",
              "        vertical-align: middle;\n",
              "    }\n",
              "\n",
              "    .dataframe tbody tr th {\n",
              "        vertical-align: top;\n",
              "    }\n",
              "\n",
              "    .dataframe thead th {\n",
              "        text-align: right;\n",
              "    }\n",
              "</style>\n",
              "<table border=\"1\" class=\"dataframe\">\n",
              "  <thead>\n",
              "    <tr style=\"text-align: right;\">\n",
              "      <th></th>\n",
              "      <th>user_id</th>\n",
              "      <th>productId</th>\n",
              "      <th>score</th>\n",
              "      <th>Rank</th>\n",
              "    </tr>\n",
              "  </thead>\n",
              "  <tbody>\n",
              "    <tr>\n",
              "      <th>2258</th>\n",
              "      <td>254</td>\n",
              "      <td>81572</td>\n",
              "      <td>366</td>\n",
              "      <td>1.0</td>\n",
              "    </tr>\n",
              "    <tr>\n",
              "      <th>2279</th>\n",
              "      <td>254</td>\n",
              "      <td>81773</td>\n",
              "      <td>285</td>\n",
              "      <td>2.0</td>\n",
              "    </tr>\n",
              "    <tr>\n",
              "      <th>1572</th>\n",
              "      <td>254</td>\n",
              "      <td>75694</td>\n",
              "      <td>259</td>\n",
              "      <td>3.0</td>\n",
              "    </tr>\n",
              "    <tr>\n",
              "      <th>309</th>\n",
              "      <td>254</td>\n",
              "      <td>10437</td>\n",
              "      <td>209</td>\n",
              "      <td>4.0</td>\n",
              "    </tr>\n",
              "    <tr>\n",
              "      <th>1163</th>\n",
              "      <td>254</td>\n",
              "      <td>70781</td>\n",
              "      <td>188</td>\n",
              "      <td>5.0</td>\n",
              "    </tr>\n",
              "  </tbody>\n",
              "</table>\n",
              "</div>"
            ],
            "text/plain": [
              "     user_id productId  score  Rank\n",
              "2258     254     81572    366   1.0\n",
              "2279     254     81773    285   2.0\n",
              "1572     254     75694    259   3.0\n",
              "309      254     10437    209   4.0\n",
              "1163     254     70781    188   5.0"
            ]
          },
          "metadata": {
            "tags": []
          },
          "execution_count": 36
        },
        {
          "output_type": "display_data",
          "data": {
            "image/png": "[encoded data removed]",
            "text/plain": [
              "<Figure size 1440x576 with 2 Axes>"
            ]
          },
          "metadata": {
            "tags": [],
            "needs_background": "light"
          }
        }
      ]
    },
    {
      "cell_type": "code",
      "metadata": {
        "colab": {
          "base_uri": "https://localhost:8080/",
          "height": 197
        },
        "id": "9kdl91oE3Nu1",
        "outputId": "bd6bc474-8747-4f4e-bb71-f804becb76f9"
      },
      "source": [
        "merged_df = result_pop_user1.merge(names, how = 'left', on = ['productId'])\n",
        "merged_df\n",
        "#merged_df  <- left_join(DF1, DF2, by = 'date')"
      ],
      "execution_count": 37,
      "outputs": [
        {
          "output_type": "execute_result",
          "data": {
            "text/html": [
              "<div>\n",
              "<style scoped>\n",
              "    .dataframe tbody tr th:only-of-type {\n",
              "        vertical-align: middle;\n",
              "    }\n",
              "\n",
              "    .dataframe tbody tr th {\n",
              "        vertical-align: top;\n",
              "    }\n",
              "\n",
              "    .dataframe thead th {\n",
              "        text-align: right;\n",
              "    }\n",
              "</style>\n",
              "<table border=\"1\" class=\"dataframe\">\n",
              "  <thead>\n",
              "    <tr style=\"text-align: right;\">\n",
              "      <th></th>\n",
              "      <th>user_id</th>\n",
              "      <th>productId</th>\n",
              "      <th>score</th>\n",
              "      <th>Rank</th>\n",
              "      <th>nomeProduto,</th>\n",
              "    </tr>\n",
              "  </thead>\n",
              "  <tbody>\n",
              "    <tr>\n",
              "      <th>0</th>\n",
              "      <td>254</td>\n",
              "      <td>81572</td>\n",
              "      <td>366</td>\n",
              "      <td>1.0</td>\n",
              "      <td>ZEISS LENS WIPES,</td>\n",
              "    </tr>\n",
              "    <tr>\n",
              "      <th>1</th>\n",
              "      <td>254</td>\n",
              "      <td>81773</td>\n",
              "      <td>285</td>\n",
              "      <td>2.0</td>\n",
              "      <td>VS +CLEAR SLIM 1.60 C/AR,</td>\n",
              "    </tr>\n",
              "    <tr>\n",
              "      <th>2</th>\n",
              "      <td>254</td>\n",
              "      <td>75694</td>\n",
              "      <td>259</td>\n",
              "      <td>3.0</td>\n",
              "      <td>VS ZEISS ACABADA 1.50 BLUEPROTECT,</td>\n",
              "    </tr>\n",
              "    <tr>\n",
              "      <th>3</th>\n",
              "      <td>254</td>\n",
              "      <td>10437</td>\n",
              "      <td>209</td>\n",
              "      <td>4.0</td>\n",
              "      <td>ZEISS COLOR FARB TOTAL,</td>\n",
              "    </tr>\n",
              "    <tr>\n",
              "      <th>4</th>\n",
              "      <td>254</td>\n",
              "      <td>70781</td>\n",
              "      <td>188</td>\n",
              "      <td>5.0</td>\n",
              "      <td>VS ZEISS ACABADA 1.50 DV CHROME,</td>\n",
              "    </tr>\n",
              "  </tbody>\n",
              "</table>\n",
              "</div>"
            ],
            "text/plain": [
              "  user_id productId  score  Rank                        nomeProduto,\n",
              "0     254     81572    366   1.0                   ZEISS LENS WIPES,\n",
              "1     254     81773    285   2.0           VS +CLEAR SLIM 1.60 C/AR,\n",
              "2     254     75694    259   3.0  VS ZEISS ACABADA 1.50 BLUEPROTECT,\n",
              "3     254     10437    209   4.0             ZEISS COLOR FARB TOTAL,\n",
              "4     254     70781    188   5.0    VS ZEISS ACABADA 1.50 DV CHROME,"
            ]
          },
          "metadata": {
            "tags": []
          },
          "execution_count": 37
        }
      ]
    },
    {
      "cell_type": "code",
      "metadata": {
        "colab": {
          "base_uri": "https://localhost:8080/"
        },
        "id": "0em4oTcA1PSX",
        "outputId": "67948881-4f90-40ba-d66b-dad885826aa8"
      },
      "source": [
        "x=names.loc[names['productId'] == '81572']\n",
        "x.dtypes"
      ],
      "execution_count": 38,
      "outputs": [
        {
          "output_type": "execute_result",
          "data": {
            "text/plain": [
              "productId       object\n",
              "nomeProduto,    object\n",
              "dtype: object"
            ]
          },
          "metadata": {
            "tags": []
          },
          "execution_count": 38
        }
      ]
    },
    {
      "cell_type": "code",
      "metadata": {
        "trusted": false,
        "id": "ea1cvAz0CTLk",
        "colab": {
          "base_uri": "https://localhost:8080/",
          "height": 638
        },
        "outputId": "311aa6a3-5fd4-4d2b-d7e9-f680eb2ddb87"
      },
      "source": [
        "result_pop_user2 = pr.recommend('3372')\n",
        "result_pop_user2"
      ],
      "execution_count": 39,
      "outputs": [
        {
          "output_type": "execute_result",
          "data": {
            "text/html": [
              "<div>\n",
              "<style scoped>\n",
              "    .dataframe tbody tr th:only-of-type {\n",
              "        vertical-align: middle;\n",
              "    }\n",
              "\n",
              "    .dataframe tbody tr th {\n",
              "        vertical-align: top;\n",
              "    }\n",
              "\n",
              "    .dataframe thead th {\n",
              "        text-align: right;\n",
              "    }\n",
              "</style>\n",
              "<table border=\"1\" class=\"dataframe\">\n",
              "  <thead>\n",
              "    <tr style=\"text-align: right;\">\n",
              "      <th></th>\n",
              "      <th>user_id</th>\n",
              "      <th>productId</th>\n",
              "      <th>score</th>\n",
              "      <th>Rank</th>\n",
              "    </tr>\n",
              "  </thead>\n",
              "  <tbody>\n",
              "    <tr>\n",
              "      <th>2258</th>\n",
              "      <td>3372</td>\n",
              "      <td>81572</td>\n",
              "      <td>366</td>\n",
              "      <td>1.0</td>\n",
              "    </tr>\n",
              "    <tr>\n",
              "      <th>2279</th>\n",
              "      <td>3372</td>\n",
              "      <td>81773</td>\n",
              "      <td>285</td>\n",
              "      <td>2.0</td>\n",
              "    </tr>\n",
              "    <tr>\n",
              "      <th>1572</th>\n",
              "      <td>3372</td>\n",
              "      <td>75694</td>\n",
              "      <td>259</td>\n",
              "      <td>3.0</td>\n",
              "    </tr>\n",
              "    <tr>\n",
              "      <th>309</th>\n",
              "      <td>3372</td>\n",
              "      <td>10437</td>\n",
              "      <td>209</td>\n",
              "      <td>4.0</td>\n",
              "    </tr>\n",
              "    <tr>\n",
              "      <th>1163</th>\n",
              "      <td>3372</td>\n",
              "      <td>70781</td>\n",
              "      <td>188</td>\n",
              "      <td>5.0</td>\n",
              "    </tr>\n",
              "  </tbody>\n",
              "</table>\n",
              "</div>"
            ],
            "text/plain": [
              "     user_id productId  score  Rank\n",
              "2258    3372     81572    366   1.0\n",
              "2279    3372     81773    285   2.0\n",
              "1572    3372     75694    259   3.0\n",
              "309     3372     10437    209   4.0\n",
              "1163    3372     70781    188   5.0"
            ]
          },
          "metadata": {
            "tags": []
          },
          "execution_count": 39
        },
        {
          "output_type": "display_data",
          "data": {
            "image/png": "[encoded data removed]",
            "text/plain": [
              "<Figure size 1440x576 with 2 Axes>"
            ]
          },
          "metadata": {
            "tags": [],
            "needs_background": "light"
          }
        }
      ]
    },
    {
      "cell_type": "code",
      "metadata": {
        "trusted": false,
        "id": "VcfbgJOBCTLk",
        "colab": {
          "base_uri": "https://localhost:8080/",
          "height": 457
        },
        "outputId": "0e0347e3-19b3-43c1-98fc-d5e1c12f9073"
      },
      "source": [
        "result_pop_user3 = pr.recommend('203854')\n",
        "result_pop_user3"
      ],
      "execution_count": 72,
      "outputs": [
        {
          "output_type": "display_data",
          "data": {
            "image/png": "[encoded data removed]",
            "text/plain": [
              "<Figure size 1440x576 with 2 Axes>"
            ]
          },
          "metadata": {
            "tags": [],
            "needs_background": "light"
          }
        }
      ]
    },
    {
      "cell_type": "code",
      "metadata": {
        "trusted": false,
        "id": "5eY-owg_CTLl",
        "colab": {
          "base_uri": "https://localhost:8080/",
          "height": 378
        },
        "outputId": "d1c5d1eb-847e-41a7-def9-d745d7163250"
      },
      "source": [
        "display_side_by_side([result_pop_user1, result_pop_user2, result_pop_user3])"
      ],
      "execution_count": 41,
      "outputs": [
        {
          "output_type": "display_data",
          "data": {
            "text/html": [
              "<table style=\"display:inline;margin-left:50px !important;margin-right: 40px !important\" border=\"1\" class=\"dataframe\">\n",
              "  <thead>\n",
              "    <tr style=\"text-align: right;\">\n",
              "      <th></th>\n",
              "      <th>user_id</th>\n",
              "      <th>productId</th>\n",
              "      <th>score</th>\n",
              "      <th>Rank</th>\n",
              "    </tr>\n",
              "  </thead>\n",
              "  <tbody>\n",
              "    <tr>\n",
              "      <th>2258</th>\n",
              "      <td>254</td>\n",
              "      <td>81572</td>\n",
              "      <td>366</td>\n",
              "      <td>1.0</td>\n",
              "    </tr>\n",
              "    <tr>\n",
              "      <th>2279</th>\n",
              "      <td>254</td>\n",
              "      <td>81773</td>\n",
              "      <td>285</td>\n",
              "      <td>2.0</td>\n",
              "    </tr>\n",
              "    <tr>\n",
              "      <th>1572</th>\n",
              "      <td>254</td>\n",
              "      <td>75694</td>\n",
              "      <td>259</td>\n",
              "      <td>3.0</td>\n",
              "    </tr>\n",
              "    <tr>\n",
              "      <th>309</th>\n",
              "      <td>254</td>\n",
              "      <td>10437</td>\n",
              "      <td>209</td>\n",
              "      <td>4.0</td>\n",
              "    </tr>\n",
              "    <tr>\n",
              "      <th>1163</th>\n",
              "      <td>254</td>\n",
              "      <td>70781</td>\n",
              "      <td>188</td>\n",
              "      <td>5.0</td>\n",
              "    </tr>\n",
              "  </tbody>\n",
              "</table style=\"display:inline;margin-left:50px !important;margin-right: 40px !important\"><table style=\"display:inline;margin-left:50px !important;margin-right: 40px !important\" border=\"1\" class=\"dataframe\">\n",
              "  <thead>\n",
              "    <tr style=\"text-align: right;\">\n",
              "      <th></th>\n",
              "      <th>user_id</th>\n",
              "      <th>productId</th>\n",
              "      <th>score</th>\n",
              "      <th>Rank</th>\n",
              "    </tr>\n",
              "  </thead>\n",
              "  <tbody>\n",
              "    <tr>\n",
              "      <th>2258</th>\n",
              "      <td>3372</td>\n",
              "      <td>81572</td>\n",
              "      <td>366</td>\n",
              "      <td>1.0</td>\n",
              "    </tr>\n",
              "    <tr>\n",
              "      <th>2279</th>\n",
              "      <td>3372</td>\n",
              "      <td>81773</td>\n",
              "      <td>285</td>\n",
              "      <td>2.0</td>\n",
              "    </tr>\n",
              "    <tr>\n",
              "      <th>1572</th>\n",
              "      <td>3372</td>\n",
              "      <td>75694</td>\n",
              "      <td>259</td>\n",
              "      <td>3.0</td>\n",
              "    </tr>\n",
              "    <tr>\n",
              "      <th>309</th>\n",
              "      <td>3372</td>\n",
              "      <td>10437</td>\n",
              "      <td>209</td>\n",
              "      <td>4.0</td>\n",
              "    </tr>\n",
              "    <tr>\n",
              "      <th>1163</th>\n",
              "      <td>3372</td>\n",
              "      <td>70781</td>\n",
              "      <td>188</td>\n",
              "      <td>5.0</td>\n",
              "    </tr>\n",
              "  </tbody>\n",
              "</table style=\"display:inline;margin-left:50px !important;margin-right: 40px !important\"><table style=\"display:inline;margin-left:50px !important;margin-right: 40px !important\" border=\"1\" class=\"dataframe\">\n",
              "  <thead>\n",
              "    <tr style=\"text-align: right;\">\n",
              "      <th></th>\n",
              "      <th>user_id</th>\n",
              "      <th>productId</th>\n",
              "      <th>score</th>\n",
              "      <th>Rank</th>\n",
              "    </tr>\n",
              "  </thead>\n",
              "  <tbody>\n",
              "    <tr>\n",
              "      <th>2258</th>\n",
              "      <td>203854</td>\n",
              "      <td>81572</td>\n",
              "      <td>366</td>\n",
              "      <td>1.0</td>\n",
              "    </tr>\n",
              "    <tr>\n",
              "      <th>2279</th>\n",
              "      <td>203854</td>\n",
              "      <td>81773</td>\n",
              "      <td>285</td>\n",
              "      <td>2.0</td>\n",
              "    </tr>\n",
              "    <tr>\n",
              "      <th>1572</th>\n",
              "      <td>203854</td>\n",
              "      <td>75694</td>\n",
              "      <td>259</td>\n",
              "      <td>3.0</td>\n",
              "    </tr>\n",
              "    <tr>\n",
              "      <th>309</th>\n",
              "      <td>203854</td>\n",
              "      <td>10437</td>\n",
              "      <td>209</td>\n",
              "      <td>4.0</td>\n",
              "    </tr>\n",
              "    <tr>\n",
              "      <th>1163</th>\n",
              "      <td>203854</td>\n",
              "      <td>70781</td>\n",
              "      <td>188</td>\n",
              "      <td>5.0</td>\n",
              "    </tr>\n",
              "  </tbody>\n",
              "</table style=\"display:inline;margin-left:50px !important;margin-right: 40px !important\">"
            ]
          },
          "metadata": {
            "tags": []
          }
        }
      ]
    },
    {
      "cell_type": "code",
      "metadata": {
        "trusted": false,
        "id": "_qAYNV3DCTLl",
        "colab": {
          "base_uri": "https://localhost:8080/"
        },
        "outputId": "b60f374e-3eb6-432b-e1bc-f3b538e2a80a"
      },
      "source": [
        "pr.predict_evaluate()"
      ],
      "execution_count": 42,
      "outputs": [
        {
          "output_type": "execute_result",
          "data": {
            "text/plain": [
              "0.4920253999581097"
            ]
          },
          "metadata": {
            "tags": []
          },
          "execution_count": 42
        }
      ]
    },
    {
      "cell_type": "markdown",
      "metadata": {
        "id": "tcvAdjP-CTLl"
      },
      "source": [
        "<a id=\"a7a4\"></a>\n",
        "### Observations\n",
        "\n",
        "Since this is a popularity based recommender model, we are getting same result for all three users i.e. **the model is recommending same products for all the users**."
      ]
    },
    {
      "cell_type": "markdown",
      "metadata": {
        "id": "he4fzT2WCTLl"
      },
      "source": [
        "<a id=\"a7b\"></a>\n",
        "## b. Collaborative Filtering Recommender Model using SURPRISE Library"
      ]
    },
    {
      "cell_type": "markdown",
      "metadata": {
        "id": "ygcdyOXACTLm"
      },
      "source": [
        "Collaborative filtering is a method of making predictions about the interests of user by analysing the taste of users which are similar to the said user. The idea of filtering patterns by collaborating multiple viewpoints is why it is called collaborative filtering."
      ]
    },
    {
      "cell_type": "markdown",
      "metadata": {
        "id": "IpYM3DpgCTLm"
      },
      "source": [
        "<a id=\"a7b1\"></a>\n",
        "### Load Surprise Data from DataFrame"
      ]
    },
    {
      "cell_type": "code",
      "metadata": {
        "trusted": false,
        "id": "zwUQvd8vCTLm",
        "colab": {
          "base_uri": "https://localhost:8080/"
        },
        "outputId": "b9e72f51-5490-439c-8b50-5743de93815d"
      },
      "source": [
        "!pip install surprise\n",
        "from surprise import accuracy\n",
        "from surprise.model_selection.validation import cross_validate\n",
        "from surprise.dataset import Dataset\n",
        "from surprise.reader import Reader\n",
        "from surprise import SVD\n",
        "from surprise import KNNBasic\n",
        "from surprise import KNNWithMeans\n",
        "reader = Reader()\n",
        "surprise_data = Dataset.load_from_df(electronics, reader)"
      ],
      "execution_count": 43,
      "outputs": [
        {
          "output_type": "stream",
          "text": [
            "Collecting surprise\n",
            "  Downloading https://files.pythonhosted.org/packages/61/de/e5cba8682201fcf9c3719a6fdda95693468ed061945493dea2dd37c5618b/surprise-0.1-py2.py3-none-any.whl\n",
            "Collecting scikit-surprise\n",
            "\u001b[?25l  Downloading https://files.pythonhosted.org/packages/97/37/5d334adaf5ddd65da99fc65f6507e0e4599d092ba048f4302fe8775619e8/scikit-surprise-1.1.1.tar.gz (11.8MB)\n",
            "\u001b[K     |████████████████████████████████| 11.8MB 7.8MB/s \n",
            "\u001b[?25hRequirement already satisfied: joblib>=0.11 in /usr/local/lib/python3.7/dist-packages (from scikit-surprise->surprise) (1.0.1)\n",
            "Requirement already satisfied: numpy>=1.11.2 in /usr/local/lib/python3.7/dist-packages (from scikit-surprise->surprise) (1.19.5)\n",
            "Requirement already satisfied: scipy>=1.0.0 in /usr/local/lib/python3.7/dist-packages (from scikit-surprise->surprise) (1.4.1)\n",
            "Requirement already satisfied: six>=1.10.0 in /usr/local/lib/python3.7/dist-packages (from scikit-surprise->surprise) (1.15.0)\n",
            "Building wheels for collected packages: scikit-surprise\n",
            "  Building wheel for scikit-surprise (setup.py) ... \u001b[?25l\u001b[?25hdone\n",
            "  Created wheel for scikit-surprise: filename=scikit_surprise-1.1.1-cp37-cp37m-linux_x86_64.whl size=1617555 sha256=249d272e9a398f318dee85be8a292d33c3ff68c5401089caf086f20d2913455d\n",
            "  Stored in directory: /root/.cache/pip/wheels/78/9c/3d/41b419c9d2aff5b6e2b4c0fc8d25c538202834058f9ed110d0\n",
            "Successfully built scikit-surprise\n",
            "Installing collected packages: scikit-surprise, surprise\n",
            "Successfully installed scikit-surprise-1.1.1 surprise-0.1\n"
          ],
          "name": "stdout"
        }
      ]
    },
    {
      "cell_type": "markdown",
      "metadata": {
        "id": "5EG4xwlMCTLm"
      },
      "source": [
        "<a id=\"a7b2\"></a>\n",
        "### Split the data into training and test set in the ratio of 70:30 respectively"
      ]
    },
    {
      "cell_type": "code",
      "metadata": {
        "trusted": false,
        "id": "3200_nzNCTLn"
      },
      "source": [
        "from surprise.model_selection import train_test_split\n",
        "trainset, testset = train_test_split(surprise_data, test_size=.3, random_state=10)"
      ],
      "execution_count": 44,
      "outputs": []
    },
    {
      "cell_type": "code",
      "metadata": {
        "trusted": false,
        "id": "JgWCYFZGCTLn"
      },
      "source": [
        "from collections import defaultdict\n",
        "\n",
        "def get_top_n(predictions, n=10):\n",
        "    # First map the predictions to each user.\n",
        "    top_n = defaultdict(list)\n",
        "    for uid, iid, true_r, est, _ in predictions:\n",
        "        top_n[uid].append((iid, est))\n",
        "\n",
        "    # Then sort the predictions for each user and retrieve the k highest ones.\n",
        "    for uid, user_ratings in top_n.items():\n",
        "        user_ratings.sort(key=lambda x: x[1], reverse=True)\n",
        "        top_n[uid] = user_ratings[:n]\n",
        "\n",
        "    return top_n"
      ],
      "execution_count": 45,
      "outputs": []
    },
    {
      "cell_type": "code",
      "metadata": {
        "trusted": false,
        "id": "DBiIt3yLCTLn"
      },
      "source": [
        "class collab_filtering_based_recommender_model():\n",
        "    def __init__(self, model, trainset, testset, data):\n",
        "        self.model = model\n",
        "        self.trainset = trainset\n",
        "        self.testset = testset\n",
        "        self.data = data\n",
        "        self.pred_test = None\n",
        "        self.recommendations = None\n",
        "        self.top_n = None\n",
        "        self.recommenddf = None\n",
        "\n",
        "    def fit_and_predict(self):        \n",
        "        printmd('**Fitting the train data...**', color='brown')\n",
        "        self.model.fit(self.trainset)       \n",
        "\n",
        "        printmd('**Predicting the test data...**', color='brown')\n",
        "        self.pred_test = self.model.test(self.testset)        \n",
        "        rmse = round(accuracy.rmse(self.pred_test), 3)\n",
        "        printmd('**RMSE for the predicted result is ' + str(rmse) + '**', color='brown')   \n",
        "        \n",
        "        self.top_n = get_top_n(self.pred_test)\n",
        "        self.recommenddf = pd.DataFrame(columns=['userId', 'productId', 'Rating'])\n",
        "        for item in self.top_n:\n",
        "            subdf = pd.DataFrame(self.top_n[item], columns=['productId', 'Rating'])\n",
        "            subdf['userId'] = item\n",
        "            cols = subdf.columns.tolist()\n",
        "            cols = cols[-1:] + cols[:-1]\n",
        "            subdf = subdf[cols]        \n",
        "            self.recommenddf = pd.concat([self.recommenddf, subdf], axis = 0)        \n",
        "        return rmse\n",
        "        \n",
        "    def cross_validate(self):\n",
        "        printmd('**Cross Validating the data...**', color='brown')\n",
        "        cv_result = cross_validate(self.model, self.data, n_jobs=-1)\n",
        "        cv_result = round(cv_result['test_rmse'].mean(),3)\n",
        "        printmd('**Mean CV RMSE is ' + str(cv_result)  + '**', color='brown')\n",
        "        return cv_result\n",
        "\n",
        "    def recommend(self, user_id, n=5):\n",
        "        printmd('**Recommending top ' + str(n)+ ' products for userid : ' + user_id + ' ...**', color='brown')\n",
        "        \n",
        "        #df = pd.DataFrame(self.top_n[user_id], columns=['productId', 'Rating'])\n",
        "        #df['UserId'] = user_id\n",
        "        #cols = df.columns.tolist()\n",
        "        #cols = cols[-1:] + cols[:-1]\n",
        "        #df = df[cols].head(n)\n",
        "        df = self.recommenddf[self.recommenddf['userId'] == user_id].head(n)\n",
        "        display(df)\n",
        "        return df\n",
        "        "
      ],
      "execution_count": 46,
      "outputs": []
    },
    {
      "cell_type": "code",
      "metadata": {
        "trusted": false,
        "id": "iGCxMIqnCTLn"
      },
      "source": [
        "from surprise.model_selection import RandomizedSearchCV\n",
        "\n",
        "def find_best_model(model, parameters,data):\n",
        "    clf = RandomizedSearchCV(model, parameters, n_jobs=1, measures=['rmse'])\n",
        "    clf.fit(data)             \n",
        "    print(clf.best_score)\n",
        "    print(clf.best_params)\n",
        "    print(clf.best_estimator)\n",
        "    return clf"
      ],
      "execution_count": 47,
      "outputs": []
    },
    {
      "cell_type": "markdown",
      "metadata": {
        "id": "f43jYtbZCTLo"
      },
      "source": [
        "<a id=\"a7b3\"></a>\n",
        "### KNN With Means - Memory Based Collaborative Filtering"
      ]
    },
    {
      "cell_type": "markdown",
      "metadata": {
        "id": "x8k4fxVlCTLo"
      },
      "source": [
        "**User-User Collaborative Filtering**\n",
        "\n",
        "To find the rating R that a user U would give to an item I, the approach includes:\n",
        "\n",
        "1. Finding users similar to U who have rated the item I<br>\n",
        "2. Calculating the rating R based the ratings of users found in the previous step\n",
        "\n",
        "Here we are using KNN with means to remove the bias by taking into account the mean ratings of each user."
      ]
    },
    {
      "cell_type": "markdown",
      "metadata": {
        "id": "w70_FzS3CTLo"
      },
      "source": [
        "<a id=\"a7b3a\"></a>\n",
        "#### Find optimal model using RandomizedSearchCV"
      ]
    },
    {
      "cell_type": "code",
      "metadata": {
        "trusted": false,
        "id": "j1s6GLdLCTLo"
      },
      "source": [
        "sim_options = {\n",
        "    \"name\": [\"msd\", \"cosine\", \"pearson\", \"pearson_baseline\"],\n",
        "    \"min_support\": [3, 4, 5],\n",
        "    \"user_based\": [True],\n",
        "}\n",
        "params = { 'k': range(30,50,1), 'sim_options': sim_options}\n",
        "\n",
        "clf = find_best_model(KNNWithMeans, params, surprise_data)"
      ],
      "execution_count": null,
      "outputs": []
    },
    {
      "cell_type": "markdown",
      "metadata": {
        "id": "tWnaqKCUCTLo"
      },
      "source": [
        "<a id=\"a7b3b\"></a>\n",
        "#### Initialize"
      ]
    },
    {
      "cell_type": "code",
      "metadata": {
        "trusted": false,
        "id": "xZhbc0QcCTLo"
      },
      "source": [
        "knnwithmeans = clf.best_estimator['rmse']\n",
        "col_fil_knnwithmeans = collab_filtering_based_recommender_model(knnwithmeans, trainset, testset, surprise_data)"
      ],
      "execution_count": 49,
      "outputs": []
    },
    {
      "cell_type": "markdown",
      "metadata": {
        "id": "PtQKTRT4CTLp"
      },
      "source": [
        "<a id=\"a7b3c\"></a>\n",
        "#### Fit and Predict"
      ]
    },
    {
      "cell_type": "code",
      "metadata": {
        "trusted": false,
        "id": "7Lr2MARpCTLp",
        "colab": {
          "base_uri": "https://localhost:8080/",
          "height": 156
        },
        "outputId": "21b17e38-9c75-487d-e76d-d39708b23436"
      },
      "source": [
        "knnwithmeans_rmse = col_fil_knnwithmeans.fit_and_predict()"
      ],
      "execution_count": 50,
      "outputs": [
        {
          "output_type": "display_data",
          "data": {
            "text/markdown": "<span style='color:brown'>**Fitting the train data...**</span>",
            "text/plain": [
              "<IPython.core.display.Markdown object>"
            ]
          },
          "metadata": {
            "tags": []
          }
        },
        {
          "output_type": "stream",
          "text": [
            "Computing the msd similarity matrix...\n",
            "Done computing similarity matrix.\n"
          ],
          "name": "stdout"
        },
        {
          "output_type": "display_data",
          "data": {
            "text/markdown": "<span style='color:brown'>**Predicting the test data...**</span>",
            "text/plain": [
              "<IPython.core.display.Markdown object>"
            ]
          },
          "metadata": {
            "tags": []
          }
        },
        {
          "output_type": "stream",
          "text": [
            "RMSE: 0.0678\n"
          ],
          "name": "stdout"
        },
        {
          "output_type": "display_data",
          "data": {
            "text/markdown": "<span style='color:brown'>**RMSE for the predicted result is 0.068**</span>",
            "text/plain": [
              "<IPython.core.display.Markdown object>"
            ]
          },
          "metadata": {
            "tags": []
          }
        }
      ]
    },
    {
      "cell_type": "markdown",
      "metadata": {
        "id": "FVqLPrNECTLp"
      },
      "source": [
        "<a id=\"a7b3d\"></a>\n",
        "#### Cross Validate"
      ]
    },
    {
      "cell_type": "code",
      "metadata": {
        "trusted": false,
        "id": "C_phNufcCTLp",
        "colab": {
          "base_uri": "https://localhost:8080/",
          "height": 67
        },
        "outputId": "1db239a0-496f-45c1-d598-1563ab448792"
      },
      "source": [
        "knnwithmeans_cv_rmse = col_fil_knnwithmeans.cross_validate()"
      ],
      "execution_count": 51,
      "outputs": [
        {
          "output_type": "display_data",
          "data": {
            "text/markdown": "<span style='color:brown'>**Cross Validating the data...**</span>",
            "text/plain": [
              "<IPython.core.display.Markdown object>"
            ]
          },
          "metadata": {
            "tags": []
          }
        },
        {
          "output_type": "display_data",
          "data": {
            "text/markdown": "<span style='color:brown'>**Mean CV RMSE is 0.062**</span>",
            "text/plain": [
              "<IPython.core.display.Markdown object>"
            ]
          },
          "metadata": {
            "tags": []
          }
        }
      ]
    },
    {
      "cell_type": "markdown",
      "metadata": {
        "id": "L7ktx2PDCTLp"
      },
      "source": [
        "<a id=\"a7b3e\"></a>\n",
        "#### Recommend"
      ]
    },
    {
      "cell_type": "code",
      "metadata": {
        "trusted": false,
        "id": "ZJkhqCsOCTLq",
        "colab": {
          "base_uri": "https://localhost:8080/",
          "height": 316
        },
        "outputId": "4dfdea46-b05e-48a3-dc7c-c46b37e95c54"
      },
      "source": [
        "result_knn_user1 = col_fil_knnwithmeans.recommend(user_id='127238', n=5)\n",
        "result_knn_user2 = col_fil_knnwithmeans.recommend(user_id='2', n=5)\n",
        "result_knn_user3 = col_fil_knnwithmeans.recommend(user_id='29', n=5)"
      ],
      "execution_count": 77,
      "outputs": [
        {
          "output_type": "display_data",
          "data": {
            "text/markdown": "<span style='color:brown'>**Recommending top 5 products for userid : 127238 ...**</span>",
            "text/plain": [
              "<IPython.core.display.Markdown object>"
            ]
          },
          "metadata": {
            "tags": []
          }
        },
        {
          "output_type": "display_data",
          "data": {
            "text/html": [
              "<div>\n",
              "<style scoped>\n",
              "    .dataframe tbody tr th:only-of-type {\n",
              "        vertical-align: middle;\n",
              "    }\n",
              "\n",
              "    .dataframe tbody tr th {\n",
              "        vertical-align: top;\n",
              "    }\n",
              "\n",
              "    .dataframe thead th {\n",
              "        text-align: right;\n",
              "    }\n",
              "</style>\n",
              "<table border=\"1\" class=\"dataframe\">\n",
              "  <thead>\n",
              "    <tr style=\"text-align: right;\">\n",
              "      <th></th>\n",
              "      <th>userId</th>\n",
              "      <th>productId</th>\n",
              "      <th>Rating</th>\n",
              "    </tr>\n",
              "  </thead>\n",
              "  <tbody>\n",
              "    <tr>\n",
              "      <th>0</th>\n",
              "      <td>127238</td>\n",
              "      <td>71346</td>\n",
              "      <td>1</td>\n",
              "    </tr>\n",
              "  </tbody>\n",
              "</table>\n",
              "</div>"
            ],
            "text/plain": [
              "   userId productId Rating\n",
              "0  127238     71346      1"
            ]
          },
          "metadata": {
            "tags": []
          }
        },
        {
          "output_type": "display_data",
          "data": {
            "text/markdown": "<span style='color:brown'>**Recommending top 5 products for userid : 2 ...**</span>",
            "text/plain": [
              "<IPython.core.display.Markdown object>"
            ]
          },
          "metadata": {
            "tags": []
          }
        },
        {
          "output_type": "display_data",
          "data": {
            "text/html": [
              "<div>\n",
              "<style scoped>\n",
              "    .dataframe tbody tr th:only-of-type {\n",
              "        vertical-align: middle;\n",
              "    }\n",
              "\n",
              "    .dataframe tbody tr th {\n",
              "        vertical-align: top;\n",
              "    }\n",
              "\n",
              "    .dataframe thead th {\n",
              "        text-align: right;\n",
              "    }\n",
              "</style>\n",
              "<table border=\"1\" class=\"dataframe\">\n",
              "  <thead>\n",
              "    <tr style=\"text-align: right;\">\n",
              "      <th></th>\n",
              "      <th>userId</th>\n",
              "      <th>productId</th>\n",
              "      <th>Rating</th>\n",
              "    </tr>\n",
              "  </thead>\n",
              "  <tbody>\n",
              "    <tr>\n",
              "      <th>0</th>\n",
              "      <td>2</td>\n",
              "      <td>81572</td>\n",
              "      <td>1.00271</td>\n",
              "    </tr>\n",
              "  </tbody>\n",
              "</table>\n",
              "</div>"
            ],
            "text/plain": [
              "  userId productId   Rating\n",
              "0      2     81572  1.00271"
            ]
          },
          "metadata": {
            "tags": []
          }
        },
        {
          "output_type": "display_data",
          "data": {
            "text/markdown": "<span style='color:brown'>**Recommending top 5 products for userid : 29 ...**</span>",
            "text/plain": [
              "<IPython.core.display.Markdown object>"
            ]
          },
          "metadata": {
            "tags": []
          }
        },
        {
          "output_type": "display_data",
          "data": {
            "text/html": [
              "<div>\n",
              "<style scoped>\n",
              "    .dataframe tbody tr th:only-of-type {\n",
              "        vertical-align: middle;\n",
              "    }\n",
              "\n",
              "    .dataframe tbody tr th {\n",
              "        vertical-align: top;\n",
              "    }\n",
              "\n",
              "    .dataframe thead th {\n",
              "        text-align: right;\n",
              "    }\n",
              "</style>\n",
              "<table border=\"1\" class=\"dataframe\">\n",
              "  <thead>\n",
              "    <tr style=\"text-align: right;\">\n",
              "      <th></th>\n",
              "      <th>userId</th>\n",
              "      <th>productId</th>\n",
              "      <th>Rating</th>\n",
              "    </tr>\n",
              "  </thead>\n",
              "  <tbody>\n",
              "    <tr>\n",
              "      <th>0</th>\n",
              "      <td>29</td>\n",
              "      <td>83484</td>\n",
              "      <td>1.00271</td>\n",
              "    </tr>\n",
              "    <tr>\n",
              "      <th>1</th>\n",
              "      <td>29</td>\n",
              "      <td>81065</td>\n",
              "      <td>1.00271</td>\n",
              "    </tr>\n",
              "  </tbody>\n",
              "</table>\n",
              "</div>"
            ],
            "text/plain": [
              "  userId productId   Rating\n",
              "0     29     83484  1.00271\n",
              "1     29     81065  1.00271"
            ]
          },
          "metadata": {
            "tags": []
          }
        }
      ]
    },
    {
      "cell_type": "markdown",
      "metadata": {
        "id": "ILF3RjJlCTLq"
      },
      "source": [
        "<a id=\"a7b3f\"></a>\n",
        "#### Observations\n",
        "\n",
        "**KNN (K-Nearest Neighbours) With Means** model has an test RMSE value of **1.04** and cross validation RMSE value of **1.037**. \n",
        "\n",
        "AS for the recommendations, **each user will have different products recommended to them** as they are infered based on the ratings provided by the similar users. To find the similar users, KNN model uses **cosine similarity or Pearson's correlation** to find the nerghbours. "
      ]
    },
    {
      "cell_type": "markdown",
      "metadata": {
        "id": "qXJ7-rWcCTLq"
      },
      "source": [
        "<a id=\"a7b4\"></a>\n",
        "### SVD - Model Based Collaborative Filtering"
      ]
    },
    {
      "cell_type": "markdown",
      "metadata": {
        "id": "HoSUL9EwCTLq"
      },
      "source": [
        "The **Singular-Value Decomposition, or SVD** for short, is a matrix decomposition method for reducing a matrix to its constituent parts in order to make certain subsequent matrix calculations simpler. It provides another way to factorize a matrix, into singular vectors and singular values.\n",
        "\n",
        "$A = U . Sigma . V^T$"
      ]
    },
    {
      "cell_type": "markdown",
      "metadata": {
        "id": "rauk2_fmCTLr"
      },
      "source": [
        "<a id=\"a7b4a\"></a>\n",
        "#### Find optimal model using RandomizedSearchCV"
      ]
    },
    {
      "cell_type": "code",
      "metadata": {
        "trusted": false,
        "id": "wdeiTlJLCTLr",
        "colab": {
          "base_uri": "https://localhost:8080/"
        },
        "outputId": "fa2f834e-5869-4bff-8fe7-fc36e343dff3"
      },
      "source": [
        "params= {\n",
        "    \"n_epochs\": [5, 10, 15, 20],\n",
        "    \"lr_all\": [0.002, 0.005],\n",
        "    \"reg_all\": [0.4, 0.6]\n",
        "}\n",
        "clf = find_best_model(SVD, params, surprise_data)"
      ],
      "execution_count": 53,
      "outputs": [
        {
          "output_type": "stream",
          "text": [
            "{'rmse': 0.06291609483586569}\n",
            "{'rmse': {'n_epochs': 20, 'lr_all': 0.005, 'reg_all': 0.6}}\n",
            "{'rmse': <surprise.prediction_algorithms.matrix_factorization.SVD object at 0x7fd72b758250>}\n"
          ],
          "name": "stdout"
        }
      ]
    },
    {
      "cell_type": "markdown",
      "metadata": {
        "id": "V86W6UwLCTLr"
      },
      "source": [
        "<a id=\"a7b4b\"></a>\n",
        "#### Initialize"
      ]
    },
    {
      "cell_type": "code",
      "metadata": {
        "trusted": false,
        "id": "qNxWPV1ACTLr"
      },
      "source": [
        "svd = clf.best_estimator['rmse']\n",
        "col_fil_svd = collab_filtering_based_recommender_model(svd, trainset, testset, surprise_data)"
      ],
      "execution_count": 54,
      "outputs": []
    },
    {
      "cell_type": "markdown",
      "metadata": {
        "id": "LCQM3OmpCTLs"
      },
      "source": [
        "<a id=\"a7b4c\"></a>\n",
        "#### Fit and Predict"
      ]
    },
    {
      "cell_type": "code",
      "metadata": {
        "trusted": false,
        "id": "xCLV4BAHCTLs",
        "colab": {
          "base_uri": "https://localhost:8080/",
          "height": 114
        },
        "outputId": "832a7f03-3958-4c79-827e-1c8b8556b356"
      },
      "source": [
        "svd_rmse = col_fil_svd.fit_and_predict()"
      ],
      "execution_count": 55,
      "outputs": [
        {
          "output_type": "display_data",
          "data": {
            "text/markdown": "<span style='color:brown'>**Fitting the train data...**</span>",
            "text/plain": [
              "<IPython.core.display.Markdown object>"
            ]
          },
          "metadata": {
            "tags": []
          }
        },
        {
          "output_type": "display_data",
          "data": {
            "text/markdown": "<span style='color:brown'>**Predicting the test data...**</span>",
            "text/plain": [
              "<IPython.core.display.Markdown object>"
            ]
          },
          "metadata": {
            "tags": []
          }
        },
        {
          "output_type": "stream",
          "text": [
            "RMSE: 0.0672\n"
          ],
          "name": "stdout"
        },
        {
          "output_type": "display_data",
          "data": {
            "text/markdown": "<span style='color:brown'>**RMSE for the predicted result is 0.067**</span>",
            "text/plain": [
              "<IPython.core.display.Markdown object>"
            ]
          },
          "metadata": {
            "tags": []
          }
        }
      ]
    },
    {
      "cell_type": "markdown",
      "metadata": {
        "id": "Bt8QMwBcCTLs"
      },
      "source": [
        "<a id=\"a7b4d\"></a>\n",
        "#### Cross Validate"
      ]
    },
    {
      "cell_type": "code",
      "metadata": {
        "trusted": false,
        "id": "BtTd_8etCTLs",
        "colab": {
          "base_uri": "https://localhost:8080/",
          "height": 67
        },
        "outputId": "53821c43-8469-49f4-987d-66c6539f7b89"
      },
      "source": [
        "svd_cv_rmse = col_fil_svd.cross_validate()"
      ],
      "execution_count": 56,
      "outputs": [
        {
          "output_type": "display_data",
          "data": {
            "text/markdown": "<span style='color:brown'>**Cross Validating the data...**</span>",
            "text/plain": [
              "<IPython.core.display.Markdown object>"
            ]
          },
          "metadata": {
            "tags": []
          }
        },
        {
          "output_type": "display_data",
          "data": {
            "text/markdown": "<span style='color:brown'>**Mean CV RMSE is 0.063**</span>",
            "text/plain": [
              "<IPython.core.display.Markdown object>"
            ]
          },
          "metadata": {
            "tags": []
          }
        }
      ]
    },
    {
      "cell_type": "markdown",
      "metadata": {
        "id": "z4htzcqPCTLs"
      },
      "source": [
        "<a id=\"a7b4e\"></a>\n",
        "#### Recommend"
      ]
    },
    {
      "cell_type": "code",
      "metadata": {
        "trusted": false,
        "id": "-J0P4LoXCTLt",
        "colab": {
          "base_uri": "https://localhost:8080/",
          "height": 286
        },
        "outputId": "736b0aa3-7180-41d8-d5f0-5e60f9e0268a"
      },
      "source": [
        "result_svd_user1 = col_fil_svd.recommend(user_id='1', n=5)\n",
        "result_svd_user2 = col_fil_svd.recommend(user_id='2', n=5)\n",
        "result_svd_user3 = col_fil_svd.recommend(user_id='29', n=5)"
      ],
      "execution_count": 57,
      "outputs": [
        {
          "output_type": "display_data",
          "data": {
            "text/markdown": "<span style='color:brown'>**Recommending top 5 products for userid : 1 ...**</span>",
            "text/plain": [
              "<IPython.core.display.Markdown object>"
            ]
          },
          "metadata": {
            "tags": []
          }
        },
        {
          "output_type": "display_data",
          "data": {
            "text/html": [
              "<div>\n",
              "<style scoped>\n",
              "    .dataframe tbody tr th:only-of-type {\n",
              "        vertical-align: middle;\n",
              "    }\n",
              "\n",
              "    .dataframe tbody tr th {\n",
              "        vertical-align: top;\n",
              "    }\n",
              "\n",
              "    .dataframe thead th {\n",
              "        text-align: right;\n",
              "    }\n",
              "</style>\n",
              "<table border=\"1\" class=\"dataframe\">\n",
              "  <thead>\n",
              "    <tr style=\"text-align: right;\">\n",
              "      <th></th>\n",
              "      <th>userId</th>\n",
              "      <th>productId</th>\n",
              "      <th>Rating</th>\n",
              "    </tr>\n",
              "  </thead>\n",
              "  <tbody>\n",
              "  </tbody>\n",
              "</table>\n",
              "</div>"
            ],
            "text/plain": [
              "Empty DataFrame\n",
              "Columns: [userId, productId, Rating]\n",
              "Index: []"
            ]
          },
          "metadata": {
            "tags": []
          }
        },
        {
          "output_type": "display_data",
          "data": {
            "text/markdown": "<span style='color:brown'>**Recommending top 5 products for userid : 2 ...**</span>",
            "text/plain": [
              "<IPython.core.display.Markdown object>"
            ]
          },
          "metadata": {
            "tags": []
          }
        },
        {
          "output_type": "display_data",
          "data": {
            "text/html": [
              "<div>\n",
              "<style scoped>\n",
              "    .dataframe tbody tr th:only-of-type {\n",
              "        vertical-align: middle;\n",
              "    }\n",
              "\n",
              "    .dataframe tbody tr th {\n",
              "        vertical-align: top;\n",
              "    }\n",
              "\n",
              "    .dataframe thead th {\n",
              "        text-align: right;\n",
              "    }\n",
              "</style>\n",
              "<table border=\"1\" class=\"dataframe\">\n",
              "  <thead>\n",
              "    <tr style=\"text-align: right;\">\n",
              "      <th></th>\n",
              "      <th>userId</th>\n",
              "      <th>productId</th>\n",
              "      <th>Rating</th>\n",
              "    </tr>\n",
              "  </thead>\n",
              "  <tbody>\n",
              "    <tr>\n",
              "      <th>0</th>\n",
              "      <td>2</td>\n",
              "      <td>81572</td>\n",
              "      <td>1.03417</td>\n",
              "    </tr>\n",
              "  </tbody>\n",
              "</table>\n",
              "</div>"
            ],
            "text/plain": [
              "  userId productId   Rating\n",
              "0      2     81572  1.03417"
            ]
          },
          "metadata": {
            "tags": []
          }
        },
        {
          "output_type": "display_data",
          "data": {
            "text/markdown": "<span style='color:brown'>**Recommending top 5 products for userid : 29 ...**</span>",
            "text/plain": [
              "<IPython.core.display.Markdown object>"
            ]
          },
          "metadata": {
            "tags": []
          }
        },
        {
          "output_type": "display_data",
          "data": {
            "text/html": [
              "<div>\n",
              "<style scoped>\n",
              "    .dataframe tbody tr th:only-of-type {\n",
              "        vertical-align: middle;\n",
              "    }\n",
              "\n",
              "    .dataframe tbody tr th {\n",
              "        vertical-align: top;\n",
              "    }\n",
              "\n",
              "    .dataframe thead th {\n",
              "        text-align: right;\n",
              "    }\n",
              "</style>\n",
              "<table border=\"1\" class=\"dataframe\">\n",
              "  <thead>\n",
              "    <tr style=\"text-align: right;\">\n",
              "      <th></th>\n",
              "      <th>userId</th>\n",
              "      <th>productId</th>\n",
              "      <th>Rating</th>\n",
              "    </tr>\n",
              "  </thead>\n",
              "  <tbody>\n",
              "    <tr>\n",
              "      <th>0</th>\n",
              "      <td>29</td>\n",
              "      <td>83484</td>\n",
              "      <td>1.01007</td>\n",
              "    </tr>\n",
              "    <tr>\n",
              "      <th>1</th>\n",
              "      <td>29</td>\n",
              "      <td>81065</td>\n",
              "      <td>1.01007</td>\n",
              "    </tr>\n",
              "  </tbody>\n",
              "</table>\n",
              "</div>"
            ],
            "text/plain": [
              "  userId productId   Rating\n",
              "0     29     83484  1.01007\n",
              "1     29     81065  1.01007"
            ]
          },
          "metadata": {
            "tags": []
          }
        }
      ]
    },
    {
      "cell_type": "markdown",
      "metadata": {
        "id": "z8V4WPVgCTLt"
      },
      "source": [
        "<a id=\"a7b4f\"></a>\n",
        "#### Observations\n",
        "\n",
        "SVD (Singular Value Decomposition) model has an test RMSE value of **0.99** and cross validation RMSE value of **0.981**. Using this model we have a reduced RMSE value compared to KNNWithMeans.\n",
        "\n",
        "AS for the recommendations, **each user will have different products recommended to them** as they are infered by filling out missing entries in the matrix during matrix factorization using SVD."
      ]
    },
    {
      "cell_type": "markdown",
      "metadata": {
        "id": "QbDX1f0xCTLt"
      },
      "source": [
        "<a id=\"a7b5\"></a>\n",
        "### Other SURPRISE algorithms"
      ]
    },
    {
      "cell_type": "code",
      "metadata": {
        "trusted": false,
        "id": "Z5Npfq4jCTLt",
        "colab": {
          "base_uri": "https://localhost:8080/",
          "height": 968
        },
        "outputId": "8f3226bc-974c-469f-c7d0-b0d89eac1807"
      },
      "source": [
        "from surprise import NMF\n",
        "from surprise import KNNBaseline\n",
        "from surprise import KNNBasic\n",
        "from surprise import KNNWithZScore\n",
        "from surprise import BaselineOnly\n",
        "from surprise import CoClustering\n",
        "benchmark = []\n",
        "# Iterate over all algorithms\n",
        "for algorithm in [NMF(), KNNBaseline(), KNNBasic(), KNNWithZScore(), BaselineOnly(), CoClustering()]:\n",
        "    # Perform cross validation\n",
        "    results = cross_validate(algorithm, surprise_data, measures=['RMSE'], cv=5, verbose=False)\n",
        "    \n",
        "    # Get results & append algorithm name\n",
        "    tmp = pd.DataFrame.from_dict(results).mean(axis=0)\n",
        "    tmp = tmp.append(pd.Series([str(algorithm).split(' ')[0].split('.')[-1]], index=['Algorithm']))\n",
        "    benchmark.append(tmp)\n",
        "    \n",
        "pd.DataFrame(benchmark).set_index('Algorithm').sort_values('test_rmse') "
      ],
      "execution_count": 58,
      "outputs": [
        {
          "output_type": "stream",
          "text": [
            "Estimating biases using als...\n",
            "Computing the msd similarity matrix...\n",
            "Done computing similarity matrix.\n",
            "Estimating biases using als...\n",
            "Computing the msd similarity matrix...\n",
            "Done computing similarity matrix.\n",
            "Estimating biases using als...\n",
            "Computing the msd similarity matrix...\n",
            "Done computing similarity matrix.\n",
            "Estimating biases using als...\n",
            "Computing the msd similarity matrix...\n",
            "Done computing similarity matrix.\n",
            "Estimating biases using als...\n",
            "Computing the msd similarity matrix...\n",
            "Done computing similarity matrix.\n",
            "Computing the msd similarity matrix...\n",
            "Done computing similarity matrix.\n",
            "Computing the msd similarity matrix...\n",
            "Done computing similarity matrix.\n",
            "Computing the msd similarity matrix...\n",
            "Done computing similarity matrix.\n",
            "Computing the msd similarity matrix...\n",
            "Done computing similarity matrix.\n",
            "Computing the msd similarity matrix...\n",
            "Done computing similarity matrix.\n",
            "Computing the msd similarity matrix...\n",
            "Done computing similarity matrix.\n",
            "Computing the msd similarity matrix...\n",
            "Done computing similarity matrix.\n",
            "Computing the msd similarity matrix...\n",
            "Done computing similarity matrix.\n",
            "Computing the msd similarity matrix...\n",
            "Done computing similarity matrix.\n",
            "Computing the msd similarity matrix...\n",
            "Done computing similarity matrix.\n",
            "Estimating biases using als...\n",
            "Estimating biases using als...\n",
            "Estimating biases using als...\n",
            "Estimating biases using als...\n",
            "Estimating biases using als...\n"
          ],
          "name": "stdout"
        },
        {
          "output_type": "execute_result",
          "data": {
            "text/html": [
              "<div>\n",
              "<style scoped>\n",
              "    .dataframe tbody tr th:only-of-type {\n",
              "        vertical-align: middle;\n",
              "    }\n",
              "\n",
              "    .dataframe tbody tr th {\n",
              "        vertical-align: top;\n",
              "    }\n",
              "\n",
              "    .dataframe thead th {\n",
              "        text-align: right;\n",
              "    }\n",
              "</style>\n",
              "<table border=\"1\" class=\"dataframe\">\n",
              "  <thead>\n",
              "    <tr style=\"text-align: right;\">\n",
              "      <th></th>\n",
              "      <th>test_rmse</th>\n",
              "      <th>fit_time</th>\n",
              "      <th>test_time</th>\n",
              "    </tr>\n",
              "    <tr>\n",
              "      <th>Algorithm</th>\n",
              "      <th></th>\n",
              "      <th></th>\n",
              "      <th></th>\n",
              "    </tr>\n",
              "  </thead>\n",
              "  <tbody>\n",
              "    <tr>\n",
              "      <th>BaselineOnly</th>\n",
              "      <td>0.053136</td>\n",
              "      <td>0.157424</td>\n",
              "      <td>0.029100</td>\n",
              "    </tr>\n",
              "    <tr>\n",
              "      <th>NMF</th>\n",
              "      <td>0.059252</td>\n",
              "      <td>2.898219</td>\n",
              "      <td>0.042372</td>\n",
              "    </tr>\n",
              "    <tr>\n",
              "      <th>KNNBaseline</th>\n",
              "      <td>0.060210</td>\n",
              "      <td>2.802548</td>\n",
              "      <td>0.179606</td>\n",
              "    </tr>\n",
              "    <tr>\n",
              "      <th>KNNBasic</th>\n",
              "      <td>0.061183</td>\n",
              "      <td>2.448180</td>\n",
              "      <td>0.180054</td>\n",
              "    </tr>\n",
              "    <tr>\n",
              "      <th>KNNWithZScore</th>\n",
              "      <td>0.061325</td>\n",
              "      <td>2.880528</td>\n",
              "      <td>0.179306</td>\n",
              "    </tr>\n",
              "    <tr>\n",
              "      <th>CoClustering</th>\n",
              "      <td>0.062234</td>\n",
              "      <td>2.067422</td>\n",
              "      <td>0.030377</td>\n",
              "    </tr>\n",
              "  </tbody>\n",
              "</table>\n",
              "</div>"
            ],
            "text/plain": [
              "               test_rmse  fit_time  test_time\n",
              "Algorithm                                    \n",
              "BaselineOnly    0.053136  0.157424   0.029100\n",
              "NMF             0.059252  2.898219   0.042372\n",
              "KNNBaseline     0.060210  2.802548   0.179606\n",
              "KNNBasic        0.061183  2.448180   0.180054\n",
              "KNNWithZScore   0.061325  2.880528   0.179306\n",
              "CoClustering    0.062234  2.067422   0.030377"
            ]
          },
          "metadata": {
            "tags": []
          },
          "execution_count": 58
        }
      ]
    },
    {
      "cell_type": "markdown",
      "metadata": {
        "id": "26SJWglZCTLt"
      },
      "source": [
        "<a id=\"a7b5a\"></a>\n",
        "#### Observations\n",
        "\n",
        "Looking at the above result, we can say BaselineOnly model works well with the data as it is having the least RMSE score of 0.979."
      ]
    },
    {
      "cell_type": "markdown",
      "metadata": {
        "id": "gD7mAxH5CTLu"
      },
      "source": [
        "<a id=\"a8\"></a>\n",
        "# Conclusion"
      ]
    },
    {
      "cell_type": "markdown",
      "metadata": {
        "id": "mHl_QRtMCTLu"
      },
      "source": [
        "**Recommender systems** are algorithms aimed at suggesting relevant items to users (items being movies to watch, text to read, products to buy or anything else depending on industries). Recommender systems are really critical in some industries as they can generate a huge amount of income when they are efficient or also be a way to stand out significantly from competitors.\n",
        "\n",
        "We have used 2 different types here,\n",
        "\n",
        "1. Popularity Based Recommender System\n",
        "2. Collaborative Filtering Recommender System\n",
        "\n",
        "Below are the recommended results of same 3 users picked at random for all the models,"
      ]
    },
    {
      "cell_type": "markdown",
      "metadata": {
        "id": "4-nbqQD3CTLu"
      },
      "source": [
        "<a id=\"a8a\"></a>\n",
        "## Popularity Based Recommendation Model"
      ]
    },
    {
      "cell_type": "markdown",
      "metadata": {
        "id": "be7qaJTkCTLu"
      },
      "source": [
        "Being popularity based recommender model, we have got the same result for all three users i.e. **the model is recommending same products for all the users** as shown below,"
      ]
    },
    {
      "cell_type": "code",
      "metadata": {
        "trusted": false,
        "id": "MVaGejquCTLv",
        "colab": {
          "base_uri": "https://localhost:8080/",
          "height": 378
        },
        "outputId": "4f0af5b9-b721-44fb-d327-71fd135f4570"
      },
      "source": [
        "display_side_by_side([result_pop_user1, result_pop_user2, result_pop_user3])"
      ],
      "execution_count": 59,
      "outputs": [
        {
          "output_type": "display_data",
          "data": {
            "text/html": [
              "<table style=\"display:inline;margin-left:50px !important;margin-right: 40px !important\" border=\"1\" class=\"dataframe\">\n",
              "  <thead>\n",
              "    <tr style=\"text-align: right;\">\n",
              "      <th></th>\n",
              "      <th>user_id</th>\n",
              "      <th>productId</th>\n",
              "      <th>score</th>\n",
              "      <th>Rank</th>\n",
              "    </tr>\n",
              "  </thead>\n",
              "  <tbody>\n",
              "    <tr>\n",
              "      <th>2258</th>\n",
              "      <td>254</td>\n",
              "      <td>81572</td>\n",
              "      <td>366</td>\n",
              "      <td>1.0</td>\n",
              "    </tr>\n",
              "    <tr>\n",
              "      <th>2279</th>\n",
              "      <td>254</td>\n",
              "      <td>81773</td>\n",
              "      <td>285</td>\n",
              "      <td>2.0</td>\n",
              "    </tr>\n",
              "    <tr>\n",
              "      <th>1572</th>\n",
              "      <td>254</td>\n",
              "      <td>75694</td>\n",
              "      <td>259</td>\n",
              "      <td>3.0</td>\n",
              "    </tr>\n",
              "    <tr>\n",
              "      <th>309</th>\n",
              "      <td>254</td>\n",
              "      <td>10437</td>\n",
              "      <td>209</td>\n",
              "      <td>4.0</td>\n",
              "    </tr>\n",
              "    <tr>\n",
              "      <th>1163</th>\n",
              "      <td>254</td>\n",
              "      <td>70781</td>\n",
              "      <td>188</td>\n",
              "      <td>5.0</td>\n",
              "    </tr>\n",
              "  </tbody>\n",
              "</table style=\"display:inline;margin-left:50px !important;margin-right: 40px !important\"><table style=\"display:inline;margin-left:50px !important;margin-right: 40px !important\" border=\"1\" class=\"dataframe\">\n",
              "  <thead>\n",
              "    <tr style=\"text-align: right;\">\n",
              "      <th></th>\n",
              "      <th>user_id</th>\n",
              "      <th>productId</th>\n",
              "      <th>score</th>\n",
              "      <th>Rank</th>\n",
              "    </tr>\n",
              "  </thead>\n",
              "  <tbody>\n",
              "    <tr>\n",
              "      <th>2258</th>\n",
              "      <td>3372</td>\n",
              "      <td>81572</td>\n",
              "      <td>366</td>\n",
              "      <td>1.0</td>\n",
              "    </tr>\n",
              "    <tr>\n",
              "      <th>2279</th>\n",
              "      <td>3372</td>\n",
              "      <td>81773</td>\n",
              "      <td>285</td>\n",
              "      <td>2.0</td>\n",
              "    </tr>\n",
              "    <tr>\n",
              "      <th>1572</th>\n",
              "      <td>3372</td>\n",
              "      <td>75694</td>\n",
              "      <td>259</td>\n",
              "      <td>3.0</td>\n",
              "    </tr>\n",
              "    <tr>\n",
              "      <th>309</th>\n",
              "      <td>3372</td>\n",
              "      <td>10437</td>\n",
              "      <td>209</td>\n",
              "      <td>4.0</td>\n",
              "    </tr>\n",
              "    <tr>\n",
              "      <th>1163</th>\n",
              "      <td>3372</td>\n",
              "      <td>70781</td>\n",
              "      <td>188</td>\n",
              "      <td>5.0</td>\n",
              "    </tr>\n",
              "  </tbody>\n",
              "</table style=\"display:inline;margin-left:50px !important;margin-right: 40px !important\"><table style=\"display:inline;margin-left:50px !important;margin-right: 40px !important\" border=\"1\" class=\"dataframe\">\n",
              "  <thead>\n",
              "    <tr style=\"text-align: right;\">\n",
              "      <th></th>\n",
              "      <th>user_id</th>\n",
              "      <th>productId</th>\n",
              "      <th>score</th>\n",
              "      <th>Rank</th>\n",
              "    </tr>\n",
              "  </thead>\n",
              "  <tbody>\n",
              "    <tr>\n",
              "      <th>2258</th>\n",
              "      <td>203854</td>\n",
              "      <td>81572</td>\n",
              "      <td>366</td>\n",
              "      <td>1.0</td>\n",
              "    </tr>\n",
              "    <tr>\n",
              "      <th>2279</th>\n",
              "      <td>203854</td>\n",
              "      <td>81773</td>\n",
              "      <td>285</td>\n",
              "      <td>2.0</td>\n",
              "    </tr>\n",
              "    <tr>\n",
              "      <th>1572</th>\n",
              "      <td>203854</td>\n",
              "      <td>75694</td>\n",
              "      <td>259</td>\n",
              "      <td>3.0</td>\n",
              "    </tr>\n",
              "    <tr>\n",
              "      <th>309</th>\n",
              "      <td>203854</td>\n",
              "      <td>10437</td>\n",
              "      <td>209</td>\n",
              "      <td>4.0</td>\n",
              "    </tr>\n",
              "    <tr>\n",
              "      <th>1163</th>\n",
              "      <td>203854</td>\n",
              "      <td>70781</td>\n",
              "      <td>188</td>\n",
              "      <td>5.0</td>\n",
              "    </tr>\n",
              "  </tbody>\n",
              "</table style=\"display:inline;margin-left:50px !important;margin-right: 40px !important\">"
            ]
          },
          "metadata": {
            "tags": []
          }
        }
      ]
    },
    {
      "cell_type": "markdown",
      "metadata": {
        "id": "glc_2AC5CTLv"
      },
      "source": [
        "<a id=\"a8b\"></a>\n",
        "## Collaborative Filtering Recommendation Model"
      ]
    },
    {
      "cell_type": "markdown",
      "metadata": {
        "id": "ZZRJ4UzcCTLv"
      },
      "source": [
        "<a id=\"a8b1\"></a>\n",
        "### KNNWithMeans Model"
      ]
    },
    {
      "cell_type": "markdown",
      "metadata": {
        "id": "1xOmWN5PCTLw"
      },
      "source": [
        "**KNN (K-Nearest Neighbours) With Means** model has an test RMSE value of **1.04** and cross validation RMSE value of **1.037. Each user will have different products recommended to them** as they are infered based on the ratings provided by the similar users."
      ]
    },
    {
      "cell_type": "code",
      "metadata": {
        "trusted": false,
        "id": "FC8mejlFCTLw",
        "colab": {
          "base_uri": "https://localhost:8080/",
          "height": 168
        },
        "outputId": "ec5c56c9-64f0-46b0-a619-ca2b83291934"
      },
      "source": [
        "display_side_by_side([result_knn_user1, result_knn_user2, result_knn_user3])"
      ],
      "execution_count": 60,
      "outputs": [
        {
          "output_type": "display_data",
          "data": {
            "text/html": [
              "<table style=\"display:inline;margin-left:50px !important;margin-right: 40px !important\" border=\"1\" class=\"dataframe\">\n",
              "  <thead>\n",
              "    <tr style=\"text-align: right;\">\n",
              "      <th></th>\n",
              "      <th>userId</th>\n",
              "      <th>productId</th>\n",
              "      <th>Rating</th>\n",
              "    </tr>\n",
              "  </thead>\n",
              "  <tbody>\n",
              "  </tbody>\n",
              "</table style=\"display:inline;margin-left:50px !important;margin-right: 40px !important\"><table style=\"display:inline;margin-left:50px !important;margin-right: 40px !important\" border=\"1\" class=\"dataframe\">\n",
              "  <thead>\n",
              "    <tr style=\"text-align: right;\">\n",
              "      <th></th>\n",
              "      <th>userId</th>\n",
              "      <th>productId</th>\n",
              "      <th>Rating</th>\n",
              "    </tr>\n",
              "  </thead>\n",
              "  <tbody>\n",
              "    <tr>\n",
              "      <th>0</th>\n",
              "      <td>2</td>\n",
              "      <td>81572</td>\n",
              "      <td>1.00271</td>\n",
              "    </tr>\n",
              "  </tbody>\n",
              "</table style=\"display:inline;margin-left:50px !important;margin-right: 40px !important\"><table style=\"display:inline;margin-left:50px !important;margin-right: 40px !important\" border=\"1\" class=\"dataframe\">\n",
              "  <thead>\n",
              "    <tr style=\"text-align: right;\">\n",
              "      <th></th>\n",
              "      <th>userId</th>\n",
              "      <th>productId</th>\n",
              "      <th>Rating</th>\n",
              "    </tr>\n",
              "  </thead>\n",
              "  <tbody>\n",
              "    <tr>\n",
              "      <th>0</th>\n",
              "      <td>29</td>\n",
              "      <td>83484</td>\n",
              "      <td>1.00271</td>\n",
              "    </tr>\n",
              "    <tr>\n",
              "      <th>1</th>\n",
              "      <td>29</td>\n",
              "      <td>81065</td>\n",
              "      <td>1.00271</td>\n",
              "    </tr>\n",
              "  </tbody>\n",
              "</table style=\"display:inline;margin-left:50px !important;margin-right: 40px !important\">"
            ]
          },
          "metadata": {
            "tags": []
          }
        }
      ]
    },
    {
      "cell_type": "markdown",
      "metadata": {
        "id": "32xfUBt-CTLx"
      },
      "source": [
        "<a id=\"a8b2\"></a>\n",
        "### SVD Model"
      ]
    },
    {
      "cell_type": "markdown",
      "metadata": {
        "id": "6dxILCZvCTLx"
      },
      "source": [
        "**SVD (Singular Value Decomposition) model** has an test RMSE value of **0.99** and cross validation RMSE value of **0.981**. Each user will have different products recommended to them."
      ]
    },
    {
      "cell_type": "code",
      "metadata": {
        "trusted": false,
        "id": "EwytNYRHCTLx",
        "colab": {
          "base_uri": "https://localhost:8080/",
          "height": 168
        },
        "outputId": "aa88f16a-38c4-4e09-8aa4-a15c9480758d"
      },
      "source": [
        "display_side_by_side([result_svd_user1, result_svd_user2, result_svd_user3])"
      ],
      "execution_count": 61,
      "outputs": [
        {
          "output_type": "display_data",
          "data": {
            "text/html": [
              "<table style=\"display:inline;margin-left:50px !important;margin-right: 40px !important\" border=\"1\" class=\"dataframe\">\n",
              "  <thead>\n",
              "    <tr style=\"text-align: right;\">\n",
              "      <th></th>\n",
              "      <th>userId</th>\n",
              "      <th>productId</th>\n",
              "      <th>Rating</th>\n",
              "    </tr>\n",
              "  </thead>\n",
              "  <tbody>\n",
              "  </tbody>\n",
              "</table style=\"display:inline;margin-left:50px !important;margin-right: 40px !important\"><table style=\"display:inline;margin-left:50px !important;margin-right: 40px !important\" border=\"1\" class=\"dataframe\">\n",
              "  <thead>\n",
              "    <tr style=\"text-align: right;\">\n",
              "      <th></th>\n",
              "      <th>userId</th>\n",
              "      <th>productId</th>\n",
              "      <th>Rating</th>\n",
              "    </tr>\n",
              "  </thead>\n",
              "  <tbody>\n",
              "    <tr>\n",
              "      <th>0</th>\n",
              "      <td>2</td>\n",
              "      <td>81572</td>\n",
              "      <td>1.03417</td>\n",
              "    </tr>\n",
              "  </tbody>\n",
              "</table style=\"display:inline;margin-left:50px !important;margin-right: 40px !important\"><table style=\"display:inline;margin-left:50px !important;margin-right: 40px !important\" border=\"1\" class=\"dataframe\">\n",
              "  <thead>\n",
              "    <tr style=\"text-align: right;\">\n",
              "      <th></th>\n",
              "      <th>userId</th>\n",
              "      <th>productId</th>\n",
              "      <th>Rating</th>\n",
              "    </tr>\n",
              "  </thead>\n",
              "  <tbody>\n",
              "    <tr>\n",
              "      <th>0</th>\n",
              "      <td>29</td>\n",
              "      <td>83484</td>\n",
              "      <td>1.01007</td>\n",
              "    </tr>\n",
              "    <tr>\n",
              "      <th>1</th>\n",
              "      <td>29</td>\n",
              "      <td>81065</td>\n",
              "      <td>1.01007</td>\n",
              "    </tr>\n",
              "  </tbody>\n",
              "</table style=\"display:inline;margin-left:50px !important;margin-right: 40px !important\">"
            ]
          },
          "metadata": {
            "tags": []
          }
        }
      ]
    },
    {
      "cell_type": "markdown",
      "metadata": {
        "id": "EpABzoFsCTLy"
      },
      "source": [
        "**SVD** is better model compared to KNN or Popularity with a better RMSE value of **0.981**. We can also see the products that are recommended in SVD is different to that of KNNWithMeans as SVD uses matrix factorization. This is more useful when the data is sparse with many missing ratings. "
      ]
    },
    {
      "cell_type": "markdown",
      "metadata": {
        "id": "VU7MhhBZCTLy"
      },
      "source": [
        "# END"
      ]
    },
    {
      "cell_type": "code",
      "metadata": {
        "trusted": false,
        "id": "dRsBu396CTLy"
      },
      "source": [
        ""
      ],
      "execution_count": 61,
      "outputs": []
    }
  ]
}