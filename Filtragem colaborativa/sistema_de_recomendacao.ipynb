{
  "nbformat": 4,
  "nbformat_minor": 0,
  "metadata": {
    "colab": {
      "name": "sistema-de-recomendacao.ipynb",
      "provenance": [],
      "collapsed_sections": []
    },
    "kernelspec": {
      "name": "python3",
      "display_name": "Python 3"
    }
  },
  "cells": [
    {
      "cell_type": "markdown",
      "metadata": {
        "id": "GeDy3jSyEXKx"
      },
      "source": [
        "#Usuários Similares x Items Similares (Base de dados invertida)"
      ]
    },
    {
      "cell_type": "code",
      "metadata": {
        "id": "Pffr22Vu7HIE"
      },
      "source": [
        "avaliacoesFilme = {'Freddy x Jason': \r\n",
        "\t\t{'Ana': 2.5, \r\n",
        "\t\t 'Marcos:': 3.0 ,\r\n",
        "\t\t 'Pedro': 2.5, \r\n",
        "\t\t 'Adriano': 3.0, \r\n",
        "\t\t 'Janaina': 3.0 },\r\n",
        "\t \r\n",
        "\t 'O Ultimato Bourne': \r\n",
        "\t\t{'Ana': 3.5, \r\n",
        "\t\t 'Marcos': 3.5,\r\n",
        "\t\t 'Pedro': 3.0, \r\n",
        "\t\t 'Claudia': 3.5, \r\n",
        "\t\t 'Adriano': 4.0, \r\n",
        "\t\t 'Janaina': 4.0,\r\n",
        "\t\t 'Leonardo': 4.5 },\r\n",
        "\t\t\t\t \r\n",
        "\t 'Star Trek': \r\n",
        "\t\t{'Ana': 3.0, \r\n",
        "\t\t 'Marcos:': 1.5,\r\n",
        "\t\t 'Claudia': 3.0, \r\n",
        "\t\t 'Adriano': 2.0 },\r\n",
        "\t\r\n",
        "\t 'Exterminador do Futuro': \r\n",
        "\t\t{'Ana': 3.5, \r\n",
        "\t\t 'Marcos:': 5.0 ,\r\n",
        "\t\t 'Pedro': 3.5, \r\n",
        "\t\t 'Claudia': 4.0, \r\n",
        "\t\t 'Adriano': 3.0, \r\n",
        "\t\t 'Janaina': 5.0,\r\n",
        "\t\t 'Leonardo': 4.0},\r\n",
        "\t\t\t\t \r\n",
        "\t 'Norbit': \r\n",
        "\t\t{'Ana': 2.5, \r\n",
        "\t\t 'Marcos:': 3.0 ,\r\n",
        "\t\t 'Claudia': 2.5, \r\n",
        "\t\t 'Adriano': 2.0, \r\n",
        "\t\t 'Janaina': 3.5,\r\n",
        "\t\t 'Leonardo': 1.0},\r\n",
        "\t\t\t\t \r\n",
        "\t 'Star Wars': \r\n",
        "\t\t{'Ana': 3.0, \r\n",
        "\t\t 'Marcos:': 3.5,\r\n",
        "\t\t 'Pedro': 4.0, \r\n",
        "\t\t 'Claudia': 4.5, \r\n",
        "\t\t 'Adriano': 3.0, \r\n",
        "\t\t 'Janaina': 3.0}\r\n",
        "}"
      ],
      "execution_count": 25,
      "outputs": []
    },
    {
      "cell_type": "code",
      "metadata": {
        "id": "jZBd5vLZBaUQ"
      },
      "source": [
        "avaliacoesUsuario = {'Ana': \r\n",
        "\t\t{'Freddy x Jason': 2.5, \r\n",
        "\t\t 'O Ultimato Bourne': 3.5,\r\n",
        "\t\t 'Star Trek': 3.0, \r\n",
        "\t\t 'Exterminador do Futuro': 3.5, \r\n",
        "\t\t 'Norbit': 2.5, \r\n",
        "\t\t 'Star Wars': 3.0},\r\n",
        "\t \r\n",
        "\t  'Marcos': \r\n",
        "\t\t{'Freddy x Jason': 3.0, \r\n",
        "\t\t 'O Ultimato Bourne': 3.5, \r\n",
        "\t\t 'Star Trek': 1.5, \r\n",
        "\t\t 'Exterminador do Futuro': 5.0, \r\n",
        "\t\t 'Star Wars': 3.0, \r\n",
        "\t\t 'Norbit': 3.5}, \r\n",
        "\r\n",
        "\t  'Pedro': \r\n",
        "\t    {'Freddy x Jason': 2.5, \r\n",
        "\t\t 'O Ultimato Bourne': 3.0,\r\n",
        "\t\t 'Exterminador do Futuro': 3.5, \r\n",
        "\t\t 'Star Wars': 4.0},\r\n",
        "\t\t\t \r\n",
        "\t  'Claudia': \r\n",
        "\t\t{'O Ultimato Bourne': 3.5, \r\n",
        "\t\t 'Star Trek': 3.0,\r\n",
        "\t\t 'Star Wars': 4.5, \r\n",
        "\t\t 'Exterminador do Futuro': 4.0, \r\n",
        "\t\t 'Norbit': 2.5},\r\n",
        "\t\t\t\t \r\n",
        "\t  'Adriano': \r\n",
        "\t\t{'Freddy x Jason': 3.0, \r\n",
        "\t\t 'O Ultimato Bourne': 4.0, \r\n",
        "\t\t 'Star Trek': 2.0, \r\n",
        "\t\t 'Exterminador do Futuro': 3.0, \r\n",
        "\t\t 'Star Wars': 3.0,\r\n",
        "\t\t 'Norbit': 2.0}, \r\n",
        "\r\n",
        "\t  'Janaina': \r\n",
        "\t     {'Freddy x Jason': 3.0, \r\n",
        "\t      'O Ultimato Bourne': 4.0,\r\n",
        "\t      'Star Wars': 3.0, \r\n",
        "\t      'Exterminador do Futuro': 5.0, \r\n",
        "\t      'Norbit': 3.5},\r\n",
        "\t\t\t  \r\n",
        "\t  'Leonardo': \r\n",
        "\t    {'O Ultimato Bourne':4.5,\r\n",
        "             'Norbit':1.0,\r\n",
        "\t     'Exterminador do Futuro':4.0}\r\n",
        "}\r\n",
        "\r\n"
      ],
      "execution_count": 26,
      "outputs": []
    },
    {
      "cell_type": "code",
      "metadata": {
        "colab": {
          "base_uri": "https://localhost:8080/"
        },
        "id": "2FS6vGiGCK4T",
        "outputId": "d1b7512a-184a-44fd-bc22-e11e7c1dd4e8"
      },
      "source": [
        "avaliacoesUsuario['Marcos']"
      ],
      "execution_count": 18,
      "outputs": [
        {
          "output_type": "execute_result",
          "data": {
            "text/plain": [
              "{'Exterminador do Futuro': 5.0,\n",
              " 'Freddy x Jason': 3.0,\n",
              " 'Norbit': 3.5,\n",
              " 'O Ultimato Bourne': 3.5,\n",
              " 'Star Trek': 1.5,\n",
              " 'Star Wars': 3.0}"
            ]
          },
          "metadata": {
            "tags": []
          },
          "execution_count": 18
        }
      ]
    },
    {
      "cell_type": "markdown",
      "metadata": {
        "id": "vFdZu4w7EUJv"
      },
      "source": [
        "###Diatância Euclidiana - Cálculo da similaridade "
      ]
    },
    {
      "cell_type": "code",
      "metadata": {
        "id": "0HADBXYJEiIM"
      },
      "source": [
        "from math import sqrt"
      ],
      "execution_count": 19,
      "outputs": []
    },
    {
      "cell_type": "markdown",
      "metadata": {
        "id": "_OK1N43stmIU"
      },
      "source": [
        "###Distancia Euclidiana para um par de usuários"
      ]
    },
    {
      "cell_type": "code",
      "metadata": {
        "id": "TUPIQ7fYIYrC"
      },
      "source": [
        "def euclidiana(base,usuario1,usuario2):\r\n",
        "  si = {}\r\n",
        "  #Verifica os items em comum entre os usuarios e cria uma lista si\r\n",
        "  for item in base[usuario1]:\r\n",
        "    if item in base[usuario2]: si[item] = 1\r\n",
        "\r\n",
        "  #Calcula a distância Euclidiana  para um par de usuarios\r\n",
        "  if len(si)==0: return 0\r\n",
        "  soma=sum([pow(base[usuario1][item] - base[usuario2][item], 2)\r\n",
        "        for item in base[usuario1] if item in base[usuario2]])\r\n",
        "  return 1/(1+sqrt(soma))"
      ],
      "execution_count": 20,
      "outputs": []
    },
    {
      "cell_type": "code",
      "metadata": {
        "colab": {
          "base_uri": "https://localhost:8080/"
        },
        "id": "YPg16hl4Kaba",
        "outputId": "d86b8653-5ed7-43ed-d3f0-2990ca7e22cd"
      },
      "source": [
        "euclidiana(avaliacoesUsuario,'Leonardo','Ana')"
      ],
      "execution_count": 21,
      "outputs": [
        {
          "output_type": "execute_result",
          "data": {
            "text/plain": [
              "0.3483314773547883"
            ]
          },
          "metadata": {
            "tags": []
          },
          "execution_count": 21
        }
      ]
    },
    {
      "cell_type": "code",
      "metadata": {
        "colab": {
          "base_uri": "https://localhost:8080/"
        },
        "id": "a9ebOzlbAbjo",
        "outputId": "24423b63-2aa9-441c-b19f-78a4044b9afd"
      },
      "source": [
        "euclidiana(avaliacoesFilme,'Star Trek', 'Star Wars')"
      ],
      "execution_count": 27,
      "outputs": [
        {
          "output_type": "execute_result",
          "data": {
            "text/plain": [
              "0.2708131845707603"
            ]
          },
          "metadata": {
            "tags": []
          },
          "execution_count": 27
        }
      ]
    },
    {
      "cell_type": "markdown",
      "metadata": {
        "id": "MjdaKWLKtq9F"
      },
      "source": [
        "###Distância Euclidiana para todos os usuarios"
      ]
    },
    {
      "cell_type": "code",
      "metadata": {
        "id": "cymBnyIRtt6W"
      },
      "source": [
        "def getSimilares(base,usuario):\r\n",
        "  similaridade = [(euclidiana(base,usuario,outro),outro)\r\n",
        "            for outro in base if outro!=usuario]\r\n",
        "  similaridade.sort()\r\n",
        "  similaridade.reverse()\r\n",
        "  return similaridade"
      ],
      "execution_count": 28,
      "outputs": []
    },
    {
      "cell_type": "code",
      "metadata": {
        "colab": {
          "base_uri": "https://localhost:8080/"
        },
        "id": "YYebXSVIwvFR",
        "outputId": "21708678-8ecd-4c35-b76d-1ba040f60aac"
      },
      "source": [
        "getSimilares(avaliacoesUsuario,'Leonardo')"
      ],
      "execution_count": 29,
      "outputs": [
        {
          "output_type": "execute_result",
          "data": {
            "text/plain": [
              "[(0.4, 'Adriano'),\n",
              " (0.38742588672279304, 'Pedro'),\n",
              " (0.3567891723253309, 'Claudia'),\n",
              " (0.3483314773547883, 'Ana'),\n",
              " (0.2674788903885893, 'Janaina'),\n",
              " (0.25824569976124334, 'Marcos')]"
            ]
          },
          "metadata": {
            "tags": []
          },
          "execution_count": 29
        }
      ]
    },
    {
      "cell_type": "code",
      "metadata": {
        "colab": {
          "base_uri": "https://localhost:8080/"
        },
        "id": "6VGt8u3jA6ph",
        "outputId": "1a80d14b-a7b9-4ab4-cd30-c363150f75a3"
      },
      "source": [
        "getSimilares(avaliacoesFilme,'Star Trek')"
      ],
      "execution_count": 30,
      "outputs": [
        {
          "output_type": "execute_result",
          "data": {
            "text/plain": [
              "[(0.3761785115301142, 'Norbit'),\n",
              " (0.3483314773547883, 'Freddy x Jason'),\n",
              " (0.32037724101704074, 'O Ultimato Bourne'),\n",
              " (0.2708131845707603, 'Star Wars'),\n",
              " (0.20799159651347807, 'Exterminador do Futuro')]"
            ]
          },
          "metadata": {
            "tags": []
          },
          "execution_count": 30
        }
      ]
    },
    {
      "cell_type": "markdown",
      "metadata": {
        "id": "yPXNqkns5B_K"
      },
      "source": [
        "###Recomendação"
      ]
    },
    {
      "cell_type": "code",
      "metadata": {
        "id": "4QWaEnKo2Bjb"
      },
      "source": [
        "def getRecomendacoes(base,usuario):\r\n",
        "  totais = {}\r\n",
        "  somaSimilaridade = {}\r\n",
        "  for outro in base:\r\n",
        "    if outro == usuario: continue\r\n",
        "    similaridade = euclidiana(base,usuario, outro)\r\n",
        "    if similaridade<=0: continue\r\n",
        "    for item in base[outro]:\r\n",
        "      if item not in base[usuario]:\r\n",
        "        totais.setdefault(item,0)\r\n",
        "        totais[item]+=base[outro][item] * similaridade\r\n",
        "        somaSimilaridade.setdefault(item,0)\r\n",
        "        somaSimilaridade[item]+=similaridade\r\n",
        "\r\n",
        "  rankings = [(total/somaSimilaridade[item],item) for item, total in totais.items()]\r\n",
        "  rankings.sort()\r\n",
        "  rankings.reverse()\r\n",
        "  return rankings\r\n"
      ],
      "execution_count": 31,
      "outputs": []
    },
    {
      "cell_type": "code",
      "metadata": {
        "colab": {
          "base_uri": "https://localhost:8080/"
        },
        "id": "GEO2srQA5AJa",
        "outputId": "0b881b0c-2b62-4ee4-81ec-67a36d64d0c5"
      },
      "source": [
        "getRecomendacoes(avaliacoesUsuario,'Leonardo')"
      ],
      "execution_count": 32,
      "outputs": [
        {
          "output_type": "execute_result",
          "data": {
            "text/plain": [
              "[(3.457128694491423, 'Star Wars'),\n",
              " (2.778584003814924, 'Freddy x Jason'),\n",
              " (2.422482042361917, 'Star Trek')]"
            ]
          },
          "metadata": {
            "tags": []
          },
          "execution_count": 32
        }
      ]
    },
    {
      "cell_type": "code",
      "metadata": {
        "colab": {
          "base_uri": "https://localhost:8080/"
        },
        "id": "5gSU69CP5qrW",
        "outputId": "9fe9ce25-5084-4982-fe55-145e556fd738"
      },
      "source": [
        "getRecomendacoes(avaliacoesFilme,'Norbit')"
      ],
      "execution_count": 33,
      "outputs": [
        {
          "output_type": "execute_result",
          "data": {
            "text/plain": [
              "[(3.5, 'Marcos'), (3.132095562913927, 'Pedro')]"
            ]
          },
          "metadata": {
            "tags": []
          },
          "execution_count": 33
        }
      ]
    }
  ]
}