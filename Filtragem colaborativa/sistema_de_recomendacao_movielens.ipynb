{
  "nbformat": 4,
  "nbformat_minor": 0,
  "metadata": {
    "colab": {
      "name": "sistema-de-recomendacao-movielens.ipynb",
      "provenance": [],
      "collapsed_sections": []
    },
    "kernelspec": {
      "name": "python3",
      "display_name": "Python 3"
    }
  },
  "cells": [
    {
      "cell_type": "markdown",
      "metadata": {
        "id": "GeDy3jSyEXKx"
      },
      "source": [
        "#Filtragem baseada em usuarios"
      ]
    },
    {
      "cell_type": "code",
      "metadata": {
        "id": "7L7qB61sIARb"
      },
      "source": [
        "def carregaMovieLens():\r\n",
        "  filmes = {}\r\n",
        "  for linha in open('/content/u.item',encoding = 'ISO-8859-1'):\r\n",
        "    (id, titulo) = linha.split('|')[0:2]\r\n",
        "    filmes[id] = titulo\r\n",
        "  #print(filmes)\r\n",
        "  \r\n",
        "  base = {}\r\n",
        "  for linha  in open('/content/u.data',encoding = 'ISO-8859-1'):\r\n",
        "    (usuario,idfilme, nota,tempo) = linha.split('\\t')\r\n",
        "    base.setdefault(usuario,{})\r\n",
        "    base[usuario][filmes[idfilme]] = float(nota)\r\n",
        "  return base"
      ],
      "execution_count": null,
      "outputs": []
    },
    {
      "cell_type": "markdown",
      "metadata": {
        "id": "vFdZu4w7EUJv"
      },
      "source": [
        "###Diatância Euclidiana - Cálculo da similaridade "
      ]
    },
    {
      "cell_type": "code",
      "metadata": {
        "id": "0HADBXYJEiIM"
      },
      "source": [
        "from math import sqrt"
      ],
      "execution_count": null,
      "outputs": []
    },
    {
      "cell_type": "markdown",
      "metadata": {
        "id": "_OK1N43stmIU"
      },
      "source": [
        "###Distancia Euclidiana para um par de usuários"
      ]
    },
    {
      "cell_type": "code",
      "metadata": {
        "id": "TUPIQ7fYIYrC"
      },
      "source": [
        "def euclidiana(base,usuario1,usuario2):\r\n",
        "  si = {}\r\n",
        "  #Verifica os items em comum entre os usuarios e cria uma lista si\r\n",
        "  for item in base[usuario1]:\r\n",
        "    if item in base[usuario2]: si[item] = 1\r\n",
        "\r\n",
        "  #Calcula a distância Euclidiana  para um par de usuarios\r\n",
        "  if len(si)==0: return 0\r\n",
        "  soma=sum([pow(base[usuario1][item] - base[usuario2][item], 2)\r\n",
        "        for item in base[usuario1] if item in base[usuario2]])\r\n",
        "  return 1/(1+sqrt(soma))"
      ],
      "execution_count": null,
      "outputs": []
    },
    {
      "cell_type": "markdown",
      "metadata": {
        "id": "MjdaKWLKtq9F"
      },
      "source": [
        "###Distância Euclidiana para todos os usuarios"
      ]
    },
    {
      "cell_type": "code",
      "metadata": {
        "id": "cymBnyIRtt6W"
      },
      "source": [
        "def getSimilares(base,usuario):\r\n",
        "  similaridade = [(euclidiana(base,usuario,outro),outro)\r\n",
        "            for outro in base if outro!=usuario]\r\n",
        "  similaridade.sort()\r\n",
        "  similaridade.reverse()\r\n",
        "  return similaridade[0:30] #apenas 30 registros"
      ],
      "execution_count": null,
      "outputs": []
    },
    {
      "cell_type": "markdown",
      "metadata": {
        "id": "yPXNqkns5B_K"
      },
      "source": [
        "###Recomendação"
      ]
    },
    {
      "cell_type": "code",
      "metadata": {
        "id": "4QWaEnKo2Bjb"
      },
      "source": [
        "def getRecomendacoes(base,usuario):\r\n",
        "  totais = {}\r\n",
        "  somaSimilaridade = {}\r\n",
        "  for outro in base:\r\n",
        "    if outro == usuario: continue\r\n",
        "    similaridade = euclidiana(base,usuario, outro)\r\n",
        "    if similaridade<=0: continue\r\n",
        "    for item in base[outro]:\r\n",
        "      if item not in base[usuario]:\r\n",
        "        totais.setdefault(item,0)\r\n",
        "        totais[item]+=base[outro][item] * similaridade\r\n",
        "        somaSimilaridade.setdefault(item,0)\r\n",
        "        somaSimilaridade[item]+=similaridade\r\n",
        "\r\n",
        "  rankings = [(total/somaSimilaridade[item],item) for item, total in totais.items()]\r\n",
        "  rankings.sort()\r\n",
        "  rankings.reverse()\r\n",
        "  return rankings[0:30] ##apenas 30 registros\r\n"
      ],
      "execution_count": null,
      "outputs": []
    },
    {
      "cell_type": "code",
      "metadata": {
        "id": "1IOnOXKkNED1"
      },
      "source": [
        "base = carregaMovieLens()"
      ],
      "execution_count": null,
      "outputs": []
    },
    {
      "cell_type": "code",
      "metadata": {
        "colab": {
          "base_uri": "https://localhost:8080/"
        },
        "id": "-7wbM8i7NJhr",
        "outputId": "9b574265-25d7-40f2-d70a-d84766af1aec"
      },
      "source": [
        "getSimilares(base,'1')"
      ],
      "execution_count": null,
      "outputs": [
        {
          "output_type": "execute_result",
          "data": {
            "text/plain": [
              "[(1.0, '812'),\n",
              " (1.0, '418'),\n",
              " (1.0, '155'),\n",
              " (0.5, '729'),\n",
              " (0.5, '631'),\n",
              " (0.5, '351'),\n",
              " (0.5, '309'),\n",
              " (0.5, '273'),\n",
              " (0.4142135623730951, '876'),\n",
              " (0.4142135623730951, '485'),\n",
              " (0.4142135623730951, '111'),\n",
              " (0.36602540378443865, '687'),\n",
              " (0.36602540378443865, '105'),\n",
              " (0.3333333333333333, '895'),\n",
              " (0.3333333333333333, '811'),\n",
              " (0.3333333333333333, '685'),\n",
              " (0.3333333333333333, '531'),\n",
              " (0.3333333333333333, '39'),\n",
              " (0.3333333333333333, '356'),\n",
              " (0.3333333333333333, '341'),\n",
              " (0.3333333333333333, '282'),\n",
              " (0.3333333333333333, '260'),\n",
              " (0.3333333333333333, '107'),\n",
              " (0.3090169943749474, '9'),\n",
              " (0.3090169943749474, '842'),\n",
              " (0.3090169943749474, '820'),\n",
              " (0.3090169943749474, '696'),\n",
              " (0.3090169943749474, '547'),\n",
              " (0.3090169943749474, '520'),\n",
              " (0.3090169943749474, '516')]"
            ]
          },
          "metadata": {
            "tags": []
          },
          "execution_count": 66
        }
      ]
    },
    {
      "cell_type": "code",
      "metadata": {
        "id": "VOvfxzhmNmbC",
        "colab": {
          "base_uri": "https://localhost:8080/"
        },
        "outputId": "cc76def2-794e-4bca-ed40-ba49a782a371"
      },
      "source": [
        "getRecomendacoes(base,'212')"
      ],
      "execution_count": null,
      "outputs": [
        {
          "output_type": "execute_result",
          "data": {
            "text/plain": [
              "[(5.0, 'They Made Me a Criminal (1939)'),\n",
              " (5.0, 'Star Kid (1997)'),\n",
              " (5.0, \"Someone Else's America (1995)\"),\n",
              " (5.0, 'Santa with Muscles (1996)'),\n",
              " (5.0, 'Saint of Fort Washington, The (1993)'),\n",
              " (5.0, 'Prefontaine (1997)'),\n",
              " (5.0, 'Marlene Dietrich: Shadow and Light (1996) '),\n",
              " (5.0, 'Great Day in Harlem, A (1994)'),\n",
              " (5.0, 'Entertaining Angels: The Dorothy Day Story (1996)'),\n",
              " (5.0, 'Aiqing wansui (1994)'),\n",
              " (4.678464513946264, 'Delta of Venus (1994)'),\n",
              " (4.669110773445877, 'Innocents, The (1961)'),\n",
              " (4.6679881166781785, 'Pather Panchali (1955)'),\n",
              " (4.643210827674669, 'Letter From Death Row, A (1998)'),\n",
              " (4.636191497550252, 'Maya Lin: A Strong Clear Vision (1994)'),\n",
              " (4.6151289598408765, 'Anna (1996)'),\n",
              " (4.558310593401602, \"Some Mother's Son (1996)\"),\n",
              " (4.493969532782648, 'Shawshank Redemption, The (1994)'),\n",
              " (4.481115124220606, 'Leading Man, The (1996)'),\n",
              " (4.45837363085848, 'For the Moment (1994)'),\n",
              " (4.457258689756284, 'Third Man, The (1949)'),\n",
              " (4.445996248823582, 'Casablanca (1942)'),\n",
              " (4.431685947747432, 'Everest (1998)'),\n",
              " (4.42978055610852, 'Bitter Sugar (Azucar Amargo) (1996)'),\n",
              " (4.407495008220233, 'Rear Window (1954)'),\n",
              " (4.4065569308647765, 'Usual Suspects, The (1995)'),\n",
              " (4.378592892105554, 'Golden Earrings (1947)'),\n",
              " (4.367916150868721, 'Close Shave, A (1995)'),\n",
              " (4.367825982472788, 'Magic Hour, The (1998)'),\n",
              " (4.367501452423068, 'Wallace & Gromit: The Best of Aardman Animation (1996)')]"
            ]
          },
          "metadata": {
            "tags": []
          },
          "execution_count": 67
        }
      ]
    }
  ]
}