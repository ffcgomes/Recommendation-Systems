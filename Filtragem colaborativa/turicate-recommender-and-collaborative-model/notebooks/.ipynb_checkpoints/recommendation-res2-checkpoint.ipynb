{
 "cells": [
  {
   "cell_type": "markdown",
   "metadata": {},
   "source": [
    "# Formation Data Science Challenge\n",
    "This notebook includes the following steps for processing data and implementing collaborative algorithm for **Option 1** recommendation.\n",
    "\n",
    "* Transforming data\n",
    "* Training and tuning of model parameters\n",
    "* Evaluation of model performance and selecting the optimal model"
   ]
  },
  {
   "cell_type": "code",
   "execution_count": 1,
   "metadata": {
    "collapsed": false
   },
   "outputs": [],
   "source": [
    "%load_ext autoreload\n",
    "%autoreload 2\n",
    "\n",
    "import pandas as pd\n",
    "import matplotlib.pyplot as plt\n",
    "import datetime\n",
    "from datetime import datetime as dt\n",
    "from pylab import rcParams\n",
    "rcParams['figure.figsize'] = 16, 6\n",
    "import sys\n",
    "sys.path.append(\"..\")\n",
    "import scripts.data_layer as data_layer"
   ]
  },
  {
   "cell_type": "markdown",
   "metadata": {},
   "source": [
    "## Data"
   ]
  },
  {
   "cell_type": "code",
   "execution_count": 2,
   "metadata": {
    "collapsed": false
   },
   "outputs": [],
   "source": [
    "customers = pd.read_csv('../data/recommend_1.csv')\n",
    "transactions = pd.read_csv('../data/trx_data.csv')"
   ]
  },
  {
   "cell_type": "code",
   "execution_count": 3,
   "metadata": {
    "collapsed": false
   },
   "outputs": [
    {
     "name": "stdout",
     "output_type": "stream",
     "text": [
      "There are 1000 customers to be recommended, while overall there are 24429 customers in the transactional records.\n"
     ]
    }
   ],
   "source": [
    "print(\"There are\", customers.customerId.nunique(), \"customers to be recommended, while overall there are\", transactions.customerId.nunique(), \"customers in the transactional records.\")"
   ]
  },
  {
   "cell_type": "markdown",
   "metadata": {},
   "source": [
    "## Collaborative Filtering"
   ]
  },
  {
   "cell_type": "code",
   "execution_count": 4,
   "metadata": {
    "collapsed": false
   },
   "outputs": [],
   "source": [
    "import numpy as np\n",
    "from collections import Counter\n",
    "import time"
   ]
  },
  {
   "cell_type": "markdown",
   "metadata": {},
   "source": [
    "### 1. Create user-item matrix"
   ]
  },
  {
   "cell_type": "code",
   "execution_count": 5,
   "metadata": {
    "collapsed": false
   },
   "outputs": [
    {
     "data": {
      "text/plain": [
       "24429"
      ]
     },
     "execution_count": 5,
     "metadata": {},
     "output_type": "execute_result"
    }
   ],
   "source": [
    "x = transactions.set_index('customerId')['products']\n",
    "x.index.nunique()"
   ]
  },
  {
   "cell_type": "code",
   "execution_count": 6,
   "metadata": {
    "collapsed": true
   },
   "outputs": [],
   "source": [
    "def items_bought(user):\n",
    "    N = x[user][:]\n",
    "    if type(N)!=str:\n",
    "        N = np.array(\"|\".join(N.values.reshape(1, len(N))[0]))\n",
    "    bought = [int(i) for i in str(N).split('|')]\n",
    "    return dict(Counter(bought))"
   ]
  },
  {
   "cell_type": "code",
   "execution_count": 7,
   "metadata": {
    "collapsed": false
   },
   "outputs": [
    {
     "data": {
      "text/plain": [
       "{1: 2,\n",
       " 13: 1,\n",
       " 19: 3,\n",
       " 20: 1,\n",
       " 31: 2,\n",
       " 52: 1,\n",
       " 69: 2,\n",
       " 93: 3,\n",
       " 136: 2,\n",
       " 157: 1,\n",
       " 198: 1,\n",
       " 216: 1,\n",
       " 255: 2,\n",
       " 256: 1,\n",
       " 260: 5}"
      ]
     },
     "execution_count": 7,
     "metadata": {},
     "output_type": "execute_result"
    }
   ],
   "source": [
    "user = 0\n",
    "dic_items = items_bought(user)\n",
    "dic_items"
   ]
  },
  {
   "cell_type": "code",
   "execution_count": 8,
   "metadata": {
    "collapsed": false
   },
   "outputs": [
    {
     "name": "stdout",
     "output_type": "stream",
     "text": [
      "24429\n",
      "Execution time: 5.308964498837789 minutes\n"
     ]
    }
   ],
   "source": [
    "# define items for each user listed\n",
    "s = time.time()\n",
    "\n",
    "dic_users = {}\n",
    "for user in x.index.unique():\n",
    "    dic_users[user] = items_bought(user)\n",
    "    \n",
    "print(len(dic_users))\n",
    "    \n",
    "print(\"Execution time:\", (time.time()-s)/60, \"minutes\")"
   ]
  },
  {
   "cell_type": "code",
   "execution_count": 9,
   "metadata": {
    "collapsed": false
   },
   "outputs": [
    {
     "name": "stdout",
     "output_type": "stream",
     "text": [
      "Execution time: 0.029868467648824056 minutes\n"
     ]
    }
   ],
   "source": [
    "# create user-item matrix\n",
    "s = time.time()\n",
    "\n",
    "df_matrix = pd.DataFrame(dic_users).T\n",
    "\n",
    "print(\"Execution time:\", (time.time()-s)/60, \"minutes\")"
   ]
  },
  {
   "cell_type": "code",
   "execution_count": 10,
   "metadata": {
    "collapsed": false
   },
   "outputs": [
    {
     "name": "stdout",
     "output_type": "stream",
     "text": [
      "(24429, 300)\n"
     ]
    },
    {
     "data": {
      "text/html": [
       "<div>\n",
       "<style>\n",
       "    .dataframe thead tr:only-child th {\n",
       "        text-align: right;\n",
       "    }\n",
       "\n",
       "    .dataframe thead th {\n",
       "        text-align: left;\n",
       "    }\n",
       "\n",
       "    .dataframe tbody tr th {\n",
       "        vertical-align: top;\n",
       "    }\n",
       "</style>\n",
       "<table border=\"1\" class=\"dataframe\">\n",
       "  <thead>\n",
       "    <tr style=\"text-align: right;\">\n",
       "      <th></th>\n",
       "      <th>0</th>\n",
       "      <th>1</th>\n",
       "      <th>2</th>\n",
       "      <th>3</th>\n",
       "      <th>4</th>\n",
       "      <th>5</th>\n",
       "      <th>6</th>\n",
       "      <th>7</th>\n",
       "      <th>8</th>\n",
       "      <th>9</th>\n",
       "      <th>...</th>\n",
       "      <th>290</th>\n",
       "      <th>291</th>\n",
       "      <th>292</th>\n",
       "      <th>293</th>\n",
       "      <th>294</th>\n",
       "      <th>295</th>\n",
       "      <th>296</th>\n",
       "      <th>297</th>\n",
       "      <th>298</th>\n",
       "      <th>299</th>\n",
       "    </tr>\n",
       "  </thead>\n",
       "  <tbody>\n",
       "    <tr>\n",
       "      <th>0</th>\n",
       "      <td>NaN</td>\n",
       "      <td>2.0</td>\n",
       "      <td>NaN</td>\n",
       "      <td>NaN</td>\n",
       "      <td>NaN</td>\n",
       "      <td>NaN</td>\n",
       "      <td>NaN</td>\n",
       "      <td>NaN</td>\n",
       "      <td>NaN</td>\n",
       "      <td>NaN</td>\n",
       "      <td>...</td>\n",
       "      <td>NaN</td>\n",
       "      <td>NaN</td>\n",
       "      <td>NaN</td>\n",
       "      <td>NaN</td>\n",
       "      <td>NaN</td>\n",
       "      <td>NaN</td>\n",
       "      <td>NaN</td>\n",
       "      <td>NaN</td>\n",
       "      <td>NaN</td>\n",
       "      <td>NaN</td>\n",
       "    </tr>\n",
       "    <tr>\n",
       "      <th>1</th>\n",
       "      <td>NaN</td>\n",
       "      <td>NaN</td>\n",
       "      <td>6.0</td>\n",
       "      <td>NaN</td>\n",
       "      <td>NaN</td>\n",
       "      <td>NaN</td>\n",
       "      <td>NaN</td>\n",
       "      <td>NaN</td>\n",
       "      <td>NaN</td>\n",
       "      <td>NaN</td>\n",
       "      <td>...</td>\n",
       "      <td>NaN</td>\n",
       "      <td>NaN</td>\n",
       "      <td>NaN</td>\n",
       "      <td>1.0</td>\n",
       "      <td>NaN</td>\n",
       "      <td>NaN</td>\n",
       "      <td>1.0</td>\n",
       "      <td>NaN</td>\n",
       "      <td>NaN</td>\n",
       "      <td>NaN</td>\n",
       "    </tr>\n",
       "    <tr>\n",
       "      <th>2</th>\n",
       "      <td>NaN</td>\n",
       "      <td>NaN</td>\n",
       "      <td>NaN</td>\n",
       "      <td>NaN</td>\n",
       "      <td>NaN</td>\n",
       "      <td>NaN</td>\n",
       "      <td>NaN</td>\n",
       "      <td>NaN</td>\n",
       "      <td>NaN</td>\n",
       "      <td>NaN</td>\n",
       "      <td>...</td>\n",
       "      <td>NaN</td>\n",
       "      <td>NaN</td>\n",
       "      <td>NaN</td>\n",
       "      <td>NaN</td>\n",
       "      <td>NaN</td>\n",
       "      <td>NaN</td>\n",
       "      <td>NaN</td>\n",
       "      <td>NaN</td>\n",
       "      <td>NaN</td>\n",
       "      <td>NaN</td>\n",
       "    </tr>\n",
       "    <tr>\n",
       "      <th>3</th>\n",
       "      <td>NaN</td>\n",
       "      <td>NaN</td>\n",
       "      <td>NaN</td>\n",
       "      <td>NaN</td>\n",
       "      <td>NaN</td>\n",
       "      <td>NaN</td>\n",
       "      <td>NaN</td>\n",
       "      <td>NaN</td>\n",
       "      <td>NaN</td>\n",
       "      <td>NaN</td>\n",
       "      <td>...</td>\n",
       "      <td>NaN</td>\n",
       "      <td>NaN</td>\n",
       "      <td>NaN</td>\n",
       "      <td>NaN</td>\n",
       "      <td>NaN</td>\n",
       "      <td>NaN</td>\n",
       "      <td>NaN</td>\n",
       "      <td>NaN</td>\n",
       "      <td>NaN</td>\n",
       "      <td>NaN</td>\n",
       "    </tr>\n",
       "    <tr>\n",
       "      <th>4</th>\n",
       "      <td>NaN</td>\n",
       "      <td>NaN</td>\n",
       "      <td>NaN</td>\n",
       "      <td>NaN</td>\n",
       "      <td>NaN</td>\n",
       "      <td>NaN</td>\n",
       "      <td>NaN</td>\n",
       "      <td>NaN</td>\n",
       "      <td>NaN</td>\n",
       "      <td>NaN</td>\n",
       "      <td>...</td>\n",
       "      <td>NaN</td>\n",
       "      <td>NaN</td>\n",
       "      <td>NaN</td>\n",
       "      <td>NaN</td>\n",
       "      <td>NaN</td>\n",
       "      <td>NaN</td>\n",
       "      <td>NaN</td>\n",
       "      <td>NaN</td>\n",
       "      <td>NaN</td>\n",
       "      <td>NaN</td>\n",
       "    </tr>\n",
       "  </tbody>\n",
       "</table>\n",
       "<p>5 rows × 300 columns</p>\n",
       "</div>"
      ],
      "text/plain": [
       "   0    1    2    3    4    5    6    7    8    9   ...   290  291  292  293  \\\n",
       "0  NaN  2.0  NaN  NaN  NaN  NaN  NaN  NaN  NaN  NaN ...   NaN  NaN  NaN  NaN   \n",
       "1  NaN  NaN  6.0  NaN  NaN  NaN  NaN  NaN  NaN  NaN ...   NaN  NaN  NaN  1.0   \n",
       "2  NaN  NaN  NaN  NaN  NaN  NaN  NaN  NaN  NaN  NaN ...   NaN  NaN  NaN  NaN   \n",
       "3  NaN  NaN  NaN  NaN  NaN  NaN  NaN  NaN  NaN  NaN ...   NaN  NaN  NaN  NaN   \n",
       "4  NaN  NaN  NaN  NaN  NaN  NaN  NaN  NaN  NaN  NaN ...   NaN  NaN  NaN  NaN   \n",
       "\n",
       "   294  295  296  297  298  299  \n",
       "0  NaN  NaN  NaN  NaN  NaN  NaN  \n",
       "1  NaN  NaN  1.0  NaN  NaN  NaN  \n",
       "2  NaN  NaN  NaN  NaN  NaN  NaN  \n",
       "3  NaN  NaN  NaN  NaN  NaN  NaN  \n",
       "4  NaN  NaN  NaN  NaN  NaN  NaN  \n",
       "\n",
       "[5 rows x 300 columns]"
      ]
     },
     "execution_count": 10,
     "metadata": {},
     "output_type": "execute_result"
    }
   ],
   "source": [
    "print(df_matrix.shape) # 24,429 users with 300 listed items\n",
    "df_matrix.head()"
   ]
  },
  {
   "cell_type": "markdown",
   "metadata": {},
   "source": [
    "### User-items matrix"
   ]
  },
  {
   "cell_type": "code",
   "execution_count": 16,
   "metadata": {
    "collapsed": false
   },
   "outputs": [
    {
     "name": "stdout",
     "output_type": "stream",
     "text": [
      "(24429, 300)\n"
     ]
    },
    {
     "data": {
      "text/plain": [
       "array([[ 0.,  2.,  0., ...,  0.,  0.,  0.],\n",
       "       [ 0.,  0.,  6., ...,  0.,  0.,  0.],\n",
       "       [ 0.,  0.,  0., ...,  0.,  0.,  0.],\n",
       "       ..., \n",
       "       [ 0.,  0.,  0., ...,  0.,  0.,  0.],\n",
       "       [ 0.,  0.,  0., ...,  0.,  0.,  0.],\n",
       "       [ 0.,  0.,  0., ...,  0.,  0.,  0.]])"
      ]
     },
     "execution_count": 16,
     "metadata": {},
     "output_type": "execute_result"
    }
   ],
   "source": [
    "# matrix filled in with 0s\n",
    "matrix_user_items = np.array(df_matrix.fillna(0))\n",
    "print(matrix_user_items.shape)\n",
    "matrix_user_items"
   ]
  },
  {
   "cell_type": "code",
   "execution_count": 17,
   "metadata": {
    "collapsed": false
   },
   "outputs": [
    {
     "name": "stdout",
     "output_type": "stream",
     "text": [
      "(24429, 300)\n"
     ]
    },
    {
     "data": {
      "text/plain": [
       "array([[ nan,   2.,  nan, ...,  nan,  nan,  nan],\n",
       "       [ nan,  nan,   6., ...,  nan,  nan,  nan],\n",
       "       [ nan,  nan,  nan, ...,  nan,  nan,  nan],\n",
       "       ..., \n",
       "       [ nan,  nan,  nan, ...,  nan,  nan,  nan],\n",
       "       [ nan,  nan,  nan, ...,  nan,  nan,  nan],\n",
       "       [ nan,  nan,  nan, ...,  nan,  nan,  nan]])"
      ]
     },
     "execution_count": 17,
     "metadata": {},
     "output_type": "execute_result"
    }
   ],
   "source": [
    "# matrix with Nans\n",
    "matrix_user_items_nan = np.array(df_matrix)\n",
    "print(matrix_user_items_nan.shape)\n",
    "matrix_user_items_nan"
   ]
  },
  {
   "cell_type": "markdown",
   "metadata": {},
   "source": [
    "#### *if using centered cosine*"
   ]
  },
  {
   "cell_type": "code",
   "execution_count": 158,
   "metadata": {
    "collapsed": false
   },
   "outputs": [
    {
     "data": {
      "text/plain": [
       "1      2.0\n",
       "13     1.0\n",
       "19     3.0\n",
       "20     1.0\n",
       "31     2.0\n",
       "52     1.0\n",
       "69     2.0\n",
       "93     3.0\n",
       "136    2.0\n",
       "157    1.0\n",
       "198    1.0\n",
       "216    1.0\n",
       "255    2.0\n",
       "256    1.0\n",
       "260    5.0\n",
       "Name: 0, dtype: float64"
      ]
     },
     "execution_count": 158,
     "metadata": {},
     "output_type": "execute_result"
    }
   ],
   "source": [
    "df_matrix.loc[0][df_matrix.loc[0].notnull()]"
   ]
  },
  {
   "cell_type": "code",
   "execution_count": 163,
   "metadata": {
    "collapsed": false
   },
   "outputs": [
    {
     "data": {
      "text/plain": [
       "1      0.133333\n",
       "13    -0.866667\n",
       "19     1.133333\n",
       "20    -0.866667\n",
       "31     0.133333\n",
       "52    -0.866667\n",
       "69     0.133333\n",
       "93     1.133333\n",
       "136    0.133333\n",
       "157   -0.866667\n",
       "198   -0.866667\n",
       "216   -0.866667\n",
       "255    0.133333\n",
       "256   -0.866667\n",
       "260    3.133333\n",
       "Name: 0, dtype: float64"
      ]
     },
     "execution_count": 163,
     "metadata": {},
     "output_type": "execute_result"
    }
   ],
   "source": [
    "p = df_matrix.loc[0][df_matrix.loc[0].notnull()]\n",
    "p - p.sum() / p.count()"
   ]
  },
  {
   "cell_type": "markdown",
   "metadata": {},
   "source": [
    "### 0. Split train-test sets"
   ]
  },
  {
   "cell_type": "code",
   "execution_count": 18,
   "metadata": {
    "collapsed": false
   },
   "outputs": [],
   "source": [
    "from scipy.spatial.distance import cosine"
   ]
  },
  {
   "cell_type": "code",
   "execution_count": 26,
   "metadata": {
    "collapsed": true
   },
   "outputs": [],
   "source": [
    "def create_matrix_items(matrix_user_items):\n",
    "    \"\"\"\n",
    "    Creates an item-to-item matrix, where both indices and columns represent\n",
    "    unique item IDs.\n",
    "    The matrix shape is square (n_items x n_items).\n",
    "\n",
    "    Args:\n",
    "        None\n",
    "\n",
    "    Returns:\n",
    "        None\n",
    "    \"\"\"\n",
    "    matrix_items = np.zeros([n_items, n_items])\n",
    "\n",
    "    for i in range(n_items):\n",
    "        for j in range(n_items):\n",
    "#             print(1-cosine(matrix_user_items[:, i], matrix_user_items[:, j]))\n",
    "#             print(pearsonr(matrix_user_items[:, i], matrix_user_items[:, j]))\n",
    "            matrix_items[i][j] = 1-cosine(matrix_user_items[:, i], matrix_user_items[:, j])\n",
    "    return matrix_items"
   ]
  },
  {
   "cell_type": "code",
   "execution_count": 27,
   "metadata": {
    "collapsed": false
   },
   "outputs": [],
   "source": [
    "n_items = matrix_user_items.shape[1]\n",
    "matrix_items = create_matrix_items(matrix_user_items)"
   ]
  },
  {
   "cell_type": "code",
   "execution_count": 28,
   "metadata": {
    "collapsed": true
   },
   "outputs": [],
   "source": [
    "# based on the items, we want to list items that are most similar to items\n",
    "\n",
    "def create_matrix_neighbors(matrix_items):\n",
    "    \"\"\"\n",
    "    Creates a matrix for selecting top neighbors for each item i based on\n",
    "    similarity scores, where index values represent unique items and columns\n",
    "    represent items that are most similar to that item.\n",
    "    The matrix shape is square (n_items x n_neighbors).\n",
    "\n",
    "    Args:\n",
    "        None\n",
    "\n",
    "    Returns:\n",
    "        None\n",
    "    \"\"\"\n",
    "    n = n_items\n",
    "    m = n_neighbors\n",
    "\n",
    "    matrix_neighbor_items = np.zeros([n, m])\n",
    "    matrix_neighbor_indices = np.zeros([n, m])\n",
    "\n",
    "    for i in range(n):\n",
    "        sorted_indices = np.argsort(matrix_items[i])[::-1][:m]\n",
    "        matrix_neighbor_indices[i] = sorted_indices\n",
    "        matrix_neighbor_items[i] = matrix_items[i][sorted_indices]\n",
    "    return matrix_neighbor_indices, matrix_neighbor_items"
   ]
  },
  {
   "cell_type": "code",
   "execution_count": 29,
   "metadata": {
    "collapsed": false
   },
   "outputs": [],
   "source": [
    "n_neighbors = 10\n",
    "matrix_neighbors = create_matrix_neighbors(matrix_items)"
   ]
  },
  {
   "cell_type": "code",
   "execution_count": 30,
   "metadata": {
    "collapsed": true
   },
   "outputs": [],
   "source": [
    "def create_matrix_similarity(matrix_neighbors):\n",
    "    \"\"\"\n",
    "    Creates a similarity matrix, where index values represent unique\n",
    "    user IDs and columns represent unique item IDs. Scores are filled in\n",
    "    based on user purchase and neighboring items.\n",
    "    The matrix shape is (n_users x n_items).\n",
    "\n",
    "    Args:\n",
    "        None\n",
    "\n",
    "    Returns:\n",
    "        None\n",
    "    \"\"\"\n",
    "    matrix_neighbor_indices, matrix_neighbor_items = matrix_neighbors\n",
    "    matrix_pred = np.zeros([n_users, n_items])\n",
    "\n",
    "    for user in range(n_users):\n",
    "        for item in range(n_items):\n",
    "            top_neighbor_item_scores = matrix_neighbor_items[item][1:]\n",
    "            indices = matrix_neighbor_indices[item][1:].astype(np.int64)\n",
    "            user_purchase = matrix_user_items[user][indices]\n",
    "            matrix_pred[user][item] = sum(user_purchase*top_neighbor_item_scores)/ \\\n",
    "                                           sum(top_neighbor_item_scores)\n",
    "    return matrix_pred"
   ]
  },
  {
   "cell_type": "code",
   "execution_count": 31,
   "metadata": {
    "collapsed": false
   },
   "outputs": [
    {
     "name": "stdout",
     "output_type": "stream",
     "text": [
      "Execution time: 1.33 minutes\n"
     ]
    }
   ],
   "source": [
    "s = time.time()\n",
    "\n",
    "n_users = transactions.customerId.nunique()\n",
    "matrix_similarity = create_matrix_similarity(matrix_neighbors)\n",
    "\n",
    "print(\"Execution time:\", round((time.time()-s)/60, 2), \"minutes\")"
   ]
  },
  {
   "cell_type": "code",
   "execution_count": 50,
   "metadata": {
    "collapsed": false
   },
   "outputs": [
    {
     "data": {
      "text/plain": [
       "(24429, 300)"
      ]
     },
     "execution_count": 50,
     "metadata": {},
     "output_type": "execute_result"
    }
   ],
   "source": [
    "matrix_user_items.shape"
   ]
  },
  {
   "cell_type": "markdown",
   "metadata": {},
   "source": [
    "### Automating for train-test"
   ]
  },
  {
   "cell_type": "code",
   "execution_count": 23,
   "metadata": {
    "collapsed": false
   },
   "outputs": [],
   "source": [
    "from sklearn.cross_validation import train_test_split\n",
    "\n",
    "train, test = train_test_split(matrix_user_items, test_size = .3)"
   ]
  },
  {
   "cell_type": "code",
   "execution_count": 24,
   "metadata": {
    "collapsed": false
   },
   "outputs": [
    {
     "data": {
      "text/plain": [
       "(17100, 300)"
      ]
     },
     "execution_count": 24,
     "metadata": {},
     "output_type": "execute_result"
    }
   ],
   "source": [
    "train.shape"
   ]
  },
  {
   "cell_type": "code",
   "execution_count": 25,
   "metadata": {
    "collapsed": false
   },
   "outputs": [
    {
     "data": {
      "text/plain": [
       "(7329, 300)"
      ]
     },
     "execution_count": 25,
     "metadata": {},
     "output_type": "execute_result"
    }
   ],
   "source": [
    "test.shape"
   ]
  },
  {
   "cell_type": "code",
   "execution_count": 32,
   "metadata": {
    "collapsed": true
   },
   "outputs": [],
   "source": [
    "def model(matrix_user_items):\n",
    "    n_users = matrix_user_items.shape[0]\n",
    "    n_items = matrix_user_items.shape[1]\n",
    "    n_neighbors = 10\n",
    "    \n",
    "    matrix_items = create_matrix_items(matrix_user_items)\n",
    "    matrix_neighbors = create_matrix_neighbors(matrix_items)\n",
    "    matrix_similarity = create_matrix_similarity(matrix_neighbors)\n",
    "    return matrix_similarity"
   ]
  },
  {
   "cell_type": "code",
   "execution_count": null,
   "metadata": {
    "collapsed": false
   },
   "outputs": [],
   "source": [
    "# try train-test set\n",
    "s = time.time()\n",
    "\n",
    "train, test = train_test_split(matrix_user_items, test_size=.3, random_state=0)\n",
    "matrix_sim_train = model(train)\n",
    "matrix_sim_test = model(test)\n",
    "\n",
    "print(\"Execution time:\", round((time.time()-s)/60, 2), \"minutes\")"
   ]
  },
  {
   "cell_type": "code",
   "execution_count": null,
   "metadata": {
    "collapsed": false
   },
   "outputs": [],
   "source": [
    "matrix_sim_train.shape"
   ]
  },
  {
   "cell_type": "code",
   "execution_count": null,
   "metadata": {
    "collapsed": true
   },
   "outputs": [],
   "source": [
    "matrix_sim_test.shape"
   ]
  },
  {
   "cell_type": "code",
   "execution_count": null,
   "metadata": {
    "collapsed": true
   },
   "outputs": [],
   "source": [
    "def create_recommendations(matrix_pred, csv_output=True):\n",
    "    \"\"\"\n",
    "    Creates a recommendation matrix for all items and a dataframe consisting of\n",
    "    top 10 recommended items. Allows for returning a csv output file with\n",
    "    specified customerId and their recommendations.\n",
    "\n",
    "    Args:\n",
    "        None\n",
    "\n",
    "    Returns:\n",
    "        None\n",
    "    \"\"\"\n",
    "    c = 'customerId'\n",
    "    matrix_recom_scores = np.zeros([n_users, n_recommendations])\n",
    "    matrix_recom_indices = np.zeros([n_users, n_recommendations])\n",
    "\n",
    "    for user in range(n_users):\n",
    "        sorted_indices = np.argsort(matrix_pred[user])[::-1][:n_recommendations]\n",
    "        matrix_recom_indices[user] = sorted_indices\n",
    "        matrix_recom_scores[user] = matrix_pred[user][sorted_indices]\n",
    "\n",
    "    df_recommend = pd.DataFrame(matrix_recom_indices)\n",
    "    df_recommend[c] = df_matrix.index\n",
    "    df_top10 = df_recommend[[c]+list(df_recommend.columns[:n_recommendations])] \\\n",
    "        .astype(np.int64).set_index(c).loc[customers[c]]\n",
    "    df_top10['recommendedProducts'] = df_top10[list(range(n_recommendations))] \\\n",
    "        .apply(lambda x: '|'.join(x.fillna('').map(str)), axis=1)\n",
    "    if csv_output:\n",
    "        df_top10[['recommendedProducts']].to_csv('../output/'+output_file)\n",
    "    return df_top10"
   ]
  },
  {
   "cell_type": "code",
   "execution_count": null,
   "metadata": {
    "collapsed": false
   },
   "outputs": [],
   "source": [
    "n_recommendations = 10\n",
    "train_rec = create_recommendations(matrix_sim_train, csv_output=False)\n",
    "test_rec = create_recommendations(matrix_sim_test, csv_output=False)"
   ]
  },
  {
   "cell_type": "code",
   "execution_count": null,
   "metadata": {
    "collapsed": false
   },
   "outputs": [],
   "source": [
    "train_rec"
   ]
  },
  {
   "cell_type": "code",
   "execution_count": null,
   "metadata": {
    "collapsed": false
   },
   "outputs": [],
   "source": [
    "test_rec"
   ]
  },
  {
   "cell_type": "markdown",
   "metadata": {},
   "source": [
    "### Model Evaluation\n",
    "Recall\n",
    "* What ratio of items that a user likes were actually recommended.\n",
    "* If a user likes say 5 items and the recommendation decided to show 3 of them, then the recall is 0.6\n",
    "\n",
    "Precision\n",
    "* Out of all the recommended items, how many the user actually liked?\n",
    "* If 5 items were recommended to the user out of which he liked say 4 of them, then precision is 0.8\n",
    "\n",
    "\n",
    "In our case however we are only interested in calculating precision and recall at k. Precision and recall are binary metrics used to evaluate models with binary output. Thus we need a way to translate our numerical problem (ratings usually from 1 to 5) into a binary problem (relevant and not relevant items)\n",
    "\n"
   ]
  },
  {
   "cell_type": "markdown",
   "metadata": {},
   "source": [
    "#### Translating to binary\n",
    "To do the translation we will assume that any true rating above 3.5 corresponds to a relevant item and any true rating below 3.5 is irrelevant. A relevant item for a specific user-item pair means that this item is a good recommendation for the user in question.\n",
    "\n",
    "3.5 is just a threshold value I chose. There are multiple ways to set this threshold value such as taking into consideration the history of ratings given by the user. for the sake of simplicity, we will stick to the 3.5 threshold.\n",
    "\n",
    "#### Relevant items are already known in the data set\n",
    "Relevant item: Has a True/Actual rating >= 3.5\n",
    "Irrelevant item: Has a True/Actual rating < 3.5\n",
    "#### Recommended items are generated by recommendation algorithm\n",
    "Recommended item: has a predicted rating >= 3.5\n",
    "Not recommended item: Has a predicted rating < 3.5"
   ]
  },
  {
   "cell_type": "code",
   "execution_count": 106,
   "metadata": {
    "collapsed": false
   },
   "outputs": [
    {
     "data": {
      "text/plain": [
       "array([[ 0.,  2.,  0., ...,  0.,  0.,  0.],\n",
       "       [ 0.,  0.,  6., ...,  0.,  0.,  0.],\n",
       "       [ 0.,  0.,  0., ...,  0.,  0.,  0.],\n",
       "       ..., \n",
       "       [ 0.,  0.,  0., ...,  0.,  0.,  0.],\n",
       "       [ 0.,  0.,  0., ...,  0.,  0.,  0.],\n",
       "       [ 0.,  0.,  0., ...,  0.,  0.,  0.]])"
      ]
     },
     "execution_count": 106,
     "metadata": {},
     "output_type": "execute_result"
    }
   ],
   "source": [
    "matrix_user_items"
   ]
  },
  {
   "cell_type": "code",
   "execution_count": 112,
   "metadata": {
    "collapsed": false
   },
   "outputs": [
    {
     "data": {
      "text/plain": [
       "(24429, 300)"
      ]
     },
     "execution_count": 112,
     "metadata": {},
     "output_type": "execute_result"
    }
   ],
   "source": [
    "matrix_user_items.shape"
   ]
  },
  {
   "cell_type": "markdown",
   "metadata": {},
   "source": [
    "Let's assume that they like anything they bought. So 1 for bought_items, and 0 for non-bought"
   ]
  },
  {
   "cell_type": "code",
   "execution_count": 116,
   "metadata": {
    "collapsed": false
   },
   "outputs": [],
   "source": [
    "# model evaluation: precision recall at k\n",
    "def make_binary(matrix_user_items):\n",
    "    m = np.zeros(matrix_user_items.shape)\n",
    "    for i in range(matrix_user_items.shape[0]):\n",
    "        for j in range(matrix_user_items.shape[1]):\n",
    "            belom = matrix_user_items[i][j]\n",
    "            m[i][j] = 1 if belom>0 else 0\n",
    "    return m\n",
    "    "
   ]
  },
  {
   "cell_type": "code",
   "execution_count": 117,
   "metadata": {
    "collapsed": true
   },
   "outputs": [],
   "source": [
    "train_binary = make_binary(train)"
   ]
  },
  {
   "cell_type": "code",
   "execution_count": 119,
   "metadata": {
    "collapsed": false
   },
   "outputs": [
    {
     "data": {
      "text/plain": [
       "array([[ 0.,  0.,  0., ...,  0.,  0.,  0.],\n",
       "       [ 0.,  0.,  0., ...,  0.,  0.,  0.],\n",
       "       [ 0.,  0.,  0., ...,  0.,  0.,  0.],\n",
       "       ..., \n",
       "       [ 0.,  0.,  0., ...,  0.,  0.,  0.],\n",
       "       [ 0.,  0.,  0., ...,  0.,  0.,  0.],\n",
       "       [ 0.,  0.,  1., ...,  0.,  0.,  0.]])"
      ]
     },
     "execution_count": 119,
     "metadata": {},
     "output_type": "execute_result"
    }
   ],
   "source": [
    "train_binary"
   ]
  },
  {
   "cell_type": "code",
   "execution_count": 114,
   "metadata": {
    "collapsed": false
   },
   "outputs": [
    {
     "data": {
      "text/plain": [
       "array([[ 0.5081077 ,  0.30219373,  0.2561524 , ...,  0.21183299,\n",
       "         0.        ,  0.22684876],\n",
       "       [ 0.73123715,  0.92036658,  0.        , ...,  0.9288636 ,\n",
       "         1.33427205,  0.09739137],\n",
       "       [ 0.        ,  0.08909583,  0.09018791, ...,  0.        ,\n",
       "         0.18329242,  0.39475739],\n",
       "       ..., \n",
       "       [ 0.        ,  0.        ,  0.        , ...,  0.        ,\n",
       "         0.        ,  0.        ],\n",
       "       [ 0.        ,  0.        ,  0.        , ...,  0.        ,\n",
       "         0.        ,  0.        ],\n",
       "       [ 0.        ,  0.        ,  0.        , ...,  0.1276423 ,\n",
       "         0.        ,  0.        ]])"
      ]
     },
     "execution_count": 114,
     "metadata": {},
     "output_type": "execute_result"
    }
   ],
   "source": [
    "matrix_sim_train"
   ]
  },
  {
   "cell_type": "code",
   "execution_count": 120,
   "metadata": {
    "collapsed": true
   },
   "outputs": [],
   "source": [
    "from sklearn.metrics import precision_recall_curve"
   ]
  },
  {
   "cell_type": "code",
   "execution_count": 169,
   "metadata": {
    "collapsed": false
   },
   "outputs": [
    {
     "ename": "ValueError",
     "evalue": "Found input variables with inconsistent numbers of samples: [17100, 24429]",
     "output_type": "error",
     "traceback": [
      "\u001b[0;31m---------------------------------------------------------------------------\u001b[0m",
      "\u001b[0;31mValueError\u001b[0m                                Traceback (most recent call last)",
      "\u001b[0;32m<ipython-input-169-7f4cdce1342e>\u001b[0m in \u001b[0;36m<module>\u001b[0;34m()\u001b[0m\n\u001b[0;32m----> 1\u001b[0;31m \u001b[0mprecision\u001b[0m\u001b[0;34m,\u001b[0m \u001b[0mrecall\u001b[0m\u001b[0;34m,\u001b[0m \u001b[0m_\u001b[0m \u001b[0;34m=\u001b[0m \u001b[0mprecision_recall_curve\u001b[0m\u001b[0;34m(\u001b[0m\u001b[0mtrain_binary\u001b[0m\u001b[0;34m,\u001b[0m \u001b[0mmatrix_sim_train\u001b[0m\u001b[0;34m)\u001b[0m\u001b[0;34m\u001b[0m\u001b[0m\n\u001b[0m",
      "\u001b[0;32m/Users/moorissatjokro/anaconda/lib/python3.6/site-packages/sklearn/metrics/ranking.py\u001b[0m in \u001b[0;36mprecision_recall_curve\u001b[0;34m(y_true, probas_pred, pos_label, sample_weight)\u001b[0m\n\u001b[1;32m    415\u001b[0m     fps, tps, thresholds = _binary_clf_curve(y_true, probas_pred,\n\u001b[1;32m    416\u001b[0m                                              \u001b[0mpos_label\u001b[0m\u001b[0;34m=\u001b[0m\u001b[0mpos_label\u001b[0m\u001b[0;34m,\u001b[0m\u001b[0;34m\u001b[0m\u001b[0m\n\u001b[0;32m--> 417\u001b[0;31m                                              sample_weight=sample_weight)\n\u001b[0m\u001b[1;32m    418\u001b[0m \u001b[0;34m\u001b[0m\u001b[0m\n\u001b[1;32m    419\u001b[0m     \u001b[0mprecision\u001b[0m \u001b[0;34m=\u001b[0m \u001b[0mtps\u001b[0m \u001b[0;34m/\u001b[0m \u001b[0;34m(\u001b[0m\u001b[0mtps\u001b[0m \u001b[0;34m+\u001b[0m \u001b[0mfps\u001b[0m\u001b[0;34m)\u001b[0m\u001b[0;34m\u001b[0m\u001b[0m\n",
      "\u001b[0;32m/Users/moorissatjokro/anaconda/lib/python3.6/site-packages/sklearn/metrics/ranking.py\u001b[0m in \u001b[0;36m_binary_clf_curve\u001b[0;34m(y_true, y_score, pos_label, sample_weight)\u001b[0m\n\u001b[1;32m    300\u001b[0m         \u001b[0mDecreasing\u001b[0m \u001b[0mscore\u001b[0m \u001b[0mvalues\u001b[0m\u001b[0;34m.\u001b[0m\u001b[0;34m\u001b[0m\u001b[0m\n\u001b[1;32m    301\u001b[0m     \"\"\"\n\u001b[0;32m--> 302\u001b[0;31m     \u001b[0mcheck_consistent_length\u001b[0m\u001b[0;34m(\u001b[0m\u001b[0my_true\u001b[0m\u001b[0;34m,\u001b[0m \u001b[0my_score\u001b[0m\u001b[0;34m)\u001b[0m\u001b[0;34m\u001b[0m\u001b[0m\n\u001b[0m\u001b[1;32m    303\u001b[0m     \u001b[0my_true\u001b[0m \u001b[0;34m=\u001b[0m \u001b[0mcolumn_or_1d\u001b[0m\u001b[0;34m(\u001b[0m\u001b[0my_true\u001b[0m\u001b[0;34m)\u001b[0m\u001b[0;34m\u001b[0m\u001b[0m\n\u001b[1;32m    304\u001b[0m     \u001b[0my_score\u001b[0m \u001b[0;34m=\u001b[0m \u001b[0mcolumn_or_1d\u001b[0m\u001b[0;34m(\u001b[0m\u001b[0my_score\u001b[0m\u001b[0;34m)\u001b[0m\u001b[0;34m\u001b[0m\u001b[0m\n",
      "\u001b[0;32m/Users/moorissatjokro/anaconda/lib/python3.6/site-packages/sklearn/utils/validation.py\u001b[0m in \u001b[0;36mcheck_consistent_length\u001b[0;34m(*arrays)\u001b[0m\n\u001b[1;32m    171\u001b[0m     \u001b[0;32mif\u001b[0m \u001b[0mlen\u001b[0m\u001b[0;34m(\u001b[0m\u001b[0muniques\u001b[0m\u001b[0;34m)\u001b[0m \u001b[0;34m>\u001b[0m \u001b[0;36m1\u001b[0m\u001b[0;34m:\u001b[0m\u001b[0;34m\u001b[0m\u001b[0m\n\u001b[1;32m    172\u001b[0m         raise ValueError(\"Found input variables with inconsistent numbers of\"\n\u001b[0;32m--> 173\u001b[0;31m                          \" samples: %r\" % [int(l) for l in lengths])\n\u001b[0m\u001b[1;32m    174\u001b[0m \u001b[0;34m\u001b[0m\u001b[0m\n\u001b[1;32m    175\u001b[0m \u001b[0;34m\u001b[0m\u001b[0m\n",
      "\u001b[0;31mValueError\u001b[0m: Found input variables with inconsistent numbers of samples: [17100, 24429]"
     ]
    }
   ],
   "source": [
    "precision, recall, _ = precision_recall_curve(train_binary, matrix_sim_train)"
   ]
  },
  {
   "cell_type": "code",
   "execution_count": 170,
   "metadata": {
    "collapsed": false
   },
   "outputs": [
    {
     "data": {
      "text/plain": [
       "(24429, 300)"
      ]
     },
     "execution_count": 170,
     "metadata": {},
     "output_type": "execute_result"
    }
   ],
   "source": [
    "matrix_sim_train.shape"
   ]
  },
  {
   "cell_type": "code",
   "execution_count": 137,
   "metadata": {
    "collapsed": false
   },
   "outputs": [
    {
     "data": {
      "text/plain": [
       "array([ 0.01666667,  0.01456311,  0.01463415,  0.01470588,  0.01477833,\n",
       "        0.01485149,  0.01492537,  0.015     ,  0.01507538,  0.01515152,\n",
       "        0.01522843,  0.01530612,  0.01538462,  0.01546392,  0.01554404,\n",
       "        0.015625  ,  0.01570681,  0.01578947,  0.01587302,  0.01595745,\n",
       "        0.01604278,  0.01612903,  0.01621622,  0.01630435,  0.01639344,\n",
       "        0.01648352,  0.01657459,  0.01666667,  0.01675978,  0.01685393,\n",
       "        0.01694915,  0.01704545,  0.01714286,  0.01724138,  0.01734104,\n",
       "        0.01744186,  0.01754386,  0.01764706,  0.01775148,  0.01785714,\n",
       "        0.01796407,  0.01807229,  0.01818182,  0.01829268,  0.01840491,\n",
       "        0.01851852,  0.01863354,  0.01875   ,  0.01886792,  0.01898734,\n",
       "        0.01910828,  0.01923077,  0.01935484,  0.01948052,  0.01960784,\n",
       "        0.01315789,  0.01324503,  0.01333333,  0.01342282,  0.01351351,\n",
       "        0.01360544,  0.01369863,  0.0137931 ,  0.01388889,  0.01398601,\n",
       "        0.01408451,  0.0141844 ,  0.01428571,  0.01438849,  0.01449275,\n",
       "        0.01459854,  0.01470588,  0.01481481,  0.01492537,  0.01503759,\n",
       "        0.01515152,  0.01526718,  0.01538462,  0.01550388,  0.015625  ,\n",
       "        0.01574803,  0.01587302,  0.016     ,  0.01612903,  0.01626016,\n",
       "        0.01639344,  0.01652893,  0.01666667,  0.01680672,  0.01694915,\n",
       "        0.01709402,  0.01724138,  0.0173913 ,  0.01754386,  0.01769912,\n",
       "        0.01785714,  0.01801802,  0.01818182,  0.01834862,  0.01851852,\n",
       "        0.01869159,  0.01886792,  0.01904762,  0.01923077,  0.01941748,\n",
       "        0.01960784,  0.01980198,  0.02      ,  0.02020202,  0.02040816,\n",
       "        0.02061856,  0.02083333,  0.02105263,  0.0212766 ,  0.02150538,\n",
       "        0.02173913,  0.02197802,  0.02222222,  0.02247191,  0.02272727,\n",
       "        0.02298851,  0.02325581,  0.02352941,  0.02380952,  0.02409639,\n",
       "        0.02439024,  0.02469136,  0.025     ,  0.02531646,  0.02564103,\n",
       "        0.02597403,  0.02631579,  0.02666667,  0.02702703,  0.02739726,\n",
       "        0.02777778,  0.02816901,  0.02857143,  0.02898551,  0.02941176,\n",
       "        0.01492537,  0.01515152,  0.01538462,  0.015625  ,  0.01587302,\n",
       "        0.01612903,  0.01639344,  0.01666667,  0.01694915,  0.01724138,\n",
       "        0.01754386,  0.01785714,  0.01818182,  0.01851852,  0.01886792,\n",
       "        0.01923077,  0.01960784,  0.02      ,  0.02040816,  0.02083333,\n",
       "        0.0212766 ,  0.02173913,  0.02222222,  0.02272727,  0.02325581,\n",
       "        0.02380952,  0.02439024,  0.025     ,  0.02564103,  0.02631579,\n",
       "        0.02702703,  0.02777778,  0.02857143,  0.02941176,  0.03030303,\n",
       "        0.03125   ,  0.03225806,  0.03333333,  0.        ,  0.        ,\n",
       "        0.        ,  0.        ,  0.        ,  0.        ,  0.        ,\n",
       "        0.        ,  0.        ,  0.        ,  0.        ,  0.        ,\n",
       "        0.        ,  0.        ,  0.        ,  0.        ,  0.        ,\n",
       "        0.        ,  0.        ,  0.        ,  0.        ,  0.        ,\n",
       "        0.        ,  0.        ,  0.        ,  0.        ,  0.        ,\n",
       "        0.        ,  0.        ,  1.        ])"
      ]
     },
     "execution_count": 137,
     "metadata": {},
     "output_type": "execute_result"
    }
   ],
   "source": [
    "precision"
   ]
  },
  {
   "cell_type": "code",
   "execution_count": 136,
   "metadata": {
    "collapsed": false
   },
   "outputs": [
    {
     "data": {
      "text/plain": [
       "array([ 1. ,  0.6,  0.6,  0.6,  0.6,  0.6,  0.6,  0.6,  0.6,  0.6,  0.6,\n",
       "        0.6,  0.6,  0.6,  0.6,  0.6,  0.6,  0.6,  0.6,  0.6,  0.6,  0.6,\n",
       "        0.6,  0.6,  0.6,  0.6,  0.6,  0.6,  0.6,  0.6,  0.6,  0.6,  0.6,\n",
       "        0.6,  0.6,  0.6,  0.6,  0.6,  0.6,  0.6,  0.6,  0.6,  0.6,  0.6,\n",
       "        0.6,  0.6,  0.6,  0.6,  0.6,  0.6,  0.6,  0.6,  0.6,  0.6,  0.6,\n",
       "        0.4,  0.4,  0.4,  0.4,  0.4,  0.4,  0.4,  0.4,  0.4,  0.4,  0.4,\n",
       "        0.4,  0.4,  0.4,  0.4,  0.4,  0.4,  0.4,  0.4,  0.4,  0.4,  0.4,\n",
       "        0.4,  0.4,  0.4,  0.4,  0.4,  0.4,  0.4,  0.4,  0.4,  0.4,  0.4,\n",
       "        0.4,  0.4,  0.4,  0.4,  0.4,  0.4,  0.4,  0.4,  0.4,  0.4,  0.4,\n",
       "        0.4,  0.4,  0.4,  0.4,  0.4,  0.4,  0.4,  0.4,  0.4,  0.4,  0.4,\n",
       "        0.4,  0.4,  0.4,  0.4,  0.4,  0.4,  0.4,  0.4,  0.4,  0.4,  0.4,\n",
       "        0.4,  0.4,  0.4,  0.4,  0.4,  0.4,  0.4,  0.4,  0.4,  0.4,  0.4,\n",
       "        0.4,  0.4,  0.4,  0.4,  0.4,  0.4,  0.4,  0.4,  0.2,  0.2,  0.2,\n",
       "        0.2,  0.2,  0.2,  0.2,  0.2,  0.2,  0.2,  0.2,  0.2,  0.2,  0.2,\n",
       "        0.2,  0.2,  0.2,  0.2,  0.2,  0.2,  0.2,  0.2,  0.2,  0.2,  0.2,\n",
       "        0.2,  0.2,  0.2,  0.2,  0.2,  0.2,  0.2,  0.2,  0.2,  0.2,  0.2,\n",
       "        0.2,  0.2,  0. ,  0. ,  0. ,  0. ,  0. ,  0. ,  0. ,  0. ,  0. ,\n",
       "        0. ,  0. ,  0. ,  0. ,  0. ,  0. ,  0. ,  0. ,  0. ,  0. ,  0. ,\n",
       "        0. ,  0. ,  0. ,  0. ,  0. ,  0. ,  0. ,  0. ,  0. ,  0. ])"
      ]
     },
     "execution_count": 136,
     "metadata": {},
     "output_type": "execute_result"
    }
   ],
   "source": [
    "recall"
   ]
  },
  {
   "cell_type": "code",
   "execution_count": 128,
   "metadata": {
    "collapsed": false
   },
   "outputs": [
    {
     "data": {
      "text/plain": [
       "(300,)"
      ]
     },
     "execution_count": 128,
     "metadata": {},
     "output_type": "execute_result"
    }
   ],
   "source": [
    "train_binary[0].shape"
   ]
  },
  {
   "cell_type": "code",
   "execution_count": 125,
   "metadata": {
    "collapsed": false
   },
   "outputs": [
    {
     "data": {
      "text/plain": [
       "(208,)"
      ]
     },
     "execution_count": 125,
     "metadata": {},
     "output_type": "execute_result"
    }
   ],
   "source": [
    "precision.shape"
   ]
  },
  {
   "cell_type": "code",
   "execution_count": 126,
   "metadata": {
    "collapsed": false
   },
   "outputs": [
    {
     "data": {
      "text/plain": [
       "(208,)"
      ]
     },
     "execution_count": 126,
     "metadata": {},
     "output_type": "execute_result"
    }
   ],
   "source": [
    "recall.shape"
   ]
  },
  {
   "cell_type": "code",
   "execution_count": 129,
   "metadata": {
    "collapsed": true
   },
   "outputs": [],
   "source": [
    "import matplotlib.pyplot as plt\n",
    "from sklearn.utils.fixes import signature"
   ]
  },
  {
   "cell_type": "code",
   "execution_count": 133,
   "metadata": {
    "collapsed": false
   },
   "outputs": [
    {
     "name": "stdout",
     "output_type": "stream",
     "text": [
      "Average precision-recall score: 0.02\n"
     ]
    }
   ],
   "source": [
    "from sklearn.metrics import average_precision_score\n",
    "average_precision = average_precision_score(train_binary[0], matrix_sim_train[0])\n",
    "\n",
    "print('Average precision-recall score: {0:0.2f}'.format(\n",
    "      average_precision))"
   ]
  },
  {
   "cell_type": "code",
   "execution_count": 135,
   "metadata": {
    "collapsed": false
   },
   "outputs": [
    {
     "data": {
      "image/png": "[encoded data removed]",
      "text/plain": [
       "<matplotlib.figure.Figure at 0x12aef6080>"
      ]
     },
     "metadata": {},
     "output_type": "display_data"
    }
   ],
   "source": [
    "# In matplotlib < 1.5, plt.fill_between does not have a 'step' argument\n",
    "step_kwargs = ({'step': 'post'}\n",
    "               if 'step' in signature(plt.fill_between).parameters\n",
    "               else {})\n",
    "plt.step(recall, precision, color='b', alpha=0.2,\n",
    "         where='post')\n",
    "plt.fill_between(recall, precision, alpha=0.2, color='b', **step_kwargs)\n",
    "\n",
    "plt.xlabel('Recall')\n",
    "plt.ylabel('Precision')\n",
    "plt.ylim([0.0, 1.05])\n",
    "plt.xlim([0.0, 1.0])\n",
    "plt.title('2-class Precision-Recall curve: AP={0:0.2f}'.format(\n",
    "          average_precision))\n",
    "\n",
    "plt.show()"
   ]
  },
  {
   "cell_type": "code",
   "execution_count": 138,
   "metadata": {
    "collapsed": true
   },
   "outputs": [],
   "source": [
    "from scipy.stats.stats import pearsonr"
   ]
  },
  {
   "cell_type": "code",
   "execution_count": 139,
   "metadata": {
    "collapsed": false
   },
   "outputs": [
    {
     "data": {
      "text/plain": [
       "(-0.0063025678504859527, 0.913433276426867)"
      ]
     },
     "execution_count": 139,
     "metadata": {},
     "output_type": "execute_result"
    }
   ],
   "source": [
    "pearsonr(train_binary[0], matrix_sim_train[0])"
   ]
  },
  {
   "cell_type": "markdown",
   "metadata": {},
   "source": [
    "### 1. Find similarity between every item i and j\n",
    "* In order to do this, we want to first drop the user column\n",
    "* We then want to calculate the similarity of each song with the rest of the songs."
   ]
  },
  {
   "cell_type": "code",
   "execution_count": 220,
   "metadata": {
    "collapsed": true
   },
   "outputs": [],
   "source": [
    "from scipy.spatial.distance import cosine"
   ]
  },
  {
   "cell_type": "code",
   "execution_count": 214,
   "metadata": {
    "collapsed": false
   },
   "outputs": [
    {
     "data": {
      "text/plain": [
       "True"
      ]
     },
     "execution_count": 214,
     "metadata": {},
     "output_type": "execute_result"
    }
   ],
   "source": [
    "(df_matrix.columns == range(300)).all()"
   ]
  },
  {
   "cell_type": "code",
   "execution_count": 215,
   "metadata": {
    "collapsed": true
   },
   "outputs": [],
   "source": [
    "# use numpy for more efficient, faster fill-in values\n",
    "\n",
    "n_items = len(df_matrix.columns)\n",
    "matrix_items = np.zeros([n_items, n_items])"
   ]
  },
  {
   "cell_type": "code",
   "execution_count": 218,
   "metadata": {
    "collapsed": false
   },
   "outputs": [
    {
     "data": {
      "text/plain": [
       "(300, 300)"
      ]
     },
     "execution_count": 218,
     "metadata": {},
     "output_type": "execute_result"
    }
   ],
   "source": [
    "matrix_items.shape"
   ]
  },
  {
   "cell_type": "code",
   "execution_count": 226,
   "metadata": {
    "collapsed": true
   },
   "outputs": [],
   "source": [
    "df_matrix_orig = df_matrix.copy()"
   ]
  },
  {
   "cell_type": "code",
   "execution_count": 227,
   "metadata": {
    "collapsed": true
   },
   "outputs": [],
   "source": [
    "df_matrix = df_matrix.fillna(0)"
   ]
  },
  {
   "cell_type": "code",
   "execution_count": 234,
   "metadata": {
    "collapsed": false
   },
   "outputs": [
    {
     "name": "stdout",
     "output_type": "stream",
     "text": [
      "Execution time: 0.23325901826222736 minutes\n"
     ]
    }
   ],
   "source": [
    "# take item rows for all users (so each song will have a numpy array length of 24429)\n",
    "# instead of having 0\n",
    "s = time.time()\n",
    "\n",
    "for i in range(n_items):\n",
    "    for j in range(n_items):\n",
    "        matrix_items[i][j] = 1-cosine(df_matrix[i], df_matrix[j]) #karena that item with that item should be 1 similarity\n",
    "\n",
    "print(\"Execution time:\", (time.time()-s)/60, \"minutes\")"
   ]
  },
  {
   "cell_type": "code",
   "execution_count": 236,
   "metadata": {
    "collapsed": false
   },
   "outputs": [
    {
     "data": {
      "text/plain": [
       "1.0000000000000002"
      ]
     },
     "execution_count": 236,
     "metadata": {},
     "output_type": "execute_result"
    }
   ],
   "source": [
    "matrix_items.max()"
   ]
  },
  {
   "cell_type": "code",
   "execution_count": 237,
   "metadata": {
    "collapsed": false
   },
   "outputs": [
    {
     "data": {
      "text/plain": [
       "0.0"
      ]
     },
     "execution_count": 237,
     "metadata": {},
     "output_type": "execute_result"
    }
   ],
   "source": [
    "matrix_items.min()"
   ]
  },
  {
   "cell_type": "code",
   "execution_count": 233,
   "metadata": {
    "collapsed": false
   },
   "outputs": [
    {
     "data": {
      "text/plain": [
       "array([[  0.00000000e+00,   7.67146932e-01,   8.61445036e-01, ...,\n",
       "          9.67228316e-01,   9.51811953e-01,   9.60932982e-01],\n",
       "       [  7.67146932e-01,   0.00000000e+00,   7.42186573e-01, ...,\n",
       "          9.31358297e-01,   9.29584965e-01,   9.40035590e-01],\n",
       "       [  8.61445036e-01,   7.42186573e-01,   0.00000000e+00, ...,\n",
       "          9.41921995e-01,   9.07635296e-01,   9.66229562e-01],\n",
       "       ..., \n",
       "       [  9.67228316e-01,   9.31358297e-01,   9.41921995e-01, ...,\n",
       "          2.22044605e-16,   9.85465347e-01,   9.86978195e-01],\n",
       "       [  9.51811953e-01,   9.29584965e-01,   9.07635296e-01, ...,\n",
       "          9.85465347e-01,   0.00000000e+00,   9.79736556e-01],\n",
       "       [  9.60932982e-01,   9.40035590e-01,   9.66229562e-01, ...,\n",
       "          9.86978195e-01,   9.79736556e-01,   0.00000000e+00]])"
      ]
     },
     "execution_count": 233,
     "metadata": {},
     "output_type": "execute_result"
    }
   ],
   "source": [
    "matrix_items"
   ]
  },
  {
   "cell_type": "markdown",
   "metadata": {},
   "source": [
    "### 2. Create size of the neighbor |N| = 10 as the closest neighbors to item i"
   ]
  },
  {
   "cell_type": "code",
   "execution_count": 299,
   "metadata": {
    "collapsed": true
   },
   "outputs": [],
   "source": [
    "n_neighbors = 10\n",
    "\n",
    "matrix_neighbor_items = np.zeros([n_items, n_neighbors])\n",
    "matrix_neighbor_indices = np.zeros([n_items, n_neighbors])"
   ]
  },
  {
   "cell_type": "code",
   "execution_count": 239,
   "metadata": {
    "collapsed": false
   },
   "outputs": [
    {
     "data": {
      "text/plain": [
       "(300, 10)"
      ]
     },
     "execution_count": 239,
     "metadata": {},
     "output_type": "execute_result"
    }
   ],
   "source": [
    "matrix_neighbor_items.shape"
   ]
  },
  {
   "cell_type": "code",
   "execution_count": 305,
   "metadata": {
    "collapsed": false
   },
   "outputs": [],
   "source": [
    "for i in range(n_items):\n",
    "    sorted_indices = np.argsort(matrix_items[i])[::-1][:n_neighbors]\n",
    "    matrix_neighbor_indices[i] = sorted_indices\n",
    "    matrix_neighbor_items[i] = matrix_items[i][sorted_indices]"
   ]
  },
  {
   "cell_type": "code",
   "execution_count": 306,
   "metadata": {
    "collapsed": false
   },
   "outputs": [
    {
     "data": {
      "text/plain": [
       "array([ 0.06917245,  0.06544502,  0.05996441,  0.05123681,  0.04829415,\n",
       "        0.04083572,  0.04000979,  0.0393904 ,  0.03906702])"
      ]
     },
     "execution_count": 306,
     "metadata": {},
     "output_type": "execute_result"
    }
   ],
   "source": [
    "matrix_neighbor_items[i][1:]"
   ]
  },
  {
   "cell_type": "code",
   "execution_count": 307,
   "metadata": {
    "collapsed": false
   },
   "outputs": [
    {
     "data": {
      "text/plain": [
       "array([   4.,   24.,    1.,    9.,  242.,  144.,   13.,  262.,    0.])"
      ]
     },
     "execution_count": 307,
     "metadata": {},
     "output_type": "execute_result"
    }
   ],
   "source": [
    "matrix_neighbor_indices[i][1:]"
   ]
  },
  {
   "cell_type": "markdown",
   "metadata": {},
   "source": [
    "### 3. Predict user items"
   ]
  },
  {
   "cell_type": "code",
   "execution_count": 262,
   "metadata": {
    "collapsed": false
   },
   "outputs": [
    {
     "data": {
      "text/plain": [
       "Int64Index([    0,     1,     2,     3,     4,     5,     6,     7,     8,\n",
       "                9,\n",
       "            ...\n",
       "            28581, 28583, 28585, 28588, 28590, 28593, 28596, 28598, 28604,\n",
       "            28605],\n",
       "           dtype='int64', length=24429)"
      ]
     },
     "execution_count": 262,
     "metadata": {},
     "output_type": "execute_result"
    }
   ],
   "source": [
    "df_matrix.index # user ids are in sorted format ascendingly"
   ]
  },
  {
   "cell_type": "code",
   "execution_count": 264,
   "metadata": {
    "collapsed": false
   },
   "outputs": [
    {
     "data": {
      "text/plain": [
       "24429"
      ]
     },
     "execution_count": 264,
     "metadata": {},
     "output_type": "execute_result"
    }
   ],
   "source": [
    "n_users = len(df_matrix.index)\n",
    "n_users"
   ]
  },
  {
   "cell_type": "code",
   "execution_count": 281,
   "metadata": {
    "collapsed": false
   },
   "outputs": [
    {
     "data": {
      "text/plain": [
       "(24429, 300)"
      ]
     },
     "execution_count": 281,
     "metadata": {},
     "output_type": "execute_result"
    }
   ],
   "source": [
    "matrix_pred = np.zeros([n_users, n_items])\n",
    "matrix_pred.shape"
   ]
  },
  {
   "cell_type": "code",
   "execution_count": 333,
   "metadata": {
    "collapsed": false
   },
   "outputs": [
    {
     "name": "stdout",
     "output_type": "stream",
     "text": [
      "Execution time: 1.3145339846611024 minutes\n"
     ]
    }
   ],
   "source": [
    "# fill cosine similarity scores of the user-item matrix\n",
    "s = time.time()\n",
    "\n",
    "for user in range(n_users):\n",
    "    for item in range(n_items):\n",
    "        top_neighbor_item_scores = matrix_neighbor_items[item][1:]\n",
    "        indices = matrix_neighbor_indices[item][1:].astype(np.int64)\n",
    "        user_purchase = matrix_user_items[user][indices]\n",
    "        matrix_pred[user][item] = sum(user_purchase*top_neighbor_item_scores)/sum(top_neighbor_item_scores)\n",
    "        \n",
    "print(\"Execution time:\", (time.time()-s)/60, \"minutes\")"
   ]
  },
  {
   "cell_type": "code",
   "execution_count": 334,
   "metadata": {
    "collapsed": false
   },
   "outputs": [
    {
     "name": "stdout",
     "output_type": "stream",
     "text": [
      "(24429, 300)\n"
     ]
    },
    {
     "data": {
      "text/plain": [
       "array([[ 0.52140142,  0.31224023,  0.48867853, ...,  0.25403561,\n",
       "         0.15000143,  0.35274162],\n",
       "       [ 0.75409156,  1.06253278,  0.        , ...,  1.0563775 ,\n",
       "         1.26938434,  0.        ],\n",
       "       [ 0.        ,  0.0863715 ,  0.09070378, ...,  0.        ,\n",
       "         0.08937676,  0.        ],\n",
       "       ..., \n",
       "       [ 0.        ,  0.        ,  0.        , ...,  0.        ,\n",
       "         0.        ,  0.        ],\n",
       "       [ 0.        ,  0.        ,  0.        , ...,  0.        ,\n",
       "         0.        ,  0.        ],\n",
       "       [ 0.        ,  0.        ,  0.        , ...,  0.1011597 ,\n",
       "         0.        ,  0.        ]])"
      ]
     },
     "execution_count": 334,
     "metadata": {},
     "output_type": "execute_result"
    }
   ],
   "source": [
    "print(matrix_pred.shape)\n",
    "matrix_pred"
   ]
  },
  {
   "cell_type": "markdown",
   "metadata": {},
   "source": [
    "### 4. Ta da!!"
   ]
  },
  {
   "cell_type": "code",
   "execution_count": 339,
   "metadata": {
    "collapsed": true
   },
   "outputs": [],
   "source": [
    "n_recommendations = 10"
   ]
  },
  {
   "cell_type": "code",
   "execution_count": 340,
   "metadata": {
    "collapsed": true
   },
   "outputs": [],
   "source": [
    "matrix_recom_scores = np.zeros([n_users, n_recommendations])\n",
    "matrix_recom_indices = np.zeros([n_users, n_recommendations])\n",
    "\n",
    "for user in range(n_users):\n",
    "    sorted_indices = np.argsort(matrix_pred[user])[::-1][:n_recommendations]\n",
    "    matrix_recom_indices[user] = sorted_indices\n",
    "    matrix_recom_scores[user] = matrix_pred[user][sorted_indices]"
   ]
  },
  {
   "cell_type": "code",
   "execution_count": 341,
   "metadata": {
    "collapsed": false
   },
   "outputs": [
    {
     "data": {
      "text/plain": [
       "array([[ 1.19251116,  1.15045529,  1.12172604, ...,  0.92113121,\n",
       "         0.79271792,  0.76159656],\n",
       "       [ 1.90311407,  1.59852763,  1.44252037, ...,  1.23194691,\n",
       "         1.2239327 ,  1.22190491],\n",
       "       [ 1.19074757,  1.12578236,  1.00379735, ...,  0.33174185,\n",
       "         0.31780255,  0.30647281],\n",
       "       ..., \n",
       "       [ 0.11992877,  0.        ,  0.        , ...,  0.        ,\n",
       "         0.        ,  0.        ],\n",
       "       [ 0.14043791,  0.12566915,  0.12368609, ...,  0.0732264 ,\n",
       "         0.        ,  0.        ],\n",
       "       [ 0.16851937,  0.11596632,  0.1011597 , ...,  0.07353002,\n",
       "         0.        ,  0.        ]])"
      ]
     },
     "execution_count": 341,
     "metadata": {},
     "output_type": "execute_result"
    }
   ],
   "source": [
    "matrix_recom_scores"
   ]
  },
  {
   "cell_type": "code",
   "execution_count": 342,
   "metadata": {
    "collapsed": false
   },
   "outputs": [
    {
     "data": {
      "text/plain": [
       "array([[ 217.,  139.,  238., ...,  174.,   31.,   69.],\n",
       "       [  39.,   14.,  254., ...,   41.,  150.,  227.],\n",
       "       [  29.,   23.,  107., ...,  186.,  207.,   31.],\n",
       "       ..., \n",
       "       [ 108.,  299.,  101., ...,   99.,  100.,  102.],\n",
       "       [ 198.,   45.,  218., ...,  252.,  299.,   99.],\n",
       "       [ 175.,  265.,  297., ...,  224.,  101.,   77.]])"
      ]
     },
     "execution_count": 342,
     "metadata": {},
     "output_type": "execute_result"
    }
   ],
   "source": [
    "matrix_recom_indices"
   ]
  },
  {
   "cell_type": "code",
   "execution_count": 360,
   "metadata": {
    "collapsed": false
   },
   "outputs": [
    {
     "data": {
      "text/html": [
       "<div>\n",
       "<style>\n",
       "    .dataframe thead tr:only-child th {\n",
       "        text-align: right;\n",
       "    }\n",
       "\n",
       "    .dataframe thead th {\n",
       "        text-align: left;\n",
       "    }\n",
       "\n",
       "    .dataframe tbody tr th {\n",
       "        vertical-align: top;\n",
       "    }\n",
       "</style>\n",
       "<table border=\"1\" class=\"dataframe\">\n",
       "  <thead>\n",
       "    <tr style=\"text-align: right;\">\n",
       "      <th></th>\n",
       "      <th>0</th>\n",
       "      <th>1</th>\n",
       "      <th>2</th>\n",
       "      <th>3</th>\n",
       "      <th>4</th>\n",
       "      <th>5</th>\n",
       "      <th>6</th>\n",
       "      <th>7</th>\n",
       "      <th>8</th>\n",
       "      <th>9</th>\n",
       "    </tr>\n",
       "    <tr>\n",
       "      <th>customerId</th>\n",
       "      <th></th>\n",
       "      <th></th>\n",
       "      <th></th>\n",
       "      <th></th>\n",
       "      <th></th>\n",
       "      <th></th>\n",
       "      <th></th>\n",
       "      <th></th>\n",
       "      <th></th>\n",
       "      <th></th>\n",
       "    </tr>\n",
       "  </thead>\n",
       "  <tbody>\n",
       "    <tr>\n",
       "      <th>0</th>\n",
       "      <td>217</td>\n",
       "      <td>139</td>\n",
       "      <td>238</td>\n",
       "      <td>230</td>\n",
       "      <td>255</td>\n",
       "      <td>157</td>\n",
       "      <td>43</td>\n",
       "      <td>174</td>\n",
       "      <td>31</td>\n",
       "      <td>69</td>\n",
       "    </tr>\n",
       "    <tr>\n",
       "      <th>1</th>\n",
       "      <td>39</td>\n",
       "      <td>14</td>\n",
       "      <td>254</td>\n",
       "      <td>21</td>\n",
       "      <td>3</td>\n",
       "      <td>298</td>\n",
       "      <td>251</td>\n",
       "      <td>41</td>\n",
       "      <td>150</td>\n",
       "      <td>227</td>\n",
       "    </tr>\n",
       "    <tr>\n",
       "      <th>2</th>\n",
       "      <td>29</td>\n",
       "      <td>23</td>\n",
       "      <td>107</td>\n",
       "      <td>11</td>\n",
       "      <td>212</td>\n",
       "      <td>164</td>\n",
       "      <td>114</td>\n",
       "      <td>186</td>\n",
       "      <td>207</td>\n",
       "      <td>31</td>\n",
       "    </tr>\n",
       "    <tr>\n",
       "      <th>3</th>\n",
       "      <td>117</td>\n",
       "      <td>42</td>\n",
       "      <td>183</td>\n",
       "      <td>122</td>\n",
       "      <td>46</td>\n",
       "      <td>266</td>\n",
       "      <td>25</td>\n",
       "      <td>159</td>\n",
       "      <td>269</td>\n",
       "      <td>160</td>\n",
       "    </tr>\n",
       "    <tr>\n",
       "      <th>4</th>\n",
       "      <td>66</td>\n",
       "      <td>268</td>\n",
       "      <td>200</td>\n",
       "      <td>249</td>\n",
       "      <td>127</td>\n",
       "      <td>145</td>\n",
       "      <td>146</td>\n",
       "      <td>12</td>\n",
       "      <td>7</td>\n",
       "      <td>233</td>\n",
       "    </tr>\n",
       "    <tr>\n",
       "      <th>5</th>\n",
       "      <td>259</td>\n",
       "      <td>124</td>\n",
       "      <td>272</td>\n",
       "      <td>0</td>\n",
       "      <td>296</td>\n",
       "      <td>110</td>\n",
       "      <td>14</td>\n",
       "      <td>143</td>\n",
       "      <td>73</td>\n",
       "      <td>1</td>\n",
       "    </tr>\n",
       "    <tr>\n",
       "      <th>6</th>\n",
       "      <td>242</td>\n",
       "      <td>240</td>\n",
       "      <td>12</td>\n",
       "      <td>28</td>\n",
       "      <td>299</td>\n",
       "      <td>279</td>\n",
       "      <td>153</td>\n",
       "      <td>215</td>\n",
       "      <td>233</td>\n",
       "      <td>203</td>\n",
       "    </tr>\n",
       "    <tr>\n",
       "      <th>7</th>\n",
       "      <td>291</td>\n",
       "      <td>172</td>\n",
       "      <td>20</td>\n",
       "      <td>81</td>\n",
       "      <td>198</td>\n",
       "      <td>18</td>\n",
       "      <td>16</td>\n",
       "      <td>55</td>\n",
       "      <td>277</td>\n",
       "      <td>287</td>\n",
       "    </tr>\n",
       "    <tr>\n",
       "      <th>8</th>\n",
       "      <td>132</td>\n",
       "      <td>225</td>\n",
       "      <td>38</td>\n",
       "      <td>248</td>\n",
       "      <td>48</td>\n",
       "      <td>194</td>\n",
       "      <td>261</td>\n",
       "      <td>36</td>\n",
       "      <td>166</td>\n",
       "      <td>291</td>\n",
       "    </tr>\n",
       "    <tr>\n",
       "      <th>9</th>\n",
       "      <td>259</td>\n",
       "      <td>0</td>\n",
       "      <td>14</td>\n",
       "      <td>112</td>\n",
       "      <td>162</td>\n",
       "      <td>296</td>\n",
       "      <td>276</td>\n",
       "      <td>13</td>\n",
       "      <td>31</td>\n",
       "      <td>295</td>\n",
       "    </tr>\n",
       "    <tr>\n",
       "      <th>10</th>\n",
       "      <td>153</td>\n",
       "      <td>215</td>\n",
       "      <td>233</td>\n",
       "      <td>203</td>\n",
       "      <td>298</td>\n",
       "      <td>266</td>\n",
       "      <td>229</td>\n",
       "      <td>49</td>\n",
       "      <td>78</td>\n",
       "      <td>131</td>\n",
       "    </tr>\n",
       "    <tr>\n",
       "      <th>11</th>\n",
       "      <td>82</td>\n",
       "      <td>51</td>\n",
       "      <td>173</td>\n",
       "      <td>37</td>\n",
       "      <td>44</td>\n",
       "      <td>163</td>\n",
       "      <td>226</td>\n",
       "      <td>103</td>\n",
       "      <td>117</td>\n",
       "      <td>0</td>\n",
       "    </tr>\n",
       "    <tr>\n",
       "      <th>12</th>\n",
       "      <td>82</td>\n",
       "      <td>259</td>\n",
       "      <td>272</td>\n",
       "      <td>135</td>\n",
       "      <td>44</td>\n",
       "      <td>20</td>\n",
       "      <td>118</td>\n",
       "      <td>109</td>\n",
       "      <td>276</td>\n",
       "      <td>268</td>\n",
       "    </tr>\n",
       "    <tr>\n",
       "      <th>13</th>\n",
       "      <td>48</td>\n",
       "      <td>36</td>\n",
       "      <td>194</td>\n",
       "      <td>229</td>\n",
       "      <td>79</td>\n",
       "      <td>281</td>\n",
       "      <td>38</td>\n",
       "      <td>151</td>\n",
       "      <td>166</td>\n",
       "      <td>261</td>\n",
       "    </tr>\n",
       "    <tr>\n",
       "      <th>14</th>\n",
       "      <td>104</td>\n",
       "      <td>14</td>\n",
       "      <td>278</td>\n",
       "      <td>99</td>\n",
       "      <td>89</td>\n",
       "      <td>25</td>\n",
       "      <td>111</td>\n",
       "      <td>44</td>\n",
       "      <td>7</td>\n",
       "      <td>30</td>\n",
       "    </tr>\n",
       "    <tr>\n",
       "      <th>15</th>\n",
       "      <td>113</td>\n",
       "      <td>286</td>\n",
       "      <td>152</td>\n",
       "      <td>258</td>\n",
       "      <td>102</td>\n",
       "      <td>225</td>\n",
       "      <td>168</td>\n",
       "      <td>248</td>\n",
       "      <td>91</td>\n",
       "      <td>141</td>\n",
       "    </tr>\n",
       "    <tr>\n",
       "      <th>16</th>\n",
       "      <td>263</td>\n",
       "      <td>162</td>\n",
       "      <td>292</td>\n",
       "      <td>14</td>\n",
       "      <td>106</td>\n",
       "      <td>254</td>\n",
       "      <td>195</td>\n",
       "      <td>150</td>\n",
       "      <td>167</td>\n",
       "      <td>17</td>\n",
       "    </tr>\n",
       "    <tr>\n",
       "      <th>17</th>\n",
       "      <td>190</td>\n",
       "      <td>208</td>\n",
       "      <td>49</td>\n",
       "      <td>279</td>\n",
       "      <td>113</td>\n",
       "      <td>244</td>\n",
       "      <td>219</td>\n",
       "      <td>286</td>\n",
       "      <td>266</td>\n",
       "      <td>287</td>\n",
       "    </tr>\n",
       "    <tr>\n",
       "      <th>18</th>\n",
       "      <td>67</td>\n",
       "      <td>188</td>\n",
       "      <td>172</td>\n",
       "      <td>116</td>\n",
       "      <td>62</td>\n",
       "      <td>287</td>\n",
       "      <td>138</td>\n",
       "      <td>81</td>\n",
       "      <td>206</td>\n",
       "      <td>20</td>\n",
       "    </tr>\n",
       "    <tr>\n",
       "      <th>19</th>\n",
       "      <td>299</td>\n",
       "      <td>267</td>\n",
       "      <td>209</td>\n",
       "      <td>230</td>\n",
       "      <td>217</td>\n",
       "      <td>99</td>\n",
       "      <td>285</td>\n",
       "      <td>50</td>\n",
       "      <td>79</td>\n",
       "      <td>38</td>\n",
       "    </tr>\n",
       "    <tr>\n",
       "      <th>20</th>\n",
       "      <td>25</td>\n",
       "      <td>287</td>\n",
       "      <td>135</td>\n",
       "      <td>281</td>\n",
       "      <td>232</td>\n",
       "      <td>99</td>\n",
       "      <td>108</td>\n",
       "      <td>177</td>\n",
       "      <td>206</td>\n",
       "      <td>89</td>\n",
       "    </tr>\n",
       "    <tr>\n",
       "      <th>21</th>\n",
       "      <td>198</td>\n",
       "      <td>144</td>\n",
       "      <td>282</td>\n",
       "      <td>93</td>\n",
       "      <td>48</td>\n",
       "      <td>184</td>\n",
       "      <td>242</td>\n",
       "      <td>38</td>\n",
       "      <td>79</td>\n",
       "      <td>36</td>\n",
       "    </tr>\n",
       "    <tr>\n",
       "      <th>22</th>\n",
       "      <td>146</td>\n",
       "      <td>187</td>\n",
       "      <td>171</td>\n",
       "      <td>271</td>\n",
       "      <td>218</td>\n",
       "      <td>226</td>\n",
       "      <td>273</td>\n",
       "      <td>3</td>\n",
       "      <td>113</td>\n",
       "      <td>185</td>\n",
       "    </tr>\n",
       "    <tr>\n",
       "      <th>23</th>\n",
       "      <td>259</td>\n",
       "      <td>272</td>\n",
       "      <td>149</td>\n",
       "      <td>112</td>\n",
       "      <td>166</td>\n",
       "      <td>2</td>\n",
       "      <td>186</td>\n",
       "      <td>96</td>\n",
       "      <td>0</td>\n",
       "      <td>79</td>\n",
       "    </tr>\n",
       "    <tr>\n",
       "      <th>24</th>\n",
       "      <td>139</td>\n",
       "      <td>91</td>\n",
       "      <td>230</td>\n",
       "      <td>189</td>\n",
       "      <td>285</td>\n",
       "      <td>192</td>\n",
       "      <td>59</td>\n",
       "      <td>31</td>\n",
       "      <td>225</td>\n",
       "      <td>69</td>\n",
       "    </tr>\n",
       "    <tr>\n",
       "      <th>25</th>\n",
       "      <td>259</td>\n",
       "      <td>272</td>\n",
       "      <td>296</td>\n",
       "      <td>0</td>\n",
       "      <td>73</td>\n",
       "      <td>18</td>\n",
       "      <td>192</td>\n",
       "      <td>98</td>\n",
       "      <td>22</td>\n",
       "      <td>4</td>\n",
       "    </tr>\n",
       "    <tr>\n",
       "      <th>27</th>\n",
       "      <td>37</td>\n",
       "      <td>280</td>\n",
       "      <td>109</td>\n",
       "      <td>265</td>\n",
       "      <td>289</td>\n",
       "      <td>279</td>\n",
       "      <td>111</td>\n",
       "      <td>47</td>\n",
       "      <td>97</td>\n",
       "      <td>162</td>\n",
       "    </tr>\n",
       "    <tr>\n",
       "      <th>28</th>\n",
       "      <td>23</td>\n",
       "      <td>107</td>\n",
       "      <td>29</td>\n",
       "      <td>11</td>\n",
       "      <td>212</td>\n",
       "      <td>224</td>\n",
       "      <td>164</td>\n",
       "      <td>186</td>\n",
       "      <td>207</td>\n",
       "      <td>88</td>\n",
       "    </tr>\n",
       "    <tr>\n",
       "      <th>29</th>\n",
       "      <td>162</td>\n",
       "      <td>21</td>\n",
       "      <td>17</td>\n",
       "      <td>91</td>\n",
       "      <td>14</td>\n",
       "      <td>263</td>\n",
       "      <td>0</td>\n",
       "      <td>150</td>\n",
       "      <td>151</td>\n",
       "      <td>3</td>\n",
       "    </tr>\n",
       "    <tr>\n",
       "      <th>30</th>\n",
       "      <td>52</td>\n",
       "      <td>4</td>\n",
       "      <td>96</td>\n",
       "      <td>197</td>\n",
       "      <td>83</td>\n",
       "      <td>254</td>\n",
       "      <td>263</td>\n",
       "      <td>162</td>\n",
       "      <td>155</td>\n",
       "      <td>143</td>\n",
       "    </tr>\n",
       "    <tr>\n",
       "      <th>...</th>\n",
       "      <td>...</td>\n",
       "      <td>...</td>\n",
       "      <td>...</td>\n",
       "      <td>...</td>\n",
       "      <td>...</td>\n",
       "      <td>...</td>\n",
       "      <td>...</td>\n",
       "      <td>...</td>\n",
       "      <td>...</td>\n",
       "      <td>...</td>\n",
       "    </tr>\n",
       "    <tr>\n",
       "      <th>28547</th>\n",
       "      <td>280</td>\n",
       "      <td>122</td>\n",
       "      <td>246</td>\n",
       "      <td>284</td>\n",
       "      <td>299</td>\n",
       "      <td>98</td>\n",
       "      <td>94</td>\n",
       "      <td>95</td>\n",
       "      <td>96</td>\n",
       "      <td>97</td>\n",
       "    </tr>\n",
       "    <tr>\n",
       "      <th>28548</th>\n",
       "      <td>260</td>\n",
       "      <td>293</td>\n",
       "      <td>24</td>\n",
       "      <td>43</td>\n",
       "      <td>178</td>\n",
       "      <td>102</td>\n",
       "      <td>97</td>\n",
       "      <td>98</td>\n",
       "      <td>99</td>\n",
       "      <td>100</td>\n",
       "    </tr>\n",
       "    <tr>\n",
       "      <th>28549</th>\n",
       "      <td>208</td>\n",
       "      <td>299</td>\n",
       "      <td>100</td>\n",
       "      <td>94</td>\n",
       "      <td>95</td>\n",
       "      <td>96</td>\n",
       "      <td>97</td>\n",
       "      <td>98</td>\n",
       "      <td>99</td>\n",
       "      <td>101</td>\n",
       "    </tr>\n",
       "    <tr>\n",
       "      <th>28550</th>\n",
       "      <td>293</td>\n",
       "      <td>162</td>\n",
       "      <td>266</td>\n",
       "      <td>66</td>\n",
       "      <td>129</td>\n",
       "      <td>200</td>\n",
       "      <td>249</td>\n",
       "      <td>12</td>\n",
       "      <td>7</td>\n",
       "      <td>233</td>\n",
       "    </tr>\n",
       "    <tr>\n",
       "      <th>28555</th>\n",
       "      <td>260</td>\n",
       "      <td>267</td>\n",
       "      <td>132</td>\n",
       "      <td>101</td>\n",
       "      <td>95</td>\n",
       "      <td>96</td>\n",
       "      <td>97</td>\n",
       "      <td>98</td>\n",
       "      <td>99</td>\n",
       "      <td>100</td>\n",
       "    </tr>\n",
       "    <tr>\n",
       "      <th>28558</th>\n",
       "      <td>65</td>\n",
       "      <td>244</td>\n",
       "      <td>108</td>\n",
       "      <td>100</td>\n",
       "      <td>94</td>\n",
       "      <td>95</td>\n",
       "      <td>96</td>\n",
       "      <td>97</td>\n",
       "      <td>98</td>\n",
       "      <td>99</td>\n",
       "    </tr>\n",
       "    <tr>\n",
       "      <th>28559</th>\n",
       "      <td>252</td>\n",
       "      <td>235</td>\n",
       "      <td>282</td>\n",
       "      <td>198</td>\n",
       "      <td>269</td>\n",
       "      <td>99</td>\n",
       "      <td>94</td>\n",
       "      <td>95</td>\n",
       "      <td>96</td>\n",
       "      <td>97</td>\n",
       "    </tr>\n",
       "    <tr>\n",
       "      <th>28563</th>\n",
       "      <td>17</td>\n",
       "      <td>2</td>\n",
       "      <td>292</td>\n",
       "      <td>162</td>\n",
       "      <td>110</td>\n",
       "      <td>152</td>\n",
       "      <td>150</td>\n",
       "      <td>105</td>\n",
       "      <td>241</td>\n",
       "      <td>263</td>\n",
       "    </tr>\n",
       "    <tr>\n",
       "      <th>28564</th>\n",
       "      <td>171</td>\n",
       "      <td>296</td>\n",
       "      <td>226</td>\n",
       "      <td>271</td>\n",
       "      <td>299</td>\n",
       "      <td>100</td>\n",
       "      <td>95</td>\n",
       "      <td>96</td>\n",
       "      <td>97</td>\n",
       "      <td>98</td>\n",
       "    </tr>\n",
       "    <tr>\n",
       "      <th>28565</th>\n",
       "      <td>115</td>\n",
       "      <td>179</td>\n",
       "      <td>96</td>\n",
       "      <td>221</td>\n",
       "      <td>82</td>\n",
       "      <td>299</td>\n",
       "      <td>102</td>\n",
       "      <td>97</td>\n",
       "      <td>98</td>\n",
       "      <td>99</td>\n",
       "    </tr>\n",
       "    <tr>\n",
       "      <th>28568</th>\n",
       "      <td>163</td>\n",
       "      <td>242</td>\n",
       "      <td>88</td>\n",
       "      <td>282</td>\n",
       "      <td>217</td>\n",
       "      <td>165</td>\n",
       "      <td>121</td>\n",
       "      <td>272</td>\n",
       "      <td>7</td>\n",
       "      <td>13</td>\n",
       "    </tr>\n",
       "    <tr>\n",
       "      <th>28569</th>\n",
       "      <td>283</td>\n",
       "      <td>207</td>\n",
       "      <td>299</td>\n",
       "      <td>92</td>\n",
       "      <td>94</td>\n",
       "      <td>95</td>\n",
       "      <td>96</td>\n",
       "      <td>97</td>\n",
       "      <td>98</td>\n",
       "      <td>99</td>\n",
       "    </tr>\n",
       "    <tr>\n",
       "      <th>28570</th>\n",
       "      <td>108</td>\n",
       "      <td>197</td>\n",
       "      <td>299</td>\n",
       "      <td>95</td>\n",
       "      <td>96</td>\n",
       "      <td>97</td>\n",
       "      <td>98</td>\n",
       "      <td>99</td>\n",
       "      <td>100</td>\n",
       "      <td>101</td>\n",
       "    </tr>\n",
       "    <tr>\n",
       "      <th>28572</th>\n",
       "      <td>260</td>\n",
       "      <td>267</td>\n",
       "      <td>132</td>\n",
       "      <td>101</td>\n",
       "      <td>95</td>\n",
       "      <td>96</td>\n",
       "      <td>97</td>\n",
       "      <td>98</td>\n",
       "      <td>99</td>\n",
       "      <td>100</td>\n",
       "    </tr>\n",
       "    <tr>\n",
       "      <th>28573</th>\n",
       "      <td>18</td>\n",
       "      <td>14</td>\n",
       "      <td>192</td>\n",
       "      <td>3</td>\n",
       "      <td>254</td>\n",
       "      <td>162</td>\n",
       "      <td>161</td>\n",
       "      <td>263</td>\n",
       "      <td>19</td>\n",
       "      <td>150</td>\n",
       "    </tr>\n",
       "    <tr>\n",
       "      <th>28574</th>\n",
       "      <td>52</td>\n",
       "      <td>4</td>\n",
       "      <td>83</td>\n",
       "      <td>249</td>\n",
       "      <td>296</td>\n",
       "      <td>256</td>\n",
       "      <td>17</td>\n",
       "      <td>292</td>\n",
       "      <td>68</td>\n",
       "      <td>106</td>\n",
       "    </tr>\n",
       "    <tr>\n",
       "      <th>28575</th>\n",
       "      <td>197</td>\n",
       "      <td>177</td>\n",
       "      <td>96</td>\n",
       "      <td>251</td>\n",
       "      <td>292</td>\n",
       "      <td>270</td>\n",
       "      <td>232</td>\n",
       "      <td>95</td>\n",
       "      <td>104</td>\n",
       "      <td>5</td>\n",
       "    </tr>\n",
       "    <tr>\n",
       "      <th>28577</th>\n",
       "      <td>70</td>\n",
       "      <td>138</td>\n",
       "      <td>116</td>\n",
       "      <td>216</td>\n",
       "      <td>177</td>\n",
       "      <td>62</td>\n",
       "      <td>188</td>\n",
       "      <td>290</td>\n",
       "      <td>67</td>\n",
       "      <td>260</td>\n",
       "    </tr>\n",
       "    <tr>\n",
       "      <th>28579</th>\n",
       "      <td>273</td>\n",
       "      <td>106</td>\n",
       "      <td>126</td>\n",
       "      <td>167</td>\n",
       "      <td>108</td>\n",
       "      <td>223</td>\n",
       "      <td>112</td>\n",
       "      <td>79</td>\n",
       "      <td>98</td>\n",
       "      <td>94</td>\n",
       "    </tr>\n",
       "    <tr>\n",
       "      <th>28580</th>\n",
       "      <td>282</td>\n",
       "      <td>242</td>\n",
       "      <td>121</td>\n",
       "      <td>299</td>\n",
       "      <td>94</td>\n",
       "      <td>95</td>\n",
       "      <td>96</td>\n",
       "      <td>97</td>\n",
       "      <td>98</td>\n",
       "      <td>99</td>\n",
       "    </tr>\n",
       "    <tr>\n",
       "      <th>28581</th>\n",
       "      <td>188</td>\n",
       "      <td>116</td>\n",
       "      <td>70</td>\n",
       "      <td>138</td>\n",
       "      <td>67</td>\n",
       "      <td>160</td>\n",
       "      <td>23</td>\n",
       "      <td>222</td>\n",
       "      <td>29</td>\n",
       "      <td>231</td>\n",
       "    </tr>\n",
       "    <tr>\n",
       "      <th>28583</th>\n",
       "      <td>128</td>\n",
       "      <td>299</td>\n",
       "      <td>101</td>\n",
       "      <td>95</td>\n",
       "      <td>96</td>\n",
       "      <td>97</td>\n",
       "      <td>98</td>\n",
       "      <td>99</td>\n",
       "      <td>100</td>\n",
       "      <td>102</td>\n",
       "    </tr>\n",
       "    <tr>\n",
       "      <th>28585</th>\n",
       "      <td>249</td>\n",
       "      <td>296</td>\n",
       "      <td>256</td>\n",
       "      <td>17</td>\n",
       "      <td>292</td>\n",
       "      <td>68</td>\n",
       "      <td>100</td>\n",
       "      <td>94</td>\n",
       "      <td>95</td>\n",
       "      <td>96</td>\n",
       "    </tr>\n",
       "    <tr>\n",
       "      <th>28588</th>\n",
       "      <td>29</td>\n",
       "      <td>23</td>\n",
       "      <td>291</td>\n",
       "      <td>107</td>\n",
       "      <td>212</td>\n",
       "      <td>207</td>\n",
       "      <td>186</td>\n",
       "      <td>224</td>\n",
       "      <td>189</td>\n",
       "      <td>250</td>\n",
       "    </tr>\n",
       "    <tr>\n",
       "      <th>28590</th>\n",
       "      <td>0</td>\n",
       "      <td>13</td>\n",
       "      <td>182</td>\n",
       "      <td>271</td>\n",
       "      <td>293</td>\n",
       "      <td>285</td>\n",
       "      <td>10</td>\n",
       "      <td>117</td>\n",
       "      <td>267</td>\n",
       "      <td>100</td>\n",
       "    </tr>\n",
       "    <tr>\n",
       "      <th>28593</th>\n",
       "      <td>119</td>\n",
       "      <td>53</td>\n",
       "      <td>236</td>\n",
       "      <td>296</td>\n",
       "      <td>40</td>\n",
       "      <td>55</td>\n",
       "      <td>267</td>\n",
       "      <td>28</td>\n",
       "      <td>234</td>\n",
       "      <td>200</td>\n",
       "    </tr>\n",
       "    <tr>\n",
       "      <th>28596</th>\n",
       "      <td>275</td>\n",
       "      <td>268</td>\n",
       "      <td>145</td>\n",
       "      <td>113</td>\n",
       "      <td>287</td>\n",
       "      <td>206</td>\n",
       "      <td>191</td>\n",
       "      <td>228</td>\n",
       "      <td>37</td>\n",
       "      <td>281</td>\n",
       "    </tr>\n",
       "    <tr>\n",
       "      <th>28598</th>\n",
       "      <td>108</td>\n",
       "      <td>299</td>\n",
       "      <td>101</td>\n",
       "      <td>95</td>\n",
       "      <td>96</td>\n",
       "      <td>97</td>\n",
       "      <td>98</td>\n",
       "      <td>99</td>\n",
       "      <td>100</td>\n",
       "      <td>102</td>\n",
       "    </tr>\n",
       "    <tr>\n",
       "      <th>28604</th>\n",
       "      <td>198</td>\n",
       "      <td>45</td>\n",
       "      <td>218</td>\n",
       "      <td>9</td>\n",
       "      <td>237</td>\n",
       "      <td>50</td>\n",
       "      <td>155</td>\n",
       "      <td>252</td>\n",
       "      <td>299</td>\n",
       "      <td>99</td>\n",
       "    </tr>\n",
       "    <tr>\n",
       "      <th>28605</th>\n",
       "      <td>175</td>\n",
       "      <td>265</td>\n",
       "      <td>297</td>\n",
       "      <td>203</td>\n",
       "      <td>197</td>\n",
       "      <td>186</td>\n",
       "      <td>114</td>\n",
       "      <td>224</td>\n",
       "      <td>101</td>\n",
       "      <td>77</td>\n",
       "    </tr>\n",
       "  </tbody>\n",
       "</table>\n",
       "<p>24429 rows × 10 columns</p>\n",
       "</div>"
      ],
      "text/plain": [
       "              0    1    2    3    4    5    6    7    8    9\n",
       "customerId                                                  \n",
       "0           217  139  238  230  255  157   43  174   31   69\n",
       "1            39   14  254   21    3  298  251   41  150  227\n",
       "2            29   23  107   11  212  164  114  186  207   31\n",
       "3           117   42  183  122   46  266   25  159  269  160\n",
       "4            66  268  200  249  127  145  146   12    7  233\n",
       "5           259  124  272    0  296  110   14  143   73    1\n",
       "6           242  240   12   28  299  279  153  215  233  203\n",
       "7           291  172   20   81  198   18   16   55  277  287\n",
       "8           132  225   38  248   48  194  261   36  166  291\n",
       "9           259    0   14  112  162  296  276   13   31  295\n",
       "10          153  215  233  203  298  266  229   49   78  131\n",
       "11           82   51  173   37   44  163  226  103  117    0\n",
       "12           82  259  272  135   44   20  118  109  276  268\n",
       "13           48   36  194  229   79  281   38  151  166  261\n",
       "14          104   14  278   99   89   25  111   44    7   30\n",
       "15          113  286  152  258  102  225  168  248   91  141\n",
       "16          263  162  292   14  106  254  195  150  167   17\n",
       "17          190  208   49  279  113  244  219  286  266  287\n",
       "18           67  188  172  116   62  287  138   81  206   20\n",
       "19          299  267  209  230  217   99  285   50   79   38\n",
       "20           25  287  135  281  232   99  108  177  206   89\n",
       "21          198  144  282   93   48  184  242   38   79   36\n",
       "22          146  187  171  271  218  226  273    3  113  185\n",
       "23          259  272  149  112  166    2  186   96    0   79\n",
       "24          139   91  230  189  285  192   59   31  225   69\n",
       "25          259  272  296    0   73   18  192   98   22    4\n",
       "27           37  280  109  265  289  279  111   47   97  162\n",
       "28           23  107   29   11  212  224  164  186  207   88\n",
       "29          162   21   17   91   14  263    0  150  151    3\n",
       "30           52    4   96  197   83  254  263  162  155  143\n",
       "...         ...  ...  ...  ...  ...  ...  ...  ...  ...  ...\n",
       "28547       280  122  246  284  299   98   94   95   96   97\n",
       "28548       260  293   24   43  178  102   97   98   99  100\n",
       "28549       208  299  100   94   95   96   97   98   99  101\n",
       "28550       293  162  266   66  129  200  249   12    7  233\n",
       "28555       260  267  132  101   95   96   97   98   99  100\n",
       "28558        65  244  108  100   94   95   96   97   98   99\n",
       "28559       252  235  282  198  269   99   94   95   96   97\n",
       "28563        17    2  292  162  110  152  150  105  241  263\n",
       "28564       171  296  226  271  299  100   95   96   97   98\n",
       "28565       115  179   96  221   82  299  102   97   98   99\n",
       "28568       163  242   88  282  217  165  121  272    7   13\n",
       "28569       283  207  299   92   94   95   96   97   98   99\n",
       "28570       108  197  299   95   96   97   98   99  100  101\n",
       "28572       260  267  132  101   95   96   97   98   99  100\n",
       "28573        18   14  192    3  254  162  161  263   19  150\n",
       "28574        52    4   83  249  296  256   17  292   68  106\n",
       "28575       197  177   96  251  292  270  232   95  104    5\n",
       "28577        70  138  116  216  177   62  188  290   67  260\n",
       "28579       273  106  126  167  108  223  112   79   98   94\n",
       "28580       282  242  121  299   94   95   96   97   98   99\n",
       "28581       188  116   70  138   67  160   23  222   29  231\n",
       "28583       128  299  101   95   96   97   98   99  100  102\n",
       "28585       249  296  256   17  292   68  100   94   95   96\n",
       "28588        29   23  291  107  212  207  186  224  189  250\n",
       "28590         0   13  182  271  293  285   10  117  267  100\n",
       "28593       119   53  236  296   40   55  267   28  234  200\n",
       "28596       275  268  145  113  287  206  191  228   37  281\n",
       "28598       108  299  101   95   96   97   98   99  100  102\n",
       "28604       198   45  218    9  237   50  155  252  299   99\n",
       "28605       175  265  297  203  197  186  114  224  101   77\n",
       "\n",
       "[24429 rows x 10 columns]"
      ]
     },
     "execution_count": 360,
     "metadata": {},
     "output_type": "execute_result"
    }
   ],
   "source": [
    "df_recommend = pd.DataFrame(matrix_recom_indices)\n",
    "df_recommend['customerId'] = df_matrix.index\n",
    "top_10_recommends = df_recommend[['customerId']+list(df_recommend.columns[:n_recommendations])].astype(np.int64).set_index('customerId')\n",
    "top_10_recommends"
   ]
  },
  {
   "cell_type": "code",
   "execution_count": 361,
   "metadata": {
    "collapsed": false
   },
   "outputs": [],
   "source": [
    "df_top10 = top_10_recommends.loc[customers.customerId]"
   ]
  },
  {
   "cell_type": "markdown",
   "metadata": {},
   "source": [
    "### Output"
   ]
  },
  {
   "cell_type": "code",
   "execution_count": 362,
   "metadata": {
    "collapsed": false
   },
   "outputs": [],
   "source": [
    "df_top10['recommendedProducts'] = df_top10[list(range(n_recommendations))].apply(lambda x: '|'.join(x.fillna('').map(str)), axis=1)"
   ]
  },
  {
   "cell_type": "code",
   "execution_count": 364,
   "metadata": {
    "collapsed": false
   },
   "outputs": [
    {
     "data": {
      "text/html": [
       "<div>\n",
       "<style>\n",
       "    .dataframe thead tr:only-child th {\n",
       "        text-align: right;\n",
       "    }\n",
       "\n",
       "    .dataframe thead th {\n",
       "        text-align: left;\n",
       "    }\n",
       "\n",
       "    .dataframe tbody tr th {\n",
       "        vertical-align: top;\n",
       "    }\n",
       "</style>\n",
       "<table border=\"1\" class=\"dataframe\">\n",
       "  <thead>\n",
       "    <tr style=\"text-align: right;\">\n",
       "      <th></th>\n",
       "      <th>0</th>\n",
       "      <th>1</th>\n",
       "      <th>2</th>\n",
       "      <th>3</th>\n",
       "      <th>4</th>\n",
       "      <th>5</th>\n",
       "      <th>6</th>\n",
       "      <th>7</th>\n",
       "      <th>8</th>\n",
       "      <th>9</th>\n",
       "      <th>recommendedProducts</th>\n",
       "    </tr>\n",
       "    <tr>\n",
       "      <th>customerId</th>\n",
       "      <th></th>\n",
       "      <th></th>\n",
       "      <th></th>\n",
       "      <th></th>\n",
       "      <th></th>\n",
       "      <th></th>\n",
       "      <th></th>\n",
       "      <th></th>\n",
       "      <th></th>\n",
       "      <th></th>\n",
       "      <th></th>\n",
       "    </tr>\n",
       "  </thead>\n",
       "  <tbody>\n",
       "    <tr>\n",
       "      <th>1553</th>\n",
       "      <td>35</td>\n",
       "      <td>124</td>\n",
       "      <td>143</td>\n",
       "      <td>2</td>\n",
       "      <td>167</td>\n",
       "      <td>41</td>\n",
       "      <td>111</td>\n",
       "      <td>162</td>\n",
       "      <td>199</td>\n",
       "      <td>269</td>\n",
       "      <td>35|124|143|2|167|41|111|162|199|269</td>\n",
       "    </tr>\n",
       "    <tr>\n",
       "      <th>20400</th>\n",
       "      <td>280</td>\n",
       "      <td>122</td>\n",
       "      <td>246</td>\n",
       "      <td>284</td>\n",
       "      <td>299</td>\n",
       "      <td>98</td>\n",
       "      <td>94</td>\n",
       "      <td>95</td>\n",
       "      <td>96</td>\n",
       "      <td>97</td>\n",
       "      <td>280|122|246|284|299|98|94|95|96|97</td>\n",
       "    </tr>\n",
       "    <tr>\n",
       "      <th>19750</th>\n",
       "      <td>225</td>\n",
       "      <td>63</td>\n",
       "      <td>48</td>\n",
       "      <td>112</td>\n",
       "      <td>156</td>\n",
       "      <td>269</td>\n",
       "      <td>36</td>\n",
       "      <td>79</td>\n",
       "      <td>38</td>\n",
       "      <td>208</td>\n",
       "      <td>225|63|48|112|156|269|36|79|38|208</td>\n",
       "    </tr>\n",
       "    <tr>\n",
       "      <th>6334</th>\n",
       "      <td>14</td>\n",
       "      <td>3</td>\n",
       "      <td>254</td>\n",
       "      <td>162</td>\n",
       "      <td>161</td>\n",
       "      <td>263</td>\n",
       "      <td>19</td>\n",
       "      <td>150</td>\n",
       "      <td>151</td>\n",
       "      <td>1</td>\n",
       "      <td>14|3|254|162|161|263|19|150|151|1</td>\n",
       "    </tr>\n",
       "    <tr>\n",
       "      <th>27773</th>\n",
       "      <td>159</td>\n",
       "      <td>131</td>\n",
       "      <td>290</td>\n",
       "      <td>56</td>\n",
       "      <td>42</td>\n",
       "      <td>176</td>\n",
       "      <td>9</td>\n",
       "      <td>201</td>\n",
       "      <td>64</td>\n",
       "      <td>16</td>\n",
       "      <td>159|131|290|56|42|176|9|201|64|16</td>\n",
       "    </tr>\n",
       "    <tr>\n",
       "      <th>20027</th>\n",
       "      <td>208</td>\n",
       "      <td>244</td>\n",
       "      <td>66</td>\n",
       "      <td>39</td>\n",
       "      <td>96</td>\n",
       "      <td>263</td>\n",
       "      <td>200</td>\n",
       "      <td>249</td>\n",
       "      <td>273</td>\n",
       "      <td>197</td>\n",
       "      <td>208|244|66|39|96|263|200|249|273|197</td>\n",
       "    </tr>\n",
       "    <tr>\n",
       "      <th>10104</th>\n",
       "      <td>260</td>\n",
       "      <td>288</td>\n",
       "      <td>243</td>\n",
       "      <td>127</td>\n",
       "      <td>94</td>\n",
       "      <td>95</td>\n",
       "      <td>96</td>\n",
       "      <td>97</td>\n",
       "      <td>98</td>\n",
       "      <td>99</td>\n",
       "      <td>260|288|243|127|94|95|96|97|98|99</td>\n",
       "    </tr>\n",
       "    <tr>\n",
       "      <th>5522</th>\n",
       "      <td>194</td>\n",
       "      <td>36</td>\n",
       "      <td>8</td>\n",
       "      <td>48</td>\n",
       "      <td>79</td>\n",
       "      <td>38</td>\n",
       "      <td>229</td>\n",
       "      <td>261</td>\n",
       "      <td>166</td>\n",
       "      <td>180</td>\n",
       "      <td>194|36|8|48|79|38|229|261|166|180</td>\n",
       "    </tr>\n",
       "    <tr>\n",
       "      <th>9978</th>\n",
       "      <td>71</td>\n",
       "      <td>34</td>\n",
       "      <td>30</td>\n",
       "      <td>125</td>\n",
       "      <td>178</td>\n",
       "      <td>31</td>\n",
       "      <td>298</td>\n",
       "      <td>67</td>\n",
       "      <td>69</td>\n",
       "      <td>62</td>\n",
       "      <td>71|34|30|125|178|31|298|67|69|62</td>\n",
       "    </tr>\n",
       "    <tr>\n",
       "      <th>20966</th>\n",
       "      <td>189</td>\n",
       "      <td>60</td>\n",
       "      <td>72</td>\n",
       "      <td>171</td>\n",
       "      <td>19</td>\n",
       "      <td>103</td>\n",
       "      <td>69</td>\n",
       "      <td>178</td>\n",
       "      <td>0</td>\n",
       "      <td>209</td>\n",
       "      <td>189|60|72|171|19|103|69|178|0|209</td>\n",
       "    </tr>\n",
       "    <tr>\n",
       "      <th>218</th>\n",
       "      <td>79</td>\n",
       "      <td>194</td>\n",
       "      <td>38</td>\n",
       "      <td>8</td>\n",
       "      <td>261</td>\n",
       "      <td>36</td>\n",
       "      <td>229</td>\n",
       "      <td>166</td>\n",
       "      <td>180</td>\n",
       "      <td>48</td>\n",
       "      <td>79|194|38|8|261|36|229|166|180|48</td>\n",
       "    </tr>\n",
       "    <tr>\n",
       "      <th>9023</th>\n",
       "      <td>14</td>\n",
       "      <td>106</td>\n",
       "      <td>102</td>\n",
       "      <td>254</td>\n",
       "      <td>263</td>\n",
       "      <td>126</td>\n",
       "      <td>3</td>\n",
       "      <td>19</td>\n",
       "      <td>150</td>\n",
       "      <td>103</td>\n",
       "      <td>14|106|102|254|263|126|3|19|150|103</td>\n",
       "    </tr>\n",
       "    <tr>\n",
       "      <th>22253</th>\n",
       "      <td>282</td>\n",
       "      <td>25</td>\n",
       "      <td>130</td>\n",
       "      <td>242</td>\n",
       "      <td>121</td>\n",
       "      <td>52</td>\n",
       "      <td>132</td>\n",
       "      <td>234</td>\n",
       "      <td>267</td>\n",
       "      <td>73</td>\n",
       "      <td>282|25|130|242|121|52|132|234|267|73</td>\n",
       "    </tr>\n",
       "    <tr>\n",
       "      <th>1705</th>\n",
       "      <td>14</td>\n",
       "      <td>111</td>\n",
       "      <td>76</td>\n",
       "      <td>263</td>\n",
       "      <td>162</td>\n",
       "      <td>5</td>\n",
       "      <td>33</td>\n",
       "      <td>195</td>\n",
       "      <td>17</td>\n",
       "      <td>254</td>\n",
       "      <td>14|111|76|263|162|5|33|195|17|254</td>\n",
       "    </tr>\n",
       "    <tr>\n",
       "      <th>10526</th>\n",
       "      <td>30</td>\n",
       "      <td>47</td>\n",
       "      <td>295</td>\n",
       "      <td>31</td>\n",
       "      <td>98</td>\n",
       "      <td>61</td>\n",
       "      <td>195</td>\n",
       "      <td>112</td>\n",
       "      <td>100</td>\n",
       "      <td>115</td>\n",
       "      <td>30|47|295|31|98|61|195|112|100|115</td>\n",
       "    </tr>\n",
       "    <tr>\n",
       "      <th>13702</th>\n",
       "      <td>32</td>\n",
       "      <td>27</td>\n",
       "      <td>90</td>\n",
       "      <td>75</td>\n",
       "      <td>72</td>\n",
       "      <td>154</td>\n",
       "      <td>26</td>\n",
       "      <td>220</td>\n",
       "      <td>83</td>\n",
       "      <td>74</td>\n",
       "      <td>32|27|90|75|72|154|26|220|83|74</td>\n",
       "    </tr>\n",
       "    <tr>\n",
       "      <th>18388</th>\n",
       "      <td>213</td>\n",
       "      <td>31</td>\n",
       "      <td>18</td>\n",
       "      <td>34</td>\n",
       "      <td>72</td>\n",
       "      <td>98</td>\n",
       "      <td>238</td>\n",
       "      <td>144</td>\n",
       "      <td>230</td>\n",
       "      <td>276</td>\n",
       "      <td>213|31|18|34|72|98|238|144|230|276</td>\n",
       "    </tr>\n",
       "    <tr>\n",
       "      <th>6591</th>\n",
       "      <td>60</td>\n",
       "      <td>17</td>\n",
       "      <td>21</td>\n",
       "      <td>235</td>\n",
       "      <td>31</td>\n",
       "      <td>263</td>\n",
       "      <td>162</td>\n",
       "      <td>167</td>\n",
       "      <td>150</td>\n",
       "      <td>59</td>\n",
       "      <td>60|17|21|235|31|263|162|167|150|59</td>\n",
       "    </tr>\n",
       "    <tr>\n",
       "      <th>821</th>\n",
       "      <td>129</td>\n",
       "      <td>128</td>\n",
       "      <td>220</td>\n",
       "      <td>240</td>\n",
       "      <td>199</td>\n",
       "      <td>4</td>\n",
       "      <td>238</td>\n",
       "      <td>18</td>\n",
       "      <td>22</td>\n",
       "      <td>72</td>\n",
       "      <td>129|128|220|240|199|4|238|18|22|72</td>\n",
       "    </tr>\n",
       "    <tr>\n",
       "      <th>15830</th>\n",
       "      <td>147</td>\n",
       "      <td>221</td>\n",
       "      <td>123</td>\n",
       "      <td>80</td>\n",
       "      <td>277</td>\n",
       "      <td>31</td>\n",
       "      <td>0</td>\n",
       "      <td>230</td>\n",
       "      <td>30</td>\n",
       "      <td>22</td>\n",
       "      <td>147|221|123|80|277|31|0|230|30|22</td>\n",
       "    </tr>\n",
       "    <tr>\n",
       "      <th>18056</th>\n",
       "      <td>269</td>\n",
       "      <td>240</td>\n",
       "      <td>282</td>\n",
       "      <td>198</td>\n",
       "      <td>182</td>\n",
       "      <td>252</td>\n",
       "      <td>133</td>\n",
       "      <td>235</td>\n",
       "      <td>41</td>\n",
       "      <td>140</td>\n",
       "      <td>269|240|282|198|182|252|133|235|41|140</td>\n",
       "    </tr>\n",
       "    <tr>\n",
       "      <th>13225</th>\n",
       "      <td>190</td>\n",
       "      <td>126</td>\n",
       "      <td>223</td>\n",
       "      <td>208</td>\n",
       "      <td>125</td>\n",
       "      <td>266</td>\n",
       "      <td>279</td>\n",
       "      <td>280</td>\n",
       "      <td>264</td>\n",
       "      <td>219</td>\n",
       "      <td>190|126|223|208|125|266|279|280|264|219</td>\n",
       "    </tr>\n",
       "    <tr>\n",
       "      <th>4871</th>\n",
       "      <td>230</td>\n",
       "      <td>14</td>\n",
       "      <td>146</td>\n",
       "      <td>226</td>\n",
       "      <td>59</td>\n",
       "      <td>238</td>\n",
       "      <td>31</td>\n",
       "      <td>17</td>\n",
       "      <td>292</td>\n",
       "      <td>69</td>\n",
       "      <td>230|14|146|226|59|238|31|17|292|69</td>\n",
       "    </tr>\n",
       "    <tr>\n",
       "      <th>16104</th>\n",
       "      <td>187</td>\n",
       "      <td>185</td>\n",
       "      <td>85</td>\n",
       "      <td>141</td>\n",
       "      <td>105</td>\n",
       "      <td>3</td>\n",
       "      <td>192</td>\n",
       "      <td>223</td>\n",
       "      <td>219</td>\n",
       "      <td>298</td>\n",
       "      <td>187|185|85|141|105|3|192|223|219|298</td>\n",
       "    </tr>\n",
       "    <tr>\n",
       "      <th>5365</th>\n",
       "      <td>43</td>\n",
       "      <td>277</td>\n",
       "      <td>128</td>\n",
       "      <td>57</td>\n",
       "      <td>77</td>\n",
       "      <td>278</td>\n",
       "      <td>257</td>\n",
       "      <td>4</td>\n",
       "      <td>24</td>\n",
       "      <td>178</td>\n",
       "      <td>43|277|128|57|77|278|257|4|24|178</td>\n",
       "    </tr>\n",
       "    <tr>\n",
       "      <th>7180</th>\n",
       "      <td>31</td>\n",
       "      <td>151</td>\n",
       "      <td>222</td>\n",
       "      <td>14</td>\n",
       "      <td>276</td>\n",
       "      <td>100</td>\n",
       "      <td>0</td>\n",
       "      <td>3</td>\n",
       "      <td>136</td>\n",
       "      <td>230</td>\n",
       "      <td>31|151|222|14|276|100|0|3|136|230</td>\n",
       "    </tr>\n",
       "    <tr>\n",
       "      <th>7096</th>\n",
       "      <td>1</td>\n",
       "      <td>14</td>\n",
       "      <td>72</td>\n",
       "      <td>199</td>\n",
       "      <td>214</td>\n",
       "      <td>4</td>\n",
       "      <td>59</td>\n",
       "      <td>162</td>\n",
       "      <td>13</td>\n",
       "      <td>98</td>\n",
       "      <td>1|14|72|199|214|4|59|162|13|98</td>\n",
       "    </tr>\n",
       "    <tr>\n",
       "      <th>21259</th>\n",
       "      <td>280</td>\n",
       "      <td>151</td>\n",
       "      <td>63</td>\n",
       "      <td>143</td>\n",
       "      <td>133</td>\n",
       "      <td>200</td>\n",
       "      <td>30</td>\n",
       "      <td>186</td>\n",
       "      <td>118</td>\n",
       "      <td>272</td>\n",
       "      <td>280|151|63|143|133|200|30|186|118|272</td>\n",
       "    </tr>\n",
       "    <tr>\n",
       "      <th>14082</th>\n",
       "      <td>81</td>\n",
       "      <td>55</td>\n",
       "      <td>159</td>\n",
       "      <td>172</td>\n",
       "      <td>135</td>\n",
       "      <td>92</td>\n",
       "      <td>16</td>\n",
       "      <td>209</td>\n",
       "      <td>15</td>\n",
       "      <td>255</td>\n",
       "      <td>81|55|159|172|135|92|16|209|15|255</td>\n",
       "    </tr>\n",
       "    <tr>\n",
       "      <th>14748</th>\n",
       "      <td>207</td>\n",
       "      <td>100</td>\n",
       "      <td>115</td>\n",
       "      <td>90</td>\n",
       "      <td>31</td>\n",
       "      <td>125</td>\n",
       "      <td>19</td>\n",
       "      <td>280</td>\n",
       "      <td>106</td>\n",
       "      <td>0</td>\n",
       "      <td>207|100|115|90|31|125|19|280|106|0</td>\n",
       "    </tr>\n",
       "    <tr>\n",
       "      <th>...</th>\n",
       "      <td>...</td>\n",
       "      <td>...</td>\n",
       "      <td>...</td>\n",
       "      <td>...</td>\n",
       "      <td>...</td>\n",
       "      <td>...</td>\n",
       "      <td>...</td>\n",
       "      <td>...</td>\n",
       "      <td>...</td>\n",
       "      <td>...</td>\n",
       "      <td>...</td>\n",
       "    </tr>\n",
       "    <tr>\n",
       "      <th>6269</th>\n",
       "      <td>14</td>\n",
       "      <td>3</td>\n",
       "      <td>254</td>\n",
       "      <td>162</td>\n",
       "      <td>161</td>\n",
       "      <td>263</td>\n",
       "      <td>19</td>\n",
       "      <td>150</td>\n",
       "      <td>151</td>\n",
       "      <td>1</td>\n",
       "      <td>14|3|254|162|161|263|19|150|151|1</td>\n",
       "    </tr>\n",
       "    <tr>\n",
       "      <th>12286</th>\n",
       "      <td>36</td>\n",
       "      <td>79</td>\n",
       "      <td>38</td>\n",
       "      <td>194</td>\n",
       "      <td>269</td>\n",
       "      <td>81</td>\n",
       "      <td>261</td>\n",
       "      <td>48</td>\n",
       "      <td>166</td>\n",
       "      <td>180</td>\n",
       "      <td>36|79|38|194|269|81|261|48|166|180</td>\n",
       "    </tr>\n",
       "    <tr>\n",
       "      <th>13970</th>\n",
       "      <td>99</td>\n",
       "      <td>299</td>\n",
       "      <td>202</td>\n",
       "      <td>50</td>\n",
       "      <td>255</td>\n",
       "      <td>133</td>\n",
       "      <td>57</td>\n",
       "      <td>7</td>\n",
       "      <td>88</td>\n",
       "      <td>180</td>\n",
       "      <td>99|299|202|50|255|133|57|7|88|180</td>\n",
       "    </tr>\n",
       "    <tr>\n",
       "      <th>27107</th>\n",
       "      <td>40</td>\n",
       "      <td>81</td>\n",
       "      <td>73</td>\n",
       "      <td>259</td>\n",
       "      <td>52</td>\n",
       "      <td>140</td>\n",
       "      <td>272</td>\n",
       "      <td>142</td>\n",
       "      <td>24</td>\n",
       "      <td>269</td>\n",
       "      <td>40|81|73|259|52|140|272|142|24|269</td>\n",
       "    </tr>\n",
       "    <tr>\n",
       "      <th>19123</th>\n",
       "      <td>169</td>\n",
       "      <td>213</td>\n",
       "      <td>52</td>\n",
       "      <td>291</td>\n",
       "      <td>237</td>\n",
       "      <td>143</td>\n",
       "      <td>101</td>\n",
       "      <td>57</td>\n",
       "      <td>4</td>\n",
       "      <td>50</td>\n",
       "      <td>169|213|52|291|237|143|101|57|4|50</td>\n",
       "    </tr>\n",
       "    <tr>\n",
       "      <th>2715</th>\n",
       "      <td>176</td>\n",
       "      <td>280</td>\n",
       "      <td>84</td>\n",
       "      <td>4</td>\n",
       "      <td>166</td>\n",
       "      <td>180</td>\n",
       "      <td>79</td>\n",
       "      <td>151</td>\n",
       "      <td>38</td>\n",
       "      <td>36</td>\n",
       "      <td>176|280|84|4|166|180|79|151|38|36</td>\n",
       "    </tr>\n",
       "    <tr>\n",
       "      <th>121</th>\n",
       "      <td>191</td>\n",
       "      <td>37</td>\n",
       "      <td>5</td>\n",
       "      <td>33</td>\n",
       "      <td>289</td>\n",
       "      <td>82</td>\n",
       "      <td>162</td>\n",
       "      <td>254</td>\n",
       "      <td>95</td>\n",
       "      <td>109</td>\n",
       "      <td>191|37|5|33|289|82|162|254|95|109</td>\n",
       "    </tr>\n",
       "    <tr>\n",
       "      <th>654</th>\n",
       "      <td>68</td>\n",
       "      <td>193</td>\n",
       "      <td>39</td>\n",
       "      <td>269</td>\n",
       "      <td>16</td>\n",
       "      <td>274</td>\n",
       "      <td>297</td>\n",
       "      <td>81</td>\n",
       "      <td>270</td>\n",
       "      <td>159</td>\n",
       "      <td>68|193|39|269|16|274|297|81|270|159</td>\n",
       "    </tr>\n",
       "    <tr>\n",
       "      <th>255</th>\n",
       "      <td>79</td>\n",
       "      <td>38</td>\n",
       "      <td>194</td>\n",
       "      <td>261</td>\n",
       "      <td>48</td>\n",
       "      <td>166</td>\n",
       "      <td>180</td>\n",
       "      <td>229</td>\n",
       "      <td>8</td>\n",
       "      <td>35</td>\n",
       "      <td>79|38|194|261|48|166|180|229|8|35</td>\n",
       "    </tr>\n",
       "    <tr>\n",
       "      <th>2878</th>\n",
       "      <td>249</td>\n",
       "      <td>277</td>\n",
       "      <td>245</td>\n",
       "      <td>204</td>\n",
       "      <td>236</td>\n",
       "      <td>242</td>\n",
       "      <td>172</td>\n",
       "      <td>97</td>\n",
       "      <td>21</td>\n",
       "      <td>287</td>\n",
       "      <td>249|277|245|204|236|242|172|97|21|287</td>\n",
       "    </tr>\n",
       "    <tr>\n",
       "      <th>25800</th>\n",
       "      <td>259</td>\n",
       "      <td>272</td>\n",
       "      <td>296</td>\n",
       "      <td>73</td>\n",
       "      <td>0</td>\n",
       "      <td>107</td>\n",
       "      <td>106</td>\n",
       "      <td>105</td>\n",
       "      <td>104</td>\n",
       "      <td>103</td>\n",
       "      <td>259|272|296|73|0|107|106|105|104|103</td>\n",
       "    </tr>\n",
       "    <tr>\n",
       "      <th>14605</th>\n",
       "      <td>39</td>\n",
       "      <td>43</td>\n",
       "      <td>280</td>\n",
       "      <td>293</td>\n",
       "      <td>63</td>\n",
       "      <td>24</td>\n",
       "      <td>133</td>\n",
       "      <td>178</td>\n",
       "      <td>200</td>\n",
       "      <td>30</td>\n",
       "      <td>39|43|280|293|63|24|133|178|200|30</td>\n",
       "    </tr>\n",
       "    <tr>\n",
       "      <th>1270</th>\n",
       "      <td>52</td>\n",
       "      <td>282</td>\n",
       "      <td>63</td>\n",
       "      <td>131</td>\n",
       "      <td>50</td>\n",
       "      <td>64</td>\n",
       "      <td>45</td>\n",
       "      <td>257</td>\n",
       "      <td>182</td>\n",
       "      <td>216</td>\n",
       "      <td>52|282|63|131|50|64|45|257|182|216</td>\n",
       "    </tr>\n",
       "    <tr>\n",
       "      <th>6884</th>\n",
       "      <td>18</td>\n",
       "      <td>14</td>\n",
       "      <td>72</td>\n",
       "      <td>31</td>\n",
       "      <td>1</td>\n",
       "      <td>12</td>\n",
       "      <td>59</td>\n",
       "      <td>4</td>\n",
       "      <td>98</td>\n",
       "      <td>13</td>\n",
       "      <td>18|14|72|31|1|12|59|4|98|13</td>\n",
       "    </tr>\n",
       "    <tr>\n",
       "      <th>1939</th>\n",
       "      <td>124</td>\n",
       "      <td>153</td>\n",
       "      <td>298</td>\n",
       "      <td>11</td>\n",
       "      <td>192</td>\n",
       "      <td>94</td>\n",
       "      <td>14</td>\n",
       "      <td>270</td>\n",
       "      <td>110</td>\n",
       "      <td>136</td>\n",
       "      <td>124|153|298|11|192|94|14|270|110|136</td>\n",
       "    </tr>\n",
       "    <tr>\n",
       "      <th>17711</th>\n",
       "      <td>153</td>\n",
       "      <td>131</td>\n",
       "      <td>215</td>\n",
       "      <td>233</td>\n",
       "      <td>203</td>\n",
       "      <td>298</td>\n",
       "      <td>78</td>\n",
       "      <td>229</td>\n",
       "      <td>266</td>\n",
       "      <td>97</td>\n",
       "      <td>153|131|215|233|203|298|78|229|266|97</td>\n",
       "    </tr>\n",
       "    <tr>\n",
       "      <th>22911</th>\n",
       "      <td>136</td>\n",
       "      <td>225</td>\n",
       "      <td>236</td>\n",
       "      <td>78</td>\n",
       "      <td>152</td>\n",
       "      <td>141</td>\n",
       "      <td>228</td>\n",
       "      <td>22</td>\n",
       "      <td>178</td>\n",
       "      <td>192</td>\n",
       "      <td>136|225|236|78|152|141|228|22|178|192</td>\n",
       "    </tr>\n",
       "    <tr>\n",
       "      <th>6313</th>\n",
       "      <td>14</td>\n",
       "      <td>76</td>\n",
       "      <td>33</td>\n",
       "      <td>17</td>\n",
       "      <td>95</td>\n",
       "      <td>59</td>\n",
       "      <td>202</td>\n",
       "      <td>263</td>\n",
       "      <td>1</td>\n",
       "      <td>167</td>\n",
       "      <td>14|76|33|17|95|59|202|263|1|167</td>\n",
       "    </tr>\n",
       "    <tr>\n",
       "      <th>6167</th>\n",
       "      <td>110</td>\n",
       "      <td>266</td>\n",
       "      <td>153</td>\n",
       "      <td>233</td>\n",
       "      <td>203</td>\n",
       "      <td>241</td>\n",
       "      <td>190</td>\n",
       "      <td>229</td>\n",
       "      <td>215</td>\n",
       "      <td>298</td>\n",
       "      <td>110|266|153|233|203|241|190|229|215|298</td>\n",
       "    </tr>\n",
       "    <tr>\n",
       "      <th>20821</th>\n",
       "      <td>294</td>\n",
       "      <td>128</td>\n",
       "      <td>129</td>\n",
       "      <td>280</td>\n",
       "      <td>6</td>\n",
       "      <td>130</td>\n",
       "      <td>26</td>\n",
       "      <td>174</td>\n",
       "      <td>122</td>\n",
       "      <td>40</td>\n",
       "      <td>294|128|129|280|6|130|26|174|122|40</td>\n",
       "    </tr>\n",
       "    <tr>\n",
       "      <th>21743</th>\n",
       "      <td>191</td>\n",
       "      <td>211</td>\n",
       "      <td>275</td>\n",
       "      <td>289</td>\n",
       "      <td>124</td>\n",
       "      <td>149</td>\n",
       "      <td>276</td>\n",
       "      <td>94</td>\n",
       "      <td>192</td>\n",
       "      <td>137</td>\n",
       "      <td>191|211|275|289|124|149|276|94|192|137</td>\n",
       "    </tr>\n",
       "    <tr>\n",
       "      <th>3012</th>\n",
       "      <td>134</td>\n",
       "      <td>55</td>\n",
       "      <td>16</td>\n",
       "      <td>148</td>\n",
       "      <td>235</td>\n",
       "      <td>170</td>\n",
       "      <td>159</td>\n",
       "      <td>84</td>\n",
       "      <td>81</td>\n",
       "      <td>176</td>\n",
       "      <td>134|55|16|148|235|170|159|84|81|176</td>\n",
       "    </tr>\n",
       "    <tr>\n",
       "      <th>8296</th>\n",
       "      <td>14</td>\n",
       "      <td>3</td>\n",
       "      <td>254</td>\n",
       "      <td>162</td>\n",
       "      <td>161</td>\n",
       "      <td>263</td>\n",
       "      <td>19</td>\n",
       "      <td>150</td>\n",
       "      <td>151</td>\n",
       "      <td>1</td>\n",
       "      <td>14|3|254|162|161|263|19|150|151|1</td>\n",
       "    </tr>\n",
       "    <tr>\n",
       "      <th>2388</th>\n",
       "      <td>294</td>\n",
       "      <td>128</td>\n",
       "      <td>154</td>\n",
       "      <td>87</td>\n",
       "      <td>277</td>\n",
       "      <td>143</td>\n",
       "      <td>74</td>\n",
       "      <td>129</td>\n",
       "      <td>58</td>\n",
       "      <td>155</td>\n",
       "      <td>294|128|154|87|277|143|74|129|58|155</td>\n",
       "    </tr>\n",
       "    <tr>\n",
       "      <th>1091</th>\n",
       "      <td>91</td>\n",
       "      <td>21</td>\n",
       "      <td>17</td>\n",
       "      <td>162</td>\n",
       "      <td>263</td>\n",
       "      <td>14</td>\n",
       "      <td>296</td>\n",
       "      <td>150</td>\n",
       "      <td>215</td>\n",
       "      <td>254</td>\n",
       "      <td>91|21|17|162|263|14|296|150|215|254</td>\n",
       "    </tr>\n",
       "    <tr>\n",
       "      <th>15273</th>\n",
       "      <td>31</td>\n",
       "      <td>0</td>\n",
       "      <td>230</td>\n",
       "      <td>30</td>\n",
       "      <td>56</td>\n",
       "      <td>238</td>\n",
       "      <td>60</td>\n",
       "      <td>89</td>\n",
       "      <td>174</td>\n",
       "      <td>59</td>\n",
       "      <td>31|0|230|30|56|238|60|89|174|59</td>\n",
       "    </tr>\n",
       "    <tr>\n",
       "      <th>6975</th>\n",
       "      <td>244</td>\n",
       "      <td>208</td>\n",
       "      <td>14</td>\n",
       "      <td>3</td>\n",
       "      <td>254</td>\n",
       "      <td>162</td>\n",
       "      <td>161</td>\n",
       "      <td>263</td>\n",
       "      <td>19</td>\n",
       "      <td>150</td>\n",
       "      <td>244|208|14|3|254|162|161|263|19|150</td>\n",
       "    </tr>\n",
       "    <tr>\n",
       "      <th>16359</th>\n",
       "      <td>12</td>\n",
       "      <td>15</td>\n",
       "      <td>56</td>\n",
       "      <td>202</td>\n",
       "      <td>142</td>\n",
       "      <td>31</td>\n",
       "      <td>86</td>\n",
       "      <td>0</td>\n",
       "      <td>30</td>\n",
       "      <td>9</td>\n",
       "      <td>12|15|56|202|142|31|86|0|30|9</td>\n",
       "    </tr>\n",
       "    <tr>\n",
       "      <th>1981</th>\n",
       "      <td>164</td>\n",
       "      <td>225</td>\n",
       "      <td>14</td>\n",
       "      <td>137</td>\n",
       "      <td>3</td>\n",
       "      <td>149</td>\n",
       "      <td>161</td>\n",
       "      <td>190</td>\n",
       "      <td>151</td>\n",
       "      <td>35</td>\n",
       "      <td>164|225|14|137|3|149|161|190|151|35</td>\n",
       "    </tr>\n",
       "    <tr>\n",
       "      <th>4207</th>\n",
       "      <td>239</td>\n",
       "      <td>165</td>\n",
       "      <td>115</td>\n",
       "      <td>179</td>\n",
       "      <td>262</td>\n",
       "      <td>35</td>\n",
       "      <td>101</td>\n",
       "      <td>214</td>\n",
       "      <td>112</td>\n",
       "      <td>166</td>\n",
       "      <td>239|165|115|179|262|35|101|214|112|166</td>\n",
       "    </tr>\n",
       "  </tbody>\n",
       "</table>\n",
       "<p>1000 rows × 11 columns</p>\n",
       "</div>"
      ],
      "text/plain": [
       "              0    1    2    3    4    5    6    7    8    9  \\\n",
       "customerId                                                     \n",
       "1553         35  124  143    2  167   41  111  162  199  269   \n",
       "20400       280  122  246  284  299   98   94   95   96   97   \n",
       "19750       225   63   48  112  156  269   36   79   38  208   \n",
       "6334         14    3  254  162  161  263   19  150  151    1   \n",
       "27773       159  131  290   56   42  176    9  201   64   16   \n",
       "20027       208  244   66   39   96  263  200  249  273  197   \n",
       "10104       260  288  243  127   94   95   96   97   98   99   \n",
       "5522        194   36    8   48   79   38  229  261  166  180   \n",
       "9978         71   34   30  125  178   31  298   67   69   62   \n",
       "20966       189   60   72  171   19  103   69  178    0  209   \n",
       "218          79  194   38    8  261   36  229  166  180   48   \n",
       "9023         14  106  102  254  263  126    3   19  150  103   \n",
       "22253       282   25  130  242  121   52  132  234  267   73   \n",
       "1705         14  111   76  263  162    5   33  195   17  254   \n",
       "10526        30   47  295   31   98   61  195  112  100  115   \n",
       "13702        32   27   90   75   72  154   26  220   83   74   \n",
       "18388       213   31   18   34   72   98  238  144  230  276   \n",
       "6591         60   17   21  235   31  263  162  167  150   59   \n",
       "821         129  128  220  240  199    4  238   18   22   72   \n",
       "15830       147  221  123   80  277   31    0  230   30   22   \n",
       "18056       269  240  282  198  182  252  133  235   41  140   \n",
       "13225       190  126  223  208  125  266  279  280  264  219   \n",
       "4871        230   14  146  226   59  238   31   17  292   69   \n",
       "16104       187  185   85  141  105    3  192  223  219  298   \n",
       "5365         43  277  128   57   77  278  257    4   24  178   \n",
       "7180         31  151  222   14  276  100    0    3  136  230   \n",
       "7096          1   14   72  199  214    4   59  162   13   98   \n",
       "21259       280  151   63  143  133  200   30  186  118  272   \n",
       "14082        81   55  159  172  135   92   16  209   15  255   \n",
       "14748       207  100  115   90   31  125   19  280  106    0   \n",
       "...         ...  ...  ...  ...  ...  ...  ...  ...  ...  ...   \n",
       "6269         14    3  254  162  161  263   19  150  151    1   \n",
       "12286        36   79   38  194  269   81  261   48  166  180   \n",
       "13970        99  299  202   50  255  133   57    7   88  180   \n",
       "27107        40   81   73  259   52  140  272  142   24  269   \n",
       "19123       169  213   52  291  237  143  101   57    4   50   \n",
       "2715        176  280   84    4  166  180   79  151   38   36   \n",
       "121         191   37    5   33  289   82  162  254   95  109   \n",
       "654          68  193   39  269   16  274  297   81  270  159   \n",
       "255          79   38  194  261   48  166  180  229    8   35   \n",
       "2878        249  277  245  204  236  242  172   97   21  287   \n",
       "25800       259  272  296   73    0  107  106  105  104  103   \n",
       "14605        39   43  280  293   63   24  133  178  200   30   \n",
       "1270         52  282   63  131   50   64   45  257  182  216   \n",
       "6884         18   14   72   31    1   12   59    4   98   13   \n",
       "1939        124  153  298   11  192   94   14  270  110  136   \n",
       "17711       153  131  215  233  203  298   78  229  266   97   \n",
       "22911       136  225  236   78  152  141  228   22  178  192   \n",
       "6313         14   76   33   17   95   59  202  263    1  167   \n",
       "6167        110  266  153  233  203  241  190  229  215  298   \n",
       "20821       294  128  129  280    6  130   26  174  122   40   \n",
       "21743       191  211  275  289  124  149  276   94  192  137   \n",
       "3012        134   55   16  148  235  170  159   84   81  176   \n",
       "8296         14    3  254  162  161  263   19  150  151    1   \n",
       "2388        294  128  154   87  277  143   74  129   58  155   \n",
       "1091         91   21   17  162  263   14  296  150  215  254   \n",
       "15273        31    0  230   30   56  238   60   89  174   59   \n",
       "6975        244  208   14    3  254  162  161  263   19  150   \n",
       "16359        12   15   56  202  142   31   86    0   30    9   \n",
       "1981        164  225   14  137    3  149  161  190  151   35   \n",
       "4207        239  165  115  179  262   35  101  214  112  166   \n",
       "\n",
       "                                recommendedProducts  \n",
       "customerId                                           \n",
       "1553            35|124|143|2|167|41|111|162|199|269  \n",
       "20400            280|122|246|284|299|98|94|95|96|97  \n",
       "19750            225|63|48|112|156|269|36|79|38|208  \n",
       "6334              14|3|254|162|161|263|19|150|151|1  \n",
       "27773             159|131|290|56|42|176|9|201|64|16  \n",
       "20027          208|244|66|39|96|263|200|249|273|197  \n",
       "10104             260|288|243|127|94|95|96|97|98|99  \n",
       "5522              194|36|8|48|79|38|229|261|166|180  \n",
       "9978               71|34|30|125|178|31|298|67|69|62  \n",
       "20966             189|60|72|171|19|103|69|178|0|209  \n",
       "218               79|194|38|8|261|36|229|166|180|48  \n",
       "9023            14|106|102|254|263|126|3|19|150|103  \n",
       "22253          282|25|130|242|121|52|132|234|267|73  \n",
       "1705              14|111|76|263|162|5|33|195|17|254  \n",
       "10526            30|47|295|31|98|61|195|112|100|115  \n",
       "13702               32|27|90|75|72|154|26|220|83|74  \n",
       "18388            213|31|18|34|72|98|238|144|230|276  \n",
       "6591             60|17|21|235|31|263|162|167|150|59  \n",
       "821              129|128|220|240|199|4|238|18|22|72  \n",
       "15830             147|221|123|80|277|31|0|230|30|22  \n",
       "18056        269|240|282|198|182|252|133|235|41|140  \n",
       "13225       190|126|223|208|125|266|279|280|264|219  \n",
       "4871             230|14|146|226|59|238|31|17|292|69  \n",
       "16104          187|185|85|141|105|3|192|223|219|298  \n",
       "5365              43|277|128|57|77|278|257|4|24|178  \n",
       "7180              31|151|222|14|276|100|0|3|136|230  \n",
       "7096                 1|14|72|199|214|4|59|162|13|98  \n",
       "21259         280|151|63|143|133|200|30|186|118|272  \n",
       "14082            81|55|159|172|135|92|16|209|15|255  \n",
       "14748            207|100|115|90|31|125|19|280|106|0  \n",
       "...                                             ...  \n",
       "6269              14|3|254|162|161|263|19|150|151|1  \n",
       "12286            36|79|38|194|269|81|261|48|166|180  \n",
       "13970             99|299|202|50|255|133|57|7|88|180  \n",
       "27107            40|81|73|259|52|140|272|142|24|269  \n",
       "19123            169|213|52|291|237|143|101|57|4|50  \n",
       "2715              176|280|84|4|166|180|79|151|38|36  \n",
       "121               191|37|5|33|289|82|162|254|95|109  \n",
       "654             68|193|39|269|16|274|297|81|270|159  \n",
       "255               79|38|194|261|48|166|180|229|8|35  \n",
       "2878          249|277|245|204|236|242|172|97|21|287  \n",
       "25800          259|272|296|73|0|107|106|105|104|103  \n",
       "14605            39|43|280|293|63|24|133|178|200|30  \n",
       "1270             52|282|63|131|50|64|45|257|182|216  \n",
       "6884                    18|14|72|31|1|12|59|4|98|13  \n",
       "1939           124|153|298|11|192|94|14|270|110|136  \n",
       "17711         153|131|215|233|203|298|78|229|266|97  \n",
       "22911         136|225|236|78|152|141|228|22|178|192  \n",
       "6313                14|76|33|17|95|59|202|263|1|167  \n",
       "6167        110|266|153|233|203|241|190|229|215|298  \n",
       "20821           294|128|129|280|6|130|26|174|122|40  \n",
       "21743        191|211|275|289|124|149|276|94|192|137  \n",
       "3012            134|55|16|148|235|170|159|84|81|176  \n",
       "8296              14|3|254|162|161|263|19|150|151|1  \n",
       "2388           294|128|154|87|277|143|74|129|58|155  \n",
       "1091            91|21|17|162|263|14|296|150|215|254  \n",
       "15273               31|0|230|30|56|238|60|89|174|59  \n",
       "6975            244|208|14|3|254|162|161|263|19|150  \n",
       "16359                 12|15|56|202|142|31|86|0|30|9  \n",
       "1981            164|225|14|137|3|149|161|190|151|35  \n",
       "4207         239|165|115|179|262|35|101|214|112|166  \n",
       "\n",
       "[1000 rows x 11 columns]"
      ]
     },
     "execution_count": 364,
     "metadata": {},
     "output_type": "execute_result"
    }
   ],
   "source": [
    "df_top10"
   ]
  },
  {
   "cell_type": "code",
   "execution_count": 367,
   "metadata": {
    "collapsed": false
   },
   "outputs": [],
   "source": [
    "df_top10[['recommendedProducts']].to_csv('../output/option1_recommendations.csv')"
   ]
  },
  {
   "cell_type": "markdown",
   "metadata": {},
   "source": [
    "### Evaluation"
   ]
  },
  {
   "cell_type": "code",
   "execution_count": null,
   "metadata": {
    "collapsed": true
   },
   "outputs": [],
   "source": [
    "# how does the model perform?\n",
    "# need to use cross validation, and splitting train and test split!\n"
   ]
  }
 ],
 "metadata": {
  "kernelspec": {
   "display_name": "Python 3",
   "language": "python",
   "name": "python3"
  },
  "language_info": {
   "codemirror_mode": {
    "name": "ipython",
    "version": 3
   },
   "file_extension": ".py",
   "mimetype": "text/x-python",
   "name": "python",
   "nbconvert_exporter": "python",
   "pygments_lexer": "ipython3",
   "version": "3.6.0"
  }
 },
 "nbformat": 4,
 "nbformat_minor": 2
}
