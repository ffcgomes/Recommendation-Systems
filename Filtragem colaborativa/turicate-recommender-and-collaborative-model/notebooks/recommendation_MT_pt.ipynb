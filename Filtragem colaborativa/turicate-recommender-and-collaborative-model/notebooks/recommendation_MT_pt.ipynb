{
  "nbformat": 4,
  "nbformat_minor": 0,
  "metadata": {
    "kernelspec": {
      "display_name": "Python 3",
      "language": "python",
      "name": "python3"
    },
    "language_info": {
      "codemirror_mode": {
        "name": "ipython",
        "version": 3
      },
      "file_extension": ".py",
      "mimetype": "text/x-python",
      "name": "python",
      "nbconvert_exporter": "python",
      "pygments_lexer": "ipython3",
      "version": "3.6.0"
    },
    "colab": {
      "name": "recommendation-MT-pt.ipynb",
      "provenance": []
    }
  },
  "cells": [
    {
      "cell_type": "markdown",
      "metadata": {
        "id": "oIV1GiYO1hhd"
      },
      "source": [
        "# Como construir um sistema de recomendação para dados de compra (passo a passo)\n",
        "* Descrição: uma documentação sobre a construção de modelos de filtragem colaborativa para recomendar produtos aos clientes\n",
        "* Link: https://medium.com/datadriveninvestor/how-to-build-a-recommendation-system-for-purchase-data-step-by-step-d6d7a78800b6\n",
        "* Autor: Moorissa Tjokro\n",
        "\n",
        "## Declaração do problema\n",
        "Neste desafio de dados, estamos construindo modelos de filtragem colaborativa para recomendar itens de produtos. As etapas a seguir têm como objetivo recomendar aos usuários seus 10 principais itens para colocar na cesta. A saída final será um arquivo csv na pasta `output` e uma função que procura uma lista de recomendações com base em um usuário especificado:\n",
        "* Entrada: usuário - ID do cliente\n",
        "* Retorna: lista classificada de itens (IDs de produto), que o usuário mais provavelmente deseja colocar em sua \"cesta\" (vazia)\n",
        "\n",
        "## 1. Módulos de importação\n",
        "* `pandas` e` numpy` para manipulação de dados\n",
        "* `turicreate` para realizar a seleção e avaliação do modelo\n",
        "* `sklearn` para dividir os dados no conjunto de treino e teste"
      ]
    },
    {
      "cell_type": "code",
      "metadata": {
        "colab": {
          "base_uri": "https://localhost:8080/"
        },
        "id": "nHQ9HoWy1hhi",
        "outputId": "a42e4f52-d75d-410d-dcd4-5f262ad137c8"
      },
      "source": [
        "%load_ext autoreload\n",
        "%autoreload 2\n",
        "!pip install turicreate\n",
        "\n",
        "import pandas as pd\n",
        "import numpy as np\n",
        "import time\n",
        "import turicreate as tc\n",
        "#from sklearn.cross_validation import train_test_split\n",
        "from sklearn.model_selection import train_test_split\n",
        "\n",
        "#import sys\n",
        "#sys.path.append(\"..\")\n",
        "#!pip install scripts\n",
        "#import scripts.data_layer as data_layer"
      ],
      "execution_count": 17,
      "outputs": [
        {
          "output_type": "stream",
          "text": [
            "The autoreload extension is already loaded. To reload it, use:\n",
            "  %reload_ext autoreload\n",
            "Requirement already satisfied: turicreate in /usr/local/lib/python3.7/dist-packages (6.4.1)\n",
            "Requirement already satisfied: resampy==0.2.1 in /usr/local/lib/python3.7/dist-packages (from turicreate) (0.2.1)\n",
            "Requirement already satisfied: pandas>=0.23.2 in /usr/local/lib/python3.7/dist-packages (from turicreate) (1.1.5)\n",
            "Requirement already satisfied: pillow>=5.2.0 in /usr/local/lib/python3.7/dist-packages (from turicreate) (7.0.0)\n",
            "Requirement already satisfied: decorator>=4.0.9 in /usr/local/lib/python3.7/dist-packages (from turicreate) (4.4.2)\n",
            "Requirement already satisfied: six>=1.10.0 in /usr/local/lib/python3.7/dist-packages (from turicreate) (1.15.0)\n",
            "Requirement already satisfied: prettytable==0.7.2 in /usr/local/lib/python3.7/dist-packages (from turicreate) (0.7.2)\n",
            "Requirement already satisfied: tensorflow<2.1.0,>=2.0.0 in /usr/local/lib/python3.7/dist-packages (from turicreate) (2.0.4)\n",
            "Requirement already satisfied: requests>=2.9.1 in /usr/local/lib/python3.7/dist-packages (from turicreate) (2.23.0)\n",
            "Requirement already satisfied: numpy in /usr/local/lib/python3.7/dist-packages (from turicreate) (1.19.5)\n",
            "Requirement already satisfied: coremltools==3.3 in /usr/local/lib/python3.7/dist-packages (from turicreate) (3.3)\n",
            "Requirement already satisfied: numba<0.51.0 in /usr/local/lib/python3.7/dist-packages (from turicreate) (0.50.1)\n",
            "Requirement already satisfied: scipy>=1.1.0 in /usr/local/lib/python3.7/dist-packages (from turicreate) (1.4.1)\n",
            "Requirement already satisfied: python-dateutil>=2.7.3 in /usr/local/lib/python3.7/dist-packages (from pandas>=0.23.2->turicreate) (2.8.1)\n",
            "Requirement already satisfied: pytz>=2017.2 in /usr/local/lib/python3.7/dist-packages (from pandas>=0.23.2->turicreate) (2018.9)\n",
            "Requirement already satisfied: tensorflow-estimator<2.1.0,>=2.0.0 in /usr/local/lib/python3.7/dist-packages (from tensorflow<2.1.0,>=2.0.0->turicreate) (2.0.1)\n",
            "Requirement already satisfied: astor>=0.6.0 in /usr/local/lib/python3.7/dist-packages (from tensorflow<2.1.0,>=2.0.0->turicreate) (0.8.1)\n",
            "Requirement already satisfied: protobuf>=3.6.1 in /usr/local/lib/python3.7/dist-packages (from tensorflow<2.1.0,>=2.0.0->turicreate) (3.12.4)\n",
            "Requirement already satisfied: termcolor>=1.1.0 in /usr/local/lib/python3.7/dist-packages (from tensorflow<2.1.0,>=2.0.0->turicreate) (1.1.0)\n",
            "Requirement already satisfied: absl-py>=0.7.0 in /usr/local/lib/python3.7/dist-packages (from tensorflow<2.1.0,>=2.0.0->turicreate) (0.10.0)\n",
            "Requirement already satisfied: google-pasta>=0.1.6 in /usr/local/lib/python3.7/dist-packages (from tensorflow<2.1.0,>=2.0.0->turicreate) (0.2.0)\n",
            "Requirement already satisfied: wheel>=0.26; python_version >= \"3\" in /usr/local/lib/python3.7/dist-packages (from tensorflow<2.1.0,>=2.0.0->turicreate) (0.36.2)\n",
            "Requirement already satisfied: h5py<=2.10.0 in /usr/local/lib/python3.7/dist-packages (from tensorflow<2.1.0,>=2.0.0->turicreate) (2.10.0)\n",
            "Requirement already satisfied: keras-preprocessing>=1.0.5 in /usr/local/lib/python3.7/dist-packages (from tensorflow<2.1.0,>=2.0.0->turicreate) (1.1.2)\n",
            "Requirement already satisfied: gast==0.2.2 in /usr/local/lib/python3.7/dist-packages (from tensorflow<2.1.0,>=2.0.0->turicreate) (0.2.2)\n",
            "Requirement already satisfied: opt-einsum>=2.3.2 in /usr/local/lib/python3.7/dist-packages (from tensorflow<2.1.0,>=2.0.0->turicreate) (3.3.0)\n",
            "Requirement already satisfied: tensorboard<2.1.0,>=2.0.0 in /usr/local/lib/python3.7/dist-packages (from tensorflow<2.1.0,>=2.0.0->turicreate) (2.0.2)\n",
            "Requirement already satisfied: wrapt>=1.11.1 in /usr/local/lib/python3.7/dist-packages (from tensorflow<2.1.0,>=2.0.0->turicreate) (1.12.1)\n",
            "Requirement already satisfied: keras-applications>=1.0.8 in /usr/local/lib/python3.7/dist-packages (from tensorflow<2.1.0,>=2.0.0->turicreate) (1.0.8)\n",
            "Requirement already satisfied: grpcio>=1.8.6 in /usr/local/lib/python3.7/dist-packages (from tensorflow<2.1.0,>=2.0.0->turicreate) (1.32.0)\n",
            "Requirement already satisfied: chardet<4,>=3.0.2 in /usr/local/lib/python3.7/dist-packages (from requests>=2.9.1->turicreate) (3.0.4)\n",
            "Requirement already satisfied: urllib3!=1.25.0,!=1.25.1,<1.26,>=1.21.1 in /usr/local/lib/python3.7/dist-packages (from requests>=2.9.1->turicreate) (1.24.3)\n",
            "Requirement already satisfied: certifi>=2017.4.17 in /usr/local/lib/python3.7/dist-packages (from requests>=2.9.1->turicreate) (2020.12.5)\n",
            "Requirement already satisfied: idna<3,>=2.5 in /usr/local/lib/python3.7/dist-packages (from requests>=2.9.1->turicreate) (2.10)\n",
            "Requirement already satisfied: llvmlite<0.34,>=0.33.0.dev0 in /usr/local/lib/python3.7/dist-packages (from numba<0.51.0->turicreate) (0.33.0)\n",
            "Requirement already satisfied: setuptools in /usr/local/lib/python3.7/dist-packages (from numba<0.51.0->turicreate) (54.0.0)\n",
            "Requirement already satisfied: markdown>=2.6.8 in /usr/local/lib/python3.7/dist-packages (from tensorboard<2.1.0,>=2.0.0->tensorflow<2.1.0,>=2.0.0->turicreate) (3.3.4)\n",
            "Requirement already satisfied: google-auth-oauthlib<0.5,>=0.4.1 in /usr/local/lib/python3.7/dist-packages (from tensorboard<2.1.0,>=2.0.0->tensorflow<2.1.0,>=2.0.0->turicreate) (0.4.3)\n",
            "Requirement already satisfied: werkzeug>=0.11.15 in /usr/local/lib/python3.7/dist-packages (from tensorboard<2.1.0,>=2.0.0->tensorflow<2.1.0,>=2.0.0->turicreate) (1.0.1)\n",
            "Requirement already satisfied: google-auth<2,>=1.6.3 in /usr/local/lib/python3.7/dist-packages (from tensorboard<2.1.0,>=2.0.0->tensorflow<2.1.0,>=2.0.0->turicreate) (1.27.1)\n",
            "Requirement already satisfied: importlib-metadata; python_version < \"3.8\" in /usr/local/lib/python3.7/dist-packages (from markdown>=2.6.8->tensorboard<2.1.0,>=2.0.0->tensorflow<2.1.0,>=2.0.0->turicreate) (3.7.2)\n",
            "Requirement already satisfied: requests-oauthlib>=0.7.0 in /usr/local/lib/python3.7/dist-packages (from google-auth-oauthlib<0.5,>=0.4.1->tensorboard<2.1.0,>=2.0.0->tensorflow<2.1.0,>=2.0.0->turicreate) (1.3.0)\n",
            "Requirement already satisfied: pyasn1-modules>=0.2.1 in /usr/local/lib/python3.7/dist-packages (from google-auth<2,>=1.6.3->tensorboard<2.1.0,>=2.0.0->tensorflow<2.1.0,>=2.0.0->turicreate) (0.2.8)\n",
            "Requirement already satisfied: cachetools<5.0,>=2.0.0 in /usr/local/lib/python3.7/dist-packages (from google-auth<2,>=1.6.3->tensorboard<2.1.0,>=2.0.0->tensorflow<2.1.0,>=2.0.0->turicreate) (4.2.1)\n",
            "Requirement already satisfied: rsa<5,>=3.1.4; python_version >= \"3.6\" in /usr/local/lib/python3.7/dist-packages (from google-auth<2,>=1.6.3->tensorboard<2.1.0,>=2.0.0->tensorflow<2.1.0,>=2.0.0->turicreate) (4.7.2)\n",
            "Requirement already satisfied: zipp>=0.5 in /usr/local/lib/python3.7/dist-packages (from importlib-metadata; python_version < \"3.8\"->markdown>=2.6.8->tensorboard<2.1.0,>=2.0.0->tensorflow<2.1.0,>=2.0.0->turicreate) (3.4.1)\n",
            "Requirement already satisfied: typing-extensions>=3.6.4; python_version < \"3.8\" in /usr/local/lib/python3.7/dist-packages (from importlib-metadata; python_version < \"3.8\"->markdown>=2.6.8->tensorboard<2.1.0,>=2.0.0->tensorflow<2.1.0,>=2.0.0->turicreate) (3.7.4.3)\n",
            "Requirement already satisfied: oauthlib>=3.0.0 in /usr/local/lib/python3.7/dist-packages (from requests-oauthlib>=0.7.0->google-auth-oauthlib<0.5,>=0.4.1->tensorboard<2.1.0,>=2.0.0->tensorflow<2.1.0,>=2.0.0->turicreate) (3.1.0)\n",
            "Requirement already satisfied: pyasn1<0.5.0,>=0.4.6 in /usr/local/lib/python3.7/dist-packages (from pyasn1-modules>=0.2.1->google-auth<2,>=1.6.3->tensorboard<2.1.0,>=2.0.0->tensorflow<2.1.0,>=2.0.0->turicreate) (0.4.8)\n"
          ],
          "name": "stdout"
        }
      ]
    },
    {
      "cell_type": "markdown",
      "metadata": {
        "id": "YATBFkWm1hhj"
      },
      "source": [
        "## 2. Carregar dados\n",
        "Dois conjuntos de dados são usados ​​neste exercício, que podem ser encontrados na pasta `data`:\n",
        "* `recommend_1.csv` consistindo em uma lista de 1000 IDs de cliente para recomendar como saída\n",
        "* `trx_data.csv` consistindo em transações do usuário\n",
        "\n",
        "O formato é o seguinte."
      ]
    },
    {
      "cell_type": "code",
      "metadata": {
        "collapsed": true,
        "id": "EvCHYZoc1hhj"
      },
      "source": [
        "customers = pd.read_csv('/content/recommend_1.csv')\n",
        "transactions = pd.read_csv('/content/trx_data.csv')"
      ],
      "execution_count": 18,
      "outputs": []
    },
    {
      "cell_type": "code",
      "metadata": {
        "colab": {
          "base_uri": "https://localhost:8080/",
          "height": 215
        },
        "id": "2nmeTblg1hhk",
        "outputId": "e7b952d0-e71e-4cfc-a8e2-61ae226e1e68"
      },
      "source": [
        "print(customers.shape)\n",
        "\n",
        "customers.head()"
      ],
      "execution_count": 19,
      "outputs": [
        {
          "output_type": "stream",
          "text": [
            "(1000, 1)\n"
          ],
          "name": "stdout"
        },
        {
          "output_type": "execute_result",
          "data": {
            "text/html": [
              "<div>\n",
              "<style scoped>\n",
              "    .dataframe tbody tr th:only-of-type {\n",
              "        vertical-align: middle;\n",
              "    }\n",
              "\n",
              "    .dataframe tbody tr th {\n",
              "        vertical-align: top;\n",
              "    }\n",
              "\n",
              "    .dataframe thead th {\n",
              "        text-align: right;\n",
              "    }\n",
              "</style>\n",
              "<table border=\"1\" class=\"dataframe\">\n",
              "  <thead>\n",
              "    <tr style=\"text-align: right;\">\n",
              "      <th></th>\n",
              "      <th>customerId</th>\n",
              "    </tr>\n",
              "  </thead>\n",
              "  <tbody>\n",
              "    <tr>\n",
              "      <th>0</th>\n",
              "      <td>1553</td>\n",
              "    </tr>\n",
              "    <tr>\n",
              "      <th>1</th>\n",
              "      <td>20400</td>\n",
              "    </tr>\n",
              "    <tr>\n",
              "      <th>2</th>\n",
              "      <td>19750</td>\n",
              "    </tr>\n",
              "    <tr>\n",
              "      <th>3</th>\n",
              "      <td>6334</td>\n",
              "    </tr>\n",
              "    <tr>\n",
              "      <th>4</th>\n",
              "      <td>27773</td>\n",
              "    </tr>\n",
              "  </tbody>\n",
              "</table>\n",
              "</div>"
            ],
            "text/plain": [
              "   customerId\n",
              "0        1553\n",
              "1       20400\n",
              "2       19750\n",
              "3        6334\n",
              "4       27773"
            ]
          },
          "metadata": {
            "tags": []
          },
          "execution_count": 19
        }
      ]
    },
    {
      "cell_type": "code",
      "metadata": {
        "id": "NtirXwnW1hhk",
        "colab": {
          "base_uri": "https://localhost:8080/",
          "height": 215
        },
        "outputId": "fcb2539e-0c47-4c8e-bc7a-56283832527d"
      },
      "source": [
        "print(transactions.shape)\n",
        "transactions.head()"
      ],
      "execution_count": 20,
      "outputs": [
        {
          "output_type": "stream",
          "text": [
            "(62483, 2)\n"
          ],
          "name": "stdout"
        },
        {
          "output_type": "execute_result",
          "data": {
            "text/html": [
              "<div>\n",
              "<style scoped>\n",
              "    .dataframe tbody tr th:only-of-type {\n",
              "        vertical-align: middle;\n",
              "    }\n",
              "\n",
              "    .dataframe tbody tr th {\n",
              "        vertical-align: top;\n",
              "    }\n",
              "\n",
              "    .dataframe thead th {\n",
              "        text-align: right;\n",
              "    }\n",
              "</style>\n",
              "<table border=\"1\" class=\"dataframe\">\n",
              "  <thead>\n",
              "    <tr style=\"text-align: right;\">\n",
              "      <th></th>\n",
              "      <th>customerId</th>\n",
              "      <th>products</th>\n",
              "    </tr>\n",
              "  </thead>\n",
              "  <tbody>\n",
              "    <tr>\n",
              "      <th>0</th>\n",
              "      <td>0</td>\n",
              "      <td>20</td>\n",
              "    </tr>\n",
              "    <tr>\n",
              "      <th>1</th>\n",
              "      <td>1</td>\n",
              "      <td>2|2|23|68|68|111|29|86|107|152</td>\n",
              "    </tr>\n",
              "    <tr>\n",
              "      <th>2</th>\n",
              "      <td>2</td>\n",
              "      <td>111|107|29|11|11|11|33|23</td>\n",
              "    </tr>\n",
              "    <tr>\n",
              "      <th>3</th>\n",
              "      <td>3</td>\n",
              "      <td>164|227</td>\n",
              "    </tr>\n",
              "    <tr>\n",
              "      <th>4</th>\n",
              "      <td>5</td>\n",
              "      <td>2|2</td>\n",
              "    </tr>\n",
              "  </tbody>\n",
              "</table>\n",
              "</div>"
            ],
            "text/plain": [
              "   customerId                        products\n",
              "0           0                              20\n",
              "1           1  2|2|23|68|68|111|29|86|107|152\n",
              "2           2       111|107|29|11|11|11|33|23\n",
              "3           3                         164|227\n",
              "4           5                             2|2"
            ]
          },
          "metadata": {
            "tags": []
          },
          "execution_count": 20
        }
      ]
    },
    {
      "cell_type": "markdown",
      "metadata": {
        "id": "YxVhZj_X1hhk"
      },
      "source": [
        "## 3. Preparação de dados\n",
        "* Nosso objetivo aqui é dividir cada lista de itens na coluna `produtos` em linhas e contar o número de produtos comprados por um usuário"
      ]
    },
    {
      "cell_type": "code",
      "metadata": {
        "colab": {
          "base_uri": "https://localhost:8080/",
          "height": 197
        },
        "id": "V9_ZqHSg1hhl",
        "outputId": "dae976dc-fd38-4d25-d7cd-c2b6abbfdcf6"
      },
      "source": [
        "# example 1: split product items\n",
        "transactions['products'] = transactions['products'].apply(lambda x: [int(i) for i in x.split('|')])\n",
        "transactions.head().set_index('customerId')['products'].apply(pd.Series).reset_index()"
      ],
      "execution_count": 21,
      "outputs": [
        {
          "output_type": "execute_result",
          "data": {
            "text/html": [
              "<div>\n",
              "<style scoped>\n",
              "    .dataframe tbody tr th:only-of-type {\n",
              "        vertical-align: middle;\n",
              "    }\n",
              "\n",
              "    .dataframe tbody tr th {\n",
              "        vertical-align: top;\n",
              "    }\n",
              "\n",
              "    .dataframe thead th {\n",
              "        text-align: right;\n",
              "    }\n",
              "</style>\n",
              "<table border=\"1\" class=\"dataframe\">\n",
              "  <thead>\n",
              "    <tr style=\"text-align: right;\">\n",
              "      <th></th>\n",
              "      <th>customerId</th>\n",
              "      <th>0</th>\n",
              "      <th>1</th>\n",
              "      <th>2</th>\n",
              "      <th>3</th>\n",
              "      <th>4</th>\n",
              "      <th>5</th>\n",
              "      <th>6</th>\n",
              "      <th>7</th>\n",
              "      <th>8</th>\n",
              "      <th>9</th>\n",
              "    </tr>\n",
              "  </thead>\n",
              "  <tbody>\n",
              "    <tr>\n",
              "      <th>0</th>\n",
              "      <td>0</td>\n",
              "      <td>20.0</td>\n",
              "      <td>NaN</td>\n",
              "      <td>NaN</td>\n",
              "      <td>NaN</td>\n",
              "      <td>NaN</td>\n",
              "      <td>NaN</td>\n",
              "      <td>NaN</td>\n",
              "      <td>NaN</td>\n",
              "      <td>NaN</td>\n",
              "      <td>NaN</td>\n",
              "    </tr>\n",
              "    <tr>\n",
              "      <th>1</th>\n",
              "      <td>1</td>\n",
              "      <td>2.0</td>\n",
              "      <td>2.0</td>\n",
              "      <td>23.0</td>\n",
              "      <td>68.0</td>\n",
              "      <td>68.0</td>\n",
              "      <td>111.0</td>\n",
              "      <td>29.0</td>\n",
              "      <td>86.0</td>\n",
              "      <td>107.0</td>\n",
              "      <td>152.0</td>\n",
              "    </tr>\n",
              "    <tr>\n",
              "      <th>2</th>\n",
              "      <td>2</td>\n",
              "      <td>111.0</td>\n",
              "      <td>107.0</td>\n",
              "      <td>29.0</td>\n",
              "      <td>11.0</td>\n",
              "      <td>11.0</td>\n",
              "      <td>11.0</td>\n",
              "      <td>33.0</td>\n",
              "      <td>23.0</td>\n",
              "      <td>NaN</td>\n",
              "      <td>NaN</td>\n",
              "    </tr>\n",
              "    <tr>\n",
              "      <th>3</th>\n",
              "      <td>3</td>\n",
              "      <td>164.0</td>\n",
              "      <td>227.0</td>\n",
              "      <td>NaN</td>\n",
              "      <td>NaN</td>\n",
              "      <td>NaN</td>\n",
              "      <td>NaN</td>\n",
              "      <td>NaN</td>\n",
              "      <td>NaN</td>\n",
              "      <td>NaN</td>\n",
              "      <td>NaN</td>\n",
              "    </tr>\n",
              "    <tr>\n",
              "      <th>4</th>\n",
              "      <td>5</td>\n",
              "      <td>2.0</td>\n",
              "      <td>2.0</td>\n",
              "      <td>NaN</td>\n",
              "      <td>NaN</td>\n",
              "      <td>NaN</td>\n",
              "      <td>NaN</td>\n",
              "      <td>NaN</td>\n",
              "      <td>NaN</td>\n",
              "      <td>NaN</td>\n",
              "      <td>NaN</td>\n",
              "    </tr>\n",
              "  </tbody>\n",
              "</table>\n",
              "</div>"
            ],
            "text/plain": [
              "   customerId      0      1     2     3     4      5     6     7      8      9\n",
              "0           0   20.0    NaN   NaN   NaN   NaN    NaN   NaN   NaN    NaN    NaN\n",
              "1           1    2.0    2.0  23.0  68.0  68.0  111.0  29.0  86.0  107.0  152.0\n",
              "2           2  111.0  107.0  29.0  11.0  11.0   11.0  33.0  23.0    NaN    NaN\n",
              "3           3  164.0  227.0   NaN   NaN   NaN    NaN   NaN   NaN    NaN    NaN\n",
              "4           5    2.0    2.0   NaN   NaN   NaN    NaN   NaN   NaN    NaN    NaN"
            ]
          },
          "metadata": {
            "tags": []
          },
          "execution_count": 21
        }
      ]
    },
    {
      "cell_type": "code",
      "metadata": {
        "colab": {
          "base_uri": "https://localhost:8080/",
          "height": 317
        },
        "id": "yiRUZRZi1hhl",
        "outputId": "1e0f9783-0600-462e-c21f-4aa9a4fe0ac1"
      },
      "source": [
        "# example 2: organize a given table into a dataframe with customerId, single productId, and purchase count\n",
        "pd.melt(transactions.head(2).set_index('customerId')['products'].apply(pd.Series).reset_index(), \n",
        "             id_vars=['customerId'],\n",
        "             value_name='products') \\\n",
        "    .dropna().drop(['variable'], axis=1) \\\n",
        "    .groupby(['customerId', 'products']) \\\n",
        "    .agg({'products': 'count'}) \\\n",
        "    .rename(columns={'products': 'purchase_count'}) \\\n",
        "    .reset_index() \\\n",
        "    .rename(columns={'products': 'productId'})"
      ],
      "execution_count": 29,
      "outputs": [
        {
          "output_type": "execute_result",
          "data": {
            "text/html": [
              "<div>\n",
              "<style scoped>\n",
              "    .dataframe tbody tr th:only-of-type {\n",
              "        vertical-align: middle;\n",
              "    }\n",
              "\n",
              "    .dataframe tbody tr th {\n",
              "        vertical-align: top;\n",
              "    }\n",
              "\n",
              "    .dataframe thead th {\n",
              "        text-align: right;\n",
              "    }\n",
              "</style>\n",
              "<table border=\"1\" class=\"dataframe\">\n",
              "  <thead>\n",
              "    <tr style=\"text-align: right;\">\n",
              "      <th></th>\n",
              "      <th>customerId</th>\n",
              "      <th>productId</th>\n",
              "      <th>purchase_count</th>\n",
              "    </tr>\n",
              "  </thead>\n",
              "  <tbody>\n",
              "    <tr>\n",
              "      <th>0</th>\n",
              "      <td>0</td>\n",
              "      <td>20.0</td>\n",
              "      <td>1</td>\n",
              "    </tr>\n",
              "    <tr>\n",
              "      <th>1</th>\n",
              "      <td>1</td>\n",
              "      <td>2.0</td>\n",
              "      <td>2</td>\n",
              "    </tr>\n",
              "    <tr>\n",
              "      <th>2</th>\n",
              "      <td>1</td>\n",
              "      <td>23.0</td>\n",
              "      <td>1</td>\n",
              "    </tr>\n",
              "    <tr>\n",
              "      <th>3</th>\n",
              "      <td>1</td>\n",
              "      <td>29.0</td>\n",
              "      <td>1</td>\n",
              "    </tr>\n",
              "    <tr>\n",
              "      <th>4</th>\n",
              "      <td>1</td>\n",
              "      <td>68.0</td>\n",
              "      <td>2</td>\n",
              "    </tr>\n",
              "    <tr>\n",
              "      <th>5</th>\n",
              "      <td>1</td>\n",
              "      <td>86.0</td>\n",
              "      <td>1</td>\n",
              "    </tr>\n",
              "    <tr>\n",
              "      <th>6</th>\n",
              "      <td>1</td>\n",
              "      <td>107.0</td>\n",
              "      <td>1</td>\n",
              "    </tr>\n",
              "    <tr>\n",
              "      <th>7</th>\n",
              "      <td>1</td>\n",
              "      <td>111.0</td>\n",
              "      <td>1</td>\n",
              "    </tr>\n",
              "    <tr>\n",
              "      <th>8</th>\n",
              "      <td>1</td>\n",
              "      <td>152.0</td>\n",
              "      <td>1</td>\n",
              "    </tr>\n",
              "  </tbody>\n",
              "</table>\n",
              "</div>"
            ],
            "text/plain": [
              "   customerId  productId  purchase_count\n",
              "0           0       20.0               1\n",
              "1           1        2.0               2\n",
              "2           1       23.0               1\n",
              "3           1       29.0               1\n",
              "4           1       68.0               2\n",
              "5           1       86.0               1\n",
              "6           1      107.0               1\n",
              "7           1      111.0               1\n",
              "8           1      152.0               1"
            ]
          },
          "metadata": {
            "tags": []
          },
          "execution_count": 29
        }
      ]
    },
    {
      "cell_type": "markdown",
      "metadata": {
        "id": "mmoP7JA41hhl"
      },
      "source": [
        "### 3.1. Crie dados com usuário, item e campo de destino\n",
        "* Esta tabela será uma entrada para nossa modelagem posterior\n",
        "    * Nesse caso, nosso usuário é `customerId`,` productId` e `purchase_count`"
      ]
    },
    {
      "cell_type": "code",
      "metadata": {
        "colab": {
          "base_uri": "https://localhost:8080/"
        },
        "id": "ftBk_M1k1hhl",
        "outputId": "7b018f8e-f0d5-44be-ad38-6ec336fd115f"
      },
      "source": [
        "s=time.time()\n",
        "\n",
        "data = pd.melt(transactions.set_index('customerId')['products'].apply(pd.Series).reset_index(), \n",
        "             id_vars=['customerId'],\n",
        "             value_name='products') \\\n",
        "    .dropna().drop(['variable'], axis=1) \\\n",
        "    .groupby(['customerId', 'products']) \\\n",
        "    .agg({'products': 'count'}) \\\n",
        "    .rename(columns={'products': 'purchase_count'}) \\\n",
        "    .reset_index() \\\n",
        "    .rename(columns={'products': 'productId'})\n",
        "data['productId'] = data['productId'].astype(np.int64)\n",
        "\n",
        "print(\"Execution time:\", round((time.time()-s)/60,2), \"minutes\")"
      ],
      "execution_count": 32,
      "outputs": [
        {
          "output_type": "stream",
          "text": [
            "Execution time: 0.29 minutes\n"
          ],
          "name": "stdout"
        }
      ]
    },
    {
      "cell_type": "code",
      "metadata": {
        "colab": {
          "base_uri": "https://localhost:8080/",
          "height": 215
        },
        "id": "nkRM7vzn1hhm",
        "outputId": "4b6b667b-3842-45f5-815b-7ce444d1bbcd"
      },
      "source": [
        "print(data.shape)\n",
        "data.head()"
      ],
      "execution_count": 34,
      "outputs": [
        {
          "output_type": "stream",
          "text": [
            "(133585, 3)\n"
          ],
          "name": "stdout"
        },
        {
          "output_type": "execute_result",
          "data": {
            "text/html": [
              "<div>\n",
              "<style scoped>\n",
              "    .dataframe tbody tr th:only-of-type {\n",
              "        vertical-align: middle;\n",
              "    }\n",
              "\n",
              "    .dataframe tbody tr th {\n",
              "        vertical-align: top;\n",
              "    }\n",
              "\n",
              "    .dataframe thead th {\n",
              "        text-align: right;\n",
              "    }\n",
              "</style>\n",
              "<table border=\"1\" class=\"dataframe\">\n",
              "  <thead>\n",
              "    <tr style=\"text-align: right;\">\n",
              "      <th></th>\n",
              "      <th>customerId</th>\n",
              "      <th>productId</th>\n",
              "      <th>purchase_count</th>\n",
              "    </tr>\n",
              "  </thead>\n",
              "  <tbody>\n",
              "    <tr>\n",
              "      <th>0</th>\n",
              "      <td>0</td>\n",
              "      <td>1</td>\n",
              "      <td>2</td>\n",
              "    </tr>\n",
              "    <tr>\n",
              "      <th>1</th>\n",
              "      <td>0</td>\n",
              "      <td>13</td>\n",
              "      <td>1</td>\n",
              "    </tr>\n",
              "    <tr>\n",
              "      <th>2</th>\n",
              "      <td>0</td>\n",
              "      <td>19</td>\n",
              "      <td>3</td>\n",
              "    </tr>\n",
              "    <tr>\n",
              "      <th>3</th>\n",
              "      <td>0</td>\n",
              "      <td>20</td>\n",
              "      <td>1</td>\n",
              "    </tr>\n",
              "    <tr>\n",
              "      <th>4</th>\n",
              "      <td>0</td>\n",
              "      <td>31</td>\n",
              "      <td>2</td>\n",
              "    </tr>\n",
              "  </tbody>\n",
              "</table>\n",
              "</div>"
            ],
            "text/plain": [
              "   customerId  productId  purchase_count\n",
              "0           0          1               2\n",
              "1           0         13               1\n",
              "2           0         19               3\n",
              "3           0         20               1\n",
              "4           0         31               2"
            ]
          },
          "metadata": {
            "tags": []
          },
          "execution_count": 34
        }
      ]
    },
    {
      "cell_type": "markdown",
      "metadata": {
        "id": "AJ77OK-01hhm"
      },
      "source": [
        "### 3.2. Criar dummy\n",
        "* Dummy para marcar se um cliente comprou aquele item ou não.\n",
        "* Se alguém compra um item, `purchase_dummy` é marcado como 1\n",
        "* Por que criar um dummy em vez de normalizá-lo?\n",
        "    * Normalizar a contagem de compras, digamos por cada usuário, não funcionaria porque os clientes podem ter frequências de compra diferentes e não têm o mesmo gosto\n",
        "    * No entanto, podemos normalizar os itens por frequência de compra para todos os usuários, o que é feito na seção 3.3. abaixo de."
      ]
    },
    {
      "cell_type": "code",
      "metadata": {
        "collapsed": true,
        "id": "YkzBxdHm1hhm"
      },
      "source": [
        "def create_data_dummy(data):\n",
        "    data_dummy = data.copy()\n",
        "    data_dummy['purchase_dummy'] = 1\n",
        "    return data_dummy"
      ],
      "execution_count": 19,
      "outputs": []
    },
    {
      "cell_type": "code",
      "metadata": {
        "id": "ibbPDF2U1hhm",
        "colab": {
          "base_uri": "https://localhost:8080/",
          "height": 406
        },
        "outputId": "9aba143e-1d56-4c7e-80aa-724f763015a4"
      },
      "source": [
        "data_dummy = create_data_dummy(data)"
      ],
      "execution_count": 64,
      "outputs": [
        {
          "output_type": "execute_result",
          "data": {
            "text/html": [
              "<div>\n",
              "<style scoped>\n",
              "    .dataframe tbody tr th:only-of-type {\n",
              "        vertical-align: middle;\n",
              "    }\n",
              "\n",
              "    .dataframe tbody tr th {\n",
              "        vertical-align: top;\n",
              "    }\n",
              "\n",
              "    .dataframe thead th {\n",
              "        text-align: right;\n",
              "    }\n",
              "</style>\n",
              "<table border=\"1\" class=\"dataframe\">\n",
              "  <thead>\n",
              "    <tr style=\"text-align: right;\">\n",
              "      <th></th>\n",
              "      <th>customerId</th>\n",
              "      <th>productId</th>\n",
              "      <th>purchase_count</th>\n",
              "      <th>purchase_dummy</th>\n",
              "    </tr>\n",
              "  </thead>\n",
              "  <tbody>\n",
              "    <tr>\n",
              "      <th>0</th>\n",
              "      <td>0</td>\n",
              "      <td>1</td>\n",
              "      <td>2</td>\n",
              "      <td>1</td>\n",
              "    </tr>\n",
              "    <tr>\n",
              "      <th>1</th>\n",
              "      <td>0</td>\n",
              "      <td>13</td>\n",
              "      <td>1</td>\n",
              "      <td>1</td>\n",
              "    </tr>\n",
              "    <tr>\n",
              "      <th>2</th>\n",
              "      <td>0</td>\n",
              "      <td>19</td>\n",
              "      <td>3</td>\n",
              "      <td>1</td>\n",
              "    </tr>\n",
              "    <tr>\n",
              "      <th>3</th>\n",
              "      <td>0</td>\n",
              "      <td>20</td>\n",
              "      <td>1</td>\n",
              "      <td>1</td>\n",
              "    </tr>\n",
              "    <tr>\n",
              "      <th>4</th>\n",
              "      <td>0</td>\n",
              "      <td>31</td>\n",
              "      <td>2</td>\n",
              "      <td>1</td>\n",
              "    </tr>\n",
              "    <tr>\n",
              "      <th>...</th>\n",
              "      <td>...</td>\n",
              "      <td>...</td>\n",
              "      <td>...</td>\n",
              "      <td>...</td>\n",
              "    </tr>\n",
              "    <tr>\n",
              "      <th>133580</th>\n",
              "      <td>28596</td>\n",
              "      <td>211</td>\n",
              "      <td>3</td>\n",
              "      <td>1</td>\n",
              "    </tr>\n",
              "    <tr>\n",
              "      <th>133581</th>\n",
              "      <td>28596</td>\n",
              "      <td>255</td>\n",
              "      <td>1</td>\n",
              "      <td>1</td>\n",
              "    </tr>\n",
              "    <tr>\n",
              "      <th>133582</th>\n",
              "      <td>28598</td>\n",
              "      <td>212</td>\n",
              "      <td>1</td>\n",
              "      <td>1</td>\n",
              "    </tr>\n",
              "    <tr>\n",
              "      <th>133583</th>\n",
              "      <td>28604</td>\n",
              "      <td>282</td>\n",
              "      <td>1</td>\n",
              "      <td>1</td>\n",
              "    </tr>\n",
              "    <tr>\n",
              "      <th>133584</th>\n",
              "      <td>28605</td>\n",
              "      <td>92</td>\n",
              "      <td>1</td>\n",
              "      <td>1</td>\n",
              "    </tr>\n",
              "  </tbody>\n",
              "</table>\n",
              "<p>133585 rows × 4 columns</p>\n",
              "</div>"
            ],
            "text/plain": [
              "        customerId  productId  purchase_count  purchase_dummy\n",
              "0                0          1               2               1\n",
              "1                0         13               1               1\n",
              "2                0         19               3               1\n",
              "3                0         20               1               1\n",
              "4                0         31               2               1\n",
              "...            ...        ...             ...             ...\n",
              "133580       28596        211               3               1\n",
              "133581       28596        255               1               1\n",
              "133582       28598        212               1               1\n",
              "133583       28604        282               1               1\n",
              "133584       28605         92               1               1\n",
              "\n",
              "[133585 rows x 4 columns]"
            ]
          },
          "metadata": {
            "tags": []
          },
          "execution_count": 64
        }
      ]
    },
    {
      "cell_type": "markdown",
      "metadata": {
        "id": "ZnrU55P11hhm"
      },
      "source": [
        "### 3.3. Normalizar os valores dos itens entre os usuários\n",
        "* Para fazer isso, normalizamos a frequência de compra de cada item entre os usuários, primeiro criando uma matriz de item de usuário da seguinte maneira"
      ]
    },
    {
      "cell_type": "code",
      "metadata": {
        "colab": {
          "base_uri": "https://localhost:8080/",
          "height": 276
        },
        "id": "7GZVEKS01hhn",
        "outputId": "99bb05c0-c3bc-4f5b-b78e-98fb54b042d2"
      },
      "source": [
        "df_matrix = pd.pivot_table(data, values='purchase_count', index='customerId', columns='productId')\n",
        "df_matrix.head()"
      ],
      "execution_count": 21,
      "outputs": [
        {
          "output_type": "execute_result",
          "data": {
            "text/html": [
              "<div>\n",
              "<style scoped>\n",
              "    .dataframe tbody tr th:only-of-type {\n",
              "        vertical-align: middle;\n",
              "    }\n",
              "\n",
              "    .dataframe tbody tr th {\n",
              "        vertical-align: top;\n",
              "    }\n",
              "\n",
              "    .dataframe thead th {\n",
              "        text-align: right;\n",
              "    }\n",
              "</style>\n",
              "<table border=\"1\" class=\"dataframe\">\n",
              "  <thead>\n",
              "    <tr style=\"text-align: right;\">\n",
              "      <th>productId</th>\n",
              "      <th>0</th>\n",
              "      <th>1</th>\n",
              "      <th>2</th>\n",
              "      <th>3</th>\n",
              "      <th>4</th>\n",
              "      <th>5</th>\n",
              "      <th>6</th>\n",
              "      <th>7</th>\n",
              "      <th>8</th>\n",
              "      <th>9</th>\n",
              "      <th>10</th>\n",
              "      <th>11</th>\n",
              "      <th>12</th>\n",
              "      <th>13</th>\n",
              "      <th>14</th>\n",
              "      <th>15</th>\n",
              "      <th>16</th>\n",
              "      <th>17</th>\n",
              "      <th>18</th>\n",
              "      <th>19</th>\n",
              "      <th>20</th>\n",
              "      <th>21</th>\n",
              "      <th>22</th>\n",
              "      <th>23</th>\n",
              "      <th>24</th>\n",
              "      <th>25</th>\n",
              "      <th>26</th>\n",
              "      <th>27</th>\n",
              "      <th>28</th>\n",
              "      <th>29</th>\n",
              "      <th>30</th>\n",
              "      <th>31</th>\n",
              "      <th>32</th>\n",
              "      <th>33</th>\n",
              "      <th>34</th>\n",
              "      <th>35</th>\n",
              "      <th>36</th>\n",
              "      <th>37</th>\n",
              "      <th>38</th>\n",
              "      <th>39</th>\n",
              "      <th>...</th>\n",
              "      <th>260</th>\n",
              "      <th>261</th>\n",
              "      <th>262</th>\n",
              "      <th>263</th>\n",
              "      <th>264</th>\n",
              "      <th>265</th>\n",
              "      <th>266</th>\n",
              "      <th>267</th>\n",
              "      <th>268</th>\n",
              "      <th>269</th>\n",
              "      <th>270</th>\n",
              "      <th>271</th>\n",
              "      <th>272</th>\n",
              "      <th>273</th>\n",
              "      <th>274</th>\n",
              "      <th>275</th>\n",
              "      <th>276</th>\n",
              "      <th>277</th>\n",
              "      <th>278</th>\n",
              "      <th>279</th>\n",
              "      <th>280</th>\n",
              "      <th>281</th>\n",
              "      <th>282</th>\n",
              "      <th>283</th>\n",
              "      <th>284</th>\n",
              "      <th>285</th>\n",
              "      <th>286</th>\n",
              "      <th>287</th>\n",
              "      <th>288</th>\n",
              "      <th>289</th>\n",
              "      <th>290</th>\n",
              "      <th>291</th>\n",
              "      <th>292</th>\n",
              "      <th>293</th>\n",
              "      <th>294</th>\n",
              "      <th>295</th>\n",
              "      <th>296</th>\n",
              "      <th>297</th>\n",
              "      <th>298</th>\n",
              "      <th>299</th>\n",
              "    </tr>\n",
              "    <tr>\n",
              "      <th>customerId</th>\n",
              "      <th></th>\n",
              "      <th></th>\n",
              "      <th></th>\n",
              "      <th></th>\n",
              "      <th></th>\n",
              "      <th></th>\n",
              "      <th></th>\n",
              "      <th></th>\n",
              "      <th></th>\n",
              "      <th></th>\n",
              "      <th></th>\n",
              "      <th></th>\n",
              "      <th></th>\n",
              "      <th></th>\n",
              "      <th></th>\n",
              "      <th></th>\n",
              "      <th></th>\n",
              "      <th></th>\n",
              "      <th></th>\n",
              "      <th></th>\n",
              "      <th></th>\n",
              "      <th></th>\n",
              "      <th></th>\n",
              "      <th></th>\n",
              "      <th></th>\n",
              "      <th></th>\n",
              "      <th></th>\n",
              "      <th></th>\n",
              "      <th></th>\n",
              "      <th></th>\n",
              "      <th></th>\n",
              "      <th></th>\n",
              "      <th></th>\n",
              "      <th></th>\n",
              "      <th></th>\n",
              "      <th></th>\n",
              "      <th></th>\n",
              "      <th></th>\n",
              "      <th></th>\n",
              "      <th></th>\n",
              "      <th></th>\n",
              "      <th></th>\n",
              "      <th></th>\n",
              "      <th></th>\n",
              "      <th></th>\n",
              "      <th></th>\n",
              "      <th></th>\n",
              "      <th></th>\n",
              "      <th></th>\n",
              "      <th></th>\n",
              "      <th></th>\n",
              "      <th></th>\n",
              "      <th></th>\n",
              "      <th></th>\n",
              "      <th></th>\n",
              "      <th></th>\n",
              "      <th></th>\n",
              "      <th></th>\n",
              "      <th></th>\n",
              "      <th></th>\n",
              "      <th></th>\n",
              "      <th></th>\n",
              "      <th></th>\n",
              "      <th></th>\n",
              "      <th></th>\n",
              "      <th></th>\n",
              "      <th></th>\n",
              "      <th></th>\n",
              "      <th></th>\n",
              "      <th></th>\n",
              "      <th></th>\n",
              "      <th></th>\n",
              "      <th></th>\n",
              "      <th></th>\n",
              "      <th></th>\n",
              "      <th></th>\n",
              "      <th></th>\n",
              "      <th></th>\n",
              "      <th></th>\n",
              "      <th></th>\n",
              "      <th></th>\n",
              "    </tr>\n",
              "  </thead>\n",
              "  <tbody>\n",
              "    <tr>\n",
              "      <th>0</th>\n",
              "      <td>NaN</td>\n",
              "      <td>2.0</td>\n",
              "      <td>NaN</td>\n",
              "      <td>NaN</td>\n",
              "      <td>NaN</td>\n",
              "      <td>NaN</td>\n",
              "      <td>NaN</td>\n",
              "      <td>NaN</td>\n",
              "      <td>NaN</td>\n",
              "      <td>NaN</td>\n",
              "      <td>NaN</td>\n",
              "      <td>NaN</td>\n",
              "      <td>NaN</td>\n",
              "      <td>1.0</td>\n",
              "      <td>NaN</td>\n",
              "      <td>NaN</td>\n",
              "      <td>NaN</td>\n",
              "      <td>NaN</td>\n",
              "      <td>NaN</td>\n",
              "      <td>3.0</td>\n",
              "      <td>1.0</td>\n",
              "      <td>NaN</td>\n",
              "      <td>NaN</td>\n",
              "      <td>NaN</td>\n",
              "      <td>NaN</td>\n",
              "      <td>NaN</td>\n",
              "      <td>NaN</td>\n",
              "      <td>NaN</td>\n",
              "      <td>NaN</td>\n",
              "      <td>NaN</td>\n",
              "      <td>NaN</td>\n",
              "      <td>2.0</td>\n",
              "      <td>NaN</td>\n",
              "      <td>NaN</td>\n",
              "      <td>NaN</td>\n",
              "      <td>NaN</td>\n",
              "      <td>NaN</td>\n",
              "      <td>NaN</td>\n",
              "      <td>NaN</td>\n",
              "      <td>NaN</td>\n",
              "      <td>...</td>\n",
              "      <td>5.0</td>\n",
              "      <td>NaN</td>\n",
              "      <td>NaN</td>\n",
              "      <td>NaN</td>\n",
              "      <td>NaN</td>\n",
              "      <td>NaN</td>\n",
              "      <td>NaN</td>\n",
              "      <td>NaN</td>\n",
              "      <td>NaN</td>\n",
              "      <td>NaN</td>\n",
              "      <td>NaN</td>\n",
              "      <td>NaN</td>\n",
              "      <td>NaN</td>\n",
              "      <td>NaN</td>\n",
              "      <td>NaN</td>\n",
              "      <td>NaN</td>\n",
              "      <td>NaN</td>\n",
              "      <td>NaN</td>\n",
              "      <td>NaN</td>\n",
              "      <td>NaN</td>\n",
              "      <td>NaN</td>\n",
              "      <td>NaN</td>\n",
              "      <td>NaN</td>\n",
              "      <td>NaN</td>\n",
              "      <td>NaN</td>\n",
              "      <td>NaN</td>\n",
              "      <td>NaN</td>\n",
              "      <td>NaN</td>\n",
              "      <td>NaN</td>\n",
              "      <td>NaN</td>\n",
              "      <td>NaN</td>\n",
              "      <td>NaN</td>\n",
              "      <td>NaN</td>\n",
              "      <td>NaN</td>\n",
              "      <td>NaN</td>\n",
              "      <td>NaN</td>\n",
              "      <td>NaN</td>\n",
              "      <td>NaN</td>\n",
              "      <td>NaN</td>\n",
              "      <td>NaN</td>\n",
              "    </tr>\n",
              "    <tr>\n",
              "      <th>1</th>\n",
              "      <td>NaN</td>\n",
              "      <td>NaN</td>\n",
              "      <td>6.0</td>\n",
              "      <td>NaN</td>\n",
              "      <td>NaN</td>\n",
              "      <td>NaN</td>\n",
              "      <td>NaN</td>\n",
              "      <td>NaN</td>\n",
              "      <td>NaN</td>\n",
              "      <td>NaN</td>\n",
              "      <td>NaN</td>\n",
              "      <td>NaN</td>\n",
              "      <td>NaN</td>\n",
              "      <td>NaN</td>\n",
              "      <td>NaN</td>\n",
              "      <td>NaN</td>\n",
              "      <td>NaN</td>\n",
              "      <td>NaN</td>\n",
              "      <td>NaN</td>\n",
              "      <td>NaN</td>\n",
              "      <td>NaN</td>\n",
              "      <td>NaN</td>\n",
              "      <td>NaN</td>\n",
              "      <td>1.0</td>\n",
              "      <td>NaN</td>\n",
              "      <td>1.0</td>\n",
              "      <td>NaN</td>\n",
              "      <td>NaN</td>\n",
              "      <td>NaN</td>\n",
              "      <td>1.0</td>\n",
              "      <td>NaN</td>\n",
              "      <td>NaN</td>\n",
              "      <td>NaN</td>\n",
              "      <td>NaN</td>\n",
              "      <td>NaN</td>\n",
              "      <td>NaN</td>\n",
              "      <td>NaN</td>\n",
              "      <td>NaN</td>\n",
              "      <td>NaN</td>\n",
              "      <td>NaN</td>\n",
              "      <td>...</td>\n",
              "      <td>NaN</td>\n",
              "      <td>NaN</td>\n",
              "      <td>NaN</td>\n",
              "      <td>NaN</td>\n",
              "      <td>NaN</td>\n",
              "      <td>NaN</td>\n",
              "      <td>NaN</td>\n",
              "      <td>NaN</td>\n",
              "      <td>NaN</td>\n",
              "      <td>NaN</td>\n",
              "      <td>NaN</td>\n",
              "      <td>NaN</td>\n",
              "      <td>NaN</td>\n",
              "      <td>NaN</td>\n",
              "      <td>1.0</td>\n",
              "      <td>NaN</td>\n",
              "      <td>NaN</td>\n",
              "      <td>NaN</td>\n",
              "      <td>NaN</td>\n",
              "      <td>NaN</td>\n",
              "      <td>NaN</td>\n",
              "      <td>NaN</td>\n",
              "      <td>NaN</td>\n",
              "      <td>NaN</td>\n",
              "      <td>NaN</td>\n",
              "      <td>1.0</td>\n",
              "      <td>NaN</td>\n",
              "      <td>NaN</td>\n",
              "      <td>NaN</td>\n",
              "      <td>NaN</td>\n",
              "      <td>NaN</td>\n",
              "      <td>NaN</td>\n",
              "      <td>NaN</td>\n",
              "      <td>1.0</td>\n",
              "      <td>NaN</td>\n",
              "      <td>NaN</td>\n",
              "      <td>1.0</td>\n",
              "      <td>NaN</td>\n",
              "      <td>NaN</td>\n",
              "      <td>NaN</td>\n",
              "    </tr>\n",
              "    <tr>\n",
              "      <th>2</th>\n",
              "      <td>NaN</td>\n",
              "      <td>NaN</td>\n",
              "      <td>NaN</td>\n",
              "      <td>NaN</td>\n",
              "      <td>NaN</td>\n",
              "      <td>NaN</td>\n",
              "      <td>NaN</td>\n",
              "      <td>NaN</td>\n",
              "      <td>NaN</td>\n",
              "      <td>NaN</td>\n",
              "      <td>NaN</td>\n",
              "      <td>3.0</td>\n",
              "      <td>NaN</td>\n",
              "      <td>NaN</td>\n",
              "      <td>NaN</td>\n",
              "      <td>NaN</td>\n",
              "      <td>NaN</td>\n",
              "      <td>NaN</td>\n",
              "      <td>NaN</td>\n",
              "      <td>NaN</td>\n",
              "      <td>NaN</td>\n",
              "      <td>NaN</td>\n",
              "      <td>NaN</td>\n",
              "      <td>1.0</td>\n",
              "      <td>NaN</td>\n",
              "      <td>NaN</td>\n",
              "      <td>NaN</td>\n",
              "      <td>NaN</td>\n",
              "      <td>NaN</td>\n",
              "      <td>1.0</td>\n",
              "      <td>NaN</td>\n",
              "      <td>NaN</td>\n",
              "      <td>NaN</td>\n",
              "      <td>1.0</td>\n",
              "      <td>NaN</td>\n",
              "      <td>NaN</td>\n",
              "      <td>NaN</td>\n",
              "      <td>NaN</td>\n",
              "      <td>NaN</td>\n",
              "      <td>NaN</td>\n",
              "      <td>...</td>\n",
              "      <td>NaN</td>\n",
              "      <td>NaN</td>\n",
              "      <td>NaN</td>\n",
              "      <td>NaN</td>\n",
              "      <td>NaN</td>\n",
              "      <td>NaN</td>\n",
              "      <td>NaN</td>\n",
              "      <td>NaN</td>\n",
              "      <td>NaN</td>\n",
              "      <td>NaN</td>\n",
              "      <td>NaN</td>\n",
              "      <td>NaN</td>\n",
              "      <td>NaN</td>\n",
              "      <td>NaN</td>\n",
              "      <td>NaN</td>\n",
              "      <td>NaN</td>\n",
              "      <td>NaN</td>\n",
              "      <td>NaN</td>\n",
              "      <td>NaN</td>\n",
              "      <td>NaN</td>\n",
              "      <td>NaN</td>\n",
              "      <td>NaN</td>\n",
              "      <td>NaN</td>\n",
              "      <td>NaN</td>\n",
              "      <td>NaN</td>\n",
              "      <td>NaN</td>\n",
              "      <td>NaN</td>\n",
              "      <td>NaN</td>\n",
              "      <td>NaN</td>\n",
              "      <td>NaN</td>\n",
              "      <td>NaN</td>\n",
              "      <td>NaN</td>\n",
              "      <td>NaN</td>\n",
              "      <td>NaN</td>\n",
              "      <td>NaN</td>\n",
              "      <td>NaN</td>\n",
              "      <td>NaN</td>\n",
              "      <td>NaN</td>\n",
              "      <td>NaN</td>\n",
              "      <td>NaN</td>\n",
              "    </tr>\n",
              "    <tr>\n",
              "      <th>3</th>\n",
              "      <td>NaN</td>\n",
              "      <td>NaN</td>\n",
              "      <td>NaN</td>\n",
              "      <td>NaN</td>\n",
              "      <td>NaN</td>\n",
              "      <td>NaN</td>\n",
              "      <td>NaN</td>\n",
              "      <td>NaN</td>\n",
              "      <td>NaN</td>\n",
              "      <td>NaN</td>\n",
              "      <td>NaN</td>\n",
              "      <td>NaN</td>\n",
              "      <td>NaN</td>\n",
              "      <td>NaN</td>\n",
              "      <td>NaN</td>\n",
              "      <td>NaN</td>\n",
              "      <td>NaN</td>\n",
              "      <td>NaN</td>\n",
              "      <td>NaN</td>\n",
              "      <td>NaN</td>\n",
              "      <td>NaN</td>\n",
              "      <td>NaN</td>\n",
              "      <td>NaN</td>\n",
              "      <td>NaN</td>\n",
              "      <td>NaN</td>\n",
              "      <td>1.0</td>\n",
              "      <td>NaN</td>\n",
              "      <td>NaN</td>\n",
              "      <td>NaN</td>\n",
              "      <td>NaN</td>\n",
              "      <td>NaN</td>\n",
              "      <td>NaN</td>\n",
              "      <td>NaN</td>\n",
              "      <td>NaN</td>\n",
              "      <td>NaN</td>\n",
              "      <td>NaN</td>\n",
              "      <td>NaN</td>\n",
              "      <td>NaN</td>\n",
              "      <td>NaN</td>\n",
              "      <td>NaN</td>\n",
              "      <td>...</td>\n",
              "      <td>NaN</td>\n",
              "      <td>NaN</td>\n",
              "      <td>NaN</td>\n",
              "      <td>NaN</td>\n",
              "      <td>NaN</td>\n",
              "      <td>NaN</td>\n",
              "      <td>NaN</td>\n",
              "      <td>NaN</td>\n",
              "      <td>NaN</td>\n",
              "      <td>NaN</td>\n",
              "      <td>NaN</td>\n",
              "      <td>NaN</td>\n",
              "      <td>NaN</td>\n",
              "      <td>NaN</td>\n",
              "      <td>NaN</td>\n",
              "      <td>NaN</td>\n",
              "      <td>NaN</td>\n",
              "      <td>NaN</td>\n",
              "      <td>NaN</td>\n",
              "      <td>NaN</td>\n",
              "      <td>NaN</td>\n",
              "      <td>NaN</td>\n",
              "      <td>NaN</td>\n",
              "      <td>NaN</td>\n",
              "      <td>NaN</td>\n",
              "      <td>NaN</td>\n",
              "      <td>NaN</td>\n",
              "      <td>NaN</td>\n",
              "      <td>NaN</td>\n",
              "      <td>NaN</td>\n",
              "      <td>NaN</td>\n",
              "      <td>NaN</td>\n",
              "      <td>NaN</td>\n",
              "      <td>NaN</td>\n",
              "      <td>NaN</td>\n",
              "      <td>NaN</td>\n",
              "      <td>NaN</td>\n",
              "      <td>NaN</td>\n",
              "      <td>NaN</td>\n",
              "      <td>NaN</td>\n",
              "    </tr>\n",
              "    <tr>\n",
              "      <th>4</th>\n",
              "      <td>NaN</td>\n",
              "      <td>NaN</td>\n",
              "      <td>NaN</td>\n",
              "      <td>NaN</td>\n",
              "      <td>NaN</td>\n",
              "      <td>NaN</td>\n",
              "      <td>NaN</td>\n",
              "      <td>NaN</td>\n",
              "      <td>NaN</td>\n",
              "      <td>NaN</td>\n",
              "      <td>NaN</td>\n",
              "      <td>NaN</td>\n",
              "      <td>NaN</td>\n",
              "      <td>NaN</td>\n",
              "      <td>NaN</td>\n",
              "      <td>2.0</td>\n",
              "      <td>NaN</td>\n",
              "      <td>NaN</td>\n",
              "      <td>NaN</td>\n",
              "      <td>NaN</td>\n",
              "      <td>NaN</td>\n",
              "      <td>NaN</td>\n",
              "      <td>NaN</td>\n",
              "      <td>NaN</td>\n",
              "      <td>NaN</td>\n",
              "      <td>NaN</td>\n",
              "      <td>NaN</td>\n",
              "      <td>NaN</td>\n",
              "      <td>NaN</td>\n",
              "      <td>NaN</td>\n",
              "      <td>NaN</td>\n",
              "      <td>NaN</td>\n",
              "      <td>NaN</td>\n",
              "      <td>NaN</td>\n",
              "      <td>NaN</td>\n",
              "      <td>NaN</td>\n",
              "      <td>NaN</td>\n",
              "      <td>NaN</td>\n",
              "      <td>NaN</td>\n",
              "      <td>NaN</td>\n",
              "      <td>...</td>\n",
              "      <td>NaN</td>\n",
              "      <td>NaN</td>\n",
              "      <td>NaN</td>\n",
              "      <td>NaN</td>\n",
              "      <td>NaN</td>\n",
              "      <td>NaN</td>\n",
              "      <td>NaN</td>\n",
              "      <td>NaN</td>\n",
              "      <td>NaN</td>\n",
              "      <td>NaN</td>\n",
              "      <td>1.0</td>\n",
              "      <td>NaN</td>\n",
              "      <td>NaN</td>\n",
              "      <td>NaN</td>\n",
              "      <td>NaN</td>\n",
              "      <td>NaN</td>\n",
              "      <td>NaN</td>\n",
              "      <td>NaN</td>\n",
              "      <td>NaN</td>\n",
              "      <td>NaN</td>\n",
              "      <td>NaN</td>\n",
              "      <td>NaN</td>\n",
              "      <td>NaN</td>\n",
              "      <td>NaN</td>\n",
              "      <td>NaN</td>\n",
              "      <td>NaN</td>\n",
              "      <td>NaN</td>\n",
              "      <td>NaN</td>\n",
              "      <td>NaN</td>\n",
              "      <td>1.0</td>\n",
              "      <td>NaN</td>\n",
              "      <td>NaN</td>\n",
              "      <td>NaN</td>\n",
              "      <td>NaN</td>\n",
              "      <td>NaN</td>\n",
              "      <td>NaN</td>\n",
              "      <td>NaN</td>\n",
              "      <td>NaN</td>\n",
              "      <td>NaN</td>\n",
              "      <td>NaN</td>\n",
              "    </tr>\n",
              "  </tbody>\n",
              "</table>\n",
              "<p>5 rows × 300 columns</p>\n",
              "</div>"
            ],
            "text/plain": [
              "productId   0    1    2    3    4    5    ...  294  295  296  297  298  299\n",
              "customerId                                ...                              \n",
              "0           NaN  2.0  NaN  NaN  NaN  NaN  ...  NaN  NaN  NaN  NaN  NaN  NaN\n",
              "1           NaN  NaN  6.0  NaN  NaN  NaN  ...  NaN  NaN  1.0  NaN  NaN  NaN\n",
              "2           NaN  NaN  NaN  NaN  NaN  NaN  ...  NaN  NaN  NaN  NaN  NaN  NaN\n",
              "3           NaN  NaN  NaN  NaN  NaN  NaN  ...  NaN  NaN  NaN  NaN  NaN  NaN\n",
              "4           NaN  NaN  NaN  NaN  NaN  NaN  ...  NaN  NaN  NaN  NaN  NaN  NaN\n",
              "\n",
              "[5 rows x 300 columns]"
            ]
          },
          "metadata": {
            "tags": []
          },
          "execution_count": 21
        }
      ]
    },
    {
      "cell_type": "code",
      "metadata": {
        "colab": {
          "base_uri": "https://localhost:8080/"
        },
        "id": "8RT7Ag4j1hhn",
        "outputId": "a81225f8-177f-4f7b-ba8b-d099e9f9fa60"
      },
      "source": [
        "(df_matrix.shape)"
      ],
      "execution_count": 22,
      "outputs": [
        {
          "output_type": "execute_result",
          "data": {
            "text/plain": [
              "(24429, 300)"
            ]
          },
          "metadata": {
            "tags": []
          },
          "execution_count": 22
        }
      ]
    },
    {
      "cell_type": "code",
      "metadata": {
        "colab": {
          "base_uri": "https://localhost:8080/",
          "height": 294
        },
        "id": "9Izq8Fbd1hhn",
        "outputId": "73f861de-7d4f-41c8-ea24-cf31b8264c03"
      },
      "source": [
        "df_matrix_norm = (df_matrix-df_matrix.min())/(df_matrix.max()-df_matrix.min())\n",
        "print(df_matrix_norm.shape)\n",
        "df_matrix_norm.head()"
      ],
      "execution_count": 23,
      "outputs": [
        {
          "output_type": "stream",
          "text": [
            "(24429, 300)\n"
          ],
          "name": "stdout"
        },
        {
          "output_type": "execute_result",
          "data": {
            "text/html": [
              "<div>\n",
              "<style scoped>\n",
              "    .dataframe tbody tr th:only-of-type {\n",
              "        vertical-align: middle;\n",
              "    }\n",
              "\n",
              "    .dataframe tbody tr th {\n",
              "        vertical-align: top;\n",
              "    }\n",
              "\n",
              "    .dataframe thead th {\n",
              "        text-align: right;\n",
              "    }\n",
              "</style>\n",
              "<table border=\"1\" class=\"dataframe\">\n",
              "  <thead>\n",
              "    <tr style=\"text-align: right;\">\n",
              "      <th>productId</th>\n",
              "      <th>0</th>\n",
              "      <th>1</th>\n",
              "      <th>2</th>\n",
              "      <th>3</th>\n",
              "      <th>4</th>\n",
              "      <th>5</th>\n",
              "      <th>6</th>\n",
              "      <th>7</th>\n",
              "      <th>8</th>\n",
              "      <th>9</th>\n",
              "      <th>10</th>\n",
              "      <th>11</th>\n",
              "      <th>12</th>\n",
              "      <th>13</th>\n",
              "      <th>14</th>\n",
              "      <th>15</th>\n",
              "      <th>16</th>\n",
              "      <th>17</th>\n",
              "      <th>18</th>\n",
              "      <th>19</th>\n",
              "      <th>20</th>\n",
              "      <th>21</th>\n",
              "      <th>22</th>\n",
              "      <th>23</th>\n",
              "      <th>24</th>\n",
              "      <th>25</th>\n",
              "      <th>26</th>\n",
              "      <th>27</th>\n",
              "      <th>28</th>\n",
              "      <th>29</th>\n",
              "      <th>30</th>\n",
              "      <th>31</th>\n",
              "      <th>32</th>\n",
              "      <th>33</th>\n",
              "      <th>34</th>\n",
              "      <th>35</th>\n",
              "      <th>36</th>\n",
              "      <th>37</th>\n",
              "      <th>38</th>\n",
              "      <th>39</th>\n",
              "      <th>...</th>\n",
              "      <th>260</th>\n",
              "      <th>261</th>\n",
              "      <th>262</th>\n",
              "      <th>263</th>\n",
              "      <th>264</th>\n",
              "      <th>265</th>\n",
              "      <th>266</th>\n",
              "      <th>267</th>\n",
              "      <th>268</th>\n",
              "      <th>269</th>\n",
              "      <th>270</th>\n",
              "      <th>271</th>\n",
              "      <th>272</th>\n",
              "      <th>273</th>\n",
              "      <th>274</th>\n",
              "      <th>275</th>\n",
              "      <th>276</th>\n",
              "      <th>277</th>\n",
              "      <th>278</th>\n",
              "      <th>279</th>\n",
              "      <th>280</th>\n",
              "      <th>281</th>\n",
              "      <th>282</th>\n",
              "      <th>283</th>\n",
              "      <th>284</th>\n",
              "      <th>285</th>\n",
              "      <th>286</th>\n",
              "      <th>287</th>\n",
              "      <th>288</th>\n",
              "      <th>289</th>\n",
              "      <th>290</th>\n",
              "      <th>291</th>\n",
              "      <th>292</th>\n",
              "      <th>293</th>\n",
              "      <th>294</th>\n",
              "      <th>295</th>\n",
              "      <th>296</th>\n",
              "      <th>297</th>\n",
              "      <th>298</th>\n",
              "      <th>299</th>\n",
              "    </tr>\n",
              "    <tr>\n",
              "      <th>customerId</th>\n",
              "      <th></th>\n",
              "      <th></th>\n",
              "      <th></th>\n",
              "      <th></th>\n",
              "      <th></th>\n",
              "      <th></th>\n",
              "      <th></th>\n",
              "      <th></th>\n",
              "      <th></th>\n",
              "      <th></th>\n",
              "      <th></th>\n",
              "      <th></th>\n",
              "      <th></th>\n",
              "      <th></th>\n",
              "      <th></th>\n",
              "      <th></th>\n",
              "      <th></th>\n",
              "      <th></th>\n",
              "      <th></th>\n",
              "      <th></th>\n",
              "      <th></th>\n",
              "      <th></th>\n",
              "      <th></th>\n",
              "      <th></th>\n",
              "      <th></th>\n",
              "      <th></th>\n",
              "      <th></th>\n",
              "      <th></th>\n",
              "      <th></th>\n",
              "      <th></th>\n",
              "      <th></th>\n",
              "      <th></th>\n",
              "      <th></th>\n",
              "      <th></th>\n",
              "      <th></th>\n",
              "      <th></th>\n",
              "      <th></th>\n",
              "      <th></th>\n",
              "      <th></th>\n",
              "      <th></th>\n",
              "      <th></th>\n",
              "      <th></th>\n",
              "      <th></th>\n",
              "      <th></th>\n",
              "      <th></th>\n",
              "      <th></th>\n",
              "      <th></th>\n",
              "      <th></th>\n",
              "      <th></th>\n",
              "      <th></th>\n",
              "      <th></th>\n",
              "      <th></th>\n",
              "      <th></th>\n",
              "      <th></th>\n",
              "      <th></th>\n",
              "      <th></th>\n",
              "      <th></th>\n",
              "      <th></th>\n",
              "      <th></th>\n",
              "      <th></th>\n",
              "      <th></th>\n",
              "      <th></th>\n",
              "      <th></th>\n",
              "      <th></th>\n",
              "      <th></th>\n",
              "      <th></th>\n",
              "      <th></th>\n",
              "      <th></th>\n",
              "      <th></th>\n",
              "      <th></th>\n",
              "      <th></th>\n",
              "      <th></th>\n",
              "      <th></th>\n",
              "      <th></th>\n",
              "      <th></th>\n",
              "      <th></th>\n",
              "      <th></th>\n",
              "      <th></th>\n",
              "      <th></th>\n",
              "      <th></th>\n",
              "      <th></th>\n",
              "    </tr>\n",
              "  </thead>\n",
              "  <tbody>\n",
              "    <tr>\n",
              "      <th>0</th>\n",
              "      <td>NaN</td>\n",
              "      <td>0.1</td>\n",
              "      <td>NaN</td>\n",
              "      <td>NaN</td>\n",
              "      <td>NaN</td>\n",
              "      <td>NaN</td>\n",
              "      <td>NaN</td>\n",
              "      <td>NaN</td>\n",
              "      <td>NaN</td>\n",
              "      <td>NaN</td>\n",
              "      <td>NaN</td>\n",
              "      <td>NaN</td>\n",
              "      <td>NaN</td>\n",
              "      <td>0.0</td>\n",
              "      <td>NaN</td>\n",
              "      <td>NaN</td>\n",
              "      <td>NaN</td>\n",
              "      <td>NaN</td>\n",
              "      <td>NaN</td>\n",
              "      <td>0.142857</td>\n",
              "      <td>0.0</td>\n",
              "      <td>NaN</td>\n",
              "      <td>NaN</td>\n",
              "      <td>NaN</td>\n",
              "      <td>NaN</td>\n",
              "      <td>NaN</td>\n",
              "      <td>NaN</td>\n",
              "      <td>NaN</td>\n",
              "      <td>NaN</td>\n",
              "      <td>NaN</td>\n",
              "      <td>NaN</td>\n",
              "      <td>0.2</td>\n",
              "      <td>NaN</td>\n",
              "      <td>NaN</td>\n",
              "      <td>NaN</td>\n",
              "      <td>NaN</td>\n",
              "      <td>NaN</td>\n",
              "      <td>NaN</td>\n",
              "      <td>NaN</td>\n",
              "      <td>NaN</td>\n",
              "      <td>...</td>\n",
              "      <td>0.571429</td>\n",
              "      <td>NaN</td>\n",
              "      <td>NaN</td>\n",
              "      <td>NaN</td>\n",
              "      <td>NaN</td>\n",
              "      <td>NaN</td>\n",
              "      <td>NaN</td>\n",
              "      <td>NaN</td>\n",
              "      <td>NaN</td>\n",
              "      <td>NaN</td>\n",
              "      <td>NaN</td>\n",
              "      <td>NaN</td>\n",
              "      <td>NaN</td>\n",
              "      <td>NaN</td>\n",
              "      <td>NaN</td>\n",
              "      <td>NaN</td>\n",
              "      <td>NaN</td>\n",
              "      <td>NaN</td>\n",
              "      <td>NaN</td>\n",
              "      <td>NaN</td>\n",
              "      <td>NaN</td>\n",
              "      <td>NaN</td>\n",
              "      <td>NaN</td>\n",
              "      <td>NaN</td>\n",
              "      <td>NaN</td>\n",
              "      <td>NaN</td>\n",
              "      <td>NaN</td>\n",
              "      <td>NaN</td>\n",
              "      <td>NaN</td>\n",
              "      <td>NaN</td>\n",
              "      <td>NaN</td>\n",
              "      <td>NaN</td>\n",
              "      <td>NaN</td>\n",
              "      <td>NaN</td>\n",
              "      <td>NaN</td>\n",
              "      <td>NaN</td>\n",
              "      <td>NaN</td>\n",
              "      <td>NaN</td>\n",
              "      <td>NaN</td>\n",
              "      <td>NaN</td>\n",
              "    </tr>\n",
              "    <tr>\n",
              "      <th>1</th>\n",
              "      <td>NaN</td>\n",
              "      <td>NaN</td>\n",
              "      <td>0.166667</td>\n",
              "      <td>NaN</td>\n",
              "      <td>NaN</td>\n",
              "      <td>NaN</td>\n",
              "      <td>NaN</td>\n",
              "      <td>NaN</td>\n",
              "      <td>NaN</td>\n",
              "      <td>NaN</td>\n",
              "      <td>NaN</td>\n",
              "      <td>NaN</td>\n",
              "      <td>NaN</td>\n",
              "      <td>NaN</td>\n",
              "      <td>NaN</td>\n",
              "      <td>NaN</td>\n",
              "      <td>NaN</td>\n",
              "      <td>NaN</td>\n",
              "      <td>NaN</td>\n",
              "      <td>NaN</td>\n",
              "      <td>NaN</td>\n",
              "      <td>NaN</td>\n",
              "      <td>NaN</td>\n",
              "      <td>0.0</td>\n",
              "      <td>NaN</td>\n",
              "      <td>0.0</td>\n",
              "      <td>NaN</td>\n",
              "      <td>NaN</td>\n",
              "      <td>NaN</td>\n",
              "      <td>0.0</td>\n",
              "      <td>NaN</td>\n",
              "      <td>NaN</td>\n",
              "      <td>NaN</td>\n",
              "      <td>NaN</td>\n",
              "      <td>NaN</td>\n",
              "      <td>NaN</td>\n",
              "      <td>NaN</td>\n",
              "      <td>NaN</td>\n",
              "      <td>NaN</td>\n",
              "      <td>NaN</td>\n",
              "      <td>...</td>\n",
              "      <td>NaN</td>\n",
              "      <td>NaN</td>\n",
              "      <td>NaN</td>\n",
              "      <td>NaN</td>\n",
              "      <td>NaN</td>\n",
              "      <td>NaN</td>\n",
              "      <td>NaN</td>\n",
              "      <td>NaN</td>\n",
              "      <td>NaN</td>\n",
              "      <td>NaN</td>\n",
              "      <td>NaN</td>\n",
              "      <td>NaN</td>\n",
              "      <td>NaN</td>\n",
              "      <td>NaN</td>\n",
              "      <td>0.0</td>\n",
              "      <td>NaN</td>\n",
              "      <td>NaN</td>\n",
              "      <td>NaN</td>\n",
              "      <td>NaN</td>\n",
              "      <td>NaN</td>\n",
              "      <td>NaN</td>\n",
              "      <td>NaN</td>\n",
              "      <td>NaN</td>\n",
              "      <td>NaN</td>\n",
              "      <td>NaN</td>\n",
              "      <td>0.0</td>\n",
              "      <td>NaN</td>\n",
              "      <td>NaN</td>\n",
              "      <td>NaN</td>\n",
              "      <td>NaN</td>\n",
              "      <td>NaN</td>\n",
              "      <td>NaN</td>\n",
              "      <td>NaN</td>\n",
              "      <td>0.0</td>\n",
              "      <td>NaN</td>\n",
              "      <td>NaN</td>\n",
              "      <td>0.0</td>\n",
              "      <td>NaN</td>\n",
              "      <td>NaN</td>\n",
              "      <td>NaN</td>\n",
              "    </tr>\n",
              "    <tr>\n",
              "      <th>2</th>\n",
              "      <td>NaN</td>\n",
              "      <td>NaN</td>\n",
              "      <td>NaN</td>\n",
              "      <td>NaN</td>\n",
              "      <td>NaN</td>\n",
              "      <td>NaN</td>\n",
              "      <td>NaN</td>\n",
              "      <td>NaN</td>\n",
              "      <td>NaN</td>\n",
              "      <td>NaN</td>\n",
              "      <td>NaN</td>\n",
              "      <td>0.1</td>\n",
              "      <td>NaN</td>\n",
              "      <td>NaN</td>\n",
              "      <td>NaN</td>\n",
              "      <td>NaN</td>\n",
              "      <td>NaN</td>\n",
              "      <td>NaN</td>\n",
              "      <td>NaN</td>\n",
              "      <td>NaN</td>\n",
              "      <td>NaN</td>\n",
              "      <td>NaN</td>\n",
              "      <td>NaN</td>\n",
              "      <td>0.0</td>\n",
              "      <td>NaN</td>\n",
              "      <td>NaN</td>\n",
              "      <td>NaN</td>\n",
              "      <td>NaN</td>\n",
              "      <td>NaN</td>\n",
              "      <td>0.0</td>\n",
              "      <td>NaN</td>\n",
              "      <td>NaN</td>\n",
              "      <td>NaN</td>\n",
              "      <td>0.0</td>\n",
              "      <td>NaN</td>\n",
              "      <td>NaN</td>\n",
              "      <td>NaN</td>\n",
              "      <td>NaN</td>\n",
              "      <td>NaN</td>\n",
              "      <td>NaN</td>\n",
              "      <td>...</td>\n",
              "      <td>NaN</td>\n",
              "      <td>NaN</td>\n",
              "      <td>NaN</td>\n",
              "      <td>NaN</td>\n",
              "      <td>NaN</td>\n",
              "      <td>NaN</td>\n",
              "      <td>NaN</td>\n",
              "      <td>NaN</td>\n",
              "      <td>NaN</td>\n",
              "      <td>NaN</td>\n",
              "      <td>NaN</td>\n",
              "      <td>NaN</td>\n",
              "      <td>NaN</td>\n",
              "      <td>NaN</td>\n",
              "      <td>NaN</td>\n",
              "      <td>NaN</td>\n",
              "      <td>NaN</td>\n",
              "      <td>NaN</td>\n",
              "      <td>NaN</td>\n",
              "      <td>NaN</td>\n",
              "      <td>NaN</td>\n",
              "      <td>NaN</td>\n",
              "      <td>NaN</td>\n",
              "      <td>NaN</td>\n",
              "      <td>NaN</td>\n",
              "      <td>NaN</td>\n",
              "      <td>NaN</td>\n",
              "      <td>NaN</td>\n",
              "      <td>NaN</td>\n",
              "      <td>NaN</td>\n",
              "      <td>NaN</td>\n",
              "      <td>NaN</td>\n",
              "      <td>NaN</td>\n",
              "      <td>NaN</td>\n",
              "      <td>NaN</td>\n",
              "      <td>NaN</td>\n",
              "      <td>NaN</td>\n",
              "      <td>NaN</td>\n",
              "      <td>NaN</td>\n",
              "      <td>NaN</td>\n",
              "    </tr>\n",
              "    <tr>\n",
              "      <th>3</th>\n",
              "      <td>NaN</td>\n",
              "      <td>NaN</td>\n",
              "      <td>NaN</td>\n",
              "      <td>NaN</td>\n",
              "      <td>NaN</td>\n",
              "      <td>NaN</td>\n",
              "      <td>NaN</td>\n",
              "      <td>NaN</td>\n",
              "      <td>NaN</td>\n",
              "      <td>NaN</td>\n",
              "      <td>NaN</td>\n",
              "      <td>NaN</td>\n",
              "      <td>NaN</td>\n",
              "      <td>NaN</td>\n",
              "      <td>NaN</td>\n",
              "      <td>NaN</td>\n",
              "      <td>NaN</td>\n",
              "      <td>NaN</td>\n",
              "      <td>NaN</td>\n",
              "      <td>NaN</td>\n",
              "      <td>NaN</td>\n",
              "      <td>NaN</td>\n",
              "      <td>NaN</td>\n",
              "      <td>NaN</td>\n",
              "      <td>NaN</td>\n",
              "      <td>0.0</td>\n",
              "      <td>NaN</td>\n",
              "      <td>NaN</td>\n",
              "      <td>NaN</td>\n",
              "      <td>NaN</td>\n",
              "      <td>NaN</td>\n",
              "      <td>NaN</td>\n",
              "      <td>NaN</td>\n",
              "      <td>NaN</td>\n",
              "      <td>NaN</td>\n",
              "      <td>NaN</td>\n",
              "      <td>NaN</td>\n",
              "      <td>NaN</td>\n",
              "      <td>NaN</td>\n",
              "      <td>NaN</td>\n",
              "      <td>...</td>\n",
              "      <td>NaN</td>\n",
              "      <td>NaN</td>\n",
              "      <td>NaN</td>\n",
              "      <td>NaN</td>\n",
              "      <td>NaN</td>\n",
              "      <td>NaN</td>\n",
              "      <td>NaN</td>\n",
              "      <td>NaN</td>\n",
              "      <td>NaN</td>\n",
              "      <td>NaN</td>\n",
              "      <td>NaN</td>\n",
              "      <td>NaN</td>\n",
              "      <td>NaN</td>\n",
              "      <td>NaN</td>\n",
              "      <td>NaN</td>\n",
              "      <td>NaN</td>\n",
              "      <td>NaN</td>\n",
              "      <td>NaN</td>\n",
              "      <td>NaN</td>\n",
              "      <td>NaN</td>\n",
              "      <td>NaN</td>\n",
              "      <td>NaN</td>\n",
              "      <td>NaN</td>\n",
              "      <td>NaN</td>\n",
              "      <td>NaN</td>\n",
              "      <td>NaN</td>\n",
              "      <td>NaN</td>\n",
              "      <td>NaN</td>\n",
              "      <td>NaN</td>\n",
              "      <td>NaN</td>\n",
              "      <td>NaN</td>\n",
              "      <td>NaN</td>\n",
              "      <td>NaN</td>\n",
              "      <td>NaN</td>\n",
              "      <td>NaN</td>\n",
              "      <td>NaN</td>\n",
              "      <td>NaN</td>\n",
              "      <td>NaN</td>\n",
              "      <td>NaN</td>\n",
              "      <td>NaN</td>\n",
              "    </tr>\n",
              "    <tr>\n",
              "      <th>4</th>\n",
              "      <td>NaN</td>\n",
              "      <td>NaN</td>\n",
              "      <td>NaN</td>\n",
              "      <td>NaN</td>\n",
              "      <td>NaN</td>\n",
              "      <td>NaN</td>\n",
              "      <td>NaN</td>\n",
              "      <td>NaN</td>\n",
              "      <td>NaN</td>\n",
              "      <td>NaN</td>\n",
              "      <td>NaN</td>\n",
              "      <td>NaN</td>\n",
              "      <td>NaN</td>\n",
              "      <td>NaN</td>\n",
              "      <td>NaN</td>\n",
              "      <td>0.022222</td>\n",
              "      <td>NaN</td>\n",
              "      <td>NaN</td>\n",
              "      <td>NaN</td>\n",
              "      <td>NaN</td>\n",
              "      <td>NaN</td>\n",
              "      <td>NaN</td>\n",
              "      <td>NaN</td>\n",
              "      <td>NaN</td>\n",
              "      <td>NaN</td>\n",
              "      <td>NaN</td>\n",
              "      <td>NaN</td>\n",
              "      <td>NaN</td>\n",
              "      <td>NaN</td>\n",
              "      <td>NaN</td>\n",
              "      <td>NaN</td>\n",
              "      <td>NaN</td>\n",
              "      <td>NaN</td>\n",
              "      <td>NaN</td>\n",
              "      <td>NaN</td>\n",
              "      <td>NaN</td>\n",
              "      <td>NaN</td>\n",
              "      <td>NaN</td>\n",
              "      <td>NaN</td>\n",
              "      <td>NaN</td>\n",
              "      <td>...</td>\n",
              "      <td>NaN</td>\n",
              "      <td>NaN</td>\n",
              "      <td>NaN</td>\n",
              "      <td>NaN</td>\n",
              "      <td>NaN</td>\n",
              "      <td>NaN</td>\n",
              "      <td>NaN</td>\n",
              "      <td>NaN</td>\n",
              "      <td>NaN</td>\n",
              "      <td>NaN</td>\n",
              "      <td>0.0</td>\n",
              "      <td>NaN</td>\n",
              "      <td>NaN</td>\n",
              "      <td>NaN</td>\n",
              "      <td>NaN</td>\n",
              "      <td>NaN</td>\n",
              "      <td>NaN</td>\n",
              "      <td>NaN</td>\n",
              "      <td>NaN</td>\n",
              "      <td>NaN</td>\n",
              "      <td>NaN</td>\n",
              "      <td>NaN</td>\n",
              "      <td>NaN</td>\n",
              "      <td>NaN</td>\n",
              "      <td>NaN</td>\n",
              "      <td>NaN</td>\n",
              "      <td>NaN</td>\n",
              "      <td>NaN</td>\n",
              "      <td>NaN</td>\n",
              "      <td>0.0</td>\n",
              "      <td>NaN</td>\n",
              "      <td>NaN</td>\n",
              "      <td>NaN</td>\n",
              "      <td>NaN</td>\n",
              "      <td>NaN</td>\n",
              "      <td>NaN</td>\n",
              "      <td>NaN</td>\n",
              "      <td>NaN</td>\n",
              "      <td>NaN</td>\n",
              "      <td>NaN</td>\n",
              "    </tr>\n",
              "  </tbody>\n",
              "</table>\n",
              "<p>5 rows × 300 columns</p>\n",
              "</div>"
            ],
            "text/plain": [
              "productId   0    1         2    3    4    5    ...  294  295  296  297  298  299\n",
              "customerId                                     ...                              \n",
              "0           NaN  0.1       NaN  NaN  NaN  NaN  ...  NaN  NaN  NaN  NaN  NaN  NaN\n",
              "1           NaN  NaN  0.166667  NaN  NaN  NaN  ...  NaN  NaN  0.0  NaN  NaN  NaN\n",
              "2           NaN  NaN       NaN  NaN  NaN  NaN  ...  NaN  NaN  NaN  NaN  NaN  NaN\n",
              "3           NaN  NaN       NaN  NaN  NaN  NaN  ...  NaN  NaN  NaN  NaN  NaN  NaN\n",
              "4           NaN  NaN       NaN  NaN  NaN  NaN  ...  NaN  NaN  NaN  NaN  NaN  NaN\n",
              "\n",
              "[5 rows x 300 columns]"
            ]
          },
          "metadata": {
            "tags": []
          },
          "execution_count": 23
        }
      ]
    },
    {
      "cell_type": "code",
      "metadata": {
        "colab": {
          "base_uri": "https://localhost:8080/",
          "height": 406
        },
        "id": "JNgY10nI1hhn",
        "outputId": "e4ff1b9c-643d-4df3-853f-d2782a52736c"
      },
      "source": [
        "# create a table for input to the modeling\n",
        "\n",
        "d = df_matrix_norm.reset_index()\n",
        "d.index.names = ['scaled_purchase_freq']\n",
        "data_norm = pd.melt(d, id_vars=['customerId'], value_name='scaled_purchase_freq').dropna()\n",
        "print(data_norm.shape)\n",
        "data_norm"
      ],
      "execution_count": 66,
      "outputs": [
        {
          "output_type": "execute_result",
          "data": {
            "text/html": [
              "<div>\n",
              "<style scoped>\n",
              "    .dataframe tbody tr th:only-of-type {\n",
              "        vertical-align: middle;\n",
              "    }\n",
              "\n",
              "    .dataframe tbody tr th {\n",
              "        vertical-align: top;\n",
              "    }\n",
              "\n",
              "    .dataframe thead th {\n",
              "        text-align: right;\n",
              "    }\n",
              "</style>\n",
              "<table border=\"1\" class=\"dataframe\">\n",
              "  <thead>\n",
              "    <tr style=\"text-align: right;\">\n",
              "      <th></th>\n",
              "      <th>customerId</th>\n",
              "      <th>productId</th>\n",
              "      <th>scaled_purchase_freq</th>\n",
              "    </tr>\n",
              "  </thead>\n",
              "  <tbody>\n",
              "    <tr>\n",
              "      <th>9</th>\n",
              "      <td>9</td>\n",
              "      <td>0</td>\n",
              "      <td>0.133333</td>\n",
              "    </tr>\n",
              "    <tr>\n",
              "      <th>25</th>\n",
              "      <td>25</td>\n",
              "      <td>0</td>\n",
              "      <td>0.133333</td>\n",
              "    </tr>\n",
              "    <tr>\n",
              "      <th>32</th>\n",
              "      <td>33</td>\n",
              "      <td>0</td>\n",
              "      <td>0.133333</td>\n",
              "    </tr>\n",
              "    <tr>\n",
              "      <th>35</th>\n",
              "      <td>36</td>\n",
              "      <td>0</td>\n",
              "      <td>0.133333</td>\n",
              "    </tr>\n",
              "    <tr>\n",
              "      <th>43</th>\n",
              "      <td>44</td>\n",
              "      <td>0</td>\n",
              "      <td>0.133333</td>\n",
              "    </tr>\n",
              "    <tr>\n",
              "      <th>...</th>\n",
              "      <td>...</td>\n",
              "      <td>...</td>\n",
              "      <td>...</td>\n",
              "    </tr>\n",
              "    <tr>\n",
              "      <th>7327308</th>\n",
              "      <td>26542</td>\n",
              "      <td>299</td>\n",
              "      <td>0.000000</td>\n",
              "    </tr>\n",
              "    <tr>\n",
              "      <th>7327378</th>\n",
              "      <td>26633</td>\n",
              "      <td>299</td>\n",
              "      <td>0.000000</td>\n",
              "    </tr>\n",
              "    <tr>\n",
              "      <th>7327554</th>\n",
              "      <td>26873</td>\n",
              "      <td>299</td>\n",
              "      <td>0.000000</td>\n",
              "    </tr>\n",
              "    <tr>\n",
              "      <th>7327649</th>\n",
              "      <td>26998</td>\n",
              "      <td>299</td>\n",
              "      <td>0.000000</td>\n",
              "    </tr>\n",
              "    <tr>\n",
              "      <th>7328386</th>\n",
              "      <td>28066</td>\n",
              "      <td>299</td>\n",
              "      <td>0.000000</td>\n",
              "    </tr>\n",
              "  </tbody>\n",
              "</table>\n",
              "<p>133585 rows × 3 columns</p>\n",
              "</div>"
            ],
            "text/plain": [
              "         customerId productId  scaled_purchase_freq\n",
              "9                 9         0              0.133333\n",
              "25               25         0              0.133333\n",
              "32               33         0              0.133333\n",
              "35               36         0              0.133333\n",
              "43               44         0              0.133333\n",
              "...             ...       ...                   ...\n",
              "7327308       26542       299              0.000000\n",
              "7327378       26633       299              0.000000\n",
              "7327554       26873       299              0.000000\n",
              "7327649       26998       299              0.000000\n",
              "7328386       28066       299              0.000000\n",
              "\n",
              "[133585 rows x 3 columns]"
            ]
          },
          "metadata": {
            "tags": []
          },
          "execution_count": 66
        }
      ]
    },
    {
      "cell_type": "markdown",
      "metadata": {
        "id": "y8TjzpXm1hho"
      },
      "source": [
        "#### Defina uma função para normalizar dados\r\n",
        "\r\n",
        "\r\n"
      ]
    },
    {
      "cell_type": "code",
      "metadata": {
        "collapsed": true,
        "id": "sn57RouR1hho"
      },
      "source": [
        "def normalize_data(data):\n",
        "    df_matrix = pd.pivot_table(data, values='purchase_count', index='customerId', columns='productId')\n",
        "    df_matrix_norm = (df_matrix-df_matrix.min())/(df_matrix.max()-df_matrix.min())\n",
        "    d = df_matrix_norm.reset_index()\n",
        "    d.index.names = ['scaled_purchase_freq']\n",
        "    return pd.melt(d, id_vars=['customerId'], value_name='scaled_purchase_freq').dropna()"
      ],
      "execution_count": 67,
      "outputs": []
    },
    {
      "cell_type": "markdown",
      "metadata": {
        "id": "uYTnZ-pq1hho"
      },
      "source": [
        "* Podemos normalizar o histórico de compras, de 0 a 1 (com 1 sendo o maior número de compras para um item e 0 sendo 0 contagem de compras para aquele item)."
      ]
    },
    {
      "cell_type": "markdown",
      "metadata": {
        "id": "eeLAtxO_1hho"
      },
      "source": [
        "## 4. Divida o conjunto de dados em treino e teste\n",
        "* Dividir os dados em conjuntos de treinamento e teste é uma parte importante da avaliação da modelagem preditiva, neste caso, um modelo de filtragem colaborativa. Normalmente, usamos uma parte maior dos dados para treinamento e uma parte menor para teste.\n",
        "* Usamos a proporção 80:20 para o tamanho do nosso conjunto de treino e teste.\n",
        "* Nossa parte de treinamento será usada para desenvolver um modelo preditivo, enquanto a outra para avaliar o desempenho do modelo.\n",
        "* Agora que temos três conjuntos de dados com contagens de compra, compras dummy e contagens de compra normalizadas, gostaríamos de dividir cada um."
      ]
    },
    {
      "cell_type": "code",
      "metadata": {
        "colab": {
          "base_uri": "https://localhost:8080/"
        },
        "id": "g1XC1nkx1hho",
        "outputId": "8501c5f4-b4b1-4d6e-b98b-0842794e02d7"
      },
      "source": [
        "train, test = train_test_split(data, test_size = .2)\n",
        "print(train.shape, test.shape)"
      ],
      "execution_count": 26,
      "outputs": [
        {
          "output_type": "stream",
          "text": [
            "(106868, 3) (26717, 3)\n"
          ],
          "name": "stdout"
        }
      ]
    },
    {
      "cell_type": "code",
      "metadata": {
        "collapsed": true,
        "id": "VE5kNGUF1hhp"
      },
      "source": [
        "# Using turicreate library, we convert dataframe to SFrame - this will be useful in the modeling part\n",
        "\n",
        "train_data = tc.SFrame(train)\n",
        "test_data = tc.SFrame(test)"
      ],
      "execution_count": 27,
      "outputs": []
    },
    {
      "cell_type": "code",
      "metadata": {
        "colab": {
          "base_uri": "https://localhost:8080/",
          "height": 252
        },
        "id": "wvIAJQ-u1hhp",
        "outputId": "f380f60e-2782-427b-f27e-a88341192779"
      },
      "source": [
        "train_data"
      ],
      "execution_count": 28,
      "outputs": [
        {
          "output_type": "execute_result",
          "data": {
            "text/html": [
              "<div style=\"max-height:1000px;max-width:1500px;overflow:auto;\"><table frame=\"box\" rules=\"cols\">\n",
              "    <tr>\n",
              "        <th style=\"padding-left: 1em; padding-right: 1em; text-align: center\">customerId</th>\n",
              "        <th style=\"padding-left: 1em; padding-right: 1em; text-align: center\">productId</th>\n",
              "        <th style=\"padding-left: 1em; padding-right: 1em; text-align: center\">purchase_count</th>\n",
              "    </tr>\n",
              "    <tr>\n",
              "        <td style=\"padding-left: 1em; padding-right: 1em; text-align: center; vertical-align: top\">11593</td>\n",
              "        <td style=\"padding-left: 1em; padding-right: 1em; text-align: center; vertical-align: top\">2</td>\n",
              "        <td style=\"padding-left: 1em; padding-right: 1em; text-align: center; vertical-align: top\">1</td>\n",
              "    </tr>\n",
              "    <tr>\n",
              "        <td style=\"padding-left: 1em; padding-right: 1em; text-align: center; vertical-align: top\">6730</td>\n",
              "        <td style=\"padding-left: 1em; padding-right: 1em; text-align: center; vertical-align: top\">198</td>\n",
              "        <td style=\"padding-left: 1em; padding-right: 1em; text-align: center; vertical-align: top\">2</td>\n",
              "    </tr>\n",
              "    <tr>\n",
              "        <td style=\"padding-left: 1em; padding-right: 1em; text-align: center; vertical-align: top\">2562</td>\n",
              "        <td style=\"padding-left: 1em; padding-right: 1em; text-align: center; vertical-align: top\">33</td>\n",
              "        <td style=\"padding-left: 1em; padding-right: 1em; text-align: center; vertical-align: top\">1</td>\n",
              "    </tr>\n",
              "    <tr>\n",
              "        <td style=\"padding-left: 1em; padding-right: 1em; text-align: center; vertical-align: top\">16231</td>\n",
              "        <td style=\"padding-left: 1em; padding-right: 1em; text-align: center; vertical-align: top\">239</td>\n",
              "        <td style=\"padding-left: 1em; padding-right: 1em; text-align: center; vertical-align: top\">1</td>\n",
              "    </tr>\n",
              "    <tr>\n",
              "        <td style=\"padding-left: 1em; padding-right: 1em; text-align: center; vertical-align: top\">20040</td>\n",
              "        <td style=\"padding-left: 1em; padding-right: 1em; text-align: center; vertical-align: top\">73</td>\n",
              "        <td style=\"padding-left: 1em; padding-right: 1em; text-align: center; vertical-align: top\">1</td>\n",
              "    </tr>\n",
              "    <tr>\n",
              "        <td style=\"padding-left: 1em; padding-right: 1em; text-align: center; vertical-align: top\">23274</td>\n",
              "        <td style=\"padding-left: 1em; padding-right: 1em; text-align: center; vertical-align: top\">15</td>\n",
              "        <td style=\"padding-left: 1em; padding-right: 1em; text-align: center; vertical-align: top\">1</td>\n",
              "    </tr>\n",
              "    <tr>\n",
              "        <td style=\"padding-left: 1em; padding-right: 1em; text-align: center; vertical-align: top\">12971</td>\n",
              "        <td style=\"padding-left: 1em; padding-right: 1em; text-align: center; vertical-align: top\">43</td>\n",
              "        <td style=\"padding-left: 1em; padding-right: 1em; text-align: center; vertical-align: top\">1</td>\n",
              "    </tr>\n",
              "    <tr>\n",
              "        <td style=\"padding-left: 1em; padding-right: 1em; text-align: center; vertical-align: top\">7223</td>\n",
              "        <td style=\"padding-left: 1em; padding-right: 1em; text-align: center; vertical-align: top\">13</td>\n",
              "        <td style=\"padding-left: 1em; padding-right: 1em; text-align: center; vertical-align: top\">2</td>\n",
              "    </tr>\n",
              "    <tr>\n",
              "        <td style=\"padding-left: 1em; padding-right: 1em; text-align: center; vertical-align: top\">247</td>\n",
              "        <td style=\"padding-left: 1em; padding-right: 1em; text-align: center; vertical-align: top\">85</td>\n",
              "        <td style=\"padding-left: 1em; padding-right: 1em; text-align: center; vertical-align: top\">1</td>\n",
              "    </tr>\n",
              "    <tr>\n",
              "        <td style=\"padding-left: 1em; padding-right: 1em; text-align: center; vertical-align: top\">7608</td>\n",
              "        <td style=\"padding-left: 1em; padding-right: 1em; text-align: center; vertical-align: top\">2</td>\n",
              "        <td style=\"padding-left: 1em; padding-right: 1em; text-align: center; vertical-align: top\">2</td>\n",
              "    </tr>\n",
              "</table>\n",
              "[106868 rows x 3 columns]<br/>Note: Only the head of the SFrame is printed.<br/>You can use print_rows(num_rows=m, num_columns=n) to print more rows and columns.\n",
              "</div>"
            ],
            "text/plain": [
              "Columns:\n",
              "\tcustomerId\tint\n",
              "\tproductId\tint\n",
              "\tpurchase_count\tint\n",
              "\n",
              "Rows: 106868\n",
              "\n",
              "Data:\n",
              "+------------+-----------+----------------+\n",
              "| customerId | productId | purchase_count |\n",
              "+------------+-----------+----------------+\n",
              "|   11593    |     2     |       1        |\n",
              "|    6730    |    198    |       2        |\n",
              "|    2562    |     33    |       1        |\n",
              "|   16231    |    239    |       1        |\n",
              "|   20040    |     73    |       1        |\n",
              "|   23274    |     15    |       1        |\n",
              "|   12971    |     43    |       1        |\n",
              "|    7223    |     13    |       2        |\n",
              "|    247     |     85    |       1        |\n",
              "|    7608    |     2     |       2        |\n",
              "+------------+-----------+----------------+\n",
              "[106868 rows x 3 columns]\n",
              "Note: Only the head of the SFrame is printed.\n",
              "You can use print_rows(num_rows=m, num_columns=n) to print more rows and columns."
            ]
          },
          "metadata": {
            "tags": []
          },
          "execution_count": 28
        }
      ]
    },
    {
      "cell_type": "code",
      "metadata": {
        "colab": {
          "base_uri": "https://localhost:8080/",
          "height": 252
        },
        "id": "m1MvxzgH1hhp",
        "outputId": "98b8398f-c6ad-4a04-86a2-6cf3134fa33e"
      },
      "source": [
        "test_data"
      ],
      "execution_count": 29,
      "outputs": [
        {
          "output_type": "execute_result",
          "data": {
            "text/html": [
              "<div style=\"max-height:1000px;max-width:1500px;overflow:auto;\"><table frame=\"box\" rules=\"cols\">\n",
              "    <tr>\n",
              "        <th style=\"padding-left: 1em; padding-right: 1em; text-align: center\">customerId</th>\n",
              "        <th style=\"padding-left: 1em; padding-right: 1em; text-align: center\">productId</th>\n",
              "        <th style=\"padding-left: 1em; padding-right: 1em; text-align: center\">purchase_count</th>\n",
              "    </tr>\n",
              "    <tr>\n",
              "        <td style=\"padding-left: 1em; padding-right: 1em; text-align: center; vertical-align: top\">23910</td>\n",
              "        <td style=\"padding-left: 1em; padding-right: 1em; text-align: center; vertical-align: top\">148</td>\n",
              "        <td style=\"padding-left: 1em; padding-right: 1em; text-align: center; vertical-align: top\">1</td>\n",
              "    </tr>\n",
              "    <tr>\n",
              "        <td style=\"padding-left: 1em; padding-right: 1em; text-align: center; vertical-align: top\">4999</td>\n",
              "        <td style=\"padding-left: 1em; padding-right: 1em; text-align: center; vertical-align: top\">54</td>\n",
              "        <td style=\"padding-left: 1em; padding-right: 1em; text-align: center; vertical-align: top\">1</td>\n",
              "    </tr>\n",
              "    <tr>\n",
              "        <td style=\"padding-left: 1em; padding-right: 1em; text-align: center; vertical-align: top\">26644</td>\n",
              "        <td style=\"padding-left: 1em; padding-right: 1em; text-align: center; vertical-align: top\">212</td>\n",
              "        <td style=\"padding-left: 1em; padding-right: 1em; text-align: center; vertical-align: top\">1</td>\n",
              "    </tr>\n",
              "    <tr>\n",
              "        <td style=\"padding-left: 1em; padding-right: 1em; text-align: center; vertical-align: top\">7938</td>\n",
              "        <td style=\"padding-left: 1em; padding-right: 1em; text-align: center; vertical-align: top\">14</td>\n",
              "        <td style=\"padding-left: 1em; padding-right: 1em; text-align: center; vertical-align: top\">1</td>\n",
              "    </tr>\n",
              "    <tr>\n",
              "        <td style=\"padding-left: 1em; padding-right: 1em; text-align: center; vertical-align: top\">111</td>\n",
              "        <td style=\"padding-left: 1em; padding-right: 1em; text-align: center; vertical-align: top\">57</td>\n",
              "        <td style=\"padding-left: 1em; padding-right: 1em; text-align: center; vertical-align: top\">1</td>\n",
              "    </tr>\n",
              "    <tr>\n",
              "        <td style=\"padding-left: 1em; padding-right: 1em; text-align: center; vertical-align: top\">8075</td>\n",
              "        <td style=\"padding-left: 1em; padding-right: 1em; text-align: center; vertical-align: top\">2</td>\n",
              "        <td style=\"padding-left: 1em; padding-right: 1em; text-align: center; vertical-align: top\">2</td>\n",
              "    </tr>\n",
              "    <tr>\n",
              "        <td style=\"padding-left: 1em; padding-right: 1em; text-align: center; vertical-align: top\">1870</td>\n",
              "        <td style=\"padding-left: 1em; padding-right: 1em; text-align: center; vertical-align: top\">175</td>\n",
              "        <td style=\"padding-left: 1em; padding-right: 1em; text-align: center; vertical-align: top\">1</td>\n",
              "    </tr>\n",
              "    <tr>\n",
              "        <td style=\"padding-left: 1em; padding-right: 1em; text-align: center; vertical-align: top\">3938</td>\n",
              "        <td style=\"padding-left: 1em; padding-right: 1em; text-align: center; vertical-align: top\">205</td>\n",
              "        <td style=\"padding-left: 1em; padding-right: 1em; text-align: center; vertical-align: top\">1</td>\n",
              "    </tr>\n",
              "    <tr>\n",
              "        <td style=\"padding-left: 1em; padding-right: 1em; text-align: center; vertical-align: top\">10026</td>\n",
              "        <td style=\"padding-left: 1em; padding-right: 1em; text-align: center; vertical-align: top\">255</td>\n",
              "        <td style=\"padding-left: 1em; padding-right: 1em; text-align: center; vertical-align: top\">1</td>\n",
              "    </tr>\n",
              "    <tr>\n",
              "        <td style=\"padding-left: 1em; padding-right: 1em; text-align: center; vertical-align: top\">3881</td>\n",
              "        <td style=\"padding-left: 1em; padding-right: 1em; text-align: center; vertical-align: top\">49</td>\n",
              "        <td style=\"padding-left: 1em; padding-right: 1em; text-align: center; vertical-align: top\">1</td>\n",
              "    </tr>\n",
              "</table>\n",
              "[26717 rows x 3 columns]<br/>Note: Only the head of the SFrame is printed.<br/>You can use print_rows(num_rows=m, num_columns=n) to print more rows and columns.\n",
              "</div>"
            ],
            "text/plain": [
              "Columns:\n",
              "\tcustomerId\tint\n",
              "\tproductId\tint\n",
              "\tpurchase_count\tint\n",
              "\n",
              "Rows: 26717\n",
              "\n",
              "Data:\n",
              "+------------+-----------+----------------+\n",
              "| customerId | productId | purchase_count |\n",
              "+------------+-----------+----------------+\n",
              "|   23910    |    148    |       1        |\n",
              "|    4999    |     54    |       1        |\n",
              "|   26644    |    212    |       1        |\n",
              "|    7938    |     14    |       1        |\n",
              "|    111     |     57    |       1        |\n",
              "|    8075    |     2     |       2        |\n",
              "|    1870    |    175    |       1        |\n",
              "|    3938    |    205    |       1        |\n",
              "|   10026    |    255    |       1        |\n",
              "|    3881    |     49    |       1        |\n",
              "+------------+-----------+----------------+\n",
              "[26717 rows x 3 columns]\n",
              "Note: Only the head of the SFrame is printed.\n",
              "You can use print_rows(num_rows=m, num_columns=n) to print more rows and columns."
            ]
          },
          "metadata": {
            "tags": []
          },
          "execution_count": 29
        }
      ]
    },
    {
      "cell_type": "markdown",
      "metadata": {
        "id": "W26LkD7b1hhp"
      },
      "source": [
        "#### Define a função `split_data` para dividir os dados de treino e teste"
      ]
    },
    {
      "cell_type": "code",
      "metadata": {
        "collapsed": true,
        "id": "pnMMl0JK1hhq"
      },
      "source": [
        "# We can define a function for this step as follows\n",
        "\n",
        "def split_data(data):\n",
        "    '''\n",
        "    Splits dataset into training and test set.\n",
        "    \n",
        "    Args:\n",
        "        data (pandas.DataFrame)\n",
        "        \n",
        "    Returns\n",
        "        train_data (tc.SFrame)\n",
        "        test_data (tc.SFrame)\n",
        "    '''\n",
        "    train, test = train_test_split(data, test_size = .2)\n",
        "    train_data = tc.SFrame(train)\n",
        "    test_data = tc.SFrame(test)\n",
        "    return train_data, test_data"
      ],
      "execution_count": 30,
      "outputs": []
    },
    {
      "cell_type": "code",
      "metadata": {
        "id": "gDxGxpti1hhq"
      },
      "source": [
        "# lets try with both dummy table and scaled/normalized purchase table\n",
        "\n",
        "train_data_dummy, test_data_dummy = split_data(data_dummy)\n",
        "train_data_norm, test_data_norm = split_data(data_norm)"
      ],
      "execution_count": 31,
      "outputs": []
    },
    {
      "cell_type": "markdown",
      "metadata": {
        "collapsed": false,
        "id": "REpMuP101hhq"
      },
      "source": [
        "## 5. Modelo básico\n",
        "Antes de executar uma abordagem mais complicada, como filtragem colaborativa, gostaríamos de usar um modelo básico para comparar e avaliar modelos. Esse modelo normalmente usa uma abordagem muito simples, as técnicas usadas além dessa abordagem devem ser escolhidas se mostrarem precisão e complexidade relativamente melhores.\n",
        "\n",
        "### 5.1. Usando um modelo de popularidade como modelo básico\n",
        "* O modelo de popularidade usa os itens mais populares para recomendação. Esses itens são produtos com o maior número de vendas entre os clientes.\n",
        "* Usamos a biblioteca `turicreate` para executar e avaliar os modelos de filtragem básico e colaborativo abaixo\n",
        "* Os dados de treinamento são usados ​​para a seleção do modelo\n",
        "\n",
        "#### Usando contagens de compra"
      ]
    },
    {
      "cell_type": "code",
      "metadata": {
        "collapsed": true,
        "id": "KnMSaFmp1hhq"
      },
      "source": [
        "# variables to define field names\n",
        "user_id = 'customerId'\n",
        "item_id = 'productId'\n",
        "target = 'purchase_count'\n",
        "users_to_recommend = list(transactions[user_id])\n",
        "n_rec = 10 # number of items to recommend\n",
        "n_display = 30"
      ],
      "execution_count": 32,
      "outputs": []
    },
    {
      "cell_type": "code",
      "metadata": {
        "colab": {
          "base_uri": "https://localhost:8080/",
          "height": 83
        },
        "id": "gpU7KiZt1hhq",
        "outputId": "b1b71e49-a5ee-445c-eff8-02e29b959a5e"
      },
      "source": [
        "popularity_model = tc.popularity_recommender.create(train_data, \n",
        "                                                    user_id=user_id, \n",
        "                                                    item_id=item_id, \n",
        "                                                    target=target)"
      ],
      "execution_count": 33,
      "outputs": [
        {
          "output_type": "display_data",
          "data": {
            "text/html": [
              "<pre>Preparing data set.</pre>"
            ],
            "text/plain": [
              "Preparing data set."
            ]
          },
          "metadata": {
            "tags": []
          }
        },
        {
          "output_type": "display_data",
          "data": {
            "text/html": [
              "<pre>    Data has 106868 observations with 23277 users and 300 items.</pre>"
            ],
            "text/plain": [
              "    Data has 106868 observations with 23277 users and 300 items."
            ]
          },
          "metadata": {
            "tags": []
          }
        },
        {
          "output_type": "display_data",
          "data": {
            "text/html": [
              "<pre>    Data prepared in: 0.151261s</pre>"
            ],
            "text/plain": [
              "    Data prepared in: 0.151261s"
            ]
          },
          "metadata": {
            "tags": []
          }
        },
        {
          "output_type": "display_data",
          "data": {
            "text/html": [
              "<pre>106868 observations to process; with 300 unique items.</pre>"
            ],
            "text/plain": [
              "106868 observations to process; with 300 unique items."
            ]
          },
          "metadata": {
            "tags": []
          }
        }
      ]
    },
    {
      "cell_type": "code",
      "metadata": {
        "colab": {
          "base_uri": "https://localhost:8080/",
          "height": 1000
        },
        "id": "1TIs9_ik1hhr",
        "outputId": "68548a5b-4d15-4882-e9a7-5ff770051ff4"
      },
      "source": [
        "# Get recommendations for a list of users to recommend (from customers file)\n",
        "# Printed below is head / top 30 rows for first 3 customers with 10 recommendations each\n",
        "\n",
        "popularity_recomm = popularity_model.recommend(users=users_to_recommend, k=n_rec)\n",
        "popularity_recomm.print_rows(n_display)"
      ],
      "execution_count": 34,
      "outputs": [
        {
          "output_type": "display_data",
          "data": {
            "text/html": [
              "<pre>recommendations finished on 1000/62483 queries. users per second: 101020</pre>"
            ],
            "text/plain": [
              "recommendations finished on 1000/62483 queries. users per second: 101020"
            ]
          },
          "metadata": {
            "tags": []
          }
        },
        {
          "output_type": "display_data",
          "data": {
            "text/html": [
              "<pre>recommendations finished on 2000/62483 queries. users per second: 99339.4</pre>"
            ],
            "text/plain": [
              "recommendations finished on 2000/62483 queries. users per second: 99339.4"
            ]
          },
          "metadata": {
            "tags": []
          }
        },
        {
          "output_type": "display_data",
          "data": {
            "text/html": [
              "<pre>recommendations finished on 3000/62483 queries. users per second: 103573</pre>"
            ],
            "text/plain": [
              "recommendations finished on 3000/62483 queries. users per second: 103573"
            ]
          },
          "metadata": {
            "tags": []
          }
        },
        {
          "output_type": "display_data",
          "data": {
            "text/html": [
              "<pre>recommendations finished on 4000/62483 queries. users per second: 107026</pre>"
            ],
            "text/plain": [
              "recommendations finished on 4000/62483 queries. users per second: 107026"
            ]
          },
          "metadata": {
            "tags": []
          }
        },
        {
          "output_type": "display_data",
          "data": {
            "text/html": [
              "<pre>recommendations finished on 5000/62483 queries. users per second: 109426</pre>"
            ],
            "text/plain": [
              "recommendations finished on 5000/62483 queries. users per second: 109426"
            ]
          },
          "metadata": {
            "tags": []
          }
        },
        {
          "output_type": "display_data",
          "data": {
            "text/html": [
              "<pre>recommendations finished on 6000/62483 queries. users per second: 112095</pre>"
            ],
            "text/plain": [
              "recommendations finished on 6000/62483 queries. users per second: 112095"
            ]
          },
          "metadata": {
            "tags": []
          }
        },
        {
          "output_type": "display_data",
          "data": {
            "text/html": [
              "<pre>recommendations finished on 7000/62483 queries. users per second: 107810</pre>"
            ],
            "text/plain": [
              "recommendations finished on 7000/62483 queries. users per second: 107810"
            ]
          },
          "metadata": {
            "tags": []
          }
        },
        {
          "output_type": "display_data",
          "data": {
            "text/html": [
              "<pre>recommendations finished on 8000/62483 queries. users per second: 106953</pre>"
            ],
            "text/plain": [
              "recommendations finished on 8000/62483 queries. users per second: 106953"
            ]
          },
          "metadata": {
            "tags": []
          }
        },
        {
          "output_type": "display_data",
          "data": {
            "text/html": [
              "<pre>recommendations finished on 9000/62483 queries. users per second: 105022</pre>"
            ],
            "text/plain": [
              "recommendations finished on 9000/62483 queries. users per second: 105022"
            ]
          },
          "metadata": {
            "tags": []
          }
        },
        {
          "output_type": "display_data",
          "data": {
            "text/html": [
              "<pre>recommendations finished on 10000/62483 queries. users per second: 105845</pre>"
            ],
            "text/plain": [
              "recommendations finished on 10000/62483 queries. users per second: 105845"
            ]
          },
          "metadata": {
            "tags": []
          }
        },
        {
          "output_type": "display_data",
          "data": {
            "text/html": [
              "<pre>recommendations finished on 11000/62483 queries. users per second: 105768</pre>"
            ],
            "text/plain": [
              "recommendations finished on 11000/62483 queries. users per second: 105768"
            ]
          },
          "metadata": {
            "tags": []
          }
        },
        {
          "output_type": "display_data",
          "data": {
            "text/html": [
              "<pre>recommendations finished on 12000/62483 queries. users per second: 106383</pre>"
            ],
            "text/plain": [
              "recommendations finished on 12000/62483 queries. users per second: 106383"
            ]
          },
          "metadata": {
            "tags": []
          }
        },
        {
          "output_type": "display_data",
          "data": {
            "text/html": [
              "<pre>recommendations finished on 13000/62483 queries. users per second: 106493</pre>"
            ],
            "text/plain": [
              "recommendations finished on 13000/62483 queries. users per second: 106493"
            ]
          },
          "metadata": {
            "tags": []
          }
        },
        {
          "output_type": "display_data",
          "data": {
            "text/html": [
              "<pre>recommendations finished on 14000/62483 queries. users per second: 108015</pre>"
            ],
            "text/plain": [
              "recommendations finished on 14000/62483 queries. users per second: 108015"
            ]
          },
          "metadata": {
            "tags": []
          }
        },
        {
          "output_type": "display_data",
          "data": {
            "text/html": [
              "<pre>recommendations finished on 15000/62483 queries. users per second: 107658</pre>"
            ],
            "text/plain": [
              "recommendations finished on 15000/62483 queries. users per second: 107658"
            ]
          },
          "metadata": {
            "tags": []
          }
        },
        {
          "output_type": "display_data",
          "data": {
            "text/html": [
              "<pre>recommendations finished on 16000/62483 queries. users per second: 107546</pre>"
            ],
            "text/plain": [
              "recommendations finished on 16000/62483 queries. users per second: 107546"
            ]
          },
          "metadata": {
            "tags": []
          }
        },
        {
          "output_type": "display_data",
          "data": {
            "text/html": [
              "<pre>recommendations finished on 17000/62483 queries. users per second: 106257</pre>"
            ],
            "text/plain": [
              "recommendations finished on 17000/62483 queries. users per second: 106257"
            ]
          },
          "metadata": {
            "tags": []
          }
        },
        {
          "output_type": "display_data",
          "data": {
            "text/html": [
              "<pre>recommendations finished on 18000/62483 queries. users per second: 107650</pre>"
            ],
            "text/plain": [
              "recommendations finished on 18000/62483 queries. users per second: 107650"
            ]
          },
          "metadata": {
            "tags": []
          }
        },
        {
          "output_type": "display_data",
          "data": {
            "text/html": [
              "<pre>recommendations finished on 19000/62483 queries. users per second: 107643</pre>"
            ],
            "text/plain": [
              "recommendations finished on 19000/62483 queries. users per second: 107643"
            ]
          },
          "metadata": {
            "tags": []
          }
        },
        {
          "output_type": "display_data",
          "data": {
            "text/html": [
              "<pre>recommendations finished on 20000/62483 queries. users per second: 107990</pre>"
            ],
            "text/plain": [
              "recommendations finished on 20000/62483 queries. users per second: 107990"
            ]
          },
          "metadata": {
            "tags": []
          }
        },
        {
          "output_type": "display_data",
          "data": {
            "text/html": [
              "<pre>recommendations finished on 21000/62483 queries. users per second: 108186</pre>"
            ],
            "text/plain": [
              "recommendations finished on 21000/62483 queries. users per second: 108186"
            ]
          },
          "metadata": {
            "tags": []
          }
        },
        {
          "output_type": "display_data",
          "data": {
            "text/html": [
              "<pre>recommendations finished on 22000/62483 queries. users per second: 109030</pre>"
            ],
            "text/plain": [
              "recommendations finished on 22000/62483 queries. users per second: 109030"
            ]
          },
          "metadata": {
            "tags": []
          }
        },
        {
          "output_type": "display_data",
          "data": {
            "text/html": [
              "<pre>recommendations finished on 23000/62483 queries. users per second: 108876</pre>"
            ],
            "text/plain": [
              "recommendations finished on 23000/62483 queries. users per second: 108876"
            ]
          },
          "metadata": {
            "tags": []
          }
        },
        {
          "output_type": "display_data",
          "data": {
            "text/html": [
              "<pre>recommendations finished on 24000/62483 queries. users per second: 108170</pre>"
            ],
            "text/plain": [
              "recommendations finished on 24000/62483 queries. users per second: 108170"
            ]
          },
          "metadata": {
            "tags": []
          }
        },
        {
          "output_type": "display_data",
          "data": {
            "text/html": [
              "<pre>recommendations finished on 25000/62483 queries. users per second: 108355</pre>"
            ],
            "text/plain": [
              "recommendations finished on 25000/62483 queries. users per second: 108355"
            ]
          },
          "metadata": {
            "tags": []
          }
        },
        {
          "output_type": "display_data",
          "data": {
            "text/html": [
              "<pre>recommendations finished on 26000/62483 queries. users per second: 109233</pre>"
            ],
            "text/plain": [
              "recommendations finished on 26000/62483 queries. users per second: 109233"
            ]
          },
          "metadata": {
            "tags": []
          }
        },
        {
          "output_type": "display_data",
          "data": {
            "text/html": [
              "<pre>recommendations finished on 27000/62483 queries. users per second: 108816</pre>"
            ],
            "text/plain": [
              "recommendations finished on 27000/62483 queries. users per second: 108816"
            ]
          },
          "metadata": {
            "tags": []
          }
        },
        {
          "output_type": "display_data",
          "data": {
            "text/html": [
              "<pre>recommendations finished on 28000/62483 queries. users per second: 101946</pre>"
            ],
            "text/plain": [
              "recommendations finished on 28000/62483 queries. users per second: 101946"
            ]
          },
          "metadata": {
            "tags": []
          }
        },
        {
          "output_type": "display_data",
          "data": {
            "text/html": [
              "<pre>recommendations finished on 29000/62483 queries. users per second: 101418</pre>"
            ],
            "text/plain": [
              "recommendations finished on 29000/62483 queries. users per second: 101418"
            ]
          },
          "metadata": {
            "tags": []
          }
        },
        {
          "output_type": "display_data",
          "data": {
            "text/html": [
              "<pre>recommendations finished on 30000/62483 queries. users per second: 101694</pre>"
            ],
            "text/plain": [
              "recommendations finished on 30000/62483 queries. users per second: 101694"
            ]
          },
          "metadata": {
            "tags": []
          }
        },
        {
          "output_type": "display_data",
          "data": {
            "text/html": [
              "<pre>recommendations finished on 31000/62483 queries. users per second: 101590</pre>"
            ],
            "text/plain": [
              "recommendations finished on 31000/62483 queries. users per second: 101590"
            ]
          },
          "metadata": {
            "tags": []
          }
        },
        {
          "output_type": "display_data",
          "data": {
            "text/html": [
              "<pre>recommendations finished on 32000/62483 queries. users per second: 102292</pre>"
            ],
            "text/plain": [
              "recommendations finished on 32000/62483 queries. users per second: 102292"
            ]
          },
          "metadata": {
            "tags": []
          }
        },
        {
          "output_type": "display_data",
          "data": {
            "text/html": [
              "<pre>recommendations finished on 33000/62483 queries. users per second: 102035</pre>"
            ],
            "text/plain": [
              "recommendations finished on 33000/62483 queries. users per second: 102035"
            ]
          },
          "metadata": {
            "tags": []
          }
        },
        {
          "output_type": "display_data",
          "data": {
            "text/html": [
              "<pre>recommendations finished on 34000/62483 queries. users per second: 102393</pre>"
            ],
            "text/plain": [
              "recommendations finished on 34000/62483 queries. users per second: 102393"
            ]
          },
          "metadata": {
            "tags": []
          }
        },
        {
          "output_type": "display_data",
          "data": {
            "text/html": [
              "<pre>recommendations finished on 35000/62483 queries. users per second: 102173</pre>"
            ],
            "text/plain": [
              "recommendations finished on 35000/62483 queries. users per second: 102173"
            ]
          },
          "metadata": {
            "tags": []
          }
        },
        {
          "output_type": "display_data",
          "data": {
            "text/html": [
              "<pre>recommendations finished on 36000/62483 queries. users per second: 102309</pre>"
            ],
            "text/plain": [
              "recommendations finished on 36000/62483 queries. users per second: 102309"
            ]
          },
          "metadata": {
            "tags": []
          }
        },
        {
          "output_type": "display_data",
          "data": {
            "text/html": [
              "<pre>recommendations finished on 37000/62483 queries. users per second: 102239</pre>"
            ],
            "text/plain": [
              "recommendations finished on 37000/62483 queries. users per second: 102239"
            ]
          },
          "metadata": {
            "tags": []
          }
        },
        {
          "output_type": "display_data",
          "data": {
            "text/html": [
              "<pre>recommendations finished on 38000/62483 queries. users per second: 102262</pre>"
            ],
            "text/plain": [
              "recommendations finished on 38000/62483 queries. users per second: 102262"
            ]
          },
          "metadata": {
            "tags": []
          }
        },
        {
          "output_type": "display_data",
          "data": {
            "text/html": [
              "<pre>recommendations finished on 39000/62483 queries. users per second: 100657</pre>"
            ],
            "text/plain": [
              "recommendations finished on 39000/62483 queries. users per second: 100657"
            ]
          },
          "metadata": {
            "tags": []
          }
        },
        {
          "output_type": "display_data",
          "data": {
            "text/html": [
              "<pre>recommendations finished on 40000/62483 queries. users per second: 101145</pre>"
            ],
            "text/plain": [
              "recommendations finished on 40000/62483 queries. users per second: 101145"
            ]
          },
          "metadata": {
            "tags": []
          }
        },
        {
          "output_type": "display_data",
          "data": {
            "text/html": [
              "<pre>recommendations finished on 41000/62483 queries. users per second: 100834</pre>"
            ],
            "text/plain": [
              "recommendations finished on 41000/62483 queries. users per second: 100834"
            ]
          },
          "metadata": {
            "tags": []
          }
        },
        {
          "output_type": "display_data",
          "data": {
            "text/html": [
              "<pre>recommendations finished on 42000/62483 queries. users per second: 101467</pre>"
            ],
            "text/plain": [
              "recommendations finished on 42000/62483 queries. users per second: 101467"
            ]
          },
          "metadata": {
            "tags": []
          }
        },
        {
          "output_type": "display_data",
          "data": {
            "text/html": [
              "<pre>recommendations finished on 43000/62483 queries. users per second: 101450</pre>"
            ],
            "text/plain": [
              "recommendations finished on 43000/62483 queries. users per second: 101450"
            ]
          },
          "metadata": {
            "tags": []
          }
        },
        {
          "output_type": "display_data",
          "data": {
            "text/html": [
              "<pre>recommendations finished on 44000/62483 queries. users per second: 101898</pre>"
            ],
            "text/plain": [
              "recommendations finished on 44000/62483 queries. users per second: 101898"
            ]
          },
          "metadata": {
            "tags": []
          }
        },
        {
          "output_type": "display_data",
          "data": {
            "text/html": [
              "<pre>recommendations finished on 45000/62483 queries. users per second: 101980</pre>"
            ],
            "text/plain": [
              "recommendations finished on 45000/62483 queries. users per second: 101980"
            ]
          },
          "metadata": {
            "tags": []
          }
        },
        {
          "output_type": "display_data",
          "data": {
            "text/html": [
              "<pre>recommendations finished on 46000/62483 queries. users per second: 102501</pre>"
            ],
            "text/plain": [
              "recommendations finished on 46000/62483 queries. users per second: 102501"
            ]
          },
          "metadata": {
            "tags": []
          }
        },
        {
          "output_type": "display_data",
          "data": {
            "text/html": [
              "<pre>recommendations finished on 47000/62483 queries. users per second: 102639</pre>"
            ],
            "text/plain": [
              "recommendations finished on 47000/62483 queries. users per second: 102639"
            ]
          },
          "metadata": {
            "tags": []
          }
        },
        {
          "output_type": "display_data",
          "data": {
            "text/html": [
              "<pre>recommendations finished on 48000/62483 queries. users per second: 103014</pre>"
            ],
            "text/plain": [
              "recommendations finished on 48000/62483 queries. users per second: 103014"
            ]
          },
          "metadata": {
            "tags": []
          }
        },
        {
          "output_type": "display_data",
          "data": {
            "text/html": [
              "<pre>recommendations finished on 49000/62483 queries. users per second: 102276</pre>"
            ],
            "text/plain": [
              "recommendations finished on 49000/62483 queries. users per second: 102276"
            ]
          },
          "metadata": {
            "tags": []
          }
        },
        {
          "output_type": "display_data",
          "data": {
            "text/html": [
              "<pre>recommendations finished on 50000/62483 queries. users per second: 102745</pre>"
            ],
            "text/plain": [
              "recommendations finished on 50000/62483 queries. users per second: 102745"
            ]
          },
          "metadata": {
            "tags": []
          }
        },
        {
          "output_type": "display_data",
          "data": {
            "text/html": [
              "<pre>recommendations finished on 51000/62483 queries. users per second: 102572</pre>"
            ],
            "text/plain": [
              "recommendations finished on 51000/62483 queries. users per second: 102572"
            ]
          },
          "metadata": {
            "tags": []
          }
        },
        {
          "output_type": "display_data",
          "data": {
            "text/html": [
              "<pre>recommendations finished on 52000/62483 queries. users per second: 103094</pre>"
            ],
            "text/plain": [
              "recommendations finished on 52000/62483 queries. users per second: 103094"
            ]
          },
          "metadata": {
            "tags": []
          }
        },
        {
          "output_type": "display_data",
          "data": {
            "text/html": [
              "<pre>recommendations finished on 53000/62483 queries. users per second: 103136</pre>"
            ],
            "text/plain": [
              "recommendations finished on 53000/62483 queries. users per second: 103136"
            ]
          },
          "metadata": {
            "tags": []
          }
        },
        {
          "output_type": "display_data",
          "data": {
            "text/html": [
              "<pre>recommendations finished on 54000/62483 queries. users per second: 102930</pre>"
            ],
            "text/plain": [
              "recommendations finished on 54000/62483 queries. users per second: 102930"
            ]
          },
          "metadata": {
            "tags": []
          }
        },
        {
          "output_type": "display_data",
          "data": {
            "text/html": [
              "<pre>recommendations finished on 55000/62483 queries. users per second: 102879</pre>"
            ],
            "text/plain": [
              "recommendations finished on 55000/62483 queries. users per second: 102879"
            ]
          },
          "metadata": {
            "tags": []
          }
        },
        {
          "output_type": "display_data",
          "data": {
            "text/html": [
              "<pre>recommendations finished on 56000/62483 queries. users per second: 101723</pre>"
            ],
            "text/plain": [
              "recommendations finished on 56000/62483 queries. users per second: 101723"
            ]
          },
          "metadata": {
            "tags": []
          }
        },
        {
          "output_type": "display_data",
          "data": {
            "text/html": [
              "<pre>recommendations finished on 57000/62483 queries. users per second: 102001</pre>"
            ],
            "text/plain": [
              "recommendations finished on 57000/62483 queries. users per second: 102001"
            ]
          },
          "metadata": {
            "tags": []
          }
        },
        {
          "output_type": "display_data",
          "data": {
            "text/html": [
              "<pre>recommendations finished on 58000/62483 queries. users per second: 102134</pre>"
            ],
            "text/plain": [
              "recommendations finished on 58000/62483 queries. users per second: 102134"
            ]
          },
          "metadata": {
            "tags": []
          }
        },
        {
          "output_type": "display_data",
          "data": {
            "text/html": [
              "<pre>recommendations finished on 59000/62483 queries. users per second: 101584</pre>"
            ],
            "text/plain": [
              "recommendations finished on 59000/62483 queries. users per second: 101584"
            ]
          },
          "metadata": {
            "tags": []
          }
        },
        {
          "output_type": "display_data",
          "data": {
            "text/html": [
              "<pre>recommendations finished on 60000/62483 queries. users per second: 101647</pre>"
            ],
            "text/plain": [
              "recommendations finished on 60000/62483 queries. users per second: 101647"
            ]
          },
          "metadata": {
            "tags": []
          }
        },
        {
          "output_type": "display_data",
          "data": {
            "text/html": [
              "<pre>recommendations finished on 61000/62483 queries. users per second: 101498</pre>"
            ],
            "text/plain": [
              "recommendations finished on 61000/62483 queries. users per second: 101498"
            ]
          },
          "metadata": {
            "tags": []
          }
        },
        {
          "output_type": "display_data",
          "data": {
            "text/html": [
              "<pre>recommendations finished on 62000/62483 queries. users per second: 101466</pre>"
            ],
            "text/plain": [
              "recommendations finished on 62000/62483 queries. users per second: 101466"
            ]
          },
          "metadata": {
            "tags": []
          }
        },
        {
          "output_type": "stream",
          "text": [
            "+------------+-----------+--------------------+------+\n",
            "| customerId | productId |       score        | rank |\n",
            "+------------+-----------+--------------------+------+\n",
            "|     0      |    132    | 3.3214285714285716 |  1   |\n",
            "|     0      |     37    | 3.0727969348659006 |  2   |\n",
            "|     0      |    248    | 3.0681818181818183 |  3   |\n",
            "|     0      |     0     | 2.994344957587182  |  4   |\n",
            "|     0      |     34    | 2.9551020408163264 |  5   |\n",
            "|     0      |     3     | 2.8305439330543933 |  6   |\n",
            "|     0      |    110    | 2.691860465116279  |  7   |\n",
            "|     0      |     27    | 2.6850393700787403 |  8   |\n",
            "|     0      |    245    | 2.6785714285714284 |  9   |\n",
            "|     0      |     10    | 2.6564417177914113 |  10  |\n",
            "|     1      |    132    | 3.3214285714285716 |  1   |\n",
            "|     1      |     37    | 3.0727969348659006 |  2   |\n",
            "|     1      |    248    | 3.0681818181818183 |  3   |\n",
            "|     1      |     0     | 2.994344957587182  |  4   |\n",
            "|     1      |     34    | 2.9551020408163264 |  5   |\n",
            "|     1      |     3     | 2.8305439330543933 |  6   |\n",
            "|     1      |    110    | 2.691860465116279  |  7   |\n",
            "|     1      |     27    | 2.6850393700787403 |  8   |\n",
            "|     1      |    245    | 2.6785714285714284 |  9   |\n",
            "|     1      |     10    | 2.6564417177914113 |  10  |\n",
            "|     2      |    132    | 3.3214285714285716 |  1   |\n",
            "|     2      |     37    | 3.0727969348659006 |  2   |\n",
            "|     2      |    248    | 3.0681818181818183 |  3   |\n",
            "|     2      |     0     | 2.994344957587182  |  4   |\n",
            "|     2      |     34    | 2.9551020408163264 |  5   |\n",
            "|     2      |     3     | 2.8305439330543933 |  6   |\n",
            "|     2      |    110    | 2.691860465116279  |  7   |\n",
            "|     2      |     27    | 2.6850393700787403 |  8   |\n",
            "|     2      |    245    | 2.6785714285714284 |  9   |\n",
            "|     2      |     10    | 2.6564417177914113 |  10  |\n",
            "+------------+-----------+--------------------+------+\n",
            "[624830 rows x 4 columns]\n",
            "\n"
          ],
          "name": "stdout"
        }
      ]
    },
    {
      "cell_type": "markdown",
      "metadata": {
        "id": "r5mOtLce1hhr"
      },
      "source": [
        "#### Definir uma função `model` para a seleção do modelo"
      ]
    },
    {
      "cell_type": "code",
      "metadata": {
        "collapsed": true,
        "id": "ZP0R9wo81hhr"
      },
      "source": [
        "# Since turicreate is very accessible library, we can define a model selection function as below\n",
        "\n",
        "def model(train_data, name, user_id, item_id, target, users_to_recommend, n_rec, n_display):\n",
        "    if name == 'popularity':\n",
        "        model = tc.popularity_recommender.create(train_data, \n",
        "                                                    user_id=user_id, \n",
        "                                                    item_id=item_id, \n",
        "                                                    target=target)\n",
        "    elif name == 'cosine':\n",
        "        model = tc.item_similarity_recommender.create(train_data, \n",
        "                                                    user_id=user_id, \n",
        "                                                    item_id=item_id, \n",
        "                                                    target=target, \n",
        "                                                    similarity_type='cosine')\n",
        "    elif name == 'pearson':\n",
        "        model = tc.item_similarity_recommender.create(train_data, \n",
        "                                                    user_id=user_id, \n",
        "                                                    item_id=item_id, \n",
        "                                                    target=target, \n",
        "                                                    similarity_type='pearson')\n",
        "        \n",
        "    recom = model.recommend(users=users_to_recommend, k=n_rec)\n",
        "    recom.print_rows(n_display)\n",
        "    return model"
      ],
      "execution_count": 35,
      "outputs": []
    },
    {
      "cell_type": "code",
      "metadata": {
        "collapsed": true,
        "id": "7Ocw-Zdf1hhr"
      },
      "source": [
        "# variables to define field names\n",
        "# constant variables include:\n",
        "user_id = 'customerId'\n",
        "item_id = 'productId'\n",
        "users_to_recommend = list(customers[user_id])\n",
        "n_rec = 10 # number of items to recommend\n",
        "n_display = 30 # to print the head / first few rows in a defined dataset"
      ],
      "execution_count": 36,
      "outputs": []
    },
    {
      "cell_type": "markdown",
      "metadata": {
        "id": "xVXf6hOW1hhr"
      },
      "source": [
        "#### Usando dummy"
      ]
    },
    {
      "cell_type": "code",
      "metadata": {
        "colab": {
          "base_uri": "https://localhost:8080/",
          "height": 773
        },
        "id": "8LBp0fKJ1hhr",
        "outputId": "38251108-fc3a-490d-d947-6a0d059bceb9"
      },
      "source": [
        "# these variables will change accordingly\n",
        "name = 'popularity'\n",
        "target = 'purchase_dummy'\n",
        "pop_dummy = model(train_data_dummy, name, user_id, item_id, target, users_to_recommend, n_rec, n_display)"
      ],
      "execution_count": 37,
      "outputs": [
        {
          "output_type": "display_data",
          "data": {
            "text/html": [
              "<pre>Warning: Ignoring columns purchase_count;</pre>"
            ],
            "text/plain": [
              "Warning: Ignoring columns purchase_count;"
            ]
          },
          "metadata": {
            "tags": []
          }
        },
        {
          "output_type": "display_data",
          "data": {
            "text/html": [
              "<pre>    To use these columns in scoring predictions, use a model that allows the use of additional features.</pre>"
            ],
            "text/plain": [
              "    To use these columns in scoring predictions, use a model that allows the use of additional features."
            ]
          },
          "metadata": {
            "tags": []
          }
        },
        {
          "output_type": "display_data",
          "data": {
            "text/html": [
              "<pre>Preparing data set.</pre>"
            ],
            "text/plain": [
              "Preparing data set."
            ]
          },
          "metadata": {
            "tags": []
          }
        },
        {
          "output_type": "display_data",
          "data": {
            "text/html": [
              "<pre>    Data has 106868 observations with 23299 users and 300 items.</pre>"
            ],
            "text/plain": [
              "    Data has 106868 observations with 23299 users and 300 items."
            ]
          },
          "metadata": {
            "tags": []
          }
        },
        {
          "output_type": "display_data",
          "data": {
            "text/html": [
              "<pre>    Data prepared in: 0.150667s</pre>"
            ],
            "text/plain": [
              "    Data prepared in: 0.150667s"
            ]
          },
          "metadata": {
            "tags": []
          }
        },
        {
          "output_type": "display_data",
          "data": {
            "text/html": [
              "<pre>106868 observations to process; with 300 unique items.</pre>"
            ],
            "text/plain": [
              "106868 observations to process; with 300 unique items."
            ]
          },
          "metadata": {
            "tags": []
          }
        },
        {
          "output_type": "display_data",
          "data": {
            "text/html": [
              "<pre>recommendations finished on 1000/1000 queries. users per second: 81752.8</pre>"
            ],
            "text/plain": [
              "recommendations finished on 1000/1000 queries. users per second: 81752.8"
            ]
          },
          "metadata": {
            "tags": []
          }
        },
        {
          "output_type": "stream",
          "text": [
            "+------------+-----------+-------+------+\n",
            "| customerId | productId | score | rank |\n",
            "+------------+-----------+-------+------+\n",
            "|    1553    |     23    |  1.0  |  1   |\n",
            "|    1553    |     4     |  1.0  |  2   |\n",
            "|    1553    |    258    |  1.0  |  3   |\n",
            "|    1553    |     35    |  1.0  |  4   |\n",
            "|    1553    |    173    |  1.0  |  5   |\n",
            "|    1553    |     5     |  1.0  |  6   |\n",
            "|    1553    |     96    |  1.0  |  7   |\n",
            "|    1553    |     36    |  1.0  |  8   |\n",
            "|    1553    |     19    |  1.0  |  9   |\n",
            "|    1553    |     43    |  1.0  |  10  |\n",
            "|   20400    |     23    |  1.0  |  1   |\n",
            "|   20400    |     4     |  1.0  |  2   |\n",
            "|   20400    |    258    |  1.0  |  3   |\n",
            "|   20400    |     35    |  1.0  |  4   |\n",
            "|   20400    |    173    |  1.0  |  5   |\n",
            "|   20400    |     5     |  1.0  |  6   |\n",
            "|   20400    |     96    |  1.0  |  7   |\n",
            "|   20400    |     36    |  1.0  |  8   |\n",
            "|   20400    |     19    |  1.0  |  9   |\n",
            "|   20400    |     43    |  1.0  |  10  |\n",
            "|   19750    |     23    |  1.0  |  1   |\n",
            "|   19750    |     4     |  1.0  |  2   |\n",
            "|   19750    |    258    |  1.0  |  3   |\n",
            "|   19750    |     35    |  1.0  |  4   |\n",
            "|   19750    |    173    |  1.0  |  5   |\n",
            "|   19750    |     5     |  1.0  |  6   |\n",
            "|   19750    |     96    |  1.0  |  7   |\n",
            "|   19750    |     36    |  1.0  |  8   |\n",
            "|   19750    |     19    |  1.0  |  9   |\n",
            "|   19750    |     43    |  1.0  |  10  |\n",
            "+------------+-----------+-------+------+\n",
            "[10000 rows x 4 columns]\n",
            "\n"
          ],
          "name": "stdout"
        }
      ]
    },
    {
      "cell_type": "markdown",
      "metadata": {
        "id": "tJV6IJaj1hhs"
      },
      "source": [
        "#### Usando contagem normalizada"
      ]
    },
    {
      "cell_type": "code",
      "metadata": {
        "colab": {
          "base_uri": "https://localhost:8080/",
          "height": 740
        },
        "id": "x9heCCCq1hhs",
        "outputId": "480b104c-1e51-403a-87cf-590d19a3bd91"
      },
      "source": [
        "name = 'popularity'\n",
        "target = 'scaled_purchase_freq'\n",
        "pop_norm = model(train_data_norm, name, user_id, item_id, target, users_to_recommend, n_rec, n_display)"
      ],
      "execution_count": 38,
      "outputs": [
        {
          "output_type": "display_data",
          "data": {
            "text/html": [
              "<pre>Preparing data set.</pre>"
            ],
            "text/plain": [
              "Preparing data set."
            ]
          },
          "metadata": {
            "tags": []
          }
        },
        {
          "output_type": "display_data",
          "data": {
            "text/html": [
              "<pre>    Data has 106868 observations with 23350 users and 300 items.</pre>"
            ],
            "text/plain": [
              "    Data has 106868 observations with 23350 users and 300 items."
            ]
          },
          "metadata": {
            "tags": []
          }
        },
        {
          "output_type": "display_data",
          "data": {
            "text/html": [
              "<pre>    Data prepared in: 0.153352s</pre>"
            ],
            "text/plain": [
              "    Data prepared in: 0.153352s"
            ]
          },
          "metadata": {
            "tags": []
          }
        },
        {
          "output_type": "display_data",
          "data": {
            "text/html": [
              "<pre>106868 observations to process; with 300 unique items.</pre>"
            ],
            "text/plain": [
              "106868 observations to process; with 300 unique items."
            ]
          },
          "metadata": {
            "tags": []
          }
        },
        {
          "output_type": "display_data",
          "data": {
            "text/html": [
              "<pre>recommendations finished on 1000/1000 queries. users per second: 96609</pre>"
            ],
            "text/plain": [
              "recommendations finished on 1000/1000 queries. users per second: 96609"
            ]
          },
          "metadata": {
            "tags": []
          }
        },
        {
          "output_type": "stream",
          "text": [
            "+------------+-----------+---------------------+------+\n",
            "| customerId | productId |        score        | rank |\n",
            "+------------+-----------+---------------------+------+\n",
            "|    1553    |    226    |  0.7615894039735099 |  1   |\n",
            "|    1553    |    247    | 0.33333333333333315 |  2   |\n",
            "|    1553    |    230    |  0.3279411764705878 |  3   |\n",
            "|    1553    |    294    | 0.26811594202898514 |  4   |\n",
            "|    1553    |    125    |  0.2646153846153842 |  5   |\n",
            "|    1553    |    204    | 0.24999999999999983 |  6   |\n",
            "|    1553    |    248    |        0.2375       |  7   |\n",
            "|    1553    |    276    | 0.23484848484848486 |  8   |\n",
            "|    1553    |    155    | 0.23333333333333323 |  9   |\n",
            "|    1553    |     72    | 0.22199170124481327 |  10  |\n",
            "|   20400    |    226    |  0.7615894039735099 |  1   |\n",
            "|   20400    |    247    | 0.33333333333333315 |  2   |\n",
            "|   20400    |    230    |  0.3279411764705878 |  3   |\n",
            "|   20400    |    294    | 0.26811594202898514 |  4   |\n",
            "|   20400    |    125    |  0.2646153846153842 |  5   |\n",
            "|   20400    |    204    | 0.24999999999999983 |  6   |\n",
            "|   20400    |    248    |        0.2375       |  7   |\n",
            "|   20400    |    276    | 0.23484848484848486 |  8   |\n",
            "|   20400    |    155    | 0.23333333333333323 |  9   |\n",
            "|   20400    |     72    | 0.22199170124481327 |  10  |\n",
            "|   19750    |    226    |  0.7615894039735099 |  1   |\n",
            "|   19750    |    230    |  0.3279411764705878 |  2   |\n",
            "|   19750    |    294    | 0.26811594202898514 |  3   |\n",
            "|   19750    |    125    |  0.2646153846153842 |  4   |\n",
            "|   19750    |    204    | 0.24999999999999983 |  5   |\n",
            "|   19750    |    248    |        0.2375       |  6   |\n",
            "|   19750    |    276    | 0.23484848484848486 |  7   |\n",
            "|   19750    |    155    | 0.23333333333333323 |  8   |\n",
            "|   19750    |     72    | 0.22199170124481327 |  9   |\n",
            "|   19750    |    213    | 0.21596244131455417 |  10  |\n",
            "+------------+-----------+---------------------+------+\n",
            "[10000 rows x 4 columns]\n",
            "\n"
          ],
          "name": "stdout"
        }
      ]
    },
    {
      "cell_type": "markdown",
      "metadata": {
        "id": "Z4ZtMlau1hhs"
      },
      "source": [
        "#### Notas\n",
        "* Depois de criar o modelo, previmos os itens de recomendação usando pontuações por popularidade. Como você pode ver para cada resultado do modelo acima, as linhas mostram os primeiros 30 registros de 1000 usuários com 10 recomendações. Esses 30 registros incluem 3 usuários e seus itens recomendados, junto com a pontuação e as classificações decrescentes.\n",
        "* No resultado, embora diferentes modelos tenham diferentes listas de recomendações, a cada usuário é recomendada a mesma lista de 10 itens. Isso ocorre porque a popularidade é calculada considerando os itens mais populares de todos os usuários.\n",
        "* Se for um exemplo de agrupamento abaixo, os produtos 132, 248, 37 e 34 são os mais populares (mais vendidos) entre os clientes. Usando suas contagens de compras divididas pelo número de clientes, vemos que esses produtos são comprados pelo menos 3 vezes em média no conjunto de transações de treinamento (o mesmo que a primeira medida de popularidade na variável `compra_conta`)"
      ]
    },
    {
      "cell_type": "code",
      "metadata": {
        "colab": {
          "base_uri": "https://localhost:8080/"
        },
        "id": "2zY5Fbj31hhs",
        "outputId": "35004f6f-b57c-4830-cca5-be9a98ae0e03"
      },
      "source": [
        "train.groupby(by=item_id)['purchase_count'].mean().sort_values(ascending=False).head(20)"
      ],
      "execution_count": 39,
      "outputs": [
        {
          "output_type": "execute_result",
          "data": {
            "text/plain": [
              "productId\n",
              "132    3.321429\n",
              "37     3.072797\n",
              "248    3.068182\n",
              "0      2.994345\n",
              "34     2.955102\n",
              "3      2.830544\n",
              "110    2.691860\n",
              "27     2.685039\n",
              "245    2.678571\n",
              "10     2.656442\n",
              "230    2.649635\n",
              "32     2.587379\n",
              "226    2.542857\n",
              "129    2.502732\n",
              "173    2.466667\n",
              "68     2.447699\n",
              "41     2.398089\n",
              "87     2.394309\n",
              "58     2.382716\n",
              "18     2.355769\n",
              "Name: purchase_count, dtype: float64"
            ]
          },
          "metadata": {
            "tags": []
          },
          "execution_count": 39
        }
      ]
    },
    {
      "cell_type": "markdown",
      "metadata": {
        "id": "r5w4kxtP1hhs"
      },
      "source": [
        "## 6. Modelo de Filtragem Colaborativa\n",
        "\n",
        "* Na filtragem colaborativa, recomendamos itens com base em como usuários semelhantes compram itens. Por exemplo, se o cliente 1 e o cliente 2 compraram itens semelhantes, por exemplo, 1 comprei X, Y, Z e 2 comprei X, Y, recomendaríamos um item Z ao cliente 2.\n",
        "\n",
        "* Para definir a similaridade entre os usuários, usamos as seguintes etapas:\n",
        "    1. Crie uma matriz de item de usuário, onde os valores de índice representam IDs de clientes exclusivos e os valores de coluna representam IDs de produtos exclusivos\n",
        "    \n",
        "    2. Crie uma matriz de similaridade item a item. A ideia é calcular a semelhança de um produto com outro produto. Existem várias maneiras de calcular isso. Nas etapas 6.1 e 6.2, usamos co-seno e medida de similaridade de Pearson, respectivamente.\n",
        "    \n",
        "        * Para calcular a similaridade entre os produtos X e Y, observe todos os clientes que avaliaram esses dois itens. Por exemplo, tanto X quanto Y foram avaliados pelos clientes 1 e 2.\n",
        "        * Em seguida, criamos dois vetores de itens, v1 para o item X e v2 para o item Y, no espaço do usuário de (1, 2) e, a seguir, encontramos o ângulo / distância `cosseno` ou` pearson` entre esses vetores. Um ângulo zero ou vetores sobrepostos com valor de cosseno de 1 significam similaridade total (ou por usuário, em todos os itens, há a mesma classificação) e um ângulo de 90 graus significaria cosseno de 0 ou nenhuma similaridade.\n",
        "        \n",
        "    3. Para cada cliente, prevemos sua probabilidade de comprar um produto (ou suas contagens de compra) para produtos que ele não comprou.\n",
        "    \n",
        "        * Para o nosso exemplo, calcularemos a classificação para o usuário 2 no caso do item Z (item alvo). Para calcular isso, pesamos a medida de similaridade calculada entre o item de destino e outros itens que o cliente já comprou. O fator de pesagem são as contagens de compras fornecidas pelo usuário aos itens já adquiridos por ele.\n",
        "        * Em seguida, normalizamos essa soma ponderada com a soma das medidas de similaridade para que a classificação calculada permaneça dentro dos limites predefinidos. Assim, a classificação prevista para o item Z para o usuário 2 seria calculada usando medidas de similaridade.\n",
        "\n",
        "* Embora eu tenha escrito scripts Python para todo o processo, incluindo encontrar semelhanças usando scripts Python (que podem ser encontrados na pasta `scripts`, podemos usar a biblioteca` turicreate` por enquanto para capturar diferentes medidas, como usar distância de `cosine` e` pearson` e avalie o melhor modelo."
      ]
    },
    {
      "cell_type": "markdown",
      "metadata": {
        "id": "N8PzQCw51hhs"
      },
      "source": [
        "### 6.1. Similaridade `Cosine`\n",
        "* Similaridade é o cosseno do ângulo entre os 2 vetores dos vetores dos itens de A e B\n",
        "* É definido pela seguinte fórmula\n",
        "![](https://encrypted-tbn0.gstatic.com/images?q=tbn:ANd9GcTnRHSAx1c084UXF2wIHYwaHJLmq2qKtNk_YIv3RjHUO00xwlkt)\n",
        "* Quanto mais próximos os vetores, menor será o ângulo e maior será o cosseno"
      ]
    },
    {
      "cell_type": "markdown",
      "metadata": {
        "id": "VAgYFQWM1hht"
      },
      "source": [
        "\r\n",
        "#### Usando contagem de compra"
      ]
    },
    {
      "cell_type": "code",
      "metadata": {
        "colab": {
          "base_uri": "https://localhost:8080/",
          "height": 1000
        },
        "id": "0uIkyvds1hht",
        "outputId": "ec90882a-e799-48fa-a250-382832a8418e"
      },
      "source": [
        "# these variables will change accordingly\n",
        "name = 'cosine'\n",
        "target = 'purchase_count'\n",
        "cos = model(train_data, name, user_id, item_id, target, users_to_recommend, n_rec, n_display)"
      ],
      "execution_count": 40,
      "outputs": [
        {
          "output_type": "display_data",
          "data": {
            "text/html": [
              "<pre>Preparing data set.</pre>"
            ],
            "text/plain": [
              "Preparing data set."
            ]
          },
          "metadata": {
            "tags": []
          }
        },
        {
          "output_type": "display_data",
          "data": {
            "text/html": [
              "<pre>    Data has 106868 observations with 23277 users and 300 items.</pre>"
            ],
            "text/plain": [
              "    Data has 106868 observations with 23277 users and 300 items."
            ]
          },
          "metadata": {
            "tags": []
          }
        },
        {
          "output_type": "display_data",
          "data": {
            "text/html": [
              "<pre>    Data prepared in: 0.155376s</pre>"
            ],
            "text/plain": [
              "    Data prepared in: 0.155376s"
            ]
          },
          "metadata": {
            "tags": []
          }
        },
        {
          "output_type": "display_data",
          "data": {
            "text/html": [
              "<pre>Training model from provided data.</pre>"
            ],
            "text/plain": [
              "Training model from provided data."
            ]
          },
          "metadata": {
            "tags": []
          }
        },
        {
          "output_type": "display_data",
          "data": {
            "text/html": [
              "<pre>Gathering per-item and per-user statistics.</pre>"
            ],
            "text/plain": [
              "Gathering per-item and per-user statistics."
            ]
          },
          "metadata": {
            "tags": []
          }
        },
        {
          "output_type": "display_data",
          "data": {
            "text/html": [
              "<pre>+--------------------------------+------------+</pre>"
            ],
            "text/plain": [
              "+--------------------------------+------------+"
            ]
          },
          "metadata": {
            "tags": []
          }
        },
        {
          "output_type": "display_data",
          "data": {
            "text/html": [
              "<pre>| Elapsed Time (Item Statistics) | % Complete |</pre>"
            ],
            "text/plain": [
              "| Elapsed Time (Item Statistics) | % Complete |"
            ]
          },
          "metadata": {
            "tags": []
          }
        },
        {
          "output_type": "display_data",
          "data": {
            "text/html": [
              "<pre>+--------------------------------+------------+</pre>"
            ],
            "text/plain": [
              "+--------------------------------+------------+"
            ]
          },
          "metadata": {
            "tags": []
          }
        },
        {
          "output_type": "display_data",
          "data": {
            "text/html": [
              "<pre>| 1.502ms                        | 4.25       |</pre>"
            ],
            "text/plain": [
              "| 1.502ms                        | 4.25       |"
            ]
          },
          "metadata": {
            "tags": []
          }
        },
        {
          "output_type": "display_data",
          "data": {
            "text/html": [
              "<pre>| 7.345ms                        | 100        |</pre>"
            ],
            "text/plain": [
              "| 7.345ms                        | 100        |"
            ]
          },
          "metadata": {
            "tags": []
          }
        },
        {
          "output_type": "display_data",
          "data": {
            "text/html": [
              "<pre>+--------------------------------+------------+</pre>"
            ],
            "text/plain": [
              "+--------------------------------+------------+"
            ]
          },
          "metadata": {
            "tags": []
          }
        },
        {
          "output_type": "display_data",
          "data": {
            "text/html": [
              "<pre>Setting up lookup tables.</pre>"
            ],
            "text/plain": [
              "Setting up lookup tables."
            ]
          },
          "metadata": {
            "tags": []
          }
        },
        {
          "output_type": "display_data",
          "data": {
            "text/html": [
              "<pre>Processing data in one pass using dense lookup tables.</pre>"
            ],
            "text/plain": [
              "Processing data in one pass using dense lookup tables."
            ]
          },
          "metadata": {
            "tags": []
          }
        },
        {
          "output_type": "display_data",
          "data": {
            "text/html": [
              "<pre>+-------------------------------------+------------------+-----------------+</pre>"
            ],
            "text/plain": [
              "+-------------------------------------+------------------+-----------------+"
            ]
          },
          "metadata": {
            "tags": []
          }
        },
        {
          "output_type": "display_data",
          "data": {
            "text/html": [
              "<pre>| Elapsed Time (Constructing Lookups) | Total % Complete | Items Processed |</pre>"
            ],
            "text/plain": [
              "| Elapsed Time (Constructing Lookups) | Total % Complete | Items Processed |"
            ]
          },
          "metadata": {
            "tags": []
          }
        },
        {
          "output_type": "display_data",
          "data": {
            "text/html": [
              "<pre>+-------------------------------------+------------------+-----------------+</pre>"
            ],
            "text/plain": [
              "+-------------------------------------+------------------+-----------------+"
            ]
          },
          "metadata": {
            "tags": []
          }
        },
        {
          "output_type": "display_data",
          "data": {
            "text/html": [
              "<pre>| 8.191ms                             | 0                | 0               |</pre>"
            ],
            "text/plain": [
              "| 8.191ms                             | 0                | 0               |"
            ]
          },
          "metadata": {
            "tags": []
          }
        },
        {
          "output_type": "display_data",
          "data": {
            "text/html": [
              "<pre>| 40.714ms                            | 100              | 300             |</pre>"
            ],
            "text/plain": [
              "| 40.714ms                            | 100              | 300             |"
            ]
          },
          "metadata": {
            "tags": []
          }
        },
        {
          "output_type": "display_data",
          "data": {
            "text/html": [
              "<pre>+-------------------------------------+------------------+-----------------+</pre>"
            ],
            "text/plain": [
              "+-------------------------------------+------------------+-----------------+"
            ]
          },
          "metadata": {
            "tags": []
          }
        },
        {
          "output_type": "display_data",
          "data": {
            "text/html": [
              "<pre>Finalizing lookup tables.</pre>"
            ],
            "text/plain": [
              "Finalizing lookup tables."
            ]
          },
          "metadata": {
            "tags": []
          }
        },
        {
          "output_type": "display_data",
          "data": {
            "text/html": [
              "<pre>Generating candidate set for working with new users.</pre>"
            ],
            "text/plain": [
              "Generating candidate set for working with new users."
            ]
          },
          "metadata": {
            "tags": []
          }
        },
        {
          "output_type": "display_data",
          "data": {
            "text/html": [
              "<pre>Finished training in 1.06591s</pre>"
            ],
            "text/plain": [
              "Finished training in 1.06591s"
            ]
          },
          "metadata": {
            "tags": []
          }
        },
        {
          "output_type": "display_data",
          "data": {
            "text/html": [
              "<pre>recommendations finished on 1000/1000 queries. users per second: 34236</pre>"
            ],
            "text/plain": [
              "recommendations finished on 1000/1000 queries. users per second: 34236"
            ]
          },
          "metadata": {
            "tags": []
          }
        },
        {
          "output_type": "stream",
          "text": [
            "+------------+-----------+----------------------+------+\n",
            "| customerId | productId |        score         | rank |\n",
            "+------------+-----------+----------------------+------+\n",
            "|    1553    |     2     | 0.12066556215286255  |  1   |\n",
            "|    1553    |     35    | 0.07560243606567382  |  2   |\n",
            "|    1553    |     1     | 0.06908496618270873  |  3   |\n",
            "|    1553    |     17    | 0.057473957538604736 |  4   |\n",
            "|    1553    |     33    |  0.0559393048286438  |  5   |\n",
            "|    1553    |     8     | 0.04949369430541992  |  6   |\n",
            "|    1553    |    105    | 0.049227023124694826 |  7   |\n",
            "|    1553    |    124    | 0.04620974063873291  |  8   |\n",
            "|    1553    |     5     | 0.043698668479919434 |  9   |\n",
            "|    1553    |     9     | 0.037327039241790774 |  10  |\n",
            "|   20400    |     1     | 0.04662901163101196  |  1   |\n",
            "|   20400    |    160    | 0.043332040309906006 |  2   |\n",
            "|   20400    |     31    | 0.04289144277572632  |  3   |\n",
            "|   20400    |     6     | 0.04004019498825073  |  4   |\n",
            "|   20400    |     77    | 0.03837329149246216  |  5   |\n",
            "|   20400    |     74    | 0.03793066740036011  |  6   |\n",
            "|   20400    |    179    | 0.03702956438064575  |  7   |\n",
            "|   20400    |    265    | 0.03626680374145508  |  8   |\n",
            "|   20400    |     42    | 0.03623408079147339  |  9   |\n",
            "|   20400    |    131    | 0.032932400703430176 |  10  |\n",
            "|   19750    |     1     | 0.06928053498268127  |  1   |\n",
            "|   19750    |     2     | 0.06379109621047974  |  2   |\n",
            "|   19750    |     5     | 0.046416670083999634 |  3   |\n",
            "|   19750    |     17    | 0.04478400945663452  |  4   |\n",
            "|   19750    |     33    | 0.042449384927749634 |  5   |\n",
            "|   19750    |     44    | 0.041769057512283325 |  6   |\n",
            "|   19750    |     11    | 0.03896723687648773  |  7   |\n",
            "|   19750    |    118    | 0.03702324628829956  |  8   |\n",
            "|   19750    |     63    | 0.03665986657142639  |  9   |\n",
            "|   19750    |    187    | 0.03665807843208313  |  10  |\n",
            "+------------+-----------+----------------------+------+\n",
            "[10000 rows x 4 columns]\n",
            "\n"
          ],
          "name": "stdout"
        }
      ]
    },
    {
      "cell_type": "markdown",
      "metadata": {
        "id": "Su_s3kuI1hht"
      },
      "source": [
        "#### Usando dummy"
      ]
    },
    {
      "cell_type": "code",
      "metadata": {
        "colab": {
          "base_uri": "https://localhost:8080/",
          "height": 1000
        },
        "id": "uqQOCQ4l1hht",
        "outputId": "36aca218-ef07-4c54-970c-2e8e7ffd5db6"
      },
      "source": [
        "# these variables will change accordingly\n",
        "name = 'cosine'\n",
        "target = 'purchase_dummy'\n",
        "cos_dummy = model(train_data_dummy, name, user_id, item_id, target, users_to_recommend, n_rec, n_display)"
      ],
      "execution_count": 41,
      "outputs": [
        {
          "output_type": "display_data",
          "data": {
            "text/html": [
              "<pre>Warning: Ignoring columns purchase_count;</pre>"
            ],
            "text/plain": [
              "Warning: Ignoring columns purchase_count;"
            ]
          },
          "metadata": {
            "tags": []
          }
        },
        {
          "output_type": "display_data",
          "data": {
            "text/html": [
              "<pre>    To use these columns in scoring predictions, use a model that allows the use of additional features.</pre>"
            ],
            "text/plain": [
              "    To use these columns in scoring predictions, use a model that allows the use of additional features."
            ]
          },
          "metadata": {
            "tags": []
          }
        },
        {
          "output_type": "display_data",
          "data": {
            "text/html": [
              "<pre>Preparing data set.</pre>"
            ],
            "text/plain": [
              "Preparing data set."
            ]
          },
          "metadata": {
            "tags": []
          }
        },
        {
          "output_type": "display_data",
          "data": {
            "text/html": [
              "<pre>    Data has 106868 observations with 23299 users and 300 items.</pre>"
            ],
            "text/plain": [
              "    Data has 106868 observations with 23299 users and 300 items."
            ]
          },
          "metadata": {
            "tags": []
          }
        },
        {
          "output_type": "display_data",
          "data": {
            "text/html": [
              "<pre>    Data prepared in: 0.15338s</pre>"
            ],
            "text/plain": [
              "    Data prepared in: 0.15338s"
            ]
          },
          "metadata": {
            "tags": []
          }
        },
        {
          "output_type": "display_data",
          "data": {
            "text/html": [
              "<pre>Training model from provided data.</pre>"
            ],
            "text/plain": [
              "Training model from provided data."
            ]
          },
          "metadata": {
            "tags": []
          }
        },
        {
          "output_type": "display_data",
          "data": {
            "text/html": [
              "<pre>Gathering per-item and per-user statistics.</pre>"
            ],
            "text/plain": [
              "Gathering per-item and per-user statistics."
            ]
          },
          "metadata": {
            "tags": []
          }
        },
        {
          "output_type": "display_data",
          "data": {
            "text/html": [
              "<pre>+--------------------------------+------------+</pre>"
            ],
            "text/plain": [
              "+--------------------------------+------------+"
            ]
          },
          "metadata": {
            "tags": []
          }
        },
        {
          "output_type": "display_data",
          "data": {
            "text/html": [
              "<pre>| Elapsed Time (Item Statistics) | % Complete |</pre>"
            ],
            "text/plain": [
              "| Elapsed Time (Item Statistics) | % Complete |"
            ]
          },
          "metadata": {
            "tags": []
          }
        },
        {
          "output_type": "display_data",
          "data": {
            "text/html": [
              "<pre>+--------------------------------+------------+</pre>"
            ],
            "text/plain": [
              "+--------------------------------+------------+"
            ]
          },
          "metadata": {
            "tags": []
          }
        },
        {
          "output_type": "display_data",
          "data": {
            "text/html": [
              "<pre>| 864us                          | 4.25       |</pre>"
            ],
            "text/plain": [
              "| 864us                          | 4.25       |"
            ]
          },
          "metadata": {
            "tags": []
          }
        },
        {
          "output_type": "display_data",
          "data": {
            "text/html": [
              "<pre>| 12.834ms                       | 100        |</pre>"
            ],
            "text/plain": [
              "| 12.834ms                       | 100        |"
            ]
          },
          "metadata": {
            "tags": []
          }
        },
        {
          "output_type": "display_data",
          "data": {
            "text/html": [
              "<pre>+--------------------------------+------------+</pre>"
            ],
            "text/plain": [
              "+--------------------------------+------------+"
            ]
          },
          "metadata": {
            "tags": []
          }
        },
        {
          "output_type": "display_data",
          "data": {
            "text/html": [
              "<pre>Setting up lookup tables.</pre>"
            ],
            "text/plain": [
              "Setting up lookup tables."
            ]
          },
          "metadata": {
            "tags": []
          }
        },
        {
          "output_type": "display_data",
          "data": {
            "text/html": [
              "<pre>Processing data in one pass using dense lookup tables.</pre>"
            ],
            "text/plain": [
              "Processing data in one pass using dense lookup tables."
            ]
          },
          "metadata": {
            "tags": []
          }
        },
        {
          "output_type": "display_data",
          "data": {
            "text/html": [
              "<pre>+-------------------------------------+------------------+-----------------+</pre>"
            ],
            "text/plain": [
              "+-------------------------------------+------------------+-----------------+"
            ]
          },
          "metadata": {
            "tags": []
          }
        },
        {
          "output_type": "display_data",
          "data": {
            "text/html": [
              "<pre>| Elapsed Time (Constructing Lookups) | Total % Complete | Items Processed |</pre>"
            ],
            "text/plain": [
              "| Elapsed Time (Constructing Lookups) | Total % Complete | Items Processed |"
            ]
          },
          "metadata": {
            "tags": []
          }
        },
        {
          "output_type": "display_data",
          "data": {
            "text/html": [
              "<pre>+-------------------------------------+------------------+-----------------+</pre>"
            ],
            "text/plain": [
              "+-------------------------------------+------------------+-----------------+"
            ]
          },
          "metadata": {
            "tags": []
          }
        },
        {
          "output_type": "display_data",
          "data": {
            "text/html": [
              "<pre>| 13.541ms                            | 0                | 0               |</pre>"
            ],
            "text/plain": [
              "| 13.541ms                            | 0                | 0               |"
            ]
          },
          "metadata": {
            "tags": []
          }
        },
        {
          "output_type": "display_data",
          "data": {
            "text/html": [
              "<pre>| 53.346ms                            | 100              | 300             |</pre>"
            ],
            "text/plain": [
              "| 53.346ms                            | 100              | 300             |"
            ]
          },
          "metadata": {
            "tags": []
          }
        },
        {
          "output_type": "display_data",
          "data": {
            "text/html": [
              "<pre>+-------------------------------------+------------------+-----------------+</pre>"
            ],
            "text/plain": [
              "+-------------------------------------+------------------+-----------------+"
            ]
          },
          "metadata": {
            "tags": []
          }
        },
        {
          "output_type": "display_data",
          "data": {
            "text/html": [
              "<pre>Finalizing lookup tables.</pre>"
            ],
            "text/plain": [
              "Finalizing lookup tables."
            ]
          },
          "metadata": {
            "tags": []
          }
        },
        {
          "output_type": "display_data",
          "data": {
            "text/html": [
              "<pre>Generating candidate set for working with new users.</pre>"
            ],
            "text/plain": [
              "Generating candidate set for working with new users."
            ]
          },
          "metadata": {
            "tags": []
          }
        },
        {
          "output_type": "display_data",
          "data": {
            "text/html": [
              "<pre>Finished training in 0.073629s</pre>"
            ],
            "text/plain": [
              "Finished training in 0.073629s"
            ]
          },
          "metadata": {
            "tags": []
          }
        },
        {
          "output_type": "display_data",
          "data": {
            "text/html": [
              "<pre>recommendations finished on 1000/1000 queries. users per second: 23602.7</pre>"
            ],
            "text/plain": [
              "recommendations finished on 1000/1000 queries. users per second: 23602.7"
            ]
          },
          "metadata": {
            "tags": []
          }
        },
        {
          "output_type": "stream",
          "text": [
            "+------------+-----------+----------------------+------+\n",
            "| customerId | productId |        score         | rank |\n",
            "+------------+-----------+----------------------+------+\n",
            "|    1553    |     2     | 0.10525563359260559  |  1   |\n",
            "|    1553    |     35    |  0.1003497987985611  |  2   |\n",
            "|    1553    |     1     |  0.0894947499036789  |  3   |\n",
            "|    1553    |     5     | 0.07986089587211609  |  4   |\n",
            "|    1553    |     21    | 0.06932485103607178  |  5   |\n",
            "|    1553    |     8     | 0.058724984526634216 |  6   |\n",
            "|    1553    |     15    | 0.05083398520946503  |  7   |\n",
            "|    1553    |     17    | 0.05068911612033844  |  8   |\n",
            "|    1553    |     61    | 0.05063775181770325  |  9   |\n",
            "|    1553    |     33    |  0.0492451936006546  |  10  |\n",
            "|   20400    |    113    | 0.054630398750305176 |  1   |\n",
            "|   20400    |     26    | 0.05153173208236694  |  2   |\n",
            "|   20400    |     6     | 0.04825538396835327  |  3   |\n",
            "|   20400    |    122    | 0.04676377773284912  |  4   |\n",
            "|   20400    |     1     | 0.04195237159729004  |  5   |\n",
            "|   20400    |    224    | 0.040733277797698975 |  6   |\n",
            "|   20400    |     13    | 0.040715038776397705 |  7   |\n",
            "|   20400    |    154    | 0.04005008935928345  |  8   |\n",
            "|   20400    |     42    | 0.039807140827178955 |  9   |\n",
            "|   20400    |     15    | 0.039800047874450684 |  10  |\n",
            "|   19750    |     1     |  0.0825662761926651  |  1   |\n",
            "|   19750    |     2     | 0.06661617755889893  |  2   |\n",
            "|   19750    |     5     | 0.05575244128704071  |  3   |\n",
            "|   19750    |     17    | 0.05394446849822998  |  4   |\n",
            "|   19750    |     14    | 0.052434518933296204 |  5   |\n",
            "|   19750    |    112    |  0.0508185476064682  |  6   |\n",
            "|   19750    |     8     | 0.04968491196632385  |  7   |\n",
            "|   19750    |     0     | 0.04745742678642273  |  8   |\n",
            "|   19750    |     7     | 0.04651404917240143  |  9   |\n",
            "|   19750    |     21    | 0.04535682499408722  |  10  |\n",
            "+------------+-----------+----------------------+------+\n",
            "[10000 rows x 4 columns]\n",
            "\n"
          ],
          "name": "stdout"
        }
      ]
    },
    {
      "cell_type": "markdown",
      "metadata": {
        "id": "EeNwdRJn1hht"
      },
      "source": [
        "#### Usando contagem de compra normalizada"
      ]
    },
    {
      "cell_type": "code",
      "metadata": {
        "colab": {
          "base_uri": "https://localhost:8080/",
          "height": 1000
        },
        "id": "wt8mkKRn1hhu",
        "outputId": "3350fa6e-7150-451e-ef0c-45cf70575a79"
      },
      "source": [
        "name = 'cosine'\n",
        "target = 'scaled_purchase_freq'\n",
        "cos_norm = model(train_data_norm, name, user_id, item_id, target, users_to_recommend, n_rec, n_display)"
      ],
      "execution_count": 42,
      "outputs": [
        {
          "output_type": "display_data",
          "data": {
            "text/html": [
              "<pre>Preparing data set.</pre>"
            ],
            "text/plain": [
              "Preparing data set."
            ]
          },
          "metadata": {
            "tags": []
          }
        },
        {
          "output_type": "display_data",
          "data": {
            "text/html": [
              "<pre>    Data has 106868 observations with 23350 users and 300 items.</pre>"
            ],
            "text/plain": [
              "    Data has 106868 observations with 23350 users and 300 items."
            ]
          },
          "metadata": {
            "tags": []
          }
        },
        {
          "output_type": "display_data",
          "data": {
            "text/html": [
              "<pre>    Data prepared in: 0.15439s</pre>"
            ],
            "text/plain": [
              "    Data prepared in: 0.15439s"
            ]
          },
          "metadata": {
            "tags": []
          }
        },
        {
          "output_type": "display_data",
          "data": {
            "text/html": [
              "<pre>Training model from provided data.</pre>"
            ],
            "text/plain": [
              "Training model from provided data."
            ]
          },
          "metadata": {
            "tags": []
          }
        },
        {
          "output_type": "display_data",
          "data": {
            "text/html": [
              "<pre>Gathering per-item and per-user statistics.</pre>"
            ],
            "text/plain": [
              "Gathering per-item and per-user statistics."
            ]
          },
          "metadata": {
            "tags": []
          }
        },
        {
          "output_type": "display_data",
          "data": {
            "text/html": [
              "<pre>+--------------------------------+------------+</pre>"
            ],
            "text/plain": [
              "+--------------------------------+------------+"
            ]
          },
          "metadata": {
            "tags": []
          }
        },
        {
          "output_type": "display_data",
          "data": {
            "text/html": [
              "<pre>| Elapsed Time (Item Statistics) | % Complete |</pre>"
            ],
            "text/plain": [
              "| Elapsed Time (Item Statistics) | % Complete |"
            ]
          },
          "metadata": {
            "tags": []
          }
        },
        {
          "output_type": "display_data",
          "data": {
            "text/html": [
              "<pre>+--------------------------------+------------+</pre>"
            ],
            "text/plain": [
              "+--------------------------------+------------+"
            ]
          },
          "metadata": {
            "tags": []
          }
        },
        {
          "output_type": "display_data",
          "data": {
            "text/html": [
              "<pre>| 2.411ms                        | 4.25       |</pre>"
            ],
            "text/plain": [
              "| 2.411ms                        | 4.25       |"
            ]
          },
          "metadata": {
            "tags": []
          }
        },
        {
          "output_type": "display_data",
          "data": {
            "text/html": [
              "<pre>| 31.681ms                       | 100        |</pre>"
            ],
            "text/plain": [
              "| 31.681ms                       | 100        |"
            ]
          },
          "metadata": {
            "tags": []
          }
        },
        {
          "output_type": "display_data",
          "data": {
            "text/html": [
              "<pre>+--------------------------------+------------+</pre>"
            ],
            "text/plain": [
              "+--------------------------------+------------+"
            ]
          },
          "metadata": {
            "tags": []
          }
        },
        {
          "output_type": "display_data",
          "data": {
            "text/html": [
              "<pre>Setting up lookup tables.</pre>"
            ],
            "text/plain": [
              "Setting up lookup tables."
            ]
          },
          "metadata": {
            "tags": []
          }
        },
        {
          "output_type": "display_data",
          "data": {
            "text/html": [
              "<pre>Processing data in one pass using dense lookup tables.</pre>"
            ],
            "text/plain": [
              "Processing data in one pass using dense lookup tables."
            ]
          },
          "metadata": {
            "tags": []
          }
        },
        {
          "output_type": "display_data",
          "data": {
            "text/html": [
              "<pre>+-------------------------------------+------------------+-----------------+</pre>"
            ],
            "text/plain": [
              "+-------------------------------------+------------------+-----------------+"
            ]
          },
          "metadata": {
            "tags": []
          }
        },
        {
          "output_type": "display_data",
          "data": {
            "text/html": [
              "<pre>| Elapsed Time (Constructing Lookups) | Total % Complete | Items Processed |</pre>"
            ],
            "text/plain": [
              "| Elapsed Time (Constructing Lookups) | Total % Complete | Items Processed |"
            ]
          },
          "metadata": {
            "tags": []
          }
        },
        {
          "output_type": "display_data",
          "data": {
            "text/html": [
              "<pre>+-------------------------------------+------------------+-----------------+</pre>"
            ],
            "text/plain": [
              "+-------------------------------------+------------------+-----------------+"
            ]
          },
          "metadata": {
            "tags": []
          }
        },
        {
          "output_type": "display_data",
          "data": {
            "text/html": [
              "<pre>| 33.114ms                            | 0                | 0               |</pre>"
            ],
            "text/plain": [
              "| 33.114ms                            | 0                | 0               |"
            ]
          },
          "metadata": {
            "tags": []
          }
        },
        {
          "output_type": "display_data",
          "data": {
            "text/html": [
              "<pre>| 90.789ms                            | 100              | 300             |</pre>"
            ],
            "text/plain": [
              "| 90.789ms                            | 100              | 300             |"
            ]
          },
          "metadata": {
            "tags": []
          }
        },
        {
          "output_type": "display_data",
          "data": {
            "text/html": [
              "<pre>+-------------------------------------+------------------+-----------------+</pre>"
            ],
            "text/plain": [
              "+-------------------------------------+------------------+-----------------+"
            ]
          },
          "metadata": {
            "tags": []
          }
        },
        {
          "output_type": "display_data",
          "data": {
            "text/html": [
              "<pre>Finalizing lookup tables.</pre>"
            ],
            "text/plain": [
              "Finalizing lookup tables."
            ]
          },
          "metadata": {
            "tags": []
          }
        },
        {
          "output_type": "display_data",
          "data": {
            "text/html": [
              "<pre>Generating candidate set for working with new users.</pre>"
            ],
            "text/plain": [
              "Generating candidate set for working with new users."
            ]
          },
          "metadata": {
            "tags": []
          }
        },
        {
          "output_type": "display_data",
          "data": {
            "text/html": [
              "<pre>Finished training in 0.132742s</pre>"
            ],
            "text/plain": [
              "Finished training in 0.132742s"
            ]
          },
          "metadata": {
            "tags": []
          }
        },
        {
          "output_type": "display_data",
          "data": {
            "text/html": [
              "<pre>recommendations finished on 1000/1000 queries. users per second: 56863.4</pre>"
            ],
            "text/plain": [
              "recommendations finished on 1000/1000 queries. users per second: 56863.4"
            ]
          },
          "metadata": {
            "tags": []
          }
        },
        {
          "output_type": "stream",
          "text": [
            "+------------+-----------+-----------------------+------+\n",
            "| customerId | productId |         score         | rank |\n",
            "+------------+-----------+-----------------------+------+\n",
            "|    1553    |    224    |          0.0          |  1   |\n",
            "|    1553    |    181    |          0.0          |  2   |\n",
            "|    1553    |    249    |          0.0          |  3   |\n",
            "|    1553    |     2     |          0.0          |  4   |\n",
            "|    1553    |     10    |          0.0          |  5   |\n",
            "|    1553    |    213    |          0.0          |  6   |\n",
            "|    1553    |    122    |          0.0          |  7   |\n",
            "|    1553    |     18    |          0.0          |  8   |\n",
            "|    1553    |     72    |          0.0          |  9   |\n",
            "|    1553    |    195    |          0.0          |  10  |\n",
            "|   20400    |     2     |  0.003373885154724121 |  1   |\n",
            "|   20400    |     1     | 0.0032870793342590333 |  2   |\n",
            "|   20400    |     8     | 0.0027299237251281736 |  3   |\n",
            "|   20400    |     38    |  0.002032231092453003 |  4   |\n",
            "|   20400    |     48    | 0.0018727970123291015 |  5   |\n",
            "|   20400    |     0     | 0.0018494188785552978 |  6   |\n",
            "|   20400    |     79    | 0.0018373382091522216 |  7   |\n",
            "|   20400    |     20    | 0.0017699062824249267 |  8   |\n",
            "|   20400    |     36    |   0.001639404296875   |  9   |\n",
            "|   20400    |     14    |  0.001636648178100586 |  10  |\n",
            "|   19750    |    225    |  0.006457999348640442 |  1   |\n",
            "|   19750    |    178    |  0.003870338201522827 |  2   |\n",
            "|   19750    |    181    |  0.003853544592857361 |  3   |\n",
            "|   19750    |    134    | 0.0034892261028289795 |  4   |\n",
            "|   19750    |    228    | 0.0031807273626327515 |  5   |\n",
            "|   19750    |     3     |  0.003021746873855591 |  6   |\n",
            "|   19750    |    254    |  0.002937108278274536 |  7   |\n",
            "|   19750    |    103    | 0.0026136934757232666 |  8   |\n",
            "|   19750    |    208    | 0.0025065839290618896 |  9   |\n",
            "|   19750    |     2     | 0.0024312883615493774 |  10  |\n",
            "+------------+-----------+-----------------------+------+\n",
            "[10000 rows x 4 columns]\n",
            "\n"
          ],
          "name": "stdout"
        }
      ]
    },
    {
      "cell_type": "markdown",
      "metadata": {
        "id": "PgNyP8011hhu"
      },
      "source": [
        "### 6.2. Similaridade de `Pearson`\n",
        "* Similaridade é o coeficiente de Pearson entre os dois vetores.\n",
        "* É definido pela seguinte fórmula\n",
        "![](http://critical-numbers.group.shef.ac.uk/glossary/images/correlationKT1.png)"
      ]
    },
    {
      "cell_type": "markdown",
      "metadata": {
        "id": "T4KOcCHn1hhu"
      },
      "source": [
        "#### Usando contagem de compra"
      ]
    },
    {
      "cell_type": "code",
      "metadata": {
        "colab": {
          "base_uri": "https://localhost:8080/",
          "height": 1000
        },
        "id": "m2pdekY41hhu",
        "outputId": "8e6e3944-87cb-4d10-fdff-7ff3ef03a4f4"
      },
      "source": [
        "# these variables will change accordingly\n",
        "name = 'pearson'\n",
        "target = 'purchase_count'\n",
        "pear = model(train_data, name, user_id, item_id, target, users_to_recommend, n_rec, n_display)"
      ],
      "execution_count": 43,
      "outputs": [
        {
          "output_type": "display_data",
          "data": {
            "text/html": [
              "<pre>Preparing data set.</pre>"
            ],
            "text/plain": [
              "Preparing data set."
            ]
          },
          "metadata": {
            "tags": []
          }
        },
        {
          "output_type": "display_data",
          "data": {
            "text/html": [
              "<pre>    Data has 106868 observations with 23277 users and 300 items.</pre>"
            ],
            "text/plain": [
              "    Data has 106868 observations with 23277 users and 300 items."
            ]
          },
          "metadata": {
            "tags": []
          }
        },
        {
          "output_type": "display_data",
          "data": {
            "text/html": [
              "<pre>    Data prepared in: 0.145642s</pre>"
            ],
            "text/plain": [
              "    Data prepared in: 0.145642s"
            ]
          },
          "metadata": {
            "tags": []
          }
        },
        {
          "output_type": "display_data",
          "data": {
            "text/html": [
              "<pre>Training model from provided data.</pre>"
            ],
            "text/plain": [
              "Training model from provided data."
            ]
          },
          "metadata": {
            "tags": []
          }
        },
        {
          "output_type": "display_data",
          "data": {
            "text/html": [
              "<pre>Gathering per-item and per-user statistics.</pre>"
            ],
            "text/plain": [
              "Gathering per-item and per-user statistics."
            ]
          },
          "metadata": {
            "tags": []
          }
        },
        {
          "output_type": "display_data",
          "data": {
            "text/html": [
              "<pre>+--------------------------------+------------+</pre>"
            ],
            "text/plain": [
              "+--------------------------------+------------+"
            ]
          },
          "metadata": {
            "tags": []
          }
        },
        {
          "output_type": "display_data",
          "data": {
            "text/html": [
              "<pre>| Elapsed Time (Item Statistics) | % Complete |</pre>"
            ],
            "text/plain": [
              "| Elapsed Time (Item Statistics) | % Complete |"
            ]
          },
          "metadata": {
            "tags": []
          }
        },
        {
          "output_type": "display_data",
          "data": {
            "text/html": [
              "<pre>+--------------------------------+------------+</pre>"
            ],
            "text/plain": [
              "+--------------------------------+------------+"
            ]
          },
          "metadata": {
            "tags": []
          }
        },
        {
          "output_type": "display_data",
          "data": {
            "text/html": [
              "<pre>| 2.933ms                        | 4.25       |</pre>"
            ],
            "text/plain": [
              "| 2.933ms                        | 4.25       |"
            ]
          },
          "metadata": {
            "tags": []
          }
        },
        {
          "output_type": "display_data",
          "data": {
            "text/html": [
              "<pre>| 30.823ms                       | 100        |</pre>"
            ],
            "text/plain": [
              "| 30.823ms                       | 100        |"
            ]
          },
          "metadata": {
            "tags": []
          }
        },
        {
          "output_type": "display_data",
          "data": {
            "text/html": [
              "<pre>+--------------------------------+------------+</pre>"
            ],
            "text/plain": [
              "+--------------------------------+------------+"
            ]
          },
          "metadata": {
            "tags": []
          }
        },
        {
          "output_type": "display_data",
          "data": {
            "text/html": [
              "<pre>Setting up lookup tables.</pre>"
            ],
            "text/plain": [
              "Setting up lookup tables."
            ]
          },
          "metadata": {
            "tags": []
          }
        },
        {
          "output_type": "display_data",
          "data": {
            "text/html": [
              "<pre>Processing data in one pass using dense lookup tables.</pre>"
            ],
            "text/plain": [
              "Processing data in one pass using dense lookup tables."
            ]
          },
          "metadata": {
            "tags": []
          }
        },
        {
          "output_type": "display_data",
          "data": {
            "text/html": [
              "<pre>+-------------------------------------+------------------+-----------------+</pre>"
            ],
            "text/plain": [
              "+-------------------------------------+------------------+-----------------+"
            ]
          },
          "metadata": {
            "tags": []
          }
        },
        {
          "output_type": "display_data",
          "data": {
            "text/html": [
              "<pre>| Elapsed Time (Constructing Lookups) | Total % Complete | Items Processed |</pre>"
            ],
            "text/plain": [
              "| Elapsed Time (Constructing Lookups) | Total % Complete | Items Processed |"
            ]
          },
          "metadata": {
            "tags": []
          }
        },
        {
          "output_type": "display_data",
          "data": {
            "text/html": [
              "<pre>+-------------------------------------+------------------+-----------------+</pre>"
            ],
            "text/plain": [
              "+-------------------------------------+------------------+-----------------+"
            ]
          },
          "metadata": {
            "tags": []
          }
        },
        {
          "output_type": "display_data",
          "data": {
            "text/html": [
              "<pre>| 33.459ms                            | 0                | 0               |</pre>"
            ],
            "text/plain": [
              "| 33.459ms                            | 0                | 0               |"
            ]
          },
          "metadata": {
            "tags": []
          }
        },
        {
          "output_type": "display_data",
          "data": {
            "text/html": [
              "<pre>| 99.894ms                            | 100              | 300             |</pre>"
            ],
            "text/plain": [
              "| 99.894ms                            | 100              | 300             |"
            ]
          },
          "metadata": {
            "tags": []
          }
        },
        {
          "output_type": "display_data",
          "data": {
            "text/html": [
              "<pre>+-------------------------------------+------------------+-----------------+</pre>"
            ],
            "text/plain": [
              "+-------------------------------------+------------------+-----------------+"
            ]
          },
          "metadata": {
            "tags": []
          }
        },
        {
          "output_type": "display_data",
          "data": {
            "text/html": [
              "<pre>Finalizing lookup tables.</pre>"
            ],
            "text/plain": [
              "Finalizing lookup tables."
            ]
          },
          "metadata": {
            "tags": []
          }
        },
        {
          "output_type": "display_data",
          "data": {
            "text/html": [
              "<pre>Generating candidate set for working with new users.</pre>"
            ],
            "text/plain": [
              "Generating candidate set for working with new users."
            ]
          },
          "metadata": {
            "tags": []
          }
        },
        {
          "output_type": "display_data",
          "data": {
            "text/html": [
              "<pre>Finished training in 0.121311s</pre>"
            ],
            "text/plain": [
              "Finished training in 0.121311s"
            ]
          },
          "metadata": {
            "tags": []
          }
        },
        {
          "output_type": "display_data",
          "data": {
            "text/html": [
              "<pre>recommendations finished on 1000/1000 queries. users per second: 51274.2</pre>"
            ],
            "text/plain": [
              "recommendations finished on 1000/1000 queries. users per second: 51274.2"
            ]
          },
          "metadata": {
            "tags": []
          }
        },
        {
          "output_type": "stream",
          "text": [
            "+------------+-----------+--------------------+------+\n",
            "| customerId | productId |       score        | rank |\n",
            "+------------+-----------+--------------------+------+\n",
            "|    1553    |    132    | 3.3208039266722533 |  1   |\n",
            "|    1553    |     37    | 3.0718137562503287 |  2   |\n",
            "|    1553    |    248    | 3.068181818181819  |  3   |\n",
            "|    1553    |     0     | 2.9943449575871828 |  4   |\n",
            "|    1553    |     34    | 2.9365133071432297 |  5   |\n",
            "|    1553    |     3     | 2.8305439330543947 |  6   |\n",
            "|    1553    |    110    | 2.6901517668435733 |  7   |\n",
            "|    1553    |     27    | 2.6850393700787416 |  8   |\n",
            "|    1553    |    245    | 2.6785714285714284 |  9   |\n",
            "|    1553    |     10    | 2.6564417177914104 |  10  |\n",
            "|   20400    |    132    | 3.311506484236035  |  1   |\n",
            "|   20400    |     37    | 3.0727969348658988 |  2   |\n",
            "|   20400    |    248    | 3.068181818181819  |  3   |\n",
            "|   20400    |     0     | 2.9943449575871828 |  4   |\n",
            "|   20400    |     34    | 2.9551020408163255 |  5   |\n",
            "|   20400    |     3     | 2.8280869699921083 |  6   |\n",
            "|   20400    |    110    | 2.6918604651162785 |  7   |\n",
            "|   20400    |     27    | 2.680818526763617  |  8   |\n",
            "|   20400    |    245    | 2.6785714285714284 |  9   |\n",
            "|   20400    |     10    | 2.6564417177914104 |  10  |\n",
            "|   19750    |    132    | 3.319819499339375  |  1   |\n",
            "|   19750    |     37    | 3.0727969348658988 |  2   |\n",
            "|   19750    |    248    | 3.068181818181819  |  3   |\n",
            "|   19750    |     0     | 2.9943449575871828 |  4   |\n",
            "|   19750    |     34    | 2.9551020408163255 |  5   |\n",
            "|   19750    |     3     | 2.830315870782323  |  6   |\n",
            "|   19750    |    110    | 2.6917320320079487 |  7   |\n",
            "|   19750    |     27    | 2.6850393700787416 |  8   |\n",
            "|   19750    |    245    | 2.6785714285714284 |  9   |\n",
            "|   19750    |     10    | 2.6564417177914104 |  10  |\n",
            "+------------+-----------+--------------------+------+\n",
            "[10000 rows x 4 columns]\n",
            "\n"
          ],
          "name": "stdout"
        }
      ]
    },
    {
      "cell_type": "markdown",
      "metadata": {
        "id": "2H9iBhBy1hhu"
      },
      "source": [
        "#### Usando compra dummy"
      ]
    },
    {
      "cell_type": "code",
      "metadata": {
        "colab": {
          "base_uri": "https://localhost:8080/",
          "height": 1000
        },
        "id": "v1b7t0ez1hhu",
        "outputId": "9a427d9e-67f4-4849-ee35-024e23f090e5"
      },
      "source": [
        "# these variables will change accordingly\n",
        "name = 'pearson'\n",
        "target = 'purchase_dummy'\n",
        "pear_dummy = model(train_data_dummy, name, user_id, item_id, target, users_to_recommend, n_rec, n_display)"
      ],
      "execution_count": 44,
      "outputs": [
        {
          "output_type": "display_data",
          "data": {
            "text/html": [
              "<pre>Warning: Ignoring columns purchase_count;</pre>"
            ],
            "text/plain": [
              "Warning: Ignoring columns purchase_count;"
            ]
          },
          "metadata": {
            "tags": []
          }
        },
        {
          "output_type": "display_data",
          "data": {
            "text/html": [
              "<pre>    To use these columns in scoring predictions, use a model that allows the use of additional features.</pre>"
            ],
            "text/plain": [
              "    To use these columns in scoring predictions, use a model that allows the use of additional features."
            ]
          },
          "metadata": {
            "tags": []
          }
        },
        {
          "output_type": "display_data",
          "data": {
            "text/html": [
              "<pre>Preparing data set.</pre>"
            ],
            "text/plain": [
              "Preparing data set."
            ]
          },
          "metadata": {
            "tags": []
          }
        },
        {
          "output_type": "display_data",
          "data": {
            "text/html": [
              "<pre>    Data has 106868 observations with 23299 users and 300 items.</pre>"
            ],
            "text/plain": [
              "    Data has 106868 observations with 23299 users and 300 items."
            ]
          },
          "metadata": {
            "tags": []
          }
        },
        {
          "output_type": "display_data",
          "data": {
            "text/html": [
              "<pre>    Data prepared in: 0.161214s</pre>"
            ],
            "text/plain": [
              "    Data prepared in: 0.161214s"
            ]
          },
          "metadata": {
            "tags": []
          }
        },
        {
          "output_type": "display_data",
          "data": {
            "text/html": [
              "<pre>Training model from provided data.</pre>"
            ],
            "text/plain": [
              "Training model from provided data."
            ]
          },
          "metadata": {
            "tags": []
          }
        },
        {
          "output_type": "display_data",
          "data": {
            "text/html": [
              "<pre>Gathering per-item and per-user statistics.</pre>"
            ],
            "text/plain": [
              "Gathering per-item and per-user statistics."
            ]
          },
          "metadata": {
            "tags": []
          }
        },
        {
          "output_type": "display_data",
          "data": {
            "text/html": [
              "<pre>+--------------------------------+------------+</pre>"
            ],
            "text/plain": [
              "+--------------------------------+------------+"
            ]
          },
          "metadata": {
            "tags": []
          }
        },
        {
          "output_type": "display_data",
          "data": {
            "text/html": [
              "<pre>| Elapsed Time (Item Statistics) | % Complete |</pre>"
            ],
            "text/plain": [
              "| Elapsed Time (Item Statistics) | % Complete |"
            ]
          },
          "metadata": {
            "tags": []
          }
        },
        {
          "output_type": "display_data",
          "data": {
            "text/html": [
              "<pre>+--------------------------------+------------+</pre>"
            ],
            "text/plain": [
              "+--------------------------------+------------+"
            ]
          },
          "metadata": {
            "tags": []
          }
        },
        {
          "output_type": "display_data",
          "data": {
            "text/html": [
              "<pre>| 1.165ms                        | 4.25       |</pre>"
            ],
            "text/plain": [
              "| 1.165ms                        | 4.25       |"
            ]
          },
          "metadata": {
            "tags": []
          }
        },
        {
          "output_type": "display_data",
          "data": {
            "text/html": [
              "<pre>| 28.194ms                       | 100        |</pre>"
            ],
            "text/plain": [
              "| 28.194ms                       | 100        |"
            ]
          },
          "metadata": {
            "tags": []
          }
        },
        {
          "output_type": "display_data",
          "data": {
            "text/html": [
              "<pre>+--------------------------------+------------+</pre>"
            ],
            "text/plain": [
              "+--------------------------------+------------+"
            ]
          },
          "metadata": {
            "tags": []
          }
        },
        {
          "output_type": "display_data",
          "data": {
            "text/html": [
              "<pre>Setting up lookup tables.</pre>"
            ],
            "text/plain": [
              "Setting up lookup tables."
            ]
          },
          "metadata": {
            "tags": []
          }
        },
        {
          "output_type": "display_data",
          "data": {
            "text/html": [
              "<pre>Processing data in one pass using dense lookup tables.</pre>"
            ],
            "text/plain": [
              "Processing data in one pass using dense lookup tables."
            ]
          },
          "metadata": {
            "tags": []
          }
        },
        {
          "output_type": "display_data",
          "data": {
            "text/html": [
              "<pre>+-------------------------------------+------------------+-----------------+</pre>"
            ],
            "text/plain": [
              "+-------------------------------------+------------------+-----------------+"
            ]
          },
          "metadata": {
            "tags": []
          }
        },
        {
          "output_type": "display_data",
          "data": {
            "text/html": [
              "<pre>| Elapsed Time (Constructing Lookups) | Total % Complete | Items Processed |</pre>"
            ],
            "text/plain": [
              "| Elapsed Time (Constructing Lookups) | Total % Complete | Items Processed |"
            ]
          },
          "metadata": {
            "tags": []
          }
        },
        {
          "output_type": "display_data",
          "data": {
            "text/html": [
              "<pre>+-------------------------------------+------------------+-----------------+</pre>"
            ],
            "text/plain": [
              "+-------------------------------------+------------------+-----------------+"
            ]
          },
          "metadata": {
            "tags": []
          }
        },
        {
          "output_type": "display_data",
          "data": {
            "text/html": [
              "<pre>| 28.893ms                            | 0                | 0               |</pre>"
            ],
            "text/plain": [
              "| 28.893ms                            | 0                | 0               |"
            ]
          },
          "metadata": {
            "tags": []
          }
        },
        {
          "output_type": "display_data",
          "data": {
            "text/html": [
              "<pre>| 80.159ms                            | 100              | 300             |</pre>"
            ],
            "text/plain": [
              "| 80.159ms                            | 100              | 300             |"
            ]
          },
          "metadata": {
            "tags": []
          }
        },
        {
          "output_type": "display_data",
          "data": {
            "text/html": [
              "<pre>+-------------------------------------+------------------+-----------------+</pre>"
            ],
            "text/plain": [
              "+-------------------------------------+------------------+-----------------+"
            ]
          },
          "metadata": {
            "tags": []
          }
        },
        {
          "output_type": "display_data",
          "data": {
            "text/html": [
              "<pre>Finalizing lookup tables.</pre>"
            ],
            "text/plain": [
              "Finalizing lookup tables."
            ]
          },
          "metadata": {
            "tags": []
          }
        },
        {
          "output_type": "display_data",
          "data": {
            "text/html": [
              "<pre>Generating candidate set for working with new users.</pre>"
            ],
            "text/plain": [
              "Generating candidate set for working with new users."
            ]
          },
          "metadata": {
            "tags": []
          }
        },
        {
          "output_type": "display_data",
          "data": {
            "text/html": [
              "<pre>Finished training in 0.101965s</pre>"
            ],
            "text/plain": [
              "Finished training in 0.101965s"
            ]
          },
          "metadata": {
            "tags": []
          }
        },
        {
          "output_type": "display_data",
          "data": {
            "text/html": [
              "<pre>recommendations finished on 1000/1000 queries. users per second: 42443</pre>"
            ],
            "text/plain": [
              "recommendations finished on 1000/1000 queries. users per second: 42443"
            ]
          },
          "metadata": {
            "tags": []
          }
        },
        {
          "output_type": "stream",
          "text": [
            "+------------+-----------+-------+------+\n",
            "| customerId | productId | score | rank |\n",
            "+------------+-----------+-------+------+\n",
            "|    1553    |     23    |  0.0  |  1   |\n",
            "|    1553    |     4     |  0.0  |  2   |\n",
            "|    1553    |    258    |  0.0  |  3   |\n",
            "|    1553    |     35    |  0.0  |  4   |\n",
            "|    1553    |    173    |  0.0  |  5   |\n",
            "|    1553    |     5     |  0.0  |  6   |\n",
            "|    1553    |     96    |  0.0  |  7   |\n",
            "|    1553    |     36    |  0.0  |  8   |\n",
            "|    1553    |     19    |  0.0  |  9   |\n",
            "|    1553    |     43    |  0.0  |  10  |\n",
            "|   20400    |     23    |  0.0  |  1   |\n",
            "|   20400    |     4     |  0.0  |  2   |\n",
            "|   20400    |    258    |  0.0  |  3   |\n",
            "|   20400    |     35    |  0.0  |  4   |\n",
            "|   20400    |    173    |  0.0  |  5   |\n",
            "|   20400    |     5     |  0.0  |  6   |\n",
            "|   20400    |     96    |  0.0  |  7   |\n",
            "|   20400    |     36    |  0.0  |  8   |\n",
            "|   20400    |     19    |  0.0  |  9   |\n",
            "|   20400    |     43    |  0.0  |  10  |\n",
            "|   19750    |     23    |  0.0  |  1   |\n",
            "|   19750    |     4     |  0.0  |  2   |\n",
            "|   19750    |    258    |  0.0  |  3   |\n",
            "|   19750    |     35    |  0.0  |  4   |\n",
            "|   19750    |    173    |  0.0  |  5   |\n",
            "|   19750    |     5     |  0.0  |  6   |\n",
            "|   19750    |     96    |  0.0  |  7   |\n",
            "|   19750    |     36    |  0.0  |  8   |\n",
            "|   19750    |     19    |  0.0  |  9   |\n",
            "|   19750    |     43    |  0.0  |  10  |\n",
            "+------------+-----------+-------+------+\n",
            "[10000 rows x 4 columns]\n",
            "\n"
          ],
          "name": "stdout"
        }
      ]
    },
    {
      "cell_type": "markdown",
      "metadata": {
        "id": "s1-zvm9V1hhv"
      },
      "source": [
        "#### Usando contagem normalizada de compra"
      ]
    },
    {
      "cell_type": "code",
      "metadata": {
        "colab": {
          "base_uri": "https://localhost:8080/",
          "height": 1000
        },
        "id": "bOp-TUXj1hhv",
        "outputId": "68adfb09-0f20-4471-cefc-3d13a63e028f"
      },
      "source": [
        "name = 'pearson'\n",
        "target = 'scaled_purchase_freq'\n",
        "pear_norm = model(train_data_norm, name, user_id, item_id, target, users_to_recommend, n_rec, n_display)"
      ],
      "execution_count": 45,
      "outputs": [
        {
          "output_type": "display_data",
          "data": {
            "text/html": [
              "<pre>Preparing data set.</pre>"
            ],
            "text/plain": [
              "Preparing data set."
            ]
          },
          "metadata": {
            "tags": []
          }
        },
        {
          "output_type": "display_data",
          "data": {
            "text/html": [
              "<pre>    Data has 106868 observations with 23350 users and 300 items.</pre>"
            ],
            "text/plain": [
              "    Data has 106868 observations with 23350 users and 300 items."
            ]
          },
          "metadata": {
            "tags": []
          }
        },
        {
          "output_type": "display_data",
          "data": {
            "text/html": [
              "<pre>    Data prepared in: 0.154028s</pre>"
            ],
            "text/plain": [
              "    Data prepared in: 0.154028s"
            ]
          },
          "metadata": {
            "tags": []
          }
        },
        {
          "output_type": "display_data",
          "data": {
            "text/html": [
              "<pre>Training model from provided data.</pre>"
            ],
            "text/plain": [
              "Training model from provided data."
            ]
          },
          "metadata": {
            "tags": []
          }
        },
        {
          "output_type": "display_data",
          "data": {
            "text/html": [
              "<pre>Gathering per-item and per-user statistics.</pre>"
            ],
            "text/plain": [
              "Gathering per-item and per-user statistics."
            ]
          },
          "metadata": {
            "tags": []
          }
        },
        {
          "output_type": "display_data",
          "data": {
            "text/html": [
              "<pre>+--------------------------------+------------+</pre>"
            ],
            "text/plain": [
              "+--------------------------------+------------+"
            ]
          },
          "metadata": {
            "tags": []
          }
        },
        {
          "output_type": "display_data",
          "data": {
            "text/html": [
              "<pre>| Elapsed Time (Item Statistics) | % Complete |</pre>"
            ],
            "text/plain": [
              "| Elapsed Time (Item Statistics) | % Complete |"
            ]
          },
          "metadata": {
            "tags": []
          }
        },
        {
          "output_type": "display_data",
          "data": {
            "text/html": [
              "<pre>+--------------------------------+------------+</pre>"
            ],
            "text/plain": [
              "+--------------------------------+------------+"
            ]
          },
          "metadata": {
            "tags": []
          }
        },
        {
          "output_type": "display_data",
          "data": {
            "text/html": [
              "<pre>| 18.539ms                       | 4.25       |</pre>"
            ],
            "text/plain": [
              "| 18.539ms                       | 4.25       |"
            ]
          },
          "metadata": {
            "tags": []
          }
        },
        {
          "output_type": "display_data",
          "data": {
            "text/html": [
              "<pre>| 44.45ms                        | 100        |</pre>"
            ],
            "text/plain": [
              "| 44.45ms                        | 100        |"
            ]
          },
          "metadata": {
            "tags": []
          }
        },
        {
          "output_type": "display_data",
          "data": {
            "text/html": [
              "<pre>+--------------------------------+------------+</pre>"
            ],
            "text/plain": [
              "+--------------------------------+------------+"
            ]
          },
          "metadata": {
            "tags": []
          }
        },
        {
          "output_type": "display_data",
          "data": {
            "text/html": [
              "<pre>Setting up lookup tables.</pre>"
            ],
            "text/plain": [
              "Setting up lookup tables."
            ]
          },
          "metadata": {
            "tags": []
          }
        },
        {
          "output_type": "display_data",
          "data": {
            "text/html": [
              "<pre>Processing data in one pass using dense lookup tables.</pre>"
            ],
            "text/plain": [
              "Processing data in one pass using dense lookup tables."
            ]
          },
          "metadata": {
            "tags": []
          }
        },
        {
          "output_type": "display_data",
          "data": {
            "text/html": [
              "<pre>+-------------------------------------+------------------+-----------------+</pre>"
            ],
            "text/plain": [
              "+-------------------------------------+------------------+-----------------+"
            ]
          },
          "metadata": {
            "tags": []
          }
        },
        {
          "output_type": "display_data",
          "data": {
            "text/html": [
              "<pre>| Elapsed Time (Constructing Lookups) | Total % Complete | Items Processed |</pre>"
            ],
            "text/plain": [
              "| Elapsed Time (Constructing Lookups) | Total % Complete | Items Processed |"
            ]
          },
          "metadata": {
            "tags": []
          }
        },
        {
          "output_type": "display_data",
          "data": {
            "text/html": [
              "<pre>+-------------------------------------+------------------+-----------------+</pre>"
            ],
            "text/plain": [
              "+-------------------------------------+------------------+-----------------+"
            ]
          },
          "metadata": {
            "tags": []
          }
        },
        {
          "output_type": "display_data",
          "data": {
            "text/html": [
              "<pre>| 45.521ms                            | 0                | 0               |</pre>"
            ],
            "text/plain": [
              "| 45.521ms                            | 0                | 0               |"
            ]
          },
          "metadata": {
            "tags": []
          }
        },
        {
          "output_type": "display_data",
          "data": {
            "text/html": [
              "<pre>| 102.008ms                           | 100              | 300             |</pre>"
            ],
            "text/plain": [
              "| 102.008ms                           | 100              | 300             |"
            ]
          },
          "metadata": {
            "tags": []
          }
        },
        {
          "output_type": "display_data",
          "data": {
            "text/html": [
              "<pre>+-------------------------------------+------------------+-----------------+</pre>"
            ],
            "text/plain": [
              "+-------------------------------------+------------------+-----------------+"
            ]
          },
          "metadata": {
            "tags": []
          }
        },
        {
          "output_type": "display_data",
          "data": {
            "text/html": [
              "<pre>Finalizing lookup tables.</pre>"
            ],
            "text/plain": [
              "Finalizing lookup tables."
            ]
          },
          "metadata": {
            "tags": []
          }
        },
        {
          "output_type": "display_data",
          "data": {
            "text/html": [
              "<pre>Generating candidate set for working with new users.</pre>"
            ],
            "text/plain": [
              "Generating candidate set for working with new users."
            ]
          },
          "metadata": {
            "tags": []
          }
        },
        {
          "output_type": "display_data",
          "data": {
            "text/html": [
              "<pre>Finished training in 0.129752s</pre>"
            ],
            "text/plain": [
              "Finished training in 0.129752s"
            ]
          },
          "metadata": {
            "tags": []
          }
        },
        {
          "output_type": "display_data",
          "data": {
            "text/html": [
              "<pre>recommendations finished on 1000/1000 queries. users per second: 53538.9</pre>"
            ],
            "text/plain": [
              "recommendations finished on 1000/1000 queries. users per second: 53538.9"
            ]
          },
          "metadata": {
            "tags": []
          }
        },
        {
          "output_type": "stream",
          "text": [
            "+------------+-----------+---------------------+------+\n",
            "| customerId | productId |        score        | rank |\n",
            "+------------+-----------+---------------------+------+\n",
            "|    1553    |    226    |  0.7615894039735095 |  1   |\n",
            "|    1553    |    247    |  0.3333333333333333 |  2   |\n",
            "|    1553    |    230    |  0.3276080699527964 |  3   |\n",
            "|    1553    |    294    | 0.26811594202898537 |  4   |\n",
            "|    1553    |    125    | 0.26444758561941323 |  5   |\n",
            "|    1553    |    204    | 0.25000000000000006 |  6   |\n",
            "|    1553    |    248    | 0.23750000000000004 |  7   |\n",
            "|    1553    |    276    |  0.2347692583546495 |  8   |\n",
            "|    1553    |    155    |  0.2333333333333333 |  9   |\n",
            "|    1553    |     72    | 0.22199170124481324 |  10  |\n",
            "|   20400    |    226    |  0.7615721508130328 |  1   |\n",
            "|   20400    |    247    |  0.3333310826619466 |  2   |\n",
            "|   20400    |    230    |  0.327931127127479  |  3   |\n",
            "|   20400    |    294    | 0.26809407070063146 |  4   |\n",
            "|   20400    |    125    |  0.2646075251469248 |  5   |\n",
            "|   20400    |    204    | 0.24998570442199713 |  6   |\n",
            "|   20400    |    248    |  0.237494832277298  |  7   |\n",
            "|   20400    |    276    | 0.23482463345383164 |  8   |\n",
            "|   20400    |    155    |  0.2333081777890523 |  9   |\n",
            "|   20400    |     72    |  0.2219370926613629 |  10  |\n",
            "|   19750    |    226    |  0.7613750805720584 |  1   |\n",
            "|   19750    |    230    |  0.3279411764705881 |  2   |\n",
            "|   19750    |    294    | 0.26811594202898537 |  3   |\n",
            "|   19750    |    125    |  0.2646153846153849 |  4   |\n",
            "|   19750    |    204    |  0.2496409714221955 |  5   |\n",
            "|   19750    |    248    | 0.23750000000000004 |  6   |\n",
            "|   19750    |    276    | 0.23484848484848497 |  7   |\n",
            "|   19750    |    155    |  0.2333333333333333 |  8   |\n",
            "|   19750    |     72    | 0.22199170124481324 |  9   |\n",
            "|   19750    |    213    | 0.21529518221745456 |  10  |\n",
            "+------------+-----------+---------------------+------+\n",
            "[10000 rows x 4 columns]\n",
            "\n"
          ],
          "name": "stdout"
        }
      ]
    },
    {
      "cell_type": "markdown",
      "metadata": {
        "id": "DsZrH6e91hhv"
      },
      "source": [
        "#### Observação\n",
        "* Na filtragem colaborativa acima, usamos duas abordagens: cosseno e distância de Pearson. Também conseguimos aplicá-los a três conjuntos de dados de treinamento com contagens normais, dummy ou contagens normalizadas de compra de itens.\n",
        "* Podemos ver que as recomendações são diferentes para cada usuário. Isso sugere que a personalização existe.\n",
        "* Mas quão bom é este modelo em comparação com a linha de base e entre si? Precisamos de alguns meios de avaliar um mecanismo de recomendação. Vamos nos concentrar nisso na próxima seção."
      ]
    },
    {
      "cell_type": "markdown",
      "metadata": {
        "id": "I2GjPSCg1hhv"
      },
      "source": [
        "## 7. Avaliação do modelo\n",
        "Para avaliar os mecanismos de recomendação, podemos usar o conceito de recall de precisão.\n",
        "\n",
        "* RMSE (erros quadráticos médios)\n",
        "    * Mede o erro dos valores previstos\n",
        "    * Quanto menor o valor RMSE, melhores as recomendações\n",
        "* Lembrar\n",
        "    * Qual porcentagem de produtos que um usuário compra são realmente recomendados?\n",
        "    * Se um cliente comprar 5 produtos e a recomendação decidir mostrar 3 deles, o recall é de 0,6\n",
        "* Precisão\n",
        "    * De todos os itens recomendados, quantos o usuário realmente gostou?\n",
        "    * Se 5 produtos foram recomendados ao cliente, dos quais ele compra 4 deles, a precisão é 0,8\n",
        "    \n",
        "* Por que o recall e a precisão são importantes?\n",
        "    * Considere um caso em que recomendamos todos os produtos, para que nossos clientes com certeza tenha todos os itens que gostaria de compraram. Nesse caso, temos 100% de recall! Isso significa que nosso modelo é bom?\n",
        "    * Temos que considerar a precisão. Se recomendarmos 300 itens, mas o usuário gostar e comprar apenas 3 deles, a precisão é de 0,1%! Essa precisão muito baixa indica que o modelo não é ótimo, apesar de seu excelente recall.\n",
        "    * Portanto, nosso objetivo deve ser otimizar o recall e a precisão (para ser o mais próximo possível de 1).\n",
        "\n",
        "Vamos comparar todos os modelos que construímos com base nas características de recuperação de precisão:"
      ]
    },
    {
      "cell_type": "code",
      "metadata": {
        "collapsed": true,
        "id": "wGbUKqVS1hhv"
      },
      "source": [
        "# create initial callable variables\n",
        "\n",
        "models_w_counts = [popularity_model, cos, pear]\n",
        "models_w_dummy = [pop_dummy, cos_dummy, pear_dummy]\n",
        "models_w_norm = [pop_norm, cos_norm, pear_norm]\n",
        "\n",
        "names_w_counts = ['Popularity Model on Purchase Counts', 'Cosine Similarity on Purchase Counts', 'Pearson Similarity on Purchase Counts']\n",
        "names_w_dummy = ['Popularity Model on Purchase Dummy', 'Cosine Similarity on Purchase Dummy', 'Pearson Similarity on Purchase Dummy']\n",
        "names_w_norm = ['Popularity Model on Scaled Purchase Counts', 'Cosine Similarity on Scaled Purchase Counts', 'Pearson Similarity on Scaled Purchase Counts']"
      ],
      "execution_count": 46,
      "outputs": []
    },
    {
      "cell_type": "markdown",
      "metadata": {
        "id": "QSaRDGdD1hhv"
      },
      "source": [
        "#### Modelos para contagem de compra"
      ]
    },
    {
      "cell_type": "code",
      "metadata": {
        "scrolled": false,
        "colab": {
          "base_uri": "https://localhost:8080/",
          "height": 1000
        },
        "id": "HwbmFpcy1hhv",
        "outputId": "943da451-b641-4f87-ac17-7208c442af9a"
      },
      "source": [
        "eval_counts = tc.recommender.util.compare_models(test_data, models_w_counts, model_names=names_w_counts)"
      ],
      "execution_count": 47,
      "outputs": [
        {
          "output_type": "stream",
          "text": [
            "PROGRESS: Evaluate model Popularity Model on Purchase Counts\n"
          ],
          "name": "stdout"
        },
        {
          "output_type": "display_data",
          "data": {
            "text/html": [
              "<pre>recommendations finished on 1000/13901 queries. users per second: 58548</pre>"
            ],
            "text/plain": [
              "recommendations finished on 1000/13901 queries. users per second: 58548"
            ]
          },
          "metadata": {
            "tags": []
          }
        },
        {
          "output_type": "display_data",
          "data": {
            "text/html": [
              "<pre>recommendations finished on 2000/13901 queries. users per second: 53593.4</pre>"
            ],
            "text/plain": [
              "recommendations finished on 2000/13901 queries. users per second: 53593.4"
            ]
          },
          "metadata": {
            "tags": []
          }
        },
        {
          "output_type": "display_data",
          "data": {
            "text/html": [
              "<pre>recommendations finished on 3000/13901 queries. users per second: 54962.2</pre>"
            ],
            "text/plain": [
              "recommendations finished on 3000/13901 queries. users per second: 54962.2"
            ]
          },
          "metadata": {
            "tags": []
          }
        },
        {
          "output_type": "display_data",
          "data": {
            "text/html": [
              "<pre>recommendations finished on 4000/13901 queries. users per second: 57435.8</pre>"
            ],
            "text/plain": [
              "recommendations finished on 4000/13901 queries. users per second: 57435.8"
            ]
          },
          "metadata": {
            "tags": []
          }
        },
        {
          "output_type": "display_data",
          "data": {
            "text/html": [
              "<pre>recommendations finished on 5000/13901 queries. users per second: 58856.8</pre>"
            ],
            "text/plain": [
              "recommendations finished on 5000/13901 queries. users per second: 58856.8"
            ]
          },
          "metadata": {
            "tags": []
          }
        },
        {
          "output_type": "display_data",
          "data": {
            "text/html": [
              "<pre>recommendations finished on 6000/13901 queries. users per second: 53558.5</pre>"
            ],
            "text/plain": [
              "recommendations finished on 6000/13901 queries. users per second: 53558.5"
            ]
          },
          "metadata": {
            "tags": []
          }
        },
        {
          "output_type": "display_data",
          "data": {
            "text/html": [
              "<pre>recommendations finished on 7000/13901 queries. users per second: 53095.5</pre>"
            ],
            "text/plain": [
              "recommendations finished on 7000/13901 queries. users per second: 53095.5"
            ]
          },
          "metadata": {
            "tags": []
          }
        },
        {
          "output_type": "display_data",
          "data": {
            "text/html": [
              "<pre>recommendations finished on 8000/13901 queries. users per second: 53162.2</pre>"
            ],
            "text/plain": [
              "recommendations finished on 8000/13901 queries. users per second: 53162.2"
            ]
          },
          "metadata": {
            "tags": []
          }
        },
        {
          "output_type": "display_data",
          "data": {
            "text/html": [
              "<pre>recommendations finished on 9000/13901 queries. users per second: 54569.3</pre>"
            ],
            "text/plain": [
              "recommendations finished on 9000/13901 queries. users per second: 54569.3"
            ]
          },
          "metadata": {
            "tags": []
          }
        },
        {
          "output_type": "display_data",
          "data": {
            "text/html": [
              "<pre>recommendations finished on 10000/13901 queries. users per second: 55737.9</pre>"
            ],
            "text/plain": [
              "recommendations finished on 10000/13901 queries. users per second: 55737.9"
            ]
          },
          "metadata": {
            "tags": []
          }
        },
        {
          "output_type": "display_data",
          "data": {
            "text/html": [
              "<pre>recommendations finished on 11000/13901 queries. users per second: 55264.4</pre>"
            ],
            "text/plain": [
              "recommendations finished on 11000/13901 queries. users per second: 55264.4"
            ]
          },
          "metadata": {
            "tags": []
          }
        },
        {
          "output_type": "display_data",
          "data": {
            "text/html": [
              "<pre>recommendations finished on 12000/13901 queries. users per second: 53853.7</pre>"
            ],
            "text/plain": [
              "recommendations finished on 12000/13901 queries. users per second: 53853.7"
            ]
          },
          "metadata": {
            "tags": []
          }
        },
        {
          "output_type": "display_data",
          "data": {
            "text/html": [
              "<pre>recommendations finished on 13000/13901 queries. users per second: 54475.4</pre>"
            ],
            "text/plain": [
              "recommendations finished on 13000/13901 queries. users per second: 54475.4"
            ]
          },
          "metadata": {
            "tags": []
          }
        },
        {
          "output_type": "stream",
          "text": [
            "\n",
            "Precision and recall summary statistics by cutoff\n",
            "+--------+-----------------------+-----------------------+\n",
            "| cutoff |     mean_precision    |      mean_recall      |\n",
            "+--------+-----------------------+-----------------------+\n",
            "|   1    |  0.001150996331199196 | 0.0006274528611051168 |\n",
            "|   2    | 0.0027695849219480624 | 0.0033385744773414714 |\n",
            "|   3    | 0.0022060763014651193 | 0.0036406415096718898 |\n",
            "|   4    |  0.006366448456945546 |  0.014063172817245966 |\n",
            "|   5    |  0.006114668009495759 |  0.016698997983506943 |\n",
            "|   6    |  0.006426396182528853 |  0.02090718558677403  |\n",
            "|   7    |  0.005909132950353014 |  0.022076739491425273 |\n",
            "|   8    |  0.005530177685058629 |  0.02377146169366492  |\n",
            "|   9    |  0.005219448640785291 |  0.02535630827887119  |\n",
            "|   10   |  0.005265808215236327 |   0.0289408397103201  |\n",
            "+--------+-----------------------+-----------------------+\n",
            "[10 rows x 3 columns]\n",
            "\n",
            "\n",
            "Overall RMSE: 1.1273127890368797\n",
            "\n",
            "Per User RMSE (best)\n",
            "+------------+------+-------+\n",
            "| customerId | rmse | count |\n",
            "+------------+------+-------+\n",
            "|    4351    | 0.0  |   1   |\n",
            "+------------+------+-------+\n",
            "[1 rows x 3 columns]\n",
            "\n",
            "\n",
            "Per User RMSE (worst)\n",
            "+------------+--------------------+-------+\n",
            "| customerId |        rmse        | count |\n",
            "+------------+--------------------+-------+\n",
            "|    3062    | 19.702271614675034 |   8   |\n",
            "+------------+--------------------+-------+\n",
            "[1 rows x 3 columns]\n",
            "\n",
            "\n",
            "Per Item RMSE (best)\n",
            "+-----------+---------------------+-------+\n",
            "| productId |         rmse        | count |\n",
            "+-----------+---------------------+-------+\n",
            "|    166    | 0.15758894103557658 |  100  |\n",
            "+-----------+---------------------+-------+\n",
            "[1 rows x 3 columns]\n",
            "\n",
            "\n",
            "Per Item RMSE (worst)\n",
            "+-----------+-------------------+-------+\n",
            "| productId |        rmse       | count |\n",
            "+-----------+-------------------+-------+\n",
            "|     82    | 8.056384158427296 |   62  |\n",
            "+-----------+-------------------+-------+\n",
            "[1 rows x 3 columns]\n",
            "\n",
            "PROGRESS: Evaluate model Cosine Similarity on Purchase Counts\n"
          ],
          "name": "stdout"
        },
        {
          "output_type": "display_data",
          "data": {
            "text/html": [
              "<pre>recommendations finished on 1000/13901 queries. users per second: 39525.7</pre>"
            ],
            "text/plain": [
              "recommendations finished on 1000/13901 queries. users per second: 39525.7"
            ]
          },
          "metadata": {
            "tags": []
          }
        },
        {
          "output_type": "display_data",
          "data": {
            "text/html": [
              "<pre>recommendations finished on 2000/13901 queries. users per second: 39290.4</pre>"
            ],
            "text/plain": [
              "recommendations finished on 2000/13901 queries. users per second: 39290.4"
            ]
          },
          "metadata": {
            "tags": []
          }
        },
        {
          "output_type": "display_data",
          "data": {
            "text/html": [
              "<pre>recommendations finished on 3000/13901 queries. users per second: 41141</pre>"
            ],
            "text/plain": [
              "recommendations finished on 3000/13901 queries. users per second: 41141"
            ]
          },
          "metadata": {
            "tags": []
          }
        },
        {
          "output_type": "display_data",
          "data": {
            "text/html": [
              "<pre>recommendations finished on 4000/13901 queries. users per second: 41903.7</pre>"
            ],
            "text/plain": [
              "recommendations finished on 4000/13901 queries. users per second: 41903.7"
            ]
          },
          "metadata": {
            "tags": []
          }
        },
        {
          "output_type": "display_data",
          "data": {
            "text/html": [
              "<pre>recommendations finished on 5000/13901 queries. users per second: 43320</pre>"
            ],
            "text/plain": [
              "recommendations finished on 5000/13901 queries. users per second: 43320"
            ]
          },
          "metadata": {
            "tags": []
          }
        },
        {
          "output_type": "display_data",
          "data": {
            "text/html": [
              "<pre>recommendations finished on 6000/13901 queries. users per second: 43334.4</pre>"
            ],
            "text/plain": [
              "recommendations finished on 6000/13901 queries. users per second: 43334.4"
            ]
          },
          "metadata": {
            "tags": []
          }
        },
        {
          "output_type": "display_data",
          "data": {
            "text/html": [
              "<pre>recommendations finished on 7000/13901 queries. users per second: 42935.3</pre>"
            ],
            "text/plain": [
              "recommendations finished on 7000/13901 queries. users per second: 42935.3"
            ]
          },
          "metadata": {
            "tags": []
          }
        },
        {
          "output_type": "display_data",
          "data": {
            "text/html": [
              "<pre>recommendations finished on 8000/13901 queries. users per second: 43541.9</pre>"
            ],
            "text/plain": [
              "recommendations finished on 8000/13901 queries. users per second: 43541.9"
            ]
          },
          "metadata": {
            "tags": []
          }
        },
        {
          "output_type": "display_data",
          "data": {
            "text/html": [
              "<pre>recommendations finished on 9000/13901 queries. users per second: 43924.1</pre>"
            ],
            "text/plain": [
              "recommendations finished on 9000/13901 queries. users per second: 43924.1"
            ]
          },
          "metadata": {
            "tags": []
          }
        },
        {
          "output_type": "display_data",
          "data": {
            "text/html": [
              "<pre>recommendations finished on 10000/13901 queries. users per second: 44349.6</pre>"
            ],
            "text/plain": [
              "recommendations finished on 10000/13901 queries. users per second: 44349.6"
            ]
          },
          "metadata": {
            "tags": []
          }
        },
        {
          "output_type": "display_data",
          "data": {
            "text/html": [
              "<pre>recommendations finished on 11000/13901 queries. users per second: 44709.3</pre>"
            ],
            "text/plain": [
              "recommendations finished on 11000/13901 queries. users per second: 44709.3"
            ]
          },
          "metadata": {
            "tags": []
          }
        },
        {
          "output_type": "display_data",
          "data": {
            "text/html": [
              "<pre>recommendations finished on 12000/13901 queries. users per second: 45078.2</pre>"
            ],
            "text/plain": [
              "recommendations finished on 12000/13901 queries. users per second: 45078.2"
            ]
          },
          "metadata": {
            "tags": []
          }
        },
        {
          "output_type": "display_data",
          "data": {
            "text/html": [
              "<pre>recommendations finished on 13000/13901 queries. users per second: 44104.1</pre>"
            ],
            "text/plain": [
              "recommendations finished on 13000/13901 queries. users per second: 44104.1"
            ]
          },
          "metadata": {
            "tags": []
          }
        },
        {
          "output_type": "stream",
          "text": [
            "\n",
            "Precision and recall summary statistics by cutoff\n",
            "+--------+----------------------+---------------------+\n",
            "| cutoff |    mean_precision    |     mean_recall     |\n",
            "+--------+----------------------+---------------------+\n",
            "|   1    | 0.11955974390331618  |  0.0685876737702915 |\n",
            "|   2    | 0.09700740953888208  |  0.1107223880437007 |\n",
            "|   3    | 0.08100136680814321  | 0.13667447098884028 |\n",
            "|   4    |  0.069815121214301   | 0.15573901887076633 |\n",
            "|   5    |  0.0630314365872961  | 0.17588197972859593 |\n",
            "|   6    | 0.05668656931156018  | 0.18935437725250048 |\n",
            "|   7    | 0.05213396775154952  |  0.202864686331738  |\n",
            "|   8    | 0.04833285375152868  | 0.21480116423649157 |\n",
            "|   9    | 0.04503273145816797  | 0.22383379224562433 |\n",
            "|   10   | 0.042680382706280225 | 0.23512099712087262 |\n",
            "+--------+----------------------+---------------------+\n",
            "[10 rows x 3 columns]\n",
            "\n",
            "\n",
            "Overall RMSE: 1.9389202355467081\n",
            "\n",
            "Per User RMSE (best)\n",
            "+------------+---------------------+-------+\n",
            "| customerId |         rmse        | count |\n",
            "+------------+---------------------+-------+\n",
            "|   27894    | 0.05384993553161621 |   1   |\n",
            "+------------+---------------------+-------+\n",
            "[1 rows x 3 columns]\n",
            "\n",
            "\n",
            "Per User RMSE (worst)\n",
            "+------------+--------------------+-------+\n",
            "| customerId |        rmse        | count |\n",
            "+------------+--------------------+-------+\n",
            "|    3062    | 20.192380923324137 |   8   |\n",
            "+------------+--------------------+-------+\n",
            "[1 rows x 3 columns]\n",
            "\n",
            "\n",
            "Per Item RMSE (best)\n",
            "+-----------+--------------------+-------+\n",
            "| productId |        rmse        | count |\n",
            "+-----------+--------------------+-------+\n",
            "|    166    | 0.9819867316369911 |  100  |\n",
            "+-----------+--------------------+-------+\n",
            "[1 rows x 3 columns]\n",
            "\n",
            "\n",
            "Per Item RMSE (worst)\n",
            "+-----------+-------------------+-------+\n",
            "| productId |        rmse       | count |\n",
            "+-----------+-------------------+-------+\n",
            "|     82    | 8.540038080762246 |   62  |\n",
            "+-----------+-------------------+-------+\n",
            "[1 rows x 3 columns]\n",
            "\n",
            "PROGRESS: Evaluate model Pearson Similarity on Purchase Counts\n"
          ],
          "name": "stdout"
        },
        {
          "output_type": "display_data",
          "data": {
            "text/html": [
              "<pre>recommendations finished on 1000/13901 queries. users per second: 40843</pre>"
            ],
            "text/plain": [
              "recommendations finished on 1000/13901 queries. users per second: 40843"
            ]
          },
          "metadata": {
            "tags": []
          }
        },
        {
          "output_type": "display_data",
          "data": {
            "text/html": [
              "<pre>recommendations finished on 2000/13901 queries. users per second: 39622</pre>"
            ],
            "text/plain": [
              "recommendations finished on 2000/13901 queries. users per second: 39622"
            ]
          },
          "metadata": {
            "tags": []
          }
        },
        {
          "output_type": "display_data",
          "data": {
            "text/html": [
              "<pre>recommendations finished on 3000/13901 queries. users per second: 40435.1</pre>"
            ],
            "text/plain": [
              "recommendations finished on 3000/13901 queries. users per second: 40435.1"
            ]
          },
          "metadata": {
            "tags": []
          }
        },
        {
          "output_type": "display_data",
          "data": {
            "text/html": [
              "<pre>recommendations finished on 4000/13901 queries. users per second: 41832.7</pre>"
            ],
            "text/plain": [
              "recommendations finished on 4000/13901 queries. users per second: 41832.7"
            ]
          },
          "metadata": {
            "tags": []
          }
        },
        {
          "output_type": "display_data",
          "data": {
            "text/html": [
              "<pre>recommendations finished on 5000/13901 queries. users per second: 41333.2</pre>"
            ],
            "text/plain": [
              "recommendations finished on 5000/13901 queries. users per second: 41333.2"
            ]
          },
          "metadata": {
            "tags": []
          }
        },
        {
          "output_type": "display_data",
          "data": {
            "text/html": [
              "<pre>recommendations finished on 6000/13901 queries. users per second: 40532.6</pre>"
            ],
            "text/plain": [
              "recommendations finished on 6000/13901 queries. users per second: 40532.6"
            ]
          },
          "metadata": {
            "tags": []
          }
        },
        {
          "output_type": "display_data",
          "data": {
            "text/html": [
              "<pre>recommendations finished on 7000/13901 queries. users per second: 39818.2</pre>"
            ],
            "text/plain": [
              "recommendations finished on 7000/13901 queries. users per second: 39818.2"
            ]
          },
          "metadata": {
            "tags": []
          }
        },
        {
          "output_type": "display_data",
          "data": {
            "text/html": [
              "<pre>recommendations finished on 8000/13901 queries. users per second: 39410.6</pre>"
            ],
            "text/plain": [
              "recommendations finished on 8000/13901 queries. users per second: 39410.6"
            ]
          },
          "metadata": {
            "tags": []
          }
        },
        {
          "output_type": "display_data",
          "data": {
            "text/html": [
              "<pre>recommendations finished on 9000/13901 queries. users per second: 39849.1</pre>"
            ],
            "text/plain": [
              "recommendations finished on 9000/13901 queries. users per second: 39849.1"
            ]
          },
          "metadata": {
            "tags": []
          }
        },
        {
          "output_type": "display_data",
          "data": {
            "text/html": [
              "<pre>recommendations finished on 10000/13901 queries. users per second: 40440.5</pre>"
            ],
            "text/plain": [
              "recommendations finished on 10000/13901 queries. users per second: 40440.5"
            ]
          },
          "metadata": {
            "tags": []
          }
        },
        {
          "output_type": "display_data",
          "data": {
            "text/html": [
              "<pre>recommendations finished on 11000/13901 queries. users per second: 40713.9</pre>"
            ],
            "text/plain": [
              "recommendations finished on 11000/13901 queries. users per second: 40713.9"
            ]
          },
          "metadata": {
            "tags": []
          }
        },
        {
          "output_type": "display_data",
          "data": {
            "text/html": [
              "<pre>recommendations finished on 12000/13901 queries. users per second: 40850.4</pre>"
            ],
            "text/plain": [
              "recommendations finished on 12000/13901 queries. users per second: 40850.4"
            ]
          },
          "metadata": {
            "tags": []
          }
        },
        {
          "output_type": "display_data",
          "data": {
            "text/html": [
              "<pre>recommendations finished on 13000/13901 queries. users per second: 39467.5</pre>"
            ],
            "text/plain": [
              "recommendations finished on 13000/13901 queries. users per second: 39467.5"
            ]
          },
          "metadata": {
            "tags": []
          }
        },
        {
          "output_type": "stream",
          "text": [
            "\n",
            "Precision and recall summary statistics by cutoff\n",
            "+--------+-----------------------+-----------------------+\n",
            "| cutoff |     mean_precision    |      mean_recall      |\n",
            "+--------+-----------------------+-----------------------+\n",
            "|   1    | 0.0012229336018991443 | 0.0006634214964550903 |\n",
            "|   2    | 0.0024818358391482643 |  0.002936924715933425 |\n",
            "|   3    |  0.002301992662398383 | 0.0037845160510717873 |\n",
            "|   4    |  0.006348464139270556 |  0.01401521463677933  |\n",
            "|   5    |  0.006129055463635753 |  0.01673496661885699  |\n",
            "|   6    |  0.006438385727645509 |  0.020979122857473966 |\n",
            "|   7    | 0.0059913469740101016 |  0.022510761024648305 |\n",
            "|   8    |  0.005629091432271062 |  0.024268171419926488 |\n",
            "|   9    |  0.005275399851329696 |  0.02559609918120434  |\n",
            "|   10   |  0.005244227034026349 |  0.02873701744333691  |\n",
            "+--------+-----------------------+-----------------------+\n",
            "[10 rows x 3 columns]\n",
            "\n",
            "\n",
            "Overall RMSE: 1.1244455831549338\n",
            "\n",
            "Per User RMSE (best)\n",
            "+------------+-----------------------+-------+\n",
            "| customerId |          rmse         | count |\n",
            "+------------+-----------------------+-------+\n",
            "|    4351    | 4.440892098500626e-16 |   1   |\n",
            "+------------+-----------------------+-------+\n",
            "[1 rows x 3 columns]\n",
            "\n",
            "\n",
            "Per User RMSE (worst)\n",
            "+------------+--------------------+-------+\n",
            "| customerId |        rmse        | count |\n",
            "+------------+--------------------+-------+\n",
            "|    3062    | 19.696061001886417 |   8   |\n",
            "+------------+--------------------+-------+\n",
            "[1 rows x 3 columns]\n",
            "\n",
            "\n",
            "Per Item RMSE (best)\n",
            "+-----------+---------------------+-------+\n",
            "| productId |         rmse        | count |\n",
            "+-----------+---------------------+-------+\n",
            "|    166    | 0.15846148463365137 |  100  |\n",
            "+-----------+---------------------+-------+\n",
            "[1 rows x 3 columns]\n",
            "\n",
            "\n",
            "Per Item RMSE (worst)\n",
            "+-----------+-------------------+-------+\n",
            "| productId |        rmse       | count |\n",
            "+-----------+-------------------+-------+\n",
            "|     82    | 8.041473481840036 |   62  |\n",
            "+-----------+-------------------+-------+\n",
            "[1 rows x 3 columns]\n",
            "\n"
          ],
          "name": "stdout"
        }
      ]
    },
    {
      "cell_type": "markdown",
      "metadata": {
        "id": "uu0t-Ni71hhw"
      },
      "source": [
        "#### Modelo de compra dummy"
      ]
    },
    {
      "cell_type": "code",
      "metadata": {
        "scrolled": false,
        "colab": {
          "base_uri": "https://localhost:8080/",
          "height": 1000
        },
        "id": "h07BzVJB1hhw",
        "outputId": "b18c37a4-db05-48cc-abbc-7a630dce6119"
      },
      "source": [
        "eval_dummy = tc.recommender.util.compare_models(test_data_dummy, models_w_dummy, model_names=names_w_dummy)"
      ],
      "execution_count": 48,
      "outputs": [
        {
          "output_type": "stream",
          "text": [
            "PROGRESS: Evaluate model Popularity Model on Purchase Dummy\n"
          ],
          "name": "stdout"
        },
        {
          "output_type": "display_data",
          "data": {
            "text/html": [
              "<pre>recommendations finished on 1000/13928 queries. users per second: 48120.9</pre>"
            ],
            "text/plain": [
              "recommendations finished on 1000/13928 queries. users per second: 48120.9"
            ]
          },
          "metadata": {
            "tags": []
          }
        },
        {
          "output_type": "display_data",
          "data": {
            "text/html": [
              "<pre>recommendations finished on 2000/13928 queries. users per second: 48915.3</pre>"
            ],
            "text/plain": [
              "recommendations finished on 2000/13928 queries. users per second: 48915.3"
            ]
          },
          "metadata": {
            "tags": []
          }
        },
        {
          "output_type": "display_data",
          "data": {
            "text/html": [
              "<pre>recommendations finished on 3000/13928 queries. users per second: 50094.3</pre>"
            ],
            "text/plain": [
              "recommendations finished on 3000/13928 queries. users per second: 50094.3"
            ]
          },
          "metadata": {
            "tags": []
          }
        },
        {
          "output_type": "display_data",
          "data": {
            "text/html": [
              "<pre>recommendations finished on 4000/13928 queries. users per second: 54698.6</pre>"
            ],
            "text/plain": [
              "recommendations finished on 4000/13928 queries. users per second: 54698.6"
            ]
          },
          "metadata": {
            "tags": []
          }
        },
        {
          "output_type": "display_data",
          "data": {
            "text/html": [
              "<pre>recommendations finished on 5000/13928 queries. users per second: 58133.5</pre>"
            ],
            "text/plain": [
              "recommendations finished on 5000/13928 queries. users per second: 58133.5"
            ]
          },
          "metadata": {
            "tags": []
          }
        },
        {
          "output_type": "display_data",
          "data": {
            "text/html": [
              "<pre>recommendations finished on 6000/13928 queries. users per second: 57844.1</pre>"
            ],
            "text/plain": [
              "recommendations finished on 6000/13928 queries. users per second: 57844.1"
            ]
          },
          "metadata": {
            "tags": []
          }
        },
        {
          "output_type": "display_data",
          "data": {
            "text/html": [
              "<pre>recommendations finished on 7000/13928 queries. users per second: 59678.1</pre>"
            ],
            "text/plain": [
              "recommendations finished on 7000/13928 queries. users per second: 59678.1"
            ]
          },
          "metadata": {
            "tags": []
          }
        },
        {
          "output_type": "display_data",
          "data": {
            "text/html": [
              "<pre>recommendations finished on 8000/13928 queries. users per second: 60417.9</pre>"
            ],
            "text/plain": [
              "recommendations finished on 8000/13928 queries. users per second: 60417.9"
            ]
          },
          "metadata": {
            "tags": []
          }
        },
        {
          "output_type": "display_data",
          "data": {
            "text/html": [
              "<pre>recommendations finished on 9000/13928 queries. users per second: 58705</pre>"
            ],
            "text/plain": [
              "recommendations finished on 9000/13928 queries. users per second: 58705"
            ]
          },
          "metadata": {
            "tags": []
          }
        },
        {
          "output_type": "display_data",
          "data": {
            "text/html": [
              "<pre>recommendations finished on 10000/13928 queries. users per second: 59791.8</pre>"
            ],
            "text/plain": [
              "recommendations finished on 10000/13928 queries. users per second: 59791.8"
            ]
          },
          "metadata": {
            "tags": []
          }
        },
        {
          "output_type": "display_data",
          "data": {
            "text/html": [
              "<pre>recommendations finished on 11000/13928 queries. users per second: 61299.4</pre>"
            ],
            "text/plain": [
              "recommendations finished on 11000/13928 queries. users per second: 61299.4"
            ]
          },
          "metadata": {
            "tags": []
          }
        },
        {
          "output_type": "display_data",
          "data": {
            "text/html": [
              "<pre>recommendations finished on 12000/13928 queries. users per second: 62431.1</pre>"
            ],
            "text/plain": [
              "recommendations finished on 12000/13928 queries. users per second: 62431.1"
            ]
          },
          "metadata": {
            "tags": []
          }
        },
        {
          "output_type": "display_data",
          "data": {
            "text/html": [
              "<pre>recommendations finished on 13000/13928 queries. users per second: 62718.6</pre>"
            ],
            "text/plain": [
              "recommendations finished on 13000/13928 queries. users per second: 62718.6"
            ]
          },
          "metadata": {
            "tags": []
          }
        },
        {
          "output_type": "stream",
          "text": [
            "\n",
            "Precision and recall summary statistics by cutoff\n",
            "+--------+-----------------------+----------------------+\n",
            "| cutoff |     mean_precision    |     mean_recall      |\n",
            "+--------+-----------------------+----------------------+\n",
            "|   1    | 0.0071079839172889115 | 0.003462221811948986 |\n",
            "|   2    |  0.006461803561171741 | 0.006337080819590249 |\n",
            "|   3    |  0.006605399195864428 |  0.0099242606398976  |\n",
            "|   4    |  0.006318207926479037 | 0.012721500495580863 |\n",
            "|   5    |  0.006863871338311363 | 0.017705176354472163 |\n",
            "|   6    |  0.007227646946199544 | 0.02247952738636195  |\n",
            "|   7    |  0.007928530401247195 | 0.029121756933890092 |\n",
            "|   8    |  0.00788878518093051  | 0.033272633793553476 |\n",
            "|   9    |  0.007722254132363397 | 0.03606448004641366  |\n",
            "|   10   |  0.007560310166570873 | 0.03859839728272891  |\n",
            "+--------+-----------------------+----------------------+\n",
            "[10 rows x 3 columns]\n",
            "\n",
            "\n",
            "Overall RMSE: 0.0\n",
            "\n",
            "Per User RMSE (best)\n",
            "+------------+------+-------+\n",
            "| customerId | rmse | count |\n",
            "+------------+------+-------+\n",
            "|   15095    | 0.0  |   1   |\n",
            "+------------+------+-------+\n",
            "[1 rows x 3 columns]\n",
            "\n",
            "\n",
            "Per User RMSE (worst)\n",
            "+------------+------+-------+\n",
            "| customerId | rmse | count |\n",
            "+------------+------+-------+\n",
            "|   15376    | 0.0  |   1   |\n",
            "+------------+------+-------+\n",
            "[1 rows x 3 columns]\n",
            "\n",
            "\n",
            "Per Item RMSE (best)\n",
            "+-----------+------+-------+\n",
            "| productId | rmse | count |\n",
            "+-----------+------+-------+\n",
            "|    149    | 0.0  |   87  |\n",
            "+-----------+------+-------+\n",
            "[1 rows x 3 columns]\n",
            "\n",
            "\n",
            "Per Item RMSE (worst)\n",
            "+-----------+------+-------+\n",
            "| productId | rmse | count |\n",
            "+-----------+------+-------+\n",
            "|    118    | 0.0  |   41  |\n",
            "+-----------+------+-------+\n",
            "[1 rows x 3 columns]\n",
            "\n",
            "PROGRESS: Evaluate model Cosine Similarity on Purchase Dummy\n"
          ],
          "name": "stdout"
        },
        {
          "output_type": "display_data",
          "data": {
            "text/html": [
              "<pre>recommendations finished on 1000/13928 queries. users per second: 44460.3</pre>"
            ],
            "text/plain": [
              "recommendations finished on 1000/13928 queries. users per second: 44460.3"
            ]
          },
          "metadata": {
            "tags": []
          }
        },
        {
          "output_type": "display_data",
          "data": {
            "text/html": [
              "<pre>recommendations finished on 2000/13928 queries. users per second: 43101.6</pre>"
            ],
            "text/plain": [
              "recommendations finished on 2000/13928 queries. users per second: 43101.6"
            ]
          },
          "metadata": {
            "tags": []
          }
        },
        {
          "output_type": "display_data",
          "data": {
            "text/html": [
              "<pre>recommendations finished on 3000/13928 queries. users per second: 42888.4</pre>"
            ],
            "text/plain": [
              "recommendations finished on 3000/13928 queries. users per second: 42888.4"
            ]
          },
          "metadata": {
            "tags": []
          }
        },
        {
          "output_type": "display_data",
          "data": {
            "text/html": [
              "<pre>recommendations finished on 4000/13928 queries. users per second: 43976.8</pre>"
            ],
            "text/plain": [
              "recommendations finished on 4000/13928 queries. users per second: 43976.8"
            ]
          },
          "metadata": {
            "tags": []
          }
        },
        {
          "output_type": "display_data",
          "data": {
            "text/html": [
              "<pre>recommendations finished on 5000/13928 queries. users per second: 44911.5</pre>"
            ],
            "text/plain": [
              "recommendations finished on 5000/13928 queries. users per second: 44911.5"
            ]
          },
          "metadata": {
            "tags": []
          }
        },
        {
          "output_type": "display_data",
          "data": {
            "text/html": [
              "<pre>recommendations finished on 6000/13928 queries. users per second: 43407.5</pre>"
            ],
            "text/plain": [
              "recommendations finished on 6000/13928 queries. users per second: 43407.5"
            ]
          },
          "metadata": {
            "tags": []
          }
        },
        {
          "output_type": "display_data",
          "data": {
            "text/html": [
              "<pre>recommendations finished on 7000/13928 queries. users per second: 43305.8</pre>"
            ],
            "text/plain": [
              "recommendations finished on 7000/13928 queries. users per second: 43305.8"
            ]
          },
          "metadata": {
            "tags": []
          }
        },
        {
          "output_type": "display_data",
          "data": {
            "text/html": [
              "<pre>recommendations finished on 8000/13928 queries. users per second: 43427.5</pre>"
            ],
            "text/plain": [
              "recommendations finished on 8000/13928 queries. users per second: 43427.5"
            ]
          },
          "metadata": {
            "tags": []
          }
        },
        {
          "output_type": "display_data",
          "data": {
            "text/html": [
              "<pre>recommendations finished on 9000/13928 queries. users per second: 43896.7</pre>"
            ],
            "text/plain": [
              "recommendations finished on 9000/13928 queries. users per second: 43896.7"
            ]
          },
          "metadata": {
            "tags": []
          }
        },
        {
          "output_type": "display_data",
          "data": {
            "text/html": [
              "<pre>recommendations finished on 10000/13928 queries. users per second: 44373.3</pre>"
            ],
            "text/plain": [
              "recommendations finished on 10000/13928 queries. users per second: 44373.3"
            ]
          },
          "metadata": {
            "tags": []
          }
        },
        {
          "output_type": "display_data",
          "data": {
            "text/html": [
              "<pre>recommendations finished on 11000/13928 queries. users per second: 44700.5</pre>"
            ],
            "text/plain": [
              "recommendations finished on 11000/13928 queries. users per second: 44700.5"
            ]
          },
          "metadata": {
            "tags": []
          }
        },
        {
          "output_type": "display_data",
          "data": {
            "text/html": [
              "<pre>recommendations finished on 12000/13928 queries. users per second: 44322.6</pre>"
            ],
            "text/plain": [
              "recommendations finished on 12000/13928 queries. users per second: 44322.6"
            ]
          },
          "metadata": {
            "tags": []
          }
        },
        {
          "output_type": "display_data",
          "data": {
            "text/html": [
              "<pre>recommendations finished on 13000/13928 queries. users per second: 44622.2</pre>"
            ],
            "text/plain": [
              "recommendations finished on 13000/13928 queries. users per second: 44622.2"
            ]
          },
          "metadata": {
            "tags": []
          }
        },
        {
          "output_type": "stream",
          "text": [
            "\n",
            "Precision and recall summary statistics by cutoff\n",
            "+--------+----------------------+---------------------+\n",
            "| cutoff |    mean_precision    |     mean_recall     |\n",
            "+--------+----------------------+---------------------+\n",
            "|   1    | 0.12550258472142464  | 0.07219211021895966 |\n",
            "|   2    |  0.0991168868466398  | 0.11129096379587512 |\n",
            "|   3    | 0.08371625502584722  | 0.13883010916690558 |\n",
            "|   4    | 0.07353891441700165  | 0.16107426931880772 |\n",
            "|   5    | 0.06614014933946025  | 0.18012457102637966 |\n",
            "|   6    | 0.059400727551215705 | 0.19297779871483128 |\n",
            "|   7    | 0.05460736850742621  | 0.20673182727366418 |\n",
            "|   8    | 0.050931576680068924 |  0.2202348153467632 |\n",
            "|   9    | 0.04753015508328512  | 0.23048403386709027 |\n",
            "|   10   | 0.04460798391728895  | 0.23892999227677053 |\n",
            "+--------+----------------------+---------------------+\n",
            "[10 rows x 3 columns]\n",
            "\n",
            "\n",
            "Overall RMSE: 0.9688575922490616\n",
            "\n",
            "Per User RMSE (best)\n",
            "+------------+---------------------+-------+\n",
            "| customerId |         rmse        | count |\n",
            "+------------+---------------------+-------+\n",
            "|   21934    | 0.43008923530578613 |   1   |\n",
            "+------------+---------------------+-------+\n",
            "[1 rows x 3 columns]\n",
            "\n",
            "\n",
            "Per User RMSE (worst)\n",
            "+------------+------+-------+\n",
            "| customerId | rmse | count |\n",
            "+------------+------+-------+\n",
            "|   15376    | 1.0  |   1   |\n",
            "+------------+------+-------+\n",
            "[1 rows x 3 columns]\n",
            "\n",
            "\n",
            "Per Item RMSE (best)\n",
            "+-----------+--------------------+-------+\n",
            "| productId |        rmse        | count |\n",
            "+-----------+--------------------+-------+\n",
            "|     48    | 0.8795105587883931 |  132  |\n",
            "+-----------+--------------------+-------+\n",
            "[1 rows x 3 columns]\n",
            "\n",
            "\n",
            "Per Item RMSE (worst)\n",
            "+-----------+--------------------+-------+\n",
            "| productId |        rmse        | count |\n",
            "+-----------+--------------------+-------+\n",
            "|    252    | 0.9997939275647685 |   12  |\n",
            "+-----------+--------------------+-------+\n",
            "[1 rows x 3 columns]\n",
            "\n",
            "PROGRESS: Evaluate model Pearson Similarity on Purchase Dummy\n"
          ],
          "name": "stdout"
        },
        {
          "output_type": "display_data",
          "data": {
            "text/html": [
              "<pre>recommendations finished on 1000/13928 queries. users per second: 49995</pre>"
            ],
            "text/plain": [
              "recommendations finished on 1000/13928 queries. users per second: 49995"
            ]
          },
          "metadata": {
            "tags": []
          }
        },
        {
          "output_type": "display_data",
          "data": {
            "text/html": [
              "<pre>recommendations finished on 2000/13928 queries. users per second: 45665.2</pre>"
            ],
            "text/plain": [
              "recommendations finished on 2000/13928 queries. users per second: 45665.2"
            ]
          },
          "metadata": {
            "tags": []
          }
        },
        {
          "output_type": "display_data",
          "data": {
            "text/html": [
              "<pre>recommendations finished on 3000/13928 queries. users per second: 48209</pre>"
            ],
            "text/plain": [
              "recommendations finished on 3000/13928 queries. users per second: 48209"
            ]
          },
          "metadata": {
            "tags": []
          }
        },
        {
          "output_type": "display_data",
          "data": {
            "text/html": [
              "<pre>recommendations finished on 4000/13928 queries. users per second: 50324</pre>"
            ],
            "text/plain": [
              "recommendations finished on 4000/13928 queries. users per second: 50324"
            ]
          },
          "metadata": {
            "tags": []
          }
        },
        {
          "output_type": "display_data",
          "data": {
            "text/html": [
              "<pre>recommendations finished on 5000/13928 queries. users per second: 51388.5</pre>"
            ],
            "text/plain": [
              "recommendations finished on 5000/13928 queries. users per second: 51388.5"
            ]
          },
          "metadata": {
            "tags": []
          }
        },
        {
          "output_type": "display_data",
          "data": {
            "text/html": [
              "<pre>recommendations finished on 6000/13928 queries. users per second: 52483.8</pre>"
            ],
            "text/plain": [
              "recommendations finished on 6000/13928 queries. users per second: 52483.8"
            ]
          },
          "metadata": {
            "tags": []
          }
        },
        {
          "output_type": "display_data",
          "data": {
            "text/html": [
              "<pre>recommendations finished on 7000/13928 queries. users per second: 52906.1</pre>"
            ],
            "text/plain": [
              "recommendations finished on 7000/13928 queries. users per second: 52906.1"
            ]
          },
          "metadata": {
            "tags": []
          }
        },
        {
          "output_type": "display_data",
          "data": {
            "text/html": [
              "<pre>recommendations finished on 8000/13928 queries. users per second: 50079.5</pre>"
            ],
            "text/plain": [
              "recommendations finished on 8000/13928 queries. users per second: 50079.5"
            ]
          },
          "metadata": {
            "tags": []
          }
        },
        {
          "output_type": "display_data",
          "data": {
            "text/html": [
              "<pre>recommendations finished on 9000/13928 queries. users per second: 51579.8</pre>"
            ],
            "text/plain": [
              "recommendations finished on 9000/13928 queries. users per second: 51579.8"
            ]
          },
          "metadata": {
            "tags": []
          }
        },
        {
          "output_type": "display_data",
          "data": {
            "text/html": [
              "<pre>recommendations finished on 10000/13928 queries. users per second: 52491.5</pre>"
            ],
            "text/plain": [
              "recommendations finished on 10000/13928 queries. users per second: 52491.5"
            ]
          },
          "metadata": {
            "tags": []
          }
        },
        {
          "output_type": "display_data",
          "data": {
            "text/html": [
              "<pre>recommendations finished on 11000/13928 queries. users per second: 53651.2</pre>"
            ],
            "text/plain": [
              "recommendations finished on 11000/13928 queries. users per second: 53651.2"
            ]
          },
          "metadata": {
            "tags": []
          }
        },
        {
          "output_type": "display_data",
          "data": {
            "text/html": [
              "<pre>recommendations finished on 12000/13928 queries. users per second: 53877.6</pre>"
            ],
            "text/plain": [
              "recommendations finished on 12000/13928 queries. users per second: 53877.6"
            ]
          },
          "metadata": {
            "tags": []
          }
        },
        {
          "output_type": "display_data",
          "data": {
            "text/html": [
              "<pre>recommendations finished on 13000/13928 queries. users per second: 51466.8</pre>"
            ],
            "text/plain": [
              "recommendations finished on 13000/13928 queries. users per second: 51466.8"
            ]
          },
          "metadata": {
            "tags": []
          }
        },
        {
          "output_type": "stream",
          "text": [
            "\n",
            "Precision and recall summary statistics by cutoff\n",
            "+--------+-----------------------+-----------------------+\n",
            "| cutoff |     mean_precision    |      mean_recall      |\n",
            "+--------+-----------------------+-----------------------+\n",
            "|   1    |  0.007107983917288914 | 0.0034622218119489826 |\n",
            "|   2    |  0.006461803561171741 |  0.006337080819590253 |\n",
            "|   3    |  0.006605399195864429 |  0.009924260639897596 |\n",
            "|   4    |  0.006318207926479037 |  0.01272150049558086  |\n",
            "|   5    |  0.006863871338311362 |  0.017705176354472118 |\n",
            "|   6    |  0.007227646946199551 |  0.022479527386361903 |\n",
            "|   7    |  0.007928530401247202 |  0.029121756933890085 |\n",
            "|   8    |  0.007888785180930473 |  0.033272633793553476 |\n",
            "|   9    |  0.007722254132363391 |  0.03606448004641348  |\n",
            "|   10   | 0.0075603101665708645 |  0.03859839728272877  |\n",
            "+--------+-----------------------+-----------------------+\n",
            "[10 rows x 3 columns]\n",
            "\n",
            "\n",
            "Overall RMSE: 1.0\n",
            "\n",
            "Per User RMSE (best)\n",
            "+------------+------+-------+\n",
            "| customerId | rmse | count |\n",
            "+------------+------+-------+\n",
            "|   15095    | 1.0  |   1   |\n",
            "+------------+------+-------+\n",
            "[1 rows x 3 columns]\n",
            "\n",
            "\n",
            "Per User RMSE (worst)\n",
            "+------------+------+-------+\n",
            "| customerId | rmse | count |\n",
            "+------------+------+-------+\n",
            "|   15376    | 1.0  |   1   |\n",
            "+------------+------+-------+\n",
            "[1 rows x 3 columns]\n",
            "\n",
            "\n",
            "Per Item RMSE (best)\n",
            "+-----------+------+-------+\n",
            "| productId | rmse | count |\n",
            "+-----------+------+-------+\n",
            "|    149    | 1.0  |   87  |\n",
            "+-----------+------+-------+\n",
            "[1 rows x 3 columns]\n",
            "\n",
            "\n",
            "Per Item RMSE (worst)\n",
            "+-----------+------+-------+\n",
            "| productId | rmse | count |\n",
            "+-----------+------+-------+\n",
            "|    118    | 1.0  |   41  |\n",
            "+-----------+------+-------+\n",
            "[1 rows x 3 columns]\n",
            "\n"
          ],
          "name": "stdout"
        }
      ]
    },
    {
      "cell_type": "markdown",
      "metadata": {
        "id": "wLdVPhAK1hhw"
      },
      "source": [
        "#### Modelos de frequencia normalizado"
      ]
    },
    {
      "cell_type": "code",
      "metadata": {
        "scrolled": false,
        "colab": {
          "base_uri": "https://localhost:8080/",
          "height": 1000
        },
        "id": "s2aW-L8f1hhw",
        "outputId": "774b3e67-2405-42fd-e3df-aeecefd7b80a"
      },
      "source": [
        "eval_norm = tc.recommender.util.compare_models(test_data_norm, models_w_norm, model_names=names_w_norm)"
      ],
      "execution_count": 49,
      "outputs": [
        {
          "output_type": "stream",
          "text": [
            "PROGRESS: Evaluate model Popularity Model on Scaled Purchase Counts\n"
          ],
          "name": "stdout"
        },
        {
          "output_type": "display_data",
          "data": {
            "text/html": [
              "<pre>recommendations finished on 1000/13815 queries. users per second: 59966.4</pre>"
            ],
            "text/plain": [
              "recommendations finished on 1000/13815 queries. users per second: 59966.4"
            ]
          },
          "metadata": {
            "tags": []
          }
        },
        {
          "output_type": "display_data",
          "data": {
            "text/html": [
              "<pre>recommendations finished on 2000/13815 queries. users per second: 54399.6</pre>"
            ],
            "text/plain": [
              "recommendations finished on 2000/13815 queries. users per second: 54399.6"
            ]
          },
          "metadata": {
            "tags": []
          }
        },
        {
          "output_type": "display_data",
          "data": {
            "text/html": [
              "<pre>recommendations finished on 3000/13815 queries. users per second: 55710.3</pre>"
            ],
            "text/plain": [
              "recommendations finished on 3000/13815 queries. users per second: 55710.3"
            ]
          },
          "metadata": {
            "tags": []
          }
        },
        {
          "output_type": "display_data",
          "data": {
            "text/html": [
              "<pre>recommendations finished on 4000/13815 queries. users per second: 58283.5</pre>"
            ],
            "text/plain": [
              "recommendations finished on 4000/13815 queries. users per second: 58283.5"
            ]
          },
          "metadata": {
            "tags": []
          }
        },
        {
          "output_type": "display_data",
          "data": {
            "text/html": [
              "<pre>recommendations finished on 5000/13815 queries. users per second: 60151.8</pre>"
            ],
            "text/plain": [
              "recommendations finished on 5000/13815 queries. users per second: 60151.8"
            ]
          },
          "metadata": {
            "tags": []
          }
        },
        {
          "output_type": "display_data",
          "data": {
            "text/html": [
              "<pre>recommendations finished on 6000/13815 queries. users per second: 58408.9</pre>"
            ],
            "text/plain": [
              "recommendations finished on 6000/13815 queries. users per second: 58408.9"
            ]
          },
          "metadata": {
            "tags": []
          }
        },
        {
          "output_type": "display_data",
          "data": {
            "text/html": [
              "<pre>recommendations finished on 7000/13815 queries. users per second: 57333.8</pre>"
            ],
            "text/plain": [
              "recommendations finished on 7000/13815 queries. users per second: 57333.8"
            ]
          },
          "metadata": {
            "tags": []
          }
        },
        {
          "output_type": "display_data",
          "data": {
            "text/html": [
              "<pre>recommendations finished on 8000/13815 queries. users per second: 58294.6</pre>"
            ],
            "text/plain": [
              "recommendations finished on 8000/13815 queries. users per second: 58294.6"
            ]
          },
          "metadata": {
            "tags": []
          }
        },
        {
          "output_type": "display_data",
          "data": {
            "text/html": [
              "<pre>recommendations finished on 9000/13815 queries. users per second: 59532.9</pre>"
            ],
            "text/plain": [
              "recommendations finished on 9000/13815 queries. users per second: 59532.9"
            ]
          },
          "metadata": {
            "tags": []
          }
        },
        {
          "output_type": "display_data",
          "data": {
            "text/html": [
              "<pre>recommendations finished on 10000/13815 queries. users per second: 58434.4</pre>"
            ],
            "text/plain": [
              "recommendations finished on 10000/13815 queries. users per second: 58434.4"
            ]
          },
          "metadata": {
            "tags": []
          }
        },
        {
          "output_type": "display_data",
          "data": {
            "text/html": [
              "<pre>recommendations finished on 11000/13815 queries. users per second: 59323.2</pre>"
            ],
            "text/plain": [
              "recommendations finished on 11000/13815 queries. users per second: 59323.2"
            ]
          },
          "metadata": {
            "tags": []
          }
        },
        {
          "output_type": "display_data",
          "data": {
            "text/html": [
              "<pre>recommendations finished on 12000/13815 queries. users per second: 59089.1</pre>"
            ],
            "text/plain": [
              "recommendations finished on 12000/13815 queries. users per second: 59089.1"
            ]
          },
          "metadata": {
            "tags": []
          }
        },
        {
          "output_type": "display_data",
          "data": {
            "text/html": [
              "<pre>recommendations finished on 13000/13815 queries. users per second: 59511.3</pre>"
            ],
            "text/plain": [
              "recommendations finished on 13000/13815 queries. users per second: 59511.3"
            ]
          },
          "metadata": {
            "tags": []
          }
        },
        {
          "output_type": "stream",
          "text": [
            "\n",
            "Precision and recall summary statistics by cutoff\n",
            "+--------+-----------------------+-----------------------+\n",
            "| cutoff |     mean_precision    |      mean_recall      |\n",
            "+--------+-----------------------+-----------------------+\n",
            "|   1    |  0.002171552660152006 |  0.001275183978767041 |\n",
            "|   2    |  0.002099167571480277 | 0.0022094999945162816 |\n",
            "|   3    |  0.002123295934370844 |  0.003493268102388625 |\n",
            "|   4    | 0.0020448787549764754 |  0.004568272841888491 |\n",
            "|   5    |  0.002200506695620696 |  0.006238558762988722 |\n",
            "|   6    | 0.0021232959343708588 |  0.007244711495525824 |\n",
            "|   7    |  0.001964738121089913 |  0.007732104425915513 |\n",
            "|   8    |  0.002017734346724579 |  0.009194875843541487 |\n",
            "|   9    |  0.001970482969397192 |  0.009797068984736812 |\n",
            "|   10   |  0.002707202316322852 |  0.015029620444215576 |\n",
            "+--------+-----------------------+-----------------------+\n",
            "[10 rows x 3 columns]\n",
            "\n",
            "\n",
            "Overall RMSE: 0.13283799365554108\n",
            "\n",
            "Per User RMSE (best)\n",
            "+------------+------------------------+-------+\n",
            "| customerId |          rmse          | count |\n",
            "+------------+------------------------+-------+\n",
            "|   21895    | 1.6653345369377348e-16 |   1   |\n",
            "+------------+------------------------+-------+\n",
            "[1 rows x 3 columns]\n",
            "\n",
            "\n",
            "Per User RMSE (worst)\n",
            "+------------+--------------------+-------+\n",
            "| customerId |        rmse        | count |\n",
            "+------------+--------------------+-------+\n",
            "|    8348    | 0.9605536332179931 |   1   |\n",
            "+------------+--------------------+-------+\n",
            "[1 rows x 3 columns]\n",
            "\n",
            "\n",
            "Per Item RMSE (best)\n",
            "+-----------+----------------------+-------+\n",
            "| productId |         rmse         | count |\n",
            "+-----------+----------------------+-------+\n",
            "|     47    | 0.015616981525341475 |  131  |\n",
            "+-----------+----------------------+-------+\n",
            "[1 rows x 3 columns]\n",
            "\n",
            "\n",
            "Per Item RMSE (worst)\n",
            "+-----------+--------------------+-------+\n",
            "| productId |        rmse        | count |\n",
            "+-----------+--------------------+-------+\n",
            "|    248    | 0.3460340782832427 |   15  |\n",
            "+-----------+--------------------+-------+\n",
            "[1 rows x 3 columns]\n",
            "\n",
            "PROGRESS: Evaluate model Cosine Similarity on Scaled Purchase Counts\n"
          ],
          "name": "stdout"
        },
        {
          "output_type": "display_data",
          "data": {
            "text/html": [
              "<pre>recommendations finished on 1000/13815 queries. users per second: 44656.8</pre>"
            ],
            "text/plain": [
              "recommendations finished on 1000/13815 queries. users per second: 44656.8"
            ]
          },
          "metadata": {
            "tags": []
          }
        },
        {
          "output_type": "display_data",
          "data": {
            "text/html": [
              "<pre>recommendations finished on 2000/13815 queries. users per second: 42808.2</pre>"
            ],
            "text/plain": [
              "recommendations finished on 2000/13815 queries. users per second: 42808.2"
            ]
          },
          "metadata": {
            "tags": []
          }
        },
        {
          "output_type": "display_data",
          "data": {
            "text/html": [
              "<pre>recommendations finished on 3000/13815 queries. users per second: 43058.3</pre>"
            ],
            "text/plain": [
              "recommendations finished on 3000/13815 queries. users per second: 43058.3"
            ]
          },
          "metadata": {
            "tags": []
          }
        },
        {
          "output_type": "display_data",
          "data": {
            "text/html": [
              "<pre>recommendations finished on 4000/13815 queries. users per second: 42787.6</pre>"
            ],
            "text/plain": [
              "recommendations finished on 4000/13815 queries. users per second: 42787.6"
            ]
          },
          "metadata": {
            "tags": []
          }
        },
        {
          "output_type": "display_data",
          "data": {
            "text/html": [
              "<pre>recommendations finished on 5000/13815 queries. users per second: 43922.5</pre>"
            ],
            "text/plain": [
              "recommendations finished on 5000/13815 queries. users per second: 43922.5"
            ]
          },
          "metadata": {
            "tags": []
          }
        },
        {
          "output_type": "display_data",
          "data": {
            "text/html": [
              "<pre>recommendations finished on 6000/13815 queries. users per second: 43182.6</pre>"
            ],
            "text/plain": [
              "recommendations finished on 6000/13815 queries. users per second: 43182.6"
            ]
          },
          "metadata": {
            "tags": []
          }
        },
        {
          "output_type": "display_data",
          "data": {
            "text/html": [
              "<pre>recommendations finished on 7000/13815 queries. users per second: 42655.1</pre>"
            ],
            "text/plain": [
              "recommendations finished on 7000/13815 queries. users per second: 42655.1"
            ]
          },
          "metadata": {
            "tags": []
          }
        },
        {
          "output_type": "display_data",
          "data": {
            "text/html": [
              "<pre>recommendations finished on 8000/13815 queries. users per second: 43369.1</pre>"
            ],
            "text/plain": [
              "recommendations finished on 8000/13815 queries. users per second: 43369.1"
            ]
          },
          "metadata": {
            "tags": []
          }
        },
        {
          "output_type": "display_data",
          "data": {
            "text/html": [
              "<pre>recommendations finished on 9000/13815 queries. users per second: 44021.8</pre>"
            ],
            "text/plain": [
              "recommendations finished on 9000/13815 queries. users per second: 44021.8"
            ]
          },
          "metadata": {
            "tags": []
          }
        },
        {
          "output_type": "display_data",
          "data": {
            "text/html": [
              "<pre>recommendations finished on 10000/13815 queries. users per second: 44624.1</pre>"
            ],
            "text/plain": [
              "recommendations finished on 10000/13815 queries. users per second: 44624.1"
            ]
          },
          "metadata": {
            "tags": []
          }
        },
        {
          "output_type": "display_data",
          "data": {
            "text/html": [
              "<pre>recommendations finished on 11000/13815 queries. users per second: 45065</pre>"
            ],
            "text/plain": [
              "recommendations finished on 11000/13815 queries. users per second: 45065"
            ]
          },
          "metadata": {
            "tags": []
          }
        },
        {
          "output_type": "display_data",
          "data": {
            "text/html": [
              "<pre>recommendations finished on 12000/13815 queries. users per second: 45253</pre>"
            ],
            "text/plain": [
              "recommendations finished on 12000/13815 queries. users per second: 45253"
            ]
          },
          "metadata": {
            "tags": []
          }
        },
        {
          "output_type": "display_data",
          "data": {
            "text/html": [
              "<pre>recommendations finished on 13000/13815 queries. users per second: 44368.4</pre>"
            ],
            "text/plain": [
              "recommendations finished on 13000/13815 queries. users per second: 44368.4"
            ]
          },
          "metadata": {
            "tags": []
          }
        },
        {
          "output_type": "stream",
          "text": [
            "\n",
            "Precision and recall summary statistics by cutoff\n",
            "+--------+----------------------+----------------------+\n",
            "| cutoff |    mean_precision    |     mean_recall      |\n",
            "+--------+----------------------+----------------------+\n",
            "|   1    | 0.06724574737604046  | 0.037075553258334955 |\n",
            "|   2    | 0.05465074194715889  | 0.060358709924685165 |\n",
            "|   3    | 0.046012788032332094 | 0.07424302147829212  |\n",
            "|   4    | 0.04075280492218608  | 0.08726959688543227  |\n",
            "|   5    | 0.03661237785016232  |  0.0965512822077483  |\n",
            "|   6    | 0.03359874532512981  | 0.10609631934779094  |\n",
            "|   7    | 0.03121865467142382  | 0.11461478122130157  |\n",
            "|   8    | 0.029270720231632272 | 0.12265724113401115  |\n",
            "|   9    | 0.02752241927051898  |  0.129215937156248   |\n",
            "|   10   | 0.026073108939558498 | 0.13656112825822495  |\n",
            "+--------+----------------------+----------------------+\n",
            "[10 rows x 3 columns]\n",
            "\n",
            "\n",
            "Overall RMSE: 0.16062568664457783\n",
            "\n",
            "Per User RMSE (best)\n",
            "+------------+------+-------+\n",
            "| customerId | rmse | count |\n",
            "+------------+------+-------+\n",
            "|   13361    | 0.0  |   2   |\n",
            "+------------+------+-------+\n",
            "[1 rows x 3 columns]\n",
            "\n",
            "\n",
            "Per User RMSE (worst)\n",
            "+------------+------+-------+\n",
            "| customerId | rmse | count |\n",
            "+------------+------+-------+\n",
            "|   25416    | 1.0  |   1   |\n",
            "+------------+------+-------+\n",
            "[1 rows x 3 columns]\n",
            "\n",
            "\n",
            "Per Item RMSE (best)\n",
            "+-----------+----------------------+-------+\n",
            "| productId |         rmse         | count |\n",
            "+-----------+----------------------+-------+\n",
            "|     47    | 0.014813852575232468 |  131  |\n",
            "+-----------+----------------------+-------+\n",
            "[1 rows x 3 columns]\n",
            "\n",
            "\n",
            "Per Item RMSE (worst)\n",
            "+-----------+--------------------+-------+\n",
            "| productId |        rmse        | count |\n",
            "+-----------+--------------------+-------+\n",
            "|    226    | 0.8787076604130143 |   29  |\n",
            "+-----------+--------------------+-------+\n",
            "[1 rows x 3 columns]\n",
            "\n",
            "PROGRESS: Evaluate model Pearson Similarity on Scaled Purchase Counts\n"
          ],
          "name": "stdout"
        },
        {
          "output_type": "display_data",
          "data": {
            "text/html": [
              "<pre>recommendations finished on 1000/13815 queries. users per second: 42498.9</pre>"
            ],
            "text/plain": [
              "recommendations finished on 1000/13815 queries. users per second: 42498.9"
            ]
          },
          "metadata": {
            "tags": []
          }
        },
        {
          "output_type": "display_data",
          "data": {
            "text/html": [
              "<pre>recommendations finished on 2000/13815 queries. users per second: 39202.6</pre>"
            ],
            "text/plain": [
              "recommendations finished on 2000/13815 queries. users per second: 39202.6"
            ]
          },
          "metadata": {
            "tags": []
          }
        },
        {
          "output_type": "display_data",
          "data": {
            "text/html": [
              "<pre>recommendations finished on 3000/13815 queries. users per second: 40248.5</pre>"
            ],
            "text/plain": [
              "recommendations finished on 3000/13815 queries. users per second: 40248.5"
            ]
          },
          "metadata": {
            "tags": []
          }
        },
        {
          "output_type": "display_data",
          "data": {
            "text/html": [
              "<pre>recommendations finished on 4000/13815 queries. users per second: 40554.8</pre>"
            ],
            "text/plain": [
              "recommendations finished on 4000/13815 queries. users per second: 40554.8"
            ]
          },
          "metadata": {
            "tags": []
          }
        },
        {
          "output_type": "display_data",
          "data": {
            "text/html": [
              "<pre>recommendations finished on 5000/13815 queries. users per second: 41613.6</pre>"
            ],
            "text/plain": [
              "recommendations finished on 5000/13815 queries. users per second: 41613.6"
            ]
          },
          "metadata": {
            "tags": []
          }
        },
        {
          "output_type": "display_data",
          "data": {
            "text/html": [
              "<pre>recommendations finished on 6000/13815 queries. users per second: 41745.2</pre>"
            ],
            "text/plain": [
              "recommendations finished on 6000/13815 queries. users per second: 41745.2"
            ]
          },
          "metadata": {
            "tags": []
          }
        },
        {
          "output_type": "display_data",
          "data": {
            "text/html": [
              "<pre>recommendations finished on 7000/13815 queries. users per second: 40744.1</pre>"
            ],
            "text/plain": [
              "recommendations finished on 7000/13815 queries. users per second: 40744.1"
            ]
          },
          "metadata": {
            "tags": []
          }
        },
        {
          "output_type": "display_data",
          "data": {
            "text/html": [
              "<pre>recommendations finished on 8000/13815 queries. users per second: 41232</pre>"
            ],
            "text/plain": [
              "recommendations finished on 8000/13815 queries. users per second: 41232"
            ]
          },
          "metadata": {
            "tags": []
          }
        },
        {
          "output_type": "display_data",
          "data": {
            "text/html": [
              "<pre>recommendations finished on 9000/13815 queries. users per second: 40860.8</pre>"
            ],
            "text/plain": [
              "recommendations finished on 9000/13815 queries. users per second: 40860.8"
            ]
          },
          "metadata": {
            "tags": []
          }
        },
        {
          "output_type": "display_data",
          "data": {
            "text/html": [
              "<pre>recommendations finished on 10000/13815 queries. users per second: 41054.6</pre>"
            ],
            "text/plain": [
              "recommendations finished on 10000/13815 queries. users per second: 41054.6"
            ]
          },
          "metadata": {
            "tags": []
          }
        },
        {
          "output_type": "display_data",
          "data": {
            "text/html": [
              "<pre>recommendations finished on 11000/13815 queries. users per second: 41432.5</pre>"
            ],
            "text/plain": [
              "recommendations finished on 11000/13815 queries. users per second: 41432.5"
            ]
          },
          "metadata": {
            "tags": []
          }
        },
        {
          "output_type": "display_data",
          "data": {
            "text/html": [
              "<pre>recommendations finished on 12000/13815 queries. users per second: 41562.8</pre>"
            ],
            "text/plain": [
              "recommendations finished on 12000/13815 queries. users per second: 41562.8"
            ]
          },
          "metadata": {
            "tags": []
          }
        },
        {
          "output_type": "display_data",
          "data": {
            "text/html": [
              "<pre>recommendations finished on 13000/13815 queries. users per second: 40430.2</pre>"
            ],
            "text/plain": [
              "recommendations finished on 13000/13815 queries. users per second: 40430.2"
            ]
          },
          "metadata": {
            "tags": []
          }
        },
        {
          "output_type": "stream",
          "text": [
            "\n",
            "Precision and recall summary statistics by cutoff\n",
            "+--------+-----------------------+-----------------------+\n",
            "| cutoff |     mean_precision    |      mean_recall      |\n",
            "+--------+-----------------------+-----------------------+\n",
            "|   1    |  0.002171552660151998 | 0.0012751839787670395 |\n",
            "|   2    |  0.002099167571480272 |  0.002209499994516279 |\n",
            "|   3    | 0.0021232959343708484 | 0.0034932681023886226 |\n",
            "|   4    | 0.0020629750271444073 |  0.004604465386224347 |\n",
            "|   5    |  0.002214983713355046 |  0.006274751307324599 |\n",
            "|   6    | 0.0021112317529255673 |  0.007208518951189961 |\n",
            "|   7    |  0.001975078848043017 |  0.007804489514587232 |\n",
            "|   8    | 0.0020086862106406074 |  0.009158683299205635 |\n",
            "|   9    |  0.001978525757027382 |  0.009833261529072702 |\n",
            "|   10   |  0.002728917842924372 |  0.015174390621559045 |\n",
            "+--------+-----------------------+-----------------------+\n",
            "[10 rows x 3 columns]\n",
            "\n",
            "\n",
            "Overall RMSE: 0.13255133365574626\n",
            "\n",
            "Per User RMSE (best)\n",
            "+------------+------------------------+-------+\n",
            "| customerId |          rmse          | count |\n",
            "+------------+------------------------+-------+\n",
            "|   21895    | 2.2506713867054273e-06 |   1   |\n",
            "+------------+------------------------+-------+\n",
            "[1 rows x 3 columns]\n",
            "\n",
            "\n",
            "Per User RMSE (worst)\n",
            "+------------+--------------------+-------+\n",
            "| customerId |        rmse        | count |\n",
            "+------------+--------------------+-------+\n",
            "|    8348    | 0.9605751230766204 |   1   |\n",
            "+------------+--------------------+-------+\n",
            "[1 rows x 3 columns]\n",
            "\n",
            "\n",
            "Per Item RMSE (best)\n",
            "+-----------+----------------------+-------+\n",
            "| productId |         rmse         | count |\n",
            "+-----------+----------------------+-------+\n",
            "|     47    | 0.014661572597946815 |  131  |\n",
            "+-----------+----------------------+-------+\n",
            "[1 rows x 3 columns]\n",
            "\n",
            "\n",
            "Per Item RMSE (worst)\n",
            "+-----------+--------------------+-------+\n",
            "| productId |        rmse        | count |\n",
            "+-----------+--------------------+-------+\n",
            "|    248    | 0.3461635309657891 |   15  |\n",
            "+-----------+--------------------+-------+\n",
            "[1 rows x 3 columns]\n",
            "\n"
          ],
          "name": "stdout"
        }
      ]
    },
    {
      "cell_type": "markdown",
      "metadata": {
        "id": "TrEZhyk11hhw"
      },
      "source": [
        "## 8. Seleção de modelo\n",
        "### 8.1. Resumo da avaliação\n",
        "* Com base em RMSE\n",
        "\n",
        "\n",
        "    1. Popularidade nas contagens de compra: 1,1111750034210488\n",
        "    2. Similaridade de cosseno nas contagens de compra: 1,9230643981653215\n",
        "    3. Similaridade de Pearson nas contagens de compra: 1,9231102838192284\n",
        "    \n",
        "    4. Popularidade no dummy de compra: 0,9697374361161925\n",
        "    5. Similaridade de cosseno no dummy de compra: 0,9697509978436404\n",
        "    6. Similaridade de Pearson no dummy de compra: 0,9697745320187097\n",
        "    \n",
        "    7. Popularidade em contagens de compra em normalizada: 0,16230660626840343\n",
        "    8. Similaridade de cosseno em contagens de compra em normalizada: 0,16229800354111104\n",
        "    9. Similaridade de Pearson nas contagens de compra em normalizada: 0,1622982668334026\n",
        "    \n",
        "* Com base na precisão e recall\n",
        "![](../images/model_comparisons.png)\n"
      ]
    },
    {
      "cell_type": "markdown",
      "metadata": {
        "id": "d_3QSw041hhw"
      },
      "source": [
        "#### Notas\n",
        "\n",
        "* Popularidade v. Filtragem colaborativa: podemos ver que os algoritmos de filtragem colaborativa funcionam melhor do que o modelo de popularidade para contagens de compras. Na verdade, o modelo de popularidade não oferece nenhuma personalização, uma vez que apenas fornece a mesma lista de itens recomendados para todos os usuários.\n",
        "* Precisão e recall: Observando o resumo acima, vemos que a precisão e o recall para Contagens de compra> Dummy de compra> Contagens de compra normalizadas. No entanto, como as pontuações de recomendação para os dados de compra normalizados são zero e constantes, escolhemos a dummy. Na verdade, o RMSE não é muito diferente entre os modelos do dummy e os dos dados normalizados.\n",
        "* RMSE: Como o RMSE é maior usando a distância de Pearson do que o cosseno, escolheríamos modelar os erros quadrados médios menores, que neste caso seriam o cosseno.\n",
        "Portanto, selecionamos a abordagem de similaridade de cosseno no dummy de compra como nosso modelo final."
      ]
    },
    {
      "cell_type": "markdown",
      "metadata": {
        "id": "5q1SLgzH1hhx"
      },
      "source": [
        "## 8. Resultado final\n",
        "* Nesta etapa, gostaríamos de manipular o formato da saída de recomendação para um que possamos exportar para csv e também uma função que retornará a lista de recomendações com um ID de cliente.\n",
        "* Precisamos primeiro executar novamente o modelo usando todo o conjunto de dados, pois chegamos a um modelo final usando dados de trem e avaliados com conjunto de teste."
      ]
    },
    {
      "cell_type": "code",
      "metadata": {
        "colab": {
          "base_uri": "https://localhost:8080/",
          "height": 1000
        },
        "id": "hSeZEOSr1hhx",
        "outputId": "f3f859ec-67ae-42e9-d879-0cfb49aca31c"
      },
      "source": [
        "users_to_recommend = list(customers[user_id])\n",
        "\n",
        "final_model = tc.item_similarity_recommender.create(tc.SFrame(data_dummy), \n",
        "                                            user_id=user_id, \n",
        "                                            item_id=item_id, \n",
        "                                            target='purchase_dummy', \n",
        "                                            similarity_type='cosine')\n",
        "\n",
        "recom = final_model.recommend(users=users_to_recommend, k=n_rec)\n",
        "recom.print_rows(n_display)"
      ],
      "execution_count": 50,
      "outputs": [
        {
          "output_type": "display_data",
          "data": {
            "text/html": [
              "<pre>Warning: Ignoring columns purchase_count;</pre>"
            ],
            "text/plain": [
              "Warning: Ignoring columns purchase_count;"
            ]
          },
          "metadata": {
            "tags": []
          }
        },
        {
          "output_type": "display_data",
          "data": {
            "text/html": [
              "<pre>    To use these columns in scoring predictions, use a model that allows the use of additional features.</pre>"
            ],
            "text/plain": [
              "    To use these columns in scoring predictions, use a model that allows the use of additional features."
            ]
          },
          "metadata": {
            "tags": []
          }
        },
        {
          "output_type": "display_data",
          "data": {
            "text/html": [
              "<pre>Preparing data set.</pre>"
            ],
            "text/plain": [
              "Preparing data set."
            ]
          },
          "metadata": {
            "tags": []
          }
        },
        {
          "output_type": "display_data",
          "data": {
            "text/html": [
              "<pre>    Data has 133585 observations with 24429 users and 300 items.</pre>"
            ],
            "text/plain": [
              "    Data has 133585 observations with 24429 users and 300 items."
            ]
          },
          "metadata": {
            "tags": []
          }
        },
        {
          "output_type": "display_data",
          "data": {
            "text/html": [
              "<pre>    Data prepared in: 0.160699s</pre>"
            ],
            "text/plain": [
              "    Data prepared in: 0.160699s"
            ]
          },
          "metadata": {
            "tags": []
          }
        },
        {
          "output_type": "display_data",
          "data": {
            "text/html": [
              "<pre>Training model from provided data.</pre>"
            ],
            "text/plain": [
              "Training model from provided data."
            ]
          },
          "metadata": {
            "tags": []
          }
        },
        {
          "output_type": "display_data",
          "data": {
            "text/html": [
              "<pre>Gathering per-item and per-user statistics.</pre>"
            ],
            "text/plain": [
              "Gathering per-item and per-user statistics."
            ]
          },
          "metadata": {
            "tags": []
          }
        },
        {
          "output_type": "display_data",
          "data": {
            "text/html": [
              "<pre>+--------------------------------+------------+</pre>"
            ],
            "text/plain": [
              "+--------------------------------+------------+"
            ]
          },
          "metadata": {
            "tags": []
          }
        },
        {
          "output_type": "display_data",
          "data": {
            "text/html": [
              "<pre>| Elapsed Time (Item Statistics) | % Complete |</pre>"
            ],
            "text/plain": [
              "| Elapsed Time (Item Statistics) | % Complete |"
            ]
          },
          "metadata": {
            "tags": []
          }
        },
        {
          "output_type": "display_data",
          "data": {
            "text/html": [
              "<pre>+--------------------------------+------------+</pre>"
            ],
            "text/plain": [
              "+--------------------------------+------------+"
            ]
          },
          "metadata": {
            "tags": []
          }
        },
        {
          "output_type": "display_data",
          "data": {
            "text/html": [
              "<pre>| 1.986ms                        | 4          |</pre>"
            ],
            "text/plain": [
              "| 1.986ms                        | 4          |"
            ]
          },
          "metadata": {
            "tags": []
          }
        },
        {
          "output_type": "display_data",
          "data": {
            "text/html": [
              "<pre>| 24.753ms                       | 100        |</pre>"
            ],
            "text/plain": [
              "| 24.753ms                       | 100        |"
            ]
          },
          "metadata": {
            "tags": []
          }
        },
        {
          "output_type": "display_data",
          "data": {
            "text/html": [
              "<pre>+--------------------------------+------------+</pre>"
            ],
            "text/plain": [
              "+--------------------------------+------------+"
            ]
          },
          "metadata": {
            "tags": []
          }
        },
        {
          "output_type": "display_data",
          "data": {
            "text/html": [
              "<pre>Setting up lookup tables.</pre>"
            ],
            "text/plain": [
              "Setting up lookup tables."
            ]
          },
          "metadata": {
            "tags": []
          }
        },
        {
          "output_type": "display_data",
          "data": {
            "text/html": [
              "<pre>Processing data in one pass using dense lookup tables.</pre>"
            ],
            "text/plain": [
              "Processing data in one pass using dense lookup tables."
            ]
          },
          "metadata": {
            "tags": []
          }
        },
        {
          "output_type": "display_data",
          "data": {
            "text/html": [
              "<pre>+-------------------------------------+------------------+-----------------+</pre>"
            ],
            "text/plain": [
              "+-------------------------------------+------------------+-----------------+"
            ]
          },
          "metadata": {
            "tags": []
          }
        },
        {
          "output_type": "display_data",
          "data": {
            "text/html": [
              "<pre>| Elapsed Time (Constructing Lookups) | Total % Complete | Items Processed |</pre>"
            ],
            "text/plain": [
              "| Elapsed Time (Constructing Lookups) | Total % Complete | Items Processed |"
            ]
          },
          "metadata": {
            "tags": []
          }
        },
        {
          "output_type": "display_data",
          "data": {
            "text/html": [
              "<pre>+-------------------------------------+------------------+-----------------+</pre>"
            ],
            "text/plain": [
              "+-------------------------------------+------------------+-----------------+"
            ]
          },
          "metadata": {
            "tags": []
          }
        },
        {
          "output_type": "display_data",
          "data": {
            "text/html": [
              "<pre>| 26.324ms                            | 0                | 0               |</pre>"
            ],
            "text/plain": [
              "| 26.324ms                            | 0                | 0               |"
            ]
          },
          "metadata": {
            "tags": []
          }
        },
        {
          "output_type": "display_data",
          "data": {
            "text/html": [
              "<pre>| 71.122ms                            | 100              | 300             |</pre>"
            ],
            "text/plain": [
              "| 71.122ms                            | 100              | 300             |"
            ]
          },
          "metadata": {
            "tags": []
          }
        },
        {
          "output_type": "display_data",
          "data": {
            "text/html": [
              "<pre>+-------------------------------------+------------------+-----------------+</pre>"
            ],
            "text/plain": [
              "+-------------------------------------+------------------+-----------------+"
            ]
          },
          "metadata": {
            "tags": []
          }
        },
        {
          "output_type": "display_data",
          "data": {
            "text/html": [
              "<pre>Finalizing lookup tables.</pre>"
            ],
            "text/plain": [
              "Finalizing lookup tables."
            ]
          },
          "metadata": {
            "tags": []
          }
        },
        {
          "output_type": "display_data",
          "data": {
            "text/html": [
              "<pre>Generating candidate set for working with new users.</pre>"
            ],
            "text/plain": [
              "Generating candidate set for working with new users."
            ]
          },
          "metadata": {
            "tags": []
          }
        },
        {
          "output_type": "display_data",
          "data": {
            "text/html": [
              "<pre>Finished training in 0.10965s</pre>"
            ],
            "text/plain": [
              "Finished training in 0.10965s"
            ]
          },
          "metadata": {
            "tags": []
          }
        },
        {
          "output_type": "display_data",
          "data": {
            "text/html": [
              "<pre>recommendations finished on 1000/1000 queries. users per second: 28884.2</pre>"
            ],
            "text/plain": [
              "recommendations finished on 1000/1000 queries. users per second: 28884.2"
            ]
          },
          "metadata": {
            "tags": []
          }
        },
        {
          "output_type": "stream",
          "text": [
            "+------------+-----------+----------------------+------+\n",
            "| customerId | productId |        score         | rank |\n",
            "+------------+-----------+----------------------+------+\n",
            "|    1553    |     1     | 0.10348175764083863  |  1   |\n",
            "|    1553    |     2     |  0.0934672474861145  |  2   |\n",
            "|    1553    |     35    |  0.0845762014389038  |  3   |\n",
            "|    1553    |     33    |  0.0668614387512207  |  4   |\n",
            "|    1553    |     61    | 0.06512556076049805  |  5   |\n",
            "|    1553    |     15    | 0.06476415395736694  |  6   |\n",
            "|    1553    |     11    | 0.05467898845672607  |  7   |\n",
            "|    1553    |     5     | 0.05406981706619263  |  8   |\n",
            "|    1553    |     36    | 0.05048650503158569  |  9   |\n",
            "|    1553    |     19    | 0.049363481998443606 |  10  |\n",
            "|   20400    |     26    | 0.05812269449234009  |  1   |\n",
            "|   20400    |     6     | 0.05361741781234741  |  2   |\n",
            "|   20400    |    113    | 0.05312788486480713  |  3   |\n",
            "|   20400    |     1     | 0.05210459232330322  |  4   |\n",
            "|   20400    |     15    | 0.047683894634246826 |  5   |\n",
            "|   20400    |     27    | 0.044673383235931396 |  6   |\n",
            "|   20400    |     13    | 0.04383981227874756  |  7   |\n",
            "|   20400    |    246    | 0.04373115301132202  |  8   |\n",
            "|   20400    |    160    | 0.04251152276992798  |  9   |\n",
            "|   20400    |     4     | 0.04242873191833496  |  10  |\n",
            "|   19750    |     36    | 0.12405195832252502  |  1   |\n",
            "|   19750    |     48    | 0.12334879239400227  |  2   |\n",
            "|   19750    |     38    |  0.1118616263071696  |  3   |\n",
            "|   19750    |     79    | 0.10431413849194844  |  4   |\n",
            "|   19750    |     1     |  0.1038620372613271  |  5   |\n",
            "|   19750    |     2     | 0.07453847924868266  |  6   |\n",
            "|   19750    |    194    | 0.061924477418263756 |  7   |\n",
            "|   19750    |     21    | 0.060992548863093056 |  8   |\n",
            "|   19750    |     33    | 0.060228586196899414 |  9   |\n",
            "|   19750    |     5     | 0.059651424487431846 |  10  |\n",
            "+------------+-----------+----------------------+------+\n",
            "[10000 rows x 4 columns]\n",
            "\n"
          ],
          "name": "stdout"
        }
      ]
    },
    {
      "cell_type": "markdown",
      "metadata": {
        "id": "Bwj5d58s1hhx"
      },
      "source": [
        "### 8.1. CSV output file"
      ]
    },
    {
      "cell_type": "code",
      "metadata": {
        "colab": {
          "base_uri": "https://localhost:8080/",
          "height": 215
        },
        "id": "UN0zQNPw1hhx",
        "outputId": "1bdc1c51-9eb4-41c0-a748-7fc7d8e40ab1"
      },
      "source": [
        "df_rec = recom.to_dataframe()\n",
        "print(df_rec.shape)\n",
        "df_rec.head()"
      ],
      "execution_count": 51,
      "outputs": [
        {
          "output_type": "stream",
          "text": [
            "(10000, 4)\n"
          ],
          "name": "stdout"
        },
        {
          "output_type": "execute_result",
          "data": {
            "text/html": [
              "<div>\n",
              "<style scoped>\n",
              "    .dataframe tbody tr th:only-of-type {\n",
              "        vertical-align: middle;\n",
              "    }\n",
              "\n",
              "    .dataframe tbody tr th {\n",
              "        vertical-align: top;\n",
              "    }\n",
              "\n",
              "    .dataframe thead th {\n",
              "        text-align: right;\n",
              "    }\n",
              "</style>\n",
              "<table border=\"1\" class=\"dataframe\">\n",
              "  <thead>\n",
              "    <tr style=\"text-align: right;\">\n",
              "      <th></th>\n",
              "      <th>customerId</th>\n",
              "      <th>productId</th>\n",
              "      <th>score</th>\n",
              "      <th>rank</th>\n",
              "    </tr>\n",
              "  </thead>\n",
              "  <tbody>\n",
              "    <tr>\n",
              "      <th>0</th>\n",
              "      <td>1553</td>\n",
              "      <td>1</td>\n",
              "      <td>0.103482</td>\n",
              "      <td>1</td>\n",
              "    </tr>\n",
              "    <tr>\n",
              "      <th>1</th>\n",
              "      <td>1553</td>\n",
              "      <td>2</td>\n",
              "      <td>0.093467</td>\n",
              "      <td>2</td>\n",
              "    </tr>\n",
              "    <tr>\n",
              "      <th>2</th>\n",
              "      <td>1553</td>\n",
              "      <td>35</td>\n",
              "      <td>0.084576</td>\n",
              "      <td>3</td>\n",
              "    </tr>\n",
              "    <tr>\n",
              "      <th>3</th>\n",
              "      <td>1553</td>\n",
              "      <td>33</td>\n",
              "      <td>0.066861</td>\n",
              "      <td>4</td>\n",
              "    </tr>\n",
              "    <tr>\n",
              "      <th>4</th>\n",
              "      <td>1553</td>\n",
              "      <td>61</td>\n",
              "      <td>0.065126</td>\n",
              "      <td>5</td>\n",
              "    </tr>\n",
              "  </tbody>\n",
              "</table>\n",
              "</div>"
            ],
            "text/plain": [
              "   customerId  productId     score  rank\n",
              "0        1553          1  0.103482     1\n",
              "1        1553          2  0.093467     2\n",
              "2        1553         35  0.084576     3\n",
              "3        1553         33  0.066861     4\n",
              "4        1553         61  0.065126     5"
            ]
          },
          "metadata": {
            "tags": []
          },
          "execution_count": 51
        }
      ]
    },
    {
      "cell_type": "code",
      "metadata": {
        "collapsed": true,
        "id": "PoojvPVg1hhx"
      },
      "source": [
        "df_rec['recommendedProducts'] = df_rec.groupby([user_id])[item_id].transform(lambda x: '|'.join(x.astype(str)))\n",
        "df_output = df_rec[['customerId', 'recommendedProducts']].drop_duplicates().sort_values('customerId').set_index('customerId')"
      ],
      "execution_count": 52,
      "outputs": []
    },
    {
      "cell_type": "markdown",
      "metadata": {
        "id": "AgvchuSL1hhx"
      },
      "source": [
        "#### Define função para cria a saida desejada\r\n"
      ]
    },
    {
      "cell_type": "code",
      "metadata": {
        "collapsed": true,
        "id": "RDkR8-9y1hhy"
      },
      "source": [
        "def create_output(model, users_to_recommend, n_rec, print_csv=True):\n",
        "    recomendation = model.recommend(users=users_to_recommend, k=n_rec)\n",
        "    df_rec = recomendation.to_dataframe()\n",
        "    df_rec['recommendedProducts'] = df_rec.groupby([user_id])[item_id] \\\n",
        "        .transform(lambda x: '|'.join(x.astype(str)))\n",
        "    df_output = df_rec[['customerId', 'recommendedProducts']].drop_duplicates() \\\n",
        "        .sort_values('customerId').set_index('customerId')\n",
        "    if print_csv:\n",
        "        df_output.to_csv('/content/option1_recommendation.csv')\n",
        "        print(\"An output file can be found in 'output' folder with name 'option1_recommendation.csv'\")\n",
        "    return df_output"
      ],
      "execution_count": 53,
      "outputs": []
    },
    {
      "cell_type": "code",
      "metadata": {
        "colab": {
          "base_uri": "https://localhost:8080/",
          "height": 280
        },
        "id": "ViuocR7Z1hhy",
        "outputId": "ef7cb1f5-60c0-4def-ff0a-b774aa270f6f"
      },
      "source": [
        "df_output = create_output(pear_norm, users_to_recommend, n_rec, print_csv=True)\n",
        "print(df_output.shape)\n",
        "df_output.head()"
      ],
      "execution_count": 54,
      "outputs": [
        {
          "output_type": "display_data",
          "data": {
            "text/html": [
              "<pre>recommendations finished on 1000/1000 queries. users per second: 64366.6</pre>"
            ],
            "text/plain": [
              "recommendations finished on 1000/1000 queries. users per second: 64366.6"
            ]
          },
          "metadata": {
            "tags": []
          }
        },
        {
          "output_type": "stream",
          "text": [
            "An output file can be found in 'output' folder with name 'option1_recommendation.csv'\n",
            "(1000, 1)\n"
          ],
          "name": "stdout"
        },
        {
          "output_type": "execute_result",
          "data": {
            "text/html": [
              "<div>\n",
              "<style scoped>\n",
              "    .dataframe tbody tr th:only-of-type {\n",
              "        vertical-align: middle;\n",
              "    }\n",
              "\n",
              "    .dataframe tbody tr th {\n",
              "        vertical-align: top;\n",
              "    }\n",
              "\n",
              "    .dataframe thead th {\n",
              "        text-align: right;\n",
              "    }\n",
              "</style>\n",
              "<table border=\"1\" class=\"dataframe\">\n",
              "  <thead>\n",
              "    <tr style=\"text-align: right;\">\n",
              "      <th></th>\n",
              "      <th>recommendedProducts</th>\n",
              "    </tr>\n",
              "    <tr>\n",
              "      <th>customerId</th>\n",
              "      <th></th>\n",
              "    </tr>\n",
              "  </thead>\n",
              "  <tbody>\n",
              "    <tr>\n",
              "      <th>4</th>\n",
              "      <td>226|247|230|294|125|204|248|276|155|72</td>\n",
              "    </tr>\n",
              "    <tr>\n",
              "      <th>11</th>\n",
              "      <td>226|247|230|294|125|204|248|276|155|213</td>\n",
              "    </tr>\n",
              "    <tr>\n",
              "      <th>12</th>\n",
              "      <td>226|247|230|294|125|204|248|276|155|72</td>\n",
              "    </tr>\n",
              "    <tr>\n",
              "      <th>16</th>\n",
              "      <td>226|247|230|294|125|204|248|276|155|72</td>\n",
              "    </tr>\n",
              "    <tr>\n",
              "      <th>21</th>\n",
              "      <td>226|247|230|294|125|204|248|276|155|72</td>\n",
              "    </tr>\n",
              "  </tbody>\n",
              "</table>\n",
              "</div>"
            ],
            "text/plain": [
              "                                recommendedProducts\n",
              "customerId                                         \n",
              "4            226|247|230|294|125|204|248|276|155|72\n",
              "11          226|247|230|294|125|204|248|276|155|213\n",
              "12           226|247|230|294|125|204|248|276|155|72\n",
              "16           226|247|230|294|125|204|248|276|155|72\n",
              "21           226|247|230|294|125|204|248|276|155|72"
            ]
          },
          "metadata": {
            "tags": []
          },
          "execution_count": 54
        }
      ]
    },
    {
      "cell_type": "markdown",
      "metadata": {
        "id": "qozVNDmx1hhy"
      },
      "source": [
        "### 8.2. Função de recomendação"
      ]
    },
    {
      "cell_type": "code",
      "metadata": {
        "id": "w2lrEMTh1hhy"
      },
      "source": [
        "def customer_recomendation(customer_id):\n",
        "    if customer_id not in df_output.index:\n",
        "        print('Customer not found.')\n",
        "        return customer_id\n",
        "    return df_output.loc[customer_id]"
      ],
      "execution_count": 55,
      "outputs": []
    },
    {
      "cell_type": "code",
      "metadata": {
        "colab": {
          "base_uri": "https://localhost:8080/"
        },
        "id": "_zTyNagS1hhy",
        "outputId": "b15ac114-815a-486f-8490-a4388596ccab"
      },
      "source": [
        "customer_recomendation(4)"
      ],
      "execution_count": 56,
      "outputs": [
        {
          "output_type": "execute_result",
          "data": {
            "text/plain": [
              "recommendedProducts    226|247|230|294|125|204|248|276|155|72\n",
              "Name: 4, dtype: object"
            ]
          },
          "metadata": {
            "tags": []
          },
          "execution_count": 56
        }
      ]
    },
    {
      "cell_type": "code",
      "metadata": {
        "colab": {
          "base_uri": "https://localhost:8080/"
        },
        "id": "bVjfov8Q1hhy",
        "outputId": "71285606-2753-4de7-9c38-ba975da9efe8"
      },
      "source": [
        "customer_recomendation(21)"
      ],
      "execution_count": 57,
      "outputs": [
        {
          "output_type": "execute_result",
          "data": {
            "text/plain": [
              "recommendedProducts    226|247|230|294|125|204|248|276|155|72\n",
              "Name: 21, dtype: object"
            ]
          },
          "metadata": {
            "tags": []
          },
          "execution_count": 57
        }
      ]
    },
    {
      "cell_type": "markdown",
      "metadata": {
        "collapsed": true,
        "id": "ysMtR0yt1hhy"
      },
      "source": [
        "## Resumo\n",
        "Neste exercício, pudemos realizar um processo passo a passo para fazer recomendações aos clientes. Usamos abordagens de Filtragem Colaborativa com as medidas `cosine` e` pearson` e comparamos os modelos com nosso modelo de popularidade de linha de base. Também preparamos três conjuntos de dados que incluem contagem de compras regular, compra dummy, bem como frequência de compra normalizada como nossa variável de destino. Usando RMSE, precisão e recall, avaliamos nossos modelos e observamos o impacto da personalização. Finalmente, selecionamos a abordagem Cosine em dados de compra dummy."
      ]
    },
    {
      "cell_type": "code",
      "metadata": {
        "collapsed": true,
        "id": "1XJHgNk31hhz"
      },
      "source": [
        ""
      ],
      "execution_count": 57,
      "outputs": []
    }
  ]
}