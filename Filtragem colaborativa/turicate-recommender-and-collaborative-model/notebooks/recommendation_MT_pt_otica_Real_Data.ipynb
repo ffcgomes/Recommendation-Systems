{
  "nbformat": 4,
  "nbformat_minor": 0,
  "metadata": {
    "colab": {
      "name": "recommendation_MT_pt_otica-simples.ipynb",
      "provenance": []
    },
    "kernelspec": {
      "display_name": "Python 3",
      "language": "python",
      "name": "python3"
    },
    "language_info": {
      "codemirror_mode": {
        "name": "ipython",
        "version": 3
      },
      "file_extension": ".py",
      "mimetype": "text/x-python",
      "name": "python",
      "nbconvert_exporter": "python",
      "pygments_lexer": "ipython3",
      "version": "3.6.0"
    }
  },
  "cells": [
    {
      "cell_type": "markdown",
      "metadata": {
        "id": "oIV1GiYO1hhd"
      },
      "source": [
        "# Como construir um sistema de recomendação para dados de compra (passo a passo)\n",
        "* Descrição: uma documentação sobre a construção de modelos de filtragem colaborativa para recomendar produtos aos clientes\n",
        "* Link: https://medium.com/datadriveninvestor/how-to-build-a-recommendation-system-for-purchase-data-step-by-step-d6d7a78800b6\n",
        "* Autor: Moorissa Tjokro\n",
        "\n",
        "## Declaração do problema\n",
        "Iremos construir modelos de filtragem colaborativa para recomendar itens de produtos. As etapas a seguir têm como objetivo recomendar aos usuários seus 10 principais itens para colocar na cesta. A saída final será um arquivo csv na pasta `output` \n",
        "\n",
        "Usaremos dados de vendas de produtos de um ótica.\n",
        "\n",
        "Serão gerados dois modelos:  Um para os clientes que nunca compraram e outro para os clientes que já fizeram alguma compra\n",
        "\n",
        "\n",
        "##Importação das bibliotecas  necessárias\n"
      ]
    },
    {
      "cell_type": "code",
      "metadata": {
        "id": "QChMvzaIUXNZ"
      },
      "source": [
        "!pip install turicreate"
      ],
      "execution_count": null,
      "outputs": []
    },
    {
      "cell_type": "code",
      "metadata": {
        "id": "nHQ9HoWy1hhi"
      },
      "source": [
        "%load_ext autoreload\n",
        "%autoreload 2\n",
        "import pandas as pd\n",
        "import numpy as np\n",
        "import time\n",
        "import matplotlib.pyplot as plt\n",
        "import turicreate as tc\n",
        "from sklearn.model_selection import train_test_split\n",
        "import seaborn as sns\n",
        "\n"
      ],
      "execution_count": 2,
      "outputs": []
    },
    {
      "cell_type": "markdown",
      "metadata": {
        "id": "YxVhZj_X1hhk"
      },
      "source": [
        "##Carregando os dados\n",
        "Os dados se referem a compra de produtos por cada cliente, sendo que alguns clientes nunca compraram e outros compraram um ou mais item"
      ]
    },
    {
      "cell_type": "code",
      "metadata": {
        "id": "X4w8lZlYynJv"
      },
      "source": [
        "names=pd.read_csv('/content/ProdutoComVenda_Abr2019_Abr2021_OC.csv',sep=';')\n",
        "\n",
        "df=pd.read_csv('/content/VendaClienteProduto_Abr2020_Abr2021_OC.csv',sep=';',\n",
        "                  names=['customerId','productId','purchase_count'], header=None)\n",
        "df=df.fillna(0)\n",
        "df=df.apply(np.int64)\n",
        "data_original=df.copy()\n",
        "\n",
        "data=df.loc[df['purchase_count'] !=0 ]\n",
        "data=data.groupby(['customerId','productId'],as_index=False).sum()\n",
        "data=data.rename(columns={'userId':'customerId','counts':'purchase_count'})\n",
        "users_to_recommend_sim = list(data['customerId'])\n",
        "\n",
        "data2 = df.loc[df['purchase_count']==0]\n",
        "users_to_recommend_pop = list(data2['customerId'])\n",
        "\n",
        "\n",
        "\n"
      ],
      "execution_count": 3,
      "outputs": []
    },
    {
      "cell_type": "markdown",
      "metadata": {
        "id": "nmkRVqXlJDMB"
      },
      "source": [
        "##Os dados foram agregados acima, resumindo os totais de produtos comprados pelos clientes.\n",
        "\n",
        "##Foram divididos em dois dataframes: Um com os clientes que nunca compraram e outro com os clientes que já compraram um ou mais itens"
      ]
    },
    {
      "cell_type": "code",
      "metadata": {
        "colab": {
          "base_uri": "https://localhost:8080/",
          "height": 406
        },
        "id": "QHPDJmVhIbFL",
        "outputId": "810706e8-48ea-4aa6-e83c-bf4ff540905c"
      },
      "source": [
        "data\n"
      ],
      "execution_count": 4,
      "outputs": [
        {
          "output_type": "execute_result",
          "data": {
            "text/html": [
              "<div>\n",
              "<style scoped>\n",
              "    .dataframe tbody tr th:only-of-type {\n",
              "        vertical-align: middle;\n",
              "    }\n",
              "\n",
              "    .dataframe tbody tr th {\n",
              "        vertical-align: top;\n",
              "    }\n",
              "\n",
              "    .dataframe thead th {\n",
              "        text-align: right;\n",
              "    }\n",
              "</style>\n",
              "<table border=\"1\" class=\"dataframe\">\n",
              "  <thead>\n",
              "    <tr style=\"text-align: right;\">\n",
              "      <th></th>\n",
              "      <th>customerId</th>\n",
              "      <th>productId</th>\n",
              "      <th>purchase_count</th>\n",
              "    </tr>\n",
              "  </thead>\n",
              "  <tbody>\n",
              "    <tr>\n",
              "      <th>0</th>\n",
              "      <td>1</td>\n",
              "      <td>81572</td>\n",
              "      <td>1</td>\n",
              "    </tr>\n",
              "    <tr>\n",
              "      <th>1</th>\n",
              "      <td>2</td>\n",
              "      <td>81572</td>\n",
              "      <td>3</td>\n",
              "    </tr>\n",
              "    <tr>\n",
              "      <th>2</th>\n",
              "      <td>29</td>\n",
              "      <td>81065</td>\n",
              "      <td>1</td>\n",
              "    </tr>\n",
              "    <tr>\n",
              "      <th>3</th>\n",
              "      <td>29</td>\n",
              "      <td>81730</td>\n",
              "      <td>1</td>\n",
              "    </tr>\n",
              "    <tr>\n",
              "      <th>4</th>\n",
              "      <td>29</td>\n",
              "      <td>83484</td>\n",
              "      <td>1</td>\n",
              "    </tr>\n",
              "    <tr>\n",
              "      <th>...</th>\n",
              "      <td>...</td>\n",
              "      <td>...</td>\n",
              "      <td>...</td>\n",
              "    </tr>\n",
              "    <tr>\n",
              "      <th>42212</th>\n",
              "      <td>212890</td>\n",
              "      <td>88947</td>\n",
              "      <td>1</td>\n",
              "    </tr>\n",
              "    <tr>\n",
              "      <th>42213</th>\n",
              "      <td>212892</td>\n",
              "      <td>87165</td>\n",
              "      <td>1</td>\n",
              "    </tr>\n",
              "    <tr>\n",
              "      <th>42214</th>\n",
              "      <td>212893</td>\n",
              "      <td>103133</td>\n",
              "      <td>1</td>\n",
              "    </tr>\n",
              "    <tr>\n",
              "      <th>42215</th>\n",
              "      <td>212897</td>\n",
              "      <td>97411</td>\n",
              "      <td>1</td>\n",
              "    </tr>\n",
              "    <tr>\n",
              "      <th>42216</th>\n",
              "      <td>212903</td>\n",
              "      <td>94775</td>\n",
              "      <td>1</td>\n",
              "    </tr>\n",
              "  </tbody>\n",
              "</table>\n",
              "<p>42217 rows × 3 columns</p>\n",
              "</div>"
            ],
            "text/plain": [
              "       customerId  productId  purchase_count\n",
              "0               1      81572               1\n",
              "1               2      81572               3\n",
              "2              29      81065               1\n",
              "3              29      81730               1\n",
              "4              29      83484               1\n",
              "...           ...        ...             ...\n",
              "42212      212890      88947               1\n",
              "42213      212892      87165               1\n",
              "42214      212893     103133               1\n",
              "42215      212897      97411               1\n",
              "42216      212903      94775               1\n",
              "\n",
              "[42217 rows x 3 columns]"
            ]
          },
          "metadata": {
            "tags": []
          },
          "execution_count": 4
        }
      ]
    },
    {
      "cell_type": "code",
      "metadata": {
        "colab": {
          "base_uri": "https://localhost:8080/",
          "height": 406
        },
        "id": "Dmdeq9oQNyLS",
        "outputId": "5f54857d-48ee-4414-be76-b529ea0b66e1"
      },
      "source": [
        "data2"
      ],
      "execution_count": 5,
      "outputs": [
        {
          "output_type": "execute_result",
          "data": {
            "text/html": [
              "<div>\n",
              "<style scoped>\n",
              "    .dataframe tbody tr th:only-of-type {\n",
              "        vertical-align: middle;\n",
              "    }\n",
              "\n",
              "    .dataframe tbody tr th {\n",
              "        vertical-align: top;\n",
              "    }\n",
              "\n",
              "    .dataframe thead th {\n",
              "        text-align: right;\n",
              "    }\n",
              "</style>\n",
              "<table border=\"1\" class=\"dataframe\">\n",
              "  <thead>\n",
              "    <tr style=\"text-align: right;\">\n",
              "      <th></th>\n",
              "      <th>customerId</th>\n",
              "      <th>productId</th>\n",
              "      <th>purchase_count</th>\n",
              "    </tr>\n",
              "  </thead>\n",
              "  <tbody>\n",
              "    <tr>\n",
              "      <th>0</th>\n",
              "      <td>254</td>\n",
              "      <td>0</td>\n",
              "      <td>0</td>\n",
              "    </tr>\n",
              "    <tr>\n",
              "      <th>1</th>\n",
              "      <td>3372</td>\n",
              "      <td>0</td>\n",
              "      <td>0</td>\n",
              "    </tr>\n",
              "    <tr>\n",
              "      <th>2</th>\n",
              "      <td>203854</td>\n",
              "      <td>0</td>\n",
              "      <td>0</td>\n",
              "    </tr>\n",
              "    <tr>\n",
              "      <th>3</th>\n",
              "      <td>203998</td>\n",
              "      <td>0</td>\n",
              "      <td>0</td>\n",
              "    </tr>\n",
              "    <tr>\n",
              "      <th>4</th>\n",
              "      <td>203999</td>\n",
              "      <td>0</td>\n",
              "      <td>0</td>\n",
              "    </tr>\n",
              "    <tr>\n",
              "      <th>...</th>\n",
              "      <td>...</td>\n",
              "      <td>...</td>\n",
              "      <td>...</td>\n",
              "    </tr>\n",
              "    <tr>\n",
              "      <th>192722</th>\n",
              "      <td>105331</td>\n",
              "      <td>0</td>\n",
              "      <td>0</td>\n",
              "    </tr>\n",
              "    <tr>\n",
              "      <th>192723</th>\n",
              "      <td>174220</td>\n",
              "      <td>0</td>\n",
              "      <td>0</td>\n",
              "    </tr>\n",
              "    <tr>\n",
              "      <th>192724</th>\n",
              "      <td>164968</td>\n",
              "      <td>0</td>\n",
              "      <td>0</td>\n",
              "    </tr>\n",
              "    <tr>\n",
              "      <th>192725</th>\n",
              "      <td>162245</td>\n",
              "      <td>0</td>\n",
              "      <td>0</td>\n",
              "    </tr>\n",
              "    <tr>\n",
              "      <th>192726</th>\n",
              "      <td>1298</td>\n",
              "      <td>0</td>\n",
              "      <td>0</td>\n",
              "    </tr>\n",
              "  </tbody>\n",
              "</table>\n",
              "<p>192727 rows × 3 columns</p>\n",
              "</div>"
            ],
            "text/plain": [
              "        customerId  productId  purchase_count\n",
              "0              254          0               0\n",
              "1             3372          0               0\n",
              "2           203854          0               0\n",
              "3           203998          0               0\n",
              "4           203999          0               0\n",
              "...            ...        ...             ...\n",
              "192722      105331          0               0\n",
              "192723      174220          0               0\n",
              "192724      164968          0               0\n",
              "192725      162245          0               0\n",
              "192726        1298          0               0\n",
              "\n",
              "[192727 rows x 3 columns]"
            ]
          },
          "metadata": {
            "tags": []
          },
          "execution_count": 5
        }
      ]
    },
    {
      "cell_type": "code",
      "metadata": {
        "colab": {
          "base_uri": "https://localhost:8080/",
          "height": 353
        },
        "id": "nkRM7vzn1hhm",
        "outputId": "f24a7fc6-0928-4282-9217-4f390b3798a6"
      },
      "source": [
        "sns.countplot(data['purchase_count'])\n",
        "plt.xlim(0,3)"
      ],
      "execution_count": 6,
      "outputs": [
        {
          "output_type": "stream",
          "text": [
            "/usr/local/lib/python3.7/dist-packages/seaborn/_decorators.py:43: FutureWarning: Pass the following variable as a keyword arg: x. From version 0.12, the only valid positional argument will be `data`, and passing other arguments without an explicit keyword will result in an error or misinterpretation.\n",
            "  FutureWarning\n"
          ],
          "name": "stderr"
        },
        {
          "output_type": "execute_result",
          "data": {
            "text/plain": [
              "(0.0, 3.0)"
            ]
          },
          "metadata": {
            "tags": []
          },
          "execution_count": 6
        },
        {
          "output_type": "display_data",
          "data": {
            "image/png": "[encoded data removed]",
            "text/plain": [
              "<Figure size 432x288 with 1 Axes>"
            ]
          },
          "metadata": {
            "tags": [],
            "needs_background": "light"
          }
        }
      ]
    },
    {
      "cell_type": "markdown",
      "metadata": {
        "id": "eeLAtxO_1hho"
      },
      "source": [
        "4. Divida o conjunto de dados em treino e teste\n",
        "* Dividir os dados em conjuntos de treinamento e teste é uma parte importante da avaliação da modelagem preditiva, neste caso, um modelo de filtragem colaborativa. Normalmente, usamos uma parte maior dos dados para treinamento e uma parte menor para teste.\n",
        "* Usamos a proporção 80:20 para o tamanho do nosso conjunto de treino e teste.\n",
        "* Nossa parte de treinamento será usada para desenvolver um modelo preditivo, enquanto a outra para avaliar o desempenho do modelo.\n"
      ]
    },
    {
      "cell_type": "code",
      "metadata": {
        "colab": {
          "base_uri": "https://localhost:8080/"
        },
        "id": "g1XC1nkx1hho",
        "outputId": "21960a1a-2745-4830-ea56-29cd3e6147c2"
      },
      "source": [
        "train, test = train_test_split(data, test_size = .2)\n",
        "print(train.shape, test.shape)"
      ],
      "execution_count": 7,
      "outputs": [
        {
          "output_type": "stream",
          "text": [
            "(33773, 3) (8444, 3)\n"
          ],
          "name": "stdout"
        }
      ]
    },
    {
      "cell_type": "markdown",
      "metadata": {
        "id": "G82W5TUCJraG"
      },
      "source": [
        "##Os dados serão convertidos no formato SFrame, que é o formato utilizado pela biblioteca TuriCreate"
      ]
    },
    {
      "cell_type": "code",
      "metadata": {
        "colab": {
          "base_uri": "https://localhost:8080/"
        },
        "id": "VzIHdMfjS4Ji",
        "outputId": "92b2a482-2ce4-4016-9278-34d2e4010c2e"
      },
      "source": [
        "train.dtypes"
      ],
      "execution_count": 8,
      "outputs": [
        {
          "output_type": "execute_result",
          "data": {
            "text/plain": [
              "customerId        int64\n",
              "productId         int64\n",
              "purchase_count    int64\n",
              "dtype: object"
            ]
          },
          "metadata": {
            "tags": []
          },
          "execution_count": 8
        }
      ]
    },
    {
      "cell_type": "markdown",
      "metadata": {
        "id": "FgItO_ybJjiI"
      },
      "source": [
        ""
      ]
    },
    {
      "cell_type": "code",
      "metadata": {
        "collapsed": true,
        "id": "VE5kNGUF1hhp"
      },
      "source": [
        "\n",
        "\n",
        "train_data = tc.SFrame(train)\n",
        "test_data = tc.SFrame(test)"
      ],
      "execution_count": 9,
      "outputs": []
    },
    {
      "cell_type": "code",
      "metadata": {
        "colab": {
          "base_uri": "https://localhost:8080/",
          "height": 252
        },
        "id": "wvIAJQ-u1hhp",
        "outputId": "3fea66ec-541a-45a6-80a9-6dbca116b800"
      },
      "source": [
        "train_data"
      ],
      "execution_count": 10,
      "outputs": [
        {
          "output_type": "execute_result",
          "data": {
            "text/html": [
              "<div style=\"max-height:1000px;max-width:1500px;overflow:auto;\"><table frame=\"box\" rules=\"cols\">\n",
              "    <tr>\n",
              "        <th style=\"padding-left: 1em; padding-right: 1em; text-align: center\">customerId</th>\n",
              "        <th style=\"padding-left: 1em; padding-right: 1em; text-align: center\">productId</th>\n",
              "        <th style=\"padding-left: 1em; padding-right: 1em; text-align: center\">purchase_count</th>\n",
              "    </tr>\n",
              "    <tr>\n",
              "        <td style=\"padding-left: 1em; padding-right: 1em; text-align: center; vertical-align: top\">204212</td>\n",
              "        <td style=\"padding-left: 1em; padding-right: 1em; text-align: center; vertical-align: top\">76319</td>\n",
              "        <td style=\"padding-left: 1em; padding-right: 1em; text-align: center; vertical-align: top\">1</td>\n",
              "    </tr>\n",
              "    <tr>\n",
              "        <td style=\"padding-left: 1em; padding-right: 1em; text-align: center; vertical-align: top\">209147</td>\n",
              "        <td style=\"padding-left: 1em; padding-right: 1em; text-align: center; vertical-align: top\">75694</td>\n",
              "        <td style=\"padding-left: 1em; padding-right: 1em; text-align: center; vertical-align: top\">2</td>\n",
              "    </tr>\n",
              "    <tr>\n",
              "        <td style=\"padding-left: 1em; padding-right: 1em; text-align: center; vertical-align: top\">208147</td>\n",
              "        <td style=\"padding-left: 1em; padding-right: 1em; text-align: center; vertical-align: top\">99845</td>\n",
              "        <td style=\"padding-left: 1em; padding-right: 1em; text-align: center; vertical-align: top\">1</td>\n",
              "    </tr>\n",
              "    <tr>\n",
              "        <td style=\"padding-left: 1em; padding-right: 1em; text-align: center; vertical-align: top\">212271</td>\n",
              "        <td style=\"padding-left: 1em; padding-right: 1em; text-align: center; vertical-align: top\">97535</td>\n",
              "        <td style=\"padding-left: 1em; padding-right: 1em; text-align: center; vertical-align: top\">2</td>\n",
              "    </tr>\n",
              "    <tr>\n",
              "        <td style=\"padding-left: 1em; padding-right: 1em; text-align: center; vertical-align: top\">3111</td>\n",
              "        <td style=\"padding-left: 1em; padding-right: 1em; text-align: center; vertical-align: top\">65284</td>\n",
              "        <td style=\"padding-left: 1em; padding-right: 1em; text-align: center; vertical-align: top\">1</td>\n",
              "    </tr>\n",
              "    <tr>\n",
              "        <td style=\"padding-left: 1em; padding-right: 1em; text-align: center; vertical-align: top\">859</td>\n",
              "        <td style=\"padding-left: 1em; padding-right: 1em; text-align: center; vertical-align: top\">87673</td>\n",
              "        <td style=\"padding-left: 1em; padding-right: 1em; text-align: center; vertical-align: top\">1</td>\n",
              "    </tr>\n",
              "    <tr>\n",
              "        <td style=\"padding-left: 1em; padding-right: 1em; text-align: center; vertical-align: top\">207496</td>\n",
              "        <td style=\"padding-left: 1em; padding-right: 1em; text-align: center; vertical-align: top\">81368</td>\n",
              "        <td style=\"padding-left: 1em; padding-right: 1em; text-align: center; vertical-align: top\">1</td>\n",
              "    </tr>\n",
              "    <tr>\n",
              "        <td style=\"padding-left: 1em; padding-right: 1em; text-align: center; vertical-align: top\">4829</td>\n",
              "        <td style=\"padding-left: 1em; padding-right: 1em; text-align: center; vertical-align: top\">81289</td>\n",
              "        <td style=\"padding-left: 1em; padding-right: 1em; text-align: center; vertical-align: top\">2</td>\n",
              "    </tr>\n",
              "    <tr>\n",
              "        <td style=\"padding-left: 1em; padding-right: 1em; text-align: center; vertical-align: top\">100906</td>\n",
              "        <td style=\"padding-left: 1em; padding-right: 1em; text-align: center; vertical-align: top\">81572</td>\n",
              "        <td style=\"padding-left: 1em; padding-right: 1em; text-align: center; vertical-align: top\">1</td>\n",
              "    </tr>\n",
              "    <tr>\n",
              "        <td style=\"padding-left: 1em; padding-right: 1em; text-align: center; vertical-align: top\">209365</td>\n",
              "        <td style=\"padding-left: 1em; padding-right: 1em; text-align: center; vertical-align: top\">87965</td>\n",
              "        <td style=\"padding-left: 1em; padding-right: 1em; text-align: center; vertical-align: top\">1</td>\n",
              "    </tr>\n",
              "</table>\n",
              "[33773 rows x 3 columns]<br/>Note: Only the head of the SFrame is printed.<br/>You can use print_rows(num_rows=m, num_columns=n) to print more rows and columns.\n",
              "</div>"
            ],
            "text/plain": [
              "Columns:\n",
              "\tcustomerId\tint\n",
              "\tproductId\tint\n",
              "\tpurchase_count\tint\n",
              "\n",
              "Rows: 33773\n",
              "\n",
              "Data:\n",
              "+------------+-----------+----------------+\n",
              "| customerId | productId | purchase_count |\n",
              "+------------+-----------+----------------+\n",
              "|   204212   |   76319   |       1        |\n",
              "|   209147   |   75694   |       2        |\n",
              "|   208147   |   99845   |       1        |\n",
              "|   212271   |   97535   |       2        |\n",
              "|    3111    |   65284   |       1        |\n",
              "|    859     |   87673   |       1        |\n",
              "|   207496   |   81368   |       1        |\n",
              "|    4829    |   81289   |       2        |\n",
              "|   100906   |   81572   |       1        |\n",
              "|   209365   |   87965   |       1        |\n",
              "+------------+-----------+----------------+\n",
              "[33773 rows x 3 columns]\n",
              "Note: Only the head of the SFrame is printed.\n",
              "You can use print_rows(num_rows=m, num_columns=n) to print more rows and columns."
            ]
          },
          "metadata": {
            "tags": []
          },
          "execution_count": 10
        }
      ]
    },
    {
      "cell_type": "code",
      "metadata": {
        "colab": {
          "base_uri": "https://localhost:8080/",
          "height": 252
        },
        "id": "m1MvxzgH1hhp",
        "outputId": "e98c5392-d2c0-4426-8bef-bffeb4038ec8"
      },
      "source": [
        "test_data"
      ],
      "execution_count": 11,
      "outputs": [
        {
          "output_type": "execute_result",
          "data": {
            "text/html": [
              "<div style=\"max-height:1000px;max-width:1500px;overflow:auto;\"><table frame=\"box\" rules=\"cols\">\n",
              "    <tr>\n",
              "        <th style=\"padding-left: 1em; padding-right: 1em; text-align: center\">customerId</th>\n",
              "        <th style=\"padding-left: 1em; padding-right: 1em; text-align: center\">productId</th>\n",
              "        <th style=\"padding-left: 1em; padding-right: 1em; text-align: center\">purchase_count</th>\n",
              "    </tr>\n",
              "    <tr>\n",
              "        <td style=\"padding-left: 1em; padding-right: 1em; text-align: center; vertical-align: top\">2364</td>\n",
              "        <td style=\"padding-left: 1em; padding-right: 1em; text-align: center; vertical-align: top\">88757</td>\n",
              "        <td style=\"padding-left: 1em; padding-right: 1em; text-align: center; vertical-align: top\">1</td>\n",
              "    </tr>\n",
              "    <tr>\n",
              "        <td style=\"padding-left: 1em; padding-right: 1em; text-align: center; vertical-align: top\">180569</td>\n",
              "        <td style=\"padding-left: 1em; padding-right: 1em; text-align: center; vertical-align: top\">94825</td>\n",
              "        <td style=\"padding-left: 1em; padding-right: 1em; text-align: center; vertical-align: top\">1</td>\n",
              "    </tr>\n",
              "    <tr>\n",
              "        <td style=\"padding-left: 1em; padding-right: 1em; text-align: center; vertical-align: top\">5219</td>\n",
              "        <td style=\"padding-left: 1em; padding-right: 1em; text-align: center; vertical-align: top\">79781</td>\n",
              "        <td style=\"padding-left: 1em; padding-right: 1em; text-align: center; vertical-align: top\">1</td>\n",
              "    </tr>\n",
              "    <tr>\n",
              "        <td style=\"padding-left: 1em; padding-right: 1em; text-align: center; vertical-align: top\">208494</td>\n",
              "        <td style=\"padding-left: 1em; padding-right: 1em; text-align: center; vertical-align: top\">58398</td>\n",
              "        <td style=\"padding-left: 1em; padding-right: 1em; text-align: center; vertical-align: top\">1</td>\n",
              "    </tr>\n",
              "    <tr>\n",
              "        <td style=\"padding-left: 1em; padding-right: 1em; text-align: center; vertical-align: top\">211991</td>\n",
              "        <td style=\"padding-left: 1em; padding-right: 1em; text-align: center; vertical-align: top\">42693</td>\n",
              "        <td style=\"padding-left: 1em; padding-right: 1em; text-align: center; vertical-align: top\">2</td>\n",
              "    </tr>\n",
              "    <tr>\n",
              "        <td style=\"padding-left: 1em; padding-right: 1em; text-align: center; vertical-align: top\">208986</td>\n",
              "        <td style=\"padding-left: 1em; padding-right: 1em; text-align: center; vertical-align: top\">59758</td>\n",
              "        <td style=\"padding-left: 1em; padding-right: 1em; text-align: center; vertical-align: top\">1</td>\n",
              "    </tr>\n",
              "    <tr>\n",
              "        <td style=\"padding-left: 1em; padding-right: 1em; text-align: center; vertical-align: top\">158161</td>\n",
              "        <td style=\"padding-left: 1em; padding-right: 1em; text-align: center; vertical-align: top\">83761</td>\n",
              "        <td style=\"padding-left: 1em; padding-right: 1em; text-align: center; vertical-align: top\">1</td>\n",
              "    </tr>\n",
              "    <tr>\n",
              "        <td style=\"padding-left: 1em; padding-right: 1em; text-align: center; vertical-align: top\">206610</td>\n",
              "        <td style=\"padding-left: 1em; padding-right: 1em; text-align: center; vertical-align: top\">84758</td>\n",
              "        <td style=\"padding-left: 1em; padding-right: 1em; text-align: center; vertical-align: top\">1</td>\n",
              "    </tr>\n",
              "    <tr>\n",
              "        <td style=\"padding-left: 1em; padding-right: 1em; text-align: center; vertical-align: top\">211533</td>\n",
              "        <td style=\"padding-left: 1em; padding-right: 1em; text-align: center; vertical-align: top\">64430</td>\n",
              "        <td style=\"padding-left: 1em; padding-right: 1em; text-align: center; vertical-align: top\">1</td>\n",
              "    </tr>\n",
              "    <tr>\n",
              "        <td style=\"padding-left: 1em; padding-right: 1em; text-align: center; vertical-align: top\">903</td>\n",
              "        <td style=\"padding-left: 1em; padding-right: 1em; text-align: center; vertical-align: top\">87662</td>\n",
              "        <td style=\"padding-left: 1em; padding-right: 1em; text-align: center; vertical-align: top\">1</td>\n",
              "    </tr>\n",
              "</table>\n",
              "[8444 rows x 3 columns]<br/>Note: Only the head of the SFrame is printed.<br/>You can use print_rows(num_rows=m, num_columns=n) to print more rows and columns.\n",
              "</div>"
            ],
            "text/plain": [
              "Columns:\n",
              "\tcustomerId\tint\n",
              "\tproductId\tint\n",
              "\tpurchase_count\tint\n",
              "\n",
              "Rows: 8444\n",
              "\n",
              "Data:\n",
              "+------------+-----------+----------------+\n",
              "| customerId | productId | purchase_count |\n",
              "+------------+-----------+----------------+\n",
              "|    2364    |   88757   |       1        |\n",
              "|   180569   |   94825   |       1        |\n",
              "|    5219    |   79781   |       1        |\n",
              "|   208494   |   58398   |       1        |\n",
              "|   211991   |   42693   |       2        |\n",
              "|   208986   |   59758   |       1        |\n",
              "|   158161   |   83761   |       1        |\n",
              "|   206610   |   84758   |       1        |\n",
              "|   211533   |   64430   |       1        |\n",
              "|    903     |   87662   |       1        |\n",
              "+------------+-----------+----------------+\n",
              "[8444 rows x 3 columns]\n",
              "Note: Only the head of the SFrame is printed.\n",
              "You can use print_rows(num_rows=m, num_columns=n) to print more rows and columns."
            ]
          },
          "metadata": {
            "tags": []
          },
          "execution_count": 11
        }
      ]
    },
    {
      "cell_type": "markdown",
      "metadata": {
        "collapsed": false,
        "id": "REpMuP101hhq"
      },
      "source": [
        "##Modelo Popularidade - Dados Mais vendidos por todos clientes\n",
        "O modelo de popularidade usa os itens mais populares para recomendação. Esses itens são produtos com o maior número de vendas entre os clientes.\n",
        "\n"
      ]
    },
    {
      "cell_type": "code",
      "metadata": {
        "collapsed": true,
        "id": "KnMSaFmp1hhq"
      },
      "source": [
        "# variables to define field names\n",
        "user_id = 'customerId'\n",
        "item_id = 'productId'\n",
        "target = 'purchase_count'\n",
        "#users_to_recommend = list(userId)\n",
        "n_rec = 10 # number of items to recommend\n",
        "n_display = 30"
      ],
      "execution_count": 12,
      "outputs": []
    },
    {
      "cell_type": "code",
      "metadata": {
        "colab": {
          "base_uri": "https://localhost:8080/",
          "height": 83
        },
        "id": "gpU7KiZt1hhq",
        "outputId": "274a0b71-b909-4713-d8e5-d492f786ec8a"
      },
      "source": [
        "pop = tc.popularity_recommender.create(train_data, \n",
        "                                                    user_id=user_id, \n",
        "                                                    item_id=item_id, \n",
        "                                                    target=target)"
      ],
      "execution_count": 13,
      "outputs": [
        {
          "output_type": "display_data",
          "data": {
            "text/html": [
              "<pre>Preparing data set.</pre>"
            ],
            "text/plain": [
              "Preparing data set."
            ]
          },
          "metadata": {
            "tags": []
          }
        },
        {
          "output_type": "display_data",
          "data": {
            "text/html": [
              "<pre>    Data has 33773 observations with 17959 users and 9932 items.</pre>"
            ],
            "text/plain": [
              "    Data has 33773 observations with 17959 users and 9932 items."
            ]
          },
          "metadata": {
            "tags": []
          }
        },
        {
          "output_type": "display_data",
          "data": {
            "text/html": [
              "<pre>    Data prepared in: 0.084508s</pre>"
            ],
            "text/plain": [
              "    Data prepared in: 0.084508s"
            ]
          },
          "metadata": {
            "tags": []
          }
        },
        {
          "output_type": "display_data",
          "data": {
            "text/html": [
              "<pre>33773 observations to process; with 9932 unique items.</pre>"
            ],
            "text/plain": [
              "33773 observations to process; with 9932 unique items."
            ]
          },
          "metadata": {
            "tags": []
          }
        }
      ]
    },
    {
      "cell_type": "markdown",
      "metadata": {
        "id": "mwA0lLs0K1pF"
      },
      "source": [
        "##Obtemos abaixo a recomendação para os clientes sendo 30 linhas principais / principais para os 3 primeiros clientes com 10 recomendações cada"
      ]
    },
    {
      "cell_type": "code",
      "metadata": {
        "colab": {
          "base_uri": "https://localhost:8080/",
          "height": 1000
        },
        "id": "1TIs9_ik1hhr",
        "outputId": "0c9a422b-02ce-4de0-f5ca-2446586998c0"
      },
      "source": [
        "\n",
        "\n",
        "popularity_recomm = pop.recommend(users=users_to_recommend_pop, k=n_rec)\n",
        "popularity_recomm.print_rows(n_display)"
      ],
      "execution_count": 14,
      "outputs": [
        {
          "output_type": "display_data",
          "data": {
            "text/html": [
              "<pre>recommendations finished on 1000/192727 queries. users per second: 10508.7</pre>"
            ],
            "text/plain": [
              "recommendations finished on 1000/192727 queries. users per second: 10508.7"
            ]
          },
          "metadata": {
            "tags": []
          }
        },
        {
          "output_type": "display_data",
          "data": {
            "text/html": [
              "<pre>recommendations finished on 2000/192727 queries. users per second: 11207.5</pre>"
            ],
            "text/plain": [
              "recommendations finished on 2000/192727 queries. users per second: 11207.5"
            ]
          },
          "metadata": {
            "tags": []
          }
        },
        {
          "output_type": "display_data",
          "data": {
            "text/html": [
              "<pre>recommendations finished on 3000/192727 queries. users per second: 11047.4</pre>"
            ],
            "text/plain": [
              "recommendations finished on 3000/192727 queries. users per second: 11047.4"
            ]
          },
          "metadata": {
            "tags": []
          }
        },
        {
          "output_type": "display_data",
          "data": {
            "text/html": [
              "<pre>recommendations finished on 4000/192727 queries. users per second: 10885.7</pre>"
            ],
            "text/plain": [
              "recommendations finished on 4000/192727 queries. users per second: 10885.7"
            ]
          },
          "metadata": {
            "tags": []
          }
        },
        {
          "output_type": "display_data",
          "data": {
            "text/html": [
              "<pre>recommendations finished on 5000/192727 queries. users per second: 10921.7</pre>"
            ],
            "text/plain": [
              "recommendations finished on 5000/192727 queries. users per second: 10921.7"
            ]
          },
          "metadata": {
            "tags": []
          }
        },
        {
          "output_type": "display_data",
          "data": {
            "text/html": [
              "<pre>recommendations finished on 6000/192727 queries. users per second: 10868.6</pre>"
            ],
            "text/plain": [
              "recommendations finished on 6000/192727 queries. users per second: 10868.6"
            ]
          },
          "metadata": {
            "tags": []
          }
        },
        {
          "output_type": "display_data",
          "data": {
            "text/html": [
              "<pre>recommendations finished on 7000/192727 queries. users per second: 10986.7</pre>"
            ],
            "text/plain": [
              "recommendations finished on 7000/192727 queries. users per second: 10986.7"
            ]
          },
          "metadata": {
            "tags": []
          }
        },
        {
          "output_type": "display_data",
          "data": {
            "text/html": [
              "<pre>recommendations finished on 8000/192727 queries. users per second: 10982.7</pre>"
            ],
            "text/plain": [
              "recommendations finished on 8000/192727 queries. users per second: 10982.7"
            ]
          },
          "metadata": {
            "tags": []
          }
        },
        {
          "output_type": "display_data",
          "data": {
            "text/html": [
              "<pre>recommendations finished on 9000/192727 queries. users per second: 11088.8</pre>"
            ],
            "text/plain": [
              "recommendations finished on 9000/192727 queries. users per second: 11088.8"
            ]
          },
          "metadata": {
            "tags": []
          }
        },
        {
          "output_type": "display_data",
          "data": {
            "text/html": [
              "<pre>recommendations finished on 10000/192727 queries. users per second: 11094.5</pre>"
            ],
            "text/plain": [
              "recommendations finished on 10000/192727 queries. users per second: 11094.5"
            ]
          },
          "metadata": {
            "tags": []
          }
        },
        {
          "output_type": "display_data",
          "data": {
            "text/html": [
              "<pre>recommendations finished on 11000/192727 queries. users per second: 11162.3</pre>"
            ],
            "text/plain": [
              "recommendations finished on 11000/192727 queries. users per second: 11162.3"
            ]
          },
          "metadata": {
            "tags": []
          }
        },
        {
          "output_type": "display_data",
          "data": {
            "text/html": [
              "<pre>recommendations finished on 12000/192727 queries. users per second: 10730.1</pre>"
            ],
            "text/plain": [
              "recommendations finished on 12000/192727 queries. users per second: 10730.1"
            ]
          },
          "metadata": {
            "tags": []
          }
        },
        {
          "output_type": "display_data",
          "data": {
            "text/html": [
              "<pre>recommendations finished on 13000/192727 queries. users per second: 10371.3</pre>"
            ],
            "text/plain": [
              "recommendations finished on 13000/192727 queries. users per second: 10371.3"
            ]
          },
          "metadata": {
            "tags": []
          }
        },
        {
          "output_type": "display_data",
          "data": {
            "text/html": [
              "<pre>recommendations finished on 14000/192727 queries. users per second: 10119.6</pre>"
            ],
            "text/plain": [
              "recommendations finished on 14000/192727 queries. users per second: 10119.6"
            ]
          },
          "metadata": {
            "tags": []
          }
        },
        {
          "output_type": "display_data",
          "data": {
            "text/html": [
              "<pre>recommendations finished on 15000/192727 queries. users per second: 9940.48</pre>"
            ],
            "text/plain": [
              "recommendations finished on 15000/192727 queries. users per second: 9940.48"
            ]
          },
          "metadata": {
            "tags": []
          }
        },
        {
          "output_type": "display_data",
          "data": {
            "text/html": [
              "<pre>recommendations finished on 16000/192727 queries. users per second: 9645.91</pre>"
            ],
            "text/plain": [
              "recommendations finished on 16000/192727 queries. users per second: 9645.91"
            ]
          },
          "metadata": {
            "tags": []
          }
        },
        {
          "output_type": "display_data",
          "data": {
            "text/html": [
              "<pre>recommendations finished on 17000/192727 queries. users per second: 9538.2</pre>"
            ],
            "text/plain": [
              "recommendations finished on 17000/192727 queries. users per second: 9538.2"
            ]
          },
          "metadata": {
            "tags": []
          }
        },
        {
          "output_type": "display_data",
          "data": {
            "text/html": [
              "<pre>recommendations finished on 18000/192727 queries. users per second: 9515.01</pre>"
            ],
            "text/plain": [
              "recommendations finished on 18000/192727 queries. users per second: 9515.01"
            ]
          },
          "metadata": {
            "tags": []
          }
        },
        {
          "output_type": "display_data",
          "data": {
            "text/html": [
              "<pre>recommendations finished on 19000/192727 queries. users per second: 9537.4</pre>"
            ],
            "text/plain": [
              "recommendations finished on 19000/192727 queries. users per second: 9537.4"
            ]
          },
          "metadata": {
            "tags": []
          }
        },
        {
          "output_type": "display_data",
          "data": {
            "text/html": [
              "<pre>recommendations finished on 20000/192727 queries. users per second: 9503.84</pre>"
            ],
            "text/plain": [
              "recommendations finished on 20000/192727 queries. users per second: 9503.84"
            ]
          },
          "metadata": {
            "tags": []
          }
        },
        {
          "output_type": "display_data",
          "data": {
            "text/html": [
              "<pre>recommendations finished on 21000/192727 queries. users per second: 9494.34</pre>"
            ],
            "text/plain": [
              "recommendations finished on 21000/192727 queries. users per second: 9494.34"
            ]
          },
          "metadata": {
            "tags": []
          }
        },
        {
          "output_type": "display_data",
          "data": {
            "text/html": [
              "<pre>recommendations finished on 22000/192727 queries. users per second: 9381.48</pre>"
            ],
            "text/plain": [
              "recommendations finished on 22000/192727 queries. users per second: 9381.48"
            ]
          },
          "metadata": {
            "tags": []
          }
        },
        {
          "output_type": "display_data",
          "data": {
            "text/html": [
              "<pre>recommendations finished on 23000/192727 queries. users per second: 9323.16</pre>"
            ],
            "text/plain": [
              "recommendations finished on 23000/192727 queries. users per second: 9323.16"
            ]
          },
          "metadata": {
            "tags": []
          }
        },
        {
          "output_type": "display_data",
          "data": {
            "text/html": [
              "<pre>recommendations finished on 24000/192727 queries. users per second: 9363.39</pre>"
            ],
            "text/plain": [
              "recommendations finished on 24000/192727 queries. users per second: 9363.39"
            ]
          },
          "metadata": {
            "tags": []
          }
        },
        {
          "output_type": "display_data",
          "data": {
            "text/html": [
              "<pre>recommendations finished on 25000/192727 queries. users per second: 9397.65</pre>"
            ],
            "text/plain": [
              "recommendations finished on 25000/192727 queries. users per second: 9397.65"
            ]
          },
          "metadata": {
            "tags": []
          }
        },
        {
          "output_type": "display_data",
          "data": {
            "text/html": [
              "<pre>recommendations finished on 26000/192727 queries. users per second: 9450.59</pre>"
            ],
            "text/plain": [
              "recommendations finished on 26000/192727 queries. users per second: 9450.59"
            ]
          },
          "metadata": {
            "tags": []
          }
        },
        {
          "output_type": "display_data",
          "data": {
            "text/html": [
              "<pre>recommendations finished on 27000/192727 queries. users per second: 9414.51</pre>"
            ],
            "text/plain": [
              "recommendations finished on 27000/192727 queries. users per second: 9414.51"
            ]
          },
          "metadata": {
            "tags": []
          }
        },
        {
          "output_type": "display_data",
          "data": {
            "text/html": [
              "<pre>recommendations finished on 28000/192727 queries. users per second: 9433.42</pre>"
            ],
            "text/plain": [
              "recommendations finished on 28000/192727 queries. users per second: 9433.42"
            ]
          },
          "metadata": {
            "tags": []
          }
        },
        {
          "output_type": "display_data",
          "data": {
            "text/html": [
              "<pre>recommendations finished on 29000/192727 queries. users per second: 9454.08</pre>"
            ],
            "text/plain": [
              "recommendations finished on 29000/192727 queries. users per second: 9454.08"
            ]
          },
          "metadata": {
            "tags": []
          }
        },
        {
          "output_type": "display_data",
          "data": {
            "text/html": [
              "<pre>recommendations finished on 30000/192727 queries. users per second: 9456.86</pre>"
            ],
            "text/plain": [
              "recommendations finished on 30000/192727 queries. users per second: 9456.86"
            ]
          },
          "metadata": {
            "tags": []
          }
        },
        {
          "output_type": "display_data",
          "data": {
            "text/html": [
              "<pre>recommendations finished on 31000/192727 queries. users per second: 9485.26</pre>"
            ],
            "text/plain": [
              "recommendations finished on 31000/192727 queries. users per second: 9485.26"
            ]
          },
          "metadata": {
            "tags": []
          }
        },
        {
          "output_type": "display_data",
          "data": {
            "text/html": [
              "<pre>recommendations finished on 32000/192727 queries. users per second: 9397.28</pre>"
            ],
            "text/plain": [
              "recommendations finished on 32000/192727 queries. users per second: 9397.28"
            ]
          },
          "metadata": {
            "tags": []
          }
        },
        {
          "output_type": "display_data",
          "data": {
            "text/html": [
              "<pre>recommendations finished on 33000/192727 queries. users per second: 9350.53</pre>"
            ],
            "text/plain": [
              "recommendations finished on 33000/192727 queries. users per second: 9350.53"
            ]
          },
          "metadata": {
            "tags": []
          }
        },
        {
          "output_type": "display_data",
          "data": {
            "text/html": [
              "<pre>recommendations finished on 34000/192727 queries. users per second: 9344.74</pre>"
            ],
            "text/plain": [
              "recommendations finished on 34000/192727 queries. users per second: 9344.74"
            ]
          },
          "metadata": {
            "tags": []
          }
        },
        {
          "output_type": "display_data",
          "data": {
            "text/html": [
              "<pre>recommendations finished on 35000/192727 queries. users per second: 9367.27</pre>"
            ],
            "text/plain": [
              "recommendations finished on 35000/192727 queries. users per second: 9367.27"
            ]
          },
          "metadata": {
            "tags": []
          }
        },
        {
          "output_type": "display_data",
          "data": {
            "text/html": [
              "<pre>recommendations finished on 36000/192727 queries. users per second: 9397.05</pre>"
            ],
            "text/plain": [
              "recommendations finished on 36000/192727 queries. users per second: 9397.05"
            ]
          },
          "metadata": {
            "tags": []
          }
        },
        {
          "output_type": "display_data",
          "data": {
            "text/html": [
              "<pre>recommendations finished on 37000/192727 queries. users per second: 9414.52</pre>"
            ],
            "text/plain": [
              "recommendations finished on 37000/192727 queries. users per second: 9414.52"
            ]
          },
          "metadata": {
            "tags": []
          }
        },
        {
          "output_type": "display_data",
          "data": {
            "text/html": [
              "<pre>recommendations finished on 38000/192727 queries. users per second: 9348.88</pre>"
            ],
            "text/plain": [
              "recommendations finished on 38000/192727 queries. users per second: 9348.88"
            ]
          },
          "metadata": {
            "tags": []
          }
        },
        {
          "output_type": "display_data",
          "data": {
            "text/html": [
              "<pre>recommendations finished on 39000/192727 queries. users per second: 9284.63</pre>"
            ],
            "text/plain": [
              "recommendations finished on 39000/192727 queries. users per second: 9284.63"
            ]
          },
          "metadata": {
            "tags": []
          }
        },
        {
          "output_type": "display_data",
          "data": {
            "text/html": [
              "<pre>recommendations finished on 40000/192727 queries. users per second: 9284.5</pre>"
            ],
            "text/plain": [
              "recommendations finished on 40000/192727 queries. users per second: 9284.5"
            ]
          },
          "metadata": {
            "tags": []
          }
        },
        {
          "output_type": "display_data",
          "data": {
            "text/html": [
              "<pre>recommendations finished on 41000/192727 queries. users per second: 9293.23</pre>"
            ],
            "text/plain": [
              "recommendations finished on 41000/192727 queries. users per second: 9293.23"
            ]
          },
          "metadata": {
            "tags": []
          }
        },
        {
          "output_type": "display_data",
          "data": {
            "text/html": [
              "<pre>recommendations finished on 42000/192727 queries. users per second: 9324.04</pre>"
            ],
            "text/plain": [
              "recommendations finished on 42000/192727 queries. users per second: 9324.04"
            ]
          },
          "metadata": {
            "tags": []
          }
        },
        {
          "output_type": "display_data",
          "data": {
            "text/html": [
              "<pre>recommendations finished on 43000/192727 queries. users per second: 9255.08</pre>"
            ],
            "text/plain": [
              "recommendations finished on 43000/192727 queries. users per second: 9255.08"
            ]
          },
          "metadata": {
            "tags": []
          }
        },
        {
          "output_type": "display_data",
          "data": {
            "text/html": [
              "<pre>recommendations finished on 44000/192727 queries. users per second: 9197.34</pre>"
            ],
            "text/plain": [
              "recommendations finished on 44000/192727 queries. users per second: 9197.34"
            ]
          },
          "metadata": {
            "tags": []
          }
        },
        {
          "output_type": "display_data",
          "data": {
            "text/html": [
              "<pre>recommendations finished on 45000/192727 queries. users per second: 9187.43</pre>"
            ],
            "text/plain": [
              "recommendations finished on 45000/192727 queries. users per second: 9187.43"
            ]
          },
          "metadata": {
            "tags": []
          }
        },
        {
          "output_type": "display_data",
          "data": {
            "text/html": [
              "<pre>recommendations finished on 46000/192727 queries. users per second: 9202.52</pre>"
            ],
            "text/plain": [
              "recommendations finished on 46000/192727 queries. users per second: 9202.52"
            ]
          },
          "metadata": {
            "tags": []
          }
        },
        {
          "output_type": "display_data",
          "data": {
            "text/html": [
              "<pre>recommendations finished on 47000/192727 queries. users per second: 9221.21</pre>"
            ],
            "text/plain": [
              "recommendations finished on 47000/192727 queries. users per second: 9221.21"
            ]
          },
          "metadata": {
            "tags": []
          }
        },
        {
          "output_type": "display_data",
          "data": {
            "text/html": [
              "<pre>recommendations finished on 48000/192727 queries. users per second: 9236.32</pre>"
            ],
            "text/plain": [
              "recommendations finished on 48000/192727 queries. users per second: 9236.32"
            ]
          },
          "metadata": {
            "tags": []
          }
        },
        {
          "output_type": "display_data",
          "data": {
            "text/html": [
              "<pre>recommendations finished on 49000/192727 queries. users per second: 9240.46</pre>"
            ],
            "text/plain": [
              "recommendations finished on 49000/192727 queries. users per second: 9240.46"
            ]
          },
          "metadata": {
            "tags": []
          }
        },
        {
          "output_type": "display_data",
          "data": {
            "text/html": [
              "<pre>recommendations finished on 50000/192727 queries. users per second: 9255.75</pre>"
            ],
            "text/plain": [
              "recommendations finished on 50000/192727 queries. users per second: 9255.75"
            ]
          },
          "metadata": {
            "tags": []
          }
        },
        {
          "output_type": "display_data",
          "data": {
            "text/html": [
              "<pre>recommendations finished on 51000/192727 queries. users per second: 9273.64</pre>"
            ],
            "text/plain": [
              "recommendations finished on 51000/192727 queries. users per second: 9273.64"
            ]
          },
          "metadata": {
            "tags": []
          }
        },
        {
          "output_type": "display_data",
          "data": {
            "text/html": [
              "<pre>recommendations finished on 52000/192727 queries. users per second: 9291.73</pre>"
            ],
            "text/plain": [
              "recommendations finished on 52000/192727 queries. users per second: 9291.73"
            ]
          },
          "metadata": {
            "tags": []
          }
        },
        {
          "output_type": "display_data",
          "data": {
            "text/html": [
              "<pre>recommendations finished on 53000/192727 queries. users per second: 9201.97</pre>"
            ],
            "text/plain": [
              "recommendations finished on 53000/192727 queries. users per second: 9201.97"
            ]
          },
          "metadata": {
            "tags": []
          }
        },
        {
          "output_type": "display_data",
          "data": {
            "text/html": [
              "<pre>recommendations finished on 54000/192727 queries. users per second: 9154.54</pre>"
            ],
            "text/plain": [
              "recommendations finished on 54000/192727 queries. users per second: 9154.54"
            ]
          },
          "metadata": {
            "tags": []
          }
        },
        {
          "output_type": "display_data",
          "data": {
            "text/html": [
              "<pre>recommendations finished on 55000/192727 queries. users per second: 9120.42</pre>"
            ],
            "text/plain": [
              "recommendations finished on 55000/192727 queries. users per second: 9120.42"
            ]
          },
          "metadata": {
            "tags": []
          }
        },
        {
          "output_type": "display_data",
          "data": {
            "text/html": [
              "<pre>recommendations finished on 56000/192727 queries. users per second: 9128.04</pre>"
            ],
            "text/plain": [
              "recommendations finished on 56000/192727 queries. users per second: 9128.04"
            ]
          },
          "metadata": {
            "tags": []
          }
        },
        {
          "output_type": "display_data",
          "data": {
            "text/html": [
              "<pre>recommendations finished on 57000/192727 queries. users per second: 9142.38</pre>"
            ],
            "text/plain": [
              "recommendations finished on 57000/192727 queries. users per second: 9142.38"
            ]
          },
          "metadata": {
            "tags": []
          }
        },
        {
          "output_type": "display_data",
          "data": {
            "text/html": [
              "<pre>recommendations finished on 58000/192727 queries. users per second: 9143.25</pre>"
            ],
            "text/plain": [
              "recommendations finished on 58000/192727 queries. users per second: 9143.25"
            ]
          },
          "metadata": {
            "tags": []
          }
        },
        {
          "output_type": "display_data",
          "data": {
            "text/html": [
              "<pre>recommendations finished on 59000/192727 queries. users per second: 9153.44</pre>"
            ],
            "text/plain": [
              "recommendations finished on 59000/192727 queries. users per second: 9153.44"
            ]
          },
          "metadata": {
            "tags": []
          }
        },
        {
          "output_type": "display_data",
          "data": {
            "text/html": [
              "<pre>recommendations finished on 60000/192727 queries. users per second: 9165.36</pre>"
            ],
            "text/plain": [
              "recommendations finished on 60000/192727 queries. users per second: 9165.36"
            ]
          },
          "metadata": {
            "tags": []
          }
        },
        {
          "output_type": "display_data",
          "data": {
            "text/html": [
              "<pre>recommendations finished on 61000/192727 queries. users per second: 9185.06</pre>"
            ],
            "text/plain": [
              "recommendations finished on 61000/192727 queries. users per second: 9185.06"
            ]
          },
          "metadata": {
            "tags": []
          }
        },
        {
          "output_type": "display_data",
          "data": {
            "text/html": [
              "<pre>recommendations finished on 62000/192727 queries. users per second: 9210.83</pre>"
            ],
            "text/plain": [
              "recommendations finished on 62000/192727 queries. users per second: 9210.83"
            ]
          },
          "metadata": {
            "tags": []
          }
        },
        {
          "output_type": "display_data",
          "data": {
            "text/html": [
              "<pre>recommendations finished on 63000/192727 queries. users per second: 9231.09</pre>"
            ],
            "text/plain": [
              "recommendations finished on 63000/192727 queries. users per second: 9231.09"
            ]
          },
          "metadata": {
            "tags": []
          }
        },
        {
          "output_type": "display_data",
          "data": {
            "text/html": [
              "<pre>recommendations finished on 64000/192727 queries. users per second: 9223.78</pre>"
            ],
            "text/plain": [
              "recommendations finished on 64000/192727 queries. users per second: 9223.78"
            ]
          },
          "metadata": {
            "tags": []
          }
        },
        {
          "output_type": "display_data",
          "data": {
            "text/html": [
              "<pre>recommendations finished on 65000/192727 queries. users per second: 9143.84</pre>"
            ],
            "text/plain": [
              "recommendations finished on 65000/192727 queries. users per second: 9143.84"
            ]
          },
          "metadata": {
            "tags": []
          }
        },
        {
          "output_type": "display_data",
          "data": {
            "text/html": [
              "<pre>recommendations finished on 66000/192727 queries. users per second: 9111.8</pre>"
            ],
            "text/plain": [
              "recommendations finished on 66000/192727 queries. users per second: 9111.8"
            ]
          },
          "metadata": {
            "tags": []
          }
        },
        {
          "output_type": "display_data",
          "data": {
            "text/html": [
              "<pre>recommendations finished on 67000/192727 queries. users per second: 9086.08</pre>"
            ],
            "text/plain": [
              "recommendations finished on 67000/192727 queries. users per second: 9086.08"
            ]
          },
          "metadata": {
            "tags": []
          }
        },
        {
          "output_type": "display_data",
          "data": {
            "text/html": [
              "<pre>recommendations finished on 68000/192727 queries. users per second: 9094.8</pre>"
            ],
            "text/plain": [
              "recommendations finished on 68000/192727 queries. users per second: 9094.8"
            ]
          },
          "metadata": {
            "tags": []
          }
        },
        {
          "output_type": "display_data",
          "data": {
            "text/html": [
              "<pre>recommendations finished on 69000/192727 queries. users per second: 9112.57</pre>"
            ],
            "text/plain": [
              "recommendations finished on 69000/192727 queries. users per second: 9112.57"
            ]
          },
          "metadata": {
            "tags": []
          }
        },
        {
          "output_type": "display_data",
          "data": {
            "text/html": [
              "<pre>recommendations finished on 70000/192727 queries. users per second: 9134.59</pre>"
            ],
            "text/plain": [
              "recommendations finished on 70000/192727 queries. users per second: 9134.59"
            ]
          },
          "metadata": {
            "tags": []
          }
        },
        {
          "output_type": "display_data",
          "data": {
            "text/html": [
              "<pre>recommendations finished on 71000/192727 queries. users per second: 9141.5</pre>"
            ],
            "text/plain": [
              "recommendations finished on 71000/192727 queries. users per second: 9141.5"
            ]
          },
          "metadata": {
            "tags": []
          }
        },
        {
          "output_type": "display_data",
          "data": {
            "text/html": [
              "<pre>recommendations finished on 72000/192727 queries. users per second: 9161.96</pre>"
            ],
            "text/plain": [
              "recommendations finished on 72000/192727 queries. users per second: 9161.96"
            ]
          },
          "metadata": {
            "tags": []
          }
        },
        {
          "output_type": "display_data",
          "data": {
            "text/html": [
              "<pre>recommendations finished on 73000/192727 queries. users per second: 9175.67</pre>"
            ],
            "text/plain": [
              "recommendations finished on 73000/192727 queries. users per second: 9175.67"
            ]
          },
          "metadata": {
            "tags": []
          }
        },
        {
          "output_type": "display_data",
          "data": {
            "text/html": [
              "<pre>recommendations finished on 74000/192727 queries. users per second: 9195.24</pre>"
            ],
            "text/plain": [
              "recommendations finished on 74000/192727 queries. users per second: 9195.24"
            ]
          },
          "metadata": {
            "tags": []
          }
        },
        {
          "output_type": "display_data",
          "data": {
            "text/html": [
              "<pre>recommendations finished on 75000/192727 queries. users per second: 9183.76</pre>"
            ],
            "text/plain": [
              "recommendations finished on 75000/192727 queries. users per second: 9183.76"
            ]
          },
          "metadata": {
            "tags": []
          }
        },
        {
          "output_type": "display_data",
          "data": {
            "text/html": [
              "<pre>recommendations finished on 76000/192727 queries. users per second: 9175.02</pre>"
            ],
            "text/plain": [
              "recommendations finished on 76000/192727 queries. users per second: 9175.02"
            ]
          },
          "metadata": {
            "tags": []
          }
        },
        {
          "output_type": "display_data",
          "data": {
            "text/html": [
              "<pre>recommendations finished on 77000/192727 queries. users per second: 9164.9</pre>"
            ],
            "text/plain": [
              "recommendations finished on 77000/192727 queries. users per second: 9164.9"
            ]
          },
          "metadata": {
            "tags": []
          }
        },
        {
          "output_type": "display_data",
          "data": {
            "text/html": [
              "<pre>recommendations finished on 78000/192727 queries. users per second: 9158.95</pre>"
            ],
            "text/plain": [
              "recommendations finished on 78000/192727 queries. users per second: 9158.95"
            ]
          },
          "metadata": {
            "tags": []
          }
        },
        {
          "output_type": "display_data",
          "data": {
            "text/html": [
              "<pre>recommendations finished on 79000/192727 queries. users per second: 9109.71</pre>"
            ],
            "text/plain": [
              "recommendations finished on 79000/192727 queries. users per second: 9109.71"
            ]
          },
          "metadata": {
            "tags": []
          }
        },
        {
          "output_type": "display_data",
          "data": {
            "text/html": [
              "<pre>recommendations finished on 80000/192727 queries. users per second: 9085.6</pre>"
            ],
            "text/plain": [
              "recommendations finished on 80000/192727 queries. users per second: 9085.6"
            ]
          },
          "metadata": {
            "tags": []
          }
        },
        {
          "output_type": "display_data",
          "data": {
            "text/html": [
              "<pre>recommendations finished on 81000/192727 queries. users per second: 9093.34</pre>"
            ],
            "text/plain": [
              "recommendations finished on 81000/192727 queries. users per second: 9093.34"
            ]
          },
          "metadata": {
            "tags": []
          }
        },
        {
          "output_type": "display_data",
          "data": {
            "text/html": [
              "<pre>recommendations finished on 82000/192727 queries. users per second: 9114.21</pre>"
            ],
            "text/plain": [
              "recommendations finished on 82000/192727 queries. users per second: 9114.21"
            ]
          },
          "metadata": {
            "tags": []
          }
        },
        {
          "output_type": "display_data",
          "data": {
            "text/html": [
              "<pre>recommendations finished on 83000/192727 queries. users per second: 9145.81</pre>"
            ],
            "text/plain": [
              "recommendations finished on 83000/192727 queries. users per second: 9145.81"
            ]
          },
          "metadata": {
            "tags": []
          }
        },
        {
          "output_type": "display_data",
          "data": {
            "text/html": [
              "<pre>recommendations finished on 84000/192727 queries. users per second: 9177.51</pre>"
            ],
            "text/plain": [
              "recommendations finished on 84000/192727 queries. users per second: 9177.51"
            ]
          },
          "metadata": {
            "tags": []
          }
        },
        {
          "output_type": "display_data",
          "data": {
            "text/html": [
              "<pre>recommendations finished on 85000/192727 queries. users per second: 9205.01</pre>"
            ],
            "text/plain": [
              "recommendations finished on 85000/192727 queries. users per second: 9205.01"
            ]
          },
          "metadata": {
            "tags": []
          }
        },
        {
          "output_type": "display_data",
          "data": {
            "text/html": [
              "<pre>recommendations finished on 86000/192727 queries. users per second: 9223.23</pre>"
            ],
            "text/plain": [
              "recommendations finished on 86000/192727 queries. users per second: 9223.23"
            ]
          },
          "metadata": {
            "tags": []
          }
        },
        {
          "output_type": "display_data",
          "data": {
            "text/html": [
              "<pre>recommendations finished on 87000/192727 queries. users per second: 9225.09</pre>"
            ],
            "text/plain": [
              "recommendations finished on 87000/192727 queries. users per second: 9225.09"
            ]
          },
          "metadata": {
            "tags": []
          }
        },
        {
          "output_type": "display_data",
          "data": {
            "text/html": [
              "<pre>recommendations finished on 88000/192727 queries. users per second: 9228.57</pre>"
            ],
            "text/plain": [
              "recommendations finished on 88000/192727 queries. users per second: 9228.57"
            ]
          },
          "metadata": {
            "tags": []
          }
        },
        {
          "output_type": "display_data",
          "data": {
            "text/html": [
              "<pre>recommendations finished on 89000/192727 queries. users per second: 9197.57</pre>"
            ],
            "text/plain": [
              "recommendations finished on 89000/192727 queries. users per second: 9197.57"
            ]
          },
          "metadata": {
            "tags": []
          }
        },
        {
          "output_type": "display_data",
          "data": {
            "text/html": [
              "<pre>recommendations finished on 90000/192727 queries. users per second: 9193.67</pre>"
            ],
            "text/plain": [
              "recommendations finished on 90000/192727 queries. users per second: 9193.67"
            ]
          },
          "metadata": {
            "tags": []
          }
        },
        {
          "output_type": "display_data",
          "data": {
            "text/html": [
              "<pre>recommendations finished on 91000/192727 queries. users per second: 9186.43</pre>"
            ],
            "text/plain": [
              "recommendations finished on 91000/192727 queries. users per second: 9186.43"
            ]
          },
          "metadata": {
            "tags": []
          }
        },
        {
          "output_type": "display_data",
          "data": {
            "text/html": [
              "<pre>recommendations finished on 92000/192727 queries. users per second: 9183.05</pre>"
            ],
            "text/plain": [
              "recommendations finished on 92000/192727 queries. users per second: 9183.05"
            ]
          },
          "metadata": {
            "tags": []
          }
        },
        {
          "output_type": "display_data",
          "data": {
            "text/html": [
              "<pre>recommendations finished on 93000/192727 queries. users per second: 9163.96</pre>"
            ],
            "text/plain": [
              "recommendations finished on 93000/192727 queries. users per second: 9163.96"
            ]
          },
          "metadata": {
            "tags": []
          }
        },
        {
          "output_type": "display_data",
          "data": {
            "text/html": [
              "<pre>recommendations finished on 94000/192727 queries. users per second: 9146.75</pre>"
            ],
            "text/plain": [
              "recommendations finished on 94000/192727 queries. users per second: 9146.75"
            ]
          },
          "metadata": {
            "tags": []
          }
        },
        {
          "output_type": "display_data",
          "data": {
            "text/html": [
              "<pre>recommendations finished on 95000/192727 queries. users per second: 9117.18</pre>"
            ],
            "text/plain": [
              "recommendations finished on 95000/192727 queries. users per second: 9117.18"
            ]
          },
          "metadata": {
            "tags": []
          }
        },
        {
          "output_type": "display_data",
          "data": {
            "text/html": [
              "<pre>recommendations finished on 96000/192727 queries. users per second: 9119.57</pre>"
            ],
            "text/plain": [
              "recommendations finished on 96000/192727 queries. users per second: 9119.57"
            ]
          },
          "metadata": {
            "tags": []
          }
        },
        {
          "output_type": "display_data",
          "data": {
            "text/html": [
              "<pre>recommendations finished on 97000/192727 queries. users per second: 9119.44</pre>"
            ],
            "text/plain": [
              "recommendations finished on 97000/192727 queries. users per second: 9119.44"
            ]
          },
          "metadata": {
            "tags": []
          }
        },
        {
          "output_type": "display_data",
          "data": {
            "text/html": [
              "<pre>recommendations finished on 98000/192727 queries. users per second: 9117.83</pre>"
            ],
            "text/plain": [
              "recommendations finished on 98000/192727 queries. users per second: 9117.83"
            ]
          },
          "metadata": {
            "tags": []
          }
        },
        {
          "output_type": "display_data",
          "data": {
            "text/html": [
              "<pre>recommendations finished on 99000/192727 queries. users per second: 9119.38</pre>"
            ],
            "text/plain": [
              "recommendations finished on 99000/192727 queries. users per second: 9119.38"
            ]
          },
          "metadata": {
            "tags": []
          }
        },
        {
          "output_type": "display_data",
          "data": {
            "text/html": [
              "<pre>recommendations finished on 100000/192727 queries. users per second: 9122.46</pre>"
            ],
            "text/plain": [
              "recommendations finished on 100000/192727 queries. users per second: 9122.46"
            ]
          },
          "metadata": {
            "tags": []
          }
        },
        {
          "output_type": "display_data",
          "data": {
            "text/html": [
              "<pre>recommendations finished on 101000/192727 queries. users per second: 9136.88</pre>"
            ],
            "text/plain": [
              "recommendations finished on 101000/192727 queries. users per second: 9136.88"
            ]
          },
          "metadata": {
            "tags": []
          }
        },
        {
          "output_type": "display_data",
          "data": {
            "text/html": [
              "<pre>recommendations finished on 102000/192727 queries. users per second: 9168.33</pre>"
            ],
            "text/plain": [
              "recommendations finished on 102000/192727 queries. users per second: 9168.33"
            ]
          },
          "metadata": {
            "tags": []
          }
        },
        {
          "output_type": "display_data",
          "data": {
            "text/html": [
              "<pre>recommendations finished on 103000/192727 queries. users per second: 9198.47</pre>"
            ],
            "text/plain": [
              "recommendations finished on 103000/192727 queries. users per second: 9198.47"
            ]
          },
          "metadata": {
            "tags": []
          }
        },
        {
          "output_type": "display_data",
          "data": {
            "text/html": [
              "<pre>recommendations finished on 104000/192727 queries. users per second: 9229.5</pre>"
            ],
            "text/plain": [
              "recommendations finished on 104000/192727 queries. users per second: 9229.5"
            ]
          },
          "metadata": {
            "tags": []
          }
        },
        {
          "output_type": "display_data",
          "data": {
            "text/html": [
              "<pre>recommendations finished on 105000/192727 queries. users per second: 9259.85</pre>"
            ],
            "text/plain": [
              "recommendations finished on 105000/192727 queries. users per second: 9259.85"
            ]
          },
          "metadata": {
            "tags": []
          }
        },
        {
          "output_type": "display_data",
          "data": {
            "text/html": [
              "<pre>recommendations finished on 106000/192727 queries. users per second: 9274.28</pre>"
            ],
            "text/plain": [
              "recommendations finished on 106000/192727 queries. users per second: 9274.28"
            ]
          },
          "metadata": {
            "tags": []
          }
        },
        {
          "output_type": "display_data",
          "data": {
            "text/html": [
              "<pre>recommendations finished on 107000/192727 queries. users per second: 9303.81</pre>"
            ],
            "text/plain": [
              "recommendations finished on 107000/192727 queries. users per second: 9303.81"
            ]
          },
          "metadata": {
            "tags": []
          }
        },
        {
          "output_type": "display_data",
          "data": {
            "text/html": [
              "<pre>recommendations finished on 108000/192727 queries. users per second: 9331.96</pre>"
            ],
            "text/plain": [
              "recommendations finished on 108000/192727 queries. users per second: 9331.96"
            ]
          },
          "metadata": {
            "tags": []
          }
        },
        {
          "output_type": "display_data",
          "data": {
            "text/html": [
              "<pre>recommendations finished on 109000/192727 queries. users per second: 9356.65</pre>"
            ],
            "text/plain": [
              "recommendations finished on 109000/192727 queries. users per second: 9356.65"
            ]
          },
          "metadata": {
            "tags": []
          }
        },
        {
          "output_type": "display_data",
          "data": {
            "text/html": [
              "<pre>recommendations finished on 110000/192727 queries. users per second: 9383.57</pre>"
            ],
            "text/plain": [
              "recommendations finished on 110000/192727 queries. users per second: 9383.57"
            ]
          },
          "metadata": {
            "tags": []
          }
        },
        {
          "output_type": "display_data",
          "data": {
            "text/html": [
              "<pre>recommendations finished on 111000/192727 queries. users per second: 9411.98</pre>"
            ],
            "text/plain": [
              "recommendations finished on 111000/192727 queries. users per second: 9411.98"
            ]
          },
          "metadata": {
            "tags": []
          }
        },
        {
          "output_type": "display_data",
          "data": {
            "text/html": [
              "<pre>recommendations finished on 112000/192727 queries. users per second: 9439.68</pre>"
            ],
            "text/plain": [
              "recommendations finished on 112000/192727 queries. users per second: 9439.68"
            ]
          },
          "metadata": {
            "tags": []
          }
        },
        {
          "output_type": "display_data",
          "data": {
            "text/html": [
              "<pre>recommendations finished on 113000/192727 queries. users per second: 9467.31</pre>"
            ],
            "text/plain": [
              "recommendations finished on 113000/192727 queries. users per second: 9467.31"
            ]
          },
          "metadata": {
            "tags": []
          }
        },
        {
          "output_type": "display_data",
          "data": {
            "text/html": [
              "<pre>recommendations finished on 114000/192727 queries. users per second: 9494.38</pre>"
            ],
            "text/plain": [
              "recommendations finished on 114000/192727 queries. users per second: 9494.38"
            ]
          },
          "metadata": {
            "tags": []
          }
        },
        {
          "output_type": "display_data",
          "data": {
            "text/html": [
              "<pre>recommendations finished on 115000/192727 queries. users per second: 9521.36</pre>"
            ],
            "text/plain": [
              "recommendations finished on 115000/192727 queries. users per second: 9521.36"
            ]
          },
          "metadata": {
            "tags": []
          }
        },
        {
          "output_type": "display_data",
          "data": {
            "text/html": [
              "<pre>recommendations finished on 116000/192727 queries. users per second: 9547.19</pre>"
            ],
            "text/plain": [
              "recommendations finished on 116000/192727 queries. users per second: 9547.19"
            ]
          },
          "metadata": {
            "tags": []
          }
        },
        {
          "output_type": "display_data",
          "data": {
            "text/html": [
              "<pre>recommendations finished on 117000/192727 queries. users per second: 9570.52</pre>"
            ],
            "text/plain": [
              "recommendations finished on 117000/192727 queries. users per second: 9570.52"
            ]
          },
          "metadata": {
            "tags": []
          }
        },
        {
          "output_type": "display_data",
          "data": {
            "text/html": [
              "<pre>recommendations finished on 118000/192727 queries. users per second: 9587.94</pre>"
            ],
            "text/plain": [
              "recommendations finished on 118000/192727 queries. users per second: 9587.94"
            ]
          },
          "metadata": {
            "tags": []
          }
        },
        {
          "output_type": "display_data",
          "data": {
            "text/html": [
              "<pre>recommendations finished on 119000/192727 queries. users per second: 9613.22</pre>"
            ],
            "text/plain": [
              "recommendations finished on 119000/192727 queries. users per second: 9613.22"
            ]
          },
          "metadata": {
            "tags": []
          }
        },
        {
          "output_type": "display_data",
          "data": {
            "text/html": [
              "<pre>recommendations finished on 120000/192727 queries. users per second: 9633.48</pre>"
            ],
            "text/plain": [
              "recommendations finished on 120000/192727 queries. users per second: 9633.48"
            ]
          },
          "metadata": {
            "tags": []
          }
        },
        {
          "output_type": "display_data",
          "data": {
            "text/html": [
              "<pre>recommendations finished on 121000/192727 queries. users per second: 9658.46</pre>"
            ],
            "text/plain": [
              "recommendations finished on 121000/192727 queries. users per second: 9658.46"
            ]
          },
          "metadata": {
            "tags": []
          }
        },
        {
          "output_type": "display_data",
          "data": {
            "text/html": [
              "<pre>recommendations finished on 122000/192727 queries. users per second: 9674.86</pre>"
            ],
            "text/plain": [
              "recommendations finished on 122000/192727 queries. users per second: 9674.86"
            ]
          },
          "metadata": {
            "tags": []
          }
        },
        {
          "output_type": "display_data",
          "data": {
            "text/html": [
              "<pre>recommendations finished on 123000/192727 queries. users per second: 9697.21</pre>"
            ],
            "text/plain": [
              "recommendations finished on 123000/192727 queries. users per second: 9697.21"
            ]
          },
          "metadata": {
            "tags": []
          }
        },
        {
          "output_type": "display_data",
          "data": {
            "text/html": [
              "<pre>recommendations finished on 124000/192727 queries. users per second: 9716.52</pre>"
            ],
            "text/plain": [
              "recommendations finished on 124000/192727 queries. users per second: 9716.52"
            ]
          },
          "metadata": {
            "tags": []
          }
        },
        {
          "output_type": "display_data",
          "data": {
            "text/html": [
              "<pre>recommendations finished on 125000/192727 queries. users per second: 9740.48</pre>"
            ],
            "text/plain": [
              "recommendations finished on 125000/192727 queries. users per second: 9740.48"
            ]
          },
          "metadata": {
            "tags": []
          }
        },
        {
          "output_type": "display_data",
          "data": {
            "text/html": [
              "<pre>recommendations finished on 126000/192727 queries. users per second: 9763.95</pre>"
            ],
            "text/plain": [
              "recommendations finished on 126000/192727 queries. users per second: 9763.95"
            ]
          },
          "metadata": {
            "tags": []
          }
        },
        {
          "output_type": "display_data",
          "data": {
            "text/html": [
              "<pre>recommendations finished on 127000/192727 queries. users per second: 9787.15</pre>"
            ],
            "text/plain": [
              "recommendations finished on 127000/192727 queries. users per second: 9787.15"
            ]
          },
          "metadata": {
            "tags": []
          }
        },
        {
          "output_type": "display_data",
          "data": {
            "text/html": [
              "<pre>recommendations finished on 128000/192727 queries. users per second: 9810.24</pre>"
            ],
            "text/plain": [
              "recommendations finished on 128000/192727 queries. users per second: 9810.24"
            ]
          },
          "metadata": {
            "tags": []
          }
        },
        {
          "output_type": "display_data",
          "data": {
            "text/html": [
              "<pre>recommendations finished on 129000/192727 queries. users per second: 9830.89</pre>"
            ],
            "text/plain": [
              "recommendations finished on 129000/192727 queries. users per second: 9830.89"
            ]
          },
          "metadata": {
            "tags": []
          }
        },
        {
          "output_type": "display_data",
          "data": {
            "text/html": [
              "<pre>recommendations finished on 130000/192727 queries. users per second: 9851.78</pre>"
            ],
            "text/plain": [
              "recommendations finished on 130000/192727 queries. users per second: 9851.78"
            ]
          },
          "metadata": {
            "tags": []
          }
        },
        {
          "output_type": "display_data",
          "data": {
            "text/html": [
              "<pre>recommendations finished on 131000/192727 queries. users per second: 9872.63</pre>"
            ],
            "text/plain": [
              "recommendations finished on 131000/192727 queries. users per second: 9872.63"
            ]
          },
          "metadata": {
            "tags": []
          }
        },
        {
          "output_type": "display_data",
          "data": {
            "text/html": [
              "<pre>recommendations finished on 132000/192727 queries. users per second: 9894.6</pre>"
            ],
            "text/plain": [
              "recommendations finished on 132000/192727 queries. users per second: 9894.6"
            ]
          },
          "metadata": {
            "tags": []
          }
        },
        {
          "output_type": "display_data",
          "data": {
            "text/html": [
              "<pre>recommendations finished on 133000/192727 queries. users per second: 9916.3</pre>"
            ],
            "text/plain": [
              "recommendations finished on 133000/192727 queries. users per second: 9916.3"
            ]
          },
          "metadata": {
            "tags": []
          }
        },
        {
          "output_type": "display_data",
          "data": {
            "text/html": [
              "<pre>recommendations finished on 134000/192727 queries. users per second: 9930.11</pre>"
            ],
            "text/plain": [
              "recommendations finished on 134000/192727 queries. users per second: 9930.11"
            ]
          },
          "metadata": {
            "tags": []
          }
        },
        {
          "output_type": "display_data",
          "data": {
            "text/html": [
              "<pre>recommendations finished on 135000/192727 queries. users per second: 9951.07</pre>"
            ],
            "text/plain": [
              "recommendations finished on 135000/192727 queries. users per second: 9951.07"
            ]
          },
          "metadata": {
            "tags": []
          }
        },
        {
          "output_type": "display_data",
          "data": {
            "text/html": [
              "<pre>recommendations finished on 136000/192727 queries. users per second: 9971.17</pre>"
            ],
            "text/plain": [
              "recommendations finished on 136000/192727 queries. users per second: 9971.17"
            ]
          },
          "metadata": {
            "tags": []
          }
        },
        {
          "output_type": "display_data",
          "data": {
            "text/html": [
              "<pre>recommendations finished on 137000/192727 queries. users per second: 9992.04</pre>"
            ],
            "text/plain": [
              "recommendations finished on 137000/192727 queries. users per second: 9992.04"
            ]
          },
          "metadata": {
            "tags": []
          }
        },
        {
          "output_type": "display_data",
          "data": {
            "text/html": [
              "<pre>recommendations finished on 138000/192727 queries. users per second: 10012.3</pre>"
            ],
            "text/plain": [
              "recommendations finished on 138000/192727 queries. users per second: 10012.3"
            ]
          },
          "metadata": {
            "tags": []
          }
        },
        {
          "output_type": "display_data",
          "data": {
            "text/html": [
              "<pre>recommendations finished on 139000/192727 queries. users per second: 10033.1</pre>"
            ],
            "text/plain": [
              "recommendations finished on 139000/192727 queries. users per second: 10033.1"
            ]
          },
          "metadata": {
            "tags": []
          }
        },
        {
          "output_type": "display_data",
          "data": {
            "text/html": [
              "<pre>recommendations finished on 140000/192727 queries. users per second: 10049.3</pre>"
            ],
            "text/plain": [
              "recommendations finished on 140000/192727 queries. users per second: 10049.3"
            ]
          },
          "metadata": {
            "tags": []
          }
        },
        {
          "output_type": "display_data",
          "data": {
            "text/html": [
              "<pre>recommendations finished on 141000/192727 queries. users per second: 10067.7</pre>"
            ],
            "text/plain": [
              "recommendations finished on 141000/192727 queries. users per second: 10067.7"
            ]
          },
          "metadata": {
            "tags": []
          }
        },
        {
          "output_type": "display_data",
          "data": {
            "text/html": [
              "<pre>recommendations finished on 142000/192727 queries. users per second: 10087</pre>"
            ],
            "text/plain": [
              "recommendations finished on 142000/192727 queries. users per second: 10087"
            ]
          },
          "metadata": {
            "tags": []
          }
        },
        {
          "output_type": "display_data",
          "data": {
            "text/html": [
              "<pre>recommendations finished on 143000/192727 queries. users per second: 10104.4</pre>"
            ],
            "text/plain": [
              "recommendations finished on 143000/192727 queries. users per second: 10104.4"
            ]
          },
          "metadata": {
            "tags": []
          }
        },
        {
          "output_type": "display_data",
          "data": {
            "text/html": [
              "<pre>recommendations finished on 144000/192727 queries. users per second: 10120.8</pre>"
            ],
            "text/plain": [
              "recommendations finished on 144000/192727 queries. users per second: 10120.8"
            ]
          },
          "metadata": {
            "tags": []
          }
        },
        {
          "output_type": "display_data",
          "data": {
            "text/html": [
              "<pre>recommendations finished on 145000/192727 queries. users per second: 10139.9</pre>"
            ],
            "text/plain": [
              "recommendations finished on 145000/192727 queries. users per second: 10139.9"
            ]
          },
          "metadata": {
            "tags": []
          }
        },
        {
          "output_type": "display_data",
          "data": {
            "text/html": [
              "<pre>recommendations finished on 146000/192727 queries. users per second: 10154.7</pre>"
            ],
            "text/plain": [
              "recommendations finished on 146000/192727 queries. users per second: 10154.7"
            ]
          },
          "metadata": {
            "tags": []
          }
        },
        {
          "output_type": "display_data",
          "data": {
            "text/html": [
              "<pre>recommendations finished on 147000/192727 queries. users per second: 10171.9</pre>"
            ],
            "text/plain": [
              "recommendations finished on 147000/192727 queries. users per second: 10171.9"
            ]
          },
          "metadata": {
            "tags": []
          }
        },
        {
          "output_type": "display_data",
          "data": {
            "text/html": [
              "<pre>recommendations finished on 148000/192727 queries. users per second: 10184</pre>"
            ],
            "text/plain": [
              "recommendations finished on 148000/192727 queries. users per second: 10184"
            ]
          },
          "metadata": {
            "tags": []
          }
        },
        {
          "output_type": "display_data",
          "data": {
            "text/html": [
              "<pre>recommendations finished on 149000/192727 queries. users per second: 10202.8</pre>"
            ],
            "text/plain": [
              "recommendations finished on 149000/192727 queries. users per second: 10202.8"
            ]
          },
          "metadata": {
            "tags": []
          }
        },
        {
          "output_type": "display_data",
          "data": {
            "text/html": [
              "<pre>recommendations finished on 150000/192727 queries. users per second: 10220.3</pre>"
            ],
            "text/plain": [
              "recommendations finished on 150000/192727 queries. users per second: 10220.3"
            ]
          },
          "metadata": {
            "tags": []
          }
        },
        {
          "output_type": "display_data",
          "data": {
            "text/html": [
              "<pre>recommendations finished on 151000/192727 queries. users per second: 10238.7</pre>"
            ],
            "text/plain": [
              "recommendations finished on 151000/192727 queries. users per second: 10238.7"
            ]
          },
          "metadata": {
            "tags": []
          }
        },
        {
          "output_type": "display_data",
          "data": {
            "text/html": [
              "<pre>recommendations finished on 152000/192727 queries. users per second: 10252.5</pre>"
            ],
            "text/plain": [
              "recommendations finished on 152000/192727 queries. users per second: 10252.5"
            ]
          },
          "metadata": {
            "tags": []
          }
        },
        {
          "output_type": "display_data",
          "data": {
            "text/html": [
              "<pre>recommendations finished on 153000/192727 queries. users per second: 10271.2</pre>"
            ],
            "text/plain": [
              "recommendations finished on 153000/192727 queries. users per second: 10271.2"
            ]
          },
          "metadata": {
            "tags": []
          }
        },
        {
          "output_type": "display_data",
          "data": {
            "text/html": [
              "<pre>recommendations finished on 154000/192727 queries. users per second: 10288.8</pre>"
            ],
            "text/plain": [
              "recommendations finished on 154000/192727 queries. users per second: 10288.8"
            ]
          },
          "metadata": {
            "tags": []
          }
        },
        {
          "output_type": "display_data",
          "data": {
            "text/html": [
              "<pre>recommendations finished on 155000/192727 queries. users per second: 10305.5</pre>"
            ],
            "text/plain": [
              "recommendations finished on 155000/192727 queries. users per second: 10305.5"
            ]
          },
          "metadata": {
            "tags": []
          }
        },
        {
          "output_type": "display_data",
          "data": {
            "text/html": [
              "<pre>recommendations finished on 156000/192727 queries. users per second: 10321.2</pre>"
            ],
            "text/plain": [
              "recommendations finished on 156000/192727 queries. users per second: 10321.2"
            ]
          },
          "metadata": {
            "tags": []
          }
        },
        {
          "output_type": "display_data",
          "data": {
            "text/html": [
              "<pre>recommendations finished on 157000/192727 queries. users per second: 10337.4</pre>"
            ],
            "text/plain": [
              "recommendations finished on 157000/192727 queries. users per second: 10337.4"
            ]
          },
          "metadata": {
            "tags": []
          }
        },
        {
          "output_type": "display_data",
          "data": {
            "text/html": [
              "<pre>recommendations finished on 158000/192727 queries. users per second: 10349.5</pre>"
            ],
            "text/plain": [
              "recommendations finished on 158000/192727 queries. users per second: 10349.5"
            ]
          },
          "metadata": {
            "tags": []
          }
        },
        {
          "output_type": "display_data",
          "data": {
            "text/html": [
              "<pre>recommendations finished on 159000/192727 queries. users per second: 10365.7</pre>"
            ],
            "text/plain": [
              "recommendations finished on 159000/192727 queries. users per second: 10365.7"
            ]
          },
          "metadata": {
            "tags": []
          }
        },
        {
          "output_type": "display_data",
          "data": {
            "text/html": [
              "<pre>recommendations finished on 160000/192727 queries. users per second: 10383</pre>"
            ],
            "text/plain": [
              "recommendations finished on 160000/192727 queries. users per second: 10383"
            ]
          },
          "metadata": {
            "tags": []
          }
        },
        {
          "output_type": "display_data",
          "data": {
            "text/html": [
              "<pre>recommendations finished on 161000/192727 queries. users per second: 10390.5</pre>"
            ],
            "text/plain": [
              "recommendations finished on 161000/192727 queries. users per second: 10390.5"
            ]
          },
          "metadata": {
            "tags": []
          }
        },
        {
          "output_type": "display_data",
          "data": {
            "text/html": [
              "<pre>recommendations finished on 162000/192727 queries. users per second: 10405.6</pre>"
            ],
            "text/plain": [
              "recommendations finished on 162000/192727 queries. users per second: 10405.6"
            ]
          },
          "metadata": {
            "tags": []
          }
        },
        {
          "output_type": "display_data",
          "data": {
            "text/html": [
              "<pre>recommendations finished on 163000/192727 queries. users per second: 10420.5</pre>"
            ],
            "text/plain": [
              "recommendations finished on 163000/192727 queries. users per second: 10420.5"
            ]
          },
          "metadata": {
            "tags": []
          }
        },
        {
          "output_type": "display_data",
          "data": {
            "text/html": [
              "<pre>recommendations finished on 164000/192727 queries. users per second: 10436</pre>"
            ],
            "text/plain": [
              "recommendations finished on 164000/192727 queries. users per second: 10436"
            ]
          },
          "metadata": {
            "tags": []
          }
        },
        {
          "output_type": "display_data",
          "data": {
            "text/html": [
              "<pre>recommendations finished on 165000/192727 queries. users per second: 10451.4</pre>"
            ],
            "text/plain": [
              "recommendations finished on 165000/192727 queries. users per second: 10451.4"
            ]
          },
          "metadata": {
            "tags": []
          }
        },
        {
          "output_type": "display_data",
          "data": {
            "text/html": [
              "<pre>recommendations finished on 166000/192727 queries. users per second: 10467.3</pre>"
            ],
            "text/plain": [
              "recommendations finished on 166000/192727 queries. users per second: 10467.3"
            ]
          },
          "metadata": {
            "tags": []
          }
        },
        {
          "output_type": "display_data",
          "data": {
            "text/html": [
              "<pre>recommendations finished on 167000/192727 queries. users per second: 10481.4</pre>"
            ],
            "text/plain": [
              "recommendations finished on 167000/192727 queries. users per second: 10481.4"
            ]
          },
          "metadata": {
            "tags": []
          }
        },
        {
          "output_type": "display_data",
          "data": {
            "text/html": [
              "<pre>recommendations finished on 168000/192727 queries. users per second: 10497.2</pre>"
            ],
            "text/plain": [
              "recommendations finished on 168000/192727 queries. users per second: 10497.2"
            ]
          },
          "metadata": {
            "tags": []
          }
        },
        {
          "output_type": "display_data",
          "data": {
            "text/html": [
              "<pre>recommendations finished on 169000/192727 queries. users per second: 10511.9</pre>"
            ],
            "text/plain": [
              "recommendations finished on 169000/192727 queries. users per second: 10511.9"
            ]
          },
          "metadata": {
            "tags": []
          }
        },
        {
          "output_type": "display_data",
          "data": {
            "text/html": [
              "<pre>recommendations finished on 170000/192727 queries. users per second: 10526.7</pre>"
            ],
            "text/plain": [
              "recommendations finished on 170000/192727 queries. users per second: 10526.7"
            ]
          },
          "metadata": {
            "tags": []
          }
        },
        {
          "output_type": "display_data",
          "data": {
            "text/html": [
              "<pre>recommendations finished on 171000/192727 queries. users per second: 10540.3</pre>"
            ],
            "text/plain": [
              "recommendations finished on 171000/192727 queries. users per second: 10540.3"
            ]
          },
          "metadata": {
            "tags": []
          }
        },
        {
          "output_type": "display_data",
          "data": {
            "text/html": [
              "<pre>recommendations finished on 172000/192727 queries. users per second: 10555.3</pre>"
            ],
            "text/plain": [
              "recommendations finished on 172000/192727 queries. users per second: 10555.3"
            ]
          },
          "metadata": {
            "tags": []
          }
        },
        {
          "output_type": "display_data",
          "data": {
            "text/html": [
              "<pre>recommendations finished on 173000/192727 queries. users per second: 10566.1</pre>"
            ],
            "text/plain": [
              "recommendations finished on 173000/192727 queries. users per second: 10566.1"
            ]
          },
          "metadata": {
            "tags": []
          }
        },
        {
          "output_type": "display_data",
          "data": {
            "text/html": [
              "<pre>recommendations finished on 174000/192727 queries. users per second: 10580.1</pre>"
            ],
            "text/plain": [
              "recommendations finished on 174000/192727 queries. users per second: 10580.1"
            ]
          },
          "metadata": {
            "tags": []
          }
        },
        {
          "output_type": "display_data",
          "data": {
            "text/html": [
              "<pre>recommendations finished on 175000/192727 queries. users per second: 10589.6</pre>"
            ],
            "text/plain": [
              "recommendations finished on 175000/192727 queries. users per second: 10589.6"
            ]
          },
          "metadata": {
            "tags": []
          }
        },
        {
          "output_type": "display_data",
          "data": {
            "text/html": [
              "<pre>recommendations finished on 176000/192727 queries. users per second: 10602.1</pre>"
            ],
            "text/plain": [
              "recommendations finished on 176000/192727 queries. users per second: 10602.1"
            ]
          },
          "metadata": {
            "tags": []
          }
        },
        {
          "output_type": "display_data",
          "data": {
            "text/html": [
              "<pre>recommendations finished on 177000/192727 queries. users per second: 10615.1</pre>"
            ],
            "text/plain": [
              "recommendations finished on 177000/192727 queries. users per second: 10615.1"
            ]
          },
          "metadata": {
            "tags": []
          }
        },
        {
          "output_type": "display_data",
          "data": {
            "text/html": [
              "<pre>recommendations finished on 178000/192727 queries. users per second: 10627.5</pre>"
            ],
            "text/plain": [
              "recommendations finished on 178000/192727 queries. users per second: 10627.5"
            ]
          },
          "metadata": {
            "tags": []
          }
        },
        {
          "output_type": "display_data",
          "data": {
            "text/html": [
              "<pre>recommendations finished on 179000/192727 queries. users per second: 10642.1</pre>"
            ],
            "text/plain": [
              "recommendations finished on 179000/192727 queries. users per second: 10642.1"
            ]
          },
          "metadata": {
            "tags": []
          }
        },
        {
          "output_type": "display_data",
          "data": {
            "text/html": [
              "<pre>recommendations finished on 180000/192727 queries. users per second: 10655.9</pre>"
            ],
            "text/plain": [
              "recommendations finished on 180000/192727 queries. users per second: 10655.9"
            ]
          },
          "metadata": {
            "tags": []
          }
        },
        {
          "output_type": "display_data",
          "data": {
            "text/html": [
              "<pre>recommendations finished on 181000/192727 queries. users per second: 10668.3</pre>"
            ],
            "text/plain": [
              "recommendations finished on 181000/192727 queries. users per second: 10668.3"
            ]
          },
          "metadata": {
            "tags": []
          }
        },
        {
          "output_type": "display_data",
          "data": {
            "text/html": [
              "<pre>recommendations finished on 182000/192727 queries. users per second: 10682.2</pre>"
            ],
            "text/plain": [
              "recommendations finished on 182000/192727 queries. users per second: 10682.2"
            ]
          },
          "metadata": {
            "tags": []
          }
        },
        {
          "output_type": "display_data",
          "data": {
            "text/html": [
              "<pre>recommendations finished on 183000/192727 queries. users per second: 10695.5</pre>"
            ],
            "text/plain": [
              "recommendations finished on 183000/192727 queries. users per second: 10695.5"
            ]
          },
          "metadata": {
            "tags": []
          }
        },
        {
          "output_type": "display_data",
          "data": {
            "text/html": [
              "<pre>recommendations finished on 184000/192727 queries. users per second: 10709.5</pre>"
            ],
            "text/plain": [
              "recommendations finished on 184000/192727 queries. users per second: 10709.5"
            ]
          },
          "metadata": {
            "tags": []
          }
        },
        {
          "output_type": "display_data",
          "data": {
            "text/html": [
              "<pre>recommendations finished on 185000/192727 queries. users per second: 10721</pre>"
            ],
            "text/plain": [
              "recommendations finished on 185000/192727 queries. users per second: 10721"
            ]
          },
          "metadata": {
            "tags": []
          }
        },
        {
          "output_type": "display_data",
          "data": {
            "text/html": [
              "<pre>recommendations finished on 186000/192727 queries. users per second: 10734.1</pre>"
            ],
            "text/plain": [
              "recommendations finished on 186000/192727 queries. users per second: 10734.1"
            ]
          },
          "metadata": {
            "tags": []
          }
        },
        {
          "output_type": "display_data",
          "data": {
            "text/html": [
              "<pre>recommendations finished on 187000/192727 queries. users per second: 10744.7</pre>"
            ],
            "text/plain": [
              "recommendations finished on 187000/192727 queries. users per second: 10744.7"
            ]
          },
          "metadata": {
            "tags": []
          }
        },
        {
          "output_type": "display_data",
          "data": {
            "text/html": [
              "<pre>recommendations finished on 188000/192727 queries. users per second: 10758.1</pre>"
            ],
            "text/plain": [
              "recommendations finished on 188000/192727 queries. users per second: 10758.1"
            ]
          },
          "metadata": {
            "tags": []
          }
        },
        {
          "output_type": "display_data",
          "data": {
            "text/html": [
              "<pre>recommendations finished on 189000/192727 queries. users per second: 10764.6</pre>"
            ],
            "text/plain": [
              "recommendations finished on 189000/192727 queries. users per second: 10764.6"
            ]
          },
          "metadata": {
            "tags": []
          }
        },
        {
          "output_type": "display_data",
          "data": {
            "text/html": [
              "<pre>recommendations finished on 190000/192727 queries. users per second: 10777.3</pre>"
            ],
            "text/plain": [
              "recommendations finished on 190000/192727 queries. users per second: 10777.3"
            ]
          },
          "metadata": {
            "tags": []
          }
        },
        {
          "output_type": "display_data",
          "data": {
            "text/html": [
              "<pre>recommendations finished on 191000/192727 queries. users per second: 10788.7</pre>"
            ],
            "text/plain": [
              "recommendations finished on 191000/192727 queries. users per second: 10788.7"
            ]
          },
          "metadata": {
            "tags": []
          }
        },
        {
          "output_type": "display_data",
          "data": {
            "text/html": [
              "<pre>recommendations finished on 192000/192727 queries. users per second: 10798.8</pre>"
            ],
            "text/plain": [
              "recommendations finished on 192000/192727 queries. users per second: 10798.8"
            ]
          },
          "metadata": {
            "tags": []
          }
        },
        {
          "output_type": "stream",
          "text": [
            "+------------+-----------+-------+------+\n",
            "| customerId | productId | score | rank |\n",
            "+------------+-----------+-------+------+\n",
            "|    254     |   83485   | 326.8 |  1   |\n",
            "|    254     |   83486   | 305.0 |  2   |\n",
            "|    254     |   80883   | 275.0 |  3   |\n",
            "|    254     |   95155   | 240.0 |  4   |\n",
            "|    254     |   63617   | 240.0 |  5   |\n",
            "|    254     |   88389   | 200.0 |  6   |\n",
            "|    254     |   73531   | 200.0 |  7   |\n",
            "|    254     |   47504   | 200.0 |  8   |\n",
            "|    254     |   47474   | 180.0 |  9   |\n",
            "|    254     |   47479   | 100.0 |  10  |\n",
            "|    3372    |   83485   | 326.8 |  1   |\n",
            "|    3372    |   83486   | 305.0 |  2   |\n",
            "|    3372    |   80883   | 275.0 |  3   |\n",
            "|    3372    |   95155   | 240.0 |  4   |\n",
            "|    3372    |   63617   | 240.0 |  5   |\n",
            "|    3372    |   88389   | 200.0 |  6   |\n",
            "|    3372    |   73531   | 200.0 |  7   |\n",
            "|    3372    |   47504   | 200.0 |  8   |\n",
            "|    3372    |   47474   | 180.0 |  9   |\n",
            "|    3372    |   47479   | 100.0 |  10  |\n",
            "|   203854   |   83485   | 326.8 |  1   |\n",
            "|   203854   |   83486   | 305.0 |  2   |\n",
            "|   203854   |   80883   | 275.0 |  3   |\n",
            "|   203854   |   95155   | 240.0 |  4   |\n",
            "|   203854   |   63617   | 240.0 |  5   |\n",
            "|   203854   |   88389   | 200.0 |  6   |\n",
            "|   203854   |   73531   | 200.0 |  7   |\n",
            "|   203854   |   47504   | 200.0 |  8   |\n",
            "|   203854   |   47474   | 180.0 |  9   |\n",
            "|   203854   |   47479   | 100.0 |  10  |\n",
            "+------------+-----------+-------+------+\n",
            "[1927270 rows x 4 columns]\n",
            "\n"
          ],
          "name": "stdout"
        }
      ]
    },
    {
      "cell_type": "markdown",
      "metadata": {
        "id": "Z4ZtMlau1hhs"
      },
      "source": [
        "#### Notas\n",
        "* Depois de criar o modelo, previmos os itens de recomendação usando pontuações por popularidade. Como você pode ver para cada resultado do modelo acima, as linhas mostram os primeiros 30 registros dos usuários com 10 recomendações. Esses 30 registros incluem 3 usuários e seus itens recomendados, junto com a pontuação e as classificações decrescentes.\n",
        "* No resultado, pode-se ver que para cada usuário é recomendada a mesma lista de 10 itens. Isso ocorre porque a popularidade é calculada considerando os itens mais populares de todos os usuários.\n"
      ]
    },
    {
      "cell_type": "markdown",
      "metadata": {
        "id": "r5w4kxtP1hhs"
      },
      "source": [
        "##Modelo de Filtragem Colaborativa\n",
        "\n",
        "* Na filtragem colaborativa, recomendamos itens com base em como usuários semelhantes compram itens. Por exemplo, se o cliente 1 e o cliente 2 compraram itens semelhantes, por exemplo, 1 comprei X, Y, Z e 2 comprei X, Y, recomendaríamos um item Z ao cliente 2.\n",
        "\n",
        "* Para definir a similaridade entre os usuários, usamos as seguintes etapas:\n",
        "    1. Crie uma matriz de item de usuário, onde os valores de índice representam IDs de clientes exclusivos e os valores de coluna representam IDs de produtos exclusivos\n",
        "    \n",
        "    2. Crie uma matriz de similaridade item a item. A ideia é calcular a semelhança de um produto com outro produto. Existem várias maneiras de calcular isso. Nas etapas 6.1 e 6.2, usamos co-seno e medida de similaridade de Pearson, respectivamente.\n",
        "    \n",
        "        * Para calcular a similaridade entre os produtos X e Y, observe todos os clientes que avaliaram esses dois itens. Por exemplo, tanto X quanto Y foram avaliados pelos clientes 1 e 2.\n",
        "        * Em seguida, criamos dois vetores de itens, v1 para o item X e v2 para o item Y, no espaço do usuário de (1, 2) e, a seguir, encontramos o ângulo / distância `cosseno` ou` pearson` entre esses vetores. Um ângulo zero ou vetores sobrepostos com valor de cosseno de 1 significam similaridade total (ou por usuário, em todos os itens, há a mesma classificação) e um ângulo de 90 graus significaria cosseno de 0 ou nenhuma similaridade.\n",
        "        \n",
        "    3. Para cada cliente, prevemos sua probabilidade de comprar um produto (ou suas contagens de compra) para produtos que ele não comprou.\n",
        "    \n",
        "        * Para o nosso exemplo, calcularemos a classificação para o usuário 2 no caso do item Z (item alvo). Para calcular isso, pesamos a medida de similaridade calculada entre o item de destino e outros itens que o cliente já comprou. O fator de pesagem são as contagens de compras fornecidas pelo usuário aos itens já adquiridos por ele.\n",
        "        * Em seguida, normalizamos essa soma ponderada com a soma das medidas de similaridade para que a classificação calculada permaneça dentro dos limites predefinidos. Assim, a classificação prevista para o item Z para o usuário 2 seria calculada usando medidas de similaridade.\n",
        "\n",
        "* Embora eu tenha escrito scripts Python para todo o processo, incluindo encontrar semelhanças usando scripts Python (que podem ser encontrados na pasta `scripts`, podemos usar a biblioteca` turicreate` por enquanto para capturar diferentes medidas, como usar distância de `cosine` e` pearson` e avalie o melhor modelo."
      ]
    },
    {
      "cell_type": "markdown",
      "metadata": {
        "id": "N8PzQCw51hhs"
      },
      "source": [
        "###Similaridade `Cosine`\n",
        "* Similaridade é o cosseno do ângulo entre os 2 vetores dos vetores dos itens de A e B\n",
        "* É definido pela seguinte fórmula\n",
        "![](https://encrypted-tbn0.gstatic.com/images?q=tbn:ANd9GcTnRHSAx1c084UXF2wIHYwaHJLmq2qKtNk_YIv3RjHUO00xwlkt)\n",
        "* Quanto mais próximos os vetores, menor será o ângulo e maior será o cosseno"
      ]
    },
    {
      "cell_type": "code",
      "metadata": {
        "colab": {
          "base_uri": "https://localhost:8080/",
          "height": 1000
        },
        "id": "0uIkyvds1hht",
        "outputId": "49c432cf-c5f7-4b1b-8ef3-b8417015a5a2"
      },
      "source": [
        "# these variables will change accordingly\n",
        "cos = tc.item_similarity_recommender.create(train_data, \n",
        "                                            user_id=user_id, \n",
        "                                            item_id=item_id, \n",
        "                                            target=target, \n",
        "                                            similarity_type='cosine')\n",
        "\n",
        "        \n",
        "recom = cos.recommend(users=users_to_recommend_sim, k=n_rec)\n",
        "recom.print_rows(n_display)\n"
      ],
      "execution_count": 15,
      "outputs": [
        {
          "output_type": "display_data",
          "data": {
            "text/html": [
              "<pre>Preparing data set.</pre>"
            ],
            "text/plain": [
              "Preparing data set."
            ]
          },
          "metadata": {
            "tags": []
          }
        },
        {
          "output_type": "display_data",
          "data": {
            "text/html": [
              "<pre>    Data has 33773 observations with 17959 users and 9932 items.</pre>"
            ],
            "text/plain": [
              "    Data has 33773 observations with 17959 users and 9932 items."
            ]
          },
          "metadata": {
            "tags": []
          }
        },
        {
          "output_type": "display_data",
          "data": {
            "text/html": [
              "<pre>    Data prepared in: 0.058424s</pre>"
            ],
            "text/plain": [
              "    Data prepared in: 0.058424s"
            ]
          },
          "metadata": {
            "tags": []
          }
        },
        {
          "output_type": "display_data",
          "data": {
            "text/html": [
              "<pre>Training model from provided data.</pre>"
            ],
            "text/plain": [
              "Training model from provided data."
            ]
          },
          "metadata": {
            "tags": []
          }
        },
        {
          "output_type": "display_data",
          "data": {
            "text/html": [
              "<pre>Gathering per-item and per-user statistics.</pre>"
            ],
            "text/plain": [
              "Gathering per-item and per-user statistics."
            ]
          },
          "metadata": {
            "tags": []
          }
        },
        {
          "output_type": "display_data",
          "data": {
            "text/html": [
              "<pre>+--------------------------------+------------+</pre>"
            ],
            "text/plain": [
              "+--------------------------------+------------+"
            ]
          },
          "metadata": {
            "tags": []
          }
        },
        {
          "output_type": "display_data",
          "data": {
            "text/html": [
              "<pre>| Elapsed Time (Item Statistics) | % Complete |</pre>"
            ],
            "text/plain": [
              "| Elapsed Time (Item Statistics) | % Complete |"
            ]
          },
          "metadata": {
            "tags": []
          }
        },
        {
          "output_type": "display_data",
          "data": {
            "text/html": [
              "<pre>+--------------------------------+------------+</pre>"
            ],
            "text/plain": [
              "+--------------------------------+------------+"
            ]
          },
          "metadata": {
            "tags": []
          }
        },
        {
          "output_type": "display_data",
          "data": {
            "text/html": [
              "<pre>| 1.237ms                        | 5.5        |</pre>"
            ],
            "text/plain": [
              "| 1.237ms                        | 5.5        |"
            ]
          },
          "metadata": {
            "tags": []
          }
        },
        {
          "output_type": "display_data",
          "data": {
            "text/html": [
              "<pre>| 3.42ms                         | 100        |</pre>"
            ],
            "text/plain": [
              "| 3.42ms                         | 100        |"
            ]
          },
          "metadata": {
            "tags": []
          }
        },
        {
          "output_type": "display_data",
          "data": {
            "text/html": [
              "<pre>+--------------------------------+------------+</pre>"
            ],
            "text/plain": [
              "+--------------------------------+------------+"
            ]
          },
          "metadata": {
            "tags": []
          }
        },
        {
          "output_type": "display_data",
          "data": {
            "text/html": [
              "<pre>Setting up lookup tables.</pre>"
            ],
            "text/plain": [
              "Setting up lookup tables."
            ]
          },
          "metadata": {
            "tags": []
          }
        },
        {
          "output_type": "display_data",
          "data": {
            "text/html": [
              "<pre>Processing data in one pass using dense lookup tables.</pre>"
            ],
            "text/plain": [
              "Processing data in one pass using dense lookup tables."
            ]
          },
          "metadata": {
            "tags": []
          }
        },
        {
          "output_type": "display_data",
          "data": {
            "text/html": [
              "<pre>+-------------------------------------+------------------+-----------------+</pre>"
            ],
            "text/plain": [
              "+-------------------------------------+------------------+-----------------+"
            ]
          },
          "metadata": {
            "tags": []
          }
        },
        {
          "output_type": "display_data",
          "data": {
            "text/html": [
              "<pre>| Elapsed Time (Constructing Lookups) | Total % Complete | Items Processed |</pre>"
            ],
            "text/plain": [
              "| Elapsed Time (Constructing Lookups) | Total % Complete | Items Processed |"
            ]
          },
          "metadata": {
            "tags": []
          }
        },
        {
          "output_type": "display_data",
          "data": {
            "text/html": [
              "<pre>+-------------------------------------+------------------+-----------------+</pre>"
            ],
            "text/plain": [
              "+-------------------------------------+------------------+-----------------+"
            ]
          },
          "metadata": {
            "tags": []
          }
        },
        {
          "output_type": "display_data",
          "data": {
            "text/html": [
              "<pre>| 677.298ms                           | 0                | 0               |</pre>"
            ],
            "text/plain": [
              "| 677.298ms                           | 0                | 0               |"
            ]
          },
          "metadata": {
            "tags": []
          }
        },
        {
          "output_type": "display_data",
          "data": {
            "text/html": [
              "<pre>| 1.60s                               | 100              | 9932            |</pre>"
            ],
            "text/plain": [
              "| 1.60s                               | 100              | 9932            |"
            ]
          },
          "metadata": {
            "tags": []
          }
        },
        {
          "output_type": "display_data",
          "data": {
            "text/html": [
              "<pre>+-------------------------------------+------------------+-----------------+</pre>"
            ],
            "text/plain": [
              "+-------------------------------------+------------------+-----------------+"
            ]
          },
          "metadata": {
            "tags": []
          }
        },
        {
          "output_type": "display_data",
          "data": {
            "text/html": [
              "<pre>Finalizing lookup tables.</pre>"
            ],
            "text/plain": [
              "Finalizing lookup tables."
            ]
          },
          "metadata": {
            "tags": []
          }
        },
        {
          "output_type": "display_data",
          "data": {
            "text/html": [
              "<pre>Generating candidate set for working with new users.</pre>"
            ],
            "text/plain": [
              "Generating candidate set for working with new users."
            ]
          },
          "metadata": {
            "tags": []
          }
        },
        {
          "output_type": "display_data",
          "data": {
            "text/html": [
              "<pre>Finished training in 2.62066s</pre>"
            ],
            "text/plain": [
              "Finished training in 2.62066s"
            ]
          },
          "metadata": {
            "tags": []
          }
        },
        {
          "output_type": "display_data",
          "data": {
            "text/html": [
              "<pre>recommendations finished on 1000/42217 queries. users per second: 9753.05</pre>"
            ],
            "text/plain": [
              "recommendations finished on 1000/42217 queries. users per second: 9753.05"
            ]
          },
          "metadata": {
            "tags": []
          }
        },
        {
          "output_type": "display_data",
          "data": {
            "text/html": [
              "<pre>recommendations finished on 2000/42217 queries. users per second: 9704.26</pre>"
            ],
            "text/plain": [
              "recommendations finished on 2000/42217 queries. users per second: 9704.26"
            ]
          },
          "metadata": {
            "tags": []
          }
        },
        {
          "output_type": "display_data",
          "data": {
            "text/html": [
              "<pre>recommendations finished on 3000/42217 queries. users per second: 9642.05</pre>"
            ],
            "text/plain": [
              "recommendations finished on 3000/42217 queries. users per second: 9642.05"
            ]
          },
          "metadata": {
            "tags": []
          }
        },
        {
          "output_type": "display_data",
          "data": {
            "text/html": [
              "<pre>recommendations finished on 4000/42217 queries. users per second: 9541.17</pre>"
            ],
            "text/plain": [
              "recommendations finished on 4000/42217 queries. users per second: 9541.17"
            ]
          },
          "metadata": {
            "tags": []
          }
        },
        {
          "output_type": "display_data",
          "data": {
            "text/html": [
              "<pre>recommendations finished on 5000/42217 queries. users per second: 9549.2</pre>"
            ],
            "text/plain": [
              "recommendations finished on 5000/42217 queries. users per second: 9549.2"
            ]
          },
          "metadata": {
            "tags": []
          }
        },
        {
          "output_type": "display_data",
          "data": {
            "text/html": [
              "<pre>recommendations finished on 6000/42217 queries. users per second: 9505.94</pre>"
            ],
            "text/plain": [
              "recommendations finished on 6000/42217 queries. users per second: 9505.94"
            ]
          },
          "metadata": {
            "tags": []
          }
        },
        {
          "output_type": "display_data",
          "data": {
            "text/html": [
              "<pre>recommendations finished on 7000/42217 queries. users per second: 9472.7</pre>"
            ],
            "text/plain": [
              "recommendations finished on 7000/42217 queries. users per second: 9472.7"
            ]
          },
          "metadata": {
            "tags": []
          }
        },
        {
          "output_type": "display_data",
          "data": {
            "text/html": [
              "<pre>recommendations finished on 8000/42217 queries. users per second: 9489.78</pre>"
            ],
            "text/plain": [
              "recommendations finished on 8000/42217 queries. users per second: 9489.78"
            ]
          },
          "metadata": {
            "tags": []
          }
        },
        {
          "output_type": "display_data",
          "data": {
            "text/html": [
              "<pre>recommendations finished on 9000/42217 queries. users per second: 9518.82</pre>"
            ],
            "text/plain": [
              "recommendations finished on 9000/42217 queries. users per second: 9518.82"
            ]
          },
          "metadata": {
            "tags": []
          }
        },
        {
          "output_type": "display_data",
          "data": {
            "text/html": [
              "<pre>recommendations finished on 10000/42217 queries. users per second: 9371.85</pre>"
            ],
            "text/plain": [
              "recommendations finished on 10000/42217 queries. users per second: 9371.85"
            ]
          },
          "metadata": {
            "tags": []
          }
        },
        {
          "output_type": "display_data",
          "data": {
            "text/html": [
              "<pre>recommendations finished on 11000/42217 queries. users per second: 9062.77</pre>"
            ],
            "text/plain": [
              "recommendations finished on 11000/42217 queries. users per second: 9062.77"
            ]
          },
          "metadata": {
            "tags": []
          }
        },
        {
          "output_type": "display_data",
          "data": {
            "text/html": [
              "<pre>recommendations finished on 12000/42217 queries. users per second: 8767.51</pre>"
            ],
            "text/plain": [
              "recommendations finished on 12000/42217 queries. users per second: 8767.51"
            ]
          },
          "metadata": {
            "tags": []
          }
        },
        {
          "output_type": "display_data",
          "data": {
            "text/html": [
              "<pre>recommendations finished on 13000/42217 queries. users per second: 8534.08</pre>"
            ],
            "text/plain": [
              "recommendations finished on 13000/42217 queries. users per second: 8534.08"
            ]
          },
          "metadata": {
            "tags": []
          }
        },
        {
          "output_type": "display_data",
          "data": {
            "text/html": [
              "<pre>recommendations finished on 14000/42217 queries. users per second: 8329.41</pre>"
            ],
            "text/plain": [
              "recommendations finished on 14000/42217 queries. users per second: 8329.41"
            ]
          },
          "metadata": {
            "tags": []
          }
        },
        {
          "output_type": "display_data",
          "data": {
            "text/html": [
              "<pre>recommendations finished on 15000/42217 queries. users per second: 8171.14</pre>"
            ],
            "text/plain": [
              "recommendations finished on 15000/42217 queries. users per second: 8171.14"
            ]
          },
          "metadata": {
            "tags": []
          }
        },
        {
          "output_type": "display_data",
          "data": {
            "text/html": [
              "<pre>recommendations finished on 16000/42217 queries. users per second: 8009.37</pre>"
            ],
            "text/plain": [
              "recommendations finished on 16000/42217 queries. users per second: 8009.37"
            ]
          },
          "metadata": {
            "tags": []
          }
        },
        {
          "output_type": "display_data",
          "data": {
            "text/html": [
              "<pre>recommendations finished on 17000/42217 queries. users per second: 7901.29</pre>"
            ],
            "text/plain": [
              "recommendations finished on 17000/42217 queries. users per second: 7901.29"
            ]
          },
          "metadata": {
            "tags": []
          }
        },
        {
          "output_type": "display_data",
          "data": {
            "text/html": [
              "<pre>recommendations finished on 18000/42217 queries. users per second: 7933.31</pre>"
            ],
            "text/plain": [
              "recommendations finished on 18000/42217 queries. users per second: 7933.31"
            ]
          },
          "metadata": {
            "tags": []
          }
        },
        {
          "output_type": "display_data",
          "data": {
            "text/html": [
              "<pre>recommendations finished on 19000/42217 queries. users per second: 8003.75</pre>"
            ],
            "text/plain": [
              "recommendations finished on 19000/42217 queries. users per second: 8003.75"
            ]
          },
          "metadata": {
            "tags": []
          }
        },
        {
          "output_type": "display_data",
          "data": {
            "text/html": [
              "<pre>recommendations finished on 20000/42217 queries. users per second: 8068.63</pre>"
            ],
            "text/plain": [
              "recommendations finished on 20000/42217 queries. users per second: 8068.63"
            ]
          },
          "metadata": {
            "tags": []
          }
        },
        {
          "output_type": "display_data",
          "data": {
            "text/html": [
              "<pre>recommendations finished on 21000/42217 queries. users per second: 8122.33</pre>"
            ],
            "text/plain": [
              "recommendations finished on 21000/42217 queries. users per second: 8122.33"
            ]
          },
          "metadata": {
            "tags": []
          }
        },
        {
          "output_type": "display_data",
          "data": {
            "text/html": [
              "<pre>recommendations finished on 22000/42217 queries. users per second: 8179.12</pre>"
            ],
            "text/plain": [
              "recommendations finished on 22000/42217 queries. users per second: 8179.12"
            ]
          },
          "metadata": {
            "tags": []
          }
        },
        {
          "output_type": "display_data",
          "data": {
            "text/html": [
              "<pre>recommendations finished on 23000/42217 queries. users per second: 8232.2</pre>"
            ],
            "text/plain": [
              "recommendations finished on 23000/42217 queries. users per second: 8232.2"
            ]
          },
          "metadata": {
            "tags": []
          }
        },
        {
          "output_type": "display_data",
          "data": {
            "text/html": [
              "<pre>recommendations finished on 24000/42217 queries. users per second: 8262.87</pre>"
            ],
            "text/plain": [
              "recommendations finished on 24000/42217 queries. users per second: 8262.87"
            ]
          },
          "metadata": {
            "tags": []
          }
        },
        {
          "output_type": "display_data",
          "data": {
            "text/html": [
              "<pre>recommendations finished on 25000/42217 queries. users per second: 8295.97</pre>"
            ],
            "text/plain": [
              "recommendations finished on 25000/42217 queries. users per second: 8295.97"
            ]
          },
          "metadata": {
            "tags": []
          }
        },
        {
          "output_type": "display_data",
          "data": {
            "text/html": [
              "<pre>recommendations finished on 26000/42217 queries. users per second: 8325.69</pre>"
            ],
            "text/plain": [
              "recommendations finished on 26000/42217 queries. users per second: 8325.69"
            ]
          },
          "metadata": {
            "tags": []
          }
        },
        {
          "output_type": "display_data",
          "data": {
            "text/html": [
              "<pre>recommendations finished on 27000/42217 queries. users per second: 8367.11</pre>"
            ],
            "text/plain": [
              "recommendations finished on 27000/42217 queries. users per second: 8367.11"
            ]
          },
          "metadata": {
            "tags": []
          }
        },
        {
          "output_type": "display_data",
          "data": {
            "text/html": [
              "<pre>recommendations finished on 28000/42217 queries. users per second: 8404.18</pre>"
            ],
            "text/plain": [
              "recommendations finished on 28000/42217 queries. users per second: 8404.18"
            ]
          },
          "metadata": {
            "tags": []
          }
        },
        {
          "output_type": "display_data",
          "data": {
            "text/html": [
              "<pre>recommendations finished on 29000/42217 queries. users per second: 8437.51</pre>"
            ],
            "text/plain": [
              "recommendations finished on 29000/42217 queries. users per second: 8437.51"
            ]
          },
          "metadata": {
            "tags": []
          }
        },
        {
          "output_type": "display_data",
          "data": {
            "text/html": [
              "<pre>recommendations finished on 30000/42217 queries. users per second: 8461.22</pre>"
            ],
            "text/plain": [
              "recommendations finished on 30000/42217 queries. users per second: 8461.22"
            ]
          },
          "metadata": {
            "tags": []
          }
        },
        {
          "output_type": "display_data",
          "data": {
            "text/html": [
              "<pre>recommendations finished on 31000/42217 queries. users per second: 8490.47</pre>"
            ],
            "text/plain": [
              "recommendations finished on 31000/42217 queries. users per second: 8490.47"
            ]
          },
          "metadata": {
            "tags": []
          }
        },
        {
          "output_type": "display_data",
          "data": {
            "text/html": [
              "<pre>recommendations finished on 32000/42217 queries. users per second: 8515.49</pre>"
            ],
            "text/plain": [
              "recommendations finished on 32000/42217 queries. users per second: 8515.49"
            ]
          },
          "metadata": {
            "tags": []
          }
        },
        {
          "output_type": "display_data",
          "data": {
            "text/html": [
              "<pre>recommendations finished on 33000/42217 queries. users per second: 8535.81</pre>"
            ],
            "text/plain": [
              "recommendations finished on 33000/42217 queries. users per second: 8535.81"
            ]
          },
          "metadata": {
            "tags": []
          }
        },
        {
          "output_type": "display_data",
          "data": {
            "text/html": [
              "<pre>recommendations finished on 34000/42217 queries. users per second: 8561.54</pre>"
            ],
            "text/plain": [
              "recommendations finished on 34000/42217 queries. users per second: 8561.54"
            ]
          },
          "metadata": {
            "tags": []
          }
        },
        {
          "output_type": "display_data",
          "data": {
            "text/html": [
              "<pre>recommendations finished on 35000/42217 queries. users per second: 8570.9</pre>"
            ],
            "text/plain": [
              "recommendations finished on 35000/42217 queries. users per second: 8570.9"
            ]
          },
          "metadata": {
            "tags": []
          }
        },
        {
          "output_type": "display_data",
          "data": {
            "text/html": [
              "<pre>recommendations finished on 36000/42217 queries. users per second: 8581.88</pre>"
            ],
            "text/plain": [
              "recommendations finished on 36000/42217 queries. users per second: 8581.88"
            ]
          },
          "metadata": {
            "tags": []
          }
        },
        {
          "output_type": "display_data",
          "data": {
            "text/html": [
              "<pre>recommendations finished on 37000/42217 queries. users per second: 8590.49</pre>"
            ],
            "text/plain": [
              "recommendations finished on 37000/42217 queries. users per second: 8590.49"
            ]
          },
          "metadata": {
            "tags": []
          }
        },
        {
          "output_type": "display_data",
          "data": {
            "text/html": [
              "<pre>recommendations finished on 38000/42217 queries. users per second: 8583.26</pre>"
            ],
            "text/plain": [
              "recommendations finished on 38000/42217 queries. users per second: 8583.26"
            ]
          },
          "metadata": {
            "tags": []
          }
        },
        {
          "output_type": "display_data",
          "data": {
            "text/html": [
              "<pre>recommendations finished on 39000/42217 queries. users per second: 8585.57</pre>"
            ],
            "text/plain": [
              "recommendations finished on 39000/42217 queries. users per second: 8585.57"
            ]
          },
          "metadata": {
            "tags": []
          }
        },
        {
          "output_type": "display_data",
          "data": {
            "text/html": [
              "<pre>recommendations finished on 40000/42217 queries. users per second: 8577.56</pre>"
            ],
            "text/plain": [
              "recommendations finished on 40000/42217 queries. users per second: 8577.56"
            ]
          },
          "metadata": {
            "tags": []
          }
        },
        {
          "output_type": "display_data",
          "data": {
            "text/html": [
              "<pre>recommendations finished on 41000/42217 queries. users per second: 8573.99</pre>"
            ],
            "text/plain": [
              "recommendations finished on 41000/42217 queries. users per second: 8573.99"
            ]
          },
          "metadata": {
            "tags": []
          }
        },
        {
          "output_type": "display_data",
          "data": {
            "text/html": [
              "<pre>recommendations finished on 42000/42217 queries. users per second: 8576.48</pre>"
            ],
            "text/plain": [
              "recommendations finished on 42000/42217 queries. users per second: 8576.48"
            ]
          },
          "metadata": {
            "tags": []
          }
        },
        {
          "output_type": "stream",
          "text": [
            "+------------+-----------+---------------------+------+\n",
            "| customerId | productId |        score        | rank |\n",
            "+------------+-----------+---------------------+------+\n",
            "|     1      |   89049   |  0.977020800113678  |  1   |\n",
            "|     1      |   84220   |  0.977020800113678  |  2   |\n",
            "|     1      |   82388   |  0.977020800113678  |  3   |\n",
            "|     1      |   91454   |  0.977020800113678  |  4   |\n",
            "|     1      |   84946   |  0.977020800113678  |  5   |\n",
            "|     1      |   85806   |  0.977020800113678  |  6   |\n",
            "|     1      |   87887   |  0.977020800113678  |  7   |\n",
            "|     1      |   77116   |  0.977020800113678  |  8   |\n",
            "|     1      |   83169   |  0.977020800113678  |  9   |\n",
            "|     1      |   85626   |  0.977020800113678  |  10  |\n",
            "|     2      |   89049   |  2.931062400341034  |  1   |\n",
            "|     2      |   84220   |  2.931062400341034  |  2   |\n",
            "|     2      |   82388   |  2.931062400341034  |  3   |\n",
            "|     2      |   91454   |  2.931062400341034  |  4   |\n",
            "|     2      |   84946   |  2.931062400341034  |  5   |\n",
            "|     2      |   85806   |  2.931062400341034  |  6   |\n",
            "|     2      |   87887   |  2.931062400341034  |  7   |\n",
            "|     2      |   77116   |  2.931062400341034  |  8   |\n",
            "|     2      |   83169   |  2.931062400341034  |  9   |\n",
            "|     2      |   85626   |  2.931062400341034  |  10  |\n",
            "|     29     |   80240   |  0.1414213538169861 |  1   |\n",
            "|     29     |   89049   | 0.08944271802902222 |  2   |\n",
            "|     29     |   84220   | 0.08944271802902222 |  3   |\n",
            "|     29     |   82388   | 0.08944271802902222 |  4   |\n",
            "|     29     |   91454   | 0.08944271802902222 |  5   |\n",
            "|     29     |   84946   | 0.08944271802902222 |  6   |\n",
            "|     29     |   85806   | 0.08944271802902222 |  7   |\n",
            "|     29     |   87887   | 0.08944271802902222 |  8   |\n",
            "|     29     |   77116   | 0.08944271802902222 |  9   |\n",
            "|     29     |   83169   | 0.08944271802902222 |  10  |\n",
            "+------------+-----------+---------------------+------+\n",
            "[422170 rows x 4 columns]\n",
            "\n"
          ],
          "name": "stdout"
        }
      ]
    },
    {
      "cell_type": "markdown",
      "metadata": {
        "id": "DsZrH6e91hhv"
      },
      "source": [
        "#### Observação\n",
        "* Na filtragem colaborativa acima, usamos a similaridade do cosseno.\n",
        "* Podemos ver que as recomendações são diferentes para cada usuário. Isso sugere que a personalização existe.\n",
        "* Mas quão bom é este modelo em comparação com a linha de base e entre si? Precisamos de alguns meios de avaliar um mecanismo de recomendação. Vamos nos concentrar nisso na próxima seção."
      ]
    },
    {
      "cell_type": "markdown",
      "metadata": {
        "id": "I2GjPSCg1hhv"
      },
      "source": [
        "##Avaliação do modelo\n",
        "Para avaliar os mecanismos de recomendação, podemos usar o conceito de recall de precisão.\n",
        "\n",
        "* RMSE (erros quadráticos médios)\n",
        "    * Mede o erro dos valores previstos\n",
        "    * Quanto menor o valor RMSE, melhores as recomendações\n",
        "* Recall\n",
        "    * Qual porcentagem de produtos que um usuário compra são realmente recomendados?\n",
        "    * Se um cliente comprar 5 produtos e a recomendação decidir mostrar 3 deles, o recall é de 0,6\n",
        "* Precisão\n",
        "    * De todos os itens recomendados, quantos o usuário realmente gostou?\n",
        "    * Se 5 produtos foram recomendados ao cliente, dos quais ele compra 4 deles, a precisão é 0,8\n",
        "    \n",
        "* Por que o recall e a precisão são importantes?\n",
        "    * Considere um caso em que recomendamos todos os produtos, para que nossos clientes com certeza tenha todos os itens que gostaria de compraram. Nesse caso, temos 100% de recall! Isso significa que nosso modelo é bom?\n",
        "    * Temos que considerar a precisão. Se recomendarmos 300 itens, mas o usuário gostar e comprar apenas 3 deles, a precisão é de 0,1%! Essa precisão muito baixa indica que o modelo não é ótimo, apesar de seu excelente recall.\n",
        "    * Portanto, nosso objetivo deve ser otimizar o recall e a precisão (para ser o mais próximo possível de 1).\n",
        "\n",
        "Vamos comparar todos os modelos que construímos com base nas características de recuperação de precisão:"
      ]
    },
    {
      "cell_type": "code",
      "metadata": {
        "colab": {
          "base_uri": "https://localhost:8080/",
          "height": 1000
        },
        "id": "HwbmFpcy1hhv",
        "scrolled": false,
        "outputId": "7aadda5b-7d56-482e-e598-158b779017dd"
      },
      "source": [
        "eval_counts = tc.recommender.util.compare_models(test_data, [cos], model_names=['Cosine Similarity on Purchase Counts'])"
      ],
      "execution_count": 16,
      "outputs": [
        {
          "output_type": "stream",
          "text": [
            "PROGRESS: Evaluate model Cosine Similarity on Purchase Counts\n"
          ],
          "name": "stdout"
        },
        {
          "output_type": "display_data",
          "data": {
            "text/html": [
              "<pre>recommendations finished on 1000/6771 queries. users per second: 6781.04</pre>"
            ],
            "text/plain": [
              "recommendations finished on 1000/6771 queries. users per second: 6781.04"
            ]
          },
          "metadata": {
            "tags": []
          }
        },
        {
          "output_type": "display_data",
          "data": {
            "text/html": [
              "<pre>recommendations finished on 2000/6771 queries. users per second: 6691.4</pre>"
            ],
            "text/plain": [
              "recommendations finished on 2000/6771 queries. users per second: 6691.4"
            ]
          },
          "metadata": {
            "tags": []
          }
        },
        {
          "output_type": "display_data",
          "data": {
            "text/html": [
              "<pre>recommendations finished on 3000/6771 queries. users per second: 6785.84</pre>"
            ],
            "text/plain": [
              "recommendations finished on 3000/6771 queries. users per second: 6785.84"
            ]
          },
          "metadata": {
            "tags": []
          }
        },
        {
          "output_type": "display_data",
          "data": {
            "text/html": [
              "<pre>recommendations finished on 4000/6771 queries. users per second: 6821</pre>"
            ],
            "text/plain": [
              "recommendations finished on 4000/6771 queries. users per second: 6821"
            ]
          },
          "metadata": {
            "tags": []
          }
        },
        {
          "output_type": "display_data",
          "data": {
            "text/html": [
              "<pre>recommendations finished on 5000/6771 queries. users per second: 6703.76</pre>"
            ],
            "text/plain": [
              "recommendations finished on 5000/6771 queries. users per second: 6703.76"
            ]
          },
          "metadata": {
            "tags": []
          }
        },
        {
          "output_type": "display_data",
          "data": {
            "text/html": [
              "<pre>recommendations finished on 6000/6771 queries. users per second: 6661.8</pre>"
            ],
            "text/plain": [
              "recommendations finished on 6000/6771 queries. users per second: 6661.8"
            ]
          },
          "metadata": {
            "tags": []
          }
        },
        {
          "output_type": "stream",
          "text": [
            "\n",
            "Precision and recall summary statistics by cutoff\n",
            "+--------+-----------------------+----------------------+\n",
            "| cutoff |     mean_precision    |     mean_recall      |\n",
            "+--------+-----------------------+----------------------+\n",
            "|   1    |  0.011076650420912717 | 0.008686619342357057 |\n",
            "|   2    |  0.007310589277802402 | 0.011161523456605421 |\n",
            "|   3    | 0.0057598582188746195 | 0.013017541706066291 |\n",
            "|   4    |  0.00468911534485305  | 0.014212477327231425 |\n",
            "|   5    | 0.0040762073548958715 | 0.015317744825941544 |\n",
            "|   6    |  0.003913749815389165 | 0.01749439454357487  |\n",
            "|   7    |  0.003523429752937951 | 0.01826736252965759  |\n",
            "|   8    |  0.003433761630482943 | 0.020320299008823595 |\n",
            "|   9    | 0.0033312000525115228 | 0.02202926793090728  |\n",
            "|   10   | 0.0031309998523113324 | 0.023100010804928815 |\n",
            "+--------+-----------------------+----------------------+\n",
            "[10 rows x 3 columns]\n",
            "\n",
            "\n",
            "Overall RMSE: 14.446714939177303\n",
            "\n",
            "Per User RMSE (best)\n",
            "+------------+--------------------+-------+\n",
            "| customerId |        rmse        | count |\n",
            "+------------+--------------------+-------+\n",
            "|   73540    | 0.5857864618301392 |   1   |\n",
            "+------------+--------------------+-------+\n",
            "[1 rows x 3 columns]\n",
            "\n",
            "\n",
            "Per User RMSE (worst)\n",
            "+------------+------------------+-------+\n",
            "| customerId |       rmse       | count |\n",
            "+------------+------------------+-------+\n",
            "|    3279    | 974.855091886861 |   1   |\n",
            "+------------+------------------+-------+\n",
            "[1 rows x 3 columns]\n",
            "\n",
            "\n",
            "Per Item RMSE (best)\n",
            "+-----------+---------------------+-------+\n",
            "| productId |         rmse        | count |\n",
            "+-----------+---------------------+-------+\n",
            "|   90692   | 0.38005709648132324 |   1   |\n",
            "+-----------+---------------------+-------+\n",
            "[1 rows x 3 columns]\n",
            "\n",
            "\n",
            "Per Item RMSE (worst)\n",
            "+-----------+-------------------+-------+\n",
            "| productId |        rmse       | count |\n",
            "+-----------+-------------------+-------+\n",
            "|   79595   | 689.6764527739007 |   2   |\n",
            "+-----------+-------------------+-------+\n",
            "[1 rows x 3 columns]\n",
            "\n"
          ],
          "name": "stdout"
        }
      ]
    },
    {
      "cell_type": "markdown",
      "metadata": {
        "id": "5q1SLgzH1hhx"
      },
      "source": [
        "##Resultado final 1)Modelo Popularidade\n",
        "\n",
        "> Bloco com recuo\n",
        "\n",
        "\n"
      ]
    },
    {
      "cell_type": "code",
      "metadata": {
        "colab": {
          "base_uri": "https://localhost:8080/",
          "height": 1000
        },
        "id": "bzt00For3V0w",
        "outputId": "72bd31a7-8543-45fe-e7fc-5b8b5b882c39"
      },
      "source": [
        "#users_to_recommend = list(userId) ##Selecionar clientes que nunca compraram\n",
        "\n",
        "final_model_pop = tc.popularity_recommender.create(tc.SFrame(data), \n",
        "                                            user_id=user_id, \n",
        "                                            item_id=item_id, \n",
        "                                            target='purchase_count')\n",
        "\n",
        "recom_pop = final_model_pop.recommend(users=users_to_recommend_pop, k=n_rec)\n",
        "recom_pop.print_rows(n_display)\n",
        "\n",
        "\n"
      ],
      "execution_count": 17,
      "outputs": [
        {
          "output_type": "display_data",
          "data": {
            "text/html": [
              "<pre>Preparing data set.</pre>"
            ],
            "text/plain": [
              "Preparing data set."
            ]
          },
          "metadata": {
            "tags": []
          }
        },
        {
          "output_type": "display_data",
          "data": {
            "text/html": [
              "<pre>    Data has 42217 observations with 20088 users and 11170 items.</pre>"
            ],
            "text/plain": [
              "    Data has 42217 observations with 20088 users and 11170 items."
            ]
          },
          "metadata": {
            "tags": []
          }
        },
        {
          "output_type": "display_data",
          "data": {
            "text/html": [
              "<pre>    Data prepared in: 0.060716s</pre>"
            ],
            "text/plain": [
              "    Data prepared in: 0.060716s"
            ]
          },
          "metadata": {
            "tags": []
          }
        },
        {
          "output_type": "display_data",
          "data": {
            "text/html": [
              "<pre>42217 observations to process; with 11170 unique items.</pre>"
            ],
            "text/plain": [
              "42217 observations to process; with 11170 unique items."
            ]
          },
          "metadata": {
            "tags": []
          }
        },
        {
          "output_type": "display_data",
          "data": {
            "text/html": [
              "<pre>recommendations finished on 1000/192727 queries. users per second: 11853</pre>"
            ],
            "text/plain": [
              "recommendations finished on 1000/192727 queries. users per second: 11853"
            ]
          },
          "metadata": {
            "tags": []
          }
        },
        {
          "output_type": "display_data",
          "data": {
            "text/html": [
              "<pre>recommendations finished on 2000/192727 queries. users per second: 12191.5</pre>"
            ],
            "text/plain": [
              "recommendations finished on 2000/192727 queries. users per second: 12191.5"
            ]
          },
          "metadata": {
            "tags": []
          }
        },
        {
          "output_type": "display_data",
          "data": {
            "text/html": [
              "<pre>recommendations finished on 3000/192727 queries. users per second: 12313.2</pre>"
            ],
            "text/plain": [
              "recommendations finished on 3000/192727 queries. users per second: 12313.2"
            ]
          },
          "metadata": {
            "tags": []
          }
        },
        {
          "output_type": "display_data",
          "data": {
            "text/html": [
              "<pre>recommendations finished on 4000/192727 queries. users per second: 12379.7</pre>"
            ],
            "text/plain": [
              "recommendations finished on 4000/192727 queries. users per second: 12379.7"
            ]
          },
          "metadata": {
            "tags": []
          }
        },
        {
          "output_type": "display_data",
          "data": {
            "text/html": [
              "<pre>recommendations finished on 5000/192727 queries. users per second: 12390.2</pre>"
            ],
            "text/plain": [
              "recommendations finished on 5000/192727 queries. users per second: 12390.2"
            ]
          },
          "metadata": {
            "tags": []
          }
        },
        {
          "output_type": "display_data",
          "data": {
            "text/html": [
              "<pre>recommendations finished on 6000/192727 queries. users per second: 11937.9</pre>"
            ],
            "text/plain": [
              "recommendations finished on 6000/192727 queries. users per second: 11937.9"
            ]
          },
          "metadata": {
            "tags": []
          }
        },
        {
          "output_type": "display_data",
          "data": {
            "text/html": [
              "<pre>recommendations finished on 7000/192727 queries. users per second: 11897</pre>"
            ],
            "text/plain": [
              "recommendations finished on 7000/192727 queries. users per second: 11897"
            ]
          },
          "metadata": {
            "tags": []
          }
        },
        {
          "output_type": "display_data",
          "data": {
            "text/html": [
              "<pre>recommendations finished on 8000/192727 queries. users per second: 11942.2</pre>"
            ],
            "text/plain": [
              "recommendations finished on 8000/192727 queries. users per second: 11942.2"
            ]
          },
          "metadata": {
            "tags": []
          }
        },
        {
          "output_type": "display_data",
          "data": {
            "text/html": [
              "<pre>recommendations finished on 9000/192727 queries. users per second: 12032.3</pre>"
            ],
            "text/plain": [
              "recommendations finished on 9000/192727 queries. users per second: 12032.3"
            ]
          },
          "metadata": {
            "tags": []
          }
        },
        {
          "output_type": "display_data",
          "data": {
            "text/html": [
              "<pre>recommendations finished on 10000/192727 queries. users per second: 12047.6</pre>"
            ],
            "text/plain": [
              "recommendations finished on 10000/192727 queries. users per second: 12047.6"
            ]
          },
          "metadata": {
            "tags": []
          }
        },
        {
          "output_type": "display_data",
          "data": {
            "text/html": [
              "<pre>recommendations finished on 11000/192727 queries. users per second: 12103.7</pre>"
            ],
            "text/plain": [
              "recommendations finished on 11000/192727 queries. users per second: 12103.7"
            ]
          },
          "metadata": {
            "tags": []
          }
        },
        {
          "output_type": "display_data",
          "data": {
            "text/html": [
              "<pre>recommendations finished on 12000/192727 queries. users per second: 12062.5</pre>"
            ],
            "text/plain": [
              "recommendations finished on 12000/192727 queries. users per second: 12062.5"
            ]
          },
          "metadata": {
            "tags": []
          }
        },
        {
          "output_type": "display_data",
          "data": {
            "text/html": [
              "<pre>recommendations finished on 13000/192727 queries. users per second: 12030.7</pre>"
            ],
            "text/plain": [
              "recommendations finished on 13000/192727 queries. users per second: 12030.7"
            ]
          },
          "metadata": {
            "tags": []
          }
        },
        {
          "output_type": "display_data",
          "data": {
            "text/html": [
              "<pre>recommendations finished on 14000/192727 queries. users per second: 12066.9</pre>"
            ],
            "text/plain": [
              "recommendations finished on 14000/192727 queries. users per second: 12066.9"
            ]
          },
          "metadata": {
            "tags": []
          }
        },
        {
          "output_type": "display_data",
          "data": {
            "text/html": [
              "<pre>recommendations finished on 15000/192727 queries. users per second: 12106.6</pre>"
            ],
            "text/plain": [
              "recommendations finished on 15000/192727 queries. users per second: 12106.6"
            ]
          },
          "metadata": {
            "tags": []
          }
        },
        {
          "output_type": "display_data",
          "data": {
            "text/html": [
              "<pre>recommendations finished on 16000/192727 queries. users per second: 12127.5</pre>"
            ],
            "text/plain": [
              "recommendations finished on 16000/192727 queries. users per second: 12127.5"
            ]
          },
          "metadata": {
            "tags": []
          }
        },
        {
          "output_type": "display_data",
          "data": {
            "text/html": [
              "<pre>recommendations finished on 17000/192727 queries. users per second: 12141.6</pre>"
            ],
            "text/plain": [
              "recommendations finished on 17000/192727 queries. users per second: 12141.6"
            ]
          },
          "metadata": {
            "tags": []
          }
        },
        {
          "output_type": "display_data",
          "data": {
            "text/html": [
              "<pre>recommendations finished on 18000/192727 queries. users per second: 12125.3</pre>"
            ],
            "text/plain": [
              "recommendations finished on 18000/192727 queries. users per second: 12125.3"
            ]
          },
          "metadata": {
            "tags": []
          }
        },
        {
          "output_type": "display_data",
          "data": {
            "text/html": [
              "<pre>recommendations finished on 19000/192727 queries. users per second: 12105.3</pre>"
            ],
            "text/plain": [
              "recommendations finished on 19000/192727 queries. users per second: 12105.3"
            ]
          },
          "metadata": {
            "tags": []
          }
        },
        {
          "output_type": "display_data",
          "data": {
            "text/html": [
              "<pre>recommendations finished on 20000/192727 queries. users per second: 12132.4</pre>"
            ],
            "text/plain": [
              "recommendations finished on 20000/192727 queries. users per second: 12132.4"
            ]
          },
          "metadata": {
            "tags": []
          }
        },
        {
          "output_type": "display_data",
          "data": {
            "text/html": [
              "<pre>recommendations finished on 21000/192727 queries. users per second: 12162</pre>"
            ],
            "text/plain": [
              "recommendations finished on 21000/192727 queries. users per second: 12162"
            ]
          },
          "metadata": {
            "tags": []
          }
        },
        {
          "output_type": "display_data",
          "data": {
            "text/html": [
              "<pre>recommendations finished on 22000/192727 queries. users per second: 12168.5</pre>"
            ],
            "text/plain": [
              "recommendations finished on 22000/192727 queries. users per second: 12168.5"
            ]
          },
          "metadata": {
            "tags": []
          }
        },
        {
          "output_type": "display_data",
          "data": {
            "text/html": [
              "<pre>recommendations finished on 23000/192727 queries. users per second: 12166.9</pre>"
            ],
            "text/plain": [
              "recommendations finished on 23000/192727 queries. users per second: 12166.9"
            ]
          },
          "metadata": {
            "tags": []
          }
        },
        {
          "output_type": "display_data",
          "data": {
            "text/html": [
              "<pre>recommendations finished on 24000/192727 queries. users per second: 12179.9</pre>"
            ],
            "text/plain": [
              "recommendations finished on 24000/192727 queries. users per second: 12179.9"
            ]
          },
          "metadata": {
            "tags": []
          }
        },
        {
          "output_type": "display_data",
          "data": {
            "text/html": [
              "<pre>recommendations finished on 25000/192727 queries. users per second: 12204.1</pre>"
            ],
            "text/plain": [
              "recommendations finished on 25000/192727 queries. users per second: 12204.1"
            ]
          },
          "metadata": {
            "tags": []
          }
        },
        {
          "output_type": "display_data",
          "data": {
            "text/html": [
              "<pre>recommendations finished on 26000/192727 queries. users per second: 12224.3</pre>"
            ],
            "text/plain": [
              "recommendations finished on 26000/192727 queries. users per second: 12224.3"
            ]
          },
          "metadata": {
            "tags": []
          }
        },
        {
          "output_type": "display_data",
          "data": {
            "text/html": [
              "<pre>recommendations finished on 27000/192727 queries. users per second: 12214.9</pre>"
            ],
            "text/plain": [
              "recommendations finished on 27000/192727 queries. users per second: 12214.9"
            ]
          },
          "metadata": {
            "tags": []
          }
        },
        {
          "output_type": "display_data",
          "data": {
            "text/html": [
              "<pre>recommendations finished on 28000/192727 queries. users per second: 12225.6</pre>"
            ],
            "text/plain": [
              "recommendations finished on 28000/192727 queries. users per second: 12225.6"
            ]
          },
          "metadata": {
            "tags": []
          }
        },
        {
          "output_type": "display_data",
          "data": {
            "text/html": [
              "<pre>recommendations finished on 29000/192727 queries. users per second: 12245.9</pre>"
            ],
            "text/plain": [
              "recommendations finished on 29000/192727 queries. users per second: 12245.9"
            ]
          },
          "metadata": {
            "tags": []
          }
        },
        {
          "output_type": "display_data",
          "data": {
            "text/html": [
              "<pre>recommendations finished on 30000/192727 queries. users per second: 12258.2</pre>"
            ],
            "text/plain": [
              "recommendations finished on 30000/192727 queries. users per second: 12258.2"
            ]
          },
          "metadata": {
            "tags": []
          }
        },
        {
          "output_type": "display_data",
          "data": {
            "text/html": [
              "<pre>recommendations finished on 31000/192727 queries. users per second: 12218.4</pre>"
            ],
            "text/plain": [
              "recommendations finished on 31000/192727 queries. users per second: 12218.4"
            ]
          },
          "metadata": {
            "tags": []
          }
        },
        {
          "output_type": "display_data",
          "data": {
            "text/html": [
              "<pre>recommendations finished on 32000/192727 queries. users per second: 12230.9</pre>"
            ],
            "text/plain": [
              "recommendations finished on 32000/192727 queries. users per second: 12230.9"
            ]
          },
          "metadata": {
            "tags": []
          }
        },
        {
          "output_type": "display_data",
          "data": {
            "text/html": [
              "<pre>recommendations finished on 33000/192727 queries. users per second: 12244</pre>"
            ],
            "text/plain": [
              "recommendations finished on 33000/192727 queries. users per second: 12244"
            ]
          },
          "metadata": {
            "tags": []
          }
        },
        {
          "output_type": "display_data",
          "data": {
            "text/html": [
              "<pre>recommendations finished on 34000/192727 queries. users per second: 12229.7</pre>"
            ],
            "text/plain": [
              "recommendations finished on 34000/192727 queries. users per second: 12229.7"
            ]
          },
          "metadata": {
            "tags": []
          }
        },
        {
          "output_type": "display_data",
          "data": {
            "text/html": [
              "<pre>recommendations finished on 35000/192727 queries. users per second: 12238.4</pre>"
            ],
            "text/plain": [
              "recommendations finished on 35000/192727 queries. users per second: 12238.4"
            ]
          },
          "metadata": {
            "tags": []
          }
        },
        {
          "output_type": "display_data",
          "data": {
            "text/html": [
              "<pre>recommendations finished on 36000/192727 queries. users per second: 12252.2</pre>"
            ],
            "text/plain": [
              "recommendations finished on 36000/192727 queries. users per second: 12252.2"
            ]
          },
          "metadata": {
            "tags": []
          }
        },
        {
          "output_type": "display_data",
          "data": {
            "text/html": [
              "<pre>recommendations finished on 37000/192727 queries. users per second: 12261.2</pre>"
            ],
            "text/plain": [
              "recommendations finished on 37000/192727 queries. users per second: 12261.2"
            ]
          },
          "metadata": {
            "tags": []
          }
        },
        {
          "output_type": "display_data",
          "data": {
            "text/html": [
              "<pre>recommendations finished on 38000/192727 queries. users per second: 12269.4</pre>"
            ],
            "text/plain": [
              "recommendations finished on 38000/192727 queries. users per second: 12269.4"
            ]
          },
          "metadata": {
            "tags": []
          }
        },
        {
          "output_type": "display_data",
          "data": {
            "text/html": [
              "<pre>recommendations finished on 39000/192727 queries. users per second: 12281.5</pre>"
            ],
            "text/plain": [
              "recommendations finished on 39000/192727 queries. users per second: 12281.5"
            ]
          },
          "metadata": {
            "tags": []
          }
        },
        {
          "output_type": "display_data",
          "data": {
            "text/html": [
              "<pre>recommendations finished on 40000/192727 queries. users per second: 12276.7</pre>"
            ],
            "text/plain": [
              "recommendations finished on 40000/192727 queries. users per second: 12276.7"
            ]
          },
          "metadata": {
            "tags": []
          }
        },
        {
          "output_type": "display_data",
          "data": {
            "text/html": [
              "<pre>recommendations finished on 41000/192727 queries. users per second: 12277.7</pre>"
            ],
            "text/plain": [
              "recommendations finished on 41000/192727 queries. users per second: 12277.7"
            ]
          },
          "metadata": {
            "tags": []
          }
        },
        {
          "output_type": "display_data",
          "data": {
            "text/html": [
              "<pre>recommendations finished on 42000/192727 queries. users per second: 12267.5</pre>"
            ],
            "text/plain": [
              "recommendations finished on 42000/192727 queries. users per second: 12267.5"
            ]
          },
          "metadata": {
            "tags": []
          }
        },
        {
          "output_type": "display_data",
          "data": {
            "text/html": [
              "<pre>recommendations finished on 43000/192727 queries. users per second: 12275.5</pre>"
            ],
            "text/plain": [
              "recommendations finished on 43000/192727 queries. users per second: 12275.5"
            ]
          },
          "metadata": {
            "tags": []
          }
        },
        {
          "output_type": "display_data",
          "data": {
            "text/html": [
              "<pre>recommendations finished on 44000/192727 queries. users per second: 12264</pre>"
            ],
            "text/plain": [
              "recommendations finished on 44000/192727 queries. users per second: 12264"
            ]
          },
          "metadata": {
            "tags": []
          }
        },
        {
          "output_type": "display_data",
          "data": {
            "text/html": [
              "<pre>recommendations finished on 45000/192727 queries. users per second: 12272</pre>"
            ],
            "text/plain": [
              "recommendations finished on 45000/192727 queries. users per second: 12272"
            ]
          },
          "metadata": {
            "tags": []
          }
        },
        {
          "output_type": "display_data",
          "data": {
            "text/html": [
              "<pre>recommendations finished on 46000/192727 queries. users per second: 12281</pre>"
            ],
            "text/plain": [
              "recommendations finished on 46000/192727 queries. users per second: 12281"
            ]
          },
          "metadata": {
            "tags": []
          }
        },
        {
          "output_type": "display_data",
          "data": {
            "text/html": [
              "<pre>recommendations finished on 47000/192727 queries. users per second: 12290</pre>"
            ],
            "text/plain": [
              "recommendations finished on 47000/192727 queries. users per second: 12290"
            ]
          },
          "metadata": {
            "tags": []
          }
        },
        {
          "output_type": "display_data",
          "data": {
            "text/html": [
              "<pre>recommendations finished on 48000/192727 queries. users per second: 12287.4</pre>"
            ],
            "text/plain": [
              "recommendations finished on 48000/192727 queries. users per second: 12287.4"
            ]
          },
          "metadata": {
            "tags": []
          }
        },
        {
          "output_type": "display_data",
          "data": {
            "text/html": [
              "<pre>recommendations finished on 49000/192727 queries. users per second: 12285.8</pre>"
            ],
            "text/plain": [
              "recommendations finished on 49000/192727 queries. users per second: 12285.8"
            ]
          },
          "metadata": {
            "tags": []
          }
        },
        {
          "output_type": "display_data",
          "data": {
            "text/html": [
              "<pre>recommendations finished on 50000/192727 queries. users per second: 12292.7</pre>"
            ],
            "text/plain": [
              "recommendations finished on 50000/192727 queries. users per second: 12292.7"
            ]
          },
          "metadata": {
            "tags": []
          }
        },
        {
          "output_type": "display_data",
          "data": {
            "text/html": [
              "<pre>recommendations finished on 51000/192727 queries. users per second: 12301.9</pre>"
            ],
            "text/plain": [
              "recommendations finished on 51000/192727 queries. users per second: 12301.9"
            ]
          },
          "metadata": {
            "tags": []
          }
        },
        {
          "output_type": "display_data",
          "data": {
            "text/html": [
              "<pre>recommendations finished on 52000/192727 queries. users per second: 12309.5</pre>"
            ],
            "text/plain": [
              "recommendations finished on 52000/192727 queries. users per second: 12309.5"
            ]
          },
          "metadata": {
            "tags": []
          }
        },
        {
          "output_type": "display_data",
          "data": {
            "text/html": [
              "<pre>recommendations finished on 53000/192727 queries. users per second: 12316.2</pre>"
            ],
            "text/plain": [
              "recommendations finished on 53000/192727 queries. users per second: 12316.2"
            ]
          },
          "metadata": {
            "tags": []
          }
        },
        {
          "output_type": "display_data",
          "data": {
            "text/html": [
              "<pre>recommendations finished on 54000/192727 queries. users per second: 12300.4</pre>"
            ],
            "text/plain": [
              "recommendations finished on 54000/192727 queries. users per second: 12300.4"
            ]
          },
          "metadata": {
            "tags": []
          }
        },
        {
          "output_type": "display_data",
          "data": {
            "text/html": [
              "<pre>recommendations finished on 55000/192727 queries. users per second: 12287.4</pre>"
            ],
            "text/plain": [
              "recommendations finished on 55000/192727 queries. users per second: 12287.4"
            ]
          },
          "metadata": {
            "tags": []
          }
        },
        {
          "output_type": "display_data",
          "data": {
            "text/html": [
              "<pre>recommendations finished on 56000/192727 queries. users per second: 12280</pre>"
            ],
            "text/plain": [
              "recommendations finished on 56000/192727 queries. users per second: 12280"
            ]
          },
          "metadata": {
            "tags": []
          }
        },
        {
          "output_type": "display_data",
          "data": {
            "text/html": [
              "<pre>recommendations finished on 57000/192727 queries. users per second: 12277.9</pre>"
            ],
            "text/plain": [
              "recommendations finished on 57000/192727 queries. users per second: 12277.9"
            ]
          },
          "metadata": {
            "tags": []
          }
        },
        {
          "output_type": "display_data",
          "data": {
            "text/html": [
              "<pre>recommendations finished on 58000/192727 queries. users per second: 12277.9</pre>"
            ],
            "text/plain": [
              "recommendations finished on 58000/192727 queries. users per second: 12277.9"
            ]
          },
          "metadata": {
            "tags": []
          }
        },
        {
          "output_type": "display_data",
          "data": {
            "text/html": [
              "<pre>recommendations finished on 59000/192727 queries. users per second: 12280.7</pre>"
            ],
            "text/plain": [
              "recommendations finished on 59000/192727 queries. users per second: 12280.7"
            ]
          },
          "metadata": {
            "tags": []
          }
        },
        {
          "output_type": "display_data",
          "data": {
            "text/html": [
              "<pre>recommendations finished on 60000/192727 queries. users per second: 12286.6</pre>"
            ],
            "text/plain": [
              "recommendations finished on 60000/192727 queries. users per second: 12286.6"
            ]
          },
          "metadata": {
            "tags": []
          }
        },
        {
          "output_type": "display_data",
          "data": {
            "text/html": [
              "<pre>recommendations finished on 61000/192727 queries. users per second: 12291.2</pre>"
            ],
            "text/plain": [
              "recommendations finished on 61000/192727 queries. users per second: 12291.2"
            ]
          },
          "metadata": {
            "tags": []
          }
        },
        {
          "output_type": "display_data",
          "data": {
            "text/html": [
              "<pre>recommendations finished on 62000/192727 queries. users per second: 12290.2</pre>"
            ],
            "text/plain": [
              "recommendations finished on 62000/192727 queries. users per second: 12290.2"
            ]
          },
          "metadata": {
            "tags": []
          }
        },
        {
          "output_type": "display_data",
          "data": {
            "text/html": [
              "<pre>recommendations finished on 63000/192727 queries. users per second: 12294.5</pre>"
            ],
            "text/plain": [
              "recommendations finished on 63000/192727 queries. users per second: 12294.5"
            ]
          },
          "metadata": {
            "tags": []
          }
        },
        {
          "output_type": "display_data",
          "data": {
            "text/html": [
              "<pre>recommendations finished on 64000/192727 queries. users per second: 12295.3</pre>"
            ],
            "text/plain": [
              "recommendations finished on 64000/192727 queries. users per second: 12295.3"
            ]
          },
          "metadata": {
            "tags": []
          }
        },
        {
          "output_type": "display_data",
          "data": {
            "text/html": [
              "<pre>recommendations finished on 65000/192727 queries. users per second: 12298.3</pre>"
            ],
            "text/plain": [
              "recommendations finished on 65000/192727 queries. users per second: 12298.3"
            ]
          },
          "metadata": {
            "tags": []
          }
        },
        {
          "output_type": "display_data",
          "data": {
            "text/html": [
              "<pre>recommendations finished on 66000/192727 queries. users per second: 12290.5</pre>"
            ],
            "text/plain": [
              "recommendations finished on 66000/192727 queries. users per second: 12290.5"
            ]
          },
          "metadata": {
            "tags": []
          }
        },
        {
          "output_type": "display_data",
          "data": {
            "text/html": [
              "<pre>recommendations finished on 67000/192727 queries. users per second: 12287.7</pre>"
            ],
            "text/plain": [
              "recommendations finished on 67000/192727 queries. users per second: 12287.7"
            ]
          },
          "metadata": {
            "tags": []
          }
        },
        {
          "output_type": "display_data",
          "data": {
            "text/html": [
              "<pre>recommendations finished on 68000/192727 queries. users per second: 12294.1</pre>"
            ],
            "text/plain": [
              "recommendations finished on 68000/192727 queries. users per second: 12294.1"
            ]
          },
          "metadata": {
            "tags": []
          }
        },
        {
          "output_type": "display_data",
          "data": {
            "text/html": [
              "<pre>recommendations finished on 69000/192727 queries. users per second: 12282.8</pre>"
            ],
            "text/plain": [
              "recommendations finished on 69000/192727 queries. users per second: 12282.8"
            ]
          },
          "metadata": {
            "tags": []
          }
        },
        {
          "output_type": "display_data",
          "data": {
            "text/html": [
              "<pre>recommendations finished on 70000/192727 queries. users per second: 12286.6</pre>"
            ],
            "text/plain": [
              "recommendations finished on 70000/192727 queries. users per second: 12286.6"
            ]
          },
          "metadata": {
            "tags": []
          }
        },
        {
          "output_type": "display_data",
          "data": {
            "text/html": [
              "<pre>recommendations finished on 71000/192727 queries. users per second: 12284</pre>"
            ],
            "text/plain": [
              "recommendations finished on 71000/192727 queries. users per second: 12284"
            ]
          },
          "metadata": {
            "tags": []
          }
        },
        {
          "output_type": "display_data",
          "data": {
            "text/html": [
              "<pre>recommendations finished on 72000/192727 queries. users per second: 12287.6</pre>"
            ],
            "text/plain": [
              "recommendations finished on 72000/192727 queries. users per second: 12287.6"
            ]
          },
          "metadata": {
            "tags": []
          }
        },
        {
          "output_type": "display_data",
          "data": {
            "text/html": [
              "<pre>recommendations finished on 73000/192727 queries. users per second: 12293.5</pre>"
            ],
            "text/plain": [
              "recommendations finished on 73000/192727 queries. users per second: 12293.5"
            ]
          },
          "metadata": {
            "tags": []
          }
        },
        {
          "output_type": "display_data",
          "data": {
            "text/html": [
              "<pre>recommendations finished on 74000/192727 queries. users per second: 12295.2</pre>"
            ],
            "text/plain": [
              "recommendations finished on 74000/192727 queries. users per second: 12295.2"
            ]
          },
          "metadata": {
            "tags": []
          }
        },
        {
          "output_type": "display_data",
          "data": {
            "text/html": [
              "<pre>recommendations finished on 75000/192727 queries. users per second: 12294.9</pre>"
            ],
            "text/plain": [
              "recommendations finished on 75000/192727 queries. users per second: 12294.9"
            ]
          },
          "metadata": {
            "tags": []
          }
        },
        {
          "output_type": "display_data",
          "data": {
            "text/html": [
              "<pre>recommendations finished on 76000/192727 queries. users per second: 12298.9</pre>"
            ],
            "text/plain": [
              "recommendations finished on 76000/192727 queries. users per second: 12298.9"
            ]
          },
          "metadata": {
            "tags": []
          }
        },
        {
          "output_type": "display_data",
          "data": {
            "text/html": [
              "<pre>recommendations finished on 77000/192727 queries. users per second: 12297.8</pre>"
            ],
            "text/plain": [
              "recommendations finished on 77000/192727 queries. users per second: 12297.8"
            ]
          },
          "metadata": {
            "tags": []
          }
        },
        {
          "output_type": "display_data",
          "data": {
            "text/html": [
              "<pre>recommendations finished on 78000/192727 queries. users per second: 12301.6</pre>"
            ],
            "text/plain": [
              "recommendations finished on 78000/192727 queries. users per second: 12301.6"
            ]
          },
          "metadata": {
            "tags": []
          }
        },
        {
          "output_type": "display_data",
          "data": {
            "text/html": [
              "<pre>recommendations finished on 79000/192727 queries. users per second: 12302.2</pre>"
            ],
            "text/plain": [
              "recommendations finished on 79000/192727 queries. users per second: 12302.2"
            ]
          },
          "metadata": {
            "tags": []
          }
        },
        {
          "output_type": "display_data",
          "data": {
            "text/html": [
              "<pre>recommendations finished on 80000/192727 queries. users per second: 12306.4</pre>"
            ],
            "text/plain": [
              "recommendations finished on 80000/192727 queries. users per second: 12306.4"
            ]
          },
          "metadata": {
            "tags": []
          }
        },
        {
          "output_type": "display_data",
          "data": {
            "text/html": [
              "<pre>recommendations finished on 81000/192727 queries. users per second: 12303.7</pre>"
            ],
            "text/plain": [
              "recommendations finished on 81000/192727 queries. users per second: 12303.7"
            ]
          },
          "metadata": {
            "tags": []
          }
        },
        {
          "output_type": "display_data",
          "data": {
            "text/html": [
              "<pre>recommendations finished on 82000/192727 queries. users per second: 12289.2</pre>"
            ],
            "text/plain": [
              "recommendations finished on 82000/192727 queries. users per second: 12289.2"
            ]
          },
          "metadata": {
            "tags": []
          }
        },
        {
          "output_type": "display_data",
          "data": {
            "text/html": [
              "<pre>recommendations finished on 83000/192727 queries. users per second: 12293.8</pre>"
            ],
            "text/plain": [
              "recommendations finished on 83000/192727 queries. users per second: 12293.8"
            ]
          },
          "metadata": {
            "tags": []
          }
        },
        {
          "output_type": "display_data",
          "data": {
            "text/html": [
              "<pre>recommendations finished on 84000/192727 queries. users per second: 12295.6</pre>"
            ],
            "text/plain": [
              "recommendations finished on 84000/192727 queries. users per second: 12295.6"
            ]
          },
          "metadata": {
            "tags": []
          }
        },
        {
          "output_type": "display_data",
          "data": {
            "text/html": [
              "<pre>recommendations finished on 85000/192727 queries. users per second: 12293.2</pre>"
            ],
            "text/plain": [
              "recommendations finished on 85000/192727 queries. users per second: 12293.2"
            ]
          },
          "metadata": {
            "tags": []
          }
        },
        {
          "output_type": "display_data",
          "data": {
            "text/html": [
              "<pre>recommendations finished on 86000/192727 queries. users per second: 12292.6</pre>"
            ],
            "text/plain": [
              "recommendations finished on 86000/192727 queries. users per second: 12292.6"
            ]
          },
          "metadata": {
            "tags": []
          }
        },
        {
          "output_type": "display_data",
          "data": {
            "text/html": [
              "<pre>recommendations finished on 87000/192727 queries. users per second: 12295</pre>"
            ],
            "text/plain": [
              "recommendations finished on 87000/192727 queries. users per second: 12295"
            ]
          },
          "metadata": {
            "tags": []
          }
        },
        {
          "output_type": "display_data",
          "data": {
            "text/html": [
              "<pre>recommendations finished on 88000/192727 queries. users per second: 12292.4</pre>"
            ],
            "text/plain": [
              "recommendations finished on 88000/192727 queries. users per second: 12292.4"
            ]
          },
          "metadata": {
            "tags": []
          }
        },
        {
          "output_type": "display_data",
          "data": {
            "text/html": [
              "<pre>recommendations finished on 89000/192727 queries. users per second: 12294.1</pre>"
            ],
            "text/plain": [
              "recommendations finished on 89000/192727 queries. users per second: 12294.1"
            ]
          },
          "metadata": {
            "tags": []
          }
        },
        {
          "output_type": "display_data",
          "data": {
            "text/html": [
              "<pre>recommendations finished on 90000/192727 queries. users per second: 12298.3</pre>"
            ],
            "text/plain": [
              "recommendations finished on 90000/192727 queries. users per second: 12298.3"
            ]
          },
          "metadata": {
            "tags": []
          }
        },
        {
          "output_type": "display_data",
          "data": {
            "text/html": [
              "<pre>recommendations finished on 91000/192727 queries. users per second: 12298.9</pre>"
            ],
            "text/plain": [
              "recommendations finished on 91000/192727 queries. users per second: 12298.9"
            ]
          },
          "metadata": {
            "tags": []
          }
        },
        {
          "output_type": "display_data",
          "data": {
            "text/html": [
              "<pre>recommendations finished on 92000/192727 queries. users per second: 12297.1</pre>"
            ],
            "text/plain": [
              "recommendations finished on 92000/192727 queries. users per second: 12297.1"
            ]
          },
          "metadata": {
            "tags": []
          }
        },
        {
          "output_type": "display_data",
          "data": {
            "text/html": [
              "<pre>recommendations finished on 93000/192727 queries. users per second: 12300.4</pre>"
            ],
            "text/plain": [
              "recommendations finished on 93000/192727 queries. users per second: 12300.4"
            ]
          },
          "metadata": {
            "tags": []
          }
        },
        {
          "output_type": "display_data",
          "data": {
            "text/html": [
              "<pre>recommendations finished on 94000/192727 queries. users per second: 12293.2</pre>"
            ],
            "text/plain": [
              "recommendations finished on 94000/192727 queries. users per second: 12293.2"
            ]
          },
          "metadata": {
            "tags": []
          }
        },
        {
          "output_type": "display_data",
          "data": {
            "text/html": [
              "<pre>recommendations finished on 95000/192727 queries. users per second: 12296.2</pre>"
            ],
            "text/plain": [
              "recommendations finished on 95000/192727 queries. users per second: 12296.2"
            ]
          },
          "metadata": {
            "tags": []
          }
        },
        {
          "output_type": "display_data",
          "data": {
            "text/html": [
              "<pre>recommendations finished on 96000/192727 queries. users per second: 12288.1</pre>"
            ],
            "text/plain": [
              "recommendations finished on 96000/192727 queries. users per second: 12288.1"
            ]
          },
          "metadata": {
            "tags": []
          }
        },
        {
          "output_type": "display_data",
          "data": {
            "text/html": [
              "<pre>recommendations finished on 97000/192727 queries. users per second: 12290.9</pre>"
            ],
            "text/plain": [
              "recommendations finished on 97000/192727 queries. users per second: 12290.9"
            ]
          },
          "metadata": {
            "tags": []
          }
        },
        {
          "output_type": "display_data",
          "data": {
            "text/html": [
              "<pre>recommendations finished on 98000/192727 queries. users per second: 12293.4</pre>"
            ],
            "text/plain": [
              "recommendations finished on 98000/192727 queries. users per second: 12293.4"
            ]
          },
          "metadata": {
            "tags": []
          }
        },
        {
          "output_type": "display_data",
          "data": {
            "text/html": [
              "<pre>recommendations finished on 99000/192727 queries. users per second: 12292.9</pre>"
            ],
            "text/plain": [
              "recommendations finished on 99000/192727 queries. users per second: 12292.9"
            ]
          },
          "metadata": {
            "tags": []
          }
        },
        {
          "output_type": "display_data",
          "data": {
            "text/html": [
              "<pre>recommendations finished on 100000/192727 queries. users per second: 12294.4</pre>"
            ],
            "text/plain": [
              "recommendations finished on 100000/192727 queries. users per second: 12294.4"
            ]
          },
          "metadata": {
            "tags": []
          }
        },
        {
          "output_type": "display_data",
          "data": {
            "text/html": [
              "<pre>recommendations finished on 101000/192727 queries. users per second: 12293.9</pre>"
            ],
            "text/plain": [
              "recommendations finished on 101000/192727 queries. users per second: 12293.9"
            ]
          },
          "metadata": {
            "tags": []
          }
        },
        {
          "output_type": "display_data",
          "data": {
            "text/html": [
              "<pre>recommendations finished on 102000/192727 queries. users per second: 12296.6</pre>"
            ],
            "text/plain": [
              "recommendations finished on 102000/192727 queries. users per second: 12296.6"
            ]
          },
          "metadata": {
            "tags": []
          }
        },
        {
          "output_type": "display_data",
          "data": {
            "text/html": [
              "<pre>recommendations finished on 103000/192727 queries. users per second: 12292.7</pre>"
            ],
            "text/plain": [
              "recommendations finished on 103000/192727 queries. users per second: 12292.7"
            ]
          },
          "metadata": {
            "tags": []
          }
        },
        {
          "output_type": "display_data",
          "data": {
            "text/html": [
              "<pre>recommendations finished on 104000/192727 queries. users per second: 12294.6</pre>"
            ],
            "text/plain": [
              "recommendations finished on 104000/192727 queries. users per second: 12294.6"
            ]
          },
          "metadata": {
            "tags": []
          }
        },
        {
          "output_type": "display_data",
          "data": {
            "text/html": [
              "<pre>recommendations finished on 105000/192727 queries. users per second: 12288.6</pre>"
            ],
            "text/plain": [
              "recommendations finished on 105000/192727 queries. users per second: 12288.6"
            ]
          },
          "metadata": {
            "tags": []
          }
        },
        {
          "output_type": "display_data",
          "data": {
            "text/html": [
              "<pre>recommendations finished on 106000/192727 queries. users per second: 12291.5</pre>"
            ],
            "text/plain": [
              "recommendations finished on 106000/192727 queries. users per second: 12291.5"
            ]
          },
          "metadata": {
            "tags": []
          }
        },
        {
          "output_type": "display_data",
          "data": {
            "text/html": [
              "<pre>recommendations finished on 107000/192727 queries. users per second: 12276.3</pre>"
            ],
            "text/plain": [
              "recommendations finished on 107000/192727 queries. users per second: 12276.3"
            ]
          },
          "metadata": {
            "tags": []
          }
        },
        {
          "output_type": "display_data",
          "data": {
            "text/html": [
              "<pre>recommendations finished on 108000/192727 queries. users per second: 12279.7</pre>"
            ],
            "text/plain": [
              "recommendations finished on 108000/192727 queries. users per second: 12279.7"
            ]
          },
          "metadata": {
            "tags": []
          }
        },
        {
          "output_type": "display_data",
          "data": {
            "text/html": [
              "<pre>recommendations finished on 109000/192727 queries. users per second: 12272.4</pre>"
            ],
            "text/plain": [
              "recommendations finished on 109000/192727 queries. users per second: 12272.4"
            ]
          },
          "metadata": {
            "tags": []
          }
        },
        {
          "output_type": "display_data",
          "data": {
            "text/html": [
              "<pre>recommendations finished on 110000/192727 queries. users per second: 12273.1</pre>"
            ],
            "text/plain": [
              "recommendations finished on 110000/192727 queries. users per second: 12273.1"
            ]
          },
          "metadata": {
            "tags": []
          }
        },
        {
          "output_type": "display_data",
          "data": {
            "text/html": [
              "<pre>recommendations finished on 111000/192727 queries. users per second: 12275.2</pre>"
            ],
            "text/plain": [
              "recommendations finished on 111000/192727 queries. users per second: 12275.2"
            ]
          },
          "metadata": {
            "tags": []
          }
        },
        {
          "output_type": "display_data",
          "data": {
            "text/html": [
              "<pre>recommendations finished on 112000/192727 queries. users per second: 12276.7</pre>"
            ],
            "text/plain": [
              "recommendations finished on 112000/192727 queries. users per second: 12276.7"
            ]
          },
          "metadata": {
            "tags": []
          }
        },
        {
          "output_type": "display_data",
          "data": {
            "text/html": [
              "<pre>recommendations finished on 113000/192727 queries. users per second: 12257.2</pre>"
            ],
            "text/plain": [
              "recommendations finished on 113000/192727 queries. users per second: 12257.2"
            ]
          },
          "metadata": {
            "tags": []
          }
        },
        {
          "output_type": "display_data",
          "data": {
            "text/html": [
              "<pre>recommendations finished on 114000/192727 queries. users per second: 12256.7</pre>"
            ],
            "text/plain": [
              "recommendations finished on 114000/192727 queries. users per second: 12256.7"
            ]
          },
          "metadata": {
            "tags": []
          }
        },
        {
          "output_type": "display_data",
          "data": {
            "text/html": [
              "<pre>recommendations finished on 115000/192727 queries. users per second: 12258.4</pre>"
            ],
            "text/plain": [
              "recommendations finished on 115000/192727 queries. users per second: 12258.4"
            ]
          },
          "metadata": {
            "tags": []
          }
        },
        {
          "output_type": "display_data",
          "data": {
            "text/html": [
              "<pre>recommendations finished on 116000/192727 queries. users per second: 12260.7</pre>"
            ],
            "text/plain": [
              "recommendations finished on 116000/192727 queries. users per second: 12260.7"
            ]
          },
          "metadata": {
            "tags": []
          }
        },
        {
          "output_type": "display_data",
          "data": {
            "text/html": [
              "<pre>recommendations finished on 117000/192727 queries. users per second: 12262.7</pre>"
            ],
            "text/plain": [
              "recommendations finished on 117000/192727 queries. users per second: 12262.7"
            ]
          },
          "metadata": {
            "tags": []
          }
        },
        {
          "output_type": "display_data",
          "data": {
            "text/html": [
              "<pre>recommendations finished on 118000/192727 queries. users per second: 12265.4</pre>"
            ],
            "text/plain": [
              "recommendations finished on 118000/192727 queries. users per second: 12265.4"
            ]
          },
          "metadata": {
            "tags": []
          }
        },
        {
          "output_type": "display_data",
          "data": {
            "text/html": [
              "<pre>recommendations finished on 119000/192727 queries. users per second: 12253.8</pre>"
            ],
            "text/plain": [
              "recommendations finished on 119000/192727 queries. users per second: 12253.8"
            ]
          },
          "metadata": {
            "tags": []
          }
        },
        {
          "output_type": "display_data",
          "data": {
            "text/html": [
              "<pre>recommendations finished on 120000/192727 queries. users per second: 12256.1</pre>"
            ],
            "text/plain": [
              "recommendations finished on 120000/192727 queries. users per second: 12256.1"
            ]
          },
          "metadata": {
            "tags": []
          }
        },
        {
          "output_type": "display_data",
          "data": {
            "text/html": [
              "<pre>recommendations finished on 121000/192727 queries. users per second: 12257.9</pre>"
            ],
            "text/plain": [
              "recommendations finished on 121000/192727 queries. users per second: 12257.9"
            ]
          },
          "metadata": {
            "tags": []
          }
        },
        {
          "output_type": "display_data",
          "data": {
            "text/html": [
              "<pre>recommendations finished on 122000/192727 queries. users per second: 12258.3</pre>"
            ],
            "text/plain": [
              "recommendations finished on 122000/192727 queries. users per second: 12258.3"
            ]
          },
          "metadata": {
            "tags": []
          }
        },
        {
          "output_type": "display_data",
          "data": {
            "text/html": [
              "<pre>recommendations finished on 123000/192727 queries. users per second: 12257.5</pre>"
            ],
            "text/plain": [
              "recommendations finished on 123000/192727 queries. users per second: 12257.5"
            ]
          },
          "metadata": {
            "tags": []
          }
        },
        {
          "output_type": "display_data",
          "data": {
            "text/html": [
              "<pre>recommendations finished on 124000/192727 queries. users per second: 12259.8</pre>"
            ],
            "text/plain": [
              "recommendations finished on 124000/192727 queries. users per second: 12259.8"
            ]
          },
          "metadata": {
            "tags": []
          }
        },
        {
          "output_type": "display_data",
          "data": {
            "text/html": [
              "<pre>recommendations finished on 125000/192727 queries. users per second: 12255.6</pre>"
            ],
            "text/plain": [
              "recommendations finished on 125000/192727 queries. users per second: 12255.6"
            ]
          },
          "metadata": {
            "tags": []
          }
        },
        {
          "output_type": "display_data",
          "data": {
            "text/html": [
              "<pre>recommendations finished on 126000/192727 queries. users per second: 12257.4</pre>"
            ],
            "text/plain": [
              "recommendations finished on 126000/192727 queries. users per second: 12257.4"
            ]
          },
          "metadata": {
            "tags": []
          }
        },
        {
          "output_type": "display_data",
          "data": {
            "text/html": [
              "<pre>recommendations finished on 127000/192727 queries. users per second: 12259.8</pre>"
            ],
            "text/plain": [
              "recommendations finished on 127000/192727 queries. users per second: 12259.8"
            ]
          },
          "metadata": {
            "tags": []
          }
        },
        {
          "output_type": "display_data",
          "data": {
            "text/html": [
              "<pre>recommendations finished on 128000/192727 queries. users per second: 12259.5</pre>"
            ],
            "text/plain": [
              "recommendations finished on 128000/192727 queries. users per second: 12259.5"
            ]
          },
          "metadata": {
            "tags": []
          }
        },
        {
          "output_type": "display_data",
          "data": {
            "text/html": [
              "<pre>recommendations finished on 129000/192727 queries. users per second: 12257.4</pre>"
            ],
            "text/plain": [
              "recommendations finished on 129000/192727 queries. users per second: 12257.4"
            ]
          },
          "metadata": {
            "tags": []
          }
        },
        {
          "output_type": "display_data",
          "data": {
            "text/html": [
              "<pre>recommendations finished on 130000/192727 queries. users per second: 12260.4</pre>"
            ],
            "text/plain": [
              "recommendations finished on 130000/192727 queries. users per second: 12260.4"
            ]
          },
          "metadata": {
            "tags": []
          }
        },
        {
          "output_type": "display_data",
          "data": {
            "text/html": [
              "<pre>recommendations finished on 131000/192727 queries. users per second: 12255.1</pre>"
            ],
            "text/plain": [
              "recommendations finished on 131000/192727 queries. users per second: 12255.1"
            ]
          },
          "metadata": {
            "tags": []
          }
        },
        {
          "output_type": "display_data",
          "data": {
            "text/html": [
              "<pre>recommendations finished on 132000/192727 queries. users per second: 12252.5</pre>"
            ],
            "text/plain": [
              "recommendations finished on 132000/192727 queries. users per second: 12252.5"
            ]
          },
          "metadata": {
            "tags": []
          }
        },
        {
          "output_type": "display_data",
          "data": {
            "text/html": [
              "<pre>recommendations finished on 133000/192727 queries. users per second: 12254.3</pre>"
            ],
            "text/plain": [
              "recommendations finished on 133000/192727 queries. users per second: 12254.3"
            ]
          },
          "metadata": {
            "tags": []
          }
        },
        {
          "output_type": "display_data",
          "data": {
            "text/html": [
              "<pre>recommendations finished on 134000/192727 queries. users per second: 12256.1</pre>"
            ],
            "text/plain": [
              "recommendations finished on 134000/192727 queries. users per second: 12256.1"
            ]
          },
          "metadata": {
            "tags": []
          }
        },
        {
          "output_type": "display_data",
          "data": {
            "text/html": [
              "<pre>recommendations finished on 135000/192727 queries. users per second: 12257.7</pre>"
            ],
            "text/plain": [
              "recommendations finished on 135000/192727 queries. users per second: 12257.7"
            ]
          },
          "metadata": {
            "tags": []
          }
        },
        {
          "output_type": "display_data",
          "data": {
            "text/html": [
              "<pre>recommendations finished on 136000/192727 queries. users per second: 12257.8</pre>"
            ],
            "text/plain": [
              "recommendations finished on 136000/192727 queries. users per second: 12257.8"
            ]
          },
          "metadata": {
            "tags": []
          }
        },
        {
          "output_type": "display_data",
          "data": {
            "text/html": [
              "<pre>recommendations finished on 137000/192727 queries. users per second: 12258.4</pre>"
            ],
            "text/plain": [
              "recommendations finished on 137000/192727 queries. users per second: 12258.4"
            ]
          },
          "metadata": {
            "tags": []
          }
        },
        {
          "output_type": "display_data",
          "data": {
            "text/html": [
              "<pre>recommendations finished on 138000/192727 queries. users per second: 12259.2</pre>"
            ],
            "text/plain": [
              "recommendations finished on 138000/192727 queries. users per second: 12259.2"
            ]
          },
          "metadata": {
            "tags": []
          }
        },
        {
          "output_type": "display_data",
          "data": {
            "text/html": [
              "<pre>recommendations finished on 139000/192727 queries. users per second: 12258.8</pre>"
            ],
            "text/plain": [
              "recommendations finished on 139000/192727 queries. users per second: 12258.8"
            ]
          },
          "metadata": {
            "tags": []
          }
        },
        {
          "output_type": "display_data",
          "data": {
            "text/html": [
              "<pre>recommendations finished on 140000/192727 queries. users per second: 12259.6</pre>"
            ],
            "text/plain": [
              "recommendations finished on 140000/192727 queries. users per second: 12259.6"
            ]
          },
          "metadata": {
            "tags": []
          }
        },
        {
          "output_type": "display_data",
          "data": {
            "text/html": [
              "<pre>recommendations finished on 141000/192727 queries. users per second: 12262.7</pre>"
            ],
            "text/plain": [
              "recommendations finished on 141000/192727 queries. users per second: 12262.7"
            ]
          },
          "metadata": {
            "tags": []
          }
        },
        {
          "output_type": "display_data",
          "data": {
            "text/html": [
              "<pre>recommendations finished on 142000/192727 queries. users per second: 12264.9</pre>"
            ],
            "text/plain": [
              "recommendations finished on 142000/192727 queries. users per second: 12264.9"
            ]
          },
          "metadata": {
            "tags": []
          }
        },
        {
          "output_type": "display_data",
          "data": {
            "text/html": [
              "<pre>recommendations finished on 143000/192727 queries. users per second: 12263.1</pre>"
            ],
            "text/plain": [
              "recommendations finished on 143000/192727 queries. users per second: 12263.1"
            ]
          },
          "metadata": {
            "tags": []
          }
        },
        {
          "output_type": "display_data",
          "data": {
            "text/html": [
              "<pre>recommendations finished on 144000/192727 queries. users per second: 12257.1</pre>"
            ],
            "text/plain": [
              "recommendations finished on 144000/192727 queries. users per second: 12257.1"
            ]
          },
          "metadata": {
            "tags": []
          }
        },
        {
          "output_type": "display_data",
          "data": {
            "text/html": [
              "<pre>recommendations finished on 145000/192727 queries. users per second: 12254.2</pre>"
            ],
            "text/plain": [
              "recommendations finished on 145000/192727 queries. users per second: 12254.2"
            ]
          },
          "metadata": {
            "tags": []
          }
        },
        {
          "output_type": "display_data",
          "data": {
            "text/html": [
              "<pre>recommendations finished on 146000/192727 queries. users per second: 12257</pre>"
            ],
            "text/plain": [
              "recommendations finished on 146000/192727 queries. users per second: 12257"
            ]
          },
          "metadata": {
            "tags": []
          }
        },
        {
          "output_type": "display_data",
          "data": {
            "text/html": [
              "<pre>recommendations finished on 147000/192727 queries. users per second: 12257</pre>"
            ],
            "text/plain": [
              "recommendations finished on 147000/192727 queries. users per second: 12257"
            ]
          },
          "metadata": {
            "tags": []
          }
        },
        {
          "output_type": "display_data",
          "data": {
            "text/html": [
              "<pre>recommendations finished on 148000/192727 queries. users per second: 12258</pre>"
            ],
            "text/plain": [
              "recommendations finished on 148000/192727 queries. users per second: 12258"
            ]
          },
          "metadata": {
            "tags": []
          }
        },
        {
          "output_type": "display_data",
          "data": {
            "text/html": [
              "<pre>recommendations finished on 149000/192727 queries. users per second: 12259.2</pre>"
            ],
            "text/plain": [
              "recommendations finished on 149000/192727 queries. users per second: 12259.2"
            ]
          },
          "metadata": {
            "tags": []
          }
        },
        {
          "output_type": "display_data",
          "data": {
            "text/html": [
              "<pre>recommendations finished on 150000/192727 queries. users per second: 12261.4</pre>"
            ],
            "text/plain": [
              "recommendations finished on 150000/192727 queries. users per second: 12261.4"
            ]
          },
          "metadata": {
            "tags": []
          }
        },
        {
          "output_type": "display_data",
          "data": {
            "text/html": [
              "<pre>recommendations finished on 151000/192727 queries. users per second: 12260</pre>"
            ],
            "text/plain": [
              "recommendations finished on 151000/192727 queries. users per second: 12260"
            ]
          },
          "metadata": {
            "tags": []
          }
        },
        {
          "output_type": "display_data",
          "data": {
            "text/html": [
              "<pre>recommendations finished on 152000/192727 queries. users per second: 12260.5</pre>"
            ],
            "text/plain": [
              "recommendations finished on 152000/192727 queries. users per second: 12260.5"
            ]
          },
          "metadata": {
            "tags": []
          }
        },
        {
          "output_type": "display_data",
          "data": {
            "text/html": [
              "<pre>recommendations finished on 153000/192727 queries. users per second: 12252.1</pre>"
            ],
            "text/plain": [
              "recommendations finished on 153000/192727 queries. users per second: 12252.1"
            ]
          },
          "metadata": {
            "tags": []
          }
        },
        {
          "output_type": "display_data",
          "data": {
            "text/html": [
              "<pre>recommendations finished on 154000/192727 queries. users per second: 12252.5</pre>"
            ],
            "text/plain": [
              "recommendations finished on 154000/192727 queries. users per second: 12252.5"
            ]
          },
          "metadata": {
            "tags": []
          }
        },
        {
          "output_type": "display_data",
          "data": {
            "text/html": [
              "<pre>recommendations finished on 155000/192727 queries. users per second: 12250.2</pre>"
            ],
            "text/plain": [
              "recommendations finished on 155000/192727 queries. users per second: 12250.2"
            ]
          },
          "metadata": {
            "tags": []
          }
        },
        {
          "output_type": "display_data",
          "data": {
            "text/html": [
              "<pre>recommendations finished on 156000/192727 queries. users per second: 12242</pre>"
            ],
            "text/plain": [
              "recommendations finished on 156000/192727 queries. users per second: 12242"
            ]
          },
          "metadata": {
            "tags": []
          }
        },
        {
          "output_type": "display_data",
          "data": {
            "text/html": [
              "<pre>recommendations finished on 157000/192727 queries. users per second: 12240</pre>"
            ],
            "text/plain": [
              "recommendations finished on 157000/192727 queries. users per second: 12240"
            ]
          },
          "metadata": {
            "tags": []
          }
        },
        {
          "output_type": "display_data",
          "data": {
            "text/html": [
              "<pre>recommendations finished on 158000/192727 queries. users per second: 12224.7</pre>"
            ],
            "text/plain": [
              "recommendations finished on 158000/192727 queries. users per second: 12224.7"
            ]
          },
          "metadata": {
            "tags": []
          }
        },
        {
          "output_type": "display_data",
          "data": {
            "text/html": [
              "<pre>recommendations finished on 159000/192727 queries. users per second: 12219.4</pre>"
            ],
            "text/plain": [
              "recommendations finished on 159000/192727 queries. users per second: 12219.4"
            ]
          },
          "metadata": {
            "tags": []
          }
        },
        {
          "output_type": "display_data",
          "data": {
            "text/html": [
              "<pre>recommendations finished on 160000/192727 queries. users per second: 12215.3</pre>"
            ],
            "text/plain": [
              "recommendations finished on 160000/192727 queries. users per second: 12215.3"
            ]
          },
          "metadata": {
            "tags": []
          }
        },
        {
          "output_type": "display_data",
          "data": {
            "text/html": [
              "<pre>recommendations finished on 161000/192727 queries. users per second: 12212.7</pre>"
            ],
            "text/plain": [
              "recommendations finished on 161000/192727 queries. users per second: 12212.7"
            ]
          },
          "metadata": {
            "tags": []
          }
        },
        {
          "output_type": "display_data",
          "data": {
            "text/html": [
              "<pre>recommendations finished on 162000/192727 queries. users per second: 12213.7</pre>"
            ],
            "text/plain": [
              "recommendations finished on 162000/192727 queries. users per second: 12213.7"
            ]
          },
          "metadata": {
            "tags": []
          }
        },
        {
          "output_type": "display_data",
          "data": {
            "text/html": [
              "<pre>recommendations finished on 163000/192727 queries. users per second: 12215.4</pre>"
            ],
            "text/plain": [
              "recommendations finished on 163000/192727 queries. users per second: 12215.4"
            ]
          },
          "metadata": {
            "tags": []
          }
        },
        {
          "output_type": "display_data",
          "data": {
            "text/html": [
              "<pre>recommendations finished on 164000/192727 queries. users per second: 12216.2</pre>"
            ],
            "text/plain": [
              "recommendations finished on 164000/192727 queries. users per second: 12216.2"
            ]
          },
          "metadata": {
            "tags": []
          }
        },
        {
          "output_type": "display_data",
          "data": {
            "text/html": [
              "<pre>recommendations finished on 165000/192727 queries. users per second: 12212.6</pre>"
            ],
            "text/plain": [
              "recommendations finished on 165000/192727 queries. users per second: 12212.6"
            ]
          },
          "metadata": {
            "tags": []
          }
        },
        {
          "output_type": "display_data",
          "data": {
            "text/html": [
              "<pre>recommendations finished on 166000/192727 queries. users per second: 12213.8</pre>"
            ],
            "text/plain": [
              "recommendations finished on 166000/192727 queries. users per second: 12213.8"
            ]
          },
          "metadata": {
            "tags": []
          }
        },
        {
          "output_type": "display_data",
          "data": {
            "text/html": [
              "<pre>recommendations finished on 167000/192727 queries. users per second: 12215.8</pre>"
            ],
            "text/plain": [
              "recommendations finished on 167000/192727 queries. users per second: 12215.8"
            ]
          },
          "metadata": {
            "tags": []
          }
        },
        {
          "output_type": "display_data",
          "data": {
            "text/html": [
              "<pre>recommendations finished on 168000/192727 queries. users per second: 12211.7</pre>"
            ],
            "text/plain": [
              "recommendations finished on 168000/192727 queries. users per second: 12211.7"
            ]
          },
          "metadata": {
            "tags": []
          }
        },
        {
          "output_type": "display_data",
          "data": {
            "text/html": [
              "<pre>recommendations finished on 169000/192727 queries. users per second: 12210.8</pre>"
            ],
            "text/plain": [
              "recommendations finished on 169000/192727 queries. users per second: 12210.8"
            ]
          },
          "metadata": {
            "tags": []
          }
        },
        {
          "output_type": "display_data",
          "data": {
            "text/html": [
              "<pre>recommendations finished on 170000/192727 queries. users per second: 12211.4</pre>"
            ],
            "text/plain": [
              "recommendations finished on 170000/192727 queries. users per second: 12211.4"
            ]
          },
          "metadata": {
            "tags": []
          }
        },
        {
          "output_type": "display_data",
          "data": {
            "text/html": [
              "<pre>recommendations finished on 171000/192727 queries. users per second: 12212</pre>"
            ],
            "text/plain": [
              "recommendations finished on 171000/192727 queries. users per second: 12212"
            ]
          },
          "metadata": {
            "tags": []
          }
        },
        {
          "output_type": "display_data",
          "data": {
            "text/html": [
              "<pre>recommendations finished on 172000/192727 queries. users per second: 12212.4</pre>"
            ],
            "text/plain": [
              "recommendations finished on 172000/192727 queries. users per second: 12212.4"
            ]
          },
          "metadata": {
            "tags": []
          }
        },
        {
          "output_type": "display_data",
          "data": {
            "text/html": [
              "<pre>recommendations finished on 173000/192727 queries. users per second: 12213.8</pre>"
            ],
            "text/plain": [
              "recommendations finished on 173000/192727 queries. users per second: 12213.8"
            ]
          },
          "metadata": {
            "tags": []
          }
        },
        {
          "output_type": "display_data",
          "data": {
            "text/html": [
              "<pre>recommendations finished on 174000/192727 queries. users per second: 12215.5</pre>"
            ],
            "text/plain": [
              "recommendations finished on 174000/192727 queries. users per second: 12215.5"
            ]
          },
          "metadata": {
            "tags": []
          }
        },
        {
          "output_type": "display_data",
          "data": {
            "text/html": [
              "<pre>recommendations finished on 175000/192727 queries. users per second: 12213.8</pre>"
            ],
            "text/plain": [
              "recommendations finished on 175000/192727 queries. users per second: 12213.8"
            ]
          },
          "metadata": {
            "tags": []
          }
        },
        {
          "output_type": "display_data",
          "data": {
            "text/html": [
              "<pre>recommendations finished on 176000/192727 queries. users per second: 12213.7</pre>"
            ],
            "text/plain": [
              "recommendations finished on 176000/192727 queries. users per second: 12213.7"
            ]
          },
          "metadata": {
            "tags": []
          }
        },
        {
          "output_type": "display_data",
          "data": {
            "text/html": [
              "<pre>recommendations finished on 177000/192727 queries. users per second: 12214.3</pre>"
            ],
            "text/plain": [
              "recommendations finished on 177000/192727 queries. users per second: 12214.3"
            ]
          },
          "metadata": {
            "tags": []
          }
        },
        {
          "output_type": "display_data",
          "data": {
            "text/html": [
              "<pre>recommendations finished on 178000/192727 queries. users per second: 12215.5</pre>"
            ],
            "text/plain": [
              "recommendations finished on 178000/192727 queries. users per second: 12215.5"
            ]
          },
          "metadata": {
            "tags": []
          }
        },
        {
          "output_type": "display_data",
          "data": {
            "text/html": [
              "<pre>recommendations finished on 179000/192727 queries. users per second: 12217.9</pre>"
            ],
            "text/plain": [
              "recommendations finished on 179000/192727 queries. users per second: 12217.9"
            ]
          },
          "metadata": {
            "tags": []
          }
        },
        {
          "output_type": "display_data",
          "data": {
            "text/html": [
              "<pre>recommendations finished on 180000/192727 queries. users per second: 12217.6</pre>"
            ],
            "text/plain": [
              "recommendations finished on 180000/192727 queries. users per second: 12217.6"
            ]
          },
          "metadata": {
            "tags": []
          }
        },
        {
          "output_type": "display_data",
          "data": {
            "text/html": [
              "<pre>recommendations finished on 181000/192727 queries. users per second: 12212.9</pre>"
            ],
            "text/plain": [
              "recommendations finished on 181000/192727 queries. users per second: 12212.9"
            ]
          },
          "metadata": {
            "tags": []
          }
        },
        {
          "output_type": "display_data",
          "data": {
            "text/html": [
              "<pre>recommendations finished on 182000/192727 queries. users per second: 12214.8</pre>"
            ],
            "text/plain": [
              "recommendations finished on 182000/192727 queries. users per second: 12214.8"
            ]
          },
          "metadata": {
            "tags": []
          }
        },
        {
          "output_type": "display_data",
          "data": {
            "text/html": [
              "<pre>recommendations finished on 183000/192727 queries. users per second: 12213.7</pre>"
            ],
            "text/plain": [
              "recommendations finished on 183000/192727 queries. users per second: 12213.7"
            ]
          },
          "metadata": {
            "tags": []
          }
        },
        {
          "output_type": "display_data",
          "data": {
            "text/html": [
              "<pre>recommendations finished on 184000/192727 queries. users per second: 12215.2</pre>"
            ],
            "text/plain": [
              "recommendations finished on 184000/192727 queries. users per second: 12215.2"
            ]
          },
          "metadata": {
            "tags": []
          }
        },
        {
          "output_type": "display_data",
          "data": {
            "text/html": [
              "<pre>recommendations finished on 185000/192727 queries. users per second: 12213</pre>"
            ],
            "text/plain": [
              "recommendations finished on 185000/192727 queries. users per second: 12213"
            ]
          },
          "metadata": {
            "tags": []
          }
        },
        {
          "output_type": "display_data",
          "data": {
            "text/html": [
              "<pre>recommendations finished on 186000/192727 queries. users per second: 12214.6</pre>"
            ],
            "text/plain": [
              "recommendations finished on 186000/192727 queries. users per second: 12214.6"
            ]
          },
          "metadata": {
            "tags": []
          }
        },
        {
          "output_type": "display_data",
          "data": {
            "text/html": [
              "<pre>recommendations finished on 187000/192727 queries. users per second: 12213.6</pre>"
            ],
            "text/plain": [
              "recommendations finished on 187000/192727 queries. users per second: 12213.6"
            ]
          },
          "metadata": {
            "tags": []
          }
        },
        {
          "output_type": "display_data",
          "data": {
            "text/html": [
              "<pre>recommendations finished on 188000/192727 queries. users per second: 12214</pre>"
            ],
            "text/plain": [
              "recommendations finished on 188000/192727 queries. users per second: 12214"
            ]
          },
          "metadata": {
            "tags": []
          }
        },
        {
          "output_type": "display_data",
          "data": {
            "text/html": [
              "<pre>recommendations finished on 189000/192727 queries. users per second: 12215.3</pre>"
            ],
            "text/plain": [
              "recommendations finished on 189000/192727 queries. users per second: 12215.3"
            ]
          },
          "metadata": {
            "tags": []
          }
        },
        {
          "output_type": "display_data",
          "data": {
            "text/html": [
              "<pre>recommendations finished on 190000/192727 queries. users per second: 12216.8</pre>"
            ],
            "text/plain": [
              "recommendations finished on 190000/192727 queries. users per second: 12216.8"
            ]
          },
          "metadata": {
            "tags": []
          }
        },
        {
          "output_type": "display_data",
          "data": {
            "text/html": [
              "<pre>recommendations finished on 191000/192727 queries. users per second: 12208.6</pre>"
            ],
            "text/plain": [
              "recommendations finished on 191000/192727 queries. users per second: 12208.6"
            ]
          },
          "metadata": {
            "tags": []
          }
        },
        {
          "output_type": "display_data",
          "data": {
            "text/html": [
              "<pre>recommendations finished on 192000/192727 queries. users per second: 12202.9</pre>"
            ],
            "text/plain": [
              "recommendations finished on 192000/192727 queries. users per second: 12202.9"
            ]
          },
          "metadata": {
            "tags": []
          }
        },
        {
          "output_type": "stream",
          "text": [
            "+------------+-----------+--------+------+\n",
            "| customerId | productId | score  | rank |\n",
            "+------------+-----------+--------+------+\n",
            "|    254     |   83485   | 381.75 |  1   |\n",
            "|    254     |   83486   | 305.0  |  2   |\n",
            "|    254     |   80883   | 275.0  |  3   |\n",
            "|    254     |   95155   | 240.0  |  4   |\n",
            "|    254     |   63617   | 240.0  |  5   |\n",
            "|    254     |   79595   | 206.0  |  6   |\n",
            "|    254     |   88389   | 200.0  |  7   |\n",
            "|    254     |   73531   | 200.0  |  8   |\n",
            "|    254     |   47504   | 200.0  |  9   |\n",
            "|    254     |   47474   | 180.0  |  10  |\n",
            "|    3372    |   83485   | 381.75 |  1   |\n",
            "|    3372    |   83486   | 305.0  |  2   |\n",
            "|    3372    |   80883   | 275.0  |  3   |\n",
            "|    3372    |   95155   | 240.0  |  4   |\n",
            "|    3372    |   63617   | 240.0  |  5   |\n",
            "|    3372    |   79595   | 206.0  |  6   |\n",
            "|    3372    |   88389   | 200.0  |  7   |\n",
            "|    3372    |   73531   | 200.0  |  8   |\n",
            "|    3372    |   47504   | 200.0  |  9   |\n",
            "|    3372    |   47474   | 180.0  |  10  |\n",
            "|   203854   |   83485   | 381.75 |  1   |\n",
            "|   203854   |   83486   | 305.0  |  2   |\n",
            "|   203854   |   80883   | 275.0  |  3   |\n",
            "|   203854   |   95155   | 240.0  |  4   |\n",
            "|   203854   |   63617   | 240.0  |  5   |\n",
            "|   203854   |   79595   | 206.0  |  6   |\n",
            "|   203854   |   88389   | 200.0  |  7   |\n",
            "|   203854   |   73531   | 200.0  |  8   |\n",
            "|   203854   |   47504   | 200.0  |  9   |\n",
            "|   203854   |   47474   | 180.0  |  10  |\n",
            "+------------+-----------+--------+------+\n",
            "[1927270 rows x 4 columns]\n",
            "\n"
          ],
          "name": "stdout"
        }
      ]
    },
    {
      "cell_type": "markdown",
      "metadata": {
        "id": "wYsxW-PkMf61"
      },
      "source": [
        "##Resultado final 2)Modelo com Similaridade do cosseno"
      ]
    },
    {
      "cell_type": "code",
      "metadata": {
        "colab": {
          "base_uri": "https://localhost:8080/",
          "height": 1000
        },
        "id": "hSeZEOSr1hhx",
        "outputId": "336b26c0-5fda-4823-d8a4-9a8b8c058035"
      },
      "source": [
        "\n",
        "#users_to_recommend = list(userId) ##Selecionar clientes que já compraram\n",
        "\n",
        "final_model_sim = tc.item_similarity_recommender.create(tc.SFrame(data), \n",
        "                                            user_id=user_id, \n",
        "                                            item_id=item_id, \n",
        "                                            target='purchase_count', \n",
        "                                            similarity_type='cosine')\n",
        "\n",
        "recom_sim = final_model_sim.recommend(users=users_to_recommend_sim, k=n_rec)\n",
        "recom_sim.print_rows(n_display)\n",
        "\n",
        "len(users_to_recommend_sim)"
      ],
      "execution_count": 18,
      "outputs": [
        {
          "output_type": "display_data",
          "data": {
            "text/html": [
              "<pre>Preparing data set.</pre>"
            ],
            "text/plain": [
              "Preparing data set."
            ]
          },
          "metadata": {
            "tags": []
          }
        },
        {
          "output_type": "display_data",
          "data": {
            "text/html": [
              "<pre>    Data has 42217 observations with 20088 users and 11170 items.</pre>"
            ],
            "text/plain": [
              "    Data has 42217 observations with 20088 users and 11170 items."
            ]
          },
          "metadata": {
            "tags": []
          }
        },
        {
          "output_type": "display_data",
          "data": {
            "text/html": [
              "<pre>    Data prepared in: 0.05578s</pre>"
            ],
            "text/plain": [
              "    Data prepared in: 0.05578s"
            ]
          },
          "metadata": {
            "tags": []
          }
        },
        {
          "output_type": "display_data",
          "data": {
            "text/html": [
              "<pre>Training model from provided data.</pre>"
            ],
            "text/plain": [
              "Training model from provided data."
            ]
          },
          "metadata": {
            "tags": []
          }
        },
        {
          "output_type": "display_data",
          "data": {
            "text/html": [
              "<pre>Gathering per-item and per-user statistics.</pre>"
            ],
            "text/plain": [
              "Gathering per-item and per-user statistics."
            ]
          },
          "metadata": {
            "tags": []
          }
        },
        {
          "output_type": "display_data",
          "data": {
            "text/html": [
              "<pre>+--------------------------------+------------+</pre>"
            ],
            "text/plain": [
              "+--------------------------------+------------+"
            ]
          },
          "metadata": {
            "tags": []
          }
        },
        {
          "output_type": "display_data",
          "data": {
            "text/html": [
              "<pre>| Elapsed Time (Item Statistics) | % Complete |</pre>"
            ],
            "text/plain": [
              "| Elapsed Time (Item Statistics) | % Complete |"
            ]
          },
          "metadata": {
            "tags": []
          }
        },
        {
          "output_type": "display_data",
          "data": {
            "text/html": [
              "<pre>+--------------------------------+------------+</pre>"
            ],
            "text/plain": [
              "+--------------------------------+------------+"
            ]
          },
          "metadata": {
            "tags": []
          }
        },
        {
          "output_type": "display_data",
          "data": {
            "text/html": [
              "<pre>| 875us                          | 4.75       |</pre>"
            ],
            "text/plain": [
              "| 875us                          | 4.75       |"
            ]
          },
          "metadata": {
            "tags": []
          }
        },
        {
          "output_type": "display_data",
          "data": {
            "text/html": [
              "<pre>| 14.493ms                       | 100        |</pre>"
            ],
            "text/plain": [
              "| 14.493ms                       | 100        |"
            ]
          },
          "metadata": {
            "tags": []
          }
        },
        {
          "output_type": "display_data",
          "data": {
            "text/html": [
              "<pre>+--------------------------------+------------+</pre>"
            ],
            "text/plain": [
              "+--------------------------------+------------+"
            ]
          },
          "metadata": {
            "tags": []
          }
        },
        {
          "output_type": "display_data",
          "data": {
            "text/html": [
              "<pre>Setting up lookup tables.</pre>"
            ],
            "text/plain": [
              "Setting up lookup tables."
            ]
          },
          "metadata": {
            "tags": []
          }
        },
        {
          "output_type": "display_data",
          "data": {
            "text/html": [
              "<pre>Processing data in one pass using dense lookup tables.</pre>"
            ],
            "text/plain": [
              "Processing data in one pass using dense lookup tables."
            ]
          },
          "metadata": {
            "tags": []
          }
        },
        {
          "output_type": "display_data",
          "data": {
            "text/html": [
              "<pre>+-------------------------------------+------------------+-----------------+</pre>"
            ],
            "text/plain": [
              "+-------------------------------------+------------------+-----------------+"
            ]
          },
          "metadata": {
            "tags": []
          }
        },
        {
          "output_type": "display_data",
          "data": {
            "text/html": [
              "<pre>| Elapsed Time (Constructing Lookups) | Total % Complete | Items Processed |</pre>"
            ],
            "text/plain": [
              "| Elapsed Time (Constructing Lookups) | Total % Complete | Items Processed |"
            ]
          },
          "metadata": {
            "tags": []
          }
        },
        {
          "output_type": "display_data",
          "data": {
            "text/html": [
              "<pre>+-------------------------------------+------------------+-----------------+</pre>"
            ],
            "text/plain": [
              "+-------------------------------------+------------------+-----------------+"
            ]
          },
          "metadata": {
            "tags": []
          }
        },
        {
          "output_type": "display_data",
          "data": {
            "text/html": [
              "<pre>| 415.211ms                           | 0                | 0               |</pre>"
            ],
            "text/plain": [
              "| 415.211ms                           | 0                | 0               |"
            ]
          },
          "metadata": {
            "tags": []
          }
        },
        {
          "output_type": "display_data",
          "data": {
            "text/html": [
              "<pre>| 1.61s                               | 100              | 11170           |</pre>"
            ],
            "text/plain": [
              "| 1.61s                               | 100              | 11170           |"
            ]
          },
          "metadata": {
            "tags": []
          }
        },
        {
          "output_type": "display_data",
          "data": {
            "text/html": [
              "<pre>+-------------------------------------+------------------+-----------------+</pre>"
            ],
            "text/plain": [
              "+-------------------------------------+------------------+-----------------+"
            ]
          },
          "metadata": {
            "tags": []
          }
        },
        {
          "output_type": "display_data",
          "data": {
            "text/html": [
              "<pre>Finalizing lookup tables.</pre>"
            ],
            "text/plain": [
              "Finalizing lookup tables."
            ]
          },
          "metadata": {
            "tags": []
          }
        },
        {
          "output_type": "display_data",
          "data": {
            "text/html": [
              "<pre>Generating candidate set for working with new users.</pre>"
            ],
            "text/plain": [
              "Generating candidate set for working with new users."
            ]
          },
          "metadata": {
            "tags": []
          }
        },
        {
          "output_type": "display_data",
          "data": {
            "text/html": [
              "<pre>Finished training in 1.64245s</pre>"
            ],
            "text/plain": [
              "Finished training in 1.64245s"
            ]
          },
          "metadata": {
            "tags": []
          }
        },
        {
          "output_type": "display_data",
          "data": {
            "text/html": [
              "<pre>recommendations finished on 1000/42217 queries. users per second: 9217.61</pre>"
            ],
            "text/plain": [
              "recommendations finished on 1000/42217 queries. users per second: 9217.61"
            ]
          },
          "metadata": {
            "tags": []
          }
        },
        {
          "output_type": "display_data",
          "data": {
            "text/html": [
              "<pre>recommendations finished on 2000/42217 queries. users per second: 8868.12</pre>"
            ],
            "text/plain": [
              "recommendations finished on 2000/42217 queries. users per second: 8868.12"
            ]
          },
          "metadata": {
            "tags": []
          }
        },
        {
          "output_type": "display_data",
          "data": {
            "text/html": [
              "<pre>recommendations finished on 3000/42217 queries. users per second: 8884.41</pre>"
            ],
            "text/plain": [
              "recommendations finished on 3000/42217 queries. users per second: 8884.41"
            ]
          },
          "metadata": {
            "tags": []
          }
        },
        {
          "output_type": "display_data",
          "data": {
            "text/html": [
              "<pre>recommendations finished on 4000/42217 queries. users per second: 8862.71</pre>"
            ],
            "text/plain": [
              "recommendations finished on 4000/42217 queries. users per second: 8862.71"
            ]
          },
          "metadata": {
            "tags": []
          }
        },
        {
          "output_type": "display_data",
          "data": {
            "text/html": [
              "<pre>recommendations finished on 5000/42217 queries. users per second: 8812.96</pre>"
            ],
            "text/plain": [
              "recommendations finished on 5000/42217 queries. users per second: 8812.96"
            ]
          },
          "metadata": {
            "tags": []
          }
        },
        {
          "output_type": "display_data",
          "data": {
            "text/html": [
              "<pre>recommendations finished on 6000/42217 queries. users per second: 8832.53</pre>"
            ],
            "text/plain": [
              "recommendations finished on 6000/42217 queries. users per second: 8832.53"
            ]
          },
          "metadata": {
            "tags": []
          }
        },
        {
          "output_type": "display_data",
          "data": {
            "text/html": [
              "<pre>recommendations finished on 7000/42217 queries. users per second: 8841.02</pre>"
            ],
            "text/plain": [
              "recommendations finished on 7000/42217 queries. users per second: 8841.02"
            ]
          },
          "metadata": {
            "tags": []
          }
        },
        {
          "output_type": "display_data",
          "data": {
            "text/html": [
              "<pre>recommendations finished on 8000/42217 queries. users per second: 8850.33</pre>"
            ],
            "text/plain": [
              "recommendations finished on 8000/42217 queries. users per second: 8850.33"
            ]
          },
          "metadata": {
            "tags": []
          }
        },
        {
          "output_type": "display_data",
          "data": {
            "text/html": [
              "<pre>recommendations finished on 9000/42217 queries. users per second: 8766.49</pre>"
            ],
            "text/plain": [
              "recommendations finished on 9000/42217 queries. users per second: 8766.49"
            ]
          },
          "metadata": {
            "tags": []
          }
        },
        {
          "output_type": "display_data",
          "data": {
            "text/html": [
              "<pre>recommendations finished on 10000/42217 queries. users per second: 8721.51</pre>"
            ],
            "text/plain": [
              "recommendations finished on 10000/42217 queries. users per second: 8721.51"
            ]
          },
          "metadata": {
            "tags": []
          }
        },
        {
          "output_type": "display_data",
          "data": {
            "text/html": [
              "<pre>recommendations finished on 11000/42217 queries. users per second: 8347.05</pre>"
            ],
            "text/plain": [
              "recommendations finished on 11000/42217 queries. users per second: 8347.05"
            ]
          },
          "metadata": {
            "tags": []
          }
        },
        {
          "output_type": "display_data",
          "data": {
            "text/html": [
              "<pre>recommendations finished on 12000/42217 queries. users per second: 8043.14</pre>"
            ],
            "text/plain": [
              "recommendations finished on 12000/42217 queries. users per second: 8043.14"
            ]
          },
          "metadata": {
            "tags": []
          }
        },
        {
          "output_type": "display_data",
          "data": {
            "text/html": [
              "<pre>recommendations finished on 13000/42217 queries. users per second: 7794.96</pre>"
            ],
            "text/plain": [
              "recommendations finished on 13000/42217 queries. users per second: 7794.96"
            ]
          },
          "metadata": {
            "tags": []
          }
        },
        {
          "output_type": "display_data",
          "data": {
            "text/html": [
              "<pre>recommendations finished on 14000/42217 queries. users per second: 7580.36</pre>"
            ],
            "text/plain": [
              "recommendations finished on 14000/42217 queries. users per second: 7580.36"
            ]
          },
          "metadata": {
            "tags": []
          }
        },
        {
          "output_type": "display_data",
          "data": {
            "text/html": [
              "<pre>recommendations finished on 15000/42217 queries. users per second: 7375.59</pre>"
            ],
            "text/plain": [
              "recommendations finished on 15000/42217 queries. users per second: 7375.59"
            ]
          },
          "metadata": {
            "tags": []
          }
        },
        {
          "output_type": "display_data",
          "data": {
            "text/html": [
              "<pre>recommendations finished on 16000/42217 queries. users per second: 7209.41</pre>"
            ],
            "text/plain": [
              "recommendations finished on 16000/42217 queries. users per second: 7209.41"
            ]
          },
          "metadata": {
            "tags": []
          }
        },
        {
          "output_type": "display_data",
          "data": {
            "text/html": [
              "<pre>recommendations finished on 17000/42217 queries. users per second: 7086.91</pre>"
            ],
            "text/plain": [
              "recommendations finished on 17000/42217 queries. users per second: 7086.91"
            ]
          },
          "metadata": {
            "tags": []
          }
        },
        {
          "output_type": "display_data",
          "data": {
            "text/html": [
              "<pre>recommendations finished on 18000/42217 queries. users per second: 7090.51</pre>"
            ],
            "text/plain": [
              "recommendations finished on 18000/42217 queries. users per second: 7090.51"
            ]
          },
          "metadata": {
            "tags": []
          }
        },
        {
          "output_type": "display_data",
          "data": {
            "text/html": [
              "<pre>recommendations finished on 19000/42217 queries. users per second: 7148.1</pre>"
            ],
            "text/plain": [
              "recommendations finished on 19000/42217 queries. users per second: 7148.1"
            ]
          },
          "metadata": {
            "tags": []
          }
        },
        {
          "output_type": "display_data",
          "data": {
            "text/html": [
              "<pre>recommendations finished on 20000/42217 queries. users per second: 7202.83</pre>"
            ],
            "text/plain": [
              "recommendations finished on 20000/42217 queries. users per second: 7202.83"
            ]
          },
          "metadata": {
            "tags": []
          }
        },
        {
          "output_type": "display_data",
          "data": {
            "text/html": [
              "<pre>recommendations finished on 21000/42217 queries. users per second: 7252.44</pre>"
            ],
            "text/plain": [
              "recommendations finished on 21000/42217 queries. users per second: 7252.44"
            ]
          },
          "metadata": {
            "tags": []
          }
        },
        {
          "output_type": "display_data",
          "data": {
            "text/html": [
              "<pre>recommendations finished on 22000/42217 queries. users per second: 7299.94</pre>"
            ],
            "text/plain": [
              "recommendations finished on 22000/42217 queries. users per second: 7299.94"
            ]
          },
          "metadata": {
            "tags": []
          }
        },
        {
          "output_type": "display_data",
          "data": {
            "text/html": [
              "<pre>recommendations finished on 23000/42217 queries. users per second: 7335.5</pre>"
            ],
            "text/plain": [
              "recommendations finished on 23000/42217 queries. users per second: 7335.5"
            ]
          },
          "metadata": {
            "tags": []
          }
        },
        {
          "output_type": "display_data",
          "data": {
            "text/html": [
              "<pre>recommendations finished on 24000/42217 queries. users per second: 7358.08</pre>"
            ],
            "text/plain": [
              "recommendations finished on 24000/42217 queries. users per second: 7358.08"
            ]
          },
          "metadata": {
            "tags": []
          }
        },
        {
          "output_type": "display_data",
          "data": {
            "text/html": [
              "<pre>recommendations finished on 25000/42217 queries. users per second: 7390.64</pre>"
            ],
            "text/plain": [
              "recommendations finished on 25000/42217 queries. users per second: 7390.64"
            ]
          },
          "metadata": {
            "tags": []
          }
        },
        {
          "output_type": "display_data",
          "data": {
            "text/html": [
              "<pre>recommendations finished on 26000/42217 queries. users per second: 7415.23</pre>"
            ],
            "text/plain": [
              "recommendations finished on 26000/42217 queries. users per second: 7415.23"
            ]
          },
          "metadata": {
            "tags": []
          }
        },
        {
          "output_type": "display_data",
          "data": {
            "text/html": [
              "<pre>recommendations finished on 27000/42217 queries. users per second: 7443.79</pre>"
            ],
            "text/plain": [
              "recommendations finished on 27000/42217 queries. users per second: 7443.79"
            ]
          },
          "metadata": {
            "tags": []
          }
        },
        {
          "output_type": "display_data",
          "data": {
            "text/html": [
              "<pre>recommendations finished on 28000/42217 queries. users per second: 7467.26</pre>"
            ],
            "text/plain": [
              "recommendations finished on 28000/42217 queries. users per second: 7467.26"
            ]
          },
          "metadata": {
            "tags": []
          }
        },
        {
          "output_type": "display_data",
          "data": {
            "text/html": [
              "<pre>recommendations finished on 29000/42217 queries. users per second: 7498.45</pre>"
            ],
            "text/plain": [
              "recommendations finished on 29000/42217 queries. users per second: 7498.45"
            ]
          },
          "metadata": {
            "tags": []
          }
        },
        {
          "output_type": "display_data",
          "data": {
            "text/html": [
              "<pre>recommendations finished on 30000/42217 queries. users per second: 7525.25</pre>"
            ],
            "text/plain": [
              "recommendations finished on 30000/42217 queries. users per second: 7525.25"
            ]
          },
          "metadata": {
            "tags": []
          }
        },
        {
          "output_type": "display_data",
          "data": {
            "text/html": [
              "<pre>recommendations finished on 31000/42217 queries. users per second: 7558</pre>"
            ],
            "text/plain": [
              "recommendations finished on 31000/42217 queries. users per second: 7558"
            ]
          },
          "metadata": {
            "tags": []
          }
        },
        {
          "output_type": "display_data",
          "data": {
            "text/html": [
              "<pre>recommendations finished on 32000/42217 queries. users per second: 7567.46</pre>"
            ],
            "text/plain": [
              "recommendations finished on 32000/42217 queries. users per second: 7567.46"
            ]
          },
          "metadata": {
            "tags": []
          }
        },
        {
          "output_type": "display_data",
          "data": {
            "text/html": [
              "<pre>recommendations finished on 33000/42217 queries. users per second: 7573.62</pre>"
            ],
            "text/plain": [
              "recommendations finished on 33000/42217 queries. users per second: 7573.62"
            ]
          },
          "metadata": {
            "tags": []
          }
        },
        {
          "output_type": "display_data",
          "data": {
            "text/html": [
              "<pre>recommendations finished on 34000/42217 queries. users per second: 7594.6</pre>"
            ],
            "text/plain": [
              "recommendations finished on 34000/42217 queries. users per second: 7594.6"
            ]
          },
          "metadata": {
            "tags": []
          }
        },
        {
          "output_type": "display_data",
          "data": {
            "text/html": [
              "<pre>recommendations finished on 35000/42217 queries. users per second: 7613.57</pre>"
            ],
            "text/plain": [
              "recommendations finished on 35000/42217 queries. users per second: 7613.57"
            ]
          },
          "metadata": {
            "tags": []
          }
        },
        {
          "output_type": "display_data",
          "data": {
            "text/html": [
              "<pre>recommendations finished on 36000/42217 queries. users per second: 7629.43</pre>"
            ],
            "text/plain": [
              "recommendations finished on 36000/42217 queries. users per second: 7629.43"
            ]
          },
          "metadata": {
            "tags": []
          }
        },
        {
          "output_type": "display_data",
          "data": {
            "text/html": [
              "<pre>recommendations finished on 37000/42217 queries. users per second: 7633.42</pre>"
            ],
            "text/plain": [
              "recommendations finished on 37000/42217 queries. users per second: 7633.42"
            ]
          },
          "metadata": {
            "tags": []
          }
        },
        {
          "output_type": "display_data",
          "data": {
            "text/html": [
              "<pre>recommendations finished on 38000/42217 queries. users per second: 7629.43</pre>"
            ],
            "text/plain": [
              "recommendations finished on 38000/42217 queries. users per second: 7629.43"
            ]
          },
          "metadata": {
            "tags": []
          }
        },
        {
          "output_type": "display_data",
          "data": {
            "text/html": [
              "<pre>recommendations finished on 39000/42217 queries. users per second: 7626.74</pre>"
            ],
            "text/plain": [
              "recommendations finished on 39000/42217 queries. users per second: 7626.74"
            ]
          },
          "metadata": {
            "tags": []
          }
        },
        {
          "output_type": "display_data",
          "data": {
            "text/html": [
              "<pre>recommendations finished on 40000/42217 queries. users per second: 7630.53</pre>"
            ],
            "text/plain": [
              "recommendations finished on 40000/42217 queries. users per second: 7630.53"
            ]
          },
          "metadata": {
            "tags": []
          }
        },
        {
          "output_type": "display_data",
          "data": {
            "text/html": [
              "<pre>recommendations finished on 41000/42217 queries. users per second: 7620.71</pre>"
            ],
            "text/plain": [
              "recommendations finished on 41000/42217 queries. users per second: 7620.71"
            ]
          },
          "metadata": {
            "tags": []
          }
        },
        {
          "output_type": "display_data",
          "data": {
            "text/html": [
              "<pre>recommendations finished on 42000/42217 queries. users per second: 7615.09</pre>"
            ],
            "text/plain": [
              "recommendations finished on 42000/42217 queries. users per second: 7615.09"
            ]
          },
          "metadata": {
            "tags": []
          }
        },
        {
          "output_type": "stream",
          "text": [
            "+------------+-----------+---------------------+------+\n",
            "| customerId | productId |        score        | rank |\n",
            "+------------+-----------+---------------------+------+\n",
            "|     1      |   71268   |  0.9716746807098389 |  1   |\n",
            "|     1      |   69618   |  0.9716746807098389 |  2   |\n",
            "|     1      |   68480   |  0.9716746807098389 |  3   |\n",
            "|     1      |   68397   |  0.9716746807098389 |  4   |\n",
            "|     1      |   66968   |  0.9716746807098389 |  5   |\n",
            "|     1      |   64460   |  0.9716746807098389 |  6   |\n",
            "|     1      |   64355   |  0.9716746807098389 |  7   |\n",
            "|     1      |   63980   |  0.9716746807098389 |  8   |\n",
            "|     1      |   63677   |  0.9716746807098389 |  9   |\n",
            "|     1      |   62580   |  0.9716746807098389 |  10  |\n",
            "|     2      |   71268   |  2.9150240421295166 |  1   |\n",
            "|     2      |   69618   |  2.9150240421295166 |  2   |\n",
            "|     2      |   68480   |  2.9150240421295166 |  3   |\n",
            "|     2      |   68397   |  2.9150240421295166 |  4   |\n",
            "|     2      |   66968   |  2.9150240421295166 |  5   |\n",
            "|     2      |   64460   |  2.9150240421295166 |  6   |\n",
            "|     2      |   64355   |  2.9150240421295166 |  7   |\n",
            "|     2      |   63980   |  2.9150240421295166 |  8   |\n",
            "|     2      |   63677   |  2.9150240421295166 |  9   |\n",
            "|     2      |   62580   |  2.9150240421295166 |  10  |\n",
            "|     29     |   80240   | 0.11785112818082173 |  1   |\n",
            "|     29     |   97113   | 0.06804138422012329 |  2   |\n",
            "|     29     |   82929   | 0.06804138422012329 |  3   |\n",
            "|     29     |   68480   | 0.06299408276875813 |  4   |\n",
            "|     29     |   68397   | 0.06299408276875813 |  5   |\n",
            "|     29     |   66968   | 0.06299408276875813 |  6   |\n",
            "|     29     |   64460   | 0.06299408276875813 |  7   |\n",
            "|     29     |   64355   | 0.06299408276875813 |  8   |\n",
            "|     29     |   63980   | 0.06299408276875813 |  9   |\n",
            "|     29     |   63677   | 0.06299408276875813 |  10  |\n",
            "+------------+-----------+---------------------+------+\n",
            "[422170 rows x 4 columns]\n",
            "\n"
          ],
          "name": "stdout"
        },
        {
          "output_type": "execute_result",
          "data": {
            "text/plain": [
              "42217"
            ]
          },
          "metadata": {
            "tags": []
          },
          "execution_count": 18
        }
      ]
    },
    {
      "cell_type": "markdown",
      "metadata": {
        "id": "5lkXI_3PgZVu"
      },
      "source": [
        "##Resultado final com nome dos produtos 1) Popularidade"
      ]
    },
    {
      "cell_type": "code",
      "metadata": {
        "colab": {
          "base_uri": "https://localhost:8080/",
          "height": 965
        },
        "id": "IBIXU1hQ5elP",
        "outputId": "55657f57-c689-46eb-8e14-9b8a8c27b075"
      },
      "source": [
        "##Arquivo com dados de Popularidade\n",
        "df_rec_pop = recom_pop.to_dataframe()\n",
        "df_rec_pop = df_rec_pop.merge(names,how = 'left', on = ['productId'])\n",
        "print(df_rec_pop.shape)\n",
        "df_rec_pop.head(30)\n",
        "\n"
      ],
      "execution_count": 19,
      "outputs": [
        {
          "output_type": "stream",
          "text": [
            "(1927270, 5)\n"
          ],
          "name": "stdout"
        },
        {
          "output_type": "execute_result",
          "data": {
            "text/html": [
              "<div>\n",
              "<style scoped>\n",
              "    .dataframe tbody tr th:only-of-type {\n",
              "        vertical-align: middle;\n",
              "    }\n",
              "\n",
              "    .dataframe tbody tr th {\n",
              "        vertical-align: top;\n",
              "    }\n",
              "\n",
              "    .dataframe thead th {\n",
              "        text-align: right;\n",
              "    }\n",
              "</style>\n",
              "<table border=\"1\" class=\"dataframe\">\n",
              "  <thead>\n",
              "    <tr style=\"text-align: right;\">\n",
              "      <th></th>\n",
              "      <th>customerId</th>\n",
              "      <th>productId</th>\n",
              "      <th>score</th>\n",
              "      <th>rank</th>\n",
              "      <th>nomeProduto,</th>\n",
              "    </tr>\n",
              "  </thead>\n",
              "  <tbody>\n",
              "    <tr>\n",
              "      <th>0</th>\n",
              "      <td>254</td>\n",
              "      <td>83485</td>\n",
              "      <td>381.75</td>\n",
              "      <td>1</td>\n",
              "      <td>COPO PERSONALIZADO OCULUM,</td>\n",
              "    </tr>\n",
              "    <tr>\n",
              "      <th>1</th>\n",
              "      <td>254</td>\n",
              "      <td>83486</td>\n",
              "      <td>305.00</td>\n",
              "      <td>2</td>\n",
              "      <td>TAMPA COPO PERSONALIZADO OCULUM,</td>\n",
              "    </tr>\n",
              "    <tr>\n",
              "      <th>2</th>\n",
              "      <td>254</td>\n",
              "      <td>80883</td>\n",
              "      <td>275.00</td>\n",
              "      <td>3</td>\n",
              "      <td>SACOLAS PANTONE ROSA GRANDE - OCULUM,</td>\n",
              "    </tr>\n",
              "    <tr>\n",
              "      <th>3</th>\n",
              "      <td>254</td>\n",
              "      <td>95155</td>\n",
              "      <td>240.00</td>\n",
              "      <td>4</td>\n",
              "      <td>SACOLAS DOURADA C/ PRETO - OCULUM,</td>\n",
              "    </tr>\n",
              "    <tr>\n",
              "      <th>4</th>\n",
              "      <td>254</td>\n",
              "      <td>63617</td>\n",
              "      <td>240.00</td>\n",
              "      <td>5</td>\n",
              "      <td>SACOLAS BRANCAS - OCULUM,</td>\n",
              "    </tr>\n",
              "    <tr>\n",
              "      <th>5</th>\n",
              "      <td>254</td>\n",
              "      <td>79595</td>\n",
              "      <td>206.00</td>\n",
              "      <td>6</td>\n",
              "      <td>SACO PLÁSTICO GROSSO ÓCULOS - PCT 250 UN,</td>\n",
              "    </tr>\n",
              "    <tr>\n",
              "      <th>6</th>\n",
              "      <td>254</td>\n",
              "      <td>88389</td>\n",
              "      <td>200.00</td>\n",
              "      <td>7</td>\n",
              "      <td>FOLDERS PERSONALIZADOS 2 DOBRAS - OCULUM,</td>\n",
              "    </tr>\n",
              "    <tr>\n",
              "      <th>7</th>\n",
              "      <td>254</td>\n",
              "      <td>73531</td>\n",
              "      <td>200.00</td>\n",
              "      <td>8</td>\n",
              "      <td>CARTAO VISITA CONSULTOR - OCULUM,</td>\n",
              "    </tr>\n",
              "    <tr>\n",
              "      <th>8</th>\n",
              "      <td>254</td>\n",
              "      <td>47504</td>\n",
              "      <td>200.00</td>\n",
              "      <td>9</td>\n",
              "      <td>ENVELOPE OCULUM 24X12 PERSONALIZADO,</td>\n",
              "    </tr>\n",
              "    <tr>\n",
              "      <th>9</th>\n",
              "      <td>254</td>\n",
              "      <td>47474</td>\n",
              "      <td>180.00</td>\n",
              "      <td>10</td>\n",
              "      <td>ETIQUETA GARANTIA - NOTA FISCAL,</td>\n",
              "    </tr>\n",
              "    <tr>\n",
              "      <th>10</th>\n",
              "      <td>3372</td>\n",
              "      <td>83485</td>\n",
              "      <td>381.75</td>\n",
              "      <td>1</td>\n",
              "      <td>COPO PERSONALIZADO OCULUM,</td>\n",
              "    </tr>\n",
              "    <tr>\n",
              "      <th>11</th>\n",
              "      <td>3372</td>\n",
              "      <td>83486</td>\n",
              "      <td>305.00</td>\n",
              "      <td>2</td>\n",
              "      <td>TAMPA COPO PERSONALIZADO OCULUM,</td>\n",
              "    </tr>\n",
              "    <tr>\n",
              "      <th>12</th>\n",
              "      <td>3372</td>\n",
              "      <td>80883</td>\n",
              "      <td>275.00</td>\n",
              "      <td>3</td>\n",
              "      <td>SACOLAS PANTONE ROSA GRANDE - OCULUM,</td>\n",
              "    </tr>\n",
              "    <tr>\n",
              "      <th>13</th>\n",
              "      <td>3372</td>\n",
              "      <td>95155</td>\n",
              "      <td>240.00</td>\n",
              "      <td>4</td>\n",
              "      <td>SACOLAS DOURADA C/ PRETO - OCULUM,</td>\n",
              "    </tr>\n",
              "    <tr>\n",
              "      <th>14</th>\n",
              "      <td>3372</td>\n",
              "      <td>63617</td>\n",
              "      <td>240.00</td>\n",
              "      <td>5</td>\n",
              "      <td>SACOLAS BRANCAS - OCULUM,</td>\n",
              "    </tr>\n",
              "    <tr>\n",
              "      <th>15</th>\n",
              "      <td>3372</td>\n",
              "      <td>79595</td>\n",
              "      <td>206.00</td>\n",
              "      <td>6</td>\n",
              "      <td>SACO PLÁSTICO GROSSO ÓCULOS - PCT 250 UN,</td>\n",
              "    </tr>\n",
              "    <tr>\n",
              "      <th>16</th>\n",
              "      <td>3372</td>\n",
              "      <td>88389</td>\n",
              "      <td>200.00</td>\n",
              "      <td>7</td>\n",
              "      <td>FOLDERS PERSONALIZADOS 2 DOBRAS - OCULUM,</td>\n",
              "    </tr>\n",
              "    <tr>\n",
              "      <th>17</th>\n",
              "      <td>3372</td>\n",
              "      <td>73531</td>\n",
              "      <td>200.00</td>\n",
              "      <td>8</td>\n",
              "      <td>CARTAO VISITA CONSULTOR - OCULUM,</td>\n",
              "    </tr>\n",
              "    <tr>\n",
              "      <th>18</th>\n",
              "      <td>3372</td>\n",
              "      <td>47504</td>\n",
              "      <td>200.00</td>\n",
              "      <td>9</td>\n",
              "      <td>ENVELOPE OCULUM 24X12 PERSONALIZADO,</td>\n",
              "    </tr>\n",
              "    <tr>\n",
              "      <th>19</th>\n",
              "      <td>3372</td>\n",
              "      <td>47474</td>\n",
              "      <td>180.00</td>\n",
              "      <td>10</td>\n",
              "      <td>ETIQUETA GARANTIA - NOTA FISCAL,</td>\n",
              "    </tr>\n",
              "    <tr>\n",
              "      <th>20</th>\n",
              "      <td>203854</td>\n",
              "      <td>83485</td>\n",
              "      <td>381.75</td>\n",
              "      <td>1</td>\n",
              "      <td>COPO PERSONALIZADO OCULUM,</td>\n",
              "    </tr>\n",
              "    <tr>\n",
              "      <th>21</th>\n",
              "      <td>203854</td>\n",
              "      <td>83486</td>\n",
              "      <td>305.00</td>\n",
              "      <td>2</td>\n",
              "      <td>TAMPA COPO PERSONALIZADO OCULUM,</td>\n",
              "    </tr>\n",
              "    <tr>\n",
              "      <th>22</th>\n",
              "      <td>203854</td>\n",
              "      <td>80883</td>\n",
              "      <td>275.00</td>\n",
              "      <td>3</td>\n",
              "      <td>SACOLAS PANTONE ROSA GRANDE - OCULUM,</td>\n",
              "    </tr>\n",
              "    <tr>\n",
              "      <th>23</th>\n",
              "      <td>203854</td>\n",
              "      <td>95155</td>\n",
              "      <td>240.00</td>\n",
              "      <td>4</td>\n",
              "      <td>SACOLAS DOURADA C/ PRETO - OCULUM,</td>\n",
              "    </tr>\n",
              "    <tr>\n",
              "      <th>24</th>\n",
              "      <td>203854</td>\n",
              "      <td>63617</td>\n",
              "      <td>240.00</td>\n",
              "      <td>5</td>\n",
              "      <td>SACOLAS BRANCAS - OCULUM,</td>\n",
              "    </tr>\n",
              "    <tr>\n",
              "      <th>25</th>\n",
              "      <td>203854</td>\n",
              "      <td>79595</td>\n",
              "      <td>206.00</td>\n",
              "      <td>6</td>\n",
              "      <td>SACO PLÁSTICO GROSSO ÓCULOS - PCT 250 UN,</td>\n",
              "    </tr>\n",
              "    <tr>\n",
              "      <th>26</th>\n",
              "      <td>203854</td>\n",
              "      <td>88389</td>\n",
              "      <td>200.00</td>\n",
              "      <td>7</td>\n",
              "      <td>FOLDERS PERSONALIZADOS 2 DOBRAS - OCULUM,</td>\n",
              "    </tr>\n",
              "    <tr>\n",
              "      <th>27</th>\n",
              "      <td>203854</td>\n",
              "      <td>73531</td>\n",
              "      <td>200.00</td>\n",
              "      <td>8</td>\n",
              "      <td>CARTAO VISITA CONSULTOR - OCULUM,</td>\n",
              "    </tr>\n",
              "    <tr>\n",
              "      <th>28</th>\n",
              "      <td>203854</td>\n",
              "      <td>47504</td>\n",
              "      <td>200.00</td>\n",
              "      <td>9</td>\n",
              "      <td>ENVELOPE OCULUM 24X12 PERSONALIZADO,</td>\n",
              "    </tr>\n",
              "    <tr>\n",
              "      <th>29</th>\n",
              "      <td>203854</td>\n",
              "      <td>47474</td>\n",
              "      <td>180.00</td>\n",
              "      <td>10</td>\n",
              "      <td>ETIQUETA GARANTIA - NOTA FISCAL,</td>\n",
              "    </tr>\n",
              "  </tbody>\n",
              "</table>\n",
              "</div>"
            ],
            "text/plain": [
              "    customerId  productId  ...  rank                               nomeProduto,\n",
              "0          254      83485  ...     1                 COPO PERSONALIZADO OCULUM,\n",
              "1          254      83486  ...     2           TAMPA COPO PERSONALIZADO OCULUM,\n",
              "2          254      80883  ...     3      SACOLAS PANTONE ROSA GRANDE - OCULUM,\n",
              "3          254      95155  ...     4         SACOLAS DOURADA C/ PRETO - OCULUM,\n",
              "4          254      63617  ...     5                  SACOLAS BRANCAS - OCULUM,\n",
              "5          254      79595  ...     6  SACO PLÁSTICO GROSSO ÓCULOS - PCT 250 UN,\n",
              "6          254      88389  ...     7  FOLDERS PERSONALIZADOS 2 DOBRAS - OCULUM,\n",
              "7          254      73531  ...     8          CARTAO VISITA CONSULTOR - OCULUM,\n",
              "8          254      47504  ...     9       ENVELOPE OCULUM 24X12 PERSONALIZADO,\n",
              "9          254      47474  ...    10           ETIQUETA GARANTIA - NOTA FISCAL,\n",
              "10        3372      83485  ...     1                 COPO PERSONALIZADO OCULUM,\n",
              "11        3372      83486  ...     2           TAMPA COPO PERSONALIZADO OCULUM,\n",
              "12        3372      80883  ...     3      SACOLAS PANTONE ROSA GRANDE - OCULUM,\n",
              "13        3372      95155  ...     4         SACOLAS DOURADA C/ PRETO - OCULUM,\n",
              "14        3372      63617  ...     5                  SACOLAS BRANCAS - OCULUM,\n",
              "15        3372      79595  ...     6  SACO PLÁSTICO GROSSO ÓCULOS - PCT 250 UN,\n",
              "16        3372      88389  ...     7  FOLDERS PERSONALIZADOS 2 DOBRAS - OCULUM,\n",
              "17        3372      73531  ...     8          CARTAO VISITA CONSULTOR - OCULUM,\n",
              "18        3372      47504  ...     9       ENVELOPE OCULUM 24X12 PERSONALIZADO,\n",
              "19        3372      47474  ...    10           ETIQUETA GARANTIA - NOTA FISCAL,\n",
              "20      203854      83485  ...     1                 COPO PERSONALIZADO OCULUM,\n",
              "21      203854      83486  ...     2           TAMPA COPO PERSONALIZADO OCULUM,\n",
              "22      203854      80883  ...     3      SACOLAS PANTONE ROSA GRANDE - OCULUM,\n",
              "23      203854      95155  ...     4         SACOLAS DOURADA C/ PRETO - OCULUM,\n",
              "24      203854      63617  ...     5                  SACOLAS BRANCAS - OCULUM,\n",
              "25      203854      79595  ...     6  SACO PLÁSTICO GROSSO ÓCULOS - PCT 250 UN,\n",
              "26      203854      88389  ...     7  FOLDERS PERSONALIZADOS 2 DOBRAS - OCULUM,\n",
              "27      203854      73531  ...     8          CARTAO VISITA CONSULTOR - OCULUM,\n",
              "28      203854      47504  ...     9       ENVELOPE OCULUM 24X12 PERSONALIZADO,\n",
              "29      203854      47474  ...    10           ETIQUETA GARANTIA - NOTA FISCAL,\n",
              "\n",
              "[30 rows x 5 columns]"
            ]
          },
          "metadata": {
            "tags": []
          },
          "execution_count": 19
        }
      ]
    },
    {
      "cell_type": "markdown",
      "metadata": {
        "id": "oBEYECmBgfqb"
      },
      "source": [
        "##Resultado final com nome dos produtos 2) Similaridade Cosseno"
      ]
    },
    {
      "cell_type": "code",
      "metadata": {
        "colab": {
          "base_uri": "https://localhost:8080/",
          "height": 965
        },
        "id": "UN0zQNPw1hhx",
        "outputId": "fdbe7497-a9c0-49fa-ae9a-b25ee3ba3572"
      },
      "source": [
        "##Arquivo com dados de similaridade\n",
        "df_rec_sim = recom_sim.to_dataframe()\n",
        "df_rec_sim = df_rec_sim.merge(names,how = 'left', on = ['productId'])\n",
        "\n",
        "print(df_rec_sim.shape)\n",
        "df_rec_sim.head(30)"
      ],
      "execution_count": 20,
      "outputs": [
        {
          "output_type": "stream",
          "text": [
            "(422170, 5)\n"
          ],
          "name": "stdout"
        },
        {
          "output_type": "execute_result",
          "data": {
            "text/html": [
              "<div>\n",
              "<style scoped>\n",
              "    .dataframe tbody tr th:only-of-type {\n",
              "        vertical-align: middle;\n",
              "    }\n",
              "\n",
              "    .dataframe tbody tr th {\n",
              "        vertical-align: top;\n",
              "    }\n",
              "\n",
              "    .dataframe thead th {\n",
              "        text-align: right;\n",
              "    }\n",
              "</style>\n",
              "<table border=\"1\" class=\"dataframe\">\n",
              "  <thead>\n",
              "    <tr style=\"text-align: right;\">\n",
              "      <th></th>\n",
              "      <th>customerId</th>\n",
              "      <th>productId</th>\n",
              "      <th>score</th>\n",
              "      <th>rank</th>\n",
              "      <th>nomeProduto,</th>\n",
              "    </tr>\n",
              "  </thead>\n",
              "  <tbody>\n",
              "    <tr>\n",
              "      <th>0</th>\n",
              "      <td>1</td>\n",
              "      <td>71268</td>\n",
              "      <td>0.971675</td>\n",
              "      <td>1</td>\n",
              "      <td>A CDAMAO2-DA0-53,</td>\n",
              "    </tr>\n",
              "    <tr>\n",
              "      <th>1</th>\n",
              "      <td>1</td>\n",
              "      <td>69618</td>\n",
              "      <td>0.971675</td>\n",
              "      <td>2</td>\n",
              "      <td>A KP3083-E056-51,</td>\n",
              "    </tr>\n",
              "    <tr>\n",
              "      <th>2</th>\n",
              "      <td>1</td>\n",
              "      <td>68480</td>\n",
              "      <td>0.971675</td>\n",
              "      <td>3</td>\n",
              "      <td>A BV3029-501-55,</td>\n",
              "    </tr>\n",
              "    <tr>\n",
              "      <th>3</th>\n",
              "      <td>1</td>\n",
              "      <td>68397</td>\n",
              "      <td>0.971675</td>\n",
              "      <td>4</td>\n",
              "      <td>O AR6034Z-300187-49 OB,</td>\n",
              "    </tr>\n",
              "    <tr>\n",
              "      <th>4</th>\n",
              "      <td>1</td>\n",
              "      <td>66968</td>\n",
              "      <td>0.971675</td>\n",
              "      <td>5</td>\n",
              "      <td>A F0159-TLG-50,</td>\n",
              "    </tr>\n",
              "    <tr>\n",
              "      <th>5</th>\n",
              "      <td>1</td>\n",
              "      <td>64460</td>\n",
              "      <td>0.971675</td>\n",
              "      <td>6</td>\n",
              "      <td>A RC950-001-54,</td>\n",
              "    </tr>\n",
              "    <tr>\n",
              "      <th>6</th>\n",
              "      <td>1</td>\n",
              "      <td>64355</td>\n",
              "      <td>0.971675</td>\n",
              "      <td>7</td>\n",
              "      <td>A RC950-068-54,</td>\n",
              "    </tr>\n",
              "    <tr>\n",
              "      <th>7</th>\n",
              "      <td>1</td>\n",
              "      <td>63980</td>\n",
              "      <td>0.971675</td>\n",
              "      <td>8</td>\n",
              "      <td>A MB0544-005-57,</td>\n",
              "    </tr>\n",
              "    <tr>\n",
              "      <th>8</th>\n",
              "      <td>1</td>\n",
              "      <td>63677</td>\n",
              "      <td>0.971675</td>\n",
              "      <td>9</td>\n",
              "      <td>A EZ5010-028-56,</td>\n",
              "    </tr>\n",
              "    <tr>\n",
              "      <th>9</th>\n",
              "      <td>1</td>\n",
              "      <td>62580</td>\n",
              "      <td>0.971675</td>\n",
              "      <td>10</td>\n",
              "      <td>A SI2886-6053-53,</td>\n",
              "    </tr>\n",
              "    <tr>\n",
              "      <th>10</th>\n",
              "      <td>2</td>\n",
              "      <td>71268</td>\n",
              "      <td>2.915024</td>\n",
              "      <td>1</td>\n",
              "      <td>A CDAMAO2-DA0-53,</td>\n",
              "    </tr>\n",
              "    <tr>\n",
              "      <th>11</th>\n",
              "      <td>2</td>\n",
              "      <td>69618</td>\n",
              "      <td>2.915024</td>\n",
              "      <td>2</td>\n",
              "      <td>A KP3083-E056-51,</td>\n",
              "    </tr>\n",
              "    <tr>\n",
              "      <th>12</th>\n",
              "      <td>2</td>\n",
              "      <td>68480</td>\n",
              "      <td>2.915024</td>\n",
              "      <td>3</td>\n",
              "      <td>A BV3029-501-55,</td>\n",
              "    </tr>\n",
              "    <tr>\n",
              "      <th>13</th>\n",
              "      <td>2</td>\n",
              "      <td>68397</td>\n",
              "      <td>2.915024</td>\n",
              "      <td>4</td>\n",
              "      <td>O AR6034Z-300187-49 OB,</td>\n",
              "    </tr>\n",
              "    <tr>\n",
              "      <th>14</th>\n",
              "      <td>2</td>\n",
              "      <td>66968</td>\n",
              "      <td>2.915024</td>\n",
              "      <td>5</td>\n",
              "      <td>A F0159-TLG-50,</td>\n",
              "    </tr>\n",
              "    <tr>\n",
              "      <th>15</th>\n",
              "      <td>2</td>\n",
              "      <td>64460</td>\n",
              "      <td>2.915024</td>\n",
              "      <td>6</td>\n",
              "      <td>A RC950-001-54,</td>\n",
              "    </tr>\n",
              "    <tr>\n",
              "      <th>16</th>\n",
              "      <td>2</td>\n",
              "      <td>64355</td>\n",
              "      <td>2.915024</td>\n",
              "      <td>7</td>\n",
              "      <td>A RC950-068-54,</td>\n",
              "    </tr>\n",
              "    <tr>\n",
              "      <th>17</th>\n",
              "      <td>2</td>\n",
              "      <td>63980</td>\n",
              "      <td>2.915024</td>\n",
              "      <td>8</td>\n",
              "      <td>A MB0544-005-57,</td>\n",
              "    </tr>\n",
              "    <tr>\n",
              "      <th>18</th>\n",
              "      <td>2</td>\n",
              "      <td>63677</td>\n",
              "      <td>2.915024</td>\n",
              "      <td>9</td>\n",
              "      <td>A EZ5010-028-56,</td>\n",
              "    </tr>\n",
              "    <tr>\n",
              "      <th>19</th>\n",
              "      <td>2</td>\n",
              "      <td>62580</td>\n",
              "      <td>2.915024</td>\n",
              "      <td>10</td>\n",
              "      <td>A SI2886-6053-53,</td>\n",
              "    </tr>\n",
              "    <tr>\n",
              "      <th>20</th>\n",
              "      <td>29</td>\n",
              "      <td>80240</td>\n",
              "      <td>0.117851</td>\n",
              "      <td>1</td>\n",
              "      <td>VS FABRIC XPERIO POLY VERDE SEM AR,</td>\n",
              "    </tr>\n",
              "    <tr>\n",
              "      <th>21</th>\n",
              "      <td>29</td>\n",
              "      <td>97113</td>\n",
              "      <td>0.068041</td>\n",
              "      <td>2</td>\n",
              "      <td>A TY2178-8055-52,</td>\n",
              "    </tr>\n",
              "    <tr>\n",
              "      <th>22</th>\n",
              "      <td>29</td>\n",
              "      <td>82929</td>\n",
              "      <td>0.068041</td>\n",
              "      <td>3</td>\n",
              "      <td>O WE0208-28Q-59,</td>\n",
              "    </tr>\n",
              "    <tr>\n",
              "      <th>23</th>\n",
              "      <td>29</td>\n",
              "      <td>68480</td>\n",
              "      <td>0.062994</td>\n",
              "      <td>4</td>\n",
              "      <td>A BV3029-501-55,</td>\n",
              "    </tr>\n",
              "    <tr>\n",
              "      <th>24</th>\n",
              "      <td>29</td>\n",
              "      <td>68397</td>\n",
              "      <td>0.062994</td>\n",
              "      <td>5</td>\n",
              "      <td>O AR6034Z-300187-49 OB,</td>\n",
              "    </tr>\n",
              "    <tr>\n",
              "      <th>25</th>\n",
              "      <td>29</td>\n",
              "      <td>66968</td>\n",
              "      <td>0.062994</td>\n",
              "      <td>6</td>\n",
              "      <td>A F0159-TLG-50,</td>\n",
              "    </tr>\n",
              "    <tr>\n",
              "      <th>26</th>\n",
              "      <td>29</td>\n",
              "      <td>64460</td>\n",
              "      <td>0.062994</td>\n",
              "      <td>7</td>\n",
              "      <td>A RC950-001-54,</td>\n",
              "    </tr>\n",
              "    <tr>\n",
              "      <th>27</th>\n",
              "      <td>29</td>\n",
              "      <td>64355</td>\n",
              "      <td>0.062994</td>\n",
              "      <td>8</td>\n",
              "      <td>A RC950-068-54,</td>\n",
              "    </tr>\n",
              "    <tr>\n",
              "      <th>28</th>\n",
              "      <td>29</td>\n",
              "      <td>63980</td>\n",
              "      <td>0.062994</td>\n",
              "      <td>9</td>\n",
              "      <td>A MB0544-005-57,</td>\n",
              "    </tr>\n",
              "    <tr>\n",
              "      <th>29</th>\n",
              "      <td>29</td>\n",
              "      <td>63677</td>\n",
              "      <td>0.062994</td>\n",
              "      <td>10</td>\n",
              "      <td>A EZ5010-028-56,</td>\n",
              "    </tr>\n",
              "  </tbody>\n",
              "</table>\n",
              "</div>"
            ],
            "text/plain": [
              "    customerId  productId     score  rank                         nomeProduto,\n",
              "0            1      71268  0.971675     1                    A CDAMAO2-DA0-53,\n",
              "1            1      69618  0.971675     2                    A KP3083-E056-51,\n",
              "2            1      68480  0.971675     3                     A BV3029-501-55,\n",
              "3            1      68397  0.971675     4              O AR6034Z-300187-49 OB,\n",
              "4            1      66968  0.971675     5                      A F0159-TLG-50,\n",
              "5            1      64460  0.971675     6                      A RC950-001-54,\n",
              "6            1      64355  0.971675     7                      A RC950-068-54,\n",
              "7            1      63980  0.971675     8                     A MB0544-005-57,\n",
              "8            1      63677  0.971675     9                     A EZ5010-028-56,\n",
              "9            1      62580  0.971675    10                    A SI2886-6053-53,\n",
              "10           2      71268  2.915024     1                    A CDAMAO2-DA0-53,\n",
              "11           2      69618  2.915024     2                    A KP3083-E056-51,\n",
              "12           2      68480  2.915024     3                     A BV3029-501-55,\n",
              "13           2      68397  2.915024     4              O AR6034Z-300187-49 OB,\n",
              "14           2      66968  2.915024     5                      A F0159-TLG-50,\n",
              "15           2      64460  2.915024     6                      A RC950-001-54,\n",
              "16           2      64355  2.915024     7                      A RC950-068-54,\n",
              "17           2      63980  2.915024     8                     A MB0544-005-57,\n",
              "18           2      63677  2.915024     9                     A EZ5010-028-56,\n",
              "19           2      62580  2.915024    10                    A SI2886-6053-53,\n",
              "20          29      80240  0.117851     1  VS FABRIC XPERIO POLY VERDE SEM AR,\n",
              "21          29      97113  0.068041     2                    A TY2178-8055-52,\n",
              "22          29      82929  0.068041     3                     O WE0208-28Q-59,\n",
              "23          29      68480  0.062994     4                     A BV3029-501-55,\n",
              "24          29      68397  0.062994     5              O AR6034Z-300187-49 OB,\n",
              "25          29      66968  0.062994     6                      A F0159-TLG-50,\n",
              "26          29      64460  0.062994     7                      A RC950-001-54,\n",
              "27          29      64355  0.062994     8                      A RC950-068-54,\n",
              "28          29      63980  0.062994     9                     A MB0544-005-57,\n",
              "29          29      63677  0.062994    10                     A EZ5010-028-56,"
            ]
          },
          "metadata": {
            "tags": []
          },
          "execution_count": 20
        }
      ]
    },
    {
      "cell_type": "markdown",
      "metadata": {
        "collapsed": true,
        "id": "ysMtR0yt1hhy"
      },
      "source": [
        "## Resumo\n",
        "Neste exercício, pudemos realizar um processo passo a passo para fazer recomendações aos clientes. Usamos abordagens de Filtragem Colaborativa com as medidas `cosine` e` pearson` e comparamos os modelos com nosso modelo de popularidade de linha de base. Também preparamos três conjuntos de dados que incluem contagem de compras regular, compra dummy, bem como frequência de compra normalizada como nossa variável de destino. Usando RMSE, precisão e recall, avaliamos nossos modelos e observamos o impacto da personalização. Finalmente, selecionamos a abordagem Cosine em dados de compra dummy."
      ]
    }
  ]
}