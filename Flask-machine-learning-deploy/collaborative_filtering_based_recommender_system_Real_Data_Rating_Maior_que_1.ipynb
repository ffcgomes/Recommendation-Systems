{
  "nbformat": 4,
  "nbformat_minor": 0,
  "metadata": {
    "kernelspec": {
      "display_name": "Python 3",
      "language": "python",
      "name": "python3"
    },
    "language_info": {
      "codemirror_mode": {
        "name": "ipython",
        "version": 3
      },
      "file_extension": ".py",
      "mimetype": "text/x-python",
      "name": "python",
      "nbconvert_exporter": "python",
      "pygments_lexer": "ipython3",
      "version": "3.7.5"
    },
    "toc": {
      "base_numbering": 1,
      "nav_menu": {},
      "number_sections": false,
      "sideBar": true,
      "skip_h1_title": false,
      "title_cell": "Table of Contents",
      "title_sidebar": "Contents",
      "toc_cell": true,
      "toc_position": {
        "height": "calc(100% - 180px)",
        "left": "10px",
        "top": "150px",
        "width": "165px"
      },
      "toc_section_display": true,
      "toc_window_display": true
    },
    "colab": {
      "name": "collaborative-filtering-based-recommender-system-otica-Rating-Maior-que-1.ipynb",
      "provenance": []
    }
  },
  "cells": [
    {
      "cell_type": "markdown",
      "metadata": {
        "toc": true,
        "id": "jgrNDb0xCTK6"
      },
      "source": [
        "<h1>Table of Contents<span class=\"tocSkip\"></span></h1>\n",
        "<div class=\"toc\"><ul class=\"toc-item\"><li><span><a href=\"#Import-the-necessary-libraries\" data-toc-modified-id=\"Import-the-necessary-libraries-1\">Import the necessary libraries</a></span></li><li><span><a href=\"#Read-the-data-as-a-data-frame\" data-toc-modified-id=\"Read-the-data-as-a-data-frame-2\">Read the data as a data frame</a></span></li><li><span><a href=\"#Attributes-and-Information\" data-toc-modified-id=\"Attributes-and-Information-3\">Attributes and Information</a></span></li><li><span><a href=\"#Perform-basic-EDA\" data-toc-modified-id=\"Perform-basic-EDA-4\">Perform basic EDA</a></span><ul class=\"toc-item\"><li><span><a href=\"#a.-Drop-'timestamp'-attribute\" data-toc-modified-id=\"a.-Drop-'timestamp'-attribute-4.1\">a. Drop 'timestamp' attribute</a></span></li><li><span><a href=\"#b.-Create-subset-of-the-original-dataset\" data-toc-modified-id=\"b.-Create-subset-of-the-original-dataset-4.2\">b. Create subset of the original dataset</a></span></li><li><span><a href=\"#c.-Shape-of-the-data\" data-toc-modified-id=\"c.-Shape-of-the-data-4.3\">c. Shape of the data</a></span></li><li><span><a href=\"#d.-Data-type-of-each-attribute\" data-toc-modified-id=\"d.-Data-type-of-each-attribute-4.4\">d. Data type of each attribute</a></span></li><li><span><a href=\"#e.-Checking-the-presence-of-missing-values\" data-toc-modified-id=\"e.-Checking-the-presence-of-missing-values-4.5\">e. Checking the presence of missing values</a></span></li><li><span><a href=\"#f.-5-point-summary-of-numerical-attributes\" data-toc-modified-id=\"f.-5-point-summary-of-numerical-attributes-4.6\">f. 5 point summary of numerical attributes</a></span><ul class=\"toc-item\"><li><span><a href=\"#Observations\" data-toc-modified-id=\"Observations-4.6.1\">Observations</a></span></li></ul></li><li><span><a href=\"#g.-Unique-Users-and-Products-Count\" data-toc-modified-id=\"g.-Unique-Users-and-Products-Count-4.7\">g. Unique Users and Products Count</a></span></li></ul></li><li><span><a href=\"#Data-Analysis-and-Visualization\" data-toc-modified-id=\"Data-Analysis-and-Visualization-5\">Data Analysis and Visualization</a></span><ul class=\"toc-item\"><li><span><a href=\"#a.-Rating-Distribution\" data-toc-modified-id=\"a.-Rating-Distribution-5.1\">a. Rating Distribution</a></span><ul class=\"toc-item\"><li><span><a href=\"#Observations\" data-toc-modified-id=\"Observations-5.1.1\">Observations</a></span></li><li><span><a href=\"#Observations\" data-toc-modified-id=\"Observations-5.1.2\">Observations</a></span></li></ul></li><li><span><a href=\"#b.-Top-Rating-Count-Distribution-grouped-by-Products\" data-toc-modified-id=\"b.-Top-Rating-Count-Distribution-grouped-by-Products-5.2\">b. Top Rating Count Distribution grouped by Products</a></span><ul class=\"toc-item\"><li><span><a href=\"#Observations\" data-toc-modified-id=\"Observations-5.2.1\">Observations</a></span></li></ul></li><li><span><a href=\"#c.-Top-Rating-Count-Distribution-grouped-by-Users\" data-toc-modified-id=\"c.-Top-Rating-Count-Distribution-grouped-by-Users-5.3\">c. Top Rating Count Distribution grouped by Users</a></span><ul class=\"toc-item\"><li><span><a href=\"#Observations\" data-toc-modified-id=\"Observations-5.3.1\">Observations</a></span></li></ul></li><li><span><a href=\"#d.-Mean-Rating-Distribution-grouped-by-Products\" data-toc-modified-id=\"d.-Mean-Rating-Distribution-grouped-by-Products-5.4\">d. Mean Rating Distribution grouped by Products</a></span><ul class=\"toc-item\"><li><span><a href=\"#Observations\" data-toc-modified-id=\"Observations-5.4.1\">Observations</a></span></li></ul></li><li><span><a href=\"#e.-Mean-Rating---Rating-Count-Distribution-grouped-by-Products\" data-toc-modified-id=\"e.-Mean-Rating---Rating-Count-Distribution-grouped-by-Products-5.5\">e. Mean Rating - Rating Count Distribution grouped by Products</a></span><ul class=\"toc-item\"><li><span><a href=\"#Observations\" data-toc-modified-id=\"Observations-5.5.1\">Observations</a></span></li></ul></li><li><span><a href=\"#f.-Mean-Rating-Distribution-grouped-by-Users\" data-toc-modified-id=\"f.-Mean-Rating-Distribution-grouped-by-Users-5.6\">f. Mean Rating Distribution grouped by Users</a></span><ul class=\"toc-item\"><li><span><a href=\"#Observations\" data-toc-modified-id=\"Observations-5.6.1\">Observations</a></span></li></ul></li><li><span><a href=\"#g.-Mean-Rating---Rating-Count-Distribution-grouped-by-Users\" data-toc-modified-id=\"g.-Mean-Rating---Rating-Count-Distribution-grouped-by-Users-5.7\">g. Mean Rating - Rating Count Distribution grouped by Users</a></span><ul class=\"toc-item\"><li><span><a href=\"#Observations\" data-toc-modified-id=\"Observations-5.7.1\">Observations</a></span></li></ul></li></ul></li><li><span><a href=\"#Split-the-data-into-training-and-test-set-in-the-ratio-of-70:30-respectively\" data-toc-modified-id=\"Split-the-data-into-training-and-test-set-in-the-ratio-of-70:30-respectively-6\">Split the data into training and test set in the ratio of 70:30 respectively</a></span></li><li><span><a href=\"#Recommender-Systems\" data-toc-modified-id=\"Recommender-Systems-7\">Recommender Systems</a></span><ul class=\"toc-item\"><li><span><a href=\"#a.-Popularity-Based-Recommender-Model\" data-toc-modified-id=\"a.-Popularity-Based-Recommender-Model-7.1\">a. Popularity Based Recommender Model</a></span><ul class=\"toc-item\"><li><span><a href=\"#Initialize\" data-toc-modified-id=\"Initialize-7.1.1\">Initialize</a></span></li><li><span><a href=\"#Fit\" data-toc-modified-id=\"Fit-7.1.2\">Fit</a></span></li><li><span><a href=\"#Recommend\" data-toc-modified-id=\"Recommend-7.1.3\">Recommend</a></span></li><li><span><a href=\"#Observations\" data-toc-modified-id=\"Observations-7.1.4\">Observations</a></span></li></ul></li><li><span><a href=\"#b.-Collaborative-Filtering-Recommender-Model-using-SURPRISE-Library\" data-toc-modified-id=\"b.-Collaborative-Filtering-Recommender-Model-using-SURPRISE-Library-7.2\">b. Collaborative Filtering Recommender Model using SURPRISE Library</a></span><ul class=\"toc-item\"><li><span><a href=\"#Load-Surprise-Data-from-DataFrame\" data-toc-modified-id=\"Load-Surprise-Data-from-DataFrame-7.2.1\">Load Surprise Data from DataFrame</a></span></li><li><span><a href=\"#Split-the-data-into-training-and-test-set-in-the-ratio-of-70:30-respectively\" data-toc-modified-id=\"Split-the-data-into-training-and-test-set-in-the-ratio-of-70:30-respectively-7.2.2\">Split the data into training and test set in the ratio of 70:30 respectively</a></span></li><li><span><a href=\"#KNN-With-Means---Memory-Based-Collaborative-Filtering\" data-toc-modified-id=\"KNN-With-Means---Memory-Based-Collaborative-Filtering-7.2.3\">KNN With Means - Memory Based Collaborative Filtering</a></span><ul class=\"toc-item\"><li><span><a href=\"#Find-optimal-model-using-RandomizedSearchCV\" data-toc-modified-id=\"Find-optimal-model-using-RandomizedSearchCV-7.2.3.1\">Find optimal model using RandomizedSearchCV</a></span></li><li><span><a href=\"#Initialize\" data-toc-modified-id=\"Initialize-7.2.3.2\">Initialize</a></span></li><li><span><a href=\"#Fit-and-Predict\" data-toc-modified-id=\"Fit-and-Predict-7.2.3.3\">Fit and Predict</a></span></li><li><span><a href=\"#Cross-Validate\" data-toc-modified-id=\"Cross-Validate-7.2.3.4\">Cross Validate</a></span></li><li><span><a href=\"#Recommend\" data-toc-modified-id=\"Recommend-7.2.3.5\">Recommend</a></span></li><li><span><a href=\"#Observations\" data-toc-modified-id=\"Observations-7.2.3.6\">Observations</a></span></li></ul></li><li><span><a href=\"#SVD---Model-Based-Collaborative-Filtering\" data-toc-modified-id=\"SVD---Model-Based-Collaborative-Filtering-7.2.4\">SVD - Model Based Collaborative Filtering</a></span><ul class=\"toc-item\"><li><span><a href=\"#Find-optimal-model-using-RandomizedSearchCV\" data-toc-modified-id=\"Find-optimal-model-using-RandomizedSearchCV-7.2.4.1\">Find optimal model using RandomizedSearchCV</a></span></li><li><span><a href=\"#Initialize\" data-toc-modified-id=\"Initialize-7.2.4.2\">Initialize</a></span></li><li><span><a href=\"#Fit-and-Predict\" data-toc-modified-id=\"Fit-and-Predict-7.2.4.3\">Fit and Predict</a></span></li><li><span><a href=\"#Cross-Validate\" data-toc-modified-id=\"Cross-Validate-7.2.4.4\">Cross Validate</a></span></li><li><span><a href=\"#Recommend\" data-toc-modified-id=\"Recommend-7.2.4.5\">Recommend</a></span></li><li><span><a href=\"#Observations\" data-toc-modified-id=\"Observations-7.2.4.6\">Observations</a></span></li></ul></li><li><span><a href=\"#Other-SURPRISE-algorithms\" data-toc-modified-id=\"Other-SURPRISE-algorithms-7.2.5\">Other SURPRISE algorithms</a></span><ul class=\"toc-item\"><li><span><a href=\"#Observations\" data-toc-modified-id=\"Observations-7.2.5.1\">Observations</a></span></li></ul></li></ul></li></ul></li><li><span><a href=\"#Conclusion\" data-toc-modified-id=\"Conclusion-8\">Conclusion</a></span><ul class=\"toc-item\"><li><span><a href=\"#Popularity-Based-Recommendation-Model\" data-toc-modified-id=\"Popularity-Based-Recommendation-Model-8.1\">Popularity Based Recommendation Model</a></span></li><li><span><a href=\"#Collaborative-Filtering-Recommendation-Model\" data-toc-modified-id=\"Collaborative-Filtering-Recommendation-Model-8.2\">Collaborative Filtering Recommendation Model</a></span><ul class=\"toc-item\"><li><span><a href=\"#KNNWithMeans-Model\" data-toc-modified-id=\"KNNWithMeans-Model-8.2.1\">KNNWithMeans Model</a></span></li><li><span><a href=\"#SVD-Model\" data-toc-modified-id=\"SVD-Model-8.2.2\">SVD Model</a></span></li></ul></li></ul></li><li><span><a href=\"#END\" data-toc-modified-id=\"END-9\">END</a></span></li></ul></div>"
      ]
    },
    {
      "cell_type": "markdown",
      "metadata": {
        "id": "vNNd_MCrCTLE"
      },
      "source": [
        "<a id=\"a1\"></a>\n",
        "# Import the necessary libraries"
      ]
    },
    {
      "cell_type": "code",
      "metadata": {
        "trusted": true,
        "id": "mYqHAUj1CTLG"
      },
      "source": [
        "import warnings\n",
        "warnings.filterwarnings('ignore')\n",
        "import numpy as np\n",
        "import pandas as pd\n",
        "import pandas_profiling \n",
        "import matplotlib.pyplot as plt\n",
        "import seaborn as sns\n",
        "sns.set_color_codes()\n",
        "sns.set(style=\"whitegrid\")\n",
        "%matplotlib inline\n",
        "from scipy.stats import zscore\n",
        "from sklearn import metrics\n",
        "from sklearn.model_selection import train_test_split\n",
        "from sklearn.model_selection import KFold\n",
        "from sklearn.model_selection import cross_val_score\n",
        "from sklearn.decomposition import PCA\n",
        "from sklearn.preprocessing import StandardScaler\n",
        "from sklearn.metrics import mean_squared_error\n",
        "from math import sqrt\n",
        "\n",
        "import requests\n",
        "from io import StringIO\n",
        "\n",
        "#setting up for customized printing\n",
        "from IPython.display import Markdown, display\n",
        "from IPython.display import HTML\n",
        "def printmd(string, color=None):\n",
        "    colorstr = \"<span style='color:{}'>{}</span>\".format(color, string)\n",
        "    display(Markdown(colorstr))\n",
        "    \n",
        "#function to display dataframes side by side    \n",
        "from IPython.display import display_html\n",
        "def display_side_by_side(args):\n",
        "    html_str=''\n",
        "    for df in args:\n",
        "        html_str+=df.to_html()\n",
        "    display_html(html_str.replace('table','table style=\"display:inline;margin-left:50px !important;margin-right: 40px !important\"'),raw=True)"
      ],
      "execution_count": 1,
      "outputs": []
    },
    {
      "cell_type": "code",
      "metadata": {
        "trusted": true,
        "id": "o-JNgWSXCTLH"
      },
      "source": [
        "def distplot(figRows,figCols,xSize, ySize, data, features, colors, kde=True, bins=None):\n",
        "    f, axes = plt.subplots(figRows, figCols, figsize=(xSize, ySize))\n",
        "    \n",
        "    features = np.array(features).reshape(figRows, figCols)\n",
        "    colors = np.array(colors).reshape(figRows, figCols)\n",
        "    \n",
        "    for row in range(figRows):\n",
        "        for col in range(figCols):\n",
        "            if (figRows == 1 and figCols == 1) :\n",
        "                axesplt = axes\n",
        "            elif (figRows == 1 and figCols > 1) :\n",
        "                axesplt = axes[col]\n",
        "            elif (figRows > 1 and figCols == 1) :\n",
        "                axesplt = axes[row]\n",
        "            else:\n",
        "                axesplt = axes[row][col]\n",
        "            plot = sns.distplot(data[features[row][col]], color=colors[row][col], bins=bins, ax=axesplt, kde=kde, hist_kws={\"edgecolor\":\"k\"})\n",
        "            plot.set_xlabel(features[row][col],fontsize=20)"
      ],
      "execution_count": 2,
      "outputs": []
    },
    {
      "cell_type": "code",
      "metadata": {
        "trusted": true,
        "id": "eIjT_ayZCTLI"
      },
      "source": [
        "def scatterplot(rowFeature, colFeature, data):\n",
        "    f, axes = plt.subplots(1, 1, figsize=(10, 8))\n",
        "        \n",
        "    plot=sns.scatterplot(x=rowFeature, y=colFeature, data=data, ax=axes)\n",
        "    plot.set_xlabel(rowFeature,fontsize=20)\n",
        "    plot.set_ylabel(colFeature,fontsize=20)            "
      ],
      "execution_count": 3,
      "outputs": []
    },
    {
      "cell_type": "markdown",
      "metadata": {
        "id": "uuJs6QCpCTLJ"
      },
      "source": [
        "<a id=\"a2\"></a>\n",
        "# Read the data as a data frame"
      ]
    },
    {
      "cell_type": "code",
      "metadata": {
        "trusted": true,
        "id": "4punh5npCTLK"
      },
      "source": [
        "# orig_url='https://drive.google.com/file/d/1ClBptsK3V5KgKXtK2GSRzFNAW7GnTPDW/view?usp=sharing'\n",
        "# file_id = orig_url.split('/')[-2]\n",
        "# file_id"
      ],
      "execution_count": 4,
      "outputs": []
    },
    {
      "cell_type": "code",
      "metadata": {
        "trusted": true,
        "id": "4CN-Wz_vCTLK"
      },
      "source": [
        "# dwn_url='http://drive.google.com/uc?export=download&confirm=pAkV&id=' + file_id\n",
        "# url = requests.get(dwn_url)\n",
        "# url.text"
      ],
      "execution_count": 5,
      "outputs": []
    },
    {
      "cell_type": "code",
      "metadata": {
        "trusted": true,
        "id": "gIUaaiHkCTLL",
        "colab": {
          "base_uri": "https://localhost:8080/"
        },
        "outputId": "a044d7ce-cdae-46d6-e877-49265cddfce9"
      },
      "source": [
        "#electronics = pd.read_csv('ratings_Electronics.csv', names=['userId', 'productId', 'Rating','timestamp'], header=None)\n",
        "electronics = pd.read_csv('/content/VendaClienteProduto_Abr2020_Abr2021_OC.csv',sep=';',\n",
        "                          dtype={'userId': str,'productId':str})\n",
        "electronics.rename({'quant': 'Rating'}, axis=1, inplace=True)\n",
        "\n",
        "#electronics=pd.DataFrame(electronics)\n",
        "electronics.info()\n",
        "                          "
      ],
      "execution_count": 6,
      "outputs": [
        {
          "output_type": "stream",
          "text": [
            "<class 'pandas.core.frame.DataFrame'>\n",
            "RangeIndex: 235028 entries, 0 to 235027\n",
            "Data columns (total 3 columns):\n",
            " #   Column     Non-Null Count   Dtype  \n",
            "---  ------     --------------   -----  \n",
            " 0   userId     235028 non-null  object \n",
            " 1   productId  42301 non-null   object \n",
            " 2   Rating     235028 non-null  float64\n",
            "dtypes: float64(1), object(2)\n",
            "memory usage: 5.4+ MB\n"
          ],
          "name": "stdout"
        }
      ]
    },
    {
      "cell_type": "code",
      "metadata": {
        "trusted": true,
        "colab": {
          "base_uri": "https://localhost:8080/",
          "height": 406
        },
        "id": "1pIYBodyCTLL",
        "outputId": "3157bb87-4032-44de-e848-baf16dca6f9f"
      },
      "source": [
        "\n",
        "#electronics = electronics.loc[electronics['Rating']!=0]\n",
        "electronics"
      ],
      "execution_count": 7,
      "outputs": [
        {
          "output_type": "execute_result",
          "data": {
            "text/html": [
              "<div>\n",
              "<style scoped>\n",
              "    .dataframe tbody tr th:only-of-type {\n",
              "        vertical-align: middle;\n",
              "    }\n",
              "\n",
              "    .dataframe tbody tr th {\n",
              "        vertical-align: top;\n",
              "    }\n",
              "\n",
              "    .dataframe thead th {\n",
              "        text-align: right;\n",
              "    }\n",
              "</style>\n",
              "<table border=\"1\" class=\"dataframe\">\n",
              "  <thead>\n",
              "    <tr style=\"text-align: right;\">\n",
              "      <th></th>\n",
              "      <th>userId</th>\n",
              "      <th>productId</th>\n",
              "      <th>Rating</th>\n",
              "    </tr>\n",
              "  </thead>\n",
              "  <tbody>\n",
              "    <tr>\n",
              "      <th>0</th>\n",
              "      <td>254</td>\n",
              "      <td>NaN</td>\n",
              "      <td>0.0</td>\n",
              "    </tr>\n",
              "    <tr>\n",
              "      <th>1</th>\n",
              "      <td>3372</td>\n",
              "      <td>NaN</td>\n",
              "      <td>0.0</td>\n",
              "    </tr>\n",
              "    <tr>\n",
              "      <th>2</th>\n",
              "      <td>203854</td>\n",
              "      <td>NaN</td>\n",
              "      <td>0.0</td>\n",
              "    </tr>\n",
              "    <tr>\n",
              "      <th>3</th>\n",
              "      <td>203998</td>\n",
              "      <td>NaN</td>\n",
              "      <td>0.0</td>\n",
              "    </tr>\n",
              "    <tr>\n",
              "      <th>4</th>\n",
              "      <td>203999</td>\n",
              "      <td>NaN</td>\n",
              "      <td>0.0</td>\n",
              "    </tr>\n",
              "    <tr>\n",
              "      <th>...</th>\n",
              "      <td>...</td>\n",
              "      <td>...</td>\n",
              "      <td>...</td>\n",
              "    </tr>\n",
              "    <tr>\n",
              "      <th>235023</th>\n",
              "      <td>150175</td>\n",
              "      <td>79255</td>\n",
              "      <td>1.0</td>\n",
              "    </tr>\n",
              "    <tr>\n",
              "      <th>235024</th>\n",
              "      <td>205008</td>\n",
              "      <td>42691</td>\n",
              "      <td>2.0</td>\n",
              "    </tr>\n",
              "    <tr>\n",
              "      <th>235025</th>\n",
              "      <td>36298</td>\n",
              "      <td>58852</td>\n",
              "      <td>1.0</td>\n",
              "    </tr>\n",
              "    <tr>\n",
              "      <th>235026</th>\n",
              "      <td>66884</td>\n",
              "      <td>75694</td>\n",
              "      <td>2.0</td>\n",
              "    </tr>\n",
              "    <tr>\n",
              "      <th>235027</th>\n",
              "      <td>8828</td>\n",
              "      <td>70787</td>\n",
              "      <td>2.0</td>\n",
              "    </tr>\n",
              "  </tbody>\n",
              "</table>\n",
              "<p>235028 rows × 3 columns</p>\n",
              "</div>"
            ],
            "text/plain": [
              "        userId productId  Rating\n",
              "0          254       NaN     0.0\n",
              "1         3372       NaN     0.0\n",
              "2       203854       NaN     0.0\n",
              "3       203998       NaN     0.0\n",
              "4       203999       NaN     0.0\n",
              "...        ...       ...     ...\n",
              "235023  150175     79255     1.0\n",
              "235024  205008     42691     2.0\n",
              "235025   36298     58852     1.0\n",
              "235026   66884     75694     2.0\n",
              "235027    8828     70787     2.0\n",
              "\n",
              "[235028 rows x 3 columns]"
            ]
          },
          "metadata": {
            "tags": []
          },
          "execution_count": 7
        }
      ]
    },
    {
      "cell_type": "markdown",
      "metadata": {
        "id": "FVvjRQ4gCTLM"
      },
      "source": [
        "<a id=\"a3\"></a>\n",
        "# Attributes and Information"
      ]
    },
    {
      "cell_type": "markdown",
      "metadata": {
        "id": "8NIvrZSqCTLM"
      },
      "source": [
        "1. **userId** : Every user identified with a unique id<br>\n",
        "2. **productId** : Every product identified with a unique id<br>\n",
        "3. **Rating** : Rating of the corresponding product by the corresponding user<br>\n",
        "4. **timestamp** : Time of the rating"
      ]
    },
    {
      "cell_type": "markdown",
      "metadata": {
        "id": "3f70BGDGCTLN"
      },
      "source": [
        "<a id=\"a4\"></a>\n",
        "# Perform basic EDA"
      ]
    },
    {
      "cell_type": "markdown",
      "metadata": {
        "id": "Dknm9zAUCTLN"
      },
      "source": [
        "<a id=\"a4a\"></a>\n",
        "## a. Drop 'timestamp' attribute"
      ]
    },
    {
      "cell_type": "code",
      "metadata": {
        "trusted": false,
        "id": "bzAkVQTFCTLN"
      },
      "source": [
        "#electronics.drop('timestamp', axis=1, inplace=True)"
      ],
      "execution_count": 8,
      "outputs": []
    },
    {
      "cell_type": "markdown",
      "metadata": {
        "id": "YhRSHpR6CTLO"
      },
      "source": [
        "<a id=\"a4b\"></a>\n",
        "## b. Create subset of the original dataset"
      ]
    },
    {
      "cell_type": "markdown",
      "metadata": {
        "id": "XiNUQEfjCTLO"
      },
      "source": [
        "**Filtering the users who has given 50 or more number of ratings**"
      ]
    },
    {
      "cell_type": "code",
      "metadata": {
        "trusted": false,
        "id": "Fl4dCHBXCTLO"
      },
      "source": [
        "electronics_groupby_users_Ratings = electronics.groupby('userId')['Rating']\n",
        "electronics_groupby_users_Ratings = pd.DataFrame(electronics_groupby_users_Ratings.count())"
      ],
      "execution_count": 9,
      "outputs": []
    },
    {
      "cell_type": "code",
      "metadata": {
        "trusted": false,
        "id": "obuM6jbaCTLP"
      },
      "source": [
        "user_list_min50_ratings = electronics_groupby_users_Ratings[electronics_groupby_users_Ratings['Rating'] > 1].index\n",
        "electronics =  electronics[electronics['userId'].isin(user_list_min50_ratings)]"
      ],
      "execution_count": 10,
      "outputs": []
    },
    {
      "cell_type": "markdown",
      "metadata": {
        "id": "8C-YJcOYCTLP"
      },
      "source": [
        "<a id=\"a4c\"></a>\n",
        "## c. Shape of the data"
      ]
    },
    {
      "cell_type": "code",
      "metadata": {
        "trusted": false,
        "colab": {
          "base_uri": "https://localhost:8080/"
        },
        "id": "zqcIeWKmCTLQ",
        "outputId": "5e31a2f3-ee3c-444a-efcd-c52978e7dd06"
      },
      "source": [
        "print('The total number of rows :', electronics.shape[0])\n",
        "print('The total number of columns :', electronics.shape[1])"
      ],
      "execution_count": 11,
      "outputs": [
        {
          "output_type": "stream",
          "text": [
            "The total number of rows : 32855\n",
            "The total number of columns : 3\n"
          ],
          "name": "stdout"
        }
      ]
    },
    {
      "cell_type": "markdown",
      "metadata": {
        "id": "1XlCkaoUCTLR"
      },
      "source": [
        "<a id=\"a4e\"></a>\n",
        "## e. Checking the presence of missing values"
      ]
    },
    {
      "cell_type": "code",
      "metadata": {
        "trusted": false,
        "colab": {
          "base_uri": "https://localhost:8080/",
          "height": 134
        },
        "id": "dejN-Fq2CTLR",
        "outputId": "126f159d-bd53-464f-bc85-9d566acc9665"
      },
      "source": [
        "display(electronics.isna().sum().sort_values())\n",
        "print('===================')\n",
        "printmd('**CONCLUSION**: As seen from the data above, we conclude there are **\"No Missing\"** values in the data', color=\"blue\")"
      ],
      "execution_count": 12,
      "outputs": [
        {
          "output_type": "display_data",
          "data": {
            "text/plain": [
              "userId       0\n",
              "productId    0\n",
              "Rating       0\n",
              "dtype: int64"
            ]
          },
          "metadata": {
            "tags": []
          }
        },
        {
          "output_type": "stream",
          "text": [
            "===================\n"
          ],
          "name": "stdout"
        },
        {
          "output_type": "display_data",
          "data": {
            "text/markdown": "<span style='color:blue'>**CONCLUSION**: As seen from the data above, we conclude there are **\"No Missing\"** values in the data</span>",
            "text/plain": [
              "<IPython.core.display.Markdown object>"
            ]
          },
          "metadata": {
            "tags": []
          }
        }
      ]
    },
    {
      "cell_type": "markdown",
      "metadata": {
        "id": "0X2px3hjCTLR"
      },
      "source": [
        "<a id=\"a4f\"></a>\n",
        "## f. 5 point summary of numerical attributes"
      ]
    },
    {
      "cell_type": "code",
      "metadata": {
        "trusted": false,
        "colab": {
          "base_uri": "https://localhost:8080/",
          "height": 77
        },
        "id": "qIB0llCGCTLR",
        "outputId": "610e3928-cba7-4f73-b883-7f1ff01aceb3"
      },
      "source": [
        "display(electronics[['Rating']].describe().transpose())"
      ],
      "execution_count": 13,
      "outputs": [
        {
          "output_type": "display_data",
          "data": {
            "text/html": [
              "<div>\n",
              "<style scoped>\n",
              "    .dataframe tbody tr th:only-of-type {\n",
              "        vertical-align: middle;\n",
              "    }\n",
              "\n",
              "    .dataframe tbody tr th {\n",
              "        vertical-align: top;\n",
              "    }\n",
              "\n",
              "    .dataframe thead th {\n",
              "        text-align: right;\n",
              "    }\n",
              "</style>\n",
              "<table border=\"1\" class=\"dataframe\">\n",
              "  <thead>\n",
              "    <tr style=\"text-align: right;\">\n",
              "      <th></th>\n",
              "      <th>count</th>\n",
              "      <th>mean</th>\n",
              "      <th>std</th>\n",
              "      <th>min</th>\n",
              "      <th>25%</th>\n",
              "      <th>50%</th>\n",
              "      <th>75%</th>\n",
              "      <th>max</th>\n",
              "    </tr>\n",
              "  </thead>\n",
              "  <tbody>\n",
              "    <tr>\n",
              "      <th>Rating</th>\n",
              "      <td>32855.0</td>\n",
              "      <td>1.667996</td>\n",
              "      <td>10.797886</td>\n",
              "      <td>1.0</td>\n",
              "      <td>1.0</td>\n",
              "      <td>1.0</td>\n",
              "      <td>2.0</td>\n",
              "      <td>1000.0</td>\n",
              "    </tr>\n",
              "  </tbody>\n",
              "</table>\n",
              "</div>"
            ],
            "text/plain": [
              "          count      mean        std  min  25%  50%  75%     max\n",
              "Rating  32855.0  1.667996  10.797886  1.0  1.0  1.0  2.0  1000.0"
            ]
          },
          "metadata": {
            "tags": []
          }
        }
      ]
    },
    {
      "cell_type": "markdown",
      "metadata": {
        "id": "ejFIIjLICTLS"
      },
      "source": [
        "### Observations\n",
        "\n",
        "**Rating** : This is can be considered as categorical attribute with values of (1,2,3,4,5). The mean rating is 4.26 which means most of the users have given very good ratings for the products i.e. many records with ratings above 4. This can be seen from the median (Q2), 75% (Q3) and max values as 5. Even 25% (Q1) value is 4.0. "
      ]
    },
    {
      "cell_type": "markdown",
      "metadata": {
        "id": "lOzTflXECTLS"
      },
      "source": [
        "<a id=\"a4g\"></a>\n",
        "## g. Unique Users and Products Count"
      ]
    },
    {
      "cell_type": "code",
      "metadata": {
        "trusted": false,
        "colab": {
          "base_uri": "https://localhost:8080/"
        },
        "id": "ivzD0BgmCTLT",
        "outputId": "18058304-b582-4489-de4a-5a9d4074ed95"
      },
      "source": [
        "print('Total unique users in the dataset', electronics['userId'].nunique())\n",
        "print('Total unique products in the dataset', electronics['productId'].nunique())"
      ],
      "execution_count": 14,
      "outputs": [
        {
          "output_type": "stream",
          "text": [
            "Total unique users in the dataset 10642\n",
            "Total unique products in the dataset 9574\n"
          ],
          "name": "stdout"
        }
      ]
    },
    {
      "cell_type": "markdown",
      "metadata": {
        "id": "SimjvNp4CTLT"
      },
      "source": [
        "<a id=\"a5\"></a>\n",
        "# Data Analysis and Visualization"
      ]
    },
    {
      "cell_type": "markdown",
      "metadata": {
        "id": "WV3Z8OHdCTLT"
      },
      "source": [
        "<a id=\"a5a\"></a>\n",
        "## a. Rating Distribution"
      ]
    },
    {
      "cell_type": "code",
      "metadata": {
        "trusted": false,
        "id": "18zh4Ef8CTLU"
      },
      "source": [
        "pal = sns.color_palette(palette='Set1', n_colors=16)"
      ],
      "execution_count": 15,
      "outputs": []
    },
    {
      "cell_type": "code",
      "metadata": {
        "trusted": false,
        "colab": {
          "base_uri": "https://localhost:8080/",
          "height": 454
        },
        "id": "b_swkEk3CTLU",
        "outputId": "30699216-dc1f-4587-f771-de5573ec58e4"
      },
      "source": [
        "distplot(1, 1, 10, 7, data=electronics, features=['Rating'], colors=['blue'],bins=5)"
      ],
      "execution_count": 16,
      "outputs": [
        {
          "output_type": "display_data",
          "data": {
            "image/png": "[encoded data removed]",
            "text/plain": [
              "<Figure size 720x504 with 1 Axes>"
            ]
          },
          "metadata": {
            "tags": [],
            "needs_background": "light"
          }
        }
      ]
    },
    {
      "cell_type": "markdown",
      "metadata": {
        "id": "b6J1a8MCCTLU"
      },
      "source": [
        "### Observations\n",
        "\n",
        "1. Many users have rated 5 as it is shown with the huge spike\n",
        "2. This is followed by rating 4 which also has high number\n",
        "3. Ratings 1, 2, 3 are comparatively less."
      ]
    },
    {
      "cell_type": "code",
      "metadata": {
        "trusted": false,
        "colab": {
          "base_uri": "https://localhost:8080/",
          "height": 454
        },
        "id": "MSxEaXwTCTLV",
        "outputId": "5a3e7514-095d-4554-e1d1-998576ab61e4"
      },
      "source": [
        "distplot(1, 1, 10, 7, data=electronics, features=['Rating'], colors=['red'], kde=False,bins=5)"
      ],
      "execution_count": 17,
      "outputs": [
        {
          "output_type": "display_data",
          "data": {
            "image/png": "[encoded data removed]",
            "text/plain": [
              "<Figure size 720x504 with 1 Axes>"
            ]
          },
          "metadata": {
            "tags": [],
            "needs_background": "light"
          }
        }
      ]
    },
    {
      "cell_type": "markdown",
      "metadata": {
        "id": "b55Tuqr5CTLV"
      },
      "source": [
        "### Observations\n",
        "\n",
        "1. Many users have rated 5 as it is shown with the huge spike with a value of more than 70k records.\n",
        "2. This is followed by rating 4 which also has high number with a value of mroe than 30k records.\n",
        "3. More than 10k users have rated 3.\n",
        "4. Rating 1 and 2 have been rated below 10k records."
      ]
    },
    {
      "cell_type": "markdown",
      "metadata": {
        "id": "1N1J8qiRCTLW"
      },
      "source": [
        "<a id=\"a5b\"></a>\n",
        "## b. Top Rating Count Distribution grouped by Products"
      ]
    },
    {
      "cell_type": "code",
      "metadata": {
        "trusted": false,
        "id": "xjj-18JECTLX"
      },
      "source": [
        "electronics_groupby_products_Ratings = electronics.groupby('productId')['Rating']"
      ],
      "execution_count": 18,
      "outputs": []
    },
    {
      "cell_type": "code",
      "metadata": {
        "trusted": false,
        "colab": {
          "base_uri": "https://localhost:8080/"
        },
        "id": "uWLqI0nRCTLX",
        "outputId": "c9740d46-dfc2-4bc4-ab0b-f220dec65f6f"
      },
      "source": [
        "electronics_groupby_products_Ratings.count().clip(upper=20).unique()"
      ],
      "execution_count": 19,
      "outputs": [
        {
          "output_type": "execute_result",
          "data": {
            "text/plain": [
              "array([ 3,  4,  9,  1,  8, 10,  2,  5, 16, 20, 13, 14,  6,  7, 11, 12, 15,\n",
              "       19, 17, 18])"
            ]
          },
          "metadata": {
            "tags": []
          },
          "execution_count": 19
        }
      ]
    },
    {
      "cell_type": "code",
      "metadata": {
        "trusted": false,
        "id": "z6i5gv1bCTLX"
      },
      "source": [
        "ratings_products = pd.DataFrame(electronics_groupby_products_Ratings.count().clip(upper=20))\n",
        "ratings_products.rename(columns={\"Rating\": \"Rating_Count\"}, inplace=True)"
      ],
      "execution_count": 20,
      "outputs": []
    },
    {
      "cell_type": "code",
      "metadata": {
        "trusted": false,
        "colab": {
          "base_uri": "https://localhost:8080/",
          "height": 454
        },
        "id": "BR8Ta5C4CTLY",
        "outputId": "af33cc71-5866-4811-e532-c02ab8f491b0"
      },
      "source": [
        "distplot(1, 1, 10, 7, data=ratings_products, features=['Rating_Count'], colors=['green'], kde=False)"
      ],
      "execution_count": 21,
      "outputs": [
        {
          "output_type": "display_data",
          "data": {
            "image/png": "[encoded data removed]",
            "text/plain": [
              "<Figure size 720x504 with 1 Axes>"
            ]
          },
          "metadata": {
            "tags": [],
            "needs_background": "light"
          }
        }
      ]
    },
    {
      "cell_type": "markdown",
      "metadata": {
        "id": "Wq0Y-TfKCTLY"
      },
      "source": [
        "### Observations\n",
        "\n",
        "This is a ratings count distribution grouped by all the Products. For the plot perspective, I have clipped the upper limit to 30 which means any value above 30 will be set to it. \n",
        "\n",
        "As it can been seen from the plot, there are many products which were rated only once i.e. only one user have rated. And then the count decreases."
      ]
    },
    {
      "cell_type": "markdown",
      "metadata": {
        "id": "VNl3z6gTCTLY"
      },
      "source": [
        "<a id=\"a5c\"></a>\n",
        "## c. Top Rating Count Distribution grouped by Users"
      ]
    },
    {
      "cell_type": "code",
      "metadata": {
        "trusted": false,
        "id": "nSJlIvu4CTLZ"
      },
      "source": [
        "electronics_groupby_users_Ratings = electronics.groupby('userId')['Rating']"
      ],
      "execution_count": 22,
      "outputs": []
    },
    {
      "cell_type": "code",
      "metadata": {
        "trusted": false,
        "colab": {
          "base_uri": "https://localhost:8080/"
        },
        "id": "8Bb-iqTBCTLZ",
        "outputId": "55ada5c8-3025-45d0-a269-f92c7094ffbf"
      },
      "source": [
        "electronics_groupby_users_Ratings.count().clip(lower=5).unique()"
      ],
      "execution_count": 23,
      "outputs": [
        {
          "output_type": "execute_result",
          "data": {
            "text/plain": [
              "array([   5,    9,    8,    6,    7,   10,   11,   12,   18,   13,   14,\n",
              "       1152,   49,   15,   22,   17,   38,   16,   19,   26,   25])"
            ]
          },
          "metadata": {
            "tags": []
          },
          "execution_count": 23
        }
      ]
    },
    {
      "cell_type": "code",
      "metadata": {
        "trusted": false,
        "id": "EgosnJ-OCTLZ"
      },
      "source": [
        "rating_users = pd.DataFrame(electronics_groupby_users_Ratings.count().clip(lower=1, upper=5))\n",
        "rating_users.rename(columns={\"Rating\": \"Rating_Count\"}, inplace=True)"
      ],
      "execution_count": 24,
      "outputs": []
    },
    {
      "cell_type": "code",
      "metadata": {
        "trusted": false,
        "colab": {
          "base_uri": "https://localhost:8080/",
          "height": 454
        },
        "id": "YCFSlmcuCTLa",
        "outputId": "7ee3753a-9ca2-4308-dce4-530e04afbe78"
      },
      "source": [
        "distplot(1, 1, 10, 7, data=rating_users, features=['Rating_Count'], colors=['orange'], kde=False, bins=5)"
      ],
      "execution_count": 25,
      "outputs": [
        {
          "output_type": "display_data",
          "data": {
            "image/png": "[encoded data removed]",
            "text/plain": [
              "<Figure size 720x504 with 1 Axes>"
            ]
          },
          "metadata": {
            "tags": [],
            "needs_background": "light"
          }
        }
      ]
    },
    {
      "cell_type": "markdown",
      "metadata": {
        "id": "YNQw24jqCTLa"
      },
      "source": [
        "### Observations\n",
        "\n",
        "This is a ratings count distribution grouped by all the Users. For the plot perspective, I have clipped the count limit between 50 to 300 which means any value below 50 or above 300 will be set to the respective values. \n",
        "\n",
        "As it can been seen from the plot, there are many users which have rated 50 times or below. Ratings count by users gradually decreases which means few users have rated many products. "
      ]
    },
    {
      "cell_type": "markdown",
      "metadata": {
        "id": "7UoOgx7hCTLb"
      },
      "source": [
        "<a id=\"a5d\"></a>\n",
        "## d. Mean Rating Distribution grouped by Products"
      ]
    },
    {
      "cell_type": "code",
      "metadata": {
        "trusted": false,
        "id": "HZL-xGt0CTLb"
      },
      "source": [
        "ratings = pd.DataFrame(electronics.groupby('productId')['Rating'].mean().clip(lower=1,upper=3))\n",
        "ratings.rename(columns={\"Rating\": \"Rating_Mean\"}, inplace=True)"
      ],
      "execution_count": 26,
      "outputs": []
    },
    {
      "cell_type": "code",
      "metadata": {
        "trusted": false,
        "id": "3CEOcAWkCTLb",
        "colab": {
          "base_uri": "https://localhost:8080/",
          "height": 454
        },
        "outputId": "d3d58c29-0502-4ec3-f3e9-32a0225f37fd"
      },
      "source": [
        "distplot(1, 1, 10, 7, data=ratings, features=['Rating_Mean'], colors=['brown'], kde=False, bins=5)"
      ],
      "execution_count": 27,
      "outputs": [
        {
          "output_type": "display_data",
          "data": {
            "image/png": "[encoded data removed]",
            "text/plain": [
              "<Figure size 720x504 with 1 Axes>"
            ]
          },
          "metadata": {
            "tags": [],
            "needs_background": "light"
          }
        }
      ]
    },
    {
      "cell_type": "markdown",
      "metadata": {
        "id": "tEKpy7w9CTLb"
      },
      "source": [
        "### Observations\n",
        "\n",
        "This is a mean rating distribution grouped by all the Products.\n",
        "\n",
        "As it can been seen from the plot, there are many products which were given a Rating of 4 or 5. Hence the plot shows lot of bins between 4 and 5. "
      ]
    },
    {
      "cell_type": "markdown",
      "metadata": {
        "id": "Yc-YlHfICTLc"
      },
      "source": [
        "<a id=\"a5e\"></a>\n",
        "## e. Mean Rating - Rating Count Distribution grouped by Products"
      ]
    },
    {
      "cell_type": "code",
      "metadata": {
        "trusted": false,
        "id": "sXSQugQgCTLc"
      },
      "source": [
        "ratings['Rating_Count'] = electronics.groupby('productId')['Rating'].count()"
      ],
      "execution_count": 28,
      "outputs": []
    },
    {
      "cell_type": "code",
      "metadata": {
        "trusted": false,
        "id": "OTjhNaPzCTLc",
        "colab": {
          "base_uri": "https://localhost:8080/",
          "height": 508
        },
        "outputId": "68b55ad3-d2be-486c-d9c8-07c85683ec83"
      },
      "source": [
        "scatterplot('Rating_Mean', 'Rating_Count', data=ratings)"
      ],
      "execution_count": 29,
      "outputs": [
        {
          "output_type": "display_data",
          "data": {
            "image/png": "[encoded data removed]",
            "text/plain": [
              "<Figure size 720x576 with 1 Axes>"
            ]
          },
          "metadata": {
            "tags": [],
            "needs_background": "light"
          }
        }
      ]
    },
    {
      "cell_type": "markdown",
      "metadata": {
        "id": "zmbPQWY6CTLd"
      },
      "source": [
        "### Observations\n",
        "\n",
        "This is a joint plot between Mean rating distribution and Rating Count grouped by all the Products. As shown in the plot, data is clustered between mean rating of 3.5 to 5. "
      ]
    },
    {
      "cell_type": "markdown",
      "metadata": {
        "id": "-aIfKlrGCTLd"
      },
      "source": [
        "<a id=\"a5f\"></a>\n",
        "## f. Mean Rating Distribution grouped by Users"
      ]
    },
    {
      "cell_type": "code",
      "metadata": {
        "trusted": false,
        "id": "tg18C8mDCTLe",
        "colab": {
          "base_uri": "https://localhost:8080/",
          "height": 454
        },
        "outputId": "fef77a7d-bc57-4648-9874-6a41c1274d0d"
      },
      "source": [
        "ratings = pd.DataFrame(electronics.groupby('userId')['Rating'].mean().clip(upper=5))\n",
        "ratings.rename(columns={\"Rating\": \"Rating_Mean\"}, inplace=True)\n",
        "distplot(1, 1, 10, 7, data=ratings, features=['Rating_Mean'], colors=['brown'], kde=False, bins=5)"
      ],
      "execution_count": 30,
      "outputs": [
        {
          "output_type": "display_data",
          "data": {
            "image/png": "[encoded data removed]",
            "text/plain": [
              "<Figure size 720x504 with 1 Axes>"
            ]
          },
          "metadata": {
            "tags": [],
            "needs_background": "light"
          }
        }
      ]
    },
    {
      "cell_type": "markdown",
      "metadata": {
        "id": "SWUlyrCMCTLf"
      },
      "source": [
        "### Observations\n",
        "\n",
        "This is a mean rating distribution grouped by all the Users. This looks like slightly left skewed normal distribution.\n",
        "\n",
        "Data is uniformly distribution from rating 3 to 5 with many around 4 to 4.5. Many users have an average rating of around 4.5. "
      ]
    },
    {
      "cell_type": "markdown",
      "metadata": {
        "id": "M7wfWQiJCTLf"
      },
      "source": [
        "<a id=\"a5g\"></a>\n",
        "## g. Mean Rating - Rating Count Distribution grouped by Users"
      ]
    },
    {
      "cell_type": "code",
      "metadata": {
        "trusted": false,
        "id": "ZrZao--BCTLf",
        "colab": {
          "base_uri": "https://localhost:8080/",
          "height": 508
        },
        "outputId": "ce292665-0024-4fa6-b585-925c2611b4d5"
      },
      "source": [
        "ratings['Rating_Count'] = electronics.groupby('userId')['Rating'].count().clip(upper=5)\n",
        "scatterplot('Rating_Mean', 'Rating_Count', data=ratings)"
      ],
      "execution_count": 31,
      "outputs": [
        {
          "output_type": "display_data",
          "data": {
            "image/png": "[encoded data removed]",
            "text/plain": [
              "<Figure size 720x576 with 1 Axes>"
            ]
          },
          "metadata": {
            "tags": [],
            "needs_background": "light"
          }
        }
      ]
    },
    {
      "cell_type": "markdown",
      "metadata": {
        "id": "VZ9I5Wu4CTLg"
      },
      "source": [
        "### Observations\n",
        "\n",
        "This is a joint plot between Mean rating distribution and Rating Count grouped by all the Users. As shown in the plot, data is clustered between 3.5 to 5. There are many data points when the Rating count is less than 100 and the mean rating for the users is between 3.5 and 5"
      ]
    },
    {
      "cell_type": "markdown",
      "metadata": {
        "id": "vl8Qb28kCTLg"
      },
      "source": [
        "<a id=\"a6\"></a>\n",
        "# Split the data into training and test set in the ratio of 70:30 respectively"
      ]
    },
    {
      "cell_type": "code",
      "metadata": {
        "trusted": false,
        "id": "LFhs1uUdCTLg",
        "colab": {
          "base_uri": "https://localhost:8080/",
          "height": 81
        },
        "outputId": "3767e842-ad76-43b2-ff79-ae7fd000df35"
      },
      "source": [
        "train_data, test_data = train_test_split(electronics, test_size =.30, random_state=10)\n",
        "printmd('**Training and Testing Set Distribution**', color='brown')\n",
        "\n",
        "print(f'Training set has {train_data.shape[0]} rows and {train_data.shape[1]} columns')\n",
        "print(f'Testing set has {test_data.shape[0]} rows and {test_data.shape[1]} columns')\n"
      ],
      "execution_count": 32,
      "outputs": [
        {
          "output_type": "display_data",
          "data": {
            "text/markdown": "<span style='color:brown'>**Training and Testing Set Distribution**</span>",
            "text/plain": [
              "<IPython.core.display.Markdown object>"
            ]
          },
          "metadata": {
            "tags": []
          }
        },
        {
          "output_type": "stream",
          "text": [
            "Training set has 22998 rows and 3 columns\n",
            "Testing set has 9857 rows and 3 columns\n"
          ],
          "name": "stdout"
        }
      ]
    },
    {
      "cell_type": "markdown",
      "metadata": {
        "id": "lBB9BombCTLh"
      },
      "source": [
        "<a id=\"a7\"></a>\n",
        "# Recommender Systems"
      ]
    },
    {
      "cell_type": "markdown",
      "metadata": {
        "id": "3R6RUUBTCTLh"
      },
      "source": [
        "A recommender system is a simple algorithm whose aim is to provide the most relevant information to a user by discovering patterns in a dataset. The algorithm rates the items and shows the user the items that they would rate highly."
      ]
    },
    {
      "cell_type": "markdown",
      "metadata": {
        "id": "DDGxNLKuCTLh"
      },
      "source": [
        "<a id=\"a7a\"></a>\n",
        "## a. Popularity Based Recommender Model"
      ]
    },
    {
      "cell_type": "markdown",
      "metadata": {
        "id": "fIWpsnbPCTLh"
      },
      "source": [
        "Popularity based recommendation system uses the items that are in trend right now. It ranks products based on its popularity i.e. the rating count. If a product is highly rated then it is most likely to be ranked higher and hence will be recommended. As it is based on the products popularity, this can not be personalized and hence same set of products will be recommended for all the users."
      ]
    },
    {
      "cell_type": "code",
      "metadata": {
        "trusted": false,
        "id": "pJFEJH4bCTLi"
      },
      "source": [
        "class popularity_based_recommender_model():\n",
        "    def __init__(self, train_data, test_data, user_id, item_id):\n",
        "        self.train_data = train_data\n",
        "        self.test_data = test_data\n",
        "        self.user_id = user_id\n",
        "        self.item_id = item_id\n",
        "        self.popularity_recommendations = None\n",
        "        \n",
        "    #Create the popularity based recommender system model\n",
        "    def fit(self):\n",
        "        #Get a count of user_ids for each unique product as recommendation score\n",
        "        train_data_grouped = train_data.groupby([self.item_id]).agg({self.user_id: 'count'}).reset_index()\n",
        "        train_data_grouped.rename(columns = {'userId': 'score'},inplace=True)\n",
        "    \n",
        "        #Sort the products based upon recommendation score\n",
        "        train_data_sort = train_data_grouped.sort_values(['score', self.item_id], ascending = [0,1])\n",
        "    \n",
        "        #Generate a recommendation rank based upon score\n",
        "        train_data_sort['Rank'] = train_data_sort['score'].rank(ascending=0, method='first')\n",
        "        \n",
        "        #Get the top 10 recommendations\n",
        "        self.popularity_recommendations = train_data_sort.head(20)\n",
        "\n",
        "    #Use the popularity based recommender system model to make recommendations\n",
        "    def recommend(self, user_id, n=5):    \n",
        "        user_recommendations = self.popularity_recommendations\n",
        "        \n",
        "        #Filter products that are not rated by the user\n",
        "        products_already_rated_by_user = self.train_data[self.train_data[self.user_id] == user_id][self.item_id]        \n",
        "        user_recommendations = user_recommendations[~user_recommendations[self.item_id].isin(products_already_rated_by_user)]\n",
        "        \n",
        "        #Add user_id column for which the recommendations are being generated\n",
        "        user_recommendations['user_id'] = user_id\n",
        "    \n",
        "        #Bring user_id column to the front\n",
        "        cols = user_recommendations.columns.tolist()\n",
        "        cols = cols[-1:] + cols[:-1]\n",
        "        user_recommendations = user_recommendations[cols].head(n)     \n",
        "        self.plot(user_recommendations)\n",
        "        return user_recommendations\n",
        "    \n",
        "    def plot(self, user_recommendations):\n",
        "        f, axes = plt.subplots(1, 2, figsize=(20, 8))\n",
        "        cplot1 = sns.barplot(x='Rank', y='score', data=user_recommendations, hue='Rank', ax=axes[0])\n",
        "        cplot1.set_xlabel('Rank',fontsize=20)\n",
        "        cplot1.set_ylabel('score',fontsize=20)            \n",
        "        cplot2 = sns.pointplot(x='Rank', y='score', data=user_recommendations, hue='Rank', ax=axes[1])\n",
        "        cplot2.set_xlabel('Rank',fontsize=20)\n",
        "        cplot2.set_ylabel('score',fontsize=20)\n",
        "        \n",
        "    def predict_evaluate(self):        \n",
        "        ratings = pd.DataFrame(self.train_data.groupby(self.item_id)['Rating'].mean())\n",
        "        \n",
        "        pred_ratings = [];            \n",
        "        for data in self.test_data.values:\n",
        "            if(data[1] in (ratings.index)):\n",
        "                pred_ratings.append(ratings.loc[data[1]])\n",
        "            else:\n",
        "                pred_ratings.append(0)\n",
        "        \n",
        "        mse = mean_squared_error(self.test_data['Rating'], pred_ratings)\n",
        "        rmse = sqrt(mse)\n",
        "        return rmse\n",
        "        \n",
        "        "
      ],
      "execution_count": 33,
      "outputs": []
    },
    {
      "cell_type": "markdown",
      "metadata": {
        "id": "WNhSsJYLCTLi"
      },
      "source": [
        "<a id=\"a7a1\"></a>\n",
        "### Initialize"
      ]
    },
    {
      "cell_type": "code",
      "metadata": {
        "trusted": false,
        "id": "i1zu-rJhCTLi"
      },
      "source": [
        "pr = popularity_based_recommender_model(train_data=train_data, test_data=test_data, user_id='userId', item_id='productId')"
      ],
      "execution_count": 34,
      "outputs": []
    },
    {
      "cell_type": "markdown",
      "metadata": {
        "id": "4OUaN9C_CTLj"
      },
      "source": [
        "<a id=\"a7a2\"></a>\n",
        "### Fit"
      ]
    },
    {
      "cell_type": "code",
      "metadata": {
        "trusted": false,
        "id": "-pdJpf6RCTLj"
      },
      "source": [
        "pr.fit()"
      ],
      "execution_count": 35,
      "outputs": []
    },
    {
      "cell_type": "markdown",
      "metadata": {
        "id": "cVDRnc23CTLj"
      },
      "source": [
        "<a id=\"a7a3\"></a>\n",
        "### Recommend"
      ]
    },
    {
      "cell_type": "markdown",
      "metadata": {
        "id": "GRFV-EgTCTLj"
      },
      "source": [
        "**Trying with three different Users**"
      ]
    },
    {
      "cell_type": "code",
      "metadata": {
        "trusted": false,
        "id": "JkNm3By7CTLk",
        "colab": {
          "base_uri": "https://localhost:8080/",
          "height": 658
        },
        "outputId": "b2aa0453-2540-4dc6-9b56-5c8024ade6cb"
      },
      "source": [
        "result_pop_user1 = pr.recommend('254')\n",
        "result_pop_user1"
      ],
      "execution_count": 36,
      "outputs": [
        {
          "output_type": "execute_result",
          "data": {
            "text/html": [
              "<div>\n",
              "<style scoped>\n",
              "    .dataframe tbody tr th:only-of-type {\n",
              "        vertical-align: middle;\n",
              "    }\n",
              "\n",
              "    .dataframe tbody tr th {\n",
              "        vertical-align: top;\n",
              "    }\n",
              "\n",
              "    .dataframe thead th {\n",
              "        text-align: right;\n",
              "    }\n",
              "</style>\n",
              "<table border=\"1\" class=\"dataframe\">\n",
              "  <thead>\n",
              "    <tr style=\"text-align: right;\">\n",
              "      <th></th>\n",
              "      <th>user_id</th>\n",
              "      <th>productId</th>\n",
              "      <th>score</th>\n",
              "      <th>Rank</th>\n",
              "    </tr>\n",
              "  </thead>\n",
              "  <tbody>\n",
              "    <tr>\n",
              "      <th>3073</th>\n",
              "      <td>254</td>\n",
              "      <td>81572</td>\n",
              "      <td>637</td>\n",
              "      <td>1.0</td>\n",
              "    </tr>\n",
              "    <tr>\n",
              "      <th>3101</th>\n",
              "      <td>254</td>\n",
              "      <td>81773</td>\n",
              "      <td>504</td>\n",
              "      <td>2.0</td>\n",
              "    </tr>\n",
              "    <tr>\n",
              "      <th>2215</th>\n",
              "      <td>254</td>\n",
              "      <td>75694</td>\n",
              "      <td>437</td>\n",
              "      <td>3.0</td>\n",
              "    </tr>\n",
              "    <tr>\n",
              "      <th>684</th>\n",
              "      <td>254</td>\n",
              "      <td>10437</td>\n",
              "      <td>377</td>\n",
              "      <td>4.0</td>\n",
              "    </tr>\n",
              "    <tr>\n",
              "      <th>1738</th>\n",
              "      <td>254</td>\n",
              "      <td>70781</td>\n",
              "      <td>257</td>\n",
              "      <td>5.0</td>\n",
              "    </tr>\n",
              "  </tbody>\n",
              "</table>\n",
              "</div>"
            ],
            "text/plain": [
              "     user_id productId  score  Rank\n",
              "3073     254     81572    637   1.0\n",
              "3101     254     81773    504   2.0\n",
              "2215     254     75694    437   3.0\n",
              "684      254     10437    377   4.0\n",
              "1738     254     70781    257   5.0"
            ]
          },
          "metadata": {
            "tags": []
          },
          "execution_count": 36
        },
        {
          "output_type": "display_data",
          "data": {
            "image/png": "[encoded data removed]",
            "text/plain": [
              "<Figure size 1440x576 with 2 Axes>"
            ]
          },
          "metadata": {
            "tags": [],
            "needs_background": "light"
          }
        }
      ]
    },
    {
      "cell_type": "code",
      "metadata": {
        "trusted": false,
        "id": "ea1cvAz0CTLk",
        "colab": {
          "base_uri": "https://localhost:8080/",
          "height": 658
        },
        "outputId": "6b9f218b-041d-400f-f98e-ae93b9896f9f"
      },
      "source": [
        "result_pop_user2 = pr.recommend('3372')\n",
        "result_pop_user2"
      ],
      "execution_count": 37,
      "outputs": [
        {
          "output_type": "execute_result",
          "data": {
            "text/html": [
              "<div>\n",
              "<style scoped>\n",
              "    .dataframe tbody tr th:only-of-type {\n",
              "        vertical-align: middle;\n",
              "    }\n",
              "\n",
              "    .dataframe tbody tr th {\n",
              "        vertical-align: top;\n",
              "    }\n",
              "\n",
              "    .dataframe thead th {\n",
              "        text-align: right;\n",
              "    }\n",
              "</style>\n",
              "<table border=\"1\" class=\"dataframe\">\n",
              "  <thead>\n",
              "    <tr style=\"text-align: right;\">\n",
              "      <th></th>\n",
              "      <th>user_id</th>\n",
              "      <th>productId</th>\n",
              "      <th>score</th>\n",
              "      <th>Rank</th>\n",
              "    </tr>\n",
              "  </thead>\n",
              "  <tbody>\n",
              "    <tr>\n",
              "      <th>3073</th>\n",
              "      <td>3372</td>\n",
              "      <td>81572</td>\n",
              "      <td>637</td>\n",
              "      <td>1.0</td>\n",
              "    </tr>\n",
              "    <tr>\n",
              "      <th>3101</th>\n",
              "      <td>3372</td>\n",
              "      <td>81773</td>\n",
              "      <td>504</td>\n",
              "      <td>2.0</td>\n",
              "    </tr>\n",
              "    <tr>\n",
              "      <th>2215</th>\n",
              "      <td>3372</td>\n",
              "      <td>75694</td>\n",
              "      <td>437</td>\n",
              "      <td>3.0</td>\n",
              "    </tr>\n",
              "    <tr>\n",
              "      <th>684</th>\n",
              "      <td>3372</td>\n",
              "      <td>10437</td>\n",
              "      <td>377</td>\n",
              "      <td>4.0</td>\n",
              "    </tr>\n",
              "    <tr>\n",
              "      <th>1738</th>\n",
              "      <td>3372</td>\n",
              "      <td>70781</td>\n",
              "      <td>257</td>\n",
              "      <td>5.0</td>\n",
              "    </tr>\n",
              "  </tbody>\n",
              "</table>\n",
              "</div>"
            ],
            "text/plain": [
              "     user_id productId  score  Rank\n",
              "3073    3372     81572    637   1.0\n",
              "3101    3372     81773    504   2.0\n",
              "2215    3372     75694    437   3.0\n",
              "684     3372     10437    377   4.0\n",
              "1738    3372     70781    257   5.0"
            ]
          },
          "metadata": {
            "tags": []
          },
          "execution_count": 37
        },
        {
          "output_type": "display_data",
          "data": {
            "image/png": "[encoded data removed]",
            "text/plain": [
              "<Figure size 1440x576 with 2 Axes>"
            ]
          },
          "metadata": {
            "tags": [],
            "needs_background": "light"
          }
        }
      ]
    },
    {
      "cell_type": "code",
      "metadata": {
        "trusted": false,
        "id": "VcfbgJOBCTLk",
        "colab": {
          "base_uri": "https://localhost:8080/",
          "height": 658
        },
        "outputId": "c3e62ac2-4ca9-4fc1-9065-cc94835e443a"
      },
      "source": [
        "result_pop_user3 = pr.recommend('203854')\n",
        "result_pop_user3"
      ],
      "execution_count": 38,
      "outputs": [
        {
          "output_type": "execute_result",
          "data": {
            "text/html": [
              "<div>\n",
              "<style scoped>\n",
              "    .dataframe tbody tr th:only-of-type {\n",
              "        vertical-align: middle;\n",
              "    }\n",
              "\n",
              "    .dataframe tbody tr th {\n",
              "        vertical-align: top;\n",
              "    }\n",
              "\n",
              "    .dataframe thead th {\n",
              "        text-align: right;\n",
              "    }\n",
              "</style>\n",
              "<table border=\"1\" class=\"dataframe\">\n",
              "  <thead>\n",
              "    <tr style=\"text-align: right;\">\n",
              "      <th></th>\n",
              "      <th>user_id</th>\n",
              "      <th>productId</th>\n",
              "      <th>score</th>\n",
              "      <th>Rank</th>\n",
              "    </tr>\n",
              "  </thead>\n",
              "  <tbody>\n",
              "    <tr>\n",
              "      <th>3073</th>\n",
              "      <td>203854</td>\n",
              "      <td>81572</td>\n",
              "      <td>637</td>\n",
              "      <td>1.0</td>\n",
              "    </tr>\n",
              "    <tr>\n",
              "      <th>3101</th>\n",
              "      <td>203854</td>\n",
              "      <td>81773</td>\n",
              "      <td>504</td>\n",
              "      <td>2.0</td>\n",
              "    </tr>\n",
              "    <tr>\n",
              "      <th>2215</th>\n",
              "      <td>203854</td>\n",
              "      <td>75694</td>\n",
              "      <td>437</td>\n",
              "      <td>3.0</td>\n",
              "    </tr>\n",
              "    <tr>\n",
              "      <th>684</th>\n",
              "      <td>203854</td>\n",
              "      <td>10437</td>\n",
              "      <td>377</td>\n",
              "      <td>4.0</td>\n",
              "    </tr>\n",
              "    <tr>\n",
              "      <th>1738</th>\n",
              "      <td>203854</td>\n",
              "      <td>70781</td>\n",
              "      <td>257</td>\n",
              "      <td>5.0</td>\n",
              "    </tr>\n",
              "  </tbody>\n",
              "</table>\n",
              "</div>"
            ],
            "text/plain": [
              "     user_id productId  score  Rank\n",
              "3073  203854     81572    637   1.0\n",
              "3101  203854     81773    504   2.0\n",
              "2215  203854     75694    437   3.0\n",
              "684   203854     10437    377   4.0\n",
              "1738  203854     70781    257   5.0"
            ]
          },
          "metadata": {
            "tags": []
          },
          "execution_count": 38
        },
        {
          "output_type": "display_data",
          "data": {
            "image/png": "[encoded data removed]",
            "text/plain": [
              "<Figure size 1440x576 with 2 Axes>"
            ]
          },
          "metadata": {
            "tags": [],
            "needs_background": "light"
          }
        }
      ]
    },
    {
      "cell_type": "code",
      "metadata": {
        "trusted": false,
        "id": "5eY-owg_CTLl",
        "colab": {
          "base_uri": "https://localhost:8080/",
          "height": 378
        },
        "outputId": "c9339b4a-9250-45ba-a84e-50f09889b993"
      },
      "source": [
        "display_side_by_side([result_pop_user1, result_pop_user2, result_pop_user3])"
      ],
      "execution_count": 39,
      "outputs": [
        {
          "output_type": "display_data",
          "data": {
            "text/html": [
              "<table style=\"display:inline;margin-left:50px !important;margin-right: 40px !important\" border=\"1\" class=\"dataframe\">\n",
              "  <thead>\n",
              "    <tr style=\"text-align: right;\">\n",
              "      <th></th>\n",
              "      <th>user_id</th>\n",
              "      <th>productId</th>\n",
              "      <th>score</th>\n",
              "      <th>Rank</th>\n",
              "    </tr>\n",
              "  </thead>\n",
              "  <tbody>\n",
              "    <tr>\n",
              "      <th>3073</th>\n",
              "      <td>254</td>\n",
              "      <td>81572</td>\n",
              "      <td>637</td>\n",
              "      <td>1.0</td>\n",
              "    </tr>\n",
              "    <tr>\n",
              "      <th>3101</th>\n",
              "      <td>254</td>\n",
              "      <td>81773</td>\n",
              "      <td>504</td>\n",
              "      <td>2.0</td>\n",
              "    </tr>\n",
              "    <tr>\n",
              "      <th>2215</th>\n",
              "      <td>254</td>\n",
              "      <td>75694</td>\n",
              "      <td>437</td>\n",
              "      <td>3.0</td>\n",
              "    </tr>\n",
              "    <tr>\n",
              "      <th>684</th>\n",
              "      <td>254</td>\n",
              "      <td>10437</td>\n",
              "      <td>377</td>\n",
              "      <td>4.0</td>\n",
              "    </tr>\n",
              "    <tr>\n",
              "      <th>1738</th>\n",
              "      <td>254</td>\n",
              "      <td>70781</td>\n",
              "      <td>257</td>\n",
              "      <td>5.0</td>\n",
              "    </tr>\n",
              "  </tbody>\n",
              "</table style=\"display:inline;margin-left:50px !important;margin-right: 40px !important\"><table style=\"display:inline;margin-left:50px !important;margin-right: 40px !important\" border=\"1\" class=\"dataframe\">\n",
              "  <thead>\n",
              "    <tr style=\"text-align: right;\">\n",
              "      <th></th>\n",
              "      <th>user_id</th>\n",
              "      <th>productId</th>\n",
              "      <th>score</th>\n",
              "      <th>Rank</th>\n",
              "    </tr>\n",
              "  </thead>\n",
              "  <tbody>\n",
              "    <tr>\n",
              "      <th>3073</th>\n",
              "      <td>3372</td>\n",
              "      <td>81572</td>\n",
              "      <td>637</td>\n",
              "      <td>1.0</td>\n",
              "    </tr>\n",
              "    <tr>\n",
              "      <th>3101</th>\n",
              "      <td>3372</td>\n",
              "      <td>81773</td>\n",
              "      <td>504</td>\n",
              "      <td>2.0</td>\n",
              "    </tr>\n",
              "    <tr>\n",
              "      <th>2215</th>\n",
              "      <td>3372</td>\n",
              "      <td>75694</td>\n",
              "      <td>437</td>\n",
              "      <td>3.0</td>\n",
              "    </tr>\n",
              "    <tr>\n",
              "      <th>684</th>\n",
              "      <td>3372</td>\n",
              "      <td>10437</td>\n",
              "      <td>377</td>\n",
              "      <td>4.0</td>\n",
              "    </tr>\n",
              "    <tr>\n",
              "      <th>1738</th>\n",
              "      <td>3372</td>\n",
              "      <td>70781</td>\n",
              "      <td>257</td>\n",
              "      <td>5.0</td>\n",
              "    </tr>\n",
              "  </tbody>\n",
              "</table style=\"display:inline;margin-left:50px !important;margin-right: 40px !important\"><table style=\"display:inline;margin-left:50px !important;margin-right: 40px !important\" border=\"1\" class=\"dataframe\">\n",
              "  <thead>\n",
              "    <tr style=\"text-align: right;\">\n",
              "      <th></th>\n",
              "      <th>user_id</th>\n",
              "      <th>productId</th>\n",
              "      <th>score</th>\n",
              "      <th>Rank</th>\n",
              "    </tr>\n",
              "  </thead>\n",
              "  <tbody>\n",
              "    <tr>\n",
              "      <th>3073</th>\n",
              "      <td>203854</td>\n",
              "      <td>81572</td>\n",
              "      <td>637</td>\n",
              "      <td>1.0</td>\n",
              "    </tr>\n",
              "    <tr>\n",
              "      <th>3101</th>\n",
              "      <td>203854</td>\n",
              "      <td>81773</td>\n",
              "      <td>504</td>\n",
              "      <td>2.0</td>\n",
              "    </tr>\n",
              "    <tr>\n",
              "      <th>2215</th>\n",
              "      <td>203854</td>\n",
              "      <td>75694</td>\n",
              "      <td>437</td>\n",
              "      <td>3.0</td>\n",
              "    </tr>\n",
              "    <tr>\n",
              "      <th>684</th>\n",
              "      <td>203854</td>\n",
              "      <td>10437</td>\n",
              "      <td>377</td>\n",
              "      <td>4.0</td>\n",
              "    </tr>\n",
              "    <tr>\n",
              "      <th>1738</th>\n",
              "      <td>203854</td>\n",
              "      <td>70781</td>\n",
              "      <td>257</td>\n",
              "      <td>5.0</td>\n",
              "    </tr>\n",
              "  </tbody>\n",
              "</table style=\"display:inline;margin-left:50px !important;margin-right: 40px !important\">"
            ]
          },
          "metadata": {
            "tags": []
          }
        }
      ]
    },
    {
      "cell_type": "code",
      "metadata": {
        "trusted": false,
        "id": "_qAYNV3DCTLl",
        "colab": {
          "base_uri": "https://localhost:8080/"
        },
        "outputId": "9527f6aa-fe4c-4469-eb97-0c1f02609ba4"
      },
      "source": [
        "pr.predict_evaluate()"
      ],
      "execution_count": 40,
      "outputs": [
        {
          "output_type": "execute_result",
          "data": {
            "text/plain": [
              "11.022429686729375"
            ]
          },
          "metadata": {
            "tags": []
          },
          "execution_count": 40
        }
      ]
    },
    {
      "cell_type": "markdown",
      "metadata": {
        "id": "tcvAdjP-CTLl"
      },
      "source": [
        "<a id=\"a7a4\"></a>\n",
        "### Observations\n",
        "\n",
        "Since this is a popularity based recommender model, we are getting same result for all three users i.e. **the model is recommending same products for all the users**."
      ]
    },
    {
      "cell_type": "markdown",
      "metadata": {
        "id": "he4fzT2WCTLl"
      },
      "source": [
        "<a id=\"a7b\"></a>\n",
        "## b. Collaborative Filtering Recommender Model using SURPRISE Library"
      ]
    },
    {
      "cell_type": "markdown",
      "metadata": {
        "id": "ygcdyOXACTLm"
      },
      "source": [
        "Collaborative filtering is a method of making predictions about the interests of user by analysing the taste of users which are similar to the said user. The idea of filtering patterns by collaborating multiple viewpoints is why it is called collaborative filtering."
      ]
    },
    {
      "cell_type": "markdown",
      "metadata": {
        "id": "IpYM3DpgCTLm"
      },
      "source": [
        "<a id=\"a7b1\"></a>\n",
        "### Load Surprise Data from DataFrame"
      ]
    },
    {
      "cell_type": "code",
      "metadata": {
        "trusted": false,
        "id": "zwUQvd8vCTLm",
        "colab": {
          "base_uri": "https://localhost:8080/"
        },
        "outputId": "467a89d5-53df-4cb5-9ce1-c60e6b297189"
      },
      "source": [
        "!pip install surprise\n",
        "from surprise import accuracy\n",
        "from surprise.model_selection.validation import cross_validate\n",
        "from surprise.dataset import Dataset\n",
        "from surprise.reader import Reader\n",
        "from surprise import SVD\n",
        "from surprise import KNNBasic\n",
        "from surprise import KNNWithMeans\n",
        "reader = Reader()\n",
        "surprise_data = Dataset.load_from_df(electronics, reader)"
      ],
      "execution_count": 41,
      "outputs": [
        {
          "output_type": "stream",
          "text": [
            "Requirement already satisfied: surprise in /usr/local/lib/python3.7/dist-packages (0.1)\n",
            "Requirement already satisfied: scikit-surprise in /usr/local/lib/python3.7/dist-packages (from surprise) (1.1.1)\n",
            "Requirement already satisfied: joblib>=0.11 in /usr/local/lib/python3.7/dist-packages (from scikit-surprise->surprise) (1.0.1)\n",
            "Requirement already satisfied: scipy>=1.0.0 in /usr/local/lib/python3.7/dist-packages (from scikit-surprise->surprise) (1.4.1)\n",
            "Requirement already satisfied: numpy>=1.11.2 in /usr/local/lib/python3.7/dist-packages (from scikit-surprise->surprise) (1.19.5)\n",
            "Requirement already satisfied: six>=1.10.0 in /usr/local/lib/python3.7/dist-packages (from scikit-surprise->surprise) (1.15.0)\n"
          ],
          "name": "stdout"
        }
      ]
    },
    {
      "cell_type": "markdown",
      "metadata": {
        "id": "5EG4xwlMCTLm"
      },
      "source": [
        "<a id=\"a7b2\"></a>\n",
        "### Split the data into training and test set in the ratio of 70:30 respectively"
      ]
    },
    {
      "cell_type": "code",
      "metadata": {
        "trusted": false,
        "id": "3200_nzNCTLn"
      },
      "source": [
        "from surprise.model_selection import train_test_split\n",
        "trainset, testset = train_test_split(surprise_data, test_size=.3, random_state=10)"
      ],
      "execution_count": 42,
      "outputs": []
    },
    {
      "cell_type": "code",
      "metadata": {
        "trusted": false,
        "id": "JgWCYFZGCTLn"
      },
      "source": [
        "from collections import defaultdict\n",
        "\n",
        "def get_top_n(predictions, n=10):\n",
        "    # First map the predictions to each user.\n",
        "    top_n = defaultdict(list)\n",
        "    for uid, iid, true_r, est, _ in predictions:\n",
        "        top_n[uid].append((iid, est))\n",
        "\n",
        "    # Then sort the predictions for each user and retrieve the k highest ones.\n",
        "    for uid, user_ratings in top_n.items():\n",
        "        user_ratings.sort(key=lambda x: x[1], reverse=True)\n",
        "        top_n[uid] = user_ratings[:n]\n",
        "\n",
        "    return top_n"
      ],
      "execution_count": 43,
      "outputs": []
    },
    {
      "cell_type": "code",
      "metadata": {
        "trusted": false,
        "id": "DBiIt3yLCTLn"
      },
      "source": [
        "class collab_filtering_based_recommender_model():\n",
        "    def __init__(self, model, trainset, testset, data):\n",
        "        self.model = model\n",
        "        self.trainset = trainset\n",
        "        self.testset = testset\n",
        "        self.data = data\n",
        "        self.pred_test = None\n",
        "        self.recommendations = None\n",
        "        self.top_n = None\n",
        "        self.recommenddf = None\n",
        "\n",
        "    def fit_and_predict(self):        \n",
        "        printmd('**Fitting the train data...**', color='brown')\n",
        "        self.model.fit(self.trainset)       \n",
        "\n",
        "        printmd('**Predicting the test data...**', color='brown')\n",
        "        self.pred_test = self.model.test(self.testset)        \n",
        "        rmse = round(accuracy.rmse(self.pred_test), 3)\n",
        "        printmd('**RMSE for the predicted result is ' + str(rmse) + '**', color='brown')   \n",
        "        \n",
        "        self.top_n = get_top_n(self.pred_test)\n",
        "        self.recommenddf = pd.DataFrame(columns=['userId', 'productId', 'Rating'])\n",
        "        for item in self.top_n:\n",
        "            subdf = pd.DataFrame(self.top_n[item], columns=['productId', 'Rating'])\n",
        "            subdf['userId'] = item\n",
        "            cols = subdf.columns.tolist()\n",
        "            cols = cols[-1:] + cols[:-1]\n",
        "            subdf = subdf[cols]        \n",
        "            self.recommenddf = pd.concat([self.recommenddf, subdf], axis = 0)        \n",
        "        return rmse\n",
        "        \n",
        "    def cross_validate(self):\n",
        "        printmd('**Cross Validating the data...**', color='brown')\n",
        "        cv_result = cross_validate(self.model, self.data, n_jobs=-1)\n",
        "        cv_result = round(cv_result['test_rmse'].mean(),3)\n",
        "        printmd('**Mean CV RMSE is ' + str(cv_result)  + '**', color='brown')\n",
        "        return cv_result\n",
        "\n",
        "    def recommend(self, user_id, n=5):\n",
        "        printmd('**Recommending top ' + str(n)+ ' products for userid : ' + user_id + ' ...**', color='brown')\n",
        "        \n",
        "        #df = pd.DataFrame(self.top_n[user_id], columns=['productId', 'Rating'])\n",
        "        #df['UserId'] = user_id\n",
        "        #cols = df.columns.tolist()\n",
        "        #cols = cols[-1:] + cols[:-1]\n",
        "        #df = df[cols].head(n)\n",
        "        df = self.recommenddf[self.recommenddf['userId'] == user_id].head(n)\n",
        "        display(df)\n",
        "        return df\n",
        "        "
      ],
      "execution_count": 44,
      "outputs": []
    },
    {
      "cell_type": "code",
      "metadata": {
        "trusted": false,
        "id": "iGCxMIqnCTLn"
      },
      "source": [
        "from surprise.model_selection import RandomizedSearchCV\n",
        "\n",
        "def find_best_model(model, parameters,data):\n",
        "    clf = RandomizedSearchCV(model, parameters, n_jobs=1, measures=['rmse'])\n",
        "    clf.fit(data)             \n",
        "    print(clf.best_score)\n",
        "    print(clf.best_params)\n",
        "    print(clf.best_estimator)\n",
        "    return clf"
      ],
      "execution_count": 45,
      "outputs": []
    },
    {
      "cell_type": "markdown",
      "metadata": {
        "id": "f43jYtbZCTLo"
      },
      "source": [
        "<a id=\"a7b3\"></a>\n",
        "### KNN With Means - Memory Based Collaborative Filtering"
      ]
    },
    {
      "cell_type": "markdown",
      "metadata": {
        "id": "x8k4fxVlCTLo"
      },
      "source": [
        "**User-User Collaborative Filtering**\n",
        "\n",
        "To find the rating R that a user U would give to an item I, the approach includes:\n",
        "\n",
        "1. Finding users similar to U who have rated the item I<br>\n",
        "2. Calculating the rating R based the ratings of users found in the previous step\n",
        "\n",
        "Here we are using KNN with means to remove the bias by taking into account the mean ratings of each user."
      ]
    },
    {
      "cell_type": "markdown",
      "metadata": {
        "id": "w70_FzS3CTLo"
      },
      "source": [
        "<a id=\"a7b3a\"></a>\n",
        "#### Find optimal model using RandomizedSearchCV"
      ]
    },
    {
      "cell_type": "code",
      "metadata": {
        "trusted": false,
        "id": "j1s6GLdLCTLo",
        "colab": {
          "base_uri": "https://localhost:8080/"
        },
        "outputId": "2c703ef1-4b41-4b86-982b-e9e417744170"
      },
      "source": [
        "sim_options = {\n",
        "    \"name\": [\"msd\", \"cosine\", \"pearson\", \"pearson_baseline\"],\n",
        "    \"min_support\": [3, 4, 5],\n",
        "    \"user_based\": [True],\n",
        "}\n",
        "params = { 'k': range(3,5,1), 'sim_options': sim_options}\n",
        "clf = find_best_model(KNNWithMeans, params, surprise_data)"
      ],
      "execution_count": 46,
      "outputs": [
        {
          "output_type": "stream",
          "text": [
            "Computing the msd similarity matrix...\n",
            "Done computing similarity matrix.\n",
            "Computing the msd similarity matrix...\n",
            "Done computing similarity matrix.\n",
            "Computing the msd similarity matrix...\n",
            "Done computing similarity matrix.\n",
            "Computing the msd similarity matrix...\n",
            "Done computing similarity matrix.\n",
            "Computing the msd similarity matrix...\n",
            "Done computing similarity matrix.\n",
            "Computing the cosine similarity matrix...\n",
            "Done computing similarity matrix.\n",
            "Computing the cosine similarity matrix...\n",
            "Done computing similarity matrix.\n",
            "Computing the cosine similarity matrix...\n",
            "Done computing similarity matrix.\n",
            "Computing the cosine similarity matrix...\n",
            "Done computing similarity matrix.\n",
            "Computing the cosine similarity matrix...\n",
            "Done computing similarity matrix.\n",
            "Computing the msd similarity matrix...\n",
            "Done computing similarity matrix.\n",
            "Computing the msd similarity matrix...\n",
            "Done computing similarity matrix.\n",
            "Computing the msd similarity matrix...\n",
            "Done computing similarity matrix.\n",
            "Computing the msd similarity matrix...\n",
            "Done computing similarity matrix.\n",
            "Computing the msd similarity matrix...\n",
            "Done computing similarity matrix.\n",
            "Computing the cosine similarity matrix...\n",
            "Done computing similarity matrix.\n",
            "Computing the cosine similarity matrix...\n",
            "Done computing similarity matrix.\n",
            "Computing the cosine similarity matrix...\n",
            "Done computing similarity matrix.\n",
            "Computing the cosine similarity matrix...\n",
            "Done computing similarity matrix.\n",
            "Computing the cosine similarity matrix...\n",
            "Done computing similarity matrix.\n",
            "Computing the pearson similarity matrix...\n",
            "Done computing similarity matrix.\n",
            "Computing the pearson similarity matrix...\n",
            "Done computing similarity matrix.\n",
            "Computing the pearson similarity matrix...\n",
            "Done computing similarity matrix.\n",
            "Computing the pearson similarity matrix...\n",
            "Done computing similarity matrix.\n",
            "Computing the pearson similarity matrix...\n",
            "Done computing similarity matrix.\n",
            "Estimating biases using als...\n",
            "Computing the pearson_baseline similarity matrix...\n",
            "Done computing similarity matrix.\n",
            "Estimating biases using als...\n",
            "Computing the pearson_baseline similarity matrix...\n",
            "Done computing similarity matrix.\n",
            "Estimating biases using als...\n",
            "Computing the pearson_baseline similarity matrix...\n",
            "Done computing similarity matrix.\n",
            "Estimating biases using als...\n",
            "Computing the pearson_baseline similarity matrix...\n",
            "Done computing similarity matrix.\n",
            "Estimating biases using als...\n",
            "Computing the pearson_baseline similarity matrix...\n",
            "Done computing similarity matrix.\n",
            "Estimating biases using als...\n",
            "Computing the pearson_baseline similarity matrix...\n",
            "Done computing similarity matrix.\n",
            "Estimating biases using als...\n",
            "Computing the pearson_baseline similarity matrix...\n",
            "Done computing similarity matrix.\n",
            "Estimating biases using als...\n",
            "Computing the pearson_baseline similarity matrix...\n",
            "Done computing similarity matrix.\n",
            "Estimating biases using als...\n",
            "Computing the pearson_baseline similarity matrix...\n",
            "Done computing similarity matrix.\n",
            "Estimating biases using als...\n",
            "Computing the pearson_baseline similarity matrix...\n",
            "Done computing similarity matrix.\n",
            "Computing the pearson similarity matrix...\n",
            "Done computing similarity matrix.\n",
            "Computing the pearson similarity matrix...\n",
            "Done computing similarity matrix.\n",
            "Computing the pearson similarity matrix...\n",
            "Done computing similarity matrix.\n",
            "Computing the pearson similarity matrix...\n",
            "Done computing similarity matrix.\n",
            "Computing the pearson similarity matrix...\n",
            "Done computing similarity matrix.\n",
            "Computing the msd similarity matrix...\n",
            "Done computing similarity matrix.\n",
            "Computing the msd similarity matrix...\n",
            "Done computing similarity matrix.\n",
            "Computing the msd similarity matrix...\n",
            "Done computing similarity matrix.\n",
            "Computing the msd similarity matrix...\n",
            "Done computing similarity matrix.\n",
            "Computing the msd similarity matrix...\n",
            "Done computing similarity matrix.\n",
            "Estimating biases using als...\n",
            "Computing the pearson_baseline similarity matrix...\n",
            "Done computing similarity matrix.\n",
            "Estimating biases using als...\n",
            "Computing the pearson_baseline similarity matrix...\n",
            "Done computing similarity matrix.\n",
            "Estimating biases using als...\n",
            "Computing the pearson_baseline similarity matrix...\n",
            "Done computing similarity matrix.\n",
            "Estimating biases using als...\n",
            "Computing the pearson_baseline similarity matrix...\n",
            "Done computing similarity matrix.\n",
            "Estimating biases using als...\n",
            "Computing the pearson_baseline similarity matrix...\n",
            "Done computing similarity matrix.\n",
            "{'rmse': 10.008124807523664}\n",
            "{'rmse': {'k': 4, 'sim_options': {'name': 'msd', 'min_support': 4, 'user_based': True}}}\n",
            "{'rmse': <surprise.prediction_algorithms.knns.KNNWithMeans object at 0x7facfdb47410>}\n"
          ],
          "name": "stdout"
        }
      ]
    },
    {
      "cell_type": "markdown",
      "metadata": {
        "id": "tWnaqKCUCTLo"
      },
      "source": [
        "<a id=\"a7b3b\"></a>\n",
        "#### Initialize"
      ]
    },
    {
      "cell_type": "code",
      "metadata": {
        "trusted": false,
        "id": "xZhbc0QcCTLo"
      },
      "source": [
        "knnwithmeans = clf.best_estimator['rmse']\n",
        "col_fil_knnwithmeans = collab_filtering_based_recommender_model(knnwithmeans, trainset, testset, surprise_data)"
      ],
      "execution_count": 47,
      "outputs": []
    },
    {
      "cell_type": "markdown",
      "metadata": {
        "id": "PtQKTRT4CTLp"
      },
      "source": [
        "<a id=\"a7b3c\"></a>\n",
        "#### Fit and Predict"
      ]
    },
    {
      "cell_type": "code",
      "metadata": {
        "trusted": false,
        "id": "7Lr2MARpCTLp",
        "colab": {
          "base_uri": "https://localhost:8080/",
          "height": 156
        },
        "outputId": "e3ca49e9-321b-4d16-bcd1-101db5e6b792"
      },
      "source": [
        "knnwithmeans_rmse = col_fil_knnwithmeans.fit_and_predict()"
      ],
      "execution_count": 48,
      "outputs": [
        {
          "output_type": "display_data",
          "data": {
            "text/markdown": "<span style='color:brown'>**Fitting the train data...**</span>",
            "text/plain": [
              "<IPython.core.display.Markdown object>"
            ]
          },
          "metadata": {
            "tags": []
          }
        },
        {
          "output_type": "stream",
          "text": [
            "Computing the msd similarity matrix...\n",
            "Done computing similarity matrix.\n"
          ],
          "name": "stdout"
        },
        {
          "output_type": "display_data",
          "data": {
            "text/markdown": "<span style='color:brown'>**Predicting the test data...**</span>",
            "text/plain": [
              "<IPython.core.display.Markdown object>"
            ]
          },
          "metadata": {
            "tags": []
          }
        },
        {
          "output_type": "stream",
          "text": [
            "RMSE: 10.1785\n"
          ],
          "name": "stdout"
        },
        {
          "output_type": "display_data",
          "data": {
            "text/markdown": "<span style='color:brown'>**RMSE for the predicted result is 10.178**</span>",
            "text/plain": [
              "<IPython.core.display.Markdown object>"
            ]
          },
          "metadata": {
            "tags": []
          }
        }
      ]
    },
    {
      "cell_type": "markdown",
      "metadata": {
        "id": "FVqLPrNECTLp"
      },
      "source": [
        "<a id=\"a7b3d\"></a>\n",
        "#### Cross Validate"
      ]
    },
    {
      "cell_type": "code",
      "metadata": {
        "trusted": false,
        "id": "C_phNufcCTLp",
        "colab": {
          "base_uri": "https://localhost:8080/",
          "height": 67
        },
        "outputId": "2d5bbd86-587f-4552-b122-69400473c30b"
      },
      "source": [
        "knnwithmeans_cv_rmse = col_fil_knnwithmeans.cross_validate()"
      ],
      "execution_count": 49,
      "outputs": [
        {
          "output_type": "display_data",
          "data": {
            "text/markdown": "<span style='color:brown'>**Cross Validating the data...**</span>",
            "text/plain": [
              "<IPython.core.display.Markdown object>"
            ]
          },
          "metadata": {
            "tags": []
          }
        },
        {
          "output_type": "display_data",
          "data": {
            "text/markdown": "<span style='color:brown'>**Mean CV RMSE is 9.562**</span>",
            "text/plain": [
              "<IPython.core.display.Markdown object>"
            ]
          },
          "metadata": {
            "tags": []
          }
        }
      ]
    },
    {
      "cell_type": "markdown",
      "metadata": {
        "id": "L7ktx2PDCTLp"
      },
      "source": [
        "<a id=\"a7b3e\"></a>\n",
        "#### Recommend"
      ]
    },
    {
      "cell_type": "code",
      "metadata": {
        "trusted": false,
        "id": "ZJkhqCsOCTLq",
        "colab": {
          "base_uri": "https://localhost:8080/",
          "height": 376
        },
        "outputId": "ef61ce0d-9b94-4e16-83ca-78324e92677c"
      },
      "source": [
        "result_knn_user1 = col_fil_knnwithmeans.recommend(user_id='4756', n=5)\n",
        "result_knn_user2 = col_fil_knnwithmeans.recommend(user_id='5358', n=5)\n",
        "result_knn_user3 = col_fil_knnwithmeans.recommend(user_id='931', n=5)"
      ],
      "execution_count": 50,
      "outputs": [
        {
          "output_type": "display_data",
          "data": {
            "text/markdown": "<span style='color:brown'>**Recommending top 5 products for userid : 4756 ...**</span>",
            "text/plain": [
              "<IPython.core.display.Markdown object>"
            ]
          },
          "metadata": {
            "tags": []
          }
        },
        {
          "output_type": "display_data",
          "data": {
            "text/html": [
              "<div>\n",
              "<style scoped>\n",
              "    .dataframe tbody tr th:only-of-type {\n",
              "        vertical-align: middle;\n",
              "    }\n",
              "\n",
              "    .dataframe tbody tr th {\n",
              "        vertical-align: top;\n",
              "    }\n",
              "\n",
              "    .dataframe thead th {\n",
              "        text-align: right;\n",
              "    }\n",
              "</style>\n",
              "<table border=\"1\" class=\"dataframe\">\n",
              "  <thead>\n",
              "    <tr style=\"text-align: right;\">\n",
              "      <th></th>\n",
              "      <th>userId</th>\n",
              "      <th>productId</th>\n",
              "      <th>Rating</th>\n",
              "    </tr>\n",
              "  </thead>\n",
              "  <tbody>\n",
              "    <tr>\n",
              "      <th>0</th>\n",
              "      <td>4756</td>\n",
              "      <td>87962</td>\n",
              "      <td>1.5</td>\n",
              "    </tr>\n",
              "    <tr>\n",
              "      <th>1</th>\n",
              "      <td>4756</td>\n",
              "      <td>89022</td>\n",
              "      <td>1.5</td>\n",
              "    </tr>\n",
              "  </tbody>\n",
              "</table>\n",
              "</div>"
            ],
            "text/plain": [
              "  userId productId  Rating\n",
              "0   4756     87962     1.5\n",
              "1   4756     89022     1.5"
            ]
          },
          "metadata": {
            "tags": []
          }
        },
        {
          "output_type": "display_data",
          "data": {
            "text/markdown": "<span style='color:brown'>**Recommending top 5 products for userid : 5358 ...**</span>",
            "text/plain": [
              "<IPython.core.display.Markdown object>"
            ]
          },
          "metadata": {
            "tags": []
          }
        },
        {
          "output_type": "display_data",
          "data": {
            "text/html": [
              "<div>\n",
              "<style scoped>\n",
              "    .dataframe tbody tr th:only-of-type {\n",
              "        vertical-align: middle;\n",
              "    }\n",
              "\n",
              "    .dataframe tbody tr th {\n",
              "        vertical-align: top;\n",
              "    }\n",
              "\n",
              "    .dataframe thead th {\n",
              "        text-align: right;\n",
              "    }\n",
              "</style>\n",
              "<table border=\"1\" class=\"dataframe\">\n",
              "  <thead>\n",
              "    <tr style=\"text-align: right;\">\n",
              "      <th></th>\n",
              "      <th>userId</th>\n",
              "      <th>productId</th>\n",
              "      <th>Rating</th>\n",
              "    </tr>\n",
              "  </thead>\n",
              "  <tbody>\n",
              "    <tr>\n",
              "      <th>0</th>\n",
              "      <td>5358</td>\n",
              "      <td>84958</td>\n",
              "      <td>1.656231</td>\n",
              "    </tr>\n",
              "    <tr>\n",
              "      <th>1</th>\n",
              "      <td>5358</td>\n",
              "      <td>48853</td>\n",
              "      <td>1.500000</td>\n",
              "    </tr>\n",
              "  </tbody>\n",
              "</table>\n",
              "</div>"
            ],
            "text/plain": [
              "  userId productId    Rating\n",
              "0   5358     84958  1.656231\n",
              "1   5358     48853  1.500000"
            ]
          },
          "metadata": {
            "tags": []
          }
        },
        {
          "output_type": "display_data",
          "data": {
            "text/markdown": "<span style='color:brown'>**Recommending top 5 products for userid : 931 ...**</span>",
            "text/plain": [
              "<IPython.core.display.Markdown object>"
            ]
          },
          "metadata": {
            "tags": []
          }
        },
        {
          "output_type": "display_data",
          "data": {
            "text/html": [
              "<div>\n",
              "<style scoped>\n",
              "    .dataframe tbody tr th:only-of-type {\n",
              "        vertical-align: middle;\n",
              "    }\n",
              "\n",
              "    .dataframe tbody tr th {\n",
              "        vertical-align: top;\n",
              "    }\n",
              "\n",
              "    .dataframe thead th {\n",
              "        text-align: right;\n",
              "    }\n",
              "</style>\n",
              "<table border=\"1\" class=\"dataframe\">\n",
              "  <thead>\n",
              "    <tr style=\"text-align: right;\">\n",
              "      <th></th>\n",
              "      <th>userId</th>\n",
              "      <th>productId</th>\n",
              "      <th>Rating</th>\n",
              "    </tr>\n",
              "  </thead>\n",
              "  <tbody>\n",
              "    <tr>\n",
              "      <th>0</th>\n",
              "      <td>931</td>\n",
              "      <td>87965</td>\n",
              "      <td>1.0</td>\n",
              "    </tr>\n",
              "    <tr>\n",
              "      <th>1</th>\n",
              "      <td>931</td>\n",
              "      <td>57769</td>\n",
              "      <td>1.0</td>\n",
              "    </tr>\n",
              "  </tbody>\n",
              "</table>\n",
              "</div>"
            ],
            "text/plain": [
              "  userId productId  Rating\n",
              "0    931     87965     1.0\n",
              "1    931     57769     1.0"
            ]
          },
          "metadata": {
            "tags": []
          }
        }
      ]
    },
    {
      "cell_type": "markdown",
      "metadata": {
        "id": "ILF3RjJlCTLq"
      },
      "source": [
        "<a id=\"a7b3f\"></a>\n",
        "#### Observations\n",
        "\n",
        "**KNN (K-Nearest Neighbours) With Means** model has an test RMSE value of **1.04** and cross validation RMSE value of **1.037**. \n",
        "\n",
        "AS for the recommendations, **each user will have different products recommended to them** as they are infered based on the ratings provided by the similar users. To find the similar users, KNN model uses **cosine similarity or Pearson's correlation** to find the nerghbours. "
      ]
    },
    {
      "cell_type": "markdown",
      "metadata": {
        "id": "qXJ7-rWcCTLq"
      },
      "source": [
        "<a id=\"a7b4\"></a>\n",
        "### SVD - Model Based Collaborative Filtering"
      ]
    },
    {
      "cell_type": "markdown",
      "metadata": {
        "id": "HoSUL9EwCTLq"
      },
      "source": [
        "The **Singular-Value Decomposition, or SVD** for short, is a matrix decomposition method for reducing a matrix to its constituent parts in order to make certain subsequent matrix calculations simpler. It provides another way to factorize a matrix, into singular vectors and singular values.\n",
        "\n",
        "$A = U . Sigma . V^T$"
      ]
    },
    {
      "cell_type": "markdown",
      "metadata": {
        "id": "rauk2_fmCTLr"
      },
      "source": [
        "<a id=\"a7b4a\"></a>\n",
        "#### Find optimal model using RandomizedSearchCV"
      ]
    },
    {
      "cell_type": "code",
      "metadata": {
        "trusted": false,
        "id": "wdeiTlJLCTLr",
        "colab": {
          "base_uri": "https://localhost:8080/"
        },
        "outputId": "bb68158e-f5a2-4681-b324-d4dc198ce6bb"
      },
      "source": [
        "params= {\n",
        "    \"n_epochs\": [5, 10, 15, 20],\n",
        "    \"lr_all\": [0.002, 0.005],\n",
        "    \"reg_all\": [0.4, 0.6]\n",
        "}\n",
        "clf = find_best_model(SVD, params, surprise_data)"
      ],
      "execution_count": 51,
      "outputs": [
        {
          "output_type": "stream",
          "text": [
            "{'rmse': 9.685073709648558}\n",
            "{'rmse': {'n_epochs': 5, 'lr_all': 0.002, 'reg_all': 0.6}}\n",
            "{'rmse': <surprise.prediction_algorithms.matrix_factorization.SVD object at 0x7facf0023c90>}\n"
          ],
          "name": "stdout"
        }
      ]
    },
    {
      "cell_type": "markdown",
      "metadata": {
        "id": "V86W6UwLCTLr"
      },
      "source": [
        "<a id=\"a7b4b\"></a>\n",
        "#### Initialize"
      ]
    },
    {
      "cell_type": "code",
      "metadata": {
        "trusted": false,
        "id": "qNxWPV1ACTLr"
      },
      "source": [
        "svd = clf.best_estimator['rmse']\n",
        "col_fil_svd = collab_filtering_based_recommender_model(svd, trainset, testset, surprise_data)"
      ],
      "execution_count": 52,
      "outputs": []
    },
    {
      "cell_type": "markdown",
      "metadata": {
        "id": "LCQM3OmpCTLs"
      },
      "source": [
        "<a id=\"a7b4c\"></a>\n",
        "#### Fit and Predict"
      ]
    },
    {
      "cell_type": "code",
      "metadata": {
        "trusted": false,
        "id": "xCLV4BAHCTLs",
        "colab": {
          "base_uri": "https://localhost:8080/",
          "height": 114
        },
        "outputId": "6e750ce3-d973-43d3-ef1b-57b1bfa1b4b9"
      },
      "source": [
        "svd_rmse = col_fil_svd.fit_and_predict()"
      ],
      "execution_count": 53,
      "outputs": [
        {
          "output_type": "display_data",
          "data": {
            "text/markdown": "<span style='color:brown'>**Fitting the train data...**</span>",
            "text/plain": [
              "<IPython.core.display.Markdown object>"
            ]
          },
          "metadata": {
            "tags": []
          }
        },
        {
          "output_type": "display_data",
          "data": {
            "text/markdown": "<span style='color:brown'>**Predicting the test data...**</span>",
            "text/plain": [
              "<IPython.core.display.Markdown object>"
            ]
          },
          "metadata": {
            "tags": []
          }
        },
        {
          "output_type": "stream",
          "text": [
            "RMSE: 10.1735\n"
          ],
          "name": "stdout"
        },
        {
          "output_type": "display_data",
          "data": {
            "text/markdown": "<span style='color:brown'>**RMSE for the predicted result is 10.173**</span>",
            "text/plain": [
              "<IPython.core.display.Markdown object>"
            ]
          },
          "metadata": {
            "tags": []
          }
        }
      ]
    },
    {
      "cell_type": "markdown",
      "metadata": {
        "id": "Bt8QMwBcCTLs"
      },
      "source": [
        "<a id=\"a7b4d\"></a>\n",
        "#### Cross Validate"
      ]
    },
    {
      "cell_type": "code",
      "metadata": {
        "trusted": false,
        "id": "BtTd_8etCTLs",
        "colab": {
          "base_uri": "https://localhost:8080/",
          "height": 67
        },
        "outputId": "47173246-5830-4a30-bd73-dcf344025738"
      },
      "source": [
        "svd_cv_rmse = col_fil_svd.cross_validate()"
      ],
      "execution_count": 54,
      "outputs": [
        {
          "output_type": "display_data",
          "data": {
            "text/markdown": "<span style='color:brown'>**Cross Validating the data...**</span>",
            "text/plain": [
              "<IPython.core.display.Markdown object>"
            ]
          },
          "metadata": {
            "tags": []
          }
        },
        {
          "output_type": "display_data",
          "data": {
            "text/markdown": "<span style='color:brown'>**Mean CV RMSE is 9.612**</span>",
            "text/plain": [
              "<IPython.core.display.Markdown object>"
            ]
          },
          "metadata": {
            "tags": []
          }
        }
      ]
    },
    {
      "cell_type": "markdown",
      "metadata": {
        "id": "z4htzcqPCTLs"
      },
      "source": [
        "<a id=\"a7b4e\"></a>\n",
        "#### Recommend"
      ]
    },
    {
      "cell_type": "code",
      "metadata": {
        "trusted": false,
        "id": "-J0P4LoXCTLt",
        "colab": {
          "base_uri": "https://localhost:8080/",
          "height": 376
        },
        "outputId": "422089d3-4b43-4991-eec2-83010a3cf6a9"
      },
      "source": [
        "result_svd_user1 = col_fil_svd.recommend(user_id='4756', n=5)\n",
        "result_svd_user2 = col_fil_svd.recommend(user_id='5358', n=5)\n",
        "result_svd_user3 = col_fil_svd.recommend(user_id='931', n=5)"
      ],
      "execution_count": 55,
      "outputs": [
        {
          "output_type": "display_data",
          "data": {
            "text/markdown": "<span style='color:brown'>**Recommending top 5 products for userid : 4756 ...**</span>",
            "text/plain": [
              "<IPython.core.display.Markdown object>"
            ]
          },
          "metadata": {
            "tags": []
          }
        },
        {
          "output_type": "display_data",
          "data": {
            "text/html": [
              "<div>\n",
              "<style scoped>\n",
              "    .dataframe tbody tr th:only-of-type {\n",
              "        vertical-align: middle;\n",
              "    }\n",
              "\n",
              "    .dataframe tbody tr th {\n",
              "        vertical-align: top;\n",
              "    }\n",
              "\n",
              "    .dataframe thead th {\n",
              "        text-align: right;\n",
              "    }\n",
              "</style>\n",
              "<table border=\"1\" class=\"dataframe\">\n",
              "  <thead>\n",
              "    <tr style=\"text-align: right;\">\n",
              "      <th></th>\n",
              "      <th>userId</th>\n",
              "      <th>productId</th>\n",
              "      <th>Rating</th>\n",
              "    </tr>\n",
              "  </thead>\n",
              "  <tbody>\n",
              "    <tr>\n",
              "      <th>0</th>\n",
              "      <td>4756</td>\n",
              "      <td>89022</td>\n",
              "      <td>1.740036</td>\n",
              "    </tr>\n",
              "    <tr>\n",
              "      <th>1</th>\n",
              "      <td>4756</td>\n",
              "      <td>87962</td>\n",
              "      <td>1.390244</td>\n",
              "    </tr>\n",
              "  </tbody>\n",
              "</table>\n",
              "</div>"
            ],
            "text/plain": [
              "  userId productId    Rating\n",
              "0   4756     89022  1.740036\n",
              "1   4756     87962  1.390244"
            ]
          },
          "metadata": {
            "tags": []
          }
        },
        {
          "output_type": "display_data",
          "data": {
            "text/markdown": "<span style='color:brown'>**Recommending top 5 products for userid : 5358 ...**</span>",
            "text/plain": [
              "<IPython.core.display.Markdown object>"
            ]
          },
          "metadata": {
            "tags": []
          }
        },
        {
          "output_type": "display_data",
          "data": {
            "text/html": [
              "<div>\n",
              "<style scoped>\n",
              "    .dataframe tbody tr th:only-of-type {\n",
              "        vertical-align: middle;\n",
              "    }\n",
              "\n",
              "    .dataframe tbody tr th {\n",
              "        vertical-align: top;\n",
              "    }\n",
              "\n",
              "    .dataframe thead th {\n",
              "        text-align: right;\n",
              "    }\n",
              "</style>\n",
              "<table border=\"1\" class=\"dataframe\">\n",
              "  <thead>\n",
              "    <tr style=\"text-align: right;\">\n",
              "      <th></th>\n",
              "      <th>userId</th>\n",
              "      <th>productId</th>\n",
              "      <th>Rating</th>\n",
              "    </tr>\n",
              "  </thead>\n",
              "  <tbody>\n",
              "    <tr>\n",
              "      <th>0</th>\n",
              "      <td>5358</td>\n",
              "      <td>84958</td>\n",
              "      <td>1.651380</td>\n",
              "    </tr>\n",
              "    <tr>\n",
              "      <th>1</th>\n",
              "      <td>5358</td>\n",
              "      <td>48853</td>\n",
              "      <td>1.583026</td>\n",
              "    </tr>\n",
              "  </tbody>\n",
              "</table>\n",
              "</div>"
            ],
            "text/plain": [
              "  userId productId    Rating\n",
              "0   5358     84958  1.651380\n",
              "1   5358     48853  1.583026"
            ]
          },
          "metadata": {
            "tags": []
          }
        },
        {
          "output_type": "display_data",
          "data": {
            "text/markdown": "<span style='color:brown'>**Recommending top 5 products for userid : 931 ...**</span>",
            "text/plain": [
              "<IPython.core.display.Markdown object>"
            ]
          },
          "metadata": {
            "tags": []
          }
        },
        {
          "output_type": "display_data",
          "data": {
            "text/html": [
              "<div>\n",
              "<style scoped>\n",
              "    .dataframe tbody tr th:only-of-type {\n",
              "        vertical-align: middle;\n",
              "    }\n",
              "\n",
              "    .dataframe tbody tr th {\n",
              "        vertical-align: top;\n",
              "    }\n",
              "\n",
              "    .dataframe thead th {\n",
              "        text-align: right;\n",
              "    }\n",
              "</style>\n",
              "<table border=\"1\" class=\"dataframe\">\n",
              "  <thead>\n",
              "    <tr style=\"text-align: right;\">\n",
              "      <th></th>\n",
              "      <th>userId</th>\n",
              "      <th>productId</th>\n",
              "      <th>Rating</th>\n",
              "    </tr>\n",
              "  </thead>\n",
              "  <tbody>\n",
              "    <tr>\n",
              "      <th>0</th>\n",
              "      <td>931</td>\n",
              "      <td>57769</td>\n",
              "      <td>1.853999</td>\n",
              "    </tr>\n",
              "    <tr>\n",
              "      <th>1</th>\n",
              "      <td>931</td>\n",
              "      <td>87965</td>\n",
              "      <td>1.463346</td>\n",
              "    </tr>\n",
              "  </tbody>\n",
              "</table>\n",
              "</div>"
            ],
            "text/plain": [
              "  userId productId    Rating\n",
              "0    931     57769  1.853999\n",
              "1    931     87965  1.463346"
            ]
          },
          "metadata": {
            "tags": []
          }
        }
      ]
    },
    {
      "cell_type": "markdown",
      "metadata": {
        "id": "z8V4WPVgCTLt"
      },
      "source": [
        "<a id=\"a7b4f\"></a>\n",
        "#### Observations\n",
        "\n",
        "SVD (Singular Value Decomposition) model has an test RMSE value of **0.99** and cross validation RMSE value of **0.981**. Using this model we have a reduced RMSE value compared to KNNWithMeans.\n",
        "\n",
        "AS for the recommendations, **each user will have different products recommended to them** as they are infered by filling out missing entries in the matrix during matrix factorization using SVD."
      ]
    },
    {
      "cell_type": "markdown",
      "metadata": {
        "id": "QbDX1f0xCTLt"
      },
      "source": [
        "<a id=\"a7b5\"></a>\n",
        "### Other SURPRISE algorithms"
      ]
    },
    {
      "cell_type": "code",
      "metadata": {
        "trusted": false,
        "id": "Z5Npfq4jCTLt",
        "colab": {
          "base_uri": "https://localhost:8080/",
          "height": 968
        },
        "outputId": "226cd06c-b884-41c5-bc03-4815104b1464"
      },
      "source": [
        "from surprise import NMF\n",
        "from surprise import KNNBaseline\n",
        "from surprise import KNNBasic\n",
        "from surprise import KNNWithZScore\n",
        "from surprise import BaselineOnly\n",
        "from surprise import CoClustering\n",
        "benchmark = []\n",
        "# Iterate over all algorithms\n",
        "for algorithm in [NMF(), KNNBaseline(), KNNBasic(), KNNWithZScore(), BaselineOnly(), CoClustering()]:\n",
        "    # Perform cross validation\n",
        "    results = cross_validate(algorithm, surprise_data, measures=['RMSE'], cv=5, verbose=False)\n",
        "    \n",
        "    # Get results & append algorithm name\n",
        "    tmp = pd.DataFrame.from_dict(results).mean(axis=0)\n",
        "    tmp = tmp.append(pd.Series([str(algorithm).split(' ')[0].split('.')[-1]], index=['Algorithm']))\n",
        "    benchmark.append(tmp)\n",
        "    \n",
        "pd.DataFrame(benchmark).set_index('Algorithm').sort_values('test_rmse') "
      ],
      "execution_count": 56,
      "outputs": [
        {
          "output_type": "stream",
          "text": [
            "Estimating biases using als...\n",
            "Computing the msd similarity matrix...\n",
            "Done computing similarity matrix.\n",
            "Estimating biases using als...\n",
            "Computing the msd similarity matrix...\n",
            "Done computing similarity matrix.\n",
            "Estimating biases using als...\n",
            "Computing the msd similarity matrix...\n",
            "Done computing similarity matrix.\n",
            "Estimating biases using als...\n",
            "Computing the msd similarity matrix...\n",
            "Done computing similarity matrix.\n",
            "Estimating biases using als...\n",
            "Computing the msd similarity matrix...\n",
            "Done computing similarity matrix.\n",
            "Computing the msd similarity matrix...\n",
            "Done computing similarity matrix.\n",
            "Computing the msd similarity matrix...\n",
            "Done computing similarity matrix.\n",
            "Computing the msd similarity matrix...\n",
            "Done computing similarity matrix.\n",
            "Computing the msd similarity matrix...\n",
            "Done computing similarity matrix.\n",
            "Computing the msd similarity matrix...\n",
            "Done computing similarity matrix.\n",
            "Computing the msd similarity matrix...\n",
            "Done computing similarity matrix.\n",
            "Computing the msd similarity matrix...\n",
            "Done computing similarity matrix.\n",
            "Computing the msd similarity matrix...\n",
            "Done computing similarity matrix.\n",
            "Computing the msd similarity matrix...\n",
            "Done computing similarity matrix.\n",
            "Computing the msd similarity matrix...\n",
            "Done computing similarity matrix.\n",
            "Estimating biases using als...\n",
            "Estimating biases using als...\n",
            "Estimating biases using als...\n",
            "Estimating biases using als...\n",
            "Estimating biases using als...\n"
          ],
          "name": "stdout"
        },
        {
          "output_type": "execute_result",
          "data": {
            "text/html": [
              "<div>\n",
              "<style scoped>\n",
              "    .dataframe tbody tr th:only-of-type {\n",
              "        vertical-align: middle;\n",
              "    }\n",
              "\n",
              "    .dataframe tbody tr th {\n",
              "        vertical-align: top;\n",
              "    }\n",
              "\n",
              "    .dataframe thead th {\n",
              "        text-align: right;\n",
              "    }\n",
              "</style>\n",
              "<table border=\"1\" class=\"dataframe\">\n",
              "  <thead>\n",
              "    <tr style=\"text-align: right;\">\n",
              "      <th></th>\n",
              "      <th>test_rmse</th>\n",
              "      <th>fit_time</th>\n",
              "      <th>test_time</th>\n",
              "    </tr>\n",
              "    <tr>\n",
              "      <th>Algorithm</th>\n",
              "      <th></th>\n",
              "      <th></th>\n",
              "      <th></th>\n",
              "    </tr>\n",
              "  </thead>\n",
              "  <tbody>\n",
              "    <tr>\n",
              "      <th>KNNBaseline</th>\n",
              "      <td>9.752597</td>\n",
              "      <td>4.433696</td>\n",
              "      <td>0.442467</td>\n",
              "    </tr>\n",
              "    <tr>\n",
              "      <th>BaselineOnly</th>\n",
              "      <td>9.819905</td>\n",
              "      <td>0.139167</td>\n",
              "      <td>0.042793</td>\n",
              "    </tr>\n",
              "    <tr>\n",
              "      <th>CoClustering</th>\n",
              "      <td>9.983282</td>\n",
              "      <td>2.505966</td>\n",
              "      <td>0.040659</td>\n",
              "    </tr>\n",
              "    <tr>\n",
              "      <th>NMF</th>\n",
              "      <td>10.028864</td>\n",
              "      <td>3.523696</td>\n",
              "      <td>0.080630</td>\n",
              "    </tr>\n",
              "    <tr>\n",
              "      <th>KNNBasic</th>\n",
              "      <td>10.058804</td>\n",
              "      <td>4.339403</td>\n",
              "      <td>0.494504</td>\n",
              "    </tr>\n",
              "    <tr>\n",
              "      <th>KNNWithZScore</th>\n",
              "      <td>10.321241</td>\n",
              "      <td>4.581219</td>\n",
              "      <td>0.412943</td>\n",
              "    </tr>\n",
              "  </tbody>\n",
              "</table>\n",
              "</div>"
            ],
            "text/plain": [
              "               test_rmse  fit_time  test_time\n",
              "Algorithm                                    \n",
              "KNNBaseline     9.752597  4.433696   0.442467\n",
              "BaselineOnly    9.819905  0.139167   0.042793\n",
              "CoClustering    9.983282  2.505966   0.040659\n",
              "NMF            10.028864  3.523696   0.080630\n",
              "KNNBasic       10.058804  4.339403   0.494504\n",
              "KNNWithZScore  10.321241  4.581219   0.412943"
            ]
          },
          "metadata": {
            "tags": []
          },
          "execution_count": 56
        }
      ]
    },
    {
      "cell_type": "markdown",
      "metadata": {
        "id": "26SJWglZCTLt"
      },
      "source": [
        "<a id=\"a7b5a\"></a>\n",
        "#### Observations\n",
        "\n",
        "Looking at the above result, we can say BaselineOnly model works well with the data as it is having the least RMSE score of 0.979."
      ]
    },
    {
      "cell_type": "markdown",
      "metadata": {
        "id": "gD7mAxH5CTLu"
      },
      "source": [
        "<a id=\"a8\"></a>\n",
        "# Conclusion"
      ]
    },
    {
      "cell_type": "markdown",
      "metadata": {
        "id": "mHl_QRtMCTLu"
      },
      "source": [
        "**Recommender systems** are algorithms aimed at suggesting relevant items to users (items being movies to watch, text to read, products to buy or anything else depending on industries). Recommender systems are really critical in some industries as they can generate a huge amount of income when they are efficient or also be a way to stand out significantly from competitors.\n",
        "\n",
        "We have used 2 different types here,\n",
        "\n",
        "1. Popularity Based Recommender System\n",
        "2. Collaborative Filtering Recommender System\n",
        "\n",
        "Below are the recommended results of same 3 users picked at random for all the models,"
      ]
    },
    {
      "cell_type": "markdown",
      "metadata": {
        "id": "4-nbqQD3CTLu"
      },
      "source": [
        "<a id=\"a8a\"></a>\n",
        "## Popularity Based Recommendation Model"
      ]
    },
    {
      "cell_type": "markdown",
      "metadata": {
        "id": "be7qaJTkCTLu"
      },
      "source": [
        "Being popularity based recommender model, we have got the same result for all three users i.e. **the model is recommending same products for all the users** as shown below,"
      ]
    },
    {
      "cell_type": "code",
      "metadata": {
        "trusted": false,
        "id": "MVaGejquCTLv",
        "colab": {
          "base_uri": "https://localhost:8080/",
          "height": 378
        },
        "outputId": "1cbf9aa6-f21c-4f90-d46e-5cdaec7fc960"
      },
      "source": [
        "display_side_by_side([result_pop_user1, result_pop_user2, result_pop_user3])"
      ],
      "execution_count": 57,
      "outputs": [
        {
          "output_type": "display_data",
          "data": {
            "text/html": [
              "<table style=\"display:inline;margin-left:50px !important;margin-right: 40px !important\" border=\"1\" class=\"dataframe\">\n",
              "  <thead>\n",
              "    <tr style=\"text-align: right;\">\n",
              "      <th></th>\n",
              "      <th>user_id</th>\n",
              "      <th>productId</th>\n",
              "      <th>score</th>\n",
              "      <th>Rank</th>\n",
              "    </tr>\n",
              "  </thead>\n",
              "  <tbody>\n",
              "    <tr>\n",
              "      <th>3073</th>\n",
              "      <td>254</td>\n",
              "      <td>81572</td>\n",
              "      <td>637</td>\n",
              "      <td>1.0</td>\n",
              "    </tr>\n",
              "    <tr>\n",
              "      <th>3101</th>\n",
              "      <td>254</td>\n",
              "      <td>81773</td>\n",
              "      <td>504</td>\n",
              "      <td>2.0</td>\n",
              "    </tr>\n",
              "    <tr>\n",
              "      <th>2215</th>\n",
              "      <td>254</td>\n",
              "      <td>75694</td>\n",
              "      <td>437</td>\n",
              "      <td>3.0</td>\n",
              "    </tr>\n",
              "    <tr>\n",
              "      <th>684</th>\n",
              "      <td>254</td>\n",
              "      <td>10437</td>\n",
              "      <td>377</td>\n",
              "      <td>4.0</td>\n",
              "    </tr>\n",
              "    <tr>\n",
              "      <th>1738</th>\n",
              "      <td>254</td>\n",
              "      <td>70781</td>\n",
              "      <td>257</td>\n",
              "      <td>5.0</td>\n",
              "    </tr>\n",
              "  </tbody>\n",
              "</table style=\"display:inline;margin-left:50px !important;margin-right: 40px !important\"><table style=\"display:inline;margin-left:50px !important;margin-right: 40px !important\" border=\"1\" class=\"dataframe\">\n",
              "  <thead>\n",
              "    <tr style=\"text-align: right;\">\n",
              "      <th></th>\n",
              "      <th>user_id</th>\n",
              "      <th>productId</th>\n",
              "      <th>score</th>\n",
              "      <th>Rank</th>\n",
              "    </tr>\n",
              "  </thead>\n",
              "  <tbody>\n",
              "    <tr>\n",
              "      <th>3073</th>\n",
              "      <td>3372</td>\n",
              "      <td>81572</td>\n",
              "      <td>637</td>\n",
              "      <td>1.0</td>\n",
              "    </tr>\n",
              "    <tr>\n",
              "      <th>3101</th>\n",
              "      <td>3372</td>\n",
              "      <td>81773</td>\n",
              "      <td>504</td>\n",
              "      <td>2.0</td>\n",
              "    </tr>\n",
              "    <tr>\n",
              "      <th>2215</th>\n",
              "      <td>3372</td>\n",
              "      <td>75694</td>\n",
              "      <td>437</td>\n",
              "      <td>3.0</td>\n",
              "    </tr>\n",
              "    <tr>\n",
              "      <th>684</th>\n",
              "      <td>3372</td>\n",
              "      <td>10437</td>\n",
              "      <td>377</td>\n",
              "      <td>4.0</td>\n",
              "    </tr>\n",
              "    <tr>\n",
              "      <th>1738</th>\n",
              "      <td>3372</td>\n",
              "      <td>70781</td>\n",
              "      <td>257</td>\n",
              "      <td>5.0</td>\n",
              "    </tr>\n",
              "  </tbody>\n",
              "</table style=\"display:inline;margin-left:50px !important;margin-right: 40px !important\"><table style=\"display:inline;margin-left:50px !important;margin-right: 40px !important\" border=\"1\" class=\"dataframe\">\n",
              "  <thead>\n",
              "    <tr style=\"text-align: right;\">\n",
              "      <th></th>\n",
              "      <th>user_id</th>\n",
              "      <th>productId</th>\n",
              "      <th>score</th>\n",
              "      <th>Rank</th>\n",
              "    </tr>\n",
              "  </thead>\n",
              "  <tbody>\n",
              "    <tr>\n",
              "      <th>3073</th>\n",
              "      <td>203854</td>\n",
              "      <td>81572</td>\n",
              "      <td>637</td>\n",
              "      <td>1.0</td>\n",
              "    </tr>\n",
              "    <tr>\n",
              "      <th>3101</th>\n",
              "      <td>203854</td>\n",
              "      <td>81773</td>\n",
              "      <td>504</td>\n",
              "      <td>2.0</td>\n",
              "    </tr>\n",
              "    <tr>\n",
              "      <th>2215</th>\n",
              "      <td>203854</td>\n",
              "      <td>75694</td>\n",
              "      <td>437</td>\n",
              "      <td>3.0</td>\n",
              "    </tr>\n",
              "    <tr>\n",
              "      <th>684</th>\n",
              "      <td>203854</td>\n",
              "      <td>10437</td>\n",
              "      <td>377</td>\n",
              "      <td>4.0</td>\n",
              "    </tr>\n",
              "    <tr>\n",
              "      <th>1738</th>\n",
              "      <td>203854</td>\n",
              "      <td>70781</td>\n",
              "      <td>257</td>\n",
              "      <td>5.0</td>\n",
              "    </tr>\n",
              "  </tbody>\n",
              "</table style=\"display:inline;margin-left:50px !important;margin-right: 40px !important\">"
            ]
          },
          "metadata": {
            "tags": []
          }
        }
      ]
    },
    {
      "cell_type": "markdown",
      "metadata": {
        "id": "glc_2AC5CTLv"
      },
      "source": [
        "<a id=\"a8b\"></a>\n",
        "## Collaborative Filtering Recommendation Model"
      ]
    },
    {
      "cell_type": "markdown",
      "metadata": {
        "id": "ZZRJ4UzcCTLv"
      },
      "source": [
        "<a id=\"a8b1\"></a>\n",
        "### KNNWithMeans Model"
      ]
    },
    {
      "cell_type": "markdown",
      "metadata": {
        "id": "1xOmWN5PCTLw"
      },
      "source": [
        "**KNN (K-Nearest Neighbours) With Means** model has an test RMSE value of **1.04** and cross validation RMSE value of **1.037. Each user will have different products recommended to them** as they are infered based on the ratings provided by the similar users."
      ]
    },
    {
      "cell_type": "code",
      "metadata": {
        "trusted": false,
        "id": "FC8mejlFCTLw",
        "colab": {
          "base_uri": "https://localhost:8080/",
          "height": 107
        },
        "outputId": "d09d7350-a0d0-4d77-8b2c-7eea09ae7c31"
      },
      "source": [
        "display_side_by_side([result_knn_user1, result_knn_user2, result_knn_user3])"
      ],
      "execution_count": 58,
      "outputs": [
        {
          "output_type": "display_data",
          "data": {
            "text/html": [
              "<table style=\"display:inline;margin-left:50px !important;margin-right: 40px !important\" border=\"1\" class=\"dataframe\">\n",
              "  <thead>\n",
              "    <tr style=\"text-align: right;\">\n",
              "      <th></th>\n",
              "      <th>userId</th>\n",
              "      <th>productId</th>\n",
              "      <th>Rating</th>\n",
              "    </tr>\n",
              "  </thead>\n",
              "  <tbody>\n",
              "    <tr>\n",
              "      <th>0</th>\n",
              "      <td>4756</td>\n",
              "      <td>87962</td>\n",
              "      <td>1.5</td>\n",
              "    </tr>\n",
              "    <tr>\n",
              "      <th>1</th>\n",
              "      <td>4756</td>\n",
              "      <td>89022</td>\n",
              "      <td>1.5</td>\n",
              "    </tr>\n",
              "  </tbody>\n",
              "</table style=\"display:inline;margin-left:50px !important;margin-right: 40px !important\"><table style=\"display:inline;margin-left:50px !important;margin-right: 40px !important\" border=\"1\" class=\"dataframe\">\n",
              "  <thead>\n",
              "    <tr style=\"text-align: right;\">\n",
              "      <th></th>\n",
              "      <th>userId</th>\n",
              "      <th>productId</th>\n",
              "      <th>Rating</th>\n",
              "    </tr>\n",
              "  </thead>\n",
              "  <tbody>\n",
              "    <tr>\n",
              "      <th>0</th>\n",
              "      <td>5358</td>\n",
              "      <td>84958</td>\n",
              "      <td>1.656231</td>\n",
              "    </tr>\n",
              "    <tr>\n",
              "      <th>1</th>\n",
              "      <td>5358</td>\n",
              "      <td>48853</td>\n",
              "      <td>1.500000</td>\n",
              "    </tr>\n",
              "  </tbody>\n",
              "</table style=\"display:inline;margin-left:50px !important;margin-right: 40px !important\"><table style=\"display:inline;margin-left:50px !important;margin-right: 40px !important\" border=\"1\" class=\"dataframe\">\n",
              "  <thead>\n",
              "    <tr style=\"text-align: right;\">\n",
              "      <th></th>\n",
              "      <th>userId</th>\n",
              "      <th>productId</th>\n",
              "      <th>Rating</th>\n",
              "    </tr>\n",
              "  </thead>\n",
              "  <tbody>\n",
              "    <tr>\n",
              "      <th>0</th>\n",
              "      <td>931</td>\n",
              "      <td>87965</td>\n",
              "      <td>1.0</td>\n",
              "    </tr>\n",
              "    <tr>\n",
              "      <th>1</th>\n",
              "      <td>931</td>\n",
              "      <td>57769</td>\n",
              "      <td>1.0</td>\n",
              "    </tr>\n",
              "  </tbody>\n",
              "</table style=\"display:inline;margin-left:50px !important;margin-right: 40px !important\">"
            ]
          },
          "metadata": {
            "tags": []
          }
        }
      ]
    },
    {
      "cell_type": "markdown",
      "metadata": {
        "id": "32xfUBt-CTLx"
      },
      "source": [
        "<a id=\"a8b2\"></a>\n",
        "### SVD Model"
      ]
    },
    {
      "cell_type": "markdown",
      "metadata": {
        "id": "6dxILCZvCTLx"
      },
      "source": [
        "**SVD (Singular Value Decomposition) model** has an test RMSE value of **0.99** and cross validation RMSE value of **0.981**. Each user will have different products recommended to them."
      ]
    },
    {
      "cell_type": "code",
      "metadata": {
        "trusted": false,
        "id": "EwytNYRHCTLx",
        "colab": {
          "base_uri": "https://localhost:8080/",
          "height": 107
        },
        "outputId": "f98429fc-4bfc-47cd-cc7a-6954eca8c57f"
      },
      "source": [
        "display_side_by_side([result_svd_user1, result_svd_user2, result_svd_user3])"
      ],
      "execution_count": 59,
      "outputs": [
        {
          "output_type": "display_data",
          "data": {
            "text/html": [
              "<table style=\"display:inline;margin-left:50px !important;margin-right: 40px !important\" border=\"1\" class=\"dataframe\">\n",
              "  <thead>\n",
              "    <tr style=\"text-align: right;\">\n",
              "      <th></th>\n",
              "      <th>userId</th>\n",
              "      <th>productId</th>\n",
              "      <th>Rating</th>\n",
              "    </tr>\n",
              "  </thead>\n",
              "  <tbody>\n",
              "    <tr>\n",
              "      <th>0</th>\n",
              "      <td>4756</td>\n",
              "      <td>89022</td>\n",
              "      <td>1.740036</td>\n",
              "    </tr>\n",
              "    <tr>\n",
              "      <th>1</th>\n",
              "      <td>4756</td>\n",
              "      <td>87962</td>\n",
              "      <td>1.390244</td>\n",
              "    </tr>\n",
              "  </tbody>\n",
              "</table style=\"display:inline;margin-left:50px !important;margin-right: 40px !important\"><table style=\"display:inline;margin-left:50px !important;margin-right: 40px !important\" border=\"1\" class=\"dataframe\">\n",
              "  <thead>\n",
              "    <tr style=\"text-align: right;\">\n",
              "      <th></th>\n",
              "      <th>userId</th>\n",
              "      <th>productId</th>\n",
              "      <th>Rating</th>\n",
              "    </tr>\n",
              "  </thead>\n",
              "  <tbody>\n",
              "    <tr>\n",
              "      <th>0</th>\n",
              "      <td>5358</td>\n",
              "      <td>84958</td>\n",
              "      <td>1.651380</td>\n",
              "    </tr>\n",
              "    <tr>\n",
              "      <th>1</th>\n",
              "      <td>5358</td>\n",
              "      <td>48853</td>\n",
              "      <td>1.583026</td>\n",
              "    </tr>\n",
              "  </tbody>\n",
              "</table style=\"display:inline;margin-left:50px !important;margin-right: 40px !important\"><table style=\"display:inline;margin-left:50px !important;margin-right: 40px !important\" border=\"1\" class=\"dataframe\">\n",
              "  <thead>\n",
              "    <tr style=\"text-align: right;\">\n",
              "      <th></th>\n",
              "      <th>userId</th>\n",
              "      <th>productId</th>\n",
              "      <th>Rating</th>\n",
              "    </tr>\n",
              "  </thead>\n",
              "  <tbody>\n",
              "    <tr>\n",
              "      <th>0</th>\n",
              "      <td>931</td>\n",
              "      <td>57769</td>\n",
              "      <td>1.853999</td>\n",
              "    </tr>\n",
              "    <tr>\n",
              "      <th>1</th>\n",
              "      <td>931</td>\n",
              "      <td>87965</td>\n",
              "      <td>1.463346</td>\n",
              "    </tr>\n",
              "  </tbody>\n",
              "</table style=\"display:inline;margin-left:50px !important;margin-right: 40px !important\">"
            ]
          },
          "metadata": {
            "tags": []
          }
        }
      ]
    },
    {
      "cell_type": "markdown",
      "metadata": {
        "id": "EpABzoFsCTLy"
      },
      "source": [
        "**SVD** is better model compared to KNN or Popularity with a better RMSE value of **0.981**. We can also see the products that are recommended in SVD is different to that of KNNWithMeans as SVD uses matrix factorization. This is more useful when the data is sparse with many missing ratings. "
      ]
    },
    {
      "cell_type": "markdown",
      "metadata": {
        "id": "VU7MhhBZCTLy"
      },
      "source": [
        "# END"
      ]
    }
  ]
}